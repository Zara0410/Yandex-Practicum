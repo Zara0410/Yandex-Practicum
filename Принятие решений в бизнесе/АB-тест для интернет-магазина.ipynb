{
 "cells": [
  {
   "cell_type": "markdown",
   "metadata": {},
   "source": [
    "# A/B-тест для интернет-магазина"
   ]
  },
  {
   "cell_type": "markdown",
   "metadata": {},
   "source": [
    "##  Описание проекта"
   ]
  },
  {
   "cell_type": "markdown",
   "metadata": {},
   "source": [
    "Крупному интернет-магазину вместе с отделом маркетинга необходимо подготовить список гипотез для увеличения выручки.\n",
    "Приоритизируем гипотезы, запустим A/B-тест и проанализируем результаты. \n",
    "\n",
    "**Описание данных**\n",
    "\n",
    "Данные для первой части\n",
    "\n",
    "Файл /datasets/hypothesis.csv. \n",
    "\n",
    "- Hypothesis — краткое описание гипотезы;\n",
    "- Reach — охват пользователей по 10-балльной шкале;\n",
    "- Impact — влияние на пользователей по 10-балльной шкале;\n",
    "- Confidence — уверенность в гипотезе по 10-балльной шкале;\n",
    "- Efforts — затраты ресурсов на проверку гипотезы по 10-балльной шкале. Чем больше значение Efforts, тем дороже проверка гипотезы.\n",
    "\n",
    "Данные для второй части\n",
    "\n",
    "Файл /datasets/orders.csv. \n",
    "\n",
    "- transactionId — идентификатор заказа;\n",
    "- visitorId — идентификатор пользователя, совершившего заказ;\n",
    "- date — дата, когда был совершён заказ;\n",
    "- revenue — выручка заказа;\n",
    "- group — группа A/B-теста, в которую попал заказ.\n",
    "\n",
    "Файл /datasets/visitors.csv.\n",
    "\n",
    "- date — дата;\n",
    "- group — группа A/B-теста;\n",
    "- visitors — количество пользователей в указанную дату в указанной группе A/B-теста\n"
   ]
  },
  {
   "cell_type": "markdown",
   "metadata": {},
   "source": [
    "## Импорт библиотек, загрузка данных, предобработка."
   ]
  },
  {
   "cell_type": "code",
   "execution_count": 1,
   "metadata": {},
   "outputs": [],
   "source": [
    "#импорт библиотек\n",
    "import pandas as pd\n",
    "import numpy as np\n",
    "import datetime as dt\n",
    "import matplotlib.pyplot as plt\n",
    "import scipy.stats as stats\n",
    "from pandas.plotting import register_matplotlib_converters\n",
    "import warnings\n",
    "# конвертеры, которые позволяют использовать типы pandas в matplotlib  \n",
    "register_matplotlib_converters()\n"
   ]
  },
  {
   "cell_type": "code",
   "execution_count": 2,
   "metadata": {},
   "outputs": [
    {
     "data": {
      "text/html": [
       "<div>\n",
       "<style scoped>\n",
       "    .dataframe tbody tr th:only-of-type {\n",
       "        vertical-align: middle;\n",
       "    }\n",
       "\n",
       "    .dataframe tbody tr th {\n",
       "        vertical-align: top;\n",
       "    }\n",
       "\n",
       "    .dataframe thead th {\n",
       "        text-align: right;\n",
       "    }\n",
       "</style>\n",
       "<table border=\"1\" class=\"dataframe\">\n",
       "  <thead>\n",
       "    <tr style=\"text-align: right;\">\n",
       "      <th></th>\n",
       "      <th>transactionId</th>\n",
       "      <th>visitorId</th>\n",
       "      <th>date</th>\n",
       "      <th>revenue</th>\n",
       "      <th>group</th>\n",
       "    </tr>\n",
       "  </thead>\n",
       "  <tbody>\n",
       "    <tr>\n",
       "      <th>0</th>\n",
       "      <td>3667963787</td>\n",
       "      <td>3312258926</td>\n",
       "      <td>2019-08-15</td>\n",
       "      <td>1650</td>\n",
       "      <td>B</td>\n",
       "    </tr>\n",
       "    <tr>\n",
       "      <th>1</th>\n",
       "      <td>2804400009</td>\n",
       "      <td>3642806036</td>\n",
       "      <td>2019-08-15</td>\n",
       "      <td>730</td>\n",
       "      <td>B</td>\n",
       "    </tr>\n",
       "    <tr>\n",
       "      <th>2</th>\n",
       "      <td>2961555356</td>\n",
       "      <td>4069496402</td>\n",
       "      <td>2019-08-15</td>\n",
       "      <td>400</td>\n",
       "      <td>A</td>\n",
       "    </tr>\n",
       "    <tr>\n",
       "      <th>3</th>\n",
       "      <td>3797467345</td>\n",
       "      <td>1196621759</td>\n",
       "      <td>2019-08-15</td>\n",
       "      <td>9759</td>\n",
       "      <td>B</td>\n",
       "    </tr>\n",
       "    <tr>\n",
       "      <th>4</th>\n",
       "      <td>2282983706</td>\n",
       "      <td>2322279887</td>\n",
       "      <td>2019-08-15</td>\n",
       "      <td>2308</td>\n",
       "      <td>B</td>\n",
       "    </tr>\n",
       "  </tbody>\n",
       "</table>\n",
       "</div>"
      ],
      "text/plain": [
       "   transactionId   visitorId        date  revenue group\n",
       "0     3667963787  3312258926  2019-08-15     1650     B\n",
       "1     2804400009  3642806036  2019-08-15      730     B\n",
       "2     2961555356  4069496402  2019-08-15      400     A\n",
       "3     3797467345  1196621759  2019-08-15     9759     B\n",
       "4     2282983706  2322279887  2019-08-15     2308     B"
      ]
     },
     "execution_count": 2,
     "metadata": {},
     "output_type": "execute_result"
    }
   ],
   "source": [
    "#загрузка данных\n",
    "orders = pd.read_csv('/datasets/orders.csv', sep=',')\n",
    "\n",
    "orders.head()"
   ]
  },
  {
   "cell_type": "code",
   "execution_count": 3,
   "metadata": {},
   "outputs": [
    {
     "data": {
      "text/html": [
       "<div>\n",
       "<style scoped>\n",
       "    .dataframe tbody tr th:only-of-type {\n",
       "        vertical-align: middle;\n",
       "    }\n",
       "\n",
       "    .dataframe tbody tr th {\n",
       "        vertical-align: top;\n",
       "    }\n",
       "\n",
       "    .dataframe thead th {\n",
       "        text-align: right;\n",
       "    }\n",
       "</style>\n",
       "<table border=\"1\" class=\"dataframe\">\n",
       "  <thead>\n",
       "    <tr style=\"text-align: right;\">\n",
       "      <th></th>\n",
       "      <th>date</th>\n",
       "      <th>group</th>\n",
       "      <th>visitors</th>\n",
       "    </tr>\n",
       "  </thead>\n",
       "  <tbody>\n",
       "    <tr>\n",
       "      <th>0</th>\n",
       "      <td>2019-08-01</td>\n",
       "      <td>A</td>\n",
       "      <td>719</td>\n",
       "    </tr>\n",
       "    <tr>\n",
       "      <th>1</th>\n",
       "      <td>2019-08-02</td>\n",
       "      <td>A</td>\n",
       "      <td>619</td>\n",
       "    </tr>\n",
       "    <tr>\n",
       "      <th>2</th>\n",
       "      <td>2019-08-03</td>\n",
       "      <td>A</td>\n",
       "      <td>507</td>\n",
       "    </tr>\n",
       "    <tr>\n",
       "      <th>3</th>\n",
       "      <td>2019-08-04</td>\n",
       "      <td>A</td>\n",
       "      <td>717</td>\n",
       "    </tr>\n",
       "    <tr>\n",
       "      <th>4</th>\n",
       "      <td>2019-08-05</td>\n",
       "      <td>A</td>\n",
       "      <td>756</td>\n",
       "    </tr>\n",
       "  </tbody>\n",
       "</table>\n",
       "</div>"
      ],
      "text/plain": [
       "         date group  visitors\n",
       "0  2019-08-01     A       719\n",
       "1  2019-08-02     A       619\n",
       "2  2019-08-03     A       507\n",
       "3  2019-08-04     A       717\n",
       "4  2019-08-05     A       756"
      ]
     },
     "execution_count": 3,
     "metadata": {},
     "output_type": "execute_result"
    }
   ],
   "source": [
    "visitors = pd.read_csv('/datasets/visitors.csv')\n",
    "\n",
    "visitors.head()\n"
   ]
  },
  {
   "cell_type": "code",
   "execution_count": 4,
   "metadata": {},
   "outputs": [
    {
     "data": {
      "text/html": [
       "<div>\n",
       "<style scoped>\n",
       "    .dataframe tbody tr th:only-of-type {\n",
       "        vertical-align: middle;\n",
       "    }\n",
       "\n",
       "    .dataframe tbody tr th {\n",
       "        vertical-align: top;\n",
       "    }\n",
       "\n",
       "    .dataframe thead th {\n",
       "        text-align: right;\n",
       "    }\n",
       "</style>\n",
       "<table border=\"1\" class=\"dataframe\">\n",
       "  <thead>\n",
       "    <tr style=\"text-align: right;\">\n",
       "      <th></th>\n",
       "      <th>Hypothesis</th>\n",
       "      <th>Reach</th>\n",
       "      <th>Impact</th>\n",
       "      <th>Confidence</th>\n",
       "      <th>Efforts</th>\n",
       "    </tr>\n",
       "  </thead>\n",
       "  <tbody>\n",
       "    <tr>\n",
       "      <th>0</th>\n",
       "      <td>Добавить два новых канала привлечения трафика, что позволит привлекать на 30% больше пользователей</td>\n",
       "      <td>3</td>\n",
       "      <td>10</td>\n",
       "      <td>8</td>\n",
       "      <td>6</td>\n",
       "    </tr>\n",
       "    <tr>\n",
       "      <th>1</th>\n",
       "      <td>Запустить собственную службу доставки, что сократит срок доставки заказов</td>\n",
       "      <td>2</td>\n",
       "      <td>5</td>\n",
       "      <td>4</td>\n",
       "      <td>10</td>\n",
       "    </tr>\n",
       "    <tr>\n",
       "      <th>2</th>\n",
       "      <td>Добавить блоки рекомендаций товаров на сайт интернет магазина, чтобы повысить конверсию и средний чек заказа</td>\n",
       "      <td>8</td>\n",
       "      <td>3</td>\n",
       "      <td>7</td>\n",
       "      <td>3</td>\n",
       "    </tr>\n",
       "    <tr>\n",
       "      <th>3</th>\n",
       "      <td>Изменить структура категорий, что увеличит конверсию, т.к. пользователи быстрее найдут нужный товар</td>\n",
       "      <td>8</td>\n",
       "      <td>3</td>\n",
       "      <td>3</td>\n",
       "      <td>8</td>\n",
       "    </tr>\n",
       "    <tr>\n",
       "      <th>4</th>\n",
       "      <td>Изменить цвет фона главной страницы, чтобы увеличить вовлеченность пользователей</td>\n",
       "      <td>3</td>\n",
       "      <td>1</td>\n",
       "      <td>1</td>\n",
       "      <td>1</td>\n",
       "    </tr>\n",
       "  </tbody>\n",
       "</table>\n",
       "</div>"
      ],
      "text/plain": [
       "                                                                                                     Hypothesis  \\\n",
       "0            Добавить два новых канала привлечения трафика, что позволит привлекать на 30% больше пользователей   \n",
       "1                                     Запустить собственную службу доставки, что сократит срок доставки заказов   \n",
       "2  Добавить блоки рекомендаций товаров на сайт интернет магазина, чтобы повысить конверсию и средний чек заказа   \n",
       "3           Изменить структура категорий, что увеличит конверсию, т.к. пользователи быстрее найдут нужный товар   \n",
       "4                              Изменить цвет фона главной страницы, чтобы увеличить вовлеченность пользователей   \n",
       "\n",
       "   Reach  Impact  Confidence  Efforts  \n",
       "0      3      10           8        6  \n",
       "1      2       5           4       10  \n",
       "2      8       3           7        3  \n",
       "3      8       3           3        8  \n",
       "4      3       1           1        1  "
      ]
     },
     "execution_count": 4,
     "metadata": {},
     "output_type": "execute_result"
    }
   ],
   "source": [
    "hypothesis = pd.read_csv('/datasets/hypothesis.csv')\n",
    "pd.set_option('display.max_colwidth', None)\n",
    "hypothesis.head()"
   ]
  },
  {
   "cell_type": "markdown",
   "metadata": {},
   "source": [
    "В таблице hypothesis приведем к нижнему регистру названия столбцов"
   ]
  },
  {
   "cell_type": "code",
   "execution_count": 5,
   "metadata": {},
   "outputs": [],
   "source": [
    "hypothesis.columns = map(str.lower, hypothesis.columns)"
   ]
  },
  {
   "cell_type": "code",
   "execution_count": 6,
   "metadata": {},
   "outputs": [
    {
     "data": {
      "text/plain": [
       "Index(['hypothesis', 'reach', 'impact', 'confidence', 'efforts'], dtype='object')"
      ]
     },
     "execution_count": 6,
     "metadata": {},
     "output_type": "execute_result"
    }
   ],
   "source": [
    "#проверим названия столбцов\n",
    "hypothesis.columns"
   ]
  },
  {
   "cell_type": "markdown",
   "metadata": {},
   "source": [
    "На первый взгляд все хорошо. Выведем общую информацию о таблицах и посмотрим на количество пропусков и дубликатов."
   ]
  },
  {
   "cell_type": "code",
   "execution_count": 7,
   "metadata": {},
   "outputs": [
    {
     "name": "stdout",
     "output_type": "stream",
     "text": [
      "Общая информация: \n",
      "<class 'pandas.core.frame.DataFrame'>\n",
      "RangeIndex: 9 entries, 0 to 8\n",
      "Data columns (total 5 columns):\n",
      " #   Column      Non-Null Count  Dtype \n",
      "---  ------      --------------  ----- \n",
      " 0   hypothesis  9 non-null      object\n",
      " 1   reach       9 non-null      int64 \n",
      " 2   impact      9 non-null      int64 \n",
      " 3   confidence  9 non-null      int64 \n",
      " 4   efforts     9 non-null      int64 \n",
      "dtypes: int64(4), object(1)\n",
      "memory usage: 488.0+ bytes\n"
     ]
    },
    {
     "data": {
      "text/plain": [
       "None"
      ]
     },
     "metadata": {},
     "output_type": "display_data"
    },
    {
     "name": "stdout",
     "output_type": "stream",
     "text": [
      "Пропуски: \n"
     ]
    },
    {
     "data": {
      "text/plain": [
       "hypothesis    0\n",
       "reach         0\n",
       "impact        0\n",
       "confidence    0\n",
       "efforts       0\n",
       "dtype: int64"
      ]
     },
     "metadata": {},
     "output_type": "display_data"
    },
    {
     "name": "stdout",
     "output_type": "stream",
     "text": [
      "Дубликаты: \n"
     ]
    },
    {
     "data": {
      "text/plain": [
       "0"
      ]
     },
     "metadata": {},
     "output_type": "display_data"
    },
    {
     "name": "stdout",
     "output_type": "stream",
     "text": [
      "Общая информация: \n",
      "<class 'pandas.core.frame.DataFrame'>\n",
      "RangeIndex: 1197 entries, 0 to 1196\n",
      "Data columns (total 5 columns):\n",
      " #   Column         Non-Null Count  Dtype \n",
      "---  ------         --------------  ----- \n",
      " 0   transactionId  1197 non-null   int64 \n",
      " 1   visitorId      1197 non-null   int64 \n",
      " 2   date           1197 non-null   object\n",
      " 3   revenue        1197 non-null   int64 \n",
      " 4   group          1197 non-null   object\n",
      "dtypes: int64(3), object(2)\n",
      "memory usage: 46.9+ KB\n"
     ]
    },
    {
     "data": {
      "text/plain": [
       "None"
      ]
     },
     "metadata": {},
     "output_type": "display_data"
    },
    {
     "name": "stdout",
     "output_type": "stream",
     "text": [
      "Пропуски: \n"
     ]
    },
    {
     "data": {
      "text/plain": [
       "transactionId    0\n",
       "visitorId        0\n",
       "date             0\n",
       "revenue          0\n",
       "group            0\n",
       "dtype: int64"
      ]
     },
     "metadata": {},
     "output_type": "display_data"
    },
    {
     "name": "stdout",
     "output_type": "stream",
     "text": [
      "Дубликаты: \n"
     ]
    },
    {
     "data": {
      "text/plain": [
       "0"
      ]
     },
     "metadata": {},
     "output_type": "display_data"
    },
    {
     "name": "stdout",
     "output_type": "stream",
     "text": [
      "Общая информация: \n",
      "<class 'pandas.core.frame.DataFrame'>\n",
      "RangeIndex: 62 entries, 0 to 61\n",
      "Data columns (total 3 columns):\n",
      " #   Column    Non-Null Count  Dtype \n",
      "---  ------    --------------  ----- \n",
      " 0   date      62 non-null     object\n",
      " 1   group     62 non-null     object\n",
      " 2   visitors  62 non-null     int64 \n",
      "dtypes: int64(1), object(2)\n",
      "memory usage: 1.6+ KB\n"
     ]
    },
    {
     "data": {
      "text/plain": [
       "None"
      ]
     },
     "metadata": {},
     "output_type": "display_data"
    },
    {
     "name": "stdout",
     "output_type": "stream",
     "text": [
      "Пропуски: \n"
     ]
    },
    {
     "data": {
      "text/plain": [
       "date        0\n",
       "group       0\n",
       "visitors    0\n",
       "dtype: int64"
      ]
     },
     "metadata": {},
     "output_type": "display_data"
    },
    {
     "name": "stdout",
     "output_type": "stream",
     "text": [
      "Дубликаты: \n"
     ]
    },
    {
     "data": {
      "text/plain": [
       "0"
      ]
     },
     "metadata": {},
     "output_type": "display_data"
    }
   ],
   "source": [
    "dataset = [hypothesis, orders, visitors]\n",
    "\n",
    "for d in dataset:\n",
    "    print('Общая информация: ')\n",
    "    display(d.info())\n",
    "    print('Пропуски: ')\n",
    "    display(d.isna().sum())\n",
    "    print('Дубликаты: ')\n",
    "    display(d.duplicated().sum())"
   ]
  },
  {
   "cell_type": "markdown",
   "metadata": {},
   "source": [
    "В таблицах visitors и orders в  столбце date  преобразуем данные о времени. "
   ]
  },
  {
   "cell_type": "code",
   "execution_count": 8,
   "metadata": {},
   "outputs": [],
   "source": [
    "visitors['date'] = visitors['date'].map(\n",
    "    lambda x: dt.datetime.strptime(x, '%Y-%m-%d')\n",
    ")"
   ]
  },
  {
   "cell_type": "code",
   "execution_count": 9,
   "metadata": {},
   "outputs": [
    {
     "data": {
      "text/plain": [
       "date        datetime64[ns]\n",
       "group               object\n",
       "visitors             int64\n",
       "dtype: object"
      ]
     },
     "execution_count": 9,
     "metadata": {},
     "output_type": "execute_result"
    }
   ],
   "source": [
    "#проверим тип данных\n",
    "visitors.dtypes"
   ]
  },
  {
   "cell_type": "code",
   "execution_count": 10,
   "metadata": {},
   "outputs": [],
   "source": [
    "orders['date'] = orders['date'].map(\n",
    "    lambda x: dt.datetime.strptime(x, '%Y-%m-%d')\n",
    ")"
   ]
  },
  {
   "cell_type": "code",
   "execution_count": 11,
   "metadata": {},
   "outputs": [
    {
     "data": {
      "text/plain": [
       "transactionId             int64\n",
       "visitorId                 int64\n",
       "date             datetime64[ns]\n",
       "revenue                   int64\n",
       "group                    object\n",
       "dtype: object"
      ]
     },
     "execution_count": 11,
     "metadata": {},
     "output_type": "execute_result"
    }
   ],
   "source": [
    "orders.dtypes"
   ]
  },
  {
   "cell_type": "markdown",
   "metadata": {},
   "source": [
    "Тип данных успешно изменен.\n",
    "\n",
    "Таким образом мы выгрузили датасеты и подготовили таблицы для дальнейшего анализа. А именно: изучили общую информацию, посмотрели на тип данных, проверили пропуски и дубликаты. Как видим данные не содержат пропусков и дубликатов, поэтому только было изменено тип данных для дат и названия столбцов переведено в удобный формат. Можно приступать к вычислениям."
   ]
  },
  {
   "cell_type": "markdown",
   "metadata": {},
   "source": [
    "## Часть 1. Приоритизация гипотез."
   ]
  },
  {
   "cell_type": "markdown",
   "metadata": {},
   "source": [
    "Применим фреймворк ICE для приоритизации гипотез. Отсортируем их по убыванию приоритета.\n"
   ]
  },
  {
   "cell_type": "code",
   "execution_count": 12,
   "metadata": {},
   "outputs": [
    {
     "data": {
      "text/html": [
       "<div>\n",
       "<style scoped>\n",
       "    .dataframe tbody tr th:only-of-type {\n",
       "        vertical-align: middle;\n",
       "    }\n",
       "\n",
       "    .dataframe tbody tr th {\n",
       "        vertical-align: top;\n",
       "    }\n",
       "\n",
       "    .dataframe thead th {\n",
       "        text-align: right;\n",
       "    }\n",
       "</style>\n",
       "<table border=\"1\" class=\"dataframe\">\n",
       "  <thead>\n",
       "    <tr style=\"text-align: right;\">\n",
       "      <th></th>\n",
       "      <th>hypothesis</th>\n",
       "      <th>ICE</th>\n",
       "    </tr>\n",
       "  </thead>\n",
       "  <tbody>\n",
       "    <tr>\n",
       "      <th>8</th>\n",
       "      <td>Запустить акцию, дающую скидку на товар в день рождения</td>\n",
       "      <td>16.20</td>\n",
       "    </tr>\n",
       "    <tr>\n",
       "      <th>0</th>\n",
       "      <td>Добавить два новых канала привлечения трафика, что позволит привлекать на 30% больше пользователей</td>\n",
       "      <td>13.33</td>\n",
       "    </tr>\n",
       "    <tr>\n",
       "      <th>7</th>\n",
       "      <td>Добавить форму подписки на все основные страницы, чтобы собрать базу клиентов для email-рассылок</td>\n",
       "      <td>11.20</td>\n",
       "    </tr>\n",
       "    <tr>\n",
       "      <th>6</th>\n",
       "      <td>Показать на главной странице баннеры с актуальными акциями и распродажами, чтобы увеличить конверсию</td>\n",
       "      <td>8.00</td>\n",
       "    </tr>\n",
       "    <tr>\n",
       "      <th>2</th>\n",
       "      <td>Добавить блоки рекомендаций товаров на сайт интернет магазина, чтобы повысить конверсию и средний чек заказа</td>\n",
       "      <td>7.00</td>\n",
       "    </tr>\n",
       "    <tr>\n",
       "      <th>1</th>\n",
       "      <td>Запустить собственную службу доставки, что сократит срок доставки заказов</td>\n",
       "      <td>2.00</td>\n",
       "    </tr>\n",
       "    <tr>\n",
       "      <th>5</th>\n",
       "      <td>Добавить страницу отзывов клиентов о магазине, что позволит увеличить количество заказов</td>\n",
       "      <td>1.33</td>\n",
       "    </tr>\n",
       "    <tr>\n",
       "      <th>3</th>\n",
       "      <td>Изменить структура категорий, что увеличит конверсию, т.к. пользователи быстрее найдут нужный товар</td>\n",
       "      <td>1.12</td>\n",
       "    </tr>\n",
       "    <tr>\n",
       "      <th>4</th>\n",
       "      <td>Изменить цвет фона главной страницы, чтобы увеличить вовлеченность пользователей</td>\n",
       "      <td>1.00</td>\n",
       "    </tr>\n",
       "  </tbody>\n",
       "</table>\n",
       "</div>"
      ],
      "text/plain": [
       "                                                                                                     hypothesis  \\\n",
       "8                                                       Запустить акцию, дающую скидку на товар в день рождения   \n",
       "0            Добавить два новых канала привлечения трафика, что позволит привлекать на 30% больше пользователей   \n",
       "7              Добавить форму подписки на все основные страницы, чтобы собрать базу клиентов для email-рассылок   \n",
       "6          Показать на главной странице баннеры с актуальными акциями и распродажами, чтобы увеличить конверсию   \n",
       "2  Добавить блоки рекомендаций товаров на сайт интернет магазина, чтобы повысить конверсию и средний чек заказа   \n",
       "1                                     Запустить собственную службу доставки, что сократит срок доставки заказов   \n",
       "5                      Добавить страницу отзывов клиентов о магазине, что позволит увеличить количество заказов   \n",
       "3           Изменить структура категорий, что увеличит конверсию, т.к. пользователи быстрее найдут нужный товар   \n",
       "4                              Изменить цвет фона главной страницы, чтобы увеличить вовлеченность пользователей   \n",
       "\n",
       "     ICE  \n",
       "8  16.20  \n",
       "0  13.33  \n",
       "7  11.20  \n",
       "6   8.00  \n",
       "2   7.00  \n",
       "1   2.00  \n",
       "5   1.33  \n",
       "3   1.12  \n",
       "4   1.00  "
      ]
     },
     "execution_count": 12,
     "metadata": {},
     "output_type": "execute_result"
    }
   ],
   "source": [
    "pd.set_option('display.max_colwidth', None)\n",
    "\n",
    "hypothesis ['ICE']= round(hypothesis ['impact'] * hypothesis['confidence'] /hypothesis ['efforts'], 2)\n",
    "\n",
    "hypothesis[['hypothesis', 'ICE']].sort_values(by='ICE', ascending=False)"
   ]
  },
  {
   "cell_type": "markdown",
   "metadata": {},
   "source": [
    "Как видим наиболее перспективная гипотеза 8: запустить акцию, дающую скидку на товар в день рождения. А так же гипотезы под номером  0 и 7\n",
    "\n",
    "Применим фреймворк RICE для приоритизации гипотез. Отсортируем их по убыванию приоритета."
   ]
  },
  {
   "cell_type": "code",
   "execution_count": 13,
   "metadata": {},
   "outputs": [
    {
     "data": {
      "text/html": [
       "<div>\n",
       "<style scoped>\n",
       "    .dataframe tbody tr th:only-of-type {\n",
       "        vertical-align: middle;\n",
       "    }\n",
       "\n",
       "    .dataframe tbody tr th {\n",
       "        vertical-align: top;\n",
       "    }\n",
       "\n",
       "    .dataframe thead th {\n",
       "        text-align: right;\n",
       "    }\n",
       "</style>\n",
       "<table border=\"1\" class=\"dataframe\">\n",
       "  <thead>\n",
       "    <tr style=\"text-align: right;\">\n",
       "      <th></th>\n",
       "      <th>hypothesis</th>\n",
       "      <th>RICE</th>\n",
       "    </tr>\n",
       "  </thead>\n",
       "  <tbody>\n",
       "    <tr>\n",
       "      <th>7</th>\n",
       "      <td>Добавить форму подписки на все основные страницы, чтобы собрать базу клиентов для email-рассылок</td>\n",
       "      <td>112.0</td>\n",
       "    </tr>\n",
       "    <tr>\n",
       "      <th>2</th>\n",
       "      <td>Добавить блоки рекомендаций товаров на сайт интернет магазина, чтобы повысить конверсию и средний чек заказа</td>\n",
       "      <td>56.0</td>\n",
       "    </tr>\n",
       "    <tr>\n",
       "      <th>0</th>\n",
       "      <td>Добавить два новых канала привлечения трафика, что позволит привлекать на 30% больше пользователей</td>\n",
       "      <td>40.0</td>\n",
       "    </tr>\n",
       "    <tr>\n",
       "      <th>6</th>\n",
       "      <td>Показать на главной странице баннеры с актуальными акциями и распродажами, чтобы увеличить конверсию</td>\n",
       "      <td>40.0</td>\n",
       "    </tr>\n",
       "    <tr>\n",
       "      <th>8</th>\n",
       "      <td>Запустить акцию, дающую скидку на товар в день рождения</td>\n",
       "      <td>16.2</td>\n",
       "    </tr>\n",
       "    <tr>\n",
       "      <th>3</th>\n",
       "      <td>Изменить структура категорий, что увеличит конверсию, т.к. пользователи быстрее найдут нужный товар</td>\n",
       "      <td>9.0</td>\n",
       "    </tr>\n",
       "    <tr>\n",
       "      <th>1</th>\n",
       "      <td>Запустить собственную службу доставки, что сократит срок доставки заказов</td>\n",
       "      <td>4.0</td>\n",
       "    </tr>\n",
       "    <tr>\n",
       "      <th>5</th>\n",
       "      <td>Добавить страницу отзывов клиентов о магазине, что позволит увеличить количество заказов</td>\n",
       "      <td>4.0</td>\n",
       "    </tr>\n",
       "    <tr>\n",
       "      <th>4</th>\n",
       "      <td>Изменить цвет фона главной страницы, чтобы увеличить вовлеченность пользователей</td>\n",
       "      <td>3.0</td>\n",
       "    </tr>\n",
       "  </tbody>\n",
       "</table>\n",
       "</div>"
      ],
      "text/plain": [
       "                                                                                                     hypothesis  \\\n",
       "7              Добавить форму подписки на все основные страницы, чтобы собрать базу клиентов для email-рассылок   \n",
       "2  Добавить блоки рекомендаций товаров на сайт интернет магазина, чтобы повысить конверсию и средний чек заказа   \n",
       "0            Добавить два новых канала привлечения трафика, что позволит привлекать на 30% больше пользователей   \n",
       "6          Показать на главной странице баннеры с актуальными акциями и распродажами, чтобы увеличить конверсию   \n",
       "8                                                       Запустить акцию, дающую скидку на товар в день рождения   \n",
       "3           Изменить структура категорий, что увеличит конверсию, т.к. пользователи быстрее найдут нужный товар   \n",
       "1                                     Запустить собственную службу доставки, что сократит срок доставки заказов   \n",
       "5                      Добавить страницу отзывов клиентов о магазине, что позволит увеличить количество заказов   \n",
       "4                              Изменить цвет фона главной страницы, чтобы увеличить вовлеченность пользователей   \n",
       "\n",
       "    RICE  \n",
       "7  112.0  \n",
       "2   56.0  \n",
       "0   40.0  \n",
       "6   40.0  \n",
       "8   16.2  \n",
       "3    9.0  \n",
       "1    4.0  \n",
       "5    4.0  \n",
       "4    3.0  "
      ]
     },
     "execution_count": 13,
     "metadata": {},
     "output_type": "execute_result"
    }
   ],
   "source": [
    "hypothesis ['RICE']= hypothesis ['reach'] * hypothesis ['impact'] * hypothesis ['confidence'] /hypothesis ['efforts']\n",
    "hypothesis[['hypothesis', 'RICE']].sort_values(by='RICE', ascending=False)"
   ]
  },
  {
   "cell_type": "markdown",
   "metadata": {},
   "source": [
    "Наиболее перспективные гипотезы 7, 2 и 0. Лидер гипотеза 7: добавить форму подписки на все основные страницы, чтобы собрать базу клиентов для email-рассылок\n",
    "\n",
    "Как изменилась приоритизация гипотез при применении RICE вместо ICE"
   ]
  },
  {
   "cell_type": "markdown",
   "metadata": {},
   "source": [
    "По методу ICE, наибольший приоритет имеет гипотеза 8, предлагающая запустить акцию, дающую скидку на товар в день рождения пользователя. По методу Rice, наиболее приоритетна гипотеза 7 - добавить форму подписки на все основные страницы, чтобы собрать базу клиентов для email рассылок.\n",
    "\n",
    "Такая разница в результатах, вероятно, связана с тем, что метод ICE не учитывает, скольких пользователей затронет вносимое изменение. Акция, дающая скидку на товар в день рождения пользователя, затронет только часть пользователей - тех, кто указал свою дату рождения, и не затронет единовременно всех пользователей. Форма подписки на всех основных страницах затронет большую часть пользователей интернет-магазина."
   ]
  },
  {
   "cell_type": "markdown",
   "metadata": {},
   "source": [
    "## Часть 2. Анализ A/B-теста."
   ]
  },
  {
   "cell_type": "markdown",
   "metadata": {},
   "source": [
    "1. Построим график кумулятивной выручки по группам."
   ]
  },
  {
   "cell_type": "code",
   "execution_count": 14,
   "metadata": {},
   "outputs": [
    {
     "data": {
      "image/png": "[encoded data removed]",
      "text/plain": [
       "<Figure size 720x432 with 1 Axes>"
      ]
     },
     "metadata": {
      "needs_background": "light"
     },
     "output_type": "display_data"
    }
   ],
   "source": [
    "datesGroups = orders[['date', 'group']].drop_duplicates()\n",
    "\n",
    "ordersAggregated = datesGroups.apply(\n",
    "    lambda x: orders[\n",
    "        np.logical_and(\n",
    "            orders['date'] <= x['date'], orders['group'] == x['group']\n",
    "        )\n",
    "    ].agg(\n",
    "        {\n",
    "            'date': 'max',\n",
    "            'group': 'max',\n",
    "            'transactionId': 'nunique',\n",
    "            'visitorId': 'nunique',\n",
    "            'revenue': 'sum',\n",
    "        }\n",
    "    ),\n",
    "    axis=1,\n",
    ").sort_values(by=['date', 'group'])\n",
    "\n",
    "visitorsAggregated = datesGroups.apply(\n",
    "    lambda x: visitors[\n",
    "        np.logical_and(\n",
    "            visitors['date'] <= x['date'], visitors['group'] == x['group']\n",
    "        )\n",
    "    ].agg({'date': 'max', 'group': 'max', 'visitors': 'sum'}),\n",
    "    axis=1,\n",
    ").sort_values(by=['date', 'group'])\n",
    "\n",
    "cumulativeData = ordersAggregated.merge(\n",
    "    visitorsAggregated, left_on=['date', 'group'], right_on=['date', 'group']\n",
    ")\n",
    "cumulativeData.columns = [\n",
    "    'date',\n",
    "    'group',\n",
    "    'orders',\n",
    "    'buyers',\n",
    "    'revenue',\n",
    "    'visitors',\n",
    "]\n",
    "cumulativeRevenueA = cumulativeData[cumulativeData['group']=='A'][['date','revenue', 'orders']]\n",
    "cumulativeRevenueB = cumulativeData[cumulativeData['group']=='B'][['date','revenue', 'orders']]\n",
    "plt.figure(figsize=(10, 6))\n",
    "\n",
    "# Строим график выручки группы А\n",
    "plt.plot(cumulativeRevenueA['date'], cumulativeRevenueA['revenue'], label='A')\n",
    "\n",
    "# Строим график выручки группы B\n",
    "plt.plot(cumulativeRevenueB['date'], cumulativeRevenueB['revenue'], label='B')\n",
    "\n",
    "plt.xlabel('Дата')\n",
    "plt.ylabel('Кумулятивная выручка')\n",
    "plt.title(label='График кумулятивной выручки по группам')\n",
    "plt.legend() \n",
    "plt.show()"
   ]
  },
  {
   "cell_type": "markdown",
   "metadata": {},
   "source": [
    "В середине теста сегмент B вырвался вперёд и в дальнейшем лидировал весь остаток теста.\n",
    "Возможно, на данные повлияли аномально большие покупки, но также возможно, что количество заказов стало больше - в начале вычислений мы уже установили, что в группе В сделали больше заказов.\n",
    "\n",
    "2. Построим график кумулятивного среднего чека по группам."
   ]
  },
  {
   "cell_type": "code",
   "execution_count": 15,
   "metadata": {},
   "outputs": [
    {
     "data": {
      "image/png": "[encoded data removed]",
      "text/plain": [
       "<Figure size 720x432 with 1 Axes>"
      ]
     },
     "metadata": {
      "needs_background": "light"
     },
     "output_type": "display_data"
    }
   ],
   "source": [
    "plt.figure(figsize=(10,6))\n",
    "plt.plot(cumulativeRevenueA['date'], cumulativeRevenueA['revenue']/cumulativeRevenueA['orders'], label='A')\n",
    "plt.plot(cumulativeRevenueB['date'], cumulativeRevenueB['revenue']/cumulativeRevenueB['orders'], label='B')\n",
    "plt.xlabel('Дата')\n",
    "plt.ylabel('Кумулятивный средний чек')\n",
    "plt.title(label='График кумулятивного среднего чека по группам')\n",
    "plt.legend() \n",
    "plt.show()"
   ]
  },
  {
   "cell_type": "markdown",
   "metadata": {},
   "source": [
    "Кумулятивное значение среднего чека по сегментам продолжает колебаться. Скорее всего, принимать решение по этой метрике рано. Или требуется дополнительный анализ выбросов, которые так сильно искажают результаты.\n",
    "\n",
    "3. Построим график относительного изменения кумулятивного среднего чека группы B к группе A."
   ]
  },
  {
   "cell_type": "code",
   "execution_count": 16,
   "metadata": {},
   "outputs": [
    {
     "data": {
      "image/png": "[encoded data removed]",
      "text/plain": [
       "<Figure size 720x432 with 1 Axes>"
      ]
     },
     "metadata": {
      "needs_background": "light"
     },
     "output_type": "display_data"
    }
   ],
   "source": [
    "# собираем данные в одном датафрейме\n",
    "mergedCumulativeRevenue = cumulativeRevenueA.merge(cumulativeRevenueB, left_on='date', right_on='date', how='left', suffixes=['A', 'B'])\n",
    "\n",
    "plt.figure(figsize=(10,6))\n",
    "# cтроим отношение средних чеков\n",
    "plt.plot(mergedCumulativeRevenue['date'], (mergedCumulativeRevenue['revenueB']/mergedCumulativeRevenue['ordersB'])/(mergedCumulativeRevenue['revenueA']/mergedCumulativeRevenue['ordersA'])-1)\n",
    "\n",
    "# добавляем ось X\n",
    "plt.axhline(y=0, color='black', linestyle='--') \n",
    "plt.xlabel('Дата')\n",
    "plt.ylabel('Изменение кумулятивного среденего чека')\n",
    "plt.title(label='График относительного изменения кумулятивного среднего чека группы B к группе A.')\n",
    "plt.show()"
   ]
  },
  {
   "cell_type": "markdown",
   "metadata": {},
   "source": [
    "Результаты теста значительно и резко менялись в несколько дат. Видимо, именно тогда были совершены аномальные заказы.\n",
    "\n",
    "4. Построим график кумулятивного среднего количества заказов на посетителя по группам. "
   ]
  },
  {
   "cell_type": "code",
   "execution_count": 17,
   "metadata": {},
   "outputs": [
    {
     "name": "stdout",
     "output_type": "stream",
     "text": [
      "2019-08-01 00:00:00\n"
     ]
    },
    {
     "data": {
      "text/plain": [
       "Timestamp('2019-08-31 00:00:00')"
      ]
     },
     "execution_count": 17,
     "metadata": {},
     "output_type": "execute_result"
    }
   ],
   "source": [
    "#период проведения эксперимента\n",
    "print(min(visitors['date']))\n",
    "max(visitors['date'])"
   ]
  },
  {
   "cell_type": "code",
   "execution_count": 18,
   "metadata": {},
   "outputs": [
    {
     "data": {
      "image/png": "[encoded data removed]",
      "text/plain": [
       "<Figure size 720x432 with 1 Axes>"
      ]
     },
     "metadata": {
      "needs_background": "light"
     },
     "output_type": "display_data"
    }
   ],
   "source": [
    "# считаем кумулятивную среднее количество заказов на посетителя\n",
    "cumulativeData['conversion'] = cumulativeData['orders']/cumulativeData['visitors']\n",
    "\n",
    "# отделяем данные по группе A\n",
    "cumulativeDataA = cumulativeData[cumulativeData['group']=='A']\n",
    "\n",
    "# отделяем данные по группе B\n",
    "cumulativeDataB = cumulativeData[cumulativeData['group']=='B']\n",
    "\n",
    "plt.figure(figsize=(10,6))\n",
    "\n",
    "# строим графики\n",
    "plt.plot(cumulativeDataA['date'], cumulativeDataA['conversion'], label='A')\n",
    "plt.plot(cumulativeDataB['date'], cumulativeDataB['conversion'], label='B')\n",
    "\n",
    "plt.xlabel('Дата')\n",
    "plt.ylabel('Кумулятивное среднее количество заказов на посетителя')\n",
    "plt.title(label='График кумулятивного среднего количества заказов на посетителя по группам.')\n",
    "plt.legend()\n",
    "\n",
    "# задаем масштаб осей\n",
    "plt.axis([dt.datetime(2019, 8, 1), dt.datetime(2019, 8, 31), 0, 0.05])\n",
    "plt.show()"
   ]
  },
  {
   "cell_type": "markdown",
   "metadata": {},
   "source": [
    "Сначала сегмент А имел большую конверсию, но чуть позже сегмент В выровнялся и зафиксировался больше значения сегмента А.\n",
    "\n",
    "5. Построим график относительного изменения кумулятивного среднего количества заказов на посетителя группы B к группе A."
   ]
  },
  {
   "cell_type": "code",
   "execution_count": 19,
   "metadata": {},
   "outputs": [
    {
     "data": {
      "image/png": "[encoded data removed]",
      "text/plain": [
       "<Figure size 720x432 with 1 Axes>"
      ]
     },
     "metadata": {
      "needs_background": "light"
     },
     "output_type": "display_data"
    }
   ],
   "source": [
    "mergedCumulativeConversions = cumulativeDataA[['date','conversion']].merge(cumulativeDataB[['date','conversion']], left_on='date', right_on='date', how='left', suffixes=['A', 'B'])\n",
    "\n",
    "plt.figure(figsize=(10, 6))\n",
    "plt.plot(mergedCumulativeConversions['date'], mergedCumulativeConversions['conversionB']/mergedCumulativeConversions['conversionA']-1, \n",
    "label=\"Относительный прирост кумулятивного среднего\")\n",
    "plt.legend()\n",
    "plt.xlabel('Дата')\n",
    "plt.ylabel('Относительное изменение кумулятивного среднего')\n",
    "plt.title(label='График относительного изменения кумулятивного среднего количества заказов на посетителя группы B к группе A..')\n",
    "plt.axhline(y=0, color='black', linestyle='--')\n",
    "plt.axhline(y=0.2, color='grey', linestyle='--')\n",
    "plt.axis([\"2019-08-01\", '2019-08-31', -0.5, 0.5]);\n",
    "plt.show()"
   ]
  },
  {
   "cell_type": "markdown",
   "metadata": {},
   "source": [
    "Почти с самого начала группа В лидирует по конверсии. Приняла стабильные +15% относительно группы А.\n",
    "\n",
    "6. Построим точечный график количества заказов по пользователям. "
   ]
  },
  {
   "cell_type": "code",
   "execution_count": 20,
   "metadata": {},
   "outputs": [
    {
     "data": {
      "image/png": "[encoded data removed]",
      "text/plain": [
       "<Figure size 864x432 with 1 Axes>"
      ]
     },
     "metadata": {
      "needs_background": "light"
     },
     "output_type": "display_data"
    }
   ],
   "source": [
    "ordersByUsers = orders.drop(['group', 'revenue', 'date'], axis=1).groupby('visitorId', as_index=False). \\\n",
    "                                                                        agg({'transactionId' : pd.Series.nunique})\n",
    "\n",
    "ordersByUsers.columns = ['user_id','orders']\n",
    "\n",
    "ordersByUsers.sort_values(by='orders',ascending=False).head(10)\n",
    "\n",
    "# серия из чисел от 0 до количества наблюдений в ordersByUsers\n",
    "plt.figure(figsize=(12,6))\n",
    "plt.grid()\n",
    "plt.title('График количества заказов по пользователям')\n",
    "plt.xlabel('Количество пользователей')\n",
    "plt.ylabel('Количество заказов')\n",
    "x_values = pd.Series(range(0, len(ordersByUsers)))\n",
    "plt.scatter(x_values, ordersByUsers['orders']) \n",
    "plt.show()"
   ]
  },
  {
   "cell_type": "markdown",
   "metadata": {},
   "source": [
    "Судяпо графику больше всего пользователей совершивших 1 заказ. Совершивших  2 и 3 заказа единицы, возможно они будут являться выбросами, стоит посчитать выборочные перцентили.\n",
    "\n",
    "7. Посчитаем 95-й и 99-й перцентили количества заказов на пользователя. Выберим границу для определения аномальных пользователей."
   ]
  },
  {
   "cell_type": "code",
   "execution_count": 21,
   "metadata": {},
   "outputs": [
    {
     "name": "stdout",
     "output_type": "stream",
     "text": [
      "[2. 4.]\n"
     ]
    }
   ],
   "source": [
    "print(np.percentile(ordersByUsers['orders'], [95, 99])) "
   ]
  },
  {
   "cell_type": "markdown",
   "metadata": {},
   "source": [
    "95% пользователей овершают не больше 2 заказов, 99% совершают 4 заказа, аномальным будет всё, что и более этого.\n",
    "\n",
    "8. Построим точечный график стоимостей заказов."
   ]
  },
  {
   "cell_type": "code",
   "execution_count": 22,
   "metadata": {},
   "outputs": [
    {
     "data": {
      "image/png": "[encoded data removed]",
      "text/plain": [
       "<Figure size 1080x360 with 1 Axes>"
      ]
     },
     "metadata": {
      "needs_background": "light"
     },
     "output_type": "display_data"
    }
   ],
   "source": [
    "x_values = pd.Series(range(0,len(orders['revenue'])))\n",
    "plt.figure(figsize=(15,5))\n",
    "plt.grid()\n",
    "plt.title('График стоимостей заказов ')\n",
    "plt.xlabel('Количество пользователей')\n",
    "plt.ylabel('Стоимость заказа')\n",
    "plt.scatter(x_values, orders['revenue'], alpha=0.3)\n",
    "plt.show()"
   ]
  },
  {
   "cell_type": "markdown",
   "metadata": {},
   "source": [
    "График из-за одного выброса в 1,2 млн. получился ненаглядным. Увеличим масштаб"
   ]
  },
  {
   "cell_type": "code",
   "execution_count": 23,
   "metadata": {},
   "outputs": [
    {
     "data": {
      "image/png": "[encoded data removed]",
      "text/plain": [
       "<Figure size 1080x360 with 1 Axes>"
      ]
     },
     "metadata": {
      "needs_background": "light"
     },
     "output_type": "display_data"
    }
   ],
   "source": [
    "x_values = pd.Series(range(0, len(orders['revenue'])))\n",
    "plt.figure(figsize=(15, 5))\n",
    "\n",
    "plt.title('График стоимостей заказов ')\n",
    "plt.xlabel('Количество пользователей')\n",
    "plt.ylabel('Стоимость заказа')\n",
    "plt.ylim(0, 100000)\n",
    "plt.scatter(x_values, orders['revenue'])\n",
    "plt.show()"
   ]
  },
  {
   "cell_type": "markdown",
   "metadata": {},
   "source": [
    "Теперь хорошо видно, что больше всего заказов в районе 10000 рублей и ниже.\n",
    "\n",
    "9. Посчитаем 95-й и 99-й перцентили стоимости заказов. Выберем границу для определения аномальных заказов."
   ]
  },
  {
   "cell_type": "code",
   "execution_count": 24,
   "metadata": {},
   "outputs": [
    {
     "data": {
      "text/plain": [
       "array([28000. , 58233.2])"
      ]
     },
     "execution_count": 24,
     "metadata": {},
     "output_type": "execute_result"
    }
   ],
   "source": [
    "np.percentile(orders['revenue'], [95, 99])"
   ]
  },
  {
   "cell_type": "markdown",
   "metadata": {},
   "source": [
    "Не больше, чем у 5% заказов чек дороже 28 000 рублей, и только у 1% - дороже 58 233 р. Такой процентиль подтвержает выброс на графике в 1,2 млн. руб. Будем считать аномаными свыше 4 заказов на сумму больше 58233 руб.\n",
    "\n",
    "10. Посчитаем статистическую значимость различий в среднем количестве заказов на посетителя между группами по «сырым» данным. "
   ]
  },
  {
   "cell_type": "markdown",
   "metadata": {},
   "source": [
    "Для проверки всех гипотез воспользуемся методом st.mannwhitneyu(), так как в данных есть большие (по сравнению с нормальным распределением) выбросы.\n",
    "\n",
    "Нулевая гипотеза: среднее количество заказов на посетителя между группами А и В не отличаются.\n",
    "\n",
    "Альтернативная гипотеза: среднее количество заказов на посетителя между группами А и В имеют статистически значимые отличия.\n",
    "\n",
    "Уровень значимости принимаем за 0.05."
   ]
  },
  {
   "cell_type": "code",
   "execution_count": 25,
   "metadata": {},
   "outputs": [
    {
     "name": "stdout",
     "output_type": "stream",
     "text": [
      "0.01679\n",
      "0.138\n"
     ]
    }
   ],
   "source": [
    "visitorsADaily = visitors[visitors['group'] == 'A'][['date', 'visitors']]\n",
    "visitorsADaily.columns = ['date', 'visitorsPerDateA']\n",
    "\n",
    "visitorsACummulative = visitorsADaily.apply(\n",
    "    lambda x: visitorsADaily[visitorsADaily['date'] <= x['date']].agg(\n",
    "        {'date': 'max', 'visitorsPerDateA': 'sum'}\n",
    "    ),\n",
    "    axis=1,\n",
    ")\n",
    "visitorsACummulative.columns = ['date', 'visitorsCummulativeA']\n",
    "\n",
    "visitorsBDaily = visitors[visitors['group'] == 'B'][['date', 'visitors']]\n",
    "visitorsBDaily.columns = ['date', 'visitorsPerDateB']\n",
    "\n",
    "visitorsBCummulative = visitorsBDaily.apply(\n",
    "    lambda x: visitorsBDaily[visitorsBDaily['date'] <= x['date']].agg(\n",
    "        {'date': 'max', 'visitorsPerDateB': 'sum'}\n",
    "    ),\n",
    "    axis=1,\n",
    ")\n",
    "visitorsBCummulative.columns = ['date', 'visitorsCummulativeB']\n",
    "\n",
    "ordersADaily = (\n",
    "    orders[orders['group'] == 'A'][['date', 'transactionId', 'visitorId', 'revenue']]\n",
    "    .groupby('date', as_index=False)\n",
    "    .agg({'transactionId': pd.Series.nunique, 'revenue': 'sum'})\n",
    ")\n",
    "ordersADaily.columns = ['date', 'ordersPerDateA', 'revenuePerDateA']\n",
    "\n",
    "ordersACummulative = ordersADaily.apply(\n",
    "    lambda x: ordersADaily[ordersADaily['date'] <= x['date']].agg(\n",
    "        {'date': 'max', 'ordersPerDateA': 'sum', 'revenuePerDateA': 'sum'}\n",
    "    ),\n",
    "    axis=1,\n",
    ").sort_values(by=['date'])\n",
    "ordersACummulative.columns = [\n",
    "    'date',\n",
    "    'ordersCummulativeA',\n",
    "    'revenueCummulativeA',\n",
    "]\n",
    "\n",
    "ordersBDaily = (\n",
    "    orders[orders['group'] == 'B'][['date', 'transactionId', 'visitorId', 'revenue']]\n",
    "    .groupby('date', as_index=False)\n",
    "    .agg({'transactionId': pd.Series.nunique, 'revenue': 'sum'})\n",
    ")\n",
    "ordersBDaily.columns = ['date', 'ordersPerDateB', 'revenuePerDateB']\n",
    "\n",
    "ordersBCummulative = ordersBDaily.apply(\n",
    "    lambda x: ordersBDaily[ordersBDaily['date'] <= x['date']].agg(\n",
    "        {'date': 'max', 'ordersPerDateB': 'sum', 'revenuePerDateB': 'sum'}\n",
    "    ),\n",
    "    axis=1,\n",
    ").sort_values(by=['date'])\n",
    "ordersBCummulative.columns = [\n",
    "    'date',\n",
    "    'ordersCummulativeB',\n",
    "    'revenueCummulativeB',\n",
    "]\n",
    "\n",
    "data = (\n",
    "    ordersADaily.merge(\n",
    "        ordersBDaily, left_on='date', right_on='date', how='left'\n",
    "    )\n",
    "    .merge(ordersACummulative, left_on='date', right_on='date', how='left')\n",
    "    .merge(ordersBCummulative, left_on='date', right_on='date', how='left')\n",
    "    .merge(visitorsADaily, left_on='date', right_on='date', how='left')\n",
    "    .merge(visitorsBDaily, left_on='date', right_on='date', how='left')\n",
    "    .merge(visitorsACummulative, left_on='date', right_on='date', how='left')\n",
    "    .merge(visitorsBCummulative, left_on='date', right_on='date', how='left')\n",
    ")\n",
    "\n",
    "\n",
    "ordersByUsersA = (\n",
    "    orders[orders['group'] == 'A']\n",
    "    .groupby('visitorId', as_index=False)\n",
    "    .agg({'transactionId': pd.Series.nunique})\n",
    ")\n",
    "ordersByUsersA.columns = ['visitorId', 'orders']\n",
    "\n",
    "ordersByUsersB = (\n",
    "    orders[orders['group'] == 'B']\n",
    "    .groupby('visitorId', as_index=False)\n",
    "    .agg({'transactionId': pd.Series.nunique})\n",
    ")\n",
    "ordersByUsersB.columns = ['visitorId', 'orders']\n",
    "\n",
    "sampleA = pd.concat(\n",
    "    [\n",
    "        ordersByUsersA['orders'],\n",
    "        pd.Series(\n",
    "            0,\n",
    "            index=np.arange(\n",
    "                data['visitorsPerDateA'].sum() - len(ordersByUsersA['orders'])\n",
    "            ),\n",
    "            name='orders',\n",
    "        ),\n",
    "    ],\n",
    "    axis=0,\n",
    ")\n",
    "\n",
    "sampleB = pd.concat(\n",
    "    [\n",
    "        ordersByUsersB['orders'],\n",
    "        pd.Series(\n",
    "            0,\n",
    "            index=np.arange(\n",
    "                data['visitorsPerDateB'].sum() - len(ordersByUsersB['orders'])\n",
    "            ),\n",
    "            name='orders',\n",
    "        ),\n",
    "    ],\n",
    "    axis=0,\n",
    ")\n",
    "\n",
    "print(\"{0:.5f}\".format(stats.mannwhitneyu(sampleA, sampleB)[1]))\n",
    "\n",
    "print(\"{0:.3f}\".format(sampleB.mean() / sampleA.mean() - 1))"
   ]
  },
  {
   "cell_type": "markdown",
   "metadata": {},
   "source": [
    "Отвергаем нулевую гипотезу - p-value меньше 0.05, группа В имеет показатели выше на 13.8%.\n",
    "\n",
    "11. Посчитаем статистическую значимость различий в среднем чеке заказа между группами по «сырым» данным. "
   ]
  },
  {
   "cell_type": "markdown",
   "metadata": {},
   "source": [
    "За нулевую гипотезу H0 примем - статистически значимых различий в среднемчеке между группами нет.\n",
    "Тогда альтернативная гипотеза Н1 - статистически значимые различия есть."
   ]
  },
  {
   "cell_type": "code",
   "execution_count": 26,
   "metadata": {},
   "outputs": [
    {
     "name": "stdout",
     "output_type": "stream",
     "text": [
      "0.729\n",
      "0.259\n"
     ]
    }
   ],
   "source": [
    "print('{0:.3f}'.format(stats.mannwhitneyu(orders[orders['group']=='A']['revenue'], orders[orders['group']=='B']['revenue'])[1]))\n",
    "print('{0:.3f}'.format(orders[orders['group']=='B']['revenue'].mean()/orders[orders['group']=='A']['revenue'].mean()-1))"
   ]
  },
  {
   "cell_type": "markdown",
   "metadata": {},
   "source": [
    "P-value выше 0.05 мы не можем опровергнуть нулевую гипотезу. Анализ \"сырых\" данных показал, что в среднем количестве заказов между группами нет статистически значимых различий, а вот средние чеки значимо отличаются. Относительный прирост среднего группы В к среднему группы А равен 13,8%, а прирост среднего чека - 25,9%.\n",
    "\n",
    "12. Посчитаем статистическую значимость различий в среднем количестве заказов на посетителя между группами по «очищенным» данным."
   ]
  },
  {
   "cell_type": "code",
   "execution_count": 27,
   "metadata": {},
   "outputs": [
    {
     "name": "stdout",
     "output_type": "stream",
     "text": [
      "1099     148427295\n",
      "949      887908475\n",
      "744      888512513\n",
      "1103    1164614297\n",
      "1136    1307669133\n",
      "Name: visitorId, dtype: int64\n"
     ]
    }
   ],
   "source": [
    "#список аномальных пользователей\n",
    "usersWithManyOrders = pd.concat(\n",
    "    [\n",
    "        ordersByUsersA[ordersByUsersA['orders'] > int(np.percentile(ordersByUsers['orders'], [99]))]['visitorId'],\n",
    "        ordersByUsersB[ordersByUsersB['orders'] > int(np.percentile(ordersByUsers['orders'], [99]))]['visitorId'],\n",
    "    ],\n",
    "    axis=0,\n",
    ")\n",
    "usersWithExpensiveOrders = orders[orders['revenue'] > int(np.percentile(orders['revenue'], [99]))]['visitorId']\n",
    "abnormalUsers = (\n",
    "    pd.concat([usersWithManyOrders, usersWithExpensiveOrders], axis=0)\n",
    "    .drop_duplicates()\n",
    "    .sort_values()\n",
    ")\n",
    "print(abnormalUsers.head(5))"
   ]
  },
  {
   "cell_type": "markdown",
   "metadata": {},
   "source": [
    "Нулевая гипотеза: среднее количество заказов на посетителя между группами не отличается.\n",
    "\n",
    "Альтернативная гипотеза: среднее количество заказов на посетителя между группами имеет статистически значимое отличие.\n",
    "\n",
    "Уровень значимости принимаем за 0.05.\n",
    "\n"
   ]
  },
  {
   "cell_type": "code",
   "execution_count": 28,
   "metadata": {},
   "outputs": [
    {
     "name": "stdout",
     "output_type": "stream",
     "text": [
      "0.01438\n",
      "0.153\n"
     ]
    }
   ],
   "source": [
    "sampleAFiltered = pd.concat(\n",
    "    [\n",
    "        ordersByUsersA[\n",
    "            np.logical_not(ordersByUsersA['visitorId'].isin(abnormalUsers))\n",
    "        ]['orders'],\n",
    "        pd.Series(\n",
    "            0,\n",
    "            index=np.arange(\n",
    "                data['visitorsPerDateA'].sum() - len(ordersByUsersA['orders'])\n",
    "            ),\n",
    "            name='orders',\n",
    "        ),\n",
    "    ],\n",
    "    axis=0,\n",
    ")\n",
    "\n",
    "sampleBFiltered = pd.concat(\n",
    "    [\n",
    "        ordersByUsersB[\n",
    "            np.logical_not(ordersByUsersB['visitorId'].isin(abnormalUsers))\n",
    "        ]['orders'],\n",
    "        pd.Series(\n",
    "            0,\n",
    "            index=np.arange(\n",
    "                data['visitorsPerDateB'].sum() - len(ordersByUsersB['orders'])\n",
    "            ),\n",
    "            name='orders',\n",
    "        ),\n",
    "    ],\n",
    "    axis=0,\n",
    ")\n",
    "\n",
    "print('{0:.5f}'.format(stats.mannwhitneyu(sampleAFiltered, sampleBFiltered)[1]))\n",
    "print('{0:.3f}'.format(sampleBFiltered.mean()/sampleAFiltered.mean()-1))"
   ]
  },
  {
   "cell_type": "markdown",
   "metadata": {},
   "source": [
    "Отвергаем нулевую гипотезу - p-value меньше 0.05, статистически значимые отличия - разница составляет 15%.\n"
   ]
  },
  {
   "cell_type": "markdown",
   "metadata": {},
   "source": [
    "13. Посчитаем статистическую значимость различий в среднем чеке заказа между группами по «очищенным» данным."
   ]
  },
  {
   "cell_type": "markdown",
   "metadata": {},
   "source": [
    "Нулевая гипотеза: средний чек посетителя между группами не отличается.\n",
    "\n",
    "Альтернативная гипотеза: средний чек посетителя между группами имеет статистически значимое отличие.\n",
    "\n",
    "Уровень значимости принимаем за 0.05."
   ]
  },
  {
   "cell_type": "code",
   "execution_count": 29,
   "metadata": {},
   "outputs": [
    {
     "name": "stdout",
     "output_type": "stream",
     "text": [
      "0.851\n",
      "-0.006\n"
     ]
    }
   ],
   "source": [
    "print(\n",
    "    '{0:.3f}'.format(\n",
    "        stats.mannwhitneyu(\n",
    "            orders[\n",
    "                np.logical_and(\n",
    "                    orders['group'] == 'A',\n",
    "                    np.logical_not(orders['visitorId'].isin(abnormalUsers)),\n",
    "                )\n",
    "            ]['revenue'],\n",
    "            orders[\n",
    "                np.logical_and(\n",
    "                    orders['group'] == 'B',\n",
    "                    np.logical_not(orders['visitorId'].isin(abnormalUsers)),\n",
    "                )\n",
    "            ]['revenue'],\n",
    "        )[1]\n",
    "    )\n",
    ")\n",
    "\n",
    "print(\n",
    "    \"{0:.3f}\".format(\n",
    "        orders[\n",
    "            np.logical_and(\n",
    "                orders['group'] == 'B',\n",
    "                np.logical_not(orders['visitorId'].isin(abnormalUsers)),\n",
    "            )\n",
    "        ]['revenue'].mean()\n",
    "        / orders[\n",
    "            np.logical_and(\n",
    "                orders['group'] == 'A',\n",
    "                np.logical_not(orders['visitorId'].isin(abnormalUsers)),\n",
    "            )\n",
    "        ]['revenue'].mean()\n",
    "        - 1\n",
    "    )\n",
    ")"
   ]
  },
  {
   "cell_type": "markdown",
   "metadata": {},
   "source": [
    "P-value выше 0.05 мы не можем опровергнуть нулевую гипотезу. Анализ \"сырых\" данных показал, что средний чек посетителя между группами не отличается."
   ]
  },
  {
   "cell_type": "markdown",
   "metadata": {},
   "source": [
    "В ходе вычислений установлено, что:\n",
    "\n",
    "- по сырым данным нет статистически значимого различия по среднему количеству заказов, после удаления аномалий также значимого различия не выявлено;\n",
    "- есть статистически значимое различие в среднем чеке между группами как по сырым данным, так и после фильтрации аномалий;\n",
    "- график различия среднего чека сильно колеблется, вероятно, из-за аномалий. Он не позволяет сделать значимых выводов, но позволил выявить наличие аномалий.\n",
    "\n",
    "Тест можно остановить и признать успешным. График конверсии пришёл к стабильности, группа В статистически значимо лучше группы А"
   ]
  },
  {
   "cell_type": "markdown",
   "metadata": {},
   "source": [
    "## Вывод."
   ]
  },
  {
   "cell_type": "markdown",
   "metadata": {},
   "source": [
    "В начале работы мы выгрузили датасеты и подготовили таблицы для дальнейшего анализа. А именно: изучили общую информацию, посмотрели на тип данных, проверили пропуски и дубликаты. Как видим данные не содержат пропусков и дубликатов, поэтому только было изменено тип данных для дат и названия столбцов переведено в удобный формат. Можно приступать к вычислениям.\n",
    "\n",
    "\n",
    "Затем применили фреймворк ICE и RICE.\n",
    "По методу ICE, наибольший приоритет имеет гипотеза 8, предлагающая запустить акцию, дающую скидку на товар в день рождения пользователя. По методу Rice, наиболее приоритетна гипотеза 7 - добавить форму подписки на все основные страницы, чтобы собрать базу клиентов для email рассылок.\n",
    "\n",
    "Такая разница в результатах, вероятно, связана с тем, что метод ICE не учитывает, скольких пользователей затронет вносимое изменение. Акция, дающая скидку на товар в день рождения пользователя, затронет только часть пользователей - тех, кто указал свою дату рождения, и не затронет единовременно всех пользователей. Форма подписки на всех основных страницах затронет большую часть пользователей интернет-магазина.\n",
    "\n",
    "В ходе вычислений установлено, что:\n",
    "\n",
    "- по сырым данным нет статистически значимого различия по среднему количеству заказов, после удаления аномалий также значимого различия не выявлено;\n",
    "- есть статистически значимое различие в среднем чеке между группами как по сырым данным, так и после фильтрации аномалий;\n",
    "- график различия среднего чека сильно колеблется, вероятно, из-за аномалий. Он не позволяет сделать значимых выводов, но позволил выявить наличие аномалий.\n",
    "\n",
    "Тест можно остановить и признать успешным. График конверсии пришёл к стабильности, группа В статистически значимо лучше группы А\n",
    "\n",
    "Отделу маркетинга  рекомендуется начать работу по стимуляции к увеличению среднего чека."
   ]
  }
 ],
 "metadata": {
  "ExecuteTimeLog": [
   {
    "duration": 1319,
    "start_time": "2023-08-07T09:53:17.863Z"
   },
   {
    "duration": 88,
    "start_time": "2023-08-07T10:01:14.402Z"
   },
   {
    "duration": 416,
    "start_time": "2023-08-07T10:02:33.233Z"
   },
   {
    "duration": 34,
    "start_time": "2023-08-07T10:03:17.303Z"
   },
   {
    "duration": 111,
    "start_time": "2023-08-07T10:04:07.679Z"
   },
   {
    "duration": 63,
    "start_time": "2023-08-07T10:04:16.651Z"
   },
   {
    "duration": 35,
    "start_time": "2023-08-07T10:04:18.336Z"
   },
   {
    "duration": 67,
    "start_time": "2023-08-07T10:04:32.338Z"
   },
   {
    "duration": 69,
    "start_time": "2023-08-07T10:05:24.938Z"
   },
   {
    "duration": 34,
    "start_time": "2023-08-07T10:14:03.247Z"
   },
   {
    "duration": 34,
    "start_time": "2023-08-07T10:14:08.307Z"
   },
   {
    "duration": 33,
    "start_time": "2023-08-07T10:14:17.028Z"
   },
   {
    "duration": 84,
    "start_time": "2023-08-07T10:16:34.132Z"
   },
   {
    "duration": 13,
    "start_time": "2023-08-07T10:16:45.808Z"
   },
   {
    "duration": 9,
    "start_time": "2023-08-07T10:16:59.060Z"
   },
   {
    "duration": 87,
    "start_time": "2023-08-07T10:17:38.032Z"
   },
   {
    "duration": 71,
    "start_time": "2023-08-07T10:17:48.547Z"
   },
   {
    "duration": 71,
    "start_time": "2023-08-07T10:17:53.234Z"
   },
   {
    "duration": 33,
    "start_time": "2023-08-07T10:18:08.294Z"
   },
   {
    "duration": 149,
    "start_time": "2023-08-07T10:20:33.938Z"
   },
   {
    "duration": 11,
    "start_time": "2023-08-07T10:20:45.583Z"
   },
   {
    "duration": 46,
    "start_time": "2023-08-07T10:21:02.210Z"
   },
   {
    "duration": 3,
    "start_time": "2023-08-07T10:23:17.546Z"
   },
   {
    "duration": 70,
    "start_time": "2023-08-07T10:23:20.172Z"
   },
   {
    "duration": 23,
    "start_time": "2023-08-07T10:23:20.903Z"
   },
   {
    "duration": 33,
    "start_time": "2023-08-07T10:23:21.684Z"
   },
   {
    "duration": 52,
    "start_time": "2023-08-07T10:23:48.901Z"
   },
   {
    "duration": 46,
    "start_time": "2023-08-07T10:24:11.014Z"
   },
   {
    "duration": 53,
    "start_time": "2023-08-07T10:24:26.268Z"
   },
   {
    "duration": 45,
    "start_time": "2023-08-07T10:24:39.722Z"
   },
   {
    "duration": 44,
    "start_time": "2023-08-07T10:24:52.825Z"
   },
   {
    "duration": 4,
    "start_time": "2023-08-07T10:28:12.618Z"
   },
   {
    "duration": 57,
    "start_time": "2023-08-07T10:28:13.077Z"
   },
   {
    "duration": 22,
    "start_time": "2023-08-07T10:28:13.495Z"
   },
   {
    "duration": 21,
    "start_time": "2023-08-07T10:28:14.023Z"
   },
   {
    "duration": 48,
    "start_time": "2023-08-07T10:28:15.370Z"
   },
   {
    "duration": 6,
    "start_time": "2023-08-07T10:28:16.270Z"
   },
   {
    "duration": 1776,
    "start_time": "2023-08-07T10:31:16.333Z"
   },
   {
    "duration": 0,
    "start_time": "2023-08-07T10:31:18.111Z"
   },
   {
    "duration": 0,
    "start_time": "2023-08-07T10:31:18.112Z"
   },
   {
    "duration": 794,
    "start_time": "2023-08-07T10:31:35.545Z"
   },
   {
    "duration": 0,
    "start_time": "2023-08-07T10:31:36.340Z"
   },
   {
    "duration": 4,
    "start_time": "2023-08-07T10:40:05.954Z"
   },
   {
    "duration": 10,
    "start_time": "2023-08-07T10:40:49.463Z"
   },
   {
    "duration": 3,
    "start_time": "2023-08-07T10:42:23.919Z"
   },
   {
    "duration": 56,
    "start_time": "2023-08-07T10:42:24.955Z"
   },
   {
    "duration": 32,
    "start_time": "2023-08-07T10:42:26.251Z"
   },
   {
    "duration": 37,
    "start_time": "2023-08-07T10:42:27.535Z"
   },
   {
    "duration": 3,
    "start_time": "2023-08-07T10:42:32.525Z"
   },
   {
    "duration": 4,
    "start_time": "2023-08-07T10:42:34.569Z"
   },
   {
    "duration": 53,
    "start_time": "2023-08-07T10:42:46.375Z"
   },
   {
    "duration": 4,
    "start_time": "2023-08-07T10:42:53.450Z"
   },
   {
    "duration": 11,
    "start_time": "2023-08-07T10:42:54.072Z"
   },
   {
    "duration": 9,
    "start_time": "2023-08-07T10:43:17.313Z"
   },
   {
    "duration": 9,
    "start_time": "2023-08-07T10:43:29.529Z"
   },
   {
    "duration": 6,
    "start_time": "2023-08-07T10:43:57.409Z"
   },
   {
    "duration": 1385,
    "start_time": "2023-08-07T10:44:00.482Z"
   },
   {
    "duration": 940,
    "start_time": "2023-08-07T10:44:02.199Z"
   },
   {
    "duration": 831,
    "start_time": "2023-08-07T10:44:16.055Z"
   },
   {
    "duration": 1168,
    "start_time": "2023-08-07T10:44:34.211Z"
   },
   {
    "duration": 63,
    "start_time": "2023-08-07T10:44:35.382Z"
   },
   {
    "duration": 22,
    "start_time": "2023-08-07T10:44:35.447Z"
   },
   {
    "duration": 25,
    "start_time": "2023-08-07T10:44:35.471Z"
   },
   {
    "duration": 3,
    "start_time": "2023-08-07T10:44:35.498Z"
   },
   {
    "duration": 10,
    "start_time": "2023-08-07T10:44:35.503Z"
   },
   {
    "duration": 87,
    "start_time": "2023-08-07T10:44:35.515Z"
   },
   {
    "duration": 5,
    "start_time": "2023-08-07T10:44:35.604Z"
   },
   {
    "duration": 24,
    "start_time": "2023-08-07T10:44:35.610Z"
   },
   {
    "duration": 14,
    "start_time": "2023-08-07T10:44:35.636Z"
   },
   {
    "duration": 176,
    "start_time": "2023-08-07T10:44:35.652Z"
   },
   {
    "duration": 5,
    "start_time": "2023-08-07T10:44:56.290Z"
   },
   {
    "duration": 96,
    "start_time": "2023-08-07T11:01:12.992Z"
   },
   {
    "duration": 88,
    "start_time": "2023-08-07T11:01:30.738Z"
   },
   {
    "duration": 8,
    "start_time": "2023-08-07T11:02:52.795Z"
   },
   {
    "duration": 10,
    "start_time": "2023-08-07T11:07:13.376Z"
   },
   {
    "duration": 9,
    "start_time": "2023-08-07T11:07:20.874Z"
   },
   {
    "duration": 8,
    "start_time": "2023-08-07T11:07:57.299Z"
   },
   {
    "duration": 8,
    "start_time": "2023-08-07T11:08:10.100Z"
   },
   {
    "duration": 10,
    "start_time": "2023-08-07T11:10:01.396Z"
   },
   {
    "duration": 12,
    "start_time": "2023-08-07T11:10:29.356Z"
   },
   {
    "duration": 12,
    "start_time": "2023-08-07T11:10:36.610Z"
   },
   {
    "duration": 62,
    "start_time": "2023-08-07T11:11:48.103Z"
   },
   {
    "duration": 9,
    "start_time": "2023-08-07T11:12:58.561Z"
   },
   {
    "duration": 9,
    "start_time": "2023-08-07T11:13:11.576Z"
   },
   {
    "duration": 11,
    "start_time": "2023-08-07T11:13:23.224Z"
   },
   {
    "duration": 16,
    "start_time": "2023-08-07T11:15:39.475Z"
   },
   {
    "duration": 35,
    "start_time": "2023-08-07T11:16:49.470Z"
   },
   {
    "duration": 33,
    "start_time": "2023-08-07T11:16:54.269Z"
   },
   {
    "duration": 2840,
    "start_time": "2023-08-07T11:20:30.120Z"
   },
   {
    "duration": 2095,
    "start_time": "2023-08-07T11:20:34.164Z"
   },
   {
    "duration": 4,
    "start_time": "2023-08-07T11:20:51.364Z"
   },
   {
    "duration": 56,
    "start_time": "2023-08-07T11:20:51.565Z"
   },
   {
    "duration": 21,
    "start_time": "2023-08-07T11:20:51.725Z"
   },
   {
    "duration": 22,
    "start_time": "2023-08-07T11:20:51.903Z"
   },
   {
    "duration": 4,
    "start_time": "2023-08-07T11:20:52.275Z"
   },
   {
    "duration": 4,
    "start_time": "2023-08-07T11:20:52.459Z"
   },
   {
    "duration": 50,
    "start_time": "2023-08-07T11:20:52.858Z"
   },
   {
    "duration": 5,
    "start_time": "2023-08-07T11:20:53.213Z"
   },
   {
    "duration": 6,
    "start_time": "2023-08-07T11:20:53.413Z"
   },
   {
    "duration": 12,
    "start_time": "2023-08-07T11:20:53.602Z"
   },
   {
    "duration": 8,
    "start_time": "2023-08-07T11:20:53.806Z"
   },
   {
    "duration": 11,
    "start_time": "2023-08-07T11:20:54.638Z"
   },
   {
    "duration": 14,
    "start_time": "2023-08-07T11:20:55.745Z"
   },
   {
    "duration": 1396,
    "start_time": "2023-08-07T22:51:01.537Z"
   },
   {
    "duration": 199,
    "start_time": "2023-08-07T22:51:02.939Z"
   },
   {
    "duration": 58,
    "start_time": "2023-08-07T22:51:03.140Z"
   },
   {
    "duration": 66,
    "start_time": "2023-08-07T22:51:03.206Z"
   },
   {
    "duration": 2,
    "start_time": "2023-08-07T22:51:03.274Z"
   },
   {
    "duration": 6,
    "start_time": "2023-08-07T22:51:03.278Z"
   },
   {
    "duration": 72,
    "start_time": "2023-08-07T22:51:03.285Z"
   },
   {
    "duration": 15,
    "start_time": "2023-08-07T22:51:03.510Z"
   },
   {
    "duration": 5,
    "start_time": "2023-08-07T22:51:03.678Z"
   },
   {
    "duration": 32,
    "start_time": "2023-08-07T22:51:03.892Z"
   },
   {
    "duration": 8,
    "start_time": "2023-08-07T22:51:04.122Z"
   },
   {
    "duration": 16,
    "start_time": "2023-08-07T22:51:04.930Z"
   },
   {
    "duration": 12,
    "start_time": "2023-08-07T22:51:05.329Z"
   },
   {
    "duration": 98,
    "start_time": "2023-08-07T22:51:06.395Z"
   },
   {
    "duration": 160,
    "start_time": "2023-08-07T22:51:13.792Z"
   },
   {
    "duration": 20,
    "start_time": "2023-08-07T22:54:24.397Z"
   },
   {
    "duration": 8,
    "start_time": "2023-08-07T22:54:25.046Z"
   },
   {
    "duration": 565,
    "start_time": "2023-08-07T22:55:17.889Z"
   },
   {
    "duration": 533,
    "start_time": "2023-08-07T22:56:19.222Z"
   },
   {
    "duration": 471,
    "start_time": "2023-08-07T22:56:29.292Z"
   },
   {
    "duration": 473,
    "start_time": "2023-08-07T22:56:40.821Z"
   },
   {
    "duration": 505,
    "start_time": "2023-08-07T22:56:48.193Z"
   },
   {
    "duration": 489,
    "start_time": "2023-08-07T22:57:40.344Z"
   },
   {
    "duration": 494,
    "start_time": "2023-08-07T22:57:52.614Z"
   },
   {
    "duration": 723,
    "start_time": "2023-08-07T22:58:25.831Z"
   },
   {
    "duration": 4,
    "start_time": "2023-08-07T23:10:05.594Z"
   },
   {
    "duration": 78,
    "start_time": "2023-08-07T23:10:05.791Z"
   },
   {
    "duration": 31,
    "start_time": "2023-08-07T23:10:05.994Z"
   },
   {
    "duration": 45,
    "start_time": "2023-08-07T23:10:06.213Z"
   },
   {
    "duration": 7,
    "start_time": "2023-08-07T23:10:06.638Z"
   },
   {
    "duration": 9,
    "start_time": "2023-08-07T23:10:06.842Z"
   },
   {
    "duration": 105,
    "start_time": "2023-08-07T23:10:07.250Z"
   },
   {
    "duration": 5,
    "start_time": "2023-08-07T23:10:07.687Z"
   },
   {
    "duration": 6,
    "start_time": "2023-08-07T23:10:07.891Z"
   },
   {
    "duration": 22,
    "start_time": "2023-08-07T23:10:08.120Z"
   },
   {
    "duration": 11,
    "start_time": "2023-08-07T23:10:08.330Z"
   },
   {
    "duration": 23,
    "start_time": "2023-08-07T23:10:09.200Z"
   },
   {
    "duration": 21,
    "start_time": "2023-08-07T23:10:09.643Z"
   },
   {
    "duration": 689,
    "start_time": "2023-08-07T23:10:10.890Z"
   },
   {
    "duration": 283,
    "start_time": "2023-08-07T23:12:18.668Z"
   },
   {
    "duration": 294,
    "start_time": "2023-08-07T23:12:56.397Z"
   },
   {
    "duration": 263,
    "start_time": "2023-08-07T23:13:24.296Z"
   },
   {
    "duration": 383,
    "start_time": "2023-08-07T23:23:25.270Z"
   },
   {
    "duration": 357,
    "start_time": "2023-08-07T23:27:10.318Z"
   },
   {
    "duration": 200,
    "start_time": "2023-08-07T23:29:47.457Z"
   },
   {
    "duration": 350,
    "start_time": "2023-08-07T23:30:15.736Z"
   },
   {
    "duration": 234,
    "start_time": "2023-08-07T23:30:34.895Z"
   },
   {
    "duration": 337,
    "start_time": "2023-08-07T23:32:37.027Z"
   },
   {
    "duration": 360,
    "start_time": "2023-08-07T23:32:58.176Z"
   },
   {
    "duration": 555,
    "start_time": "2023-08-07T23:36:05.618Z"
   },
   {
    "duration": 22,
    "start_time": "2023-08-07T23:39:23.350Z"
   },
   {
    "duration": 320,
    "start_time": "2023-08-07T23:40:33.885Z"
   },
   {
    "duration": 321,
    "start_time": "2023-08-07T23:40:44.772Z"
   },
   {
    "duration": 315,
    "start_time": "2023-08-07T23:41:41.377Z"
   },
   {
    "duration": 473,
    "start_time": "2023-08-07T23:42:07.071Z"
   },
   {
    "duration": 400,
    "start_time": "2023-08-07T23:42:16.463Z"
   },
   {
    "duration": 447,
    "start_time": "2023-08-07T23:42:23.966Z"
   },
   {
    "duration": 59,
    "start_time": "2023-08-08T05:58:00.869Z"
   },
   {
    "duration": 1336,
    "start_time": "2023-08-08T05:58:33.530Z"
   },
   {
    "duration": 109,
    "start_time": "2023-08-08T05:58:34.868Z"
   },
   {
    "duration": 61,
    "start_time": "2023-08-08T05:58:34.978Z"
   },
   {
    "duration": 57,
    "start_time": "2023-08-08T05:58:35.041Z"
   },
   {
    "duration": 3,
    "start_time": "2023-08-08T05:58:35.100Z"
   },
   {
    "duration": 22,
    "start_time": "2023-08-08T05:58:35.105Z"
   },
   {
    "duration": 59,
    "start_time": "2023-08-08T05:58:35.165Z"
   },
   {
    "duration": 5,
    "start_time": "2023-08-08T05:58:35.584Z"
   },
   {
    "duration": 7,
    "start_time": "2023-08-08T05:58:35.786Z"
   },
   {
    "duration": 19,
    "start_time": "2023-08-08T05:58:35.997Z"
   },
   {
    "duration": 5,
    "start_time": "2023-08-08T05:58:36.215Z"
   },
   {
    "duration": 14,
    "start_time": "2023-08-08T05:58:37.042Z"
   },
   {
    "duration": 12,
    "start_time": "2023-08-08T05:58:37.460Z"
   },
   {
    "duration": 562,
    "start_time": "2023-08-08T05:58:38.534Z"
   },
   {
    "duration": 214,
    "start_time": "2023-08-08T05:58:39.098Z"
   },
   {
    "duration": 388,
    "start_time": "2023-08-08T05:58:39.388Z"
   },
   {
    "duration": 217,
    "start_time": "2023-08-08T05:58:40.099Z"
   },
   {
    "duration": 288,
    "start_time": "2023-08-08T05:58:40.526Z"
   },
   {
    "duration": 307,
    "start_time": "2023-08-08T05:58:40.931Z"
   },
   {
    "duration": 58,
    "start_time": "2023-08-08T05:58:41.355Z"
   },
   {
    "duration": 5,
    "start_time": "2023-08-08T06:00:00.463Z"
   },
   {
    "duration": 6,
    "start_time": "2023-08-08T06:00:17.442Z"
   },
   {
    "duration": 6,
    "start_time": "2023-08-08T06:02:11.874Z"
   },
   {
    "duration": 173,
    "start_time": "2023-08-08T06:08:44.743Z"
   },
   {
    "duration": 1650,
    "start_time": "2023-08-08T06:40:09.965Z"
   },
   {
    "duration": 69,
    "start_time": "2023-08-08T06:40:11.618Z"
   },
   {
    "duration": 27,
    "start_time": "2023-08-08T06:40:11.689Z"
   },
   {
    "duration": 27,
    "start_time": "2023-08-08T06:40:11.719Z"
   },
   {
    "duration": 4,
    "start_time": "2023-08-08T06:40:11.748Z"
   },
   {
    "duration": 16,
    "start_time": "2023-08-08T06:40:11.754Z"
   },
   {
    "duration": 92,
    "start_time": "2023-08-08T06:40:11.772Z"
   },
   {
    "duration": 42,
    "start_time": "2023-08-08T06:40:11.867Z"
   },
   {
    "duration": 12,
    "start_time": "2023-08-08T06:40:11.911Z"
   },
   {
    "duration": 24,
    "start_time": "2023-08-08T06:40:11.926Z"
   },
   {
    "duration": 13,
    "start_time": "2023-08-08T06:40:11.952Z"
   },
   {
    "duration": 42,
    "start_time": "2023-08-08T06:40:11.967Z"
   },
   {
    "duration": 18,
    "start_time": "2023-08-08T06:40:12.012Z"
   },
   {
    "duration": 970,
    "start_time": "2023-08-08T06:40:12.032Z"
   },
   {
    "duration": 347,
    "start_time": "2023-08-08T06:40:13.008Z"
   },
   {
    "duration": 454,
    "start_time": "2023-08-08T06:40:13.358Z"
   },
   {
    "duration": 333,
    "start_time": "2023-08-08T06:40:13.814Z"
   },
   {
    "duration": 391,
    "start_time": "2023-08-08T06:40:14.150Z"
   },
   {
    "duration": 501,
    "start_time": "2023-08-08T06:40:14.543Z"
   },
   {
    "duration": 8,
    "start_time": "2023-08-08T06:40:15.046Z"
   },
   {
    "duration": 323,
    "start_time": "2023-08-08T06:40:15.056Z"
   },
   {
    "duration": 72,
    "start_time": "2023-08-08T06:40:15.382Z"
   },
   {
    "duration": 4,
    "start_time": "2023-08-08T06:40:19.962Z"
   },
   {
    "duration": 63,
    "start_time": "2023-08-08T06:40:20.157Z"
   },
   {
    "duration": 26,
    "start_time": "2023-08-08T06:40:20.361Z"
   },
   {
    "duration": 29,
    "start_time": "2023-08-08T06:40:20.560Z"
   },
   {
    "duration": 5,
    "start_time": "2023-08-08T06:40:20.954Z"
   },
   {
    "duration": 6,
    "start_time": "2023-08-08T06:40:21.147Z"
   },
   {
    "duration": 79,
    "start_time": "2023-08-08T06:40:21.536Z"
   },
   {
    "duration": 7,
    "start_time": "2023-08-08T06:40:21.946Z"
   },
   {
    "duration": 8,
    "start_time": "2023-08-08T06:40:22.136Z"
   },
   {
    "duration": 19,
    "start_time": "2023-08-08T06:40:22.338Z"
   },
   {
    "duration": 8,
    "start_time": "2023-08-08T06:40:22.564Z"
   },
   {
    "duration": 18,
    "start_time": "2023-08-08T06:40:23.374Z"
   },
   {
    "duration": 19,
    "start_time": "2023-08-08T06:40:23.792Z"
   },
   {
    "duration": 613,
    "start_time": "2023-08-08T06:40:24.934Z"
   },
   {
    "duration": 423,
    "start_time": "2023-08-08T06:40:25.552Z"
   },
   {
    "duration": 448,
    "start_time": "2023-08-08T06:40:25.978Z"
   },
   {
    "duration": 337,
    "start_time": "2023-08-08T06:40:26.444Z"
   },
   {
    "duration": 438,
    "start_time": "2023-08-08T06:40:26.897Z"
   },
   {
    "duration": 382,
    "start_time": "2023-08-08T06:40:27.410Z"
   },
   {
    "duration": 5,
    "start_time": "2023-08-08T06:40:27.860Z"
   },
   {
    "duration": 239,
    "start_time": "2023-08-08T06:40:28.360Z"
   },
   {
    "duration": 201,
    "start_time": "2023-08-08T06:40:38.253Z"
   },
   {
    "duration": 1160,
    "start_time": "2023-08-08T07:03:23.157Z"
   },
   {
    "duration": 63,
    "start_time": "2023-08-08T07:03:24.319Z"
   },
   {
    "duration": 25,
    "start_time": "2023-08-08T07:03:24.384Z"
   },
   {
    "duration": 48,
    "start_time": "2023-08-08T07:03:24.413Z"
   },
   {
    "duration": 7,
    "start_time": "2023-08-08T07:03:24.463Z"
   },
   {
    "duration": 30,
    "start_time": "2023-08-08T07:03:24.473Z"
   },
   {
    "duration": 101,
    "start_time": "2023-08-08T07:03:24.506Z"
   },
   {
    "duration": 7,
    "start_time": "2023-08-08T07:03:24.610Z"
   },
   {
    "duration": 24,
    "start_time": "2023-08-08T07:03:24.620Z"
   },
   {
    "duration": 14,
    "start_time": "2023-08-08T07:03:24.648Z"
   },
   {
    "duration": 11,
    "start_time": "2023-08-08T07:03:24.664Z"
   },
   {
    "duration": 18,
    "start_time": "2023-08-08T07:03:24.677Z"
   },
   {
    "duration": 23,
    "start_time": "2023-08-08T07:03:24.709Z"
   },
   {
    "duration": 718,
    "start_time": "2023-08-08T07:03:24.734Z"
   },
   {
    "duration": 273,
    "start_time": "2023-08-08T07:03:25.454Z"
   },
   {
    "duration": 406,
    "start_time": "2023-08-08T07:03:25.729Z"
   },
   {
    "duration": 324,
    "start_time": "2023-08-08T07:03:26.137Z"
   },
   {
    "duration": 361,
    "start_time": "2023-08-08T07:03:26.464Z"
   },
   {
    "duration": 387,
    "start_time": "2023-08-08T07:03:26.827Z"
   },
   {
    "duration": 6,
    "start_time": "2023-08-08T07:03:27.217Z"
   },
   {
    "duration": 259,
    "start_time": "2023-08-08T07:03:27.224Z"
   },
   {
    "duration": 67,
    "start_time": "2023-08-08T07:03:27.485Z"
   },
   {
    "duration": 4,
    "start_time": "2023-08-08T07:03:31.155Z"
   },
   {
    "duration": 147,
    "start_time": "2023-08-08T07:03:31.350Z"
   },
   {
    "duration": 205,
    "start_time": "2023-08-08T07:03:31.529Z"
   },
   {
    "duration": 233,
    "start_time": "2023-08-08T07:03:31.737Z"
   },
   {
    "duration": 4,
    "start_time": "2023-08-08T07:03:32.115Z"
   },
   {
    "duration": 4,
    "start_time": "2023-08-08T07:03:32.317Z"
   },
   {
    "duration": 58,
    "start_time": "2023-08-08T07:03:32.730Z"
   },
   {
    "duration": 6,
    "start_time": "2023-08-08T07:03:33.119Z"
   },
   {
    "duration": 51,
    "start_time": "2023-08-08T07:03:33.314Z"
   },
   {
    "duration": 211,
    "start_time": "2023-08-08T07:03:33.504Z"
   },
   {
    "duration": 168,
    "start_time": "2023-08-08T07:03:33.717Z"
   },
   {
    "duration": 14,
    "start_time": "2023-08-08T07:03:34.501Z"
   },
   {
    "duration": 18,
    "start_time": "2023-08-08T07:03:34.912Z"
   },
   {
    "duration": 619,
    "start_time": "2023-08-08T07:03:35.926Z"
   },
   {
    "duration": 432,
    "start_time": "2023-08-08T07:03:36.547Z"
   },
   {
    "duration": 405,
    "start_time": "2023-08-08T07:03:36.981Z"
   },
   {
    "duration": 269,
    "start_time": "2023-08-08T07:03:37.390Z"
   },
   {
    "duration": 420,
    "start_time": "2023-08-08T07:03:37.661Z"
   },
   {
    "duration": 348,
    "start_time": "2023-08-08T07:03:38.084Z"
   },
   {
    "duration": 6,
    "start_time": "2023-08-08T07:03:38.434Z"
   },
   {
    "duration": 193,
    "start_time": "2023-08-08T07:03:38.804Z"
   },
   {
    "duration": 80,
    "start_time": "2023-08-08T07:03:39.429Z"
   },
   {
    "duration": 7,
    "start_time": "2023-08-08T07:07:07.251Z"
   },
   {
    "duration": 7,
    "start_time": "2023-08-08T07:08:01.041Z"
   },
   {
    "duration": 222,
    "start_time": "2023-08-08T07:09:08.473Z"
   },
   {
    "duration": 185,
    "start_time": "2023-08-08T07:14:14.532Z"
   },
   {
    "duration": 169,
    "start_time": "2023-08-08T07:16:56.748Z"
   },
   {
    "duration": 177,
    "start_time": "2023-08-08T07:18:07.608Z"
   },
   {
    "duration": 167,
    "start_time": "2023-08-08T07:18:17.351Z"
   },
   {
    "duration": 180,
    "start_time": "2023-08-08T07:18:22.511Z"
   },
   {
    "duration": 172,
    "start_time": "2023-08-08T07:18:29.703Z"
   },
   {
    "duration": 296,
    "start_time": "2023-08-08T07:18:37.872Z"
   },
   {
    "duration": 8,
    "start_time": "2023-08-08T07:21:13.953Z"
   },
   {
    "duration": 6,
    "start_time": "2023-08-08T07:22:48.173Z"
   },
   {
    "duration": 213,
    "start_time": "2023-08-08T07:30:51.978Z"
   },
   {
    "duration": 174,
    "start_time": "2023-08-08T07:32:01.593Z"
   },
   {
    "duration": 412,
    "start_time": "2023-08-08T07:32:50.231Z"
   },
   {
    "duration": 364,
    "start_time": "2023-08-08T07:35:59.842Z"
   },
   {
    "duration": 15,
    "start_time": "2023-08-08T07:39:07.393Z"
   },
   {
    "duration": 111,
    "start_time": "2023-08-08T07:41:07.626Z"
   },
   {
    "duration": 2839,
    "start_time": "2023-08-08T07:49:36.353Z"
   },
   {
    "duration": 2808,
    "start_time": "2023-08-08T07:51:34.237Z"
   },
   {
    "duration": 11,
    "start_time": "2023-08-08T07:51:51.241Z"
   },
   {
    "duration": 10,
    "start_time": "2023-08-08T07:53:31.693Z"
   },
   {
    "duration": 2237,
    "start_time": "2023-08-08T08:08:39.423Z"
   },
   {
    "duration": 27,
    "start_time": "2023-08-08T08:09:06.468Z"
   },
   {
    "duration": 1263,
    "start_time": "2023-08-08T08:41:14.525Z"
   },
   {
    "duration": 63,
    "start_time": "2023-08-08T08:41:15.790Z"
   },
   {
    "duration": 45,
    "start_time": "2023-08-08T08:41:15.856Z"
   },
   {
    "duration": 70,
    "start_time": "2023-08-08T08:41:15.904Z"
   },
   {
    "duration": 56,
    "start_time": "2023-08-08T08:41:15.976Z"
   },
   {
    "duration": 23,
    "start_time": "2023-08-08T08:41:16.035Z"
   },
   {
    "duration": 137,
    "start_time": "2023-08-08T08:41:16.060Z"
   },
   {
    "duration": 61,
    "start_time": "2023-08-08T08:41:16.198Z"
   },
   {
    "duration": 45,
    "start_time": "2023-08-08T08:41:16.261Z"
   },
   {
    "duration": 34,
    "start_time": "2023-08-08T08:41:16.308Z"
   },
   {
    "duration": 32,
    "start_time": "2023-08-08T08:41:16.343Z"
   },
   {
    "duration": 46,
    "start_time": "2023-08-08T08:41:16.376Z"
   },
   {
    "duration": 39,
    "start_time": "2023-08-08T08:41:16.424Z"
   },
   {
    "duration": 630,
    "start_time": "2023-08-08T08:41:16.464Z"
   },
   {
    "duration": 229,
    "start_time": "2023-08-08T08:41:17.096Z"
   },
   {
    "duration": 326,
    "start_time": "2023-08-08T08:41:17.326Z"
   },
   {
    "duration": 5,
    "start_time": "2023-08-08T08:41:17.654Z"
   },
   {
    "duration": 251,
    "start_time": "2023-08-08T08:41:17.660Z"
   },
   {
    "duration": 310,
    "start_time": "2023-08-08T08:41:17.913Z"
   },
   {
    "duration": 294,
    "start_time": "2023-08-08T08:41:18.224Z"
   },
   {
    "duration": 5,
    "start_time": "2023-08-08T08:41:18.521Z"
   },
   {
    "duration": 183,
    "start_time": "2023-08-08T08:41:18.527Z"
   },
   {
    "duration": 156,
    "start_time": "2023-08-08T08:41:18.712Z"
   },
   {
    "duration": 5,
    "start_time": "2023-08-08T08:41:18.870Z"
   },
   {
    "duration": 462,
    "start_time": "2023-08-08T08:41:18.877Z"
   },
   {
    "duration": 12,
    "start_time": "2023-08-08T08:41:19.342Z"
   },
   {
    "duration": 97,
    "start_time": "2023-08-08T08:41:19.357Z"
   },
   {
    "duration": 0,
    "start_time": "2023-08-08T08:41:19.455Z"
   },
   {
    "duration": 0,
    "start_time": "2023-08-08T08:41:19.456Z"
   },
   {
    "duration": 4,
    "start_time": "2023-08-08T08:41:23.135Z"
   },
   {
    "duration": 56,
    "start_time": "2023-08-08T08:41:23.317Z"
   },
   {
    "duration": 21,
    "start_time": "2023-08-08T08:41:23.512Z"
   },
   {
    "duration": 23,
    "start_time": "2023-08-08T08:41:23.704Z"
   },
   {
    "duration": 3,
    "start_time": "2023-08-08T08:41:24.063Z"
   },
   {
    "duration": 5,
    "start_time": "2023-08-08T08:41:24.251Z"
   },
   {
    "duration": 50,
    "start_time": "2023-08-08T08:41:24.628Z"
   },
   {
    "duration": 4,
    "start_time": "2023-08-08T08:41:25.003Z"
   },
   {
    "duration": 5,
    "start_time": "2023-08-08T08:41:25.201Z"
   },
   {
    "duration": 12,
    "start_time": "2023-08-08T08:41:25.406Z"
   },
   {
    "duration": 5,
    "start_time": "2023-08-08T08:41:25.600Z"
   },
   {
    "duration": 12,
    "start_time": "2023-08-08T08:41:26.403Z"
   },
   {
    "duration": 13,
    "start_time": "2023-08-08T08:41:26.772Z"
   },
   {
    "duration": 475,
    "start_time": "2023-08-08T08:41:27.783Z"
   },
   {
    "duration": 212,
    "start_time": "2023-08-08T08:41:28.260Z"
   },
   {
    "duration": 331,
    "start_time": "2023-08-08T08:41:28.595Z"
   },
   {
    "duration": 5,
    "start_time": "2023-08-08T08:41:29.008Z"
   },
   {
    "duration": 234,
    "start_time": "2023-08-08T08:41:29.202Z"
   },
   {
    "duration": 292,
    "start_time": "2023-08-08T08:41:29.630Z"
   },
   {
    "duration": 316,
    "start_time": "2023-08-08T08:41:30.046Z"
   },
   {
    "duration": 5,
    "start_time": "2023-08-08T08:41:30.463Z"
   },
   {
    "duration": 180,
    "start_time": "2023-08-08T08:41:30.899Z"
   },
   {
    "duration": 151,
    "start_time": "2023-08-08T08:41:31.857Z"
   },
   {
    "duration": 6,
    "start_time": "2023-08-08T08:41:33.430Z"
   },
   {
    "duration": 372,
    "start_time": "2023-08-08T08:41:34.566Z"
   },
   {
    "duration": 13,
    "start_time": "2023-08-08T08:41:36.116Z"
   },
   {
    "duration": 314,
    "start_time": "2023-08-08T08:41:37.263Z"
   },
   {
    "duration": 10,
    "start_time": "2023-08-08T08:43:05.539Z"
   },
   {
    "duration": 28,
    "start_time": "2023-08-08T08:43:38.534Z"
   },
   {
    "duration": 1241,
    "start_time": "2023-08-08T10:02:49.515Z"
   },
   {
    "duration": 104,
    "start_time": "2023-08-08T10:02:50.758Z"
   },
   {
    "duration": 58,
    "start_time": "2023-08-08T10:02:50.864Z"
   },
   {
    "duration": 54,
    "start_time": "2023-08-08T10:02:50.924Z"
   },
   {
    "duration": 3,
    "start_time": "2023-08-08T10:02:50.979Z"
   },
   {
    "duration": 31,
    "start_time": "2023-08-08T10:02:50.983Z"
   },
   {
    "duration": 61,
    "start_time": "2023-08-08T10:02:51.016Z"
   },
   {
    "duration": 5,
    "start_time": "2023-08-08T10:02:51.394Z"
   },
   {
    "duration": 4,
    "start_time": "2023-08-08T10:02:51.597Z"
   },
   {
    "duration": 12,
    "start_time": "2023-08-08T10:02:51.785Z"
   },
   {
    "duration": 4,
    "start_time": "2023-08-08T10:02:51.991Z"
   },
   {
    "duration": 11,
    "start_time": "2023-08-08T10:02:52.776Z"
   },
   {
    "duration": 10,
    "start_time": "2023-08-08T10:02:53.206Z"
   },
   {
    "duration": 521,
    "start_time": "2023-08-08T10:02:54.226Z"
   },
   {
    "duration": 193,
    "start_time": "2023-08-08T10:02:54.750Z"
   },
   {
    "duration": 373,
    "start_time": "2023-08-08T10:02:55.086Z"
   },
   {
    "duration": 5,
    "start_time": "2023-08-08T10:02:55.512Z"
   },
   {
    "duration": 180,
    "start_time": "2023-08-08T10:02:55.732Z"
   },
   {
    "duration": 268,
    "start_time": "2023-08-08T10:02:56.151Z"
   },
   {
    "duration": 265,
    "start_time": "2023-08-08T10:02:56.584Z"
   },
   {
    "duration": 4,
    "start_time": "2023-08-08T10:02:57.019Z"
   },
   {
    "duration": 163,
    "start_time": "2023-08-08T10:02:57.476Z"
   },
   {
    "duration": 140,
    "start_time": "2023-08-08T10:02:57.921Z"
   },
   {
    "duration": 5,
    "start_time": "2023-08-08T10:02:59.272Z"
   },
   {
    "duration": 403,
    "start_time": "2023-08-08T10:03:00.090Z"
   },
   {
    "duration": 10,
    "start_time": "2023-08-08T10:03:01.154Z"
   },
   {
    "duration": 8,
    "start_time": "2023-08-08T10:03:01.590Z"
   },
   {
    "duration": 25,
    "start_time": "2023-08-08T10:03:02.022Z"
   },
   {
    "duration": 122,
    "start_time": "2023-08-08T10:03:02.460Z"
   },
   {
    "duration": 101,
    "start_time": "2023-08-08T10:11:46.110Z"
   },
   {
    "duration": 14,
    "start_time": "2023-08-08T10:12:40.707Z"
   },
   {
    "duration": 4,
    "start_time": "2023-08-08T10:20:00.203Z"
   },
   {
    "duration": 55,
    "start_time": "2023-08-08T10:20:00.479Z"
   },
   {
    "duration": 21,
    "start_time": "2023-08-08T10:20:00.768Z"
   },
   {
    "duration": 21,
    "start_time": "2023-08-08T10:20:01.225Z"
   },
   {
    "duration": 3,
    "start_time": "2023-08-08T10:20:01.810Z"
   },
   {
    "duration": 4,
    "start_time": "2023-08-08T10:20:02.079Z"
   },
   {
    "duration": 49,
    "start_time": "2023-08-08T10:20:02.566Z"
   },
   {
    "duration": 4,
    "start_time": "2023-08-08T10:20:03.023Z"
   },
   {
    "duration": 5,
    "start_time": "2023-08-08T10:20:03.251Z"
   },
   {
    "duration": 12,
    "start_time": "2023-08-08T10:20:03.474Z"
   },
   {
    "duration": 5,
    "start_time": "2023-08-08T10:20:03.707Z"
   },
   {
    "duration": 10,
    "start_time": "2023-08-08T10:20:04.528Z"
   },
   {
    "duration": 11,
    "start_time": "2023-08-08T10:20:04.939Z"
   },
   {
    "duration": 440,
    "start_time": "2023-08-08T10:20:06.261Z"
   },
   {
    "duration": 197,
    "start_time": "2023-08-08T10:20:06.705Z"
   },
   {
    "duration": 331,
    "start_time": "2023-08-08T10:20:07.184Z"
   },
   {
    "duration": 6,
    "start_time": "2023-08-08T10:20:07.612Z"
   },
   {
    "duration": 199,
    "start_time": "2023-08-08T10:20:07.827Z"
   },
   {
    "duration": 272,
    "start_time": "2023-08-08T10:20:08.262Z"
   },
   {
    "duration": 266,
    "start_time": "2023-08-08T10:20:08.722Z"
   },
   {
    "duration": 4,
    "start_time": "2023-08-08T10:20:09.170Z"
   },
   {
    "duration": 156,
    "start_time": "2023-08-08T10:20:09.620Z"
   },
   {
    "duration": 138,
    "start_time": "2023-08-08T10:20:10.090Z"
   },
   {
    "duration": 5,
    "start_time": "2023-08-08T10:20:10.546Z"
   },
   {
    "duration": 339,
    "start_time": "2023-08-08T10:20:11.223Z"
   },
   {
    "duration": 10,
    "start_time": "2023-08-08T10:20:11.902Z"
   },
   {
    "duration": 8,
    "start_time": "2023-08-08T10:20:12.354Z"
   },
   {
    "duration": 25,
    "start_time": "2023-08-08T10:20:12.803Z"
   },
   {
    "duration": 13,
    "start_time": "2023-08-08T10:20:13.734Z"
   },
   {
    "duration": 1160,
    "start_time": "2023-08-08T10:23:11.503Z"
   },
   {
    "duration": 100,
    "start_time": "2023-08-08T10:23:12.665Z"
   },
   {
    "duration": 57,
    "start_time": "2023-08-08T10:23:12.766Z"
   },
   {
    "duration": 54,
    "start_time": "2023-08-08T10:23:12.825Z"
   },
   {
    "duration": 4,
    "start_time": "2023-08-08T10:23:12.880Z"
   },
   {
    "duration": 15,
    "start_time": "2023-08-08T10:23:12.885Z"
   },
   {
    "duration": 86,
    "start_time": "2023-08-08T10:23:12.902Z"
   },
   {
    "duration": 4,
    "start_time": "2023-08-08T10:23:12.990Z"
   },
   {
    "duration": 13,
    "start_time": "2023-08-08T10:23:12.996Z"
   },
   {
    "duration": 16,
    "start_time": "2023-08-08T10:23:13.012Z"
   },
   {
    "duration": 14,
    "start_time": "2023-08-08T10:23:13.029Z"
   },
   {
    "duration": 28,
    "start_time": "2023-08-08T10:23:13.044Z"
   },
   {
    "duration": 30,
    "start_time": "2023-08-08T10:23:13.073Z"
   },
   {
    "duration": 587,
    "start_time": "2023-08-08T10:23:13.105Z"
   },
   {
    "duration": 259,
    "start_time": "2023-08-08T10:23:13.694Z"
   },
   {
    "duration": 381,
    "start_time": "2023-08-08T10:23:13.955Z"
   },
   {
    "duration": 6,
    "start_time": "2023-08-08T10:23:14.337Z"
   },
   {
    "duration": 259,
    "start_time": "2023-08-08T10:23:14.344Z"
   },
   {
    "duration": 358,
    "start_time": "2023-08-08T10:23:14.605Z"
   },
   {
    "duration": 367,
    "start_time": "2023-08-08T10:23:14.964Z"
   },
   {
    "duration": 7,
    "start_time": "2023-08-08T10:23:15.334Z"
   },
   {
    "duration": 221,
    "start_time": "2023-08-08T10:23:15.344Z"
   },
   {
    "duration": 172,
    "start_time": "2023-08-08T10:23:15.566Z"
   },
   {
    "duration": 6,
    "start_time": "2023-08-08T10:23:15.740Z"
   },
   {
    "duration": 443,
    "start_time": "2023-08-08T10:23:15.747Z"
   },
   {
    "duration": 12,
    "start_time": "2023-08-08T10:23:16.192Z"
   },
   {
    "duration": 57,
    "start_time": "2023-08-08T10:23:16.206Z"
   },
   {
    "duration": 81,
    "start_time": "2023-08-08T10:23:16.268Z"
   },
   {
    "duration": 16,
    "start_time": "2023-08-08T10:23:16.352Z"
   },
   {
    "duration": 1213,
    "start_time": "2023-08-08T14:20:37.498Z"
   },
   {
    "duration": 168,
    "start_time": "2023-08-08T14:20:38.713Z"
   },
   {
    "duration": 60,
    "start_time": "2023-08-08T14:20:38.882Z"
   },
   {
    "duration": 61,
    "start_time": "2023-08-08T14:20:38.943Z"
   },
   {
    "duration": 3,
    "start_time": "2023-08-08T14:20:39.006Z"
   },
   {
    "duration": 20,
    "start_time": "2023-08-08T14:20:39.010Z"
   },
   {
    "duration": 69,
    "start_time": "2023-08-08T14:20:39.032Z"
   },
   {
    "duration": 4,
    "start_time": "2023-08-08T14:20:39.103Z"
   },
   {
    "duration": 46,
    "start_time": "2023-08-08T14:20:39.108Z"
   },
   {
    "duration": 46,
    "start_time": "2023-08-08T14:20:39.155Z"
   },
   {
    "duration": 33,
    "start_time": "2023-08-08T14:20:39.202Z"
   },
   {
    "duration": 41,
    "start_time": "2023-08-08T14:20:39.236Z"
   },
   {
    "duration": 22,
    "start_time": "2023-08-08T14:20:39.278Z"
   },
   {
    "duration": 536,
    "start_time": "2023-08-08T14:20:39.302Z"
   },
   {
    "duration": 187,
    "start_time": "2023-08-08T14:20:39.845Z"
   },
   {
    "duration": 336,
    "start_time": "2023-08-08T14:20:40.033Z"
   },
   {
    "duration": 5,
    "start_time": "2023-08-08T14:20:40.370Z"
   },
   {
    "duration": 196,
    "start_time": "2023-08-08T14:20:40.377Z"
   },
   {
    "duration": 279,
    "start_time": "2023-08-08T14:20:40.575Z"
   },
   {
    "duration": 276,
    "start_time": "2023-08-08T14:20:40.856Z"
   },
   {
    "duration": 13,
    "start_time": "2023-08-08T14:20:41.134Z"
   },
   {
    "duration": 177,
    "start_time": "2023-08-08T14:20:41.148Z"
   },
   {
    "duration": 147,
    "start_time": "2023-08-08T14:20:41.327Z"
   },
   {
    "duration": 4,
    "start_time": "2023-08-08T14:20:41.475Z"
   },
   {
    "duration": 396,
    "start_time": "2023-08-08T14:20:41.480Z"
   },
   {
    "duration": 16,
    "start_time": "2023-08-08T14:20:41.878Z"
   },
   {
    "duration": 24,
    "start_time": "2023-08-08T14:20:41.896Z"
   },
   {
    "duration": 56,
    "start_time": "2023-08-08T14:20:41.922Z"
   },
   {
    "duration": 24,
    "start_time": "2023-08-08T14:20:41.979Z"
   },
   {
    "duration": 4,
    "start_time": "2023-08-08T14:21:02.498Z"
   },
   {
    "duration": 55,
    "start_time": "2023-08-08T14:21:02.854Z"
   },
   {
    "duration": 23,
    "start_time": "2023-08-08T14:21:03.051Z"
   },
   {
    "duration": 38,
    "start_time": "2023-08-08T14:21:03.229Z"
   },
   {
    "duration": 4,
    "start_time": "2023-08-08T14:21:03.795Z"
   },
   {
    "duration": 4,
    "start_time": "2023-08-08T14:21:03.999Z"
   },
   {
    "duration": 44,
    "start_time": "2023-08-08T14:21:04.399Z"
   },
   {
    "duration": 6,
    "start_time": "2023-08-08T14:21:04.813Z"
   },
   {
    "duration": 4,
    "start_time": "2023-08-08T14:21:05.205Z"
   },
   {
    "duration": 11,
    "start_time": "2023-08-08T14:21:05.417Z"
   },
   {
    "duration": 5,
    "start_time": "2023-08-08T14:21:05.609Z"
   },
   {
    "duration": 10,
    "start_time": "2023-08-08T14:21:06.609Z"
   },
   {
    "duration": 11,
    "start_time": "2023-08-08T14:21:07.213Z"
   },
   {
    "duration": 516,
    "start_time": "2023-08-08T14:21:08.414Z"
   },
   {
    "duration": 193,
    "start_time": "2023-08-08T14:21:09.019Z"
   },
   {
    "duration": 315,
    "start_time": "2023-08-08T14:21:09.629Z"
   },
   {
    "duration": 5,
    "start_time": "2023-08-08T14:21:10.249Z"
   },
   {
    "duration": 178,
    "start_time": "2023-08-08T14:21:10.452Z"
   },
   {
    "duration": 294,
    "start_time": "2023-08-08T14:21:11.070Z"
   },
   {
    "duration": 296,
    "start_time": "2023-08-08T14:21:11.699Z"
   },
   {
    "duration": 7,
    "start_time": "2023-08-08T14:21:12.300Z"
   },
   {
    "duration": 156,
    "start_time": "2023-08-08T14:21:12.966Z"
   },
   {
    "duration": 133,
    "start_time": "2023-08-08T14:21:13.366Z"
   },
   {
    "duration": 5,
    "start_time": "2023-08-08T14:21:14.005Z"
   },
   {
    "duration": 353,
    "start_time": "2023-08-08T14:21:15.295Z"
   },
   {
    "duration": 11,
    "start_time": "2023-08-08T14:21:16.913Z"
   },
   {
    "duration": 8,
    "start_time": "2023-08-08T14:21:16.957Z"
   },
   {
    "duration": 24,
    "start_time": "2023-08-08T14:21:17.603Z"
   },
   {
    "duration": 19,
    "start_time": "2023-08-08T14:21:18.650Z"
   },
   {
    "duration": 439,
    "start_time": "2023-08-08T14:21:40.150Z"
   },
   {
    "duration": 176,
    "start_time": "2023-08-08T14:21:49.701Z"
   },
   {
    "duration": 296,
    "start_time": "2023-08-08T14:21:58.536Z"
   },
   {
    "duration": 234,
    "start_time": "2023-08-08T14:22:07.417Z"
   },
   {
    "duration": 295,
    "start_time": "2023-08-08T14:22:15.822Z"
   },
   {
    "duration": 256,
    "start_time": "2023-08-08T14:22:23.695Z"
   },
   {
    "duration": 154,
    "start_time": "2023-08-08T14:22:31.658Z"
   },
   {
    "duration": 148,
    "start_time": "2023-08-08T14:22:39.417Z"
   },
   {
    "duration": 144,
    "start_time": "2023-08-08T14:24:51.355Z"
   },
   {
    "duration": 140,
    "start_time": "2023-08-08T14:26:23.350Z"
   },
   {
    "duration": 1194,
    "start_time": "2023-08-09T10:41:02.681Z"
   },
   {
    "duration": 157,
    "start_time": "2023-08-09T10:41:03.878Z"
   },
   {
    "duration": 58,
    "start_time": "2023-08-09T10:41:04.036Z"
   },
   {
    "duration": 54,
    "start_time": "2023-08-09T10:41:04.097Z"
   },
   {
    "duration": 3,
    "start_time": "2023-08-09T10:41:04.153Z"
   },
   {
    "duration": 4,
    "start_time": "2023-08-09T10:41:04.364Z"
   },
   {
    "duration": 41,
    "start_time": "2023-08-09T10:41:04.745Z"
   },
   {
    "duration": 5,
    "start_time": "2023-08-09T10:41:05.164Z"
   },
   {
    "duration": 5,
    "start_time": "2023-08-09T10:41:05.567Z"
   },
   {
    "duration": 11,
    "start_time": "2023-08-09T10:41:05.777Z"
   },
   {
    "duration": 5,
    "start_time": "2023-08-09T10:41:05.995Z"
   },
   {
    "duration": 10,
    "start_time": "2023-08-09T10:41:07.069Z"
   },
   {
    "duration": 10,
    "start_time": "2023-08-09T10:41:07.690Z"
   },
   {
    "duration": 553,
    "start_time": "2023-08-09T10:41:09.039Z"
   },
   {
    "duration": 191,
    "start_time": "2023-08-09T10:41:10.324Z"
   },
   {
    "duration": 337,
    "start_time": "2023-08-09T10:41:10.953Z"
   },
   {
    "duration": 4,
    "start_time": "2023-08-09T10:41:11.611Z"
   },
   {
    "duration": 201,
    "start_time": "2023-08-09T10:41:11.809Z"
   },
   {
    "duration": 282,
    "start_time": "2023-08-09T10:41:12.648Z"
   },
   {
    "duration": 268,
    "start_time": "2023-08-09T10:41:13.343Z"
   },
   {
    "duration": 4,
    "start_time": "2023-08-09T10:41:14.214Z"
   },
   {
    "duration": 152,
    "start_time": "2023-08-09T10:41:18.356Z"
   },
   {
    "duration": 140,
    "start_time": "2023-08-09T10:41:18.765Z"
   },
   {
    "duration": 4,
    "start_time": "2023-08-09T10:41:19.570Z"
   },
   {
    "duration": 373,
    "start_time": "2023-08-09T10:41:20.832Z"
   },
   {
    "duration": 15,
    "start_time": "2023-08-09T10:41:21.888Z"
   },
   {
    "duration": 8,
    "start_time": "2023-08-09T10:41:22.565Z"
   },
   {
    "duration": 24,
    "start_time": "2023-08-09T10:41:23.217Z"
   },
   {
    "duration": 13,
    "start_time": "2023-08-09T10:41:24.348Z"
   },
   {
    "duration": 267,
    "start_time": "2023-08-09T10:56:37.471Z"
   },
   {
    "duration": 310,
    "start_time": "2023-08-09T10:57:31.298Z"
   },
   {
    "duration": 268,
    "start_time": "2023-08-09T10:58:18.474Z"
   },
   {
    "duration": 300,
    "start_time": "2023-08-09T10:59:36.787Z"
   },
   {
    "duration": 283,
    "start_time": "2023-08-09T10:59:49.906Z"
   },
   {
    "duration": 5,
    "start_time": "2023-08-09T11:22:09.256Z"
   },
   {
    "duration": 55,
    "start_time": "2023-08-09T11:22:27.143Z"
   },
   {
    "duration": 9,
    "start_time": "2023-08-09T11:23:04.285Z"
   },
   {
    "duration": 4,
    "start_time": "2023-08-09T11:24:03.018Z"
   },
   {
    "duration": 4,
    "start_time": "2023-08-09T11:24:16.663Z"
   },
   {
    "duration": 5,
    "start_time": "2023-08-09T11:24:22.127Z"
   },
   {
    "duration": 80,
    "start_time": "2023-08-09T11:25:40.396Z"
   },
   {
    "duration": 101,
    "start_time": "2023-08-09T11:25:45.138Z"
   },
   {
    "duration": 5,
    "start_time": "2023-08-09T11:25:50.617Z"
   },
   {
    "duration": 6,
    "start_time": "2023-08-09T11:26:08.831Z"
   },
   {
    "duration": 8,
    "start_time": "2023-08-09T11:26:22.429Z"
   },
   {
    "duration": 12,
    "start_time": "2023-08-09T11:28:14.217Z"
   },
   {
    "duration": 1085,
    "start_time": "2023-08-09T11:30:17.402Z"
   },
   {
    "duration": 59,
    "start_time": "2023-08-09T11:30:18.489Z"
   },
   {
    "duration": 20,
    "start_time": "2023-08-09T11:30:18.550Z"
   },
   {
    "duration": 19,
    "start_time": "2023-08-09T11:30:18.572Z"
   },
   {
    "duration": 2,
    "start_time": "2023-08-09T11:30:18.593Z"
   },
   {
    "duration": 10,
    "start_time": "2023-08-09T11:30:18.597Z"
   },
   {
    "duration": 59,
    "start_time": "2023-08-09T11:30:18.608Z"
   },
   {
    "duration": 4,
    "start_time": "2023-08-09T11:30:18.668Z"
   },
   {
    "duration": 29,
    "start_time": "2023-08-09T11:30:18.674Z"
   },
   {
    "duration": 15,
    "start_time": "2023-08-09T11:30:18.706Z"
   },
   {
    "duration": 6,
    "start_time": "2023-08-09T11:30:18.723Z"
   },
   {
    "duration": 33,
    "start_time": "2023-08-09T11:30:18.730Z"
   },
   {
    "duration": 37,
    "start_time": "2023-08-09T11:30:18.764Z"
   },
   {
    "duration": 529,
    "start_time": "2023-08-09T11:30:18.802Z"
   },
   {
    "duration": 185,
    "start_time": "2023-08-09T11:30:19.337Z"
   },
   {
    "duration": 307,
    "start_time": "2023-08-09T11:30:19.523Z"
   },
   {
    "duration": 16,
    "start_time": "2023-08-09T11:30:19.837Z"
   },
   {
    "duration": 176,
    "start_time": "2023-08-09T11:30:19.854Z"
   },
   {
    "duration": 329,
    "start_time": "2023-08-09T11:30:20.032Z"
   },
   {
    "duration": 258,
    "start_time": "2023-08-09T11:30:20.363Z"
   },
   {
    "duration": 5,
    "start_time": "2023-08-09T11:30:20.622Z"
   },
   {
    "duration": 182,
    "start_time": "2023-08-09T11:30:20.640Z"
   },
   {
    "duration": 160,
    "start_time": "2023-08-09T11:30:20.824Z"
   },
   {
    "duration": 16,
    "start_time": "2023-08-09T11:30:20.986Z"
   },
   {
    "duration": 451,
    "start_time": "2023-08-09T11:30:21.003Z"
   },
   {
    "duration": 10,
    "start_time": "2023-08-09T11:30:21.458Z"
   },
   {
    "duration": 20,
    "start_time": "2023-08-09T11:30:21.469Z"
   },
   {
    "duration": 33,
    "start_time": "2023-08-09T11:30:21.492Z"
   },
   {
    "duration": 22,
    "start_time": "2023-08-09T11:30:21.526Z"
   },
   {
    "duration": 3,
    "start_time": "2023-08-09T11:30:27.100Z"
   },
   {
    "duration": 54,
    "start_time": "2023-08-09T11:30:27.474Z"
   },
   {
    "duration": 19,
    "start_time": "2023-08-09T11:30:27.674Z"
   },
   {
    "duration": 20,
    "start_time": "2023-08-09T11:30:27.871Z"
   },
   {
    "duration": 3,
    "start_time": "2023-08-09T11:30:28.458Z"
   },
   {
    "duration": 5,
    "start_time": "2023-08-09T11:30:28.655Z"
   },
   {
    "duration": 49,
    "start_time": "2023-08-09T11:30:29.034Z"
   },
   {
    "duration": 19,
    "start_time": "2023-08-09T11:30:29.433Z"
   },
   {
    "duration": 13,
    "start_time": "2023-08-09T11:30:29.837Z"
   },
   {
    "duration": 20,
    "start_time": "2023-08-09T11:30:30.032Z"
   },
   {
    "duration": 13,
    "start_time": "2023-08-09T11:30:30.235Z"
   },
   {
    "duration": 14,
    "start_time": "2023-08-09T11:30:31.280Z"
   },
   {
    "duration": 15,
    "start_time": "2023-08-09T11:30:31.909Z"
   },
   {
    "duration": 459,
    "start_time": "2023-08-09T11:30:33.554Z"
   },
   {
    "duration": 211,
    "start_time": "2023-08-09T11:30:34.354Z"
   },
   {
    "duration": 303,
    "start_time": "2023-08-09T11:30:35.352Z"
   },
   {
    "duration": 5,
    "start_time": "2023-08-09T11:30:35.954Z"
   },
   {
    "duration": 177,
    "start_time": "2023-08-09T11:30:36.152Z"
   },
   {
    "duration": 296,
    "start_time": "2023-08-09T11:30:37.002Z"
   },
   {
    "duration": 240,
    "start_time": "2023-08-09T11:30:37.658Z"
   },
   {
    "duration": 4,
    "start_time": "2023-08-09T11:30:38.270Z"
   },
   {
    "duration": 160,
    "start_time": "2023-08-09T11:30:38.914Z"
   },
   {
    "duration": 5,
    "start_time": "2023-08-09T11:30:44.695Z"
   },
   {
    "duration": 153,
    "start_time": "2023-08-09T11:30:46.810Z"
   },
   {
    "duration": 146,
    "start_time": "2023-08-09T11:30:47.277Z"
   },
   {
    "duration": 5,
    "start_time": "2023-08-09T11:30:50.190Z"
   },
   {
    "duration": 350,
    "start_time": "2023-08-09T11:30:52.263Z"
   },
   {
    "duration": 18,
    "start_time": "2023-08-09T11:30:53.335Z"
   },
   {
    "duration": 20,
    "start_time": "2023-08-09T11:30:53.937Z"
   },
   {
    "duration": 40,
    "start_time": "2023-08-09T11:30:54.767Z"
   },
   {
    "duration": 26,
    "start_time": "2023-08-09T11:30:55.833Z"
   },
   {
    "duration": 1267,
    "start_time": "2023-08-09T12:13:11.784Z"
   },
   {
    "duration": 83,
    "start_time": "2023-08-09T12:13:13.054Z"
   },
   {
    "duration": 27,
    "start_time": "2023-08-09T12:13:13.140Z"
   },
   {
    "duration": 42,
    "start_time": "2023-08-09T12:13:13.171Z"
   },
   {
    "duration": 6,
    "start_time": "2023-08-09T12:13:13.216Z"
   },
   {
    "duration": 7,
    "start_time": "2023-08-09T12:13:13.225Z"
   },
   {
    "duration": 80,
    "start_time": "2023-08-09T12:13:13.234Z"
   },
   {
    "duration": 6,
    "start_time": "2023-08-09T12:13:13.316Z"
   },
   {
    "duration": 44,
    "start_time": "2023-08-09T12:13:13.325Z"
   },
   {
    "duration": 20,
    "start_time": "2023-08-09T12:13:13.376Z"
   },
   {
    "duration": 13,
    "start_time": "2023-08-09T12:13:13.399Z"
   },
   {
    "duration": 18,
    "start_time": "2023-08-09T12:13:13.414Z"
   },
   {
    "duration": 13,
    "start_time": "2023-08-09T12:13:13.434Z"
   },
   {
    "duration": 655,
    "start_time": "2023-08-09T12:13:13.463Z"
   },
   {
    "duration": 333,
    "start_time": "2023-08-09T12:13:14.121Z"
   },
   {
    "duration": 393,
    "start_time": "2023-08-09T12:13:14.456Z"
   },
   {
    "duration": 9,
    "start_time": "2023-08-09T12:13:14.851Z"
   },
   {
    "duration": 311,
    "start_time": "2023-08-09T12:13:14.861Z"
   },
   {
    "duration": 402,
    "start_time": "2023-08-09T12:13:15.174Z"
   },
   {
    "duration": 403,
    "start_time": "2023-08-09T12:13:15.582Z"
   },
   {
    "duration": 5,
    "start_time": "2023-08-09T12:13:15.987Z"
   },
   {
    "duration": 213,
    "start_time": "2023-08-09T12:13:15.994Z"
   },
   {
    "duration": 223,
    "start_time": "2023-08-09T12:13:16.209Z"
   },
   {
    "duration": 7,
    "start_time": "2023-08-09T12:13:16.434Z"
   },
   {
    "duration": 504,
    "start_time": "2023-08-09T12:13:16.443Z"
   },
   {
    "duration": 18,
    "start_time": "2023-08-09T12:13:16.952Z"
   },
   {
    "duration": 19,
    "start_time": "2023-08-09T12:13:16.972Z"
   },
   {
    "duration": 45,
    "start_time": "2023-08-09T12:13:16.994Z"
   },
   {
    "duration": 36,
    "start_time": "2023-08-09T12:13:17.044Z"
   },
   {
    "duration": 1211,
    "start_time": "2024-06-10T06:03:49.900Z"
   },
   {
    "duration": 95,
    "start_time": "2024-06-10T06:03:51.112Z"
   },
   {
    "duration": 59,
    "start_time": "2024-06-10T06:03:51.208Z"
   },
   {
    "duration": 69,
    "start_time": "2024-06-10T06:03:51.269Z"
   },
   {
    "duration": 2,
    "start_time": "2024-06-10T06:03:57.989Z"
   },
   {
    "duration": 4,
    "start_time": "2024-06-10T06:03:58.466Z"
   },
   {
    "duration": 39,
    "start_time": "2024-06-10T06:03:59.800Z"
   },
   {
    "duration": 3,
    "start_time": "2024-06-10T06:04:00.838Z"
   },
   {
    "duration": 5,
    "start_time": "2024-06-10T06:04:04.022Z"
   },
   {
    "duration": 10,
    "start_time": "2024-06-10T06:04:04.563Z"
   },
   {
    "duration": 4,
    "start_time": "2024-06-10T06:04:05.111Z"
   },
   {
    "duration": 10,
    "start_time": "2024-06-10T06:04:23.687Z"
   },
   {
    "duration": 9,
    "start_time": "2024-06-10T06:04:24.896Z"
   },
   {
    "duration": 485,
    "start_time": "2024-06-10T06:04:26.853Z"
   },
   {
    "duration": 166,
    "start_time": "2024-06-10T06:04:38.484Z"
   },
   {
    "duration": 336,
    "start_time": "2024-06-10T06:04:39.994Z"
   },
   {
    "duration": 4,
    "start_time": "2024-06-10T06:04:41.006Z"
   },
   {
    "duration": 160,
    "start_time": "2024-06-10T06:04:41.404Z"
   },
   {
    "duration": 263,
    "start_time": "2024-06-10T06:04:46.428Z"
   },
   {
    "duration": 228,
    "start_time": "2024-06-10T06:04:47.393Z"
   },
   {
    "duration": 4,
    "start_time": "2024-06-10T06:04:48.048Z"
   },
   {
    "duration": 143,
    "start_time": "2024-06-10T06:04:48.633Z"
   },
   {
    "duration": 132,
    "start_time": "2024-06-10T06:04:49.016Z"
   },
   {
    "duration": 3,
    "start_time": "2024-06-10T06:04:50.006Z"
   },
   {
    "duration": 350,
    "start_time": "2024-06-10T06:04:51.611Z"
   },
   {
    "duration": 9,
    "start_time": "2024-06-10T06:04:52.623Z"
   },
   {
    "duration": 9,
    "start_time": "2024-06-10T06:04:53.224Z"
   },
   {
    "duration": 22,
    "start_time": "2024-06-10T06:04:54.265Z"
   },
   {
    "duration": 11,
    "start_time": "2024-06-10T06:04:55.294Z"
   }
  ],
  "kernelspec": {
   "display_name": "Python 3 (ipykernel)",
   "language": "python",
   "name": "python3"
  },
  "language_info": {
   "codemirror_mode": {
    "name": "ipython",
    "version": 3
   },
   "file_extension": ".py",
   "mimetype": "text/x-python",
   "name": "python",
   "nbconvert_exporter": "python",
   "pygments_lexer": "ipython3",
   "version": "3.11.4"
  },
  "toc": {
   "base_numbering": 1,
   "nav_menu": {},
   "number_sections": false,
   "sideBar": true,
   "skip_h1_title": true,
   "title_cell": "Table of Contents",
   "title_sidebar": "Contents",
   "toc_cell": false,
   "toc_position": {},
   "toc_section_display": true,
   "toc_window_display": false
  }
 },
 "nbformat": 4,
 "nbformat_minor": 2
}
