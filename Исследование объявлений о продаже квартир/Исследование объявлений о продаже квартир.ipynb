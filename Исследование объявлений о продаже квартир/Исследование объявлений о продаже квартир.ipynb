{
 "cells": [
  {
   "cell_type": "markdown",
   "metadata": {},
   "source": [
    "# Исследование объявлений о продаже квартир\n",
    "\n",
    "##  Описание проекта \n",
    "В нашем распоряжении данные сервиса Яндекс.Недвижимость — архив объявлений о продаже квартир в Санкт-Петербурге и соседних населённых пунктов за несколько лет. \n",
    "Нужно научиться определять рыночную стоимость объектов недвижимости. Задача — установить параметры. Это позволит построить автоматизированную систему: она отследит аномалии и мошенническую деятельность. \n",
    "\n",
    "По каждой квартире на продажу доступны два вида данных. Первые вписаны пользователем, вторые — получены автоматически на основе картографических данных.\n",
    "Например, расстояние до центра, аэропорта, ближайшего парка и водоёма. \n",
    "\n",
    "**Описание данных** \n",
    "- airports_nearest — расстояние до ближайшего аэропорта в метрах (м)\n",
    "- balcony — число балконов\n",
    "- ceiling_height — высота потолков (м)\n",
    "- cityCenters_nearest — расстояние до центра города (м)\n",
    "- days_exposition — сколько дней было размещено объявление (от публикации до снятия)\n",
    "- first_day_exposition — дата публикации\n",
    "- floor — этаж\n",
    "- floors_total — всего этажей в доме\n",
    "- is_apartment — апартаменты (булев тип)\n",
    "- kitchen_area — площадь кухни в квадратных метрах (м²)\n",
    "- last_price — цена на момент снятия с публикации\n",
    "- living_area — жилая площадь в квадратных метрах (м²)\n",
    "- locality_name — название населённого пункта\n",
    "- open_plan — свободная планировка (булев тип)\n",
    "- parks_around3000 — число парков в радиусе 3 км\n",
    "- parks_nearest — расстояние до ближайшего парка (м)\n",
    "- ponds_around3000 — число водоёмов в радиусе 3 км\n",
    "- ponds_nearest — расстояние до ближайшего водоёма (м)\n",
    "- rooms — число комнат\n",
    "- studio — квартира-студия (булев тип)\n",
    "- total_area — общая площадь квартиры в квадратных метрах (м²)\n",
    "- total_images — число фотографий квартиры в объявлении"
   ]
  },
  {
   "cell_type": "markdown",
   "metadata": {},
   "source": [
    "## Откроем таблицу и изучим общую информацию о данных"
   ]
  },
  {
   "cell_type": "code",
   "execution_count": 188,
   "metadata": {},
   "outputs": [],
   "source": [
    "#импорт библиотек\n",
    "import pandas as pd\n",
    "import matplotlib.pyplot as plt\n",
    "pd.options.mode.chained_assignment = None"
   ]
  },
  {
   "cell_type": "code",
   "execution_count": 189,
   "metadata": {
    "scrolled": false
   },
   "outputs": [
    {
     "data": {
      "text/html": [
       "<div>\n",
       "<style scoped>\n",
       "    .dataframe tbody tr th:only-of-type {\n",
       "        vertical-align: middle;\n",
       "    }\n",
       "\n",
       "    .dataframe tbody tr th {\n",
       "        vertical-align: top;\n",
       "    }\n",
       "\n",
       "    .dataframe thead th {\n",
       "        text-align: right;\n",
       "    }\n",
       "</style>\n",
       "<table border=\"1\" class=\"dataframe\">\n",
       "  <thead>\n",
       "    <tr style=\"text-align: right;\">\n",
       "      <th></th>\n",
       "      <th>total_images\\tlast_price\\ttotal_area\\tfirst_day_exposition\\trooms\\tceiling_height\\tfloors_total\\tliving_area\\tfloor\\tis_apartment\\tstudio\\topen_plan\\tkitchen_area\\tbalcony\\tlocality_name\\tairports_nearest\\tcityCenters_nearest\\tparks_around3000\\tparks_nearest\\tponds_around3000\\tponds_nearest\\tdays_exposition</th>\n",
       "    </tr>\n",
       "  </thead>\n",
       "  <tbody>\n",
       "    <tr>\n",
       "      <th>0</th>\n",
       "      <td>20\\t13000000.0\\t108.0\\t2019-03-07T00:00:00\\t3\\...</td>\n",
       "    </tr>\n",
       "    <tr>\n",
       "      <th>1</th>\n",
       "      <td>7\\t3350000.0\\t40.4\\t2018-12-04T00:00:00\\t1\\t\\t...</td>\n",
       "    </tr>\n",
       "    <tr>\n",
       "      <th>2</th>\n",
       "      <td>10\\t5196000.0\\t56.0\\t2015-08-20T00:00:00\\t2\\t\\...</td>\n",
       "    </tr>\n",
       "    <tr>\n",
       "      <th>3</th>\n",
       "      <td>0\\t64900000.0\\t159.0\\t2015-07-24T00:00:00\\t3\\t...</td>\n",
       "    </tr>\n",
       "    <tr>\n",
       "      <th>4</th>\n",
       "      <td>2\\t10000000.0\\t100.0\\t2018-06-19T00:00:00\\t2\\t...</td>\n",
       "    </tr>\n",
       "    <tr>\n",
       "      <th>5</th>\n",
       "      <td>10\\t2890000.0\\t30.4\\t2018-09-10T00:00:00\\t1\\t\\...</td>\n",
       "    </tr>\n",
       "    <tr>\n",
       "      <th>6</th>\n",
       "      <td>6\\t3700000.0\\t37.3\\t2017-11-02T00:00:00\\t1\\t\\t...</td>\n",
       "    </tr>\n",
       "    <tr>\n",
       "      <th>7</th>\n",
       "      <td>5\\t7915000.0\\t71.6\\t2019-04-18T00:00:00\\t2\\t\\t...</td>\n",
       "    </tr>\n",
       "    <tr>\n",
       "      <th>8</th>\n",
       "      <td>20\\t2900000.0\\t33.16\\t2018-05-23T00:00:00\\t1\\t...</td>\n",
       "    </tr>\n",
       "    <tr>\n",
       "      <th>9</th>\n",
       "      <td>18\\t5400000.0\\t61.0\\t2017-02-26T00:00:00\\t3\\t2...</td>\n",
       "    </tr>\n",
       "  </tbody>\n",
       "</table>\n",
       "</div>"
      ],
      "text/plain": [
       "  total_images\\tlast_price\\ttotal_area\\tfirst_day_exposition\\trooms\\tceiling_height\\tfloors_total\\tliving_area\\tfloor\\tis_apartment\\tstudio\\topen_plan\\tkitchen_area\\tbalcony\\tlocality_name\\tairports_nearest\\tcityCenters_nearest\\tparks_around3000\\tparks_nearest\\tponds_around3000\\tponds_nearest\\tdays_exposition\n",
       "0  20\\t13000000.0\\t108.0\\t2019-03-07T00:00:00\\t3\\...                                                                                                                                                                                                                                                                  \n",
       "1  7\\t3350000.0\\t40.4\\t2018-12-04T00:00:00\\t1\\t\\t...                                                                                                                                                                                                                                                                  \n",
       "2  10\\t5196000.0\\t56.0\\t2015-08-20T00:00:00\\t2\\t\\...                                                                                                                                                                                                                                                                  \n",
       "3  0\\t64900000.0\\t159.0\\t2015-07-24T00:00:00\\t3\\t...                                                                                                                                                                                                                                                                  \n",
       "4  2\\t10000000.0\\t100.0\\t2018-06-19T00:00:00\\t2\\t...                                                                                                                                                                                                                                                                  \n",
       "5  10\\t2890000.0\\t30.4\\t2018-09-10T00:00:00\\t1\\t\\...                                                                                                                                                                                                                                                                  \n",
       "6  6\\t3700000.0\\t37.3\\t2017-11-02T00:00:00\\t1\\t\\t...                                                                                                                                                                                                                                                                  \n",
       "7  5\\t7915000.0\\t71.6\\t2019-04-18T00:00:00\\t2\\t\\t...                                                                                                                                                                                                                                                                  \n",
       "8  20\\t2900000.0\\t33.16\\t2018-05-23T00:00:00\\t1\\t...                                                                                                                                                                                                                                                                  \n",
       "9  18\\t5400000.0\\t61.0\\t2017-02-26T00:00:00\\t3\\t2...                                                                                                                                                                                                                                                                  "
      ]
     },
     "execution_count": 189,
     "metadata": {},
     "output_type": "execute_result"
    }
   ],
   "source": [
    "#откроем датафрейм и выведем на экран первые 10 строк\n",
    "\n",
    "data = pd.read_csv('/datasets/real_estate_data.csv')\n",
    "\n",
    "data.head(10)"
   ]
  },
  {
   "cell_type": "markdown",
   "metadata": {},
   "source": [
    "Данные склеились в одну строчку. Нужно внести поправки, указав в качестве разделителя знак табуляции \\t."
   ]
  },
  {
   "cell_type": "code",
   "execution_count": 190,
   "metadata": {},
   "outputs": [
    {
     "data": {
      "text/html": [
       "<div>\n",
       "<style scoped>\n",
       "    .dataframe tbody tr th:only-of-type {\n",
       "        vertical-align: middle;\n",
       "    }\n",
       "\n",
       "    .dataframe tbody tr th {\n",
       "        vertical-align: top;\n",
       "    }\n",
       "\n",
       "    .dataframe thead th {\n",
       "        text-align: right;\n",
       "    }\n",
       "</style>\n",
       "<table border=\"1\" class=\"dataframe\">\n",
       "  <thead>\n",
       "    <tr style=\"text-align: right;\">\n",
       "      <th></th>\n",
       "      <th>total_images</th>\n",
       "      <th>last_price</th>\n",
       "      <th>total_area</th>\n",
       "      <th>first_day_exposition</th>\n",
       "      <th>rooms</th>\n",
       "      <th>ceiling_height</th>\n",
       "      <th>floors_total</th>\n",
       "      <th>living_area</th>\n",
       "      <th>floor</th>\n",
       "      <th>is_apartment</th>\n",
       "      <th>...</th>\n",
       "      <th>kitchen_area</th>\n",
       "      <th>balcony</th>\n",
       "      <th>locality_name</th>\n",
       "      <th>airports_nearest</th>\n",
       "      <th>cityCenters_nearest</th>\n",
       "      <th>parks_around3000</th>\n",
       "      <th>parks_nearest</th>\n",
       "      <th>ponds_around3000</th>\n",
       "      <th>ponds_nearest</th>\n",
       "      <th>days_exposition</th>\n",
       "    </tr>\n",
       "  </thead>\n",
       "  <tbody>\n",
       "    <tr>\n",
       "      <th>0</th>\n",
       "      <td>20</td>\n",
       "      <td>13000000.0</td>\n",
       "      <td>108.00</td>\n",
       "      <td>2019-03-07T00:00:00</td>\n",
       "      <td>3</td>\n",
       "      <td>2.70</td>\n",
       "      <td>16.0</td>\n",
       "      <td>51.00</td>\n",
       "      <td>8</td>\n",
       "      <td>NaN</td>\n",
       "      <td>...</td>\n",
       "      <td>25.00</td>\n",
       "      <td>NaN</td>\n",
       "      <td>Санкт-Петербург</td>\n",
       "      <td>18863.0</td>\n",
       "      <td>16028.0</td>\n",
       "      <td>1.0</td>\n",
       "      <td>482.0</td>\n",
       "      <td>2.0</td>\n",
       "      <td>755.0</td>\n",
       "      <td>NaN</td>\n",
       "    </tr>\n",
       "    <tr>\n",
       "      <th>1</th>\n",
       "      <td>7</td>\n",
       "      <td>3350000.0</td>\n",
       "      <td>40.40</td>\n",
       "      <td>2018-12-04T00:00:00</td>\n",
       "      <td>1</td>\n",
       "      <td>NaN</td>\n",
       "      <td>11.0</td>\n",
       "      <td>18.60</td>\n",
       "      <td>1</td>\n",
       "      <td>NaN</td>\n",
       "      <td>...</td>\n",
       "      <td>11.00</td>\n",
       "      <td>2.0</td>\n",
       "      <td>посёлок Шушары</td>\n",
       "      <td>12817.0</td>\n",
       "      <td>18603.0</td>\n",
       "      <td>0.0</td>\n",
       "      <td>NaN</td>\n",
       "      <td>0.0</td>\n",
       "      <td>NaN</td>\n",
       "      <td>81.0</td>\n",
       "    </tr>\n",
       "    <tr>\n",
       "      <th>2</th>\n",
       "      <td>10</td>\n",
       "      <td>5196000.0</td>\n",
       "      <td>56.00</td>\n",
       "      <td>2015-08-20T00:00:00</td>\n",
       "      <td>2</td>\n",
       "      <td>NaN</td>\n",
       "      <td>5.0</td>\n",
       "      <td>34.30</td>\n",
       "      <td>4</td>\n",
       "      <td>NaN</td>\n",
       "      <td>...</td>\n",
       "      <td>8.30</td>\n",
       "      <td>0.0</td>\n",
       "      <td>Санкт-Петербург</td>\n",
       "      <td>21741.0</td>\n",
       "      <td>13933.0</td>\n",
       "      <td>1.0</td>\n",
       "      <td>90.0</td>\n",
       "      <td>2.0</td>\n",
       "      <td>574.0</td>\n",
       "      <td>558.0</td>\n",
       "    </tr>\n",
       "    <tr>\n",
       "      <th>3</th>\n",
       "      <td>0</td>\n",
       "      <td>64900000.0</td>\n",
       "      <td>159.00</td>\n",
       "      <td>2015-07-24T00:00:00</td>\n",
       "      <td>3</td>\n",
       "      <td>NaN</td>\n",
       "      <td>14.0</td>\n",
       "      <td>NaN</td>\n",
       "      <td>9</td>\n",
       "      <td>NaN</td>\n",
       "      <td>...</td>\n",
       "      <td>NaN</td>\n",
       "      <td>0.0</td>\n",
       "      <td>Санкт-Петербург</td>\n",
       "      <td>28098.0</td>\n",
       "      <td>6800.0</td>\n",
       "      <td>2.0</td>\n",
       "      <td>84.0</td>\n",
       "      <td>3.0</td>\n",
       "      <td>234.0</td>\n",
       "      <td>424.0</td>\n",
       "    </tr>\n",
       "    <tr>\n",
       "      <th>4</th>\n",
       "      <td>2</td>\n",
       "      <td>10000000.0</td>\n",
       "      <td>100.00</td>\n",
       "      <td>2018-06-19T00:00:00</td>\n",
       "      <td>2</td>\n",
       "      <td>3.03</td>\n",
       "      <td>14.0</td>\n",
       "      <td>32.00</td>\n",
       "      <td>13</td>\n",
       "      <td>NaN</td>\n",
       "      <td>...</td>\n",
       "      <td>41.00</td>\n",
       "      <td>NaN</td>\n",
       "      <td>Санкт-Петербург</td>\n",
       "      <td>31856.0</td>\n",
       "      <td>8098.0</td>\n",
       "      <td>2.0</td>\n",
       "      <td>112.0</td>\n",
       "      <td>1.0</td>\n",
       "      <td>48.0</td>\n",
       "      <td>121.0</td>\n",
       "    </tr>\n",
       "    <tr>\n",
       "      <th>5</th>\n",
       "      <td>10</td>\n",
       "      <td>2890000.0</td>\n",
       "      <td>30.40</td>\n",
       "      <td>2018-09-10T00:00:00</td>\n",
       "      <td>1</td>\n",
       "      <td>NaN</td>\n",
       "      <td>12.0</td>\n",
       "      <td>14.40</td>\n",
       "      <td>5</td>\n",
       "      <td>NaN</td>\n",
       "      <td>...</td>\n",
       "      <td>9.10</td>\n",
       "      <td>NaN</td>\n",
       "      <td>городской посёлок Янино-1</td>\n",
       "      <td>NaN</td>\n",
       "      <td>NaN</td>\n",
       "      <td>NaN</td>\n",
       "      <td>NaN</td>\n",
       "      <td>NaN</td>\n",
       "      <td>NaN</td>\n",
       "      <td>55.0</td>\n",
       "    </tr>\n",
       "    <tr>\n",
       "      <th>6</th>\n",
       "      <td>6</td>\n",
       "      <td>3700000.0</td>\n",
       "      <td>37.30</td>\n",
       "      <td>2017-11-02T00:00:00</td>\n",
       "      <td>1</td>\n",
       "      <td>NaN</td>\n",
       "      <td>26.0</td>\n",
       "      <td>10.60</td>\n",
       "      <td>6</td>\n",
       "      <td>NaN</td>\n",
       "      <td>...</td>\n",
       "      <td>14.40</td>\n",
       "      <td>1.0</td>\n",
       "      <td>посёлок Парголово</td>\n",
       "      <td>52996.0</td>\n",
       "      <td>19143.0</td>\n",
       "      <td>0.0</td>\n",
       "      <td>NaN</td>\n",
       "      <td>0.0</td>\n",
       "      <td>NaN</td>\n",
       "      <td>155.0</td>\n",
       "    </tr>\n",
       "    <tr>\n",
       "      <th>7</th>\n",
       "      <td>5</td>\n",
       "      <td>7915000.0</td>\n",
       "      <td>71.60</td>\n",
       "      <td>2019-04-18T00:00:00</td>\n",
       "      <td>2</td>\n",
       "      <td>NaN</td>\n",
       "      <td>24.0</td>\n",
       "      <td>NaN</td>\n",
       "      <td>22</td>\n",
       "      <td>NaN</td>\n",
       "      <td>...</td>\n",
       "      <td>18.90</td>\n",
       "      <td>2.0</td>\n",
       "      <td>Санкт-Петербург</td>\n",
       "      <td>23982.0</td>\n",
       "      <td>11634.0</td>\n",
       "      <td>0.0</td>\n",
       "      <td>NaN</td>\n",
       "      <td>0.0</td>\n",
       "      <td>NaN</td>\n",
       "      <td>NaN</td>\n",
       "    </tr>\n",
       "    <tr>\n",
       "      <th>8</th>\n",
       "      <td>20</td>\n",
       "      <td>2900000.0</td>\n",
       "      <td>33.16</td>\n",
       "      <td>2018-05-23T00:00:00</td>\n",
       "      <td>1</td>\n",
       "      <td>NaN</td>\n",
       "      <td>27.0</td>\n",
       "      <td>15.43</td>\n",
       "      <td>26</td>\n",
       "      <td>NaN</td>\n",
       "      <td>...</td>\n",
       "      <td>8.81</td>\n",
       "      <td>NaN</td>\n",
       "      <td>посёлок Мурино</td>\n",
       "      <td>NaN</td>\n",
       "      <td>NaN</td>\n",
       "      <td>NaN</td>\n",
       "      <td>NaN</td>\n",
       "      <td>NaN</td>\n",
       "      <td>NaN</td>\n",
       "      <td>189.0</td>\n",
       "    </tr>\n",
       "    <tr>\n",
       "      <th>9</th>\n",
       "      <td>18</td>\n",
       "      <td>5400000.0</td>\n",
       "      <td>61.00</td>\n",
       "      <td>2017-02-26T00:00:00</td>\n",
       "      <td>3</td>\n",
       "      <td>2.50</td>\n",
       "      <td>9.0</td>\n",
       "      <td>43.60</td>\n",
       "      <td>7</td>\n",
       "      <td>NaN</td>\n",
       "      <td>...</td>\n",
       "      <td>6.50</td>\n",
       "      <td>2.0</td>\n",
       "      <td>Санкт-Петербург</td>\n",
       "      <td>50898.0</td>\n",
       "      <td>15008.0</td>\n",
       "      <td>0.0</td>\n",
       "      <td>NaN</td>\n",
       "      <td>0.0</td>\n",
       "      <td>NaN</td>\n",
       "      <td>289.0</td>\n",
       "    </tr>\n",
       "  </tbody>\n",
       "</table>\n",
       "<p>10 rows × 22 columns</p>\n",
       "</div>"
      ],
      "text/plain": [
       "   total_images  last_price  total_area first_day_exposition  rooms  \\\n",
       "0            20  13000000.0      108.00  2019-03-07T00:00:00      3   \n",
       "1             7   3350000.0       40.40  2018-12-04T00:00:00      1   \n",
       "2            10   5196000.0       56.00  2015-08-20T00:00:00      2   \n",
       "3             0  64900000.0      159.00  2015-07-24T00:00:00      3   \n",
       "4             2  10000000.0      100.00  2018-06-19T00:00:00      2   \n",
       "5            10   2890000.0       30.40  2018-09-10T00:00:00      1   \n",
       "6             6   3700000.0       37.30  2017-11-02T00:00:00      1   \n",
       "7             5   7915000.0       71.60  2019-04-18T00:00:00      2   \n",
       "8            20   2900000.0       33.16  2018-05-23T00:00:00      1   \n",
       "9            18   5400000.0       61.00  2017-02-26T00:00:00      3   \n",
       "\n",
       "   ceiling_height  floors_total  living_area  floor is_apartment  ...  \\\n",
       "0            2.70          16.0        51.00      8          NaN  ...   \n",
       "1             NaN          11.0        18.60      1          NaN  ...   \n",
       "2             NaN           5.0        34.30      4          NaN  ...   \n",
       "3             NaN          14.0          NaN      9          NaN  ...   \n",
       "4            3.03          14.0        32.00     13          NaN  ...   \n",
       "5             NaN          12.0        14.40      5          NaN  ...   \n",
       "6             NaN          26.0        10.60      6          NaN  ...   \n",
       "7             NaN          24.0          NaN     22          NaN  ...   \n",
       "8             NaN          27.0        15.43     26          NaN  ...   \n",
       "9            2.50           9.0        43.60      7          NaN  ...   \n",
       "\n",
       "   kitchen_area  balcony              locality_name  airports_nearest  \\\n",
       "0         25.00      NaN            Санкт-Петербург           18863.0   \n",
       "1         11.00      2.0             посёлок Шушары           12817.0   \n",
       "2          8.30      0.0            Санкт-Петербург           21741.0   \n",
       "3           NaN      0.0            Санкт-Петербург           28098.0   \n",
       "4         41.00      NaN            Санкт-Петербург           31856.0   \n",
       "5          9.10      NaN  городской посёлок Янино-1               NaN   \n",
       "6         14.40      1.0          посёлок Парголово           52996.0   \n",
       "7         18.90      2.0            Санкт-Петербург           23982.0   \n",
       "8          8.81      NaN             посёлок Мурино               NaN   \n",
       "9          6.50      2.0            Санкт-Петербург           50898.0   \n",
       "\n",
       "  cityCenters_nearest  parks_around3000  parks_nearest  ponds_around3000  \\\n",
       "0             16028.0               1.0          482.0               2.0   \n",
       "1             18603.0               0.0            NaN               0.0   \n",
       "2             13933.0               1.0           90.0               2.0   \n",
       "3              6800.0               2.0           84.0               3.0   \n",
       "4              8098.0               2.0          112.0               1.0   \n",
       "5                 NaN               NaN            NaN               NaN   \n",
       "6             19143.0               0.0            NaN               0.0   \n",
       "7             11634.0               0.0            NaN               0.0   \n",
       "8                 NaN               NaN            NaN               NaN   \n",
       "9             15008.0               0.0            NaN               0.0   \n",
       "\n",
       "   ponds_nearest  days_exposition  \n",
       "0          755.0              NaN  \n",
       "1            NaN             81.0  \n",
       "2          574.0            558.0  \n",
       "3          234.0            424.0  \n",
       "4           48.0            121.0  \n",
       "5            NaN             55.0  \n",
       "6            NaN            155.0  \n",
       "7            NaN              NaN  \n",
       "8            NaN            189.0  \n",
       "9            NaN            289.0  \n",
       "\n",
       "[10 rows x 22 columns]"
      ]
     },
     "execution_count": 190,
     "metadata": {},
     "output_type": "execute_result"
    }
   ],
   "source": [
    "data = pd.read_csv('/datasets/real_estate_data.csv', sep='\\t')\n",
    "\n",
    "data.head(10)"
   ]
  },
  {
   "cell_type": "markdown",
   "metadata": {},
   "source": [
    "Таблица стала читабельна. Теперь посмотрим общую информацию о ней для дальнейшего анализа"
   ]
  },
  {
   "cell_type": "code",
   "execution_count": 191,
   "metadata": {},
   "outputs": [
    {
     "name": "stdout",
     "output_type": "stream",
     "text": [
      "<class 'pandas.core.frame.DataFrame'>\n",
      "RangeIndex: 23699 entries, 0 to 23698\n",
      "Data columns (total 22 columns):\n",
      " #   Column                Non-Null Count  Dtype  \n",
      "---  ------                --------------  -----  \n",
      " 0   total_images          23699 non-null  int64  \n",
      " 1   last_price            23699 non-null  float64\n",
      " 2   total_area            23699 non-null  float64\n",
      " 3   first_day_exposition  23699 non-null  object \n",
      " 4   rooms                 23699 non-null  int64  \n",
      " 5   ceiling_height        14504 non-null  float64\n",
      " 6   floors_total          23613 non-null  float64\n",
      " 7   living_area           21796 non-null  float64\n",
      " 8   floor                 23699 non-null  int64  \n",
      " 9   is_apartment          2775 non-null   object \n",
      " 10  studio                23699 non-null  bool   \n",
      " 11  open_plan             23699 non-null  bool   \n",
      " 12  kitchen_area          21421 non-null  float64\n",
      " 13  balcony               12180 non-null  float64\n",
      " 14  locality_name         23650 non-null  object \n",
      " 15  airports_nearest      18157 non-null  float64\n",
      " 16  cityCenters_nearest   18180 non-null  float64\n",
      " 17  parks_around3000      18181 non-null  float64\n",
      " 18  parks_nearest         8079 non-null   float64\n",
      " 19  ponds_around3000      18181 non-null  float64\n",
      " 20  ponds_nearest         9110 non-null   float64\n",
      " 21  days_exposition       20518 non-null  float64\n",
      "dtypes: bool(2), float64(14), int64(3), object(3)\n",
      "memory usage: 3.7+ MB\n"
     ]
    }
   ],
   "source": [
    "data.info()"
   ]
  },
  {
   "cell_type": "markdown",
   "metadata": {},
   "source": [
    "В нескольких столбцах есть пропуски. В следующем шаге найдем эти пропуски. Но пока посмотрим как выглядит гистаграмма для оценки качества данных."
   ]
  },
  {
   "cell_type": "code",
   "execution_count": 192,
   "metadata": {
    "scrolled": true
   },
   "outputs": [
    {
     "data": {
      "image/png": "[encoded data removed]",
      "text/plain": [
       "<Figure size 1080x1440 with 20 Axes>"
      ]
     },
     "metadata": {
      "needs_background": "light"
     },
     "output_type": "display_data"
    }
   ],
   "source": [
    "data.hist(figsize=(15, 20))\n",
    "plt.show()"
   ]
  },
  {
   "cell_type": "markdown",
   "metadata": {},
   "source": [
    "Не очень удачно отобразились столбцы last_price, living_area, ceiling_height. Нужно проверить данные в этих столбцах. "
   ]
  },
  {
   "cell_type": "markdown",
   "metadata": {},
   "source": [
    "## Предобработка данных"
   ]
  },
  {
   "cell_type": "markdown",
   "metadata": {},
   "source": [
    "### Удаление пропусков"
   ]
  },
  {
   "cell_type": "code",
   "execution_count": 193,
   "metadata": {
    "scrolled": true
   },
   "outputs": [
    {
     "data": {
      "text/plain": [
       "is_apartment            20924\n",
       "parks_nearest           15620\n",
       "ponds_nearest           14589\n",
       "balcony                 11519\n",
       "ceiling_height           9195\n",
       "airports_nearest         5542\n",
       "cityCenters_nearest      5519\n",
       "ponds_around3000         5518\n",
       "parks_around3000         5518\n",
       "days_exposition          3181\n",
       "kitchen_area             2278\n",
       "living_area              1903\n",
       "floors_total               86\n",
       "locality_name              49\n",
       "total_images                0\n",
       "last_price                  0\n",
       "studio                      0\n",
       "floor                       0\n",
       "rooms                       0\n",
       "first_day_exposition        0\n",
       "total_area                  0\n",
       "open_plan                   0\n",
       "dtype: int64"
      ]
     },
     "execution_count": 193,
     "metadata": {},
     "output_type": "execute_result"
    }
   ],
   "source": [
    "data.isna().sum().sort_values(ascending = False) #выведем количество пропущенных значений"
   ]
  },
  {
   "cell_type": "markdown",
   "metadata": {},
   "source": [
    "Согласно полученной информации пропуски в следующих столбцах:\n",
    "- ceiling_height - здесь пропуски можно заменить медианной высотой потолков среди всех объявлений;  \n",
    "- floors_total - здесь всего  86 (0,36 %) пропусков, пропуски можно заменить на \"0\", так как на ход исследования влияния не окажут;\n",
    "- living_area - пропуски заменить можно медианным значением схожих квартир;\n",
    "- is_apartment - необходимо этот столбец преобразовать в булев тип, где пропуски будут заменены на \"False\";\n",
    "- kitchen_area - пропуски можно заменить медианными значениями площади кухни в квартирах с одинаковым количеством комнат;\n",
    "- balcony - здесь пропуски скорее всего из-за отсутствия балкона в квартире, поэтому заменим на \"0\";\n",
    "- locality_name - здесь пропуски можно заменить на \"нет информации\";\n",
    "- airports_nearest - можно заменить медианным расстоянием от квартир в населенном пункте до аэропорта;\n",
    "- cityCenters_nearest - так же можно заменить медианным расстоянием от квартир в населенном пункте до центра города;\n",
    "- parks_around3000 - скорее всего поблизости нет парков, значит заменим пропущенные значения на \"0\";\n",
    "- parks_nearest - замену можно произвести исходя из медианного расстояния до ближайшего парка в каждом населенном пункте и значения в столбце parks_around3000, отличного от нуля;\n",
    "- ponds_around3000 - скорее всего поблизости нет водоемов, значит заменим пропущенные значения на \"0\";\n",
    "- ponds_nearest - замену можно произвести исходя из медианного расстояния до ближайшего водоёма в каждом населенном пункте и значения в столбце ponds_around3000, отличного от нуля;\n",
    "- days_exposition -  здесь значения заменим на \"0\";\n",
    "\n",
    "\n"
   ]
  },
  {
   "cell_type": "markdown",
   "metadata": {},
   "source": [
    "Начнем с самого простого: заменим в столбцах balcony, parks_around3000, floors_total, ponds_around3000 и days_exposition пропуски на \"0\""
   ]
  },
  {
   "cell_type": "code",
   "execution_count": 194,
   "metadata": {},
   "outputs": [],
   "source": [
    "data['balcony'] = data['balcony'].fillna(0)\n",
    "data['parks_around3000'] = data['parks_around3000'].fillna(0)\n",
    "data['ponds_around3000'] = data['ponds_around3000'].fillna(0)\n",
    "data['floors_total'] = data['floors_total'].fillna(0)\n",
    "data['days_exposition'] = data['days_exposition'].fillna(0)"
   ]
  },
  {
   "cell_type": "code",
   "execution_count": 195,
   "metadata": {},
   "outputs": [
    {
     "data": {
      "text/plain": [
       "total_images                0\n",
       "last_price                  0\n",
       "total_area                  0\n",
       "first_day_exposition        0\n",
       "rooms                       0\n",
       "ceiling_height           9195\n",
       "floors_total                0\n",
       "living_area              1903\n",
       "floor                       0\n",
       "is_apartment            20924\n",
       "studio                      0\n",
       "open_plan                   0\n",
       "kitchen_area             2278\n",
       "balcony                     0\n",
       "locality_name              49\n",
       "airports_nearest         5542\n",
       "cityCenters_nearest      5519\n",
       "parks_around3000            0\n",
       "parks_nearest           15620\n",
       "ponds_around3000            0\n",
       "ponds_nearest           14589\n",
       "days_exposition             0\n",
       "dtype: int64"
      ]
     },
     "execution_count": 195,
     "metadata": {},
     "output_type": "execute_result"
    }
   ],
   "source": [
    "# посмотрим есть ли пропуски в этих столбцах\n",
    "data.isna().sum()"
   ]
  },
  {
   "cell_type": "markdown",
   "metadata": {},
   "source": [
    "Пропусков в столбцах balcony, parks_around3000 и ponds_around3000 нет. \n",
    "Теперь в столбце locality_name пропуски заменим на \"нет информации\"."
   ]
  },
  {
   "cell_type": "code",
   "execution_count": 196,
   "metadata": {},
   "outputs": [],
   "source": [
    "data['locality_name'] = data['locality_name'].fillna('нет информации')"
   ]
  },
  {
   "cell_type": "markdown",
   "metadata": {},
   "source": [
    "С помощью цикла уберем пропуски в столбцах parks_nearest и ponds_nearest. "
   ]
  },
  {
   "cell_type": "code",
   "execution_count": 197,
   "metadata": {
    "scrolled": false
   },
   "outputs": [
    {
     "name": "stderr",
     "output_type": "stream",
     "text": [
      "/opt/conda/lib/python3.9/site-packages/numpy/lib/nanfunctions.py:1117: RuntimeWarning: Mean of empty slice\n",
      "  return np.nanmean(a, axis, out=out, keepdims=keepdims)\n",
      "/opt/conda/lib/python3.9/site-packages/numpy/lib/nanfunctions.py:1117: RuntimeWarning: Mean of empty slice\n",
      "  return np.nanmean(a, axis, out=out, keepdims=keepdims)\n",
      "/opt/conda/lib/python3.9/site-packages/numpy/lib/nanfunctions.py:1117: RuntimeWarning: Mean of empty slice\n",
      "  return np.nanmean(a, axis, out=out, keepdims=keepdims)\n",
      "/opt/conda/lib/python3.9/site-packages/numpy/lib/nanfunctions.py:1117: RuntimeWarning: Mean of empty slice\n",
      "  return np.nanmean(a, axis, out=out, keepdims=keepdims)\n",
      "/opt/conda/lib/python3.9/site-packages/numpy/lib/nanfunctions.py:1117: RuntimeWarning: Mean of empty slice\n",
      "  return np.nanmean(a, axis, out=out, keepdims=keepdims)\n",
      "/opt/conda/lib/python3.9/site-packages/numpy/lib/nanfunctions.py:1117: RuntimeWarning: Mean of empty slice\n",
      "  return np.nanmean(a, axis, out=out, keepdims=keepdims)\n",
      "/opt/conda/lib/python3.9/site-packages/numpy/lib/nanfunctions.py:1117: RuntimeWarning: Mean of empty slice\n",
      "  return np.nanmean(a, axis, out=out, keepdims=keepdims)\n",
      "/opt/conda/lib/python3.9/site-packages/numpy/lib/nanfunctions.py:1117: RuntimeWarning: Mean of empty slice\n",
      "  return np.nanmean(a, axis, out=out, keepdims=keepdims)\n",
      "/opt/conda/lib/python3.9/site-packages/numpy/lib/nanfunctions.py:1117: RuntimeWarning: Mean of empty slice\n",
      "  return np.nanmean(a, axis, out=out, keepdims=keepdims)\n",
      "/opt/conda/lib/python3.9/site-packages/numpy/lib/nanfunctions.py:1117: RuntimeWarning: Mean of empty slice\n",
      "  return np.nanmean(a, axis, out=out, keepdims=keepdims)\n",
      "/opt/conda/lib/python3.9/site-packages/numpy/lib/nanfunctions.py:1117: RuntimeWarning: Mean of empty slice\n",
      "  return np.nanmean(a, axis, out=out, keepdims=keepdims)\n",
      "/opt/conda/lib/python3.9/site-packages/numpy/lib/nanfunctions.py:1117: RuntimeWarning: Mean of empty slice\n",
      "  return np.nanmean(a, axis, out=out, keepdims=keepdims)\n",
      "/opt/conda/lib/python3.9/site-packages/numpy/lib/nanfunctions.py:1117: RuntimeWarning: Mean of empty slice\n",
      "  return np.nanmean(a, axis, out=out, keepdims=keepdims)\n",
      "/opt/conda/lib/python3.9/site-packages/numpy/lib/nanfunctions.py:1117: RuntimeWarning: Mean of empty slice\n",
      "  return np.nanmean(a, axis, out=out, keepdims=keepdims)\n",
      "/opt/conda/lib/python3.9/site-packages/numpy/lib/nanfunctions.py:1117: RuntimeWarning: Mean of empty slice\n",
      "  return np.nanmean(a, axis, out=out, keepdims=keepdims)\n",
      "/opt/conda/lib/python3.9/site-packages/numpy/lib/nanfunctions.py:1117: RuntimeWarning: Mean of empty slice\n",
      "  return np.nanmean(a, axis, out=out, keepdims=keepdims)\n",
      "/opt/conda/lib/python3.9/site-packages/numpy/lib/nanfunctions.py:1117: RuntimeWarning: Mean of empty slice\n",
      "  return np.nanmean(a, axis, out=out, keepdims=keepdims)\n",
      "/opt/conda/lib/python3.9/site-packages/numpy/lib/nanfunctions.py:1117: RuntimeWarning: Mean of empty slice\n",
      "  return np.nanmean(a, axis, out=out, keepdims=keepdims)\n",
      "/opt/conda/lib/python3.9/site-packages/numpy/lib/nanfunctions.py:1117: RuntimeWarning: Mean of empty slice\n",
      "  return np.nanmean(a, axis, out=out, keepdims=keepdims)\n",
      "/opt/conda/lib/python3.9/site-packages/numpy/lib/nanfunctions.py:1117: RuntimeWarning: Mean of empty slice\n",
      "  return np.nanmean(a, axis, out=out, keepdims=keepdims)\n",
      "/opt/conda/lib/python3.9/site-packages/numpy/lib/nanfunctions.py:1117: RuntimeWarning: Mean of empty slice\n",
      "  return np.nanmean(a, axis, out=out, keepdims=keepdims)\n",
      "/opt/conda/lib/python3.9/site-packages/numpy/lib/nanfunctions.py:1117: RuntimeWarning: Mean of empty slice\n",
      "  return np.nanmean(a, axis, out=out, keepdims=keepdims)\n",
      "/opt/conda/lib/python3.9/site-packages/numpy/lib/nanfunctions.py:1117: RuntimeWarning: Mean of empty slice\n",
      "  return np.nanmean(a, axis, out=out, keepdims=keepdims)\n",
      "/opt/conda/lib/python3.9/site-packages/numpy/lib/nanfunctions.py:1117: RuntimeWarning: Mean of empty slice\n",
      "  return np.nanmean(a, axis, out=out, keepdims=keepdims)\n",
      "/opt/conda/lib/python3.9/site-packages/numpy/lib/nanfunctions.py:1117: RuntimeWarning: Mean of empty slice\n",
      "  return np.nanmean(a, axis, out=out, keepdims=keepdims)\n",
      "/opt/conda/lib/python3.9/site-packages/numpy/lib/nanfunctions.py:1117: RuntimeWarning: Mean of empty slice\n",
      "  return np.nanmean(a, axis, out=out, keepdims=keepdims)\n",
      "/opt/conda/lib/python3.9/site-packages/numpy/lib/nanfunctions.py:1117: RuntimeWarning: Mean of empty slice\n",
      "  return np.nanmean(a, axis, out=out, keepdims=keepdims)\n",
      "/opt/conda/lib/python3.9/site-packages/numpy/lib/nanfunctions.py:1117: RuntimeWarning: Mean of empty slice\n",
      "  return np.nanmean(a, axis, out=out, keepdims=keepdims)\n",
      "/opt/conda/lib/python3.9/site-packages/numpy/lib/nanfunctions.py:1117: RuntimeWarning: Mean of empty slice\n",
      "  return np.nanmean(a, axis, out=out, keepdims=keepdims)\n",
      "/opt/conda/lib/python3.9/site-packages/numpy/lib/nanfunctions.py:1117: RuntimeWarning: Mean of empty slice\n",
      "  return np.nanmean(a, axis, out=out, keepdims=keepdims)\n",
      "/opt/conda/lib/python3.9/site-packages/numpy/lib/nanfunctions.py:1117: RuntimeWarning: Mean of empty slice\n",
      "  return np.nanmean(a, axis, out=out, keepdims=keepdims)\n",
      "/opt/conda/lib/python3.9/site-packages/numpy/lib/nanfunctions.py:1117: RuntimeWarning: Mean of empty slice\n",
      "  return np.nanmean(a, axis, out=out, keepdims=keepdims)\n",
      "/opt/conda/lib/python3.9/site-packages/numpy/lib/nanfunctions.py:1117: RuntimeWarning: Mean of empty slice\n",
      "  return np.nanmean(a, axis, out=out, keepdims=keepdims)\n",
      "/opt/conda/lib/python3.9/site-packages/numpy/lib/nanfunctions.py:1117: RuntimeWarning: Mean of empty slice\n",
      "  return np.nanmean(a, axis, out=out, keepdims=keepdims)\n",
      "/opt/conda/lib/python3.9/site-packages/numpy/lib/nanfunctions.py:1117: RuntimeWarning: Mean of empty slice\n",
      "  return np.nanmean(a, axis, out=out, keepdims=keepdims)\n",
      "/opt/conda/lib/python3.9/site-packages/numpy/lib/nanfunctions.py:1117: RuntimeWarning: Mean of empty slice\n",
      "  return np.nanmean(a, axis, out=out, keepdims=keepdims)\n",
      "/opt/conda/lib/python3.9/site-packages/numpy/lib/nanfunctions.py:1117: RuntimeWarning: Mean of empty slice\n",
      "  return np.nanmean(a, axis, out=out, keepdims=keepdims)\n",
      "/opt/conda/lib/python3.9/site-packages/numpy/lib/nanfunctions.py:1117: RuntimeWarning: Mean of empty slice\n",
      "  return np.nanmean(a, axis, out=out, keepdims=keepdims)\n",
      "/opt/conda/lib/python3.9/site-packages/numpy/lib/nanfunctions.py:1117: RuntimeWarning: Mean of empty slice\n",
      "  return np.nanmean(a, axis, out=out, keepdims=keepdims)\n",
      "/opt/conda/lib/python3.9/site-packages/numpy/lib/nanfunctions.py:1117: RuntimeWarning: Mean of empty slice\n",
      "  return np.nanmean(a, axis, out=out, keepdims=keepdims)\n",
      "/opt/conda/lib/python3.9/site-packages/numpy/lib/nanfunctions.py:1117: RuntimeWarning: Mean of empty slice\n",
      "  return np.nanmean(a, axis, out=out, keepdims=keepdims)\n",
      "/opt/conda/lib/python3.9/site-packages/numpy/lib/nanfunctions.py:1117: RuntimeWarning: Mean of empty slice\n",
      "  return np.nanmean(a, axis, out=out, keepdims=keepdims)\n",
      "/opt/conda/lib/python3.9/site-packages/numpy/lib/nanfunctions.py:1117: RuntimeWarning: Mean of empty slice\n",
      "  return np.nanmean(a, axis, out=out, keepdims=keepdims)\n",
      "/opt/conda/lib/python3.9/site-packages/numpy/lib/nanfunctions.py:1117: RuntimeWarning: Mean of empty slice\n",
      "  return np.nanmean(a, axis, out=out, keepdims=keepdims)\n",
      "/opt/conda/lib/python3.9/site-packages/numpy/lib/nanfunctions.py:1117: RuntimeWarning: Mean of empty slice\n",
      "  return np.nanmean(a, axis, out=out, keepdims=keepdims)\n",
      "/opt/conda/lib/python3.9/site-packages/numpy/lib/nanfunctions.py:1117: RuntimeWarning: Mean of empty slice\n",
      "  return np.nanmean(a, axis, out=out, keepdims=keepdims)\n",
      "/opt/conda/lib/python3.9/site-packages/numpy/lib/nanfunctions.py:1117: RuntimeWarning: Mean of empty slice\n",
      "  return np.nanmean(a, axis, out=out, keepdims=keepdims)\n",
      "/opt/conda/lib/python3.9/site-packages/numpy/lib/nanfunctions.py:1117: RuntimeWarning: Mean of empty slice\n",
      "  return np.nanmean(a, axis, out=out, keepdims=keepdims)\n",
      "/opt/conda/lib/python3.9/site-packages/numpy/lib/nanfunctions.py:1117: RuntimeWarning: Mean of empty slice\n",
      "  return np.nanmean(a, axis, out=out, keepdims=keepdims)\n",
      "/opt/conda/lib/python3.9/site-packages/numpy/lib/nanfunctions.py:1117: RuntimeWarning: Mean of empty slice\n",
      "  return np.nanmean(a, axis, out=out, keepdims=keepdims)\n",
      "/opt/conda/lib/python3.9/site-packages/numpy/lib/nanfunctions.py:1117: RuntimeWarning: Mean of empty slice\n",
      "  return np.nanmean(a, axis, out=out, keepdims=keepdims)\n",
      "/opt/conda/lib/python3.9/site-packages/numpy/lib/nanfunctions.py:1117: RuntimeWarning: Mean of empty slice\n",
      "  return np.nanmean(a, axis, out=out, keepdims=keepdims)\n",
      "/opt/conda/lib/python3.9/site-packages/numpy/lib/nanfunctions.py:1117: RuntimeWarning: Mean of empty slice\n",
      "  return np.nanmean(a, axis, out=out, keepdims=keepdims)\n",
      "/opt/conda/lib/python3.9/site-packages/numpy/lib/nanfunctions.py:1117: RuntimeWarning: Mean of empty slice\n",
      "  return np.nanmean(a, axis, out=out, keepdims=keepdims)\n",
      "/opt/conda/lib/python3.9/site-packages/numpy/lib/nanfunctions.py:1117: RuntimeWarning: Mean of empty slice\n",
      "  return np.nanmean(a, axis, out=out, keepdims=keepdims)\n",
      "/opt/conda/lib/python3.9/site-packages/numpy/lib/nanfunctions.py:1117: RuntimeWarning: Mean of empty slice\n",
      "  return np.nanmean(a, axis, out=out, keepdims=keepdims)\n",
      "/opt/conda/lib/python3.9/site-packages/numpy/lib/nanfunctions.py:1117: RuntimeWarning: Mean of empty slice\n",
      "  return np.nanmean(a, axis, out=out, keepdims=keepdims)\n",
      "/opt/conda/lib/python3.9/site-packages/numpy/lib/nanfunctions.py:1117: RuntimeWarning: Mean of empty slice\n",
      "  return np.nanmean(a, axis, out=out, keepdims=keepdims)\n",
      "/opt/conda/lib/python3.9/site-packages/numpy/lib/nanfunctions.py:1117: RuntimeWarning: Mean of empty slice\n",
      "  return np.nanmean(a, axis, out=out, keepdims=keepdims)\n",
      "/opt/conda/lib/python3.9/site-packages/numpy/lib/nanfunctions.py:1117: RuntimeWarning: Mean of empty slice\n",
      "  return np.nanmean(a, axis, out=out, keepdims=keepdims)\n",
      "/opt/conda/lib/python3.9/site-packages/numpy/lib/nanfunctions.py:1117: RuntimeWarning: Mean of empty slice\n",
      "  return np.nanmean(a, axis, out=out, keepdims=keepdims)\n",
      "/opt/conda/lib/python3.9/site-packages/numpy/lib/nanfunctions.py:1117: RuntimeWarning: Mean of empty slice\n",
      "  return np.nanmean(a, axis, out=out, keepdims=keepdims)\n",
      "/opt/conda/lib/python3.9/site-packages/numpy/lib/nanfunctions.py:1117: RuntimeWarning: Mean of empty slice\n",
      "  return np.nanmean(a, axis, out=out, keepdims=keepdims)\n",
      "/opt/conda/lib/python3.9/site-packages/numpy/lib/nanfunctions.py:1117: RuntimeWarning: Mean of empty slice\n",
      "  return np.nanmean(a, axis, out=out, keepdims=keepdims)\n",
      "/opt/conda/lib/python3.9/site-packages/numpy/lib/nanfunctions.py:1117: RuntimeWarning: Mean of empty slice\n",
      "  return np.nanmean(a, axis, out=out, keepdims=keepdims)\n",
      "/opt/conda/lib/python3.9/site-packages/numpy/lib/nanfunctions.py:1117: RuntimeWarning: Mean of empty slice\n",
      "  return np.nanmean(a, axis, out=out, keepdims=keepdims)\n",
      "/opt/conda/lib/python3.9/site-packages/numpy/lib/nanfunctions.py:1117: RuntimeWarning: Mean of empty slice\n",
      "  return np.nanmean(a, axis, out=out, keepdims=keepdims)\n",
      "/opt/conda/lib/python3.9/site-packages/numpy/lib/nanfunctions.py:1117: RuntimeWarning: Mean of empty slice\n",
      "  return np.nanmean(a, axis, out=out, keepdims=keepdims)\n",
      "/opt/conda/lib/python3.9/site-packages/numpy/lib/nanfunctions.py:1117: RuntimeWarning: Mean of empty slice\n",
      "  return np.nanmean(a, axis, out=out, keepdims=keepdims)\n",
      "/opt/conda/lib/python3.9/site-packages/numpy/lib/nanfunctions.py:1117: RuntimeWarning: Mean of empty slice\n",
      "  return np.nanmean(a, axis, out=out, keepdims=keepdims)\n",
      "/opt/conda/lib/python3.9/site-packages/numpy/lib/nanfunctions.py:1117: RuntimeWarning: Mean of empty slice\n",
      "  return np.nanmean(a, axis, out=out, keepdims=keepdims)\n",
      "/opt/conda/lib/python3.9/site-packages/numpy/lib/nanfunctions.py:1117: RuntimeWarning: Mean of empty slice\n",
      "  return np.nanmean(a, axis, out=out, keepdims=keepdims)\n",
      "/opt/conda/lib/python3.9/site-packages/numpy/lib/nanfunctions.py:1117: RuntimeWarning: Mean of empty slice\n",
      "  return np.nanmean(a, axis, out=out, keepdims=keepdims)\n",
      "/opt/conda/lib/python3.9/site-packages/numpy/lib/nanfunctions.py:1117: RuntimeWarning: Mean of empty slice\n",
      "  return np.nanmean(a, axis, out=out, keepdims=keepdims)\n",
      "/opt/conda/lib/python3.9/site-packages/numpy/lib/nanfunctions.py:1117: RuntimeWarning: Mean of empty slice\n",
      "  return np.nanmean(a, axis, out=out, keepdims=keepdims)\n",
      "/opt/conda/lib/python3.9/site-packages/numpy/lib/nanfunctions.py:1117: RuntimeWarning: Mean of empty slice\n",
      "  return np.nanmean(a, axis, out=out, keepdims=keepdims)\n",
      "/opt/conda/lib/python3.9/site-packages/numpy/lib/nanfunctions.py:1117: RuntimeWarning: Mean of empty slice\n",
      "  return np.nanmean(a, axis, out=out, keepdims=keepdims)\n",
      "/opt/conda/lib/python3.9/site-packages/numpy/lib/nanfunctions.py:1117: RuntimeWarning: Mean of empty slice\n",
      "  return np.nanmean(a, axis, out=out, keepdims=keepdims)\n",
      "/opt/conda/lib/python3.9/site-packages/numpy/lib/nanfunctions.py:1117: RuntimeWarning: Mean of empty slice\n",
      "  return np.nanmean(a, axis, out=out, keepdims=keepdims)\n",
      "/opt/conda/lib/python3.9/site-packages/numpy/lib/nanfunctions.py:1117: RuntimeWarning: Mean of empty slice\n",
      "  return np.nanmean(a, axis, out=out, keepdims=keepdims)\n",
      "/opt/conda/lib/python3.9/site-packages/numpy/lib/nanfunctions.py:1117: RuntimeWarning: Mean of empty slice\n",
      "  return np.nanmean(a, axis, out=out, keepdims=keepdims)\n",
      "/opt/conda/lib/python3.9/site-packages/numpy/lib/nanfunctions.py:1117: RuntimeWarning: Mean of empty slice\n",
      "  return np.nanmean(a, axis, out=out, keepdims=keepdims)\n",
      "/opt/conda/lib/python3.9/site-packages/numpy/lib/nanfunctions.py:1117: RuntimeWarning: Mean of empty slice\n",
      "  return np.nanmean(a, axis, out=out, keepdims=keepdims)\n",
      "/opt/conda/lib/python3.9/site-packages/numpy/lib/nanfunctions.py:1117: RuntimeWarning: Mean of empty slice\n",
      "  return np.nanmean(a, axis, out=out, keepdims=keepdims)\n",
      "/opt/conda/lib/python3.9/site-packages/numpy/lib/nanfunctions.py:1117: RuntimeWarning: Mean of empty slice\n",
      "  return np.nanmean(a, axis, out=out, keepdims=keepdims)\n",
      "/opt/conda/lib/python3.9/site-packages/numpy/lib/nanfunctions.py:1117: RuntimeWarning: Mean of empty slice\n",
      "  return np.nanmean(a, axis, out=out, keepdims=keepdims)\n",
      "/opt/conda/lib/python3.9/site-packages/numpy/lib/nanfunctions.py:1117: RuntimeWarning: Mean of empty slice\n",
      "  return np.nanmean(a, axis, out=out, keepdims=keepdims)\n",
      "/opt/conda/lib/python3.9/site-packages/numpy/lib/nanfunctions.py:1117: RuntimeWarning: Mean of empty slice\n",
      "  return np.nanmean(a, axis, out=out, keepdims=keepdims)\n",
      "/opt/conda/lib/python3.9/site-packages/numpy/lib/nanfunctions.py:1117: RuntimeWarning: Mean of empty slice\n",
      "  return np.nanmean(a, axis, out=out, keepdims=keepdims)\n",
      "/opt/conda/lib/python3.9/site-packages/numpy/lib/nanfunctions.py:1117: RuntimeWarning: Mean of empty slice\n",
      "  return np.nanmean(a, axis, out=out, keepdims=keepdims)\n",
      "/opt/conda/lib/python3.9/site-packages/numpy/lib/nanfunctions.py:1117: RuntimeWarning: Mean of empty slice\n",
      "  return np.nanmean(a, axis, out=out, keepdims=keepdims)\n",
      "/opt/conda/lib/python3.9/site-packages/numpy/lib/nanfunctions.py:1117: RuntimeWarning: Mean of empty slice\n",
      "  return np.nanmean(a, axis, out=out, keepdims=keepdims)\n",
      "/opt/conda/lib/python3.9/site-packages/numpy/lib/nanfunctions.py:1117: RuntimeWarning: Mean of empty slice\n",
      "  return np.nanmean(a, axis, out=out, keepdims=keepdims)\n",
      "/opt/conda/lib/python3.9/site-packages/numpy/lib/nanfunctions.py:1117: RuntimeWarning: Mean of empty slice\n",
      "  return np.nanmean(a, axis, out=out, keepdims=keepdims)\n",
      "/opt/conda/lib/python3.9/site-packages/numpy/lib/nanfunctions.py:1117: RuntimeWarning: Mean of empty slice\n",
      "  return np.nanmean(a, axis, out=out, keepdims=keepdims)\n",
      "/opt/conda/lib/python3.9/site-packages/numpy/lib/nanfunctions.py:1117: RuntimeWarning: Mean of empty slice\n",
      "  return np.nanmean(a, axis, out=out, keepdims=keepdims)\n",
      "/opt/conda/lib/python3.9/site-packages/numpy/lib/nanfunctions.py:1117: RuntimeWarning: Mean of empty slice\n",
      "  return np.nanmean(a, axis, out=out, keepdims=keepdims)\n",
      "/opt/conda/lib/python3.9/site-packages/numpy/lib/nanfunctions.py:1117: RuntimeWarning: Mean of empty slice\n",
      "  return np.nanmean(a, axis, out=out, keepdims=keepdims)\n",
      "/opt/conda/lib/python3.9/site-packages/numpy/lib/nanfunctions.py:1117: RuntimeWarning: Mean of empty slice\n",
      "  return np.nanmean(a, axis, out=out, keepdims=keepdims)\n",
      "/opt/conda/lib/python3.9/site-packages/numpy/lib/nanfunctions.py:1117: RuntimeWarning: Mean of empty slice\n",
      "  return np.nanmean(a, axis, out=out, keepdims=keepdims)\n",
      "/opt/conda/lib/python3.9/site-packages/numpy/lib/nanfunctions.py:1117: RuntimeWarning: Mean of empty slice\n",
      "  return np.nanmean(a, axis, out=out, keepdims=keepdims)\n",
      "/opt/conda/lib/python3.9/site-packages/numpy/lib/nanfunctions.py:1117: RuntimeWarning: Mean of empty slice\n",
      "  return np.nanmean(a, axis, out=out, keepdims=keepdims)\n",
      "/opt/conda/lib/python3.9/site-packages/numpy/lib/nanfunctions.py:1117: RuntimeWarning: Mean of empty slice\n",
      "  return np.nanmean(a, axis, out=out, keepdims=keepdims)\n",
      "/opt/conda/lib/python3.9/site-packages/numpy/lib/nanfunctions.py:1117: RuntimeWarning: Mean of empty slice\n",
      "  return np.nanmean(a, axis, out=out, keepdims=keepdims)\n",
      "/opt/conda/lib/python3.9/site-packages/numpy/lib/nanfunctions.py:1117: RuntimeWarning: Mean of empty slice\n",
      "  return np.nanmean(a, axis, out=out, keepdims=keepdims)\n",
      "/opt/conda/lib/python3.9/site-packages/numpy/lib/nanfunctions.py:1117: RuntimeWarning: Mean of empty slice\n",
      "  return np.nanmean(a, axis, out=out, keepdims=keepdims)\n",
      "/opt/conda/lib/python3.9/site-packages/numpy/lib/nanfunctions.py:1117: RuntimeWarning: Mean of empty slice\n",
      "  return np.nanmean(a, axis, out=out, keepdims=keepdims)\n",
      "/opt/conda/lib/python3.9/site-packages/numpy/lib/nanfunctions.py:1117: RuntimeWarning: Mean of empty slice\n",
      "  return np.nanmean(a, axis, out=out, keepdims=keepdims)\n",
      "/opt/conda/lib/python3.9/site-packages/numpy/lib/nanfunctions.py:1117: RuntimeWarning: Mean of empty slice\n",
      "  return np.nanmean(a, axis, out=out, keepdims=keepdims)\n",
      "/opt/conda/lib/python3.9/site-packages/numpy/lib/nanfunctions.py:1117: RuntimeWarning: Mean of empty slice\n",
      "  return np.nanmean(a, axis, out=out, keepdims=keepdims)\n",
      "/opt/conda/lib/python3.9/site-packages/numpy/lib/nanfunctions.py:1117: RuntimeWarning: Mean of empty slice\n",
      "  return np.nanmean(a, axis, out=out, keepdims=keepdims)\n",
      "/opt/conda/lib/python3.9/site-packages/numpy/lib/nanfunctions.py:1117: RuntimeWarning: Mean of empty slice\n",
      "  return np.nanmean(a, axis, out=out, keepdims=keepdims)\n",
      "/opt/conda/lib/python3.9/site-packages/numpy/lib/nanfunctions.py:1117: RuntimeWarning: Mean of empty slice\n",
      "  return np.nanmean(a, axis, out=out, keepdims=keepdims)\n",
      "/opt/conda/lib/python3.9/site-packages/numpy/lib/nanfunctions.py:1117: RuntimeWarning: Mean of empty slice\n",
      "  return np.nanmean(a, axis, out=out, keepdims=keepdims)\n",
      "/opt/conda/lib/python3.9/site-packages/numpy/lib/nanfunctions.py:1117: RuntimeWarning: Mean of empty slice\n",
      "  return np.nanmean(a, axis, out=out, keepdims=keepdims)\n",
      "/opt/conda/lib/python3.9/site-packages/numpy/lib/nanfunctions.py:1117: RuntimeWarning: Mean of empty slice\n",
      "  return np.nanmean(a, axis, out=out, keepdims=keepdims)\n",
      "/opt/conda/lib/python3.9/site-packages/numpy/lib/nanfunctions.py:1117: RuntimeWarning: Mean of empty slice\n",
      "  return np.nanmean(a, axis, out=out, keepdims=keepdims)\n",
      "/opt/conda/lib/python3.9/site-packages/numpy/lib/nanfunctions.py:1117: RuntimeWarning: Mean of empty slice\n",
      "  return np.nanmean(a, axis, out=out, keepdims=keepdims)\n",
      "/opt/conda/lib/python3.9/site-packages/numpy/lib/nanfunctions.py:1117: RuntimeWarning: Mean of empty slice\n",
      "  return np.nanmean(a, axis, out=out, keepdims=keepdims)\n",
      "/opt/conda/lib/python3.9/site-packages/numpy/lib/nanfunctions.py:1117: RuntimeWarning: Mean of empty slice\n",
      "  return np.nanmean(a, axis, out=out, keepdims=keepdims)\n",
      "/opt/conda/lib/python3.9/site-packages/numpy/lib/nanfunctions.py:1117: RuntimeWarning: Mean of empty slice\n",
      "  return np.nanmean(a, axis, out=out, keepdims=keepdims)\n",
      "/opt/conda/lib/python3.9/site-packages/numpy/lib/nanfunctions.py:1117: RuntimeWarning: Mean of empty slice\n",
      "  return np.nanmean(a, axis, out=out, keepdims=keepdims)\n",
      "/opt/conda/lib/python3.9/site-packages/numpy/lib/nanfunctions.py:1117: RuntimeWarning: Mean of empty slice\n",
      "  return np.nanmean(a, axis, out=out, keepdims=keepdims)\n",
      "/opt/conda/lib/python3.9/site-packages/numpy/lib/nanfunctions.py:1117: RuntimeWarning: Mean of empty slice\n",
      "  return np.nanmean(a, axis, out=out, keepdims=keepdims)\n",
      "/opt/conda/lib/python3.9/site-packages/numpy/lib/nanfunctions.py:1117: RuntimeWarning: Mean of empty slice\n",
      "  return np.nanmean(a, axis, out=out, keepdims=keepdims)\n",
      "/opt/conda/lib/python3.9/site-packages/numpy/lib/nanfunctions.py:1117: RuntimeWarning: Mean of empty slice\n",
      "  return np.nanmean(a, axis, out=out, keepdims=keepdims)\n",
      "/opt/conda/lib/python3.9/site-packages/numpy/lib/nanfunctions.py:1117: RuntimeWarning: Mean of empty slice\n",
      "  return np.nanmean(a, axis, out=out, keepdims=keepdims)\n",
      "/opt/conda/lib/python3.9/site-packages/numpy/lib/nanfunctions.py:1117: RuntimeWarning: Mean of empty slice\n",
      "  return np.nanmean(a, axis, out=out, keepdims=keepdims)\n",
      "/opt/conda/lib/python3.9/site-packages/numpy/lib/nanfunctions.py:1117: RuntimeWarning: Mean of empty slice\n",
      "  return np.nanmean(a, axis, out=out, keepdims=keepdims)\n",
      "/opt/conda/lib/python3.9/site-packages/numpy/lib/nanfunctions.py:1117: RuntimeWarning: Mean of empty slice\n",
      "  return np.nanmean(a, axis, out=out, keepdims=keepdims)\n",
      "/opt/conda/lib/python3.9/site-packages/numpy/lib/nanfunctions.py:1117: RuntimeWarning: Mean of empty slice\n",
      "  return np.nanmean(a, axis, out=out, keepdims=keepdims)\n",
      "/opt/conda/lib/python3.9/site-packages/numpy/lib/nanfunctions.py:1117: RuntimeWarning: Mean of empty slice\n",
      "  return np.nanmean(a, axis, out=out, keepdims=keepdims)\n",
      "/opt/conda/lib/python3.9/site-packages/numpy/lib/nanfunctions.py:1117: RuntimeWarning: Mean of empty slice\n",
      "  return np.nanmean(a, axis, out=out, keepdims=keepdims)\n",
      "/opt/conda/lib/python3.9/site-packages/numpy/lib/nanfunctions.py:1117: RuntimeWarning: Mean of empty slice\n",
      "  return np.nanmean(a, axis, out=out, keepdims=keepdims)\n",
      "/opt/conda/lib/python3.9/site-packages/numpy/lib/nanfunctions.py:1117: RuntimeWarning: Mean of empty slice\n",
      "  return np.nanmean(a, axis, out=out, keepdims=keepdims)\n",
      "/opt/conda/lib/python3.9/site-packages/numpy/lib/nanfunctions.py:1117: RuntimeWarning: Mean of empty slice\n",
      "  return np.nanmean(a, axis, out=out, keepdims=keepdims)\n",
      "/opt/conda/lib/python3.9/site-packages/numpy/lib/nanfunctions.py:1117: RuntimeWarning: Mean of empty slice\n",
      "  return np.nanmean(a, axis, out=out, keepdims=keepdims)\n",
      "/opt/conda/lib/python3.9/site-packages/numpy/lib/nanfunctions.py:1117: RuntimeWarning: Mean of empty slice\n",
      "  return np.nanmean(a, axis, out=out, keepdims=keepdims)\n",
      "/opt/conda/lib/python3.9/site-packages/numpy/lib/nanfunctions.py:1117: RuntimeWarning: Mean of empty slice\n",
      "  return np.nanmean(a, axis, out=out, keepdims=keepdims)\n",
      "/opt/conda/lib/python3.9/site-packages/numpy/lib/nanfunctions.py:1117: RuntimeWarning: Mean of empty slice\n",
      "  return np.nanmean(a, axis, out=out, keepdims=keepdims)\n",
      "/opt/conda/lib/python3.9/site-packages/numpy/lib/nanfunctions.py:1117: RuntimeWarning: Mean of empty slice\n",
      "  return np.nanmean(a, axis, out=out, keepdims=keepdims)\n",
      "/opt/conda/lib/python3.9/site-packages/numpy/lib/nanfunctions.py:1117: RuntimeWarning: Mean of empty slice\n",
      "  return np.nanmean(a, axis, out=out, keepdims=keepdims)\n",
      "/opt/conda/lib/python3.9/site-packages/numpy/lib/nanfunctions.py:1117: RuntimeWarning: Mean of empty slice\n",
      "  return np.nanmean(a, axis, out=out, keepdims=keepdims)\n",
      "/opt/conda/lib/python3.9/site-packages/numpy/lib/nanfunctions.py:1117: RuntimeWarning: Mean of empty slice\n",
      "  return np.nanmean(a, axis, out=out, keepdims=keepdims)\n",
      "/opt/conda/lib/python3.9/site-packages/numpy/lib/nanfunctions.py:1117: RuntimeWarning: Mean of empty slice\n",
      "  return np.nanmean(a, axis, out=out, keepdims=keepdims)\n",
      "/opt/conda/lib/python3.9/site-packages/numpy/lib/nanfunctions.py:1117: RuntimeWarning: Mean of empty slice\n",
      "  return np.nanmean(a, axis, out=out, keepdims=keepdims)\n",
      "/opt/conda/lib/python3.9/site-packages/numpy/lib/nanfunctions.py:1117: RuntimeWarning: Mean of empty slice\n",
      "  return np.nanmean(a, axis, out=out, keepdims=keepdims)\n",
      "/opt/conda/lib/python3.9/site-packages/numpy/lib/nanfunctions.py:1117: RuntimeWarning: Mean of empty slice\n",
      "  return np.nanmean(a, axis, out=out, keepdims=keepdims)\n",
      "/opt/conda/lib/python3.9/site-packages/numpy/lib/nanfunctions.py:1117: RuntimeWarning: Mean of empty slice\n",
      "  return np.nanmean(a, axis, out=out, keepdims=keepdims)\n",
      "/opt/conda/lib/python3.9/site-packages/numpy/lib/nanfunctions.py:1117: RuntimeWarning: Mean of empty slice\n",
      "  return np.nanmean(a, axis, out=out, keepdims=keepdims)\n",
      "/opt/conda/lib/python3.9/site-packages/numpy/lib/nanfunctions.py:1117: RuntimeWarning: Mean of empty slice\n",
      "  return np.nanmean(a, axis, out=out, keepdims=keepdims)\n",
      "/opt/conda/lib/python3.9/site-packages/numpy/lib/nanfunctions.py:1117: RuntimeWarning: Mean of empty slice\n",
      "  return np.nanmean(a, axis, out=out, keepdims=keepdims)\n",
      "/opt/conda/lib/python3.9/site-packages/numpy/lib/nanfunctions.py:1117: RuntimeWarning: Mean of empty slice\n",
      "  return np.nanmean(a, axis, out=out, keepdims=keepdims)\n",
      "/opt/conda/lib/python3.9/site-packages/numpy/lib/nanfunctions.py:1117: RuntimeWarning: Mean of empty slice\n",
      "  return np.nanmean(a, axis, out=out, keepdims=keepdims)\n",
      "/opt/conda/lib/python3.9/site-packages/numpy/lib/nanfunctions.py:1117: RuntimeWarning: Mean of empty slice\n",
      "  return np.nanmean(a, axis, out=out, keepdims=keepdims)\n",
      "/opt/conda/lib/python3.9/site-packages/numpy/lib/nanfunctions.py:1117: RuntimeWarning: Mean of empty slice\n",
      "  return np.nanmean(a, axis, out=out, keepdims=keepdims)\n",
      "/opt/conda/lib/python3.9/site-packages/numpy/lib/nanfunctions.py:1117: RuntimeWarning: Mean of empty slice\n",
      "  return np.nanmean(a, axis, out=out, keepdims=keepdims)\n",
      "/opt/conda/lib/python3.9/site-packages/numpy/lib/nanfunctions.py:1117: RuntimeWarning: Mean of empty slice\n",
      "  return np.nanmean(a, axis, out=out, keepdims=keepdims)\n",
      "/opt/conda/lib/python3.9/site-packages/numpy/lib/nanfunctions.py:1117: RuntimeWarning: Mean of empty slice\n",
      "  return np.nanmean(a, axis, out=out, keepdims=keepdims)\n",
      "/opt/conda/lib/python3.9/site-packages/numpy/lib/nanfunctions.py:1117: RuntimeWarning: Mean of empty slice\n",
      "  return np.nanmean(a, axis, out=out, keepdims=keepdims)\n",
      "/opt/conda/lib/python3.9/site-packages/numpy/lib/nanfunctions.py:1117: RuntimeWarning: Mean of empty slice\n",
      "  return np.nanmean(a, axis, out=out, keepdims=keepdims)\n",
      "/opt/conda/lib/python3.9/site-packages/numpy/lib/nanfunctions.py:1117: RuntimeWarning: Mean of empty slice\n",
      "  return np.nanmean(a, axis, out=out, keepdims=keepdims)\n",
      "/opt/conda/lib/python3.9/site-packages/numpy/lib/nanfunctions.py:1117: RuntimeWarning: Mean of empty slice\n",
      "  return np.nanmean(a, axis, out=out, keepdims=keepdims)\n",
      "/opt/conda/lib/python3.9/site-packages/numpy/lib/nanfunctions.py:1117: RuntimeWarning: Mean of empty slice\n",
      "  return np.nanmean(a, axis, out=out, keepdims=keepdims)\n",
      "/opt/conda/lib/python3.9/site-packages/numpy/lib/nanfunctions.py:1117: RuntimeWarning: Mean of empty slice\n",
      "  return np.nanmean(a, axis, out=out, keepdims=keepdims)\n",
      "/opt/conda/lib/python3.9/site-packages/numpy/lib/nanfunctions.py:1117: RuntimeWarning: Mean of empty slice\n",
      "  return np.nanmean(a, axis, out=out, keepdims=keepdims)\n",
      "/opt/conda/lib/python3.9/site-packages/numpy/lib/nanfunctions.py:1117: RuntimeWarning: Mean of empty slice\n",
      "  return np.nanmean(a, axis, out=out, keepdims=keepdims)\n",
      "/opt/conda/lib/python3.9/site-packages/numpy/lib/nanfunctions.py:1117: RuntimeWarning: Mean of empty slice\n",
      "  return np.nanmean(a, axis, out=out, keepdims=keepdims)\n",
      "/opt/conda/lib/python3.9/site-packages/numpy/lib/nanfunctions.py:1117: RuntimeWarning: Mean of empty slice\n",
      "  return np.nanmean(a, axis, out=out, keepdims=keepdims)\n",
      "/opt/conda/lib/python3.9/site-packages/numpy/lib/nanfunctions.py:1117: RuntimeWarning: Mean of empty slice\n",
      "  return np.nanmean(a, axis, out=out, keepdims=keepdims)\n",
      "/opt/conda/lib/python3.9/site-packages/numpy/lib/nanfunctions.py:1117: RuntimeWarning: Mean of empty slice\n",
      "  return np.nanmean(a, axis, out=out, keepdims=keepdims)\n",
      "/opt/conda/lib/python3.9/site-packages/numpy/lib/nanfunctions.py:1117: RuntimeWarning: Mean of empty slice\n",
      "  return np.nanmean(a, axis, out=out, keepdims=keepdims)\n",
      "/opt/conda/lib/python3.9/site-packages/numpy/lib/nanfunctions.py:1117: RuntimeWarning: Mean of empty slice\n",
      "  return np.nanmean(a, axis, out=out, keepdims=keepdims)\n",
      "/opt/conda/lib/python3.9/site-packages/numpy/lib/nanfunctions.py:1117: RuntimeWarning: Mean of empty slice\n",
      "  return np.nanmean(a, axis, out=out, keepdims=keepdims)\n",
      "/opt/conda/lib/python3.9/site-packages/numpy/lib/nanfunctions.py:1117: RuntimeWarning: Mean of empty slice\n",
      "  return np.nanmean(a, axis, out=out, keepdims=keepdims)\n",
      "/opt/conda/lib/python3.9/site-packages/numpy/lib/nanfunctions.py:1117: RuntimeWarning: Mean of empty slice\n",
      "  return np.nanmean(a, axis, out=out, keepdims=keepdims)\n",
      "/opt/conda/lib/python3.9/site-packages/numpy/lib/nanfunctions.py:1117: RuntimeWarning: Mean of empty slice\n",
      "  return np.nanmean(a, axis, out=out, keepdims=keepdims)\n",
      "/opt/conda/lib/python3.9/site-packages/numpy/lib/nanfunctions.py:1117: RuntimeWarning: Mean of empty slice\n",
      "  return np.nanmean(a, axis, out=out, keepdims=keepdims)\n",
      "/opt/conda/lib/python3.9/site-packages/numpy/lib/nanfunctions.py:1117: RuntimeWarning: Mean of empty slice\n",
      "  return np.nanmean(a, axis, out=out, keepdims=keepdims)\n",
      "/opt/conda/lib/python3.9/site-packages/numpy/lib/nanfunctions.py:1117: RuntimeWarning: Mean of empty slice\n",
      "  return np.nanmean(a, axis, out=out, keepdims=keepdims)\n",
      "/opt/conda/lib/python3.9/site-packages/numpy/lib/nanfunctions.py:1117: RuntimeWarning: Mean of empty slice\n",
      "  return np.nanmean(a, axis, out=out, keepdims=keepdims)\n",
      "/opt/conda/lib/python3.9/site-packages/numpy/lib/nanfunctions.py:1117: RuntimeWarning: Mean of empty slice\n",
      "  return np.nanmean(a, axis, out=out, keepdims=keepdims)\n",
      "/opt/conda/lib/python3.9/site-packages/numpy/lib/nanfunctions.py:1117: RuntimeWarning: Mean of empty slice\n",
      "  return np.nanmean(a, axis, out=out, keepdims=keepdims)\n",
      "/opt/conda/lib/python3.9/site-packages/numpy/lib/nanfunctions.py:1117: RuntimeWarning: Mean of empty slice\n",
      "  return np.nanmean(a, axis, out=out, keepdims=keepdims)\n",
      "/opt/conda/lib/python3.9/site-packages/numpy/lib/nanfunctions.py:1117: RuntimeWarning: Mean of empty slice\n",
      "  return np.nanmean(a, axis, out=out, keepdims=keepdims)\n",
      "/opt/conda/lib/python3.9/site-packages/numpy/lib/nanfunctions.py:1117: RuntimeWarning: Mean of empty slice\n",
      "  return np.nanmean(a, axis, out=out, keepdims=keepdims)\n",
      "/opt/conda/lib/python3.9/site-packages/numpy/lib/nanfunctions.py:1117: RuntimeWarning: Mean of empty slice\n",
      "  return np.nanmean(a, axis, out=out, keepdims=keepdims)\n",
      "/opt/conda/lib/python3.9/site-packages/numpy/lib/nanfunctions.py:1117: RuntimeWarning: Mean of empty slice\n",
      "  return np.nanmean(a, axis, out=out, keepdims=keepdims)\n",
      "/opt/conda/lib/python3.9/site-packages/numpy/lib/nanfunctions.py:1117: RuntimeWarning: Mean of empty slice\n",
      "  return np.nanmean(a, axis, out=out, keepdims=keepdims)\n",
      "/opt/conda/lib/python3.9/site-packages/numpy/lib/nanfunctions.py:1117: RuntimeWarning: Mean of empty slice\n",
      "  return np.nanmean(a, axis, out=out, keepdims=keepdims)\n",
      "/opt/conda/lib/python3.9/site-packages/numpy/lib/nanfunctions.py:1117: RuntimeWarning: Mean of empty slice\n",
      "  return np.nanmean(a, axis, out=out, keepdims=keepdims)\n",
      "/opt/conda/lib/python3.9/site-packages/numpy/lib/nanfunctions.py:1117: RuntimeWarning: Mean of empty slice\n",
      "  return np.nanmean(a, axis, out=out, keepdims=keepdims)\n",
      "/opt/conda/lib/python3.9/site-packages/numpy/lib/nanfunctions.py:1117: RuntimeWarning: Mean of empty slice\n",
      "  return np.nanmean(a, axis, out=out, keepdims=keepdims)\n",
      "/opt/conda/lib/python3.9/site-packages/numpy/lib/nanfunctions.py:1117: RuntimeWarning: Mean of empty slice\n",
      "  return np.nanmean(a, axis, out=out, keepdims=keepdims)\n",
      "/opt/conda/lib/python3.9/site-packages/numpy/lib/nanfunctions.py:1117: RuntimeWarning: Mean of empty slice\n",
      "  return np.nanmean(a, axis, out=out, keepdims=keepdims)\n",
      "/opt/conda/lib/python3.9/site-packages/numpy/lib/nanfunctions.py:1117: RuntimeWarning: Mean of empty slice\n",
      "  return np.nanmean(a, axis, out=out, keepdims=keepdims)\n",
      "/opt/conda/lib/python3.9/site-packages/numpy/lib/nanfunctions.py:1117: RuntimeWarning: Mean of empty slice\n",
      "  return np.nanmean(a, axis, out=out, keepdims=keepdims)\n",
      "/opt/conda/lib/python3.9/site-packages/numpy/lib/nanfunctions.py:1117: RuntimeWarning: Mean of empty slice\n",
      "  return np.nanmean(a, axis, out=out, keepdims=keepdims)\n",
      "/opt/conda/lib/python3.9/site-packages/numpy/lib/nanfunctions.py:1117: RuntimeWarning: Mean of empty slice\n",
      "  return np.nanmean(a, axis, out=out, keepdims=keepdims)\n",
      "/opt/conda/lib/python3.9/site-packages/numpy/lib/nanfunctions.py:1117: RuntimeWarning: Mean of empty slice\n",
      "  return np.nanmean(a, axis, out=out, keepdims=keepdims)\n",
      "/opt/conda/lib/python3.9/site-packages/numpy/lib/nanfunctions.py:1117: RuntimeWarning: Mean of empty slice\n",
      "  return np.nanmean(a, axis, out=out, keepdims=keepdims)\n",
      "/opt/conda/lib/python3.9/site-packages/numpy/lib/nanfunctions.py:1117: RuntimeWarning: Mean of empty slice\n",
      "  return np.nanmean(a, axis, out=out, keepdims=keepdims)\n",
      "/opt/conda/lib/python3.9/site-packages/numpy/lib/nanfunctions.py:1117: RuntimeWarning: Mean of empty slice\n",
      "  return np.nanmean(a, axis, out=out, keepdims=keepdims)\n",
      "/opt/conda/lib/python3.9/site-packages/numpy/lib/nanfunctions.py:1117: RuntimeWarning: Mean of empty slice\n",
      "  return np.nanmean(a, axis, out=out, keepdims=keepdims)\n",
      "/opt/conda/lib/python3.9/site-packages/numpy/lib/nanfunctions.py:1117: RuntimeWarning: Mean of empty slice\n",
      "  return np.nanmean(a, axis, out=out, keepdims=keepdims)\n",
      "/opt/conda/lib/python3.9/site-packages/numpy/lib/nanfunctions.py:1117: RuntimeWarning: Mean of empty slice\n",
      "  return np.nanmean(a, axis, out=out, keepdims=keepdims)\n",
      "/opt/conda/lib/python3.9/site-packages/numpy/lib/nanfunctions.py:1117: RuntimeWarning: Mean of empty slice\n",
      "  return np.nanmean(a, axis, out=out, keepdims=keepdims)\n",
      "/opt/conda/lib/python3.9/site-packages/numpy/lib/nanfunctions.py:1117: RuntimeWarning: Mean of empty slice\n",
      "  return np.nanmean(a, axis, out=out, keepdims=keepdims)\n",
      "/opt/conda/lib/python3.9/site-packages/numpy/lib/nanfunctions.py:1117: RuntimeWarning: Mean of empty slice\n",
      "  return np.nanmean(a, axis, out=out, keepdims=keepdims)\n",
      "/opt/conda/lib/python3.9/site-packages/numpy/lib/nanfunctions.py:1117: RuntimeWarning: Mean of empty slice\n",
      "  return np.nanmean(a, axis, out=out, keepdims=keepdims)\n",
      "/opt/conda/lib/python3.9/site-packages/numpy/lib/nanfunctions.py:1117: RuntimeWarning: Mean of empty slice\n",
      "  return np.nanmean(a, axis, out=out, keepdims=keepdims)\n",
      "/opt/conda/lib/python3.9/site-packages/numpy/lib/nanfunctions.py:1117: RuntimeWarning: Mean of empty slice\n",
      "  return np.nanmean(a, axis, out=out, keepdims=keepdims)\n",
      "/opt/conda/lib/python3.9/site-packages/numpy/lib/nanfunctions.py:1117: RuntimeWarning: Mean of empty slice\n",
      "  return np.nanmean(a, axis, out=out, keepdims=keepdims)\n",
      "/opt/conda/lib/python3.9/site-packages/numpy/lib/nanfunctions.py:1117: RuntimeWarning: Mean of empty slice\n",
      "  return np.nanmean(a, axis, out=out, keepdims=keepdims)\n",
      "/opt/conda/lib/python3.9/site-packages/numpy/lib/nanfunctions.py:1117: RuntimeWarning: Mean of empty slice\n",
      "  return np.nanmean(a, axis, out=out, keepdims=keepdims)\n",
      "/opt/conda/lib/python3.9/site-packages/numpy/lib/nanfunctions.py:1117: RuntimeWarning: Mean of empty slice\n",
      "  return np.nanmean(a, axis, out=out, keepdims=keepdims)\n",
      "/opt/conda/lib/python3.9/site-packages/numpy/lib/nanfunctions.py:1117: RuntimeWarning: Mean of empty slice\n",
      "  return np.nanmean(a, axis, out=out, keepdims=keepdims)\n",
      "/opt/conda/lib/python3.9/site-packages/numpy/lib/nanfunctions.py:1117: RuntimeWarning: Mean of empty slice\n",
      "  return np.nanmean(a, axis, out=out, keepdims=keepdims)\n",
      "/opt/conda/lib/python3.9/site-packages/numpy/lib/nanfunctions.py:1117: RuntimeWarning: Mean of empty slice\n",
      "  return np.nanmean(a, axis, out=out, keepdims=keepdims)\n",
      "/opt/conda/lib/python3.9/site-packages/numpy/lib/nanfunctions.py:1117: RuntimeWarning: Mean of empty slice\n",
      "  return np.nanmean(a, axis, out=out, keepdims=keepdims)\n",
      "/opt/conda/lib/python3.9/site-packages/numpy/lib/nanfunctions.py:1117: RuntimeWarning: Mean of empty slice\n",
      "  return np.nanmean(a, axis, out=out, keepdims=keepdims)\n",
      "/opt/conda/lib/python3.9/site-packages/numpy/lib/nanfunctions.py:1117: RuntimeWarning: Mean of empty slice\n",
      "  return np.nanmean(a, axis, out=out, keepdims=keepdims)\n",
      "/opt/conda/lib/python3.9/site-packages/numpy/lib/nanfunctions.py:1117: RuntimeWarning: Mean of empty slice\n",
      "  return np.nanmean(a, axis, out=out, keepdims=keepdims)\n",
      "/opt/conda/lib/python3.9/site-packages/numpy/lib/nanfunctions.py:1117: RuntimeWarning: Mean of empty slice\n",
      "  return np.nanmean(a, axis, out=out, keepdims=keepdims)\n",
      "/opt/conda/lib/python3.9/site-packages/numpy/lib/nanfunctions.py:1117: RuntimeWarning: Mean of empty slice\n",
      "  return np.nanmean(a, axis, out=out, keepdims=keepdims)\n",
      "/opt/conda/lib/python3.9/site-packages/numpy/lib/nanfunctions.py:1117: RuntimeWarning: Mean of empty slice\n",
      "  return np.nanmean(a, axis, out=out, keepdims=keepdims)\n",
      "/opt/conda/lib/python3.9/site-packages/numpy/lib/nanfunctions.py:1117: RuntimeWarning: Mean of empty slice\n",
      "  return np.nanmean(a, axis, out=out, keepdims=keepdims)\n",
      "/opt/conda/lib/python3.9/site-packages/numpy/lib/nanfunctions.py:1117: RuntimeWarning: Mean of empty slice\n",
      "  return np.nanmean(a, axis, out=out, keepdims=keepdims)\n",
      "/opt/conda/lib/python3.9/site-packages/numpy/lib/nanfunctions.py:1117: RuntimeWarning: Mean of empty slice\n",
      "  return np.nanmean(a, axis, out=out, keepdims=keepdims)\n",
      "/opt/conda/lib/python3.9/site-packages/numpy/lib/nanfunctions.py:1117: RuntimeWarning: Mean of empty slice\n",
      "  return np.nanmean(a, axis, out=out, keepdims=keepdims)\n",
      "/opt/conda/lib/python3.9/site-packages/numpy/lib/nanfunctions.py:1117: RuntimeWarning: Mean of empty slice\n",
      "  return np.nanmean(a, axis, out=out, keepdims=keepdims)\n",
      "/opt/conda/lib/python3.9/site-packages/numpy/lib/nanfunctions.py:1117: RuntimeWarning: Mean of empty slice\n",
      "  return np.nanmean(a, axis, out=out, keepdims=keepdims)\n",
      "/opt/conda/lib/python3.9/site-packages/numpy/lib/nanfunctions.py:1117: RuntimeWarning: Mean of empty slice\n",
      "  return np.nanmean(a, axis, out=out, keepdims=keepdims)\n",
      "/opt/conda/lib/python3.9/site-packages/numpy/lib/nanfunctions.py:1117: RuntimeWarning: Mean of empty slice\n",
      "  return np.nanmean(a, axis, out=out, keepdims=keepdims)\n",
      "/opt/conda/lib/python3.9/site-packages/numpy/lib/nanfunctions.py:1117: RuntimeWarning: Mean of empty slice\n",
      "  return np.nanmean(a, axis, out=out, keepdims=keepdims)\n",
      "/opt/conda/lib/python3.9/site-packages/numpy/lib/nanfunctions.py:1117: RuntimeWarning: Mean of empty slice\n",
      "  return np.nanmean(a, axis, out=out, keepdims=keepdims)\n",
      "/opt/conda/lib/python3.9/site-packages/numpy/lib/nanfunctions.py:1117: RuntimeWarning: Mean of empty slice\n",
      "  return np.nanmean(a, axis, out=out, keepdims=keepdims)\n",
      "/opt/conda/lib/python3.9/site-packages/numpy/lib/nanfunctions.py:1117: RuntimeWarning: Mean of empty slice\n",
      "  return np.nanmean(a, axis, out=out, keepdims=keepdims)\n",
      "/opt/conda/lib/python3.9/site-packages/numpy/lib/nanfunctions.py:1117: RuntimeWarning: Mean of empty slice\n",
      "  return np.nanmean(a, axis, out=out, keepdims=keepdims)\n",
      "/opt/conda/lib/python3.9/site-packages/numpy/lib/nanfunctions.py:1117: RuntimeWarning: Mean of empty slice\n",
      "  return np.nanmean(a, axis, out=out, keepdims=keepdims)\n",
      "/opt/conda/lib/python3.9/site-packages/numpy/lib/nanfunctions.py:1117: RuntimeWarning: Mean of empty slice\n",
      "  return np.nanmean(a, axis, out=out, keepdims=keepdims)\n",
      "/opt/conda/lib/python3.9/site-packages/numpy/lib/nanfunctions.py:1117: RuntimeWarning: Mean of empty slice\n",
      "  return np.nanmean(a, axis, out=out, keepdims=keepdims)\n",
      "/opt/conda/lib/python3.9/site-packages/numpy/lib/nanfunctions.py:1117: RuntimeWarning: Mean of empty slice\n",
      "  return np.nanmean(a, axis, out=out, keepdims=keepdims)\n",
      "/opt/conda/lib/python3.9/site-packages/numpy/lib/nanfunctions.py:1117: RuntimeWarning: Mean of empty slice\n",
      "  return np.nanmean(a, axis, out=out, keepdims=keepdims)\n",
      "/opt/conda/lib/python3.9/site-packages/numpy/lib/nanfunctions.py:1117: RuntimeWarning: Mean of empty slice\n",
      "  return np.nanmean(a, axis, out=out, keepdims=keepdims)\n",
      "/opt/conda/lib/python3.9/site-packages/numpy/lib/nanfunctions.py:1117: RuntimeWarning: Mean of empty slice\n",
      "  return np.nanmean(a, axis, out=out, keepdims=keepdims)\n",
      "/opt/conda/lib/python3.9/site-packages/numpy/lib/nanfunctions.py:1117: RuntimeWarning: Mean of empty slice\n",
      "  return np.nanmean(a, axis, out=out, keepdims=keepdims)\n",
      "/opt/conda/lib/python3.9/site-packages/numpy/lib/nanfunctions.py:1117: RuntimeWarning: Mean of empty slice\n",
      "  return np.nanmean(a, axis, out=out, keepdims=keepdims)\n",
      "/opt/conda/lib/python3.9/site-packages/numpy/lib/nanfunctions.py:1117: RuntimeWarning: Mean of empty slice\n",
      "  return np.nanmean(a, axis, out=out, keepdims=keepdims)\n",
      "/opt/conda/lib/python3.9/site-packages/numpy/lib/nanfunctions.py:1117: RuntimeWarning: Mean of empty slice\n",
      "  return np.nanmean(a, axis, out=out, keepdims=keepdims)\n",
      "/opt/conda/lib/python3.9/site-packages/numpy/lib/nanfunctions.py:1117: RuntimeWarning: Mean of empty slice\n",
      "  return np.nanmean(a, axis, out=out, keepdims=keepdims)\n",
      "/opt/conda/lib/python3.9/site-packages/numpy/lib/nanfunctions.py:1117: RuntimeWarning: Mean of empty slice\n",
      "  return np.nanmean(a, axis, out=out, keepdims=keepdims)\n",
      "/opt/conda/lib/python3.9/site-packages/numpy/lib/nanfunctions.py:1117: RuntimeWarning: Mean of empty slice\n",
      "  return np.nanmean(a, axis, out=out, keepdims=keepdims)\n",
      "/opt/conda/lib/python3.9/site-packages/numpy/lib/nanfunctions.py:1117: RuntimeWarning: Mean of empty slice\n",
      "  return np.nanmean(a, axis, out=out, keepdims=keepdims)\n",
      "/opt/conda/lib/python3.9/site-packages/numpy/lib/nanfunctions.py:1117: RuntimeWarning: Mean of empty slice\n",
      "  return np.nanmean(a, axis, out=out, keepdims=keepdims)\n",
      "/opt/conda/lib/python3.9/site-packages/numpy/lib/nanfunctions.py:1117: RuntimeWarning: Mean of empty slice\n",
      "  return np.nanmean(a, axis, out=out, keepdims=keepdims)\n",
      "/opt/conda/lib/python3.9/site-packages/numpy/lib/nanfunctions.py:1117: RuntimeWarning: Mean of empty slice\n",
      "  return np.nanmean(a, axis, out=out, keepdims=keepdims)\n",
      "/opt/conda/lib/python3.9/site-packages/numpy/lib/nanfunctions.py:1117: RuntimeWarning: Mean of empty slice\n",
      "  return np.nanmean(a, axis, out=out, keepdims=keepdims)\n",
      "/opt/conda/lib/python3.9/site-packages/numpy/lib/nanfunctions.py:1117: RuntimeWarning: Mean of empty slice\n",
      "  return np.nanmean(a, axis, out=out, keepdims=keepdims)\n",
      "/opt/conda/lib/python3.9/site-packages/numpy/lib/nanfunctions.py:1117: RuntimeWarning: Mean of empty slice\n",
      "  return np.nanmean(a, axis, out=out, keepdims=keepdims)\n",
      "/opt/conda/lib/python3.9/site-packages/numpy/lib/nanfunctions.py:1117: RuntimeWarning: Mean of empty slice\n",
      "  return np.nanmean(a, axis, out=out, keepdims=keepdims)\n",
      "/opt/conda/lib/python3.9/site-packages/numpy/lib/nanfunctions.py:1117: RuntimeWarning: Mean of empty slice\n",
      "  return np.nanmean(a, axis, out=out, keepdims=keepdims)\n",
      "/opt/conda/lib/python3.9/site-packages/numpy/lib/nanfunctions.py:1117: RuntimeWarning: Mean of empty slice\n",
      "  return np.nanmean(a, axis, out=out, keepdims=keepdims)\n",
      "/opt/conda/lib/python3.9/site-packages/numpy/lib/nanfunctions.py:1117: RuntimeWarning: Mean of empty slice\n",
      "  return np.nanmean(a, axis, out=out, keepdims=keepdims)\n",
      "/opt/conda/lib/python3.9/site-packages/numpy/lib/nanfunctions.py:1117: RuntimeWarning: Mean of empty slice\n",
      "  return np.nanmean(a, axis, out=out, keepdims=keepdims)\n",
      "/opt/conda/lib/python3.9/site-packages/numpy/lib/nanfunctions.py:1117: RuntimeWarning: Mean of empty slice\n",
      "  return np.nanmean(a, axis, out=out, keepdims=keepdims)\n",
      "/opt/conda/lib/python3.9/site-packages/numpy/lib/nanfunctions.py:1117: RuntimeWarning: Mean of empty slice\n",
      "  return np.nanmean(a, axis, out=out, keepdims=keepdims)\n",
      "/opt/conda/lib/python3.9/site-packages/numpy/lib/nanfunctions.py:1117: RuntimeWarning: Mean of empty slice\n",
      "  return np.nanmean(a, axis, out=out, keepdims=keepdims)\n",
      "/opt/conda/lib/python3.9/site-packages/numpy/lib/nanfunctions.py:1117: RuntimeWarning: Mean of empty slice\n",
      "  return np.nanmean(a, axis, out=out, keepdims=keepdims)\n",
      "/opt/conda/lib/python3.9/site-packages/numpy/lib/nanfunctions.py:1117: RuntimeWarning: Mean of empty slice\n",
      "  return np.nanmean(a, axis, out=out, keepdims=keepdims)\n",
      "/opt/conda/lib/python3.9/site-packages/numpy/lib/nanfunctions.py:1117: RuntimeWarning: Mean of empty slice\n",
      "  return np.nanmean(a, axis, out=out, keepdims=keepdims)\n",
      "/opt/conda/lib/python3.9/site-packages/numpy/lib/nanfunctions.py:1117: RuntimeWarning: Mean of empty slice\n",
      "  return np.nanmean(a, axis, out=out, keepdims=keepdims)\n",
      "/opt/conda/lib/python3.9/site-packages/numpy/lib/nanfunctions.py:1117: RuntimeWarning: Mean of empty slice\n",
      "  return np.nanmean(a, axis, out=out, keepdims=keepdims)\n",
      "/opt/conda/lib/python3.9/site-packages/numpy/lib/nanfunctions.py:1117: RuntimeWarning: Mean of empty slice\n",
      "  return np.nanmean(a, axis, out=out, keepdims=keepdims)\n",
      "/opt/conda/lib/python3.9/site-packages/numpy/lib/nanfunctions.py:1117: RuntimeWarning: Mean of empty slice\n",
      "  return np.nanmean(a, axis, out=out, keepdims=keepdims)\n",
      "/opt/conda/lib/python3.9/site-packages/numpy/lib/nanfunctions.py:1117: RuntimeWarning: Mean of empty slice\n",
      "  return np.nanmean(a, axis, out=out, keepdims=keepdims)\n",
      "/opt/conda/lib/python3.9/site-packages/numpy/lib/nanfunctions.py:1117: RuntimeWarning: Mean of empty slice\n",
      "  return np.nanmean(a, axis, out=out, keepdims=keepdims)\n",
      "/opt/conda/lib/python3.9/site-packages/numpy/lib/nanfunctions.py:1117: RuntimeWarning: Mean of empty slice\n",
      "  return np.nanmean(a, axis, out=out, keepdims=keepdims)\n",
      "/opt/conda/lib/python3.9/site-packages/numpy/lib/nanfunctions.py:1117: RuntimeWarning: Mean of empty slice\n",
      "  return np.nanmean(a, axis, out=out, keepdims=keepdims)\n",
      "/opt/conda/lib/python3.9/site-packages/numpy/lib/nanfunctions.py:1117: RuntimeWarning: Mean of empty slice\n",
      "  return np.nanmean(a, axis, out=out, keepdims=keepdims)\n",
      "/opt/conda/lib/python3.9/site-packages/numpy/lib/nanfunctions.py:1117: RuntimeWarning: Mean of empty slice\n",
      "  return np.nanmean(a, axis, out=out, keepdims=keepdims)\n",
      "/opt/conda/lib/python3.9/site-packages/numpy/lib/nanfunctions.py:1117: RuntimeWarning: Mean of empty slice\n",
      "  return np.nanmean(a, axis, out=out, keepdims=keepdims)\n",
      "/opt/conda/lib/python3.9/site-packages/numpy/lib/nanfunctions.py:1117: RuntimeWarning: Mean of empty slice\n",
      "  return np.nanmean(a, axis, out=out, keepdims=keepdims)\n",
      "/opt/conda/lib/python3.9/site-packages/numpy/lib/nanfunctions.py:1117: RuntimeWarning: Mean of empty slice\n",
      "  return np.nanmean(a, axis, out=out, keepdims=keepdims)\n",
      "/opt/conda/lib/python3.9/site-packages/numpy/lib/nanfunctions.py:1117: RuntimeWarning: Mean of empty slice\n",
      "  return np.nanmean(a, axis, out=out, keepdims=keepdims)\n",
      "/opt/conda/lib/python3.9/site-packages/numpy/lib/nanfunctions.py:1117: RuntimeWarning: Mean of empty slice\n",
      "  return np.nanmean(a, axis, out=out, keepdims=keepdims)\n",
      "/opt/conda/lib/python3.9/site-packages/numpy/lib/nanfunctions.py:1117: RuntimeWarning: Mean of empty slice\n",
      "  return np.nanmean(a, axis, out=out, keepdims=keepdims)\n",
      "/opt/conda/lib/python3.9/site-packages/numpy/lib/nanfunctions.py:1117: RuntimeWarning: Mean of empty slice\n",
      "  return np.nanmean(a, axis, out=out, keepdims=keepdims)\n",
      "/opt/conda/lib/python3.9/site-packages/numpy/lib/nanfunctions.py:1117: RuntimeWarning: Mean of empty slice\n",
      "  return np.nanmean(a, axis, out=out, keepdims=keepdims)\n",
      "/opt/conda/lib/python3.9/site-packages/numpy/lib/nanfunctions.py:1117: RuntimeWarning: Mean of empty slice\n",
      "  return np.nanmean(a, axis, out=out, keepdims=keepdims)\n",
      "/opt/conda/lib/python3.9/site-packages/numpy/lib/nanfunctions.py:1117: RuntimeWarning: Mean of empty slice\n",
      "  return np.nanmean(a, axis, out=out, keepdims=keepdims)\n",
      "/opt/conda/lib/python3.9/site-packages/numpy/lib/nanfunctions.py:1117: RuntimeWarning: Mean of empty slice\n",
      "  return np.nanmean(a, axis, out=out, keepdims=keepdims)\n",
      "/opt/conda/lib/python3.9/site-packages/numpy/lib/nanfunctions.py:1117: RuntimeWarning: Mean of empty slice\n",
      "  return np.nanmean(a, axis, out=out, keepdims=keepdims)\n",
      "/opt/conda/lib/python3.9/site-packages/numpy/lib/nanfunctions.py:1117: RuntimeWarning: Mean of empty slice\n",
      "  return np.nanmean(a, axis, out=out, keepdims=keepdims)\n",
      "/opt/conda/lib/python3.9/site-packages/numpy/lib/nanfunctions.py:1117: RuntimeWarning: Mean of empty slice\n",
      "  return np.nanmean(a, axis, out=out, keepdims=keepdims)\n",
      "/opt/conda/lib/python3.9/site-packages/numpy/lib/nanfunctions.py:1117: RuntimeWarning: Mean of empty slice\n",
      "  return np.nanmean(a, axis, out=out, keepdims=keepdims)\n",
      "/opt/conda/lib/python3.9/site-packages/numpy/lib/nanfunctions.py:1117: RuntimeWarning: Mean of empty slice\n",
      "  return np.nanmean(a, axis, out=out, keepdims=keepdims)\n",
      "/opt/conda/lib/python3.9/site-packages/numpy/lib/nanfunctions.py:1117: RuntimeWarning: Mean of empty slice\n",
      "  return np.nanmean(a, axis, out=out, keepdims=keepdims)\n",
      "/opt/conda/lib/python3.9/site-packages/numpy/lib/nanfunctions.py:1117: RuntimeWarning: Mean of empty slice\n",
      "  return np.nanmean(a, axis, out=out, keepdims=keepdims)\n",
      "/opt/conda/lib/python3.9/site-packages/numpy/lib/nanfunctions.py:1117: RuntimeWarning: Mean of empty slice\n",
      "  return np.nanmean(a, axis, out=out, keepdims=keepdims)\n",
      "/opt/conda/lib/python3.9/site-packages/numpy/lib/nanfunctions.py:1117: RuntimeWarning: Mean of empty slice\n",
      "  return np.nanmean(a, axis, out=out, keepdims=keepdims)\n",
      "/opt/conda/lib/python3.9/site-packages/numpy/lib/nanfunctions.py:1117: RuntimeWarning: Mean of empty slice\n",
      "  return np.nanmean(a, axis, out=out, keepdims=keepdims)\n",
      "/opt/conda/lib/python3.9/site-packages/numpy/lib/nanfunctions.py:1117: RuntimeWarning: Mean of empty slice\n",
      "  return np.nanmean(a, axis, out=out, keepdims=keepdims)\n",
      "/opt/conda/lib/python3.9/site-packages/numpy/lib/nanfunctions.py:1117: RuntimeWarning: Mean of empty slice\n",
      "  return np.nanmean(a, axis, out=out, keepdims=keepdims)\n",
      "/opt/conda/lib/python3.9/site-packages/numpy/lib/nanfunctions.py:1117: RuntimeWarning: Mean of empty slice\n",
      "  return np.nanmean(a, axis, out=out, keepdims=keepdims)\n",
      "/opt/conda/lib/python3.9/site-packages/numpy/lib/nanfunctions.py:1117: RuntimeWarning: Mean of empty slice\n",
      "  return np.nanmean(a, axis, out=out, keepdims=keepdims)\n",
      "/opt/conda/lib/python3.9/site-packages/numpy/lib/nanfunctions.py:1117: RuntimeWarning: Mean of empty slice\n",
      "  return np.nanmean(a, axis, out=out, keepdims=keepdims)\n",
      "/opt/conda/lib/python3.9/site-packages/numpy/lib/nanfunctions.py:1117: RuntimeWarning: Mean of empty slice\n",
      "  return np.nanmean(a, axis, out=out, keepdims=keepdims)\n",
      "/opt/conda/lib/python3.9/site-packages/numpy/lib/nanfunctions.py:1117: RuntimeWarning: Mean of empty slice\n",
      "  return np.nanmean(a, axis, out=out, keepdims=keepdims)\n",
      "/opt/conda/lib/python3.9/site-packages/numpy/lib/nanfunctions.py:1117: RuntimeWarning: Mean of empty slice\n",
      "  return np.nanmean(a, axis, out=out, keepdims=keepdims)\n",
      "/opt/conda/lib/python3.9/site-packages/numpy/lib/nanfunctions.py:1117: RuntimeWarning: Mean of empty slice\n",
      "  return np.nanmean(a, axis, out=out, keepdims=keepdims)\n",
      "/opt/conda/lib/python3.9/site-packages/numpy/lib/nanfunctions.py:1117: RuntimeWarning: Mean of empty slice\n",
      "  return np.nanmean(a, axis, out=out, keepdims=keepdims)\n",
      "/opt/conda/lib/python3.9/site-packages/numpy/lib/nanfunctions.py:1117: RuntimeWarning: Mean of empty slice\n",
      "  return np.nanmean(a, axis, out=out, keepdims=keepdims)\n",
      "/opt/conda/lib/python3.9/site-packages/numpy/lib/nanfunctions.py:1117: RuntimeWarning: Mean of empty slice\n",
      "  return np.nanmean(a, axis, out=out, keepdims=keepdims)\n",
      "/opt/conda/lib/python3.9/site-packages/numpy/lib/nanfunctions.py:1117: RuntimeWarning: Mean of empty slice\n",
      "  return np.nanmean(a, axis, out=out, keepdims=keepdims)\n",
      "/opt/conda/lib/python3.9/site-packages/numpy/lib/nanfunctions.py:1117: RuntimeWarning: Mean of empty slice\n",
      "  return np.nanmean(a, axis, out=out, keepdims=keepdims)\n",
      "/opt/conda/lib/python3.9/site-packages/numpy/lib/nanfunctions.py:1117: RuntimeWarning: Mean of empty slice\n",
      "  return np.nanmean(a, axis, out=out, keepdims=keepdims)\n",
      "/opt/conda/lib/python3.9/site-packages/numpy/lib/nanfunctions.py:1117: RuntimeWarning: Mean of empty slice\n",
      "  return np.nanmean(a, axis, out=out, keepdims=keepdims)\n",
      "/opt/conda/lib/python3.9/site-packages/numpy/lib/nanfunctions.py:1117: RuntimeWarning: Mean of empty slice\n",
      "  return np.nanmean(a, axis, out=out, keepdims=keepdims)\n",
      "/opt/conda/lib/python3.9/site-packages/numpy/lib/nanfunctions.py:1117: RuntimeWarning: Mean of empty slice\n",
      "  return np.nanmean(a, axis, out=out, keepdims=keepdims)\n",
      "/opt/conda/lib/python3.9/site-packages/numpy/lib/nanfunctions.py:1117: RuntimeWarning: Mean of empty slice\n",
      "  return np.nanmean(a, axis, out=out, keepdims=keepdims)\n",
      "/opt/conda/lib/python3.9/site-packages/numpy/lib/nanfunctions.py:1117: RuntimeWarning: Mean of empty slice\n",
      "  return np.nanmean(a, axis, out=out, keepdims=keepdims)\n",
      "/opt/conda/lib/python3.9/site-packages/numpy/lib/nanfunctions.py:1117: RuntimeWarning: Mean of empty slice\n",
      "  return np.nanmean(a, axis, out=out, keepdims=keepdims)\n",
      "/opt/conda/lib/python3.9/site-packages/numpy/lib/nanfunctions.py:1117: RuntimeWarning: Mean of empty slice\n",
      "  return np.nanmean(a, axis, out=out, keepdims=keepdims)\n",
      "/opt/conda/lib/python3.9/site-packages/numpy/lib/nanfunctions.py:1117: RuntimeWarning: Mean of empty slice\n",
      "  return np.nanmean(a, axis, out=out, keepdims=keepdims)\n",
      "/opt/conda/lib/python3.9/site-packages/numpy/lib/nanfunctions.py:1117: RuntimeWarning: Mean of empty slice\n",
      "  return np.nanmean(a, axis, out=out, keepdims=keepdims)\n",
      "/opt/conda/lib/python3.9/site-packages/numpy/lib/nanfunctions.py:1117: RuntimeWarning: Mean of empty slice\n",
      "  return np.nanmean(a, axis, out=out, keepdims=keepdims)\n",
      "/opt/conda/lib/python3.9/site-packages/numpy/lib/nanfunctions.py:1117: RuntimeWarning: Mean of empty slice\n",
      "  return np.nanmean(a, axis, out=out, keepdims=keepdims)\n",
      "/opt/conda/lib/python3.9/site-packages/numpy/lib/nanfunctions.py:1117: RuntimeWarning: Mean of empty slice\n",
      "  return np.nanmean(a, axis, out=out, keepdims=keepdims)\n",
      "/opt/conda/lib/python3.9/site-packages/numpy/lib/nanfunctions.py:1117: RuntimeWarning: Mean of empty slice\n",
      "  return np.nanmean(a, axis, out=out, keepdims=keepdims)\n",
      "/opt/conda/lib/python3.9/site-packages/numpy/lib/nanfunctions.py:1117: RuntimeWarning: Mean of empty slice\n",
      "  return np.nanmean(a, axis, out=out, keepdims=keepdims)\n",
      "/opt/conda/lib/python3.9/site-packages/numpy/lib/nanfunctions.py:1117: RuntimeWarning: Mean of empty slice\n",
      "  return np.nanmean(a, axis, out=out, keepdims=keepdims)\n",
      "/opt/conda/lib/python3.9/site-packages/numpy/lib/nanfunctions.py:1117: RuntimeWarning: Mean of empty slice\n",
      "  return np.nanmean(a, axis, out=out, keepdims=keepdims)\n",
      "/opt/conda/lib/python3.9/site-packages/numpy/lib/nanfunctions.py:1117: RuntimeWarning: Mean of empty slice\n",
      "  return np.nanmean(a, axis, out=out, keepdims=keepdims)\n",
      "/opt/conda/lib/python3.9/site-packages/numpy/lib/nanfunctions.py:1117: RuntimeWarning: Mean of empty slice\n",
      "  return np.nanmean(a, axis, out=out, keepdims=keepdims)\n",
      "/opt/conda/lib/python3.9/site-packages/numpy/lib/nanfunctions.py:1117: RuntimeWarning: Mean of empty slice\n",
      "  return np.nanmean(a, axis, out=out, keepdims=keepdims)\n",
      "/opt/conda/lib/python3.9/site-packages/numpy/lib/nanfunctions.py:1117: RuntimeWarning: Mean of empty slice\n",
      "  return np.nanmean(a, axis, out=out, keepdims=keepdims)\n",
      "/opt/conda/lib/python3.9/site-packages/numpy/lib/nanfunctions.py:1117: RuntimeWarning: Mean of empty slice\n",
      "  return np.nanmean(a, axis, out=out, keepdims=keepdims)\n",
      "/opt/conda/lib/python3.9/site-packages/numpy/lib/nanfunctions.py:1117: RuntimeWarning: Mean of empty slice\n",
      "  return np.nanmean(a, axis, out=out, keepdims=keepdims)\n",
      "/opt/conda/lib/python3.9/site-packages/numpy/lib/nanfunctions.py:1117: RuntimeWarning: Mean of empty slice\n",
      "  return np.nanmean(a, axis, out=out, keepdims=keepdims)\n",
      "/opt/conda/lib/python3.9/site-packages/numpy/lib/nanfunctions.py:1117: RuntimeWarning: Mean of empty slice\n",
      "  return np.nanmean(a, axis, out=out, keepdims=keepdims)\n",
      "/opt/conda/lib/python3.9/site-packages/numpy/lib/nanfunctions.py:1117: RuntimeWarning: Mean of empty slice\n",
      "  return np.nanmean(a, axis, out=out, keepdims=keepdims)\n",
      "/opt/conda/lib/python3.9/site-packages/numpy/lib/nanfunctions.py:1117: RuntimeWarning: Mean of empty slice\n",
      "  return np.nanmean(a, axis, out=out, keepdims=keepdims)\n",
      "/opt/conda/lib/python3.9/site-packages/numpy/lib/nanfunctions.py:1117: RuntimeWarning: Mean of empty slice\n",
      "  return np.nanmean(a, axis, out=out, keepdims=keepdims)\n",
      "/opt/conda/lib/python3.9/site-packages/numpy/lib/nanfunctions.py:1117: RuntimeWarning: Mean of empty slice\n",
      "  return np.nanmean(a, axis, out=out, keepdims=keepdims)\n",
      "/opt/conda/lib/python3.9/site-packages/numpy/lib/nanfunctions.py:1117: RuntimeWarning: Mean of empty slice\n",
      "  return np.nanmean(a, axis, out=out, keepdims=keepdims)\n",
      "/opt/conda/lib/python3.9/site-packages/numpy/lib/nanfunctions.py:1117: RuntimeWarning: Mean of empty slice\n",
      "  return np.nanmean(a, axis, out=out, keepdims=keepdims)\n",
      "/opt/conda/lib/python3.9/site-packages/numpy/lib/nanfunctions.py:1117: RuntimeWarning: Mean of empty slice\n",
      "  return np.nanmean(a, axis, out=out, keepdims=keepdims)\n",
      "/opt/conda/lib/python3.9/site-packages/numpy/lib/nanfunctions.py:1117: RuntimeWarning: Mean of empty slice\n",
      "  return np.nanmean(a, axis, out=out, keepdims=keepdims)\n",
      "/opt/conda/lib/python3.9/site-packages/numpy/lib/nanfunctions.py:1117: RuntimeWarning: Mean of empty slice\n",
      "  return np.nanmean(a, axis, out=out, keepdims=keepdims)\n",
      "/opt/conda/lib/python3.9/site-packages/numpy/lib/nanfunctions.py:1117: RuntimeWarning: Mean of empty slice\n",
      "  return np.nanmean(a, axis, out=out, keepdims=keepdims)\n",
      "/opt/conda/lib/python3.9/site-packages/numpy/lib/nanfunctions.py:1117: RuntimeWarning: Mean of empty slice\n",
      "  return np.nanmean(a, axis, out=out, keepdims=keepdims)\n"
     ]
    }
   ],
   "source": [
    "for t in data['locality_name'].unique():\n",
    "    data.loc[(data['locality_name'] == t) & (~data['parks_around3000'].isna()), 'parks_nearest'] = \\\n",
    "    data.loc[data['locality_name'] == t, 'parks_nearest'].median()\n"
   ]
  },
  {
   "cell_type": "markdown",
   "metadata": {},
   "source": [
    "Для оставшихся пропусков, где нет в близости парков и мы не можем заполнить медианным значением, поставим \"заглушки\""
   ]
  },
  {
   "cell_type": "code",
   "execution_count": 198,
   "metadata": {},
   "outputs": [],
   "source": [
    "data['parks_nearest'] = data['parks_nearest'].fillna(0)"
   ]
  },
  {
   "cell_type": "markdown",
   "metadata": {},
   "source": [
    "Те же действия проделаем со столбцом ponds_nearest."
   ]
  },
  {
   "cell_type": "code",
   "execution_count": 199,
   "metadata": {
    "scrolled": true
   },
   "outputs": [
    {
     "name": "stderr",
     "output_type": "stream",
     "text": [
      "/opt/conda/lib/python3.9/site-packages/numpy/lib/nanfunctions.py:1117: RuntimeWarning: Mean of empty slice\n",
      "  return np.nanmean(a, axis, out=out, keepdims=keepdims)\n",
      "/opt/conda/lib/python3.9/site-packages/numpy/lib/nanfunctions.py:1117: RuntimeWarning: Mean of empty slice\n",
      "  return np.nanmean(a, axis, out=out, keepdims=keepdims)\n",
      "/opt/conda/lib/python3.9/site-packages/numpy/lib/nanfunctions.py:1117: RuntimeWarning: Mean of empty slice\n",
      "  return np.nanmean(a, axis, out=out, keepdims=keepdims)\n",
      "/opt/conda/lib/python3.9/site-packages/numpy/lib/nanfunctions.py:1117: RuntimeWarning: Mean of empty slice\n",
      "  return np.nanmean(a, axis, out=out, keepdims=keepdims)\n",
      "/opt/conda/lib/python3.9/site-packages/numpy/lib/nanfunctions.py:1117: RuntimeWarning: Mean of empty slice\n",
      "  return np.nanmean(a, axis, out=out, keepdims=keepdims)\n",
      "/opt/conda/lib/python3.9/site-packages/numpy/lib/nanfunctions.py:1117: RuntimeWarning: Mean of empty slice\n",
      "  return np.nanmean(a, axis, out=out, keepdims=keepdims)\n",
      "/opt/conda/lib/python3.9/site-packages/numpy/lib/nanfunctions.py:1117: RuntimeWarning: Mean of empty slice\n",
      "  return np.nanmean(a, axis, out=out, keepdims=keepdims)\n",
      "/opt/conda/lib/python3.9/site-packages/numpy/lib/nanfunctions.py:1117: RuntimeWarning: Mean of empty slice\n",
      "  return np.nanmean(a, axis, out=out, keepdims=keepdims)\n",
      "/opt/conda/lib/python3.9/site-packages/numpy/lib/nanfunctions.py:1117: RuntimeWarning: Mean of empty slice\n",
      "  return np.nanmean(a, axis, out=out, keepdims=keepdims)\n",
      "/opt/conda/lib/python3.9/site-packages/numpy/lib/nanfunctions.py:1117: RuntimeWarning: Mean of empty slice\n",
      "  return np.nanmean(a, axis, out=out, keepdims=keepdims)\n",
      "/opt/conda/lib/python3.9/site-packages/numpy/lib/nanfunctions.py:1117: RuntimeWarning: Mean of empty slice\n",
      "  return np.nanmean(a, axis, out=out, keepdims=keepdims)\n",
      "/opt/conda/lib/python3.9/site-packages/numpy/lib/nanfunctions.py:1117: RuntimeWarning: Mean of empty slice\n",
      "  return np.nanmean(a, axis, out=out, keepdims=keepdims)\n",
      "/opt/conda/lib/python3.9/site-packages/numpy/lib/nanfunctions.py:1117: RuntimeWarning: Mean of empty slice\n",
      "  return np.nanmean(a, axis, out=out, keepdims=keepdims)\n",
      "/opt/conda/lib/python3.9/site-packages/numpy/lib/nanfunctions.py:1117: RuntimeWarning: Mean of empty slice\n",
      "  return np.nanmean(a, axis, out=out, keepdims=keepdims)\n",
      "/opt/conda/lib/python3.9/site-packages/numpy/lib/nanfunctions.py:1117: RuntimeWarning: Mean of empty slice\n",
      "  return np.nanmean(a, axis, out=out, keepdims=keepdims)\n",
      "/opt/conda/lib/python3.9/site-packages/numpy/lib/nanfunctions.py:1117: RuntimeWarning: Mean of empty slice\n",
      "  return np.nanmean(a, axis, out=out, keepdims=keepdims)\n",
      "/opt/conda/lib/python3.9/site-packages/numpy/lib/nanfunctions.py:1117: RuntimeWarning: Mean of empty slice\n",
      "  return np.nanmean(a, axis, out=out, keepdims=keepdims)\n",
      "/opt/conda/lib/python3.9/site-packages/numpy/lib/nanfunctions.py:1117: RuntimeWarning: Mean of empty slice\n",
      "  return np.nanmean(a, axis, out=out, keepdims=keepdims)\n",
      "/opt/conda/lib/python3.9/site-packages/numpy/lib/nanfunctions.py:1117: RuntimeWarning: Mean of empty slice\n",
      "  return np.nanmean(a, axis, out=out, keepdims=keepdims)\n",
      "/opt/conda/lib/python3.9/site-packages/numpy/lib/nanfunctions.py:1117: RuntimeWarning: Mean of empty slice\n",
      "  return np.nanmean(a, axis, out=out, keepdims=keepdims)\n",
      "/opt/conda/lib/python3.9/site-packages/numpy/lib/nanfunctions.py:1117: RuntimeWarning: Mean of empty slice\n",
      "  return np.nanmean(a, axis, out=out, keepdims=keepdims)\n",
      "/opt/conda/lib/python3.9/site-packages/numpy/lib/nanfunctions.py:1117: RuntimeWarning: Mean of empty slice\n",
      "  return np.nanmean(a, axis, out=out, keepdims=keepdims)\n",
      "/opt/conda/lib/python3.9/site-packages/numpy/lib/nanfunctions.py:1117: RuntimeWarning: Mean of empty slice\n",
      "  return np.nanmean(a, axis, out=out, keepdims=keepdims)\n",
      "/opt/conda/lib/python3.9/site-packages/numpy/lib/nanfunctions.py:1117: RuntimeWarning: Mean of empty slice\n",
      "  return np.nanmean(a, axis, out=out, keepdims=keepdims)\n",
      "/opt/conda/lib/python3.9/site-packages/numpy/lib/nanfunctions.py:1117: RuntimeWarning: Mean of empty slice\n",
      "  return np.nanmean(a, axis, out=out, keepdims=keepdims)\n",
      "/opt/conda/lib/python3.9/site-packages/numpy/lib/nanfunctions.py:1117: RuntimeWarning: Mean of empty slice\n",
      "  return np.nanmean(a, axis, out=out, keepdims=keepdims)\n",
      "/opt/conda/lib/python3.9/site-packages/numpy/lib/nanfunctions.py:1117: RuntimeWarning: Mean of empty slice\n",
      "  return np.nanmean(a, axis, out=out, keepdims=keepdims)\n",
      "/opt/conda/lib/python3.9/site-packages/numpy/lib/nanfunctions.py:1117: RuntimeWarning: Mean of empty slice\n",
      "  return np.nanmean(a, axis, out=out, keepdims=keepdims)\n",
      "/opt/conda/lib/python3.9/site-packages/numpy/lib/nanfunctions.py:1117: RuntimeWarning: Mean of empty slice\n",
      "  return np.nanmean(a, axis, out=out, keepdims=keepdims)\n",
      "/opt/conda/lib/python3.9/site-packages/numpy/lib/nanfunctions.py:1117: RuntimeWarning: Mean of empty slice\n",
      "  return np.nanmean(a, axis, out=out, keepdims=keepdims)\n",
      "/opt/conda/lib/python3.9/site-packages/numpy/lib/nanfunctions.py:1117: RuntimeWarning: Mean of empty slice\n",
      "  return np.nanmean(a, axis, out=out, keepdims=keepdims)\n",
      "/opt/conda/lib/python3.9/site-packages/numpy/lib/nanfunctions.py:1117: RuntimeWarning: Mean of empty slice\n",
      "  return np.nanmean(a, axis, out=out, keepdims=keepdims)\n",
      "/opt/conda/lib/python3.9/site-packages/numpy/lib/nanfunctions.py:1117: RuntimeWarning: Mean of empty slice\n",
      "  return np.nanmean(a, axis, out=out, keepdims=keepdims)\n",
      "/opt/conda/lib/python3.9/site-packages/numpy/lib/nanfunctions.py:1117: RuntimeWarning: Mean of empty slice\n",
      "  return np.nanmean(a, axis, out=out, keepdims=keepdims)\n",
      "/opt/conda/lib/python3.9/site-packages/numpy/lib/nanfunctions.py:1117: RuntimeWarning: Mean of empty slice\n",
      "  return np.nanmean(a, axis, out=out, keepdims=keepdims)\n",
      "/opt/conda/lib/python3.9/site-packages/numpy/lib/nanfunctions.py:1117: RuntimeWarning: Mean of empty slice\n",
      "  return np.nanmean(a, axis, out=out, keepdims=keepdims)\n",
      "/opt/conda/lib/python3.9/site-packages/numpy/lib/nanfunctions.py:1117: RuntimeWarning: Mean of empty slice\n",
      "  return np.nanmean(a, axis, out=out, keepdims=keepdims)\n",
      "/opt/conda/lib/python3.9/site-packages/numpy/lib/nanfunctions.py:1117: RuntimeWarning: Mean of empty slice\n",
      "  return np.nanmean(a, axis, out=out, keepdims=keepdims)\n",
      "/opt/conda/lib/python3.9/site-packages/numpy/lib/nanfunctions.py:1117: RuntimeWarning: Mean of empty slice\n",
      "  return np.nanmean(a, axis, out=out, keepdims=keepdims)\n",
      "/opt/conda/lib/python3.9/site-packages/numpy/lib/nanfunctions.py:1117: RuntimeWarning: Mean of empty slice\n",
      "  return np.nanmean(a, axis, out=out, keepdims=keepdims)\n",
      "/opt/conda/lib/python3.9/site-packages/numpy/lib/nanfunctions.py:1117: RuntimeWarning: Mean of empty slice\n",
      "  return np.nanmean(a, axis, out=out, keepdims=keepdims)\n",
      "/opt/conda/lib/python3.9/site-packages/numpy/lib/nanfunctions.py:1117: RuntimeWarning: Mean of empty slice\n",
      "  return np.nanmean(a, axis, out=out, keepdims=keepdims)\n",
      "/opt/conda/lib/python3.9/site-packages/numpy/lib/nanfunctions.py:1117: RuntimeWarning: Mean of empty slice\n",
      "  return np.nanmean(a, axis, out=out, keepdims=keepdims)\n",
      "/opt/conda/lib/python3.9/site-packages/numpy/lib/nanfunctions.py:1117: RuntimeWarning: Mean of empty slice\n",
      "  return np.nanmean(a, axis, out=out, keepdims=keepdims)\n",
      "/opt/conda/lib/python3.9/site-packages/numpy/lib/nanfunctions.py:1117: RuntimeWarning: Mean of empty slice\n",
      "  return np.nanmean(a, axis, out=out, keepdims=keepdims)\n",
      "/opt/conda/lib/python3.9/site-packages/numpy/lib/nanfunctions.py:1117: RuntimeWarning: Mean of empty slice\n",
      "  return np.nanmean(a, axis, out=out, keepdims=keepdims)\n",
      "/opt/conda/lib/python3.9/site-packages/numpy/lib/nanfunctions.py:1117: RuntimeWarning: Mean of empty slice\n",
      "  return np.nanmean(a, axis, out=out, keepdims=keepdims)\n",
      "/opt/conda/lib/python3.9/site-packages/numpy/lib/nanfunctions.py:1117: RuntimeWarning: Mean of empty slice\n",
      "  return np.nanmean(a, axis, out=out, keepdims=keepdims)\n",
      "/opt/conda/lib/python3.9/site-packages/numpy/lib/nanfunctions.py:1117: RuntimeWarning: Mean of empty slice\n",
      "  return np.nanmean(a, axis, out=out, keepdims=keepdims)\n",
      "/opt/conda/lib/python3.9/site-packages/numpy/lib/nanfunctions.py:1117: RuntimeWarning: Mean of empty slice\n",
      "  return np.nanmean(a, axis, out=out, keepdims=keepdims)\n",
      "/opt/conda/lib/python3.9/site-packages/numpy/lib/nanfunctions.py:1117: RuntimeWarning: Mean of empty slice\n",
      "  return np.nanmean(a, axis, out=out, keepdims=keepdims)\n",
      "/opt/conda/lib/python3.9/site-packages/numpy/lib/nanfunctions.py:1117: RuntimeWarning: Mean of empty slice\n",
      "  return np.nanmean(a, axis, out=out, keepdims=keepdims)\n",
      "/opt/conda/lib/python3.9/site-packages/numpy/lib/nanfunctions.py:1117: RuntimeWarning: Mean of empty slice\n",
      "  return np.nanmean(a, axis, out=out, keepdims=keepdims)\n",
      "/opt/conda/lib/python3.9/site-packages/numpy/lib/nanfunctions.py:1117: RuntimeWarning: Mean of empty slice\n",
      "  return np.nanmean(a, axis, out=out, keepdims=keepdims)\n",
      "/opt/conda/lib/python3.9/site-packages/numpy/lib/nanfunctions.py:1117: RuntimeWarning: Mean of empty slice\n",
      "  return np.nanmean(a, axis, out=out, keepdims=keepdims)\n",
      "/opt/conda/lib/python3.9/site-packages/numpy/lib/nanfunctions.py:1117: RuntimeWarning: Mean of empty slice\n",
      "  return np.nanmean(a, axis, out=out, keepdims=keepdims)\n",
      "/opt/conda/lib/python3.9/site-packages/numpy/lib/nanfunctions.py:1117: RuntimeWarning: Mean of empty slice\n",
      "  return np.nanmean(a, axis, out=out, keepdims=keepdims)\n",
      "/opt/conda/lib/python3.9/site-packages/numpy/lib/nanfunctions.py:1117: RuntimeWarning: Mean of empty slice\n",
      "  return np.nanmean(a, axis, out=out, keepdims=keepdims)\n",
      "/opt/conda/lib/python3.9/site-packages/numpy/lib/nanfunctions.py:1117: RuntimeWarning: Mean of empty slice\n",
      "  return np.nanmean(a, axis, out=out, keepdims=keepdims)\n",
      "/opt/conda/lib/python3.9/site-packages/numpy/lib/nanfunctions.py:1117: RuntimeWarning: Mean of empty slice\n",
      "  return np.nanmean(a, axis, out=out, keepdims=keepdims)\n",
      "/opt/conda/lib/python3.9/site-packages/numpy/lib/nanfunctions.py:1117: RuntimeWarning: Mean of empty slice\n",
      "  return np.nanmean(a, axis, out=out, keepdims=keepdims)\n",
      "/opt/conda/lib/python3.9/site-packages/numpy/lib/nanfunctions.py:1117: RuntimeWarning: Mean of empty slice\n",
      "  return np.nanmean(a, axis, out=out, keepdims=keepdims)\n",
      "/opt/conda/lib/python3.9/site-packages/numpy/lib/nanfunctions.py:1117: RuntimeWarning: Mean of empty slice\n",
      "  return np.nanmean(a, axis, out=out, keepdims=keepdims)\n",
      "/opt/conda/lib/python3.9/site-packages/numpy/lib/nanfunctions.py:1117: RuntimeWarning: Mean of empty slice\n",
      "  return np.nanmean(a, axis, out=out, keepdims=keepdims)\n",
      "/opt/conda/lib/python3.9/site-packages/numpy/lib/nanfunctions.py:1117: RuntimeWarning: Mean of empty slice\n",
      "  return np.nanmean(a, axis, out=out, keepdims=keepdims)\n",
      "/opt/conda/lib/python3.9/site-packages/numpy/lib/nanfunctions.py:1117: RuntimeWarning: Mean of empty slice\n",
      "  return np.nanmean(a, axis, out=out, keepdims=keepdims)\n",
      "/opt/conda/lib/python3.9/site-packages/numpy/lib/nanfunctions.py:1117: RuntimeWarning: Mean of empty slice\n",
      "  return np.nanmean(a, axis, out=out, keepdims=keepdims)\n",
      "/opt/conda/lib/python3.9/site-packages/numpy/lib/nanfunctions.py:1117: RuntimeWarning: Mean of empty slice\n",
      "  return np.nanmean(a, axis, out=out, keepdims=keepdims)\n",
      "/opt/conda/lib/python3.9/site-packages/numpy/lib/nanfunctions.py:1117: RuntimeWarning: Mean of empty slice\n",
      "  return np.nanmean(a, axis, out=out, keepdims=keepdims)\n",
      "/opt/conda/lib/python3.9/site-packages/numpy/lib/nanfunctions.py:1117: RuntimeWarning: Mean of empty slice\n",
      "  return np.nanmean(a, axis, out=out, keepdims=keepdims)\n",
      "/opt/conda/lib/python3.9/site-packages/numpy/lib/nanfunctions.py:1117: RuntimeWarning: Mean of empty slice\n",
      "  return np.nanmean(a, axis, out=out, keepdims=keepdims)\n",
      "/opt/conda/lib/python3.9/site-packages/numpy/lib/nanfunctions.py:1117: RuntimeWarning: Mean of empty slice\n",
      "  return np.nanmean(a, axis, out=out, keepdims=keepdims)\n",
      "/opt/conda/lib/python3.9/site-packages/numpy/lib/nanfunctions.py:1117: RuntimeWarning: Mean of empty slice\n",
      "  return np.nanmean(a, axis, out=out, keepdims=keepdims)\n",
      "/opt/conda/lib/python3.9/site-packages/numpy/lib/nanfunctions.py:1117: RuntimeWarning: Mean of empty slice\n",
      "  return np.nanmean(a, axis, out=out, keepdims=keepdims)\n",
      "/opt/conda/lib/python3.9/site-packages/numpy/lib/nanfunctions.py:1117: RuntimeWarning: Mean of empty slice\n",
      "  return np.nanmean(a, axis, out=out, keepdims=keepdims)\n",
      "/opt/conda/lib/python3.9/site-packages/numpy/lib/nanfunctions.py:1117: RuntimeWarning: Mean of empty slice\n",
      "  return np.nanmean(a, axis, out=out, keepdims=keepdims)\n",
      "/opt/conda/lib/python3.9/site-packages/numpy/lib/nanfunctions.py:1117: RuntimeWarning: Mean of empty slice\n",
      "  return np.nanmean(a, axis, out=out, keepdims=keepdims)\n",
      "/opt/conda/lib/python3.9/site-packages/numpy/lib/nanfunctions.py:1117: RuntimeWarning: Mean of empty slice\n",
      "  return np.nanmean(a, axis, out=out, keepdims=keepdims)\n",
      "/opt/conda/lib/python3.9/site-packages/numpy/lib/nanfunctions.py:1117: RuntimeWarning: Mean of empty slice\n",
      "  return np.nanmean(a, axis, out=out, keepdims=keepdims)\n",
      "/opt/conda/lib/python3.9/site-packages/numpy/lib/nanfunctions.py:1117: RuntimeWarning: Mean of empty slice\n",
      "  return np.nanmean(a, axis, out=out, keepdims=keepdims)\n",
      "/opt/conda/lib/python3.9/site-packages/numpy/lib/nanfunctions.py:1117: RuntimeWarning: Mean of empty slice\n",
      "  return np.nanmean(a, axis, out=out, keepdims=keepdims)\n",
      "/opt/conda/lib/python3.9/site-packages/numpy/lib/nanfunctions.py:1117: RuntimeWarning: Mean of empty slice\n",
      "  return np.nanmean(a, axis, out=out, keepdims=keepdims)\n",
      "/opt/conda/lib/python3.9/site-packages/numpy/lib/nanfunctions.py:1117: RuntimeWarning: Mean of empty slice\n",
      "  return np.nanmean(a, axis, out=out, keepdims=keepdims)\n",
      "/opt/conda/lib/python3.9/site-packages/numpy/lib/nanfunctions.py:1117: RuntimeWarning: Mean of empty slice\n",
      "  return np.nanmean(a, axis, out=out, keepdims=keepdims)\n",
      "/opt/conda/lib/python3.9/site-packages/numpy/lib/nanfunctions.py:1117: RuntimeWarning: Mean of empty slice\n",
      "  return np.nanmean(a, axis, out=out, keepdims=keepdims)\n",
      "/opt/conda/lib/python3.9/site-packages/numpy/lib/nanfunctions.py:1117: RuntimeWarning: Mean of empty slice\n",
      "  return np.nanmean(a, axis, out=out, keepdims=keepdims)\n",
      "/opt/conda/lib/python3.9/site-packages/numpy/lib/nanfunctions.py:1117: RuntimeWarning: Mean of empty slice\n",
      "  return np.nanmean(a, axis, out=out, keepdims=keepdims)\n",
      "/opt/conda/lib/python3.9/site-packages/numpy/lib/nanfunctions.py:1117: RuntimeWarning: Mean of empty slice\n",
      "  return np.nanmean(a, axis, out=out, keepdims=keepdims)\n",
      "/opt/conda/lib/python3.9/site-packages/numpy/lib/nanfunctions.py:1117: RuntimeWarning: Mean of empty slice\n",
      "  return np.nanmean(a, axis, out=out, keepdims=keepdims)\n",
      "/opt/conda/lib/python3.9/site-packages/numpy/lib/nanfunctions.py:1117: RuntimeWarning: Mean of empty slice\n",
      "  return np.nanmean(a, axis, out=out, keepdims=keepdims)\n",
      "/opt/conda/lib/python3.9/site-packages/numpy/lib/nanfunctions.py:1117: RuntimeWarning: Mean of empty slice\n",
      "  return np.nanmean(a, axis, out=out, keepdims=keepdims)\n",
      "/opt/conda/lib/python3.9/site-packages/numpy/lib/nanfunctions.py:1117: RuntimeWarning: Mean of empty slice\n",
      "  return np.nanmean(a, axis, out=out, keepdims=keepdims)\n",
      "/opt/conda/lib/python3.9/site-packages/numpy/lib/nanfunctions.py:1117: RuntimeWarning: Mean of empty slice\n",
      "  return np.nanmean(a, axis, out=out, keepdims=keepdims)\n",
      "/opt/conda/lib/python3.9/site-packages/numpy/lib/nanfunctions.py:1117: RuntimeWarning: Mean of empty slice\n",
      "  return np.nanmean(a, axis, out=out, keepdims=keepdims)\n",
      "/opt/conda/lib/python3.9/site-packages/numpy/lib/nanfunctions.py:1117: RuntimeWarning: Mean of empty slice\n",
      "  return np.nanmean(a, axis, out=out, keepdims=keepdims)\n",
      "/opt/conda/lib/python3.9/site-packages/numpy/lib/nanfunctions.py:1117: RuntimeWarning: Mean of empty slice\n",
      "  return np.nanmean(a, axis, out=out, keepdims=keepdims)\n",
      "/opt/conda/lib/python3.9/site-packages/numpy/lib/nanfunctions.py:1117: RuntimeWarning: Mean of empty slice\n",
      "  return np.nanmean(a, axis, out=out, keepdims=keepdims)\n",
      "/opt/conda/lib/python3.9/site-packages/numpy/lib/nanfunctions.py:1117: RuntimeWarning: Mean of empty slice\n",
      "  return np.nanmean(a, axis, out=out, keepdims=keepdims)\n",
      "/opt/conda/lib/python3.9/site-packages/numpy/lib/nanfunctions.py:1117: RuntimeWarning: Mean of empty slice\n",
      "  return np.nanmean(a, axis, out=out, keepdims=keepdims)\n",
      "/opt/conda/lib/python3.9/site-packages/numpy/lib/nanfunctions.py:1117: RuntimeWarning: Mean of empty slice\n",
      "  return np.nanmean(a, axis, out=out, keepdims=keepdims)\n",
      "/opt/conda/lib/python3.9/site-packages/numpy/lib/nanfunctions.py:1117: RuntimeWarning: Mean of empty slice\n",
      "  return np.nanmean(a, axis, out=out, keepdims=keepdims)\n",
      "/opt/conda/lib/python3.9/site-packages/numpy/lib/nanfunctions.py:1117: RuntimeWarning: Mean of empty slice\n",
      "  return np.nanmean(a, axis, out=out, keepdims=keepdims)\n",
      "/opt/conda/lib/python3.9/site-packages/numpy/lib/nanfunctions.py:1117: RuntimeWarning: Mean of empty slice\n",
      "  return np.nanmean(a, axis, out=out, keepdims=keepdims)\n",
      "/opt/conda/lib/python3.9/site-packages/numpy/lib/nanfunctions.py:1117: RuntimeWarning: Mean of empty slice\n",
      "  return np.nanmean(a, axis, out=out, keepdims=keepdims)\n",
      "/opt/conda/lib/python3.9/site-packages/numpy/lib/nanfunctions.py:1117: RuntimeWarning: Mean of empty slice\n",
      "  return np.nanmean(a, axis, out=out, keepdims=keepdims)\n",
      "/opt/conda/lib/python3.9/site-packages/numpy/lib/nanfunctions.py:1117: RuntimeWarning: Mean of empty slice\n",
      "  return np.nanmean(a, axis, out=out, keepdims=keepdims)\n",
      "/opt/conda/lib/python3.9/site-packages/numpy/lib/nanfunctions.py:1117: RuntimeWarning: Mean of empty slice\n",
      "  return np.nanmean(a, axis, out=out, keepdims=keepdims)\n",
      "/opt/conda/lib/python3.9/site-packages/numpy/lib/nanfunctions.py:1117: RuntimeWarning: Mean of empty slice\n",
      "  return np.nanmean(a, axis, out=out, keepdims=keepdims)\n",
      "/opt/conda/lib/python3.9/site-packages/numpy/lib/nanfunctions.py:1117: RuntimeWarning: Mean of empty slice\n",
      "  return np.nanmean(a, axis, out=out, keepdims=keepdims)\n",
      "/opt/conda/lib/python3.9/site-packages/numpy/lib/nanfunctions.py:1117: RuntimeWarning: Mean of empty slice\n",
      "  return np.nanmean(a, axis, out=out, keepdims=keepdims)\n",
      "/opt/conda/lib/python3.9/site-packages/numpy/lib/nanfunctions.py:1117: RuntimeWarning: Mean of empty slice\n",
      "  return np.nanmean(a, axis, out=out, keepdims=keepdims)\n",
      "/opt/conda/lib/python3.9/site-packages/numpy/lib/nanfunctions.py:1117: RuntimeWarning: Mean of empty slice\n",
      "  return np.nanmean(a, axis, out=out, keepdims=keepdims)\n",
      "/opt/conda/lib/python3.9/site-packages/numpy/lib/nanfunctions.py:1117: RuntimeWarning: Mean of empty slice\n",
      "  return np.nanmean(a, axis, out=out, keepdims=keepdims)\n",
      "/opt/conda/lib/python3.9/site-packages/numpy/lib/nanfunctions.py:1117: RuntimeWarning: Mean of empty slice\n",
      "  return np.nanmean(a, axis, out=out, keepdims=keepdims)\n",
      "/opt/conda/lib/python3.9/site-packages/numpy/lib/nanfunctions.py:1117: RuntimeWarning: Mean of empty slice\n",
      "  return np.nanmean(a, axis, out=out, keepdims=keepdims)\n",
      "/opt/conda/lib/python3.9/site-packages/numpy/lib/nanfunctions.py:1117: RuntimeWarning: Mean of empty slice\n",
      "  return np.nanmean(a, axis, out=out, keepdims=keepdims)\n",
      "/opt/conda/lib/python3.9/site-packages/numpy/lib/nanfunctions.py:1117: RuntimeWarning: Mean of empty slice\n",
      "  return np.nanmean(a, axis, out=out, keepdims=keepdims)\n",
      "/opt/conda/lib/python3.9/site-packages/numpy/lib/nanfunctions.py:1117: RuntimeWarning: Mean of empty slice\n",
      "  return np.nanmean(a, axis, out=out, keepdims=keepdims)\n",
      "/opt/conda/lib/python3.9/site-packages/numpy/lib/nanfunctions.py:1117: RuntimeWarning: Mean of empty slice\n",
      "  return np.nanmean(a, axis, out=out, keepdims=keepdims)\n",
      "/opt/conda/lib/python3.9/site-packages/numpy/lib/nanfunctions.py:1117: RuntimeWarning: Mean of empty slice\n",
      "  return np.nanmean(a, axis, out=out, keepdims=keepdims)\n",
      "/opt/conda/lib/python3.9/site-packages/numpy/lib/nanfunctions.py:1117: RuntimeWarning: Mean of empty slice\n",
      "  return np.nanmean(a, axis, out=out, keepdims=keepdims)\n",
      "/opt/conda/lib/python3.9/site-packages/numpy/lib/nanfunctions.py:1117: RuntimeWarning: Mean of empty slice\n",
      "  return np.nanmean(a, axis, out=out, keepdims=keepdims)\n",
      "/opt/conda/lib/python3.9/site-packages/numpy/lib/nanfunctions.py:1117: RuntimeWarning: Mean of empty slice\n",
      "  return np.nanmean(a, axis, out=out, keepdims=keepdims)\n",
      "/opt/conda/lib/python3.9/site-packages/numpy/lib/nanfunctions.py:1117: RuntimeWarning: Mean of empty slice\n",
      "  return np.nanmean(a, axis, out=out, keepdims=keepdims)\n",
      "/opt/conda/lib/python3.9/site-packages/numpy/lib/nanfunctions.py:1117: RuntimeWarning: Mean of empty slice\n",
      "  return np.nanmean(a, axis, out=out, keepdims=keepdims)\n",
      "/opt/conda/lib/python3.9/site-packages/numpy/lib/nanfunctions.py:1117: RuntimeWarning: Mean of empty slice\n",
      "  return np.nanmean(a, axis, out=out, keepdims=keepdims)\n",
      "/opt/conda/lib/python3.9/site-packages/numpy/lib/nanfunctions.py:1117: RuntimeWarning: Mean of empty slice\n",
      "  return np.nanmean(a, axis, out=out, keepdims=keepdims)\n",
      "/opt/conda/lib/python3.9/site-packages/numpy/lib/nanfunctions.py:1117: RuntimeWarning: Mean of empty slice\n",
      "  return np.nanmean(a, axis, out=out, keepdims=keepdims)\n",
      "/opt/conda/lib/python3.9/site-packages/numpy/lib/nanfunctions.py:1117: RuntimeWarning: Mean of empty slice\n",
      "  return np.nanmean(a, axis, out=out, keepdims=keepdims)\n",
      "/opt/conda/lib/python3.9/site-packages/numpy/lib/nanfunctions.py:1117: RuntimeWarning: Mean of empty slice\n",
      "  return np.nanmean(a, axis, out=out, keepdims=keepdims)\n",
      "/opt/conda/lib/python3.9/site-packages/numpy/lib/nanfunctions.py:1117: RuntimeWarning: Mean of empty slice\n",
      "  return np.nanmean(a, axis, out=out, keepdims=keepdims)\n",
      "/opt/conda/lib/python3.9/site-packages/numpy/lib/nanfunctions.py:1117: RuntimeWarning: Mean of empty slice\n",
      "  return np.nanmean(a, axis, out=out, keepdims=keepdims)\n",
      "/opt/conda/lib/python3.9/site-packages/numpy/lib/nanfunctions.py:1117: RuntimeWarning: Mean of empty slice\n",
      "  return np.nanmean(a, axis, out=out, keepdims=keepdims)\n",
      "/opt/conda/lib/python3.9/site-packages/numpy/lib/nanfunctions.py:1117: RuntimeWarning: Mean of empty slice\n",
      "  return np.nanmean(a, axis, out=out, keepdims=keepdims)\n",
      "/opt/conda/lib/python3.9/site-packages/numpy/lib/nanfunctions.py:1117: RuntimeWarning: Mean of empty slice\n",
      "  return np.nanmean(a, axis, out=out, keepdims=keepdims)\n",
      "/opt/conda/lib/python3.9/site-packages/numpy/lib/nanfunctions.py:1117: RuntimeWarning: Mean of empty slice\n",
      "  return np.nanmean(a, axis, out=out, keepdims=keepdims)\n",
      "/opt/conda/lib/python3.9/site-packages/numpy/lib/nanfunctions.py:1117: RuntimeWarning: Mean of empty slice\n",
      "  return np.nanmean(a, axis, out=out, keepdims=keepdims)\n",
      "/opt/conda/lib/python3.9/site-packages/numpy/lib/nanfunctions.py:1117: RuntimeWarning: Mean of empty slice\n",
      "  return np.nanmean(a, axis, out=out, keepdims=keepdims)\n",
      "/opt/conda/lib/python3.9/site-packages/numpy/lib/nanfunctions.py:1117: RuntimeWarning: Mean of empty slice\n",
      "  return np.nanmean(a, axis, out=out, keepdims=keepdims)\n",
      "/opt/conda/lib/python3.9/site-packages/numpy/lib/nanfunctions.py:1117: RuntimeWarning: Mean of empty slice\n",
      "  return np.nanmean(a, axis, out=out, keepdims=keepdims)\n",
      "/opt/conda/lib/python3.9/site-packages/numpy/lib/nanfunctions.py:1117: RuntimeWarning: Mean of empty slice\n",
      "  return np.nanmean(a, axis, out=out, keepdims=keepdims)\n",
      "/opt/conda/lib/python3.9/site-packages/numpy/lib/nanfunctions.py:1117: RuntimeWarning: Mean of empty slice\n",
      "  return np.nanmean(a, axis, out=out, keepdims=keepdims)\n",
      "/opt/conda/lib/python3.9/site-packages/numpy/lib/nanfunctions.py:1117: RuntimeWarning: Mean of empty slice\n",
      "  return np.nanmean(a, axis, out=out, keepdims=keepdims)\n",
      "/opt/conda/lib/python3.9/site-packages/numpy/lib/nanfunctions.py:1117: RuntimeWarning: Mean of empty slice\n",
      "  return np.nanmean(a, axis, out=out, keepdims=keepdims)\n",
      "/opt/conda/lib/python3.9/site-packages/numpy/lib/nanfunctions.py:1117: RuntimeWarning: Mean of empty slice\n",
      "  return np.nanmean(a, axis, out=out, keepdims=keepdims)\n",
      "/opt/conda/lib/python3.9/site-packages/numpy/lib/nanfunctions.py:1117: RuntimeWarning: Mean of empty slice\n",
      "  return np.nanmean(a, axis, out=out, keepdims=keepdims)\n",
      "/opt/conda/lib/python3.9/site-packages/numpy/lib/nanfunctions.py:1117: RuntimeWarning: Mean of empty slice\n",
      "  return np.nanmean(a, axis, out=out, keepdims=keepdims)\n",
      "/opt/conda/lib/python3.9/site-packages/numpy/lib/nanfunctions.py:1117: RuntimeWarning: Mean of empty slice\n",
      "  return np.nanmean(a, axis, out=out, keepdims=keepdims)\n",
      "/opt/conda/lib/python3.9/site-packages/numpy/lib/nanfunctions.py:1117: RuntimeWarning: Mean of empty slice\n",
      "  return np.nanmean(a, axis, out=out, keepdims=keepdims)\n",
      "/opt/conda/lib/python3.9/site-packages/numpy/lib/nanfunctions.py:1117: RuntimeWarning: Mean of empty slice\n",
      "  return np.nanmean(a, axis, out=out, keepdims=keepdims)\n",
      "/opt/conda/lib/python3.9/site-packages/numpy/lib/nanfunctions.py:1117: RuntimeWarning: Mean of empty slice\n",
      "  return np.nanmean(a, axis, out=out, keepdims=keepdims)\n",
      "/opt/conda/lib/python3.9/site-packages/numpy/lib/nanfunctions.py:1117: RuntimeWarning: Mean of empty slice\n",
      "  return np.nanmean(a, axis, out=out, keepdims=keepdims)\n",
      "/opt/conda/lib/python3.9/site-packages/numpy/lib/nanfunctions.py:1117: RuntimeWarning: Mean of empty slice\n",
      "  return np.nanmean(a, axis, out=out, keepdims=keepdims)\n",
      "/opt/conda/lib/python3.9/site-packages/numpy/lib/nanfunctions.py:1117: RuntimeWarning: Mean of empty slice\n",
      "  return np.nanmean(a, axis, out=out, keepdims=keepdims)\n",
      "/opt/conda/lib/python3.9/site-packages/numpy/lib/nanfunctions.py:1117: RuntimeWarning: Mean of empty slice\n",
      "  return np.nanmean(a, axis, out=out, keepdims=keepdims)\n",
      "/opt/conda/lib/python3.9/site-packages/numpy/lib/nanfunctions.py:1117: RuntimeWarning: Mean of empty slice\n",
      "  return np.nanmean(a, axis, out=out, keepdims=keepdims)\n",
      "/opt/conda/lib/python3.9/site-packages/numpy/lib/nanfunctions.py:1117: RuntimeWarning: Mean of empty slice\n",
      "  return np.nanmean(a, axis, out=out, keepdims=keepdims)\n",
      "/opt/conda/lib/python3.9/site-packages/numpy/lib/nanfunctions.py:1117: RuntimeWarning: Mean of empty slice\n",
      "  return np.nanmean(a, axis, out=out, keepdims=keepdims)\n",
      "/opt/conda/lib/python3.9/site-packages/numpy/lib/nanfunctions.py:1117: RuntimeWarning: Mean of empty slice\n",
      "  return np.nanmean(a, axis, out=out, keepdims=keepdims)\n",
      "/opt/conda/lib/python3.9/site-packages/numpy/lib/nanfunctions.py:1117: RuntimeWarning: Mean of empty slice\n",
      "  return np.nanmean(a, axis, out=out, keepdims=keepdims)\n",
      "/opt/conda/lib/python3.9/site-packages/numpy/lib/nanfunctions.py:1117: RuntimeWarning: Mean of empty slice\n",
      "  return np.nanmean(a, axis, out=out, keepdims=keepdims)\n",
      "/opt/conda/lib/python3.9/site-packages/numpy/lib/nanfunctions.py:1117: RuntimeWarning: Mean of empty slice\n",
      "  return np.nanmean(a, axis, out=out, keepdims=keepdims)\n",
      "/opt/conda/lib/python3.9/site-packages/numpy/lib/nanfunctions.py:1117: RuntimeWarning: Mean of empty slice\n",
      "  return np.nanmean(a, axis, out=out, keepdims=keepdims)\n",
      "/opt/conda/lib/python3.9/site-packages/numpy/lib/nanfunctions.py:1117: RuntimeWarning: Mean of empty slice\n",
      "  return np.nanmean(a, axis, out=out, keepdims=keepdims)\n",
      "/opt/conda/lib/python3.9/site-packages/numpy/lib/nanfunctions.py:1117: RuntimeWarning: Mean of empty slice\n",
      "  return np.nanmean(a, axis, out=out, keepdims=keepdims)\n",
      "/opt/conda/lib/python3.9/site-packages/numpy/lib/nanfunctions.py:1117: RuntimeWarning: Mean of empty slice\n",
      "  return np.nanmean(a, axis, out=out, keepdims=keepdims)\n",
      "/opt/conda/lib/python3.9/site-packages/numpy/lib/nanfunctions.py:1117: RuntimeWarning: Mean of empty slice\n",
      "  return np.nanmean(a, axis, out=out, keepdims=keepdims)\n",
      "/opt/conda/lib/python3.9/site-packages/numpy/lib/nanfunctions.py:1117: RuntimeWarning: Mean of empty slice\n",
      "  return np.nanmean(a, axis, out=out, keepdims=keepdims)\n",
      "/opt/conda/lib/python3.9/site-packages/numpy/lib/nanfunctions.py:1117: RuntimeWarning: Mean of empty slice\n",
      "  return np.nanmean(a, axis, out=out, keepdims=keepdims)\n",
      "/opt/conda/lib/python3.9/site-packages/numpy/lib/nanfunctions.py:1117: RuntimeWarning: Mean of empty slice\n",
      "  return np.nanmean(a, axis, out=out, keepdims=keepdims)\n",
      "/opt/conda/lib/python3.9/site-packages/numpy/lib/nanfunctions.py:1117: RuntimeWarning: Mean of empty slice\n",
      "  return np.nanmean(a, axis, out=out, keepdims=keepdims)\n",
      "/opt/conda/lib/python3.9/site-packages/numpy/lib/nanfunctions.py:1117: RuntimeWarning: Mean of empty slice\n",
      "  return np.nanmean(a, axis, out=out, keepdims=keepdims)\n",
      "/opt/conda/lib/python3.9/site-packages/numpy/lib/nanfunctions.py:1117: RuntimeWarning: Mean of empty slice\n",
      "  return np.nanmean(a, axis, out=out, keepdims=keepdims)\n",
      "/opt/conda/lib/python3.9/site-packages/numpy/lib/nanfunctions.py:1117: RuntimeWarning: Mean of empty slice\n",
      "  return np.nanmean(a, axis, out=out, keepdims=keepdims)\n",
      "/opt/conda/lib/python3.9/site-packages/numpy/lib/nanfunctions.py:1117: RuntimeWarning: Mean of empty slice\n",
      "  return np.nanmean(a, axis, out=out, keepdims=keepdims)\n",
      "/opt/conda/lib/python3.9/site-packages/numpy/lib/nanfunctions.py:1117: RuntimeWarning: Mean of empty slice\n",
      "  return np.nanmean(a, axis, out=out, keepdims=keepdims)\n",
      "/opt/conda/lib/python3.9/site-packages/numpy/lib/nanfunctions.py:1117: RuntimeWarning: Mean of empty slice\n",
      "  return np.nanmean(a, axis, out=out, keepdims=keepdims)\n",
      "/opt/conda/lib/python3.9/site-packages/numpy/lib/nanfunctions.py:1117: RuntimeWarning: Mean of empty slice\n",
      "  return np.nanmean(a, axis, out=out, keepdims=keepdims)\n",
      "/opt/conda/lib/python3.9/site-packages/numpy/lib/nanfunctions.py:1117: RuntimeWarning: Mean of empty slice\n",
      "  return np.nanmean(a, axis, out=out, keepdims=keepdims)\n",
      "/opt/conda/lib/python3.9/site-packages/numpy/lib/nanfunctions.py:1117: RuntimeWarning: Mean of empty slice\n",
      "  return np.nanmean(a, axis, out=out, keepdims=keepdims)\n",
      "/opt/conda/lib/python3.9/site-packages/numpy/lib/nanfunctions.py:1117: RuntimeWarning: Mean of empty slice\n",
      "  return np.nanmean(a, axis, out=out, keepdims=keepdims)\n",
      "/opt/conda/lib/python3.9/site-packages/numpy/lib/nanfunctions.py:1117: RuntimeWarning: Mean of empty slice\n",
      "  return np.nanmean(a, axis, out=out, keepdims=keepdims)\n",
      "/opt/conda/lib/python3.9/site-packages/numpy/lib/nanfunctions.py:1117: RuntimeWarning: Mean of empty slice\n",
      "  return np.nanmean(a, axis, out=out, keepdims=keepdims)\n",
      "/opt/conda/lib/python3.9/site-packages/numpy/lib/nanfunctions.py:1117: RuntimeWarning: Mean of empty slice\n",
      "  return np.nanmean(a, axis, out=out, keepdims=keepdims)\n",
      "/opt/conda/lib/python3.9/site-packages/numpy/lib/nanfunctions.py:1117: RuntimeWarning: Mean of empty slice\n",
      "  return np.nanmean(a, axis, out=out, keepdims=keepdims)\n",
      "/opt/conda/lib/python3.9/site-packages/numpy/lib/nanfunctions.py:1117: RuntimeWarning: Mean of empty slice\n",
      "  return np.nanmean(a, axis, out=out, keepdims=keepdims)\n",
      "/opt/conda/lib/python3.9/site-packages/numpy/lib/nanfunctions.py:1117: RuntimeWarning: Mean of empty slice\n",
      "  return np.nanmean(a, axis, out=out, keepdims=keepdims)\n",
      "/opt/conda/lib/python3.9/site-packages/numpy/lib/nanfunctions.py:1117: RuntimeWarning: Mean of empty slice\n",
      "  return np.nanmean(a, axis, out=out, keepdims=keepdims)\n",
      "/opt/conda/lib/python3.9/site-packages/numpy/lib/nanfunctions.py:1117: RuntimeWarning: Mean of empty slice\n",
      "  return np.nanmean(a, axis, out=out, keepdims=keepdims)\n",
      "/opt/conda/lib/python3.9/site-packages/numpy/lib/nanfunctions.py:1117: RuntimeWarning: Mean of empty slice\n",
      "  return np.nanmean(a, axis, out=out, keepdims=keepdims)\n",
      "/opt/conda/lib/python3.9/site-packages/numpy/lib/nanfunctions.py:1117: RuntimeWarning: Mean of empty slice\n",
      "  return np.nanmean(a, axis, out=out, keepdims=keepdims)\n",
      "/opt/conda/lib/python3.9/site-packages/numpy/lib/nanfunctions.py:1117: RuntimeWarning: Mean of empty slice\n",
      "  return np.nanmean(a, axis, out=out, keepdims=keepdims)\n",
      "/opt/conda/lib/python3.9/site-packages/numpy/lib/nanfunctions.py:1117: RuntimeWarning: Mean of empty slice\n",
      "  return np.nanmean(a, axis, out=out, keepdims=keepdims)\n",
      "/opt/conda/lib/python3.9/site-packages/numpy/lib/nanfunctions.py:1117: RuntimeWarning: Mean of empty slice\n",
      "  return np.nanmean(a, axis, out=out, keepdims=keepdims)\n",
      "/opt/conda/lib/python3.9/site-packages/numpy/lib/nanfunctions.py:1117: RuntimeWarning: Mean of empty slice\n",
      "  return np.nanmean(a, axis, out=out, keepdims=keepdims)\n",
      "/opt/conda/lib/python3.9/site-packages/numpy/lib/nanfunctions.py:1117: RuntimeWarning: Mean of empty slice\n",
      "  return np.nanmean(a, axis, out=out, keepdims=keepdims)\n",
      "/opt/conda/lib/python3.9/site-packages/numpy/lib/nanfunctions.py:1117: RuntimeWarning: Mean of empty slice\n",
      "  return np.nanmean(a, axis, out=out, keepdims=keepdims)\n",
      "/opt/conda/lib/python3.9/site-packages/numpy/lib/nanfunctions.py:1117: RuntimeWarning: Mean of empty slice\n",
      "  return np.nanmean(a, axis, out=out, keepdims=keepdims)\n",
      "/opt/conda/lib/python3.9/site-packages/numpy/lib/nanfunctions.py:1117: RuntimeWarning: Mean of empty slice\n",
      "  return np.nanmean(a, axis, out=out, keepdims=keepdims)\n",
      "/opt/conda/lib/python3.9/site-packages/numpy/lib/nanfunctions.py:1117: RuntimeWarning: Mean of empty slice\n",
      "  return np.nanmean(a, axis, out=out, keepdims=keepdims)\n",
      "/opt/conda/lib/python3.9/site-packages/numpy/lib/nanfunctions.py:1117: RuntimeWarning: Mean of empty slice\n",
      "  return np.nanmean(a, axis, out=out, keepdims=keepdims)\n",
      "/opt/conda/lib/python3.9/site-packages/numpy/lib/nanfunctions.py:1117: RuntimeWarning: Mean of empty slice\n",
      "  return np.nanmean(a, axis, out=out, keepdims=keepdims)\n",
      "/opt/conda/lib/python3.9/site-packages/numpy/lib/nanfunctions.py:1117: RuntimeWarning: Mean of empty slice\n",
      "  return np.nanmean(a, axis, out=out, keepdims=keepdims)\n",
      "/opt/conda/lib/python3.9/site-packages/numpy/lib/nanfunctions.py:1117: RuntimeWarning: Mean of empty slice\n",
      "  return np.nanmean(a, axis, out=out, keepdims=keepdims)\n",
      "/opt/conda/lib/python3.9/site-packages/numpy/lib/nanfunctions.py:1117: RuntimeWarning: Mean of empty slice\n",
      "  return np.nanmean(a, axis, out=out, keepdims=keepdims)\n",
      "/opt/conda/lib/python3.9/site-packages/numpy/lib/nanfunctions.py:1117: RuntimeWarning: Mean of empty slice\n",
      "  return np.nanmean(a, axis, out=out, keepdims=keepdims)\n",
      "/opt/conda/lib/python3.9/site-packages/numpy/lib/nanfunctions.py:1117: RuntimeWarning: Mean of empty slice\n",
      "  return np.nanmean(a, axis, out=out, keepdims=keepdims)\n",
      "/opt/conda/lib/python3.9/site-packages/numpy/lib/nanfunctions.py:1117: RuntimeWarning: Mean of empty slice\n",
      "  return np.nanmean(a, axis, out=out, keepdims=keepdims)\n",
      "/opt/conda/lib/python3.9/site-packages/numpy/lib/nanfunctions.py:1117: RuntimeWarning: Mean of empty slice\n",
      "  return np.nanmean(a, axis, out=out, keepdims=keepdims)\n",
      "/opt/conda/lib/python3.9/site-packages/numpy/lib/nanfunctions.py:1117: RuntimeWarning: Mean of empty slice\n",
      "  return np.nanmean(a, axis, out=out, keepdims=keepdims)\n",
      "/opt/conda/lib/python3.9/site-packages/numpy/lib/nanfunctions.py:1117: RuntimeWarning: Mean of empty slice\n",
      "  return np.nanmean(a, axis, out=out, keepdims=keepdims)\n",
      "/opt/conda/lib/python3.9/site-packages/numpy/lib/nanfunctions.py:1117: RuntimeWarning: Mean of empty slice\n",
      "  return np.nanmean(a, axis, out=out, keepdims=keepdims)\n",
      "/opt/conda/lib/python3.9/site-packages/numpy/lib/nanfunctions.py:1117: RuntimeWarning: Mean of empty slice\n",
      "  return np.nanmean(a, axis, out=out, keepdims=keepdims)\n",
      "/opt/conda/lib/python3.9/site-packages/numpy/lib/nanfunctions.py:1117: RuntimeWarning: Mean of empty slice\n",
      "  return np.nanmean(a, axis, out=out, keepdims=keepdims)\n",
      "/opt/conda/lib/python3.9/site-packages/numpy/lib/nanfunctions.py:1117: RuntimeWarning: Mean of empty slice\n",
      "  return np.nanmean(a, axis, out=out, keepdims=keepdims)\n",
      "/opt/conda/lib/python3.9/site-packages/numpy/lib/nanfunctions.py:1117: RuntimeWarning: Mean of empty slice\n",
      "  return np.nanmean(a, axis, out=out, keepdims=keepdims)\n",
      "/opt/conda/lib/python3.9/site-packages/numpy/lib/nanfunctions.py:1117: RuntimeWarning: Mean of empty slice\n",
      "  return np.nanmean(a, axis, out=out, keepdims=keepdims)\n",
      "/opt/conda/lib/python3.9/site-packages/numpy/lib/nanfunctions.py:1117: RuntimeWarning: Mean of empty slice\n",
      "  return np.nanmean(a, axis, out=out, keepdims=keepdims)\n",
      "/opt/conda/lib/python3.9/site-packages/numpy/lib/nanfunctions.py:1117: RuntimeWarning: Mean of empty slice\n",
      "  return np.nanmean(a, axis, out=out, keepdims=keepdims)\n",
      "/opt/conda/lib/python3.9/site-packages/numpy/lib/nanfunctions.py:1117: RuntimeWarning: Mean of empty slice\n",
      "  return np.nanmean(a, axis, out=out, keepdims=keepdims)\n",
      "/opt/conda/lib/python3.9/site-packages/numpy/lib/nanfunctions.py:1117: RuntimeWarning: Mean of empty slice\n",
      "  return np.nanmean(a, axis, out=out, keepdims=keepdims)\n",
      "/opt/conda/lib/python3.9/site-packages/numpy/lib/nanfunctions.py:1117: RuntimeWarning: Mean of empty slice\n",
      "  return np.nanmean(a, axis, out=out, keepdims=keepdims)\n",
      "/opt/conda/lib/python3.9/site-packages/numpy/lib/nanfunctions.py:1117: RuntimeWarning: Mean of empty slice\n",
      "  return np.nanmean(a, axis, out=out, keepdims=keepdims)\n",
      "/opt/conda/lib/python3.9/site-packages/numpy/lib/nanfunctions.py:1117: RuntimeWarning: Mean of empty slice\n",
      "  return np.nanmean(a, axis, out=out, keepdims=keepdims)\n",
      "/opt/conda/lib/python3.9/site-packages/numpy/lib/nanfunctions.py:1117: RuntimeWarning: Mean of empty slice\n",
      "  return np.nanmean(a, axis, out=out, keepdims=keepdims)\n",
      "/opt/conda/lib/python3.9/site-packages/numpy/lib/nanfunctions.py:1117: RuntimeWarning: Mean of empty slice\n",
      "  return np.nanmean(a, axis, out=out, keepdims=keepdims)\n",
      "/opt/conda/lib/python3.9/site-packages/numpy/lib/nanfunctions.py:1117: RuntimeWarning: Mean of empty slice\n",
      "  return np.nanmean(a, axis, out=out, keepdims=keepdims)\n",
      "/opt/conda/lib/python3.9/site-packages/numpy/lib/nanfunctions.py:1117: RuntimeWarning: Mean of empty slice\n",
      "  return np.nanmean(a, axis, out=out, keepdims=keepdims)\n",
      "/opt/conda/lib/python3.9/site-packages/numpy/lib/nanfunctions.py:1117: RuntimeWarning: Mean of empty slice\n",
      "  return np.nanmean(a, axis, out=out, keepdims=keepdims)\n",
      "/opt/conda/lib/python3.9/site-packages/numpy/lib/nanfunctions.py:1117: RuntimeWarning: Mean of empty slice\n",
      "  return np.nanmean(a, axis, out=out, keepdims=keepdims)\n",
      "/opt/conda/lib/python3.9/site-packages/numpy/lib/nanfunctions.py:1117: RuntimeWarning: Mean of empty slice\n",
      "  return np.nanmean(a, axis, out=out, keepdims=keepdims)\n",
      "/opt/conda/lib/python3.9/site-packages/numpy/lib/nanfunctions.py:1117: RuntimeWarning: Mean of empty slice\n",
      "  return np.nanmean(a, axis, out=out, keepdims=keepdims)\n",
      "/opt/conda/lib/python3.9/site-packages/numpy/lib/nanfunctions.py:1117: RuntimeWarning: Mean of empty slice\n",
      "  return np.nanmean(a, axis, out=out, keepdims=keepdims)\n",
      "/opt/conda/lib/python3.9/site-packages/numpy/lib/nanfunctions.py:1117: RuntimeWarning: Mean of empty slice\n",
      "  return np.nanmean(a, axis, out=out, keepdims=keepdims)\n",
      "/opt/conda/lib/python3.9/site-packages/numpy/lib/nanfunctions.py:1117: RuntimeWarning: Mean of empty slice\n",
      "  return np.nanmean(a, axis, out=out, keepdims=keepdims)\n",
      "/opt/conda/lib/python3.9/site-packages/numpy/lib/nanfunctions.py:1117: RuntimeWarning: Mean of empty slice\n",
      "  return np.nanmean(a, axis, out=out, keepdims=keepdims)\n",
      "/opt/conda/lib/python3.9/site-packages/numpy/lib/nanfunctions.py:1117: RuntimeWarning: Mean of empty slice\n",
      "  return np.nanmean(a, axis, out=out, keepdims=keepdims)\n",
      "/opt/conda/lib/python3.9/site-packages/numpy/lib/nanfunctions.py:1117: RuntimeWarning: Mean of empty slice\n",
      "  return np.nanmean(a, axis, out=out, keepdims=keepdims)\n",
      "/opt/conda/lib/python3.9/site-packages/numpy/lib/nanfunctions.py:1117: RuntimeWarning: Mean of empty slice\n",
      "  return np.nanmean(a, axis, out=out, keepdims=keepdims)\n",
      "/opt/conda/lib/python3.9/site-packages/numpy/lib/nanfunctions.py:1117: RuntimeWarning: Mean of empty slice\n",
      "  return np.nanmean(a, axis, out=out, keepdims=keepdims)\n",
      "/opt/conda/lib/python3.9/site-packages/numpy/lib/nanfunctions.py:1117: RuntimeWarning: Mean of empty slice\n",
      "  return np.nanmean(a, axis, out=out, keepdims=keepdims)\n",
      "/opt/conda/lib/python3.9/site-packages/numpy/lib/nanfunctions.py:1117: RuntimeWarning: Mean of empty slice\n",
      "  return np.nanmean(a, axis, out=out, keepdims=keepdims)\n",
      "/opt/conda/lib/python3.9/site-packages/numpy/lib/nanfunctions.py:1117: RuntimeWarning: Mean of empty slice\n",
      "  return np.nanmean(a, axis, out=out, keepdims=keepdims)\n",
      "/opt/conda/lib/python3.9/site-packages/numpy/lib/nanfunctions.py:1117: RuntimeWarning: Mean of empty slice\n",
      "  return np.nanmean(a, axis, out=out, keepdims=keepdims)\n",
      "/opt/conda/lib/python3.9/site-packages/numpy/lib/nanfunctions.py:1117: RuntimeWarning: Mean of empty slice\n",
      "  return np.nanmean(a, axis, out=out, keepdims=keepdims)\n",
      "/opt/conda/lib/python3.9/site-packages/numpy/lib/nanfunctions.py:1117: RuntimeWarning: Mean of empty slice\n",
      "  return np.nanmean(a, axis, out=out, keepdims=keepdims)\n",
      "/opt/conda/lib/python3.9/site-packages/numpy/lib/nanfunctions.py:1117: RuntimeWarning: Mean of empty slice\n",
      "  return np.nanmean(a, axis, out=out, keepdims=keepdims)\n",
      "/opt/conda/lib/python3.9/site-packages/numpy/lib/nanfunctions.py:1117: RuntimeWarning: Mean of empty slice\n",
      "  return np.nanmean(a, axis, out=out, keepdims=keepdims)\n",
      "/opt/conda/lib/python3.9/site-packages/numpy/lib/nanfunctions.py:1117: RuntimeWarning: Mean of empty slice\n",
      "  return np.nanmean(a, axis, out=out, keepdims=keepdims)\n",
      "/opt/conda/lib/python3.9/site-packages/numpy/lib/nanfunctions.py:1117: RuntimeWarning: Mean of empty slice\n",
      "  return np.nanmean(a, axis, out=out, keepdims=keepdims)\n",
      "/opt/conda/lib/python3.9/site-packages/numpy/lib/nanfunctions.py:1117: RuntimeWarning: Mean of empty slice\n",
      "  return np.nanmean(a, axis, out=out, keepdims=keepdims)\n",
      "/opt/conda/lib/python3.9/site-packages/numpy/lib/nanfunctions.py:1117: RuntimeWarning: Mean of empty slice\n",
      "  return np.nanmean(a, axis, out=out, keepdims=keepdims)\n",
      "/opt/conda/lib/python3.9/site-packages/numpy/lib/nanfunctions.py:1117: RuntimeWarning: Mean of empty slice\n",
      "  return np.nanmean(a, axis, out=out, keepdims=keepdims)\n",
      "/opt/conda/lib/python3.9/site-packages/numpy/lib/nanfunctions.py:1117: RuntimeWarning: Mean of empty slice\n",
      "  return np.nanmean(a, axis, out=out, keepdims=keepdims)\n",
      "/opt/conda/lib/python3.9/site-packages/numpy/lib/nanfunctions.py:1117: RuntimeWarning: Mean of empty slice\n",
      "  return np.nanmean(a, axis, out=out, keepdims=keepdims)\n",
      "/opt/conda/lib/python3.9/site-packages/numpy/lib/nanfunctions.py:1117: RuntimeWarning: Mean of empty slice\n",
      "  return np.nanmean(a, axis, out=out, keepdims=keepdims)\n",
      "/opt/conda/lib/python3.9/site-packages/numpy/lib/nanfunctions.py:1117: RuntimeWarning: Mean of empty slice\n",
      "  return np.nanmean(a, axis, out=out, keepdims=keepdims)\n",
      "/opt/conda/lib/python3.9/site-packages/numpy/lib/nanfunctions.py:1117: RuntimeWarning: Mean of empty slice\n",
      "  return np.nanmean(a, axis, out=out, keepdims=keepdims)\n",
      "/opt/conda/lib/python3.9/site-packages/numpy/lib/nanfunctions.py:1117: RuntimeWarning: Mean of empty slice\n",
      "  return np.nanmean(a, axis, out=out, keepdims=keepdims)\n",
      "/opt/conda/lib/python3.9/site-packages/numpy/lib/nanfunctions.py:1117: RuntimeWarning: Mean of empty slice\n",
      "  return np.nanmean(a, axis, out=out, keepdims=keepdims)\n",
      "/opt/conda/lib/python3.9/site-packages/numpy/lib/nanfunctions.py:1117: RuntimeWarning: Mean of empty slice\n",
      "  return np.nanmean(a, axis, out=out, keepdims=keepdims)\n",
      "/opt/conda/lib/python3.9/site-packages/numpy/lib/nanfunctions.py:1117: RuntimeWarning: Mean of empty slice\n",
      "  return np.nanmean(a, axis, out=out, keepdims=keepdims)\n",
      "/opt/conda/lib/python3.9/site-packages/numpy/lib/nanfunctions.py:1117: RuntimeWarning: Mean of empty slice\n",
      "  return np.nanmean(a, axis, out=out, keepdims=keepdims)\n",
      "/opt/conda/lib/python3.9/site-packages/numpy/lib/nanfunctions.py:1117: RuntimeWarning: Mean of empty slice\n",
      "  return np.nanmean(a, axis, out=out, keepdims=keepdims)\n",
      "/opt/conda/lib/python3.9/site-packages/numpy/lib/nanfunctions.py:1117: RuntimeWarning: Mean of empty slice\n",
      "  return np.nanmean(a, axis, out=out, keepdims=keepdims)\n",
      "/opt/conda/lib/python3.9/site-packages/numpy/lib/nanfunctions.py:1117: RuntimeWarning: Mean of empty slice\n",
      "  return np.nanmean(a, axis, out=out, keepdims=keepdims)\n",
      "/opt/conda/lib/python3.9/site-packages/numpy/lib/nanfunctions.py:1117: RuntimeWarning: Mean of empty slice\n",
      "  return np.nanmean(a, axis, out=out, keepdims=keepdims)\n",
      "/opt/conda/lib/python3.9/site-packages/numpy/lib/nanfunctions.py:1117: RuntimeWarning: Mean of empty slice\n",
      "  return np.nanmean(a, axis, out=out, keepdims=keepdims)\n",
      "/opt/conda/lib/python3.9/site-packages/numpy/lib/nanfunctions.py:1117: RuntimeWarning: Mean of empty slice\n",
      "  return np.nanmean(a, axis, out=out, keepdims=keepdims)\n",
      "/opt/conda/lib/python3.9/site-packages/numpy/lib/nanfunctions.py:1117: RuntimeWarning: Mean of empty slice\n",
      "  return np.nanmean(a, axis, out=out, keepdims=keepdims)\n",
      "/opt/conda/lib/python3.9/site-packages/numpy/lib/nanfunctions.py:1117: RuntimeWarning: Mean of empty slice\n",
      "  return np.nanmean(a, axis, out=out, keepdims=keepdims)\n",
      "/opt/conda/lib/python3.9/site-packages/numpy/lib/nanfunctions.py:1117: RuntimeWarning: Mean of empty slice\n",
      "  return np.nanmean(a, axis, out=out, keepdims=keepdims)\n",
      "/opt/conda/lib/python3.9/site-packages/numpy/lib/nanfunctions.py:1117: RuntimeWarning: Mean of empty slice\n",
      "  return np.nanmean(a, axis, out=out, keepdims=keepdims)\n",
      "/opt/conda/lib/python3.9/site-packages/numpy/lib/nanfunctions.py:1117: RuntimeWarning: Mean of empty slice\n",
      "  return np.nanmean(a, axis, out=out, keepdims=keepdims)\n",
      "/opt/conda/lib/python3.9/site-packages/numpy/lib/nanfunctions.py:1117: RuntimeWarning: Mean of empty slice\n",
      "  return np.nanmean(a, axis, out=out, keepdims=keepdims)\n",
      "/opt/conda/lib/python3.9/site-packages/numpy/lib/nanfunctions.py:1117: RuntimeWarning: Mean of empty slice\n",
      "  return np.nanmean(a, axis, out=out, keepdims=keepdims)\n",
      "/opt/conda/lib/python3.9/site-packages/numpy/lib/nanfunctions.py:1117: RuntimeWarning: Mean of empty slice\n",
      "  return np.nanmean(a, axis, out=out, keepdims=keepdims)\n",
      "/opt/conda/lib/python3.9/site-packages/numpy/lib/nanfunctions.py:1117: RuntimeWarning: Mean of empty slice\n",
      "  return np.nanmean(a, axis, out=out, keepdims=keepdims)\n",
      "/opt/conda/lib/python3.9/site-packages/numpy/lib/nanfunctions.py:1117: RuntimeWarning: Mean of empty slice\n",
      "  return np.nanmean(a, axis, out=out, keepdims=keepdims)\n",
      "/opt/conda/lib/python3.9/site-packages/numpy/lib/nanfunctions.py:1117: RuntimeWarning: Mean of empty slice\n",
      "  return np.nanmean(a, axis, out=out, keepdims=keepdims)\n",
      "/opt/conda/lib/python3.9/site-packages/numpy/lib/nanfunctions.py:1117: RuntimeWarning: Mean of empty slice\n",
      "  return np.nanmean(a, axis, out=out, keepdims=keepdims)\n",
      "/opt/conda/lib/python3.9/site-packages/numpy/lib/nanfunctions.py:1117: RuntimeWarning: Mean of empty slice\n",
      "  return np.nanmean(a, axis, out=out, keepdims=keepdims)\n",
      "/opt/conda/lib/python3.9/site-packages/numpy/lib/nanfunctions.py:1117: RuntimeWarning: Mean of empty slice\n",
      "  return np.nanmean(a, axis, out=out, keepdims=keepdims)\n",
      "/opt/conda/lib/python3.9/site-packages/numpy/lib/nanfunctions.py:1117: RuntimeWarning: Mean of empty slice\n",
      "  return np.nanmean(a, axis, out=out, keepdims=keepdims)\n",
      "/opt/conda/lib/python3.9/site-packages/numpy/lib/nanfunctions.py:1117: RuntimeWarning: Mean of empty slice\n",
      "  return np.nanmean(a, axis, out=out, keepdims=keepdims)\n",
      "/opt/conda/lib/python3.9/site-packages/numpy/lib/nanfunctions.py:1117: RuntimeWarning: Mean of empty slice\n",
      "  return np.nanmean(a, axis, out=out, keepdims=keepdims)\n",
      "/opt/conda/lib/python3.9/site-packages/numpy/lib/nanfunctions.py:1117: RuntimeWarning: Mean of empty slice\n",
      "  return np.nanmean(a, axis, out=out, keepdims=keepdims)\n",
      "/opt/conda/lib/python3.9/site-packages/numpy/lib/nanfunctions.py:1117: RuntimeWarning: Mean of empty slice\n",
      "  return np.nanmean(a, axis, out=out, keepdims=keepdims)\n",
      "/opt/conda/lib/python3.9/site-packages/numpy/lib/nanfunctions.py:1117: RuntimeWarning: Mean of empty slice\n",
      "  return np.nanmean(a, axis, out=out, keepdims=keepdims)\n",
      "/opt/conda/lib/python3.9/site-packages/numpy/lib/nanfunctions.py:1117: RuntimeWarning: Mean of empty slice\n",
      "  return np.nanmean(a, axis, out=out, keepdims=keepdims)\n",
      "/opt/conda/lib/python3.9/site-packages/numpy/lib/nanfunctions.py:1117: RuntimeWarning: Mean of empty slice\n",
      "  return np.nanmean(a, axis, out=out, keepdims=keepdims)\n",
      "/opt/conda/lib/python3.9/site-packages/numpy/lib/nanfunctions.py:1117: RuntimeWarning: Mean of empty slice\n",
      "  return np.nanmean(a, axis, out=out, keepdims=keepdims)\n",
      "/opt/conda/lib/python3.9/site-packages/numpy/lib/nanfunctions.py:1117: RuntimeWarning: Mean of empty slice\n",
      "  return np.nanmean(a, axis, out=out, keepdims=keepdims)\n",
      "/opt/conda/lib/python3.9/site-packages/numpy/lib/nanfunctions.py:1117: RuntimeWarning: Mean of empty slice\n",
      "  return np.nanmean(a, axis, out=out, keepdims=keepdims)\n",
      "/opt/conda/lib/python3.9/site-packages/numpy/lib/nanfunctions.py:1117: RuntimeWarning: Mean of empty slice\n",
      "  return np.nanmean(a, axis, out=out, keepdims=keepdims)\n",
      "/opt/conda/lib/python3.9/site-packages/numpy/lib/nanfunctions.py:1117: RuntimeWarning: Mean of empty slice\n",
      "  return np.nanmean(a, axis, out=out, keepdims=keepdims)\n",
      "/opt/conda/lib/python3.9/site-packages/numpy/lib/nanfunctions.py:1117: RuntimeWarning: Mean of empty slice\n",
      "  return np.nanmean(a, axis, out=out, keepdims=keepdims)\n",
      "/opt/conda/lib/python3.9/site-packages/numpy/lib/nanfunctions.py:1117: RuntimeWarning: Mean of empty slice\n",
      "  return np.nanmean(a, axis, out=out, keepdims=keepdims)\n",
      "/opt/conda/lib/python3.9/site-packages/numpy/lib/nanfunctions.py:1117: RuntimeWarning: Mean of empty slice\n",
      "  return np.nanmean(a, axis, out=out, keepdims=keepdims)\n",
      "/opt/conda/lib/python3.9/site-packages/numpy/lib/nanfunctions.py:1117: RuntimeWarning: Mean of empty slice\n",
      "  return np.nanmean(a, axis, out=out, keepdims=keepdims)\n",
      "/opt/conda/lib/python3.9/site-packages/numpy/lib/nanfunctions.py:1117: RuntimeWarning: Mean of empty slice\n",
      "  return np.nanmean(a, axis, out=out, keepdims=keepdims)\n",
      "/opt/conda/lib/python3.9/site-packages/numpy/lib/nanfunctions.py:1117: RuntimeWarning: Mean of empty slice\n",
      "  return np.nanmean(a, axis, out=out, keepdims=keepdims)\n",
      "/opt/conda/lib/python3.9/site-packages/numpy/lib/nanfunctions.py:1117: RuntimeWarning: Mean of empty slice\n",
      "  return np.nanmean(a, axis, out=out, keepdims=keepdims)\n",
      "/opt/conda/lib/python3.9/site-packages/numpy/lib/nanfunctions.py:1117: RuntimeWarning: Mean of empty slice\n",
      "  return np.nanmean(a, axis, out=out, keepdims=keepdims)\n",
      "/opt/conda/lib/python3.9/site-packages/numpy/lib/nanfunctions.py:1117: RuntimeWarning: Mean of empty slice\n",
      "  return np.nanmean(a, axis, out=out, keepdims=keepdims)\n",
      "/opt/conda/lib/python3.9/site-packages/numpy/lib/nanfunctions.py:1117: RuntimeWarning: Mean of empty slice\n",
      "  return np.nanmean(a, axis, out=out, keepdims=keepdims)\n",
      "/opt/conda/lib/python3.9/site-packages/numpy/lib/nanfunctions.py:1117: RuntimeWarning: Mean of empty slice\n",
      "  return np.nanmean(a, axis, out=out, keepdims=keepdims)\n",
      "/opt/conda/lib/python3.9/site-packages/numpy/lib/nanfunctions.py:1117: RuntimeWarning: Mean of empty slice\n",
      "  return np.nanmean(a, axis, out=out, keepdims=keepdims)\n",
      "/opt/conda/lib/python3.9/site-packages/numpy/lib/nanfunctions.py:1117: RuntimeWarning: Mean of empty slice\n",
      "  return np.nanmean(a, axis, out=out, keepdims=keepdims)\n",
      "/opt/conda/lib/python3.9/site-packages/numpy/lib/nanfunctions.py:1117: RuntimeWarning: Mean of empty slice\n",
      "  return np.nanmean(a, axis, out=out, keepdims=keepdims)\n",
      "/opt/conda/lib/python3.9/site-packages/numpy/lib/nanfunctions.py:1117: RuntimeWarning: Mean of empty slice\n",
      "  return np.nanmean(a, axis, out=out, keepdims=keepdims)\n",
      "/opt/conda/lib/python3.9/site-packages/numpy/lib/nanfunctions.py:1117: RuntimeWarning: Mean of empty slice\n",
      "  return np.nanmean(a, axis, out=out, keepdims=keepdims)\n",
      "/opt/conda/lib/python3.9/site-packages/numpy/lib/nanfunctions.py:1117: RuntimeWarning: Mean of empty slice\n",
      "  return np.nanmean(a, axis, out=out, keepdims=keepdims)\n",
      "/opt/conda/lib/python3.9/site-packages/numpy/lib/nanfunctions.py:1117: RuntimeWarning: Mean of empty slice\n",
      "  return np.nanmean(a, axis, out=out, keepdims=keepdims)\n",
      "/opt/conda/lib/python3.9/site-packages/numpy/lib/nanfunctions.py:1117: RuntimeWarning: Mean of empty slice\n",
      "  return np.nanmean(a, axis, out=out, keepdims=keepdims)\n",
      "/opt/conda/lib/python3.9/site-packages/numpy/lib/nanfunctions.py:1117: RuntimeWarning: Mean of empty slice\n",
      "  return np.nanmean(a, axis, out=out, keepdims=keepdims)\n",
      "/opt/conda/lib/python3.9/site-packages/numpy/lib/nanfunctions.py:1117: RuntimeWarning: Mean of empty slice\n",
      "  return np.nanmean(a, axis, out=out, keepdims=keepdims)\n",
      "/opt/conda/lib/python3.9/site-packages/numpy/lib/nanfunctions.py:1117: RuntimeWarning: Mean of empty slice\n",
      "  return np.nanmean(a, axis, out=out, keepdims=keepdims)\n",
      "/opt/conda/lib/python3.9/site-packages/numpy/lib/nanfunctions.py:1117: RuntimeWarning: Mean of empty slice\n",
      "  return np.nanmean(a, axis, out=out, keepdims=keepdims)\n",
      "/opt/conda/lib/python3.9/site-packages/numpy/lib/nanfunctions.py:1117: RuntimeWarning: Mean of empty slice\n",
      "  return np.nanmean(a, axis, out=out, keepdims=keepdims)\n",
      "/opt/conda/lib/python3.9/site-packages/numpy/lib/nanfunctions.py:1117: RuntimeWarning: Mean of empty slice\n",
      "  return np.nanmean(a, axis, out=out, keepdims=keepdims)\n",
      "/opt/conda/lib/python3.9/site-packages/numpy/lib/nanfunctions.py:1117: RuntimeWarning: Mean of empty slice\n",
      "  return np.nanmean(a, axis, out=out, keepdims=keepdims)\n",
      "/opt/conda/lib/python3.9/site-packages/numpy/lib/nanfunctions.py:1117: RuntimeWarning: Mean of empty slice\n",
      "  return np.nanmean(a, axis, out=out, keepdims=keepdims)\n",
      "/opt/conda/lib/python3.9/site-packages/numpy/lib/nanfunctions.py:1117: RuntimeWarning: Mean of empty slice\n",
      "  return np.nanmean(a, axis, out=out, keepdims=keepdims)\n",
      "/opt/conda/lib/python3.9/site-packages/numpy/lib/nanfunctions.py:1117: RuntimeWarning: Mean of empty slice\n",
      "  return np.nanmean(a, axis, out=out, keepdims=keepdims)\n",
      "/opt/conda/lib/python3.9/site-packages/numpy/lib/nanfunctions.py:1117: RuntimeWarning: Mean of empty slice\n",
      "  return np.nanmean(a, axis, out=out, keepdims=keepdims)\n",
      "/opt/conda/lib/python3.9/site-packages/numpy/lib/nanfunctions.py:1117: RuntimeWarning: Mean of empty slice\n",
      "  return np.nanmean(a, axis, out=out, keepdims=keepdims)\n",
      "/opt/conda/lib/python3.9/site-packages/numpy/lib/nanfunctions.py:1117: RuntimeWarning: Mean of empty slice\n",
      "  return np.nanmean(a, axis, out=out, keepdims=keepdims)\n",
      "/opt/conda/lib/python3.9/site-packages/numpy/lib/nanfunctions.py:1117: RuntimeWarning: Mean of empty slice\n",
      "  return np.nanmean(a, axis, out=out, keepdims=keepdims)\n",
      "/opt/conda/lib/python3.9/site-packages/numpy/lib/nanfunctions.py:1117: RuntimeWarning: Mean of empty slice\n",
      "  return np.nanmean(a, axis, out=out, keepdims=keepdims)\n",
      "/opt/conda/lib/python3.9/site-packages/numpy/lib/nanfunctions.py:1117: RuntimeWarning: Mean of empty slice\n",
      "  return np.nanmean(a, axis, out=out, keepdims=keepdims)\n",
      "/opt/conda/lib/python3.9/site-packages/numpy/lib/nanfunctions.py:1117: RuntimeWarning: Mean of empty slice\n",
      "  return np.nanmean(a, axis, out=out, keepdims=keepdims)\n",
      "/opt/conda/lib/python3.9/site-packages/numpy/lib/nanfunctions.py:1117: RuntimeWarning: Mean of empty slice\n",
      "  return np.nanmean(a, axis, out=out, keepdims=keepdims)\n",
      "/opt/conda/lib/python3.9/site-packages/numpy/lib/nanfunctions.py:1117: RuntimeWarning: Mean of empty slice\n",
      "  return np.nanmean(a, axis, out=out, keepdims=keepdims)\n",
      "/opt/conda/lib/python3.9/site-packages/numpy/lib/nanfunctions.py:1117: RuntimeWarning: Mean of empty slice\n",
      "  return np.nanmean(a, axis, out=out, keepdims=keepdims)\n",
      "/opt/conda/lib/python3.9/site-packages/numpy/lib/nanfunctions.py:1117: RuntimeWarning: Mean of empty slice\n",
      "  return np.nanmean(a, axis, out=out, keepdims=keepdims)\n",
      "/opt/conda/lib/python3.9/site-packages/numpy/lib/nanfunctions.py:1117: RuntimeWarning: Mean of empty slice\n",
      "  return np.nanmean(a, axis, out=out, keepdims=keepdims)\n",
      "/opt/conda/lib/python3.9/site-packages/numpy/lib/nanfunctions.py:1117: RuntimeWarning: Mean of empty slice\n",
      "  return np.nanmean(a, axis, out=out, keepdims=keepdims)\n",
      "/opt/conda/lib/python3.9/site-packages/numpy/lib/nanfunctions.py:1117: RuntimeWarning: Mean of empty slice\n",
      "  return np.nanmean(a, axis, out=out, keepdims=keepdims)\n",
      "/opt/conda/lib/python3.9/site-packages/numpy/lib/nanfunctions.py:1117: RuntimeWarning: Mean of empty slice\n",
      "  return np.nanmean(a, axis, out=out, keepdims=keepdims)\n",
      "/opt/conda/lib/python3.9/site-packages/numpy/lib/nanfunctions.py:1117: RuntimeWarning: Mean of empty slice\n",
      "  return np.nanmean(a, axis, out=out, keepdims=keepdims)\n",
      "/opt/conda/lib/python3.9/site-packages/numpy/lib/nanfunctions.py:1117: RuntimeWarning: Mean of empty slice\n",
      "  return np.nanmean(a, axis, out=out, keepdims=keepdims)\n",
      "/opt/conda/lib/python3.9/site-packages/numpy/lib/nanfunctions.py:1117: RuntimeWarning: Mean of empty slice\n",
      "  return np.nanmean(a, axis, out=out, keepdims=keepdims)\n",
      "/opt/conda/lib/python3.9/site-packages/numpy/lib/nanfunctions.py:1117: RuntimeWarning: Mean of empty slice\n",
      "  return np.nanmean(a, axis, out=out, keepdims=keepdims)\n",
      "/opt/conda/lib/python3.9/site-packages/numpy/lib/nanfunctions.py:1117: RuntimeWarning: Mean of empty slice\n",
      "  return np.nanmean(a, axis, out=out, keepdims=keepdims)\n"
     ]
    }
   ],
   "source": [
    "for t in data['locality_name'].unique():\n",
    "    data.loc[(data['locality_name'] == t) & (~data['ponds_around3000'].isna()), 'ponds_nearest'] = \\\n",
    "    data.loc[data['locality_name'] == t, 'ponds_nearest'].median()"
   ]
  },
  {
   "cell_type": "code",
   "execution_count": 200,
   "metadata": {},
   "outputs": [],
   "source": [
    "data['ponds_nearest'] = data['ponds_nearest'].fillna(0)"
   ]
  },
  {
   "cell_type": "markdown",
   "metadata": {},
   "source": [
    "Заполним медианным значением оставщиеся столбцы"
   ]
  },
  {
   "cell_type": "code",
   "execution_count": 201,
   "metadata": {},
   "outputs": [],
   "source": [
    "data['ceiling_height'] = data['ceiling_height'].fillna(data['ceiling_height'].median())\n",
    "data['living_area'] = data['living_area'].fillna(data['living_area'].median())\n",
    "data['kitchen_area'] = data['kitchen_area'].fillna(data['kitchen_area'].median())\n",
    "data['airports_nearest'] = data['airports_nearest'].fillna(data['airports_nearest'].median())\n",
    "data['cityCenters_nearest'] = data['cityCenters_nearest'].fillna(data['cityCenters_nearest'].median())"
   ]
  },
  {
   "cell_type": "markdown",
   "metadata": {},
   "source": [
    "Разберемся со столбцом is_apartment. Здесь произведем преобразование данных в булев тип, где пропускам будет присвоено значение \"False\"."
   ]
  },
  {
   "cell_type": "code",
   "execution_count": 202,
   "metadata": {},
   "outputs": [
    {
     "data": {
      "text/plain": [
       "0      True\n",
       "1      True\n",
       "2      True\n",
       "3      True\n",
       "4      True\n",
       "5      True\n",
       "6      True\n",
       "7      True\n",
       "8      True\n",
       "9      True\n",
       "10     True\n",
       "11    False\n",
       "12     True\n",
       "13     True\n",
       "14     True\n",
       "15     True\n",
       "16     True\n",
       "17     True\n",
       "18     True\n",
       "19     True\n",
       "Name: is_apartment, dtype: bool"
      ]
     },
     "execution_count": 202,
     "metadata": {},
     "output_type": "execute_result"
    }
   ],
   "source": [
    "data['is_apartment']=data['is_apartment'].astype('bool')\n",
    "data['is_apartment'].head(20)"
   ]
  },
  {
   "cell_type": "markdown",
   "metadata": {},
   "source": [
    "Большая часть пропусков было заменено медианным значением, так как медианна оказывает наименьше влияние на средние показатели. Где-то был применено так называемые \"заглушки\". Разобрав природу пропусков было обнаружено, что некоторые пропуски являются добавленными пользователем. Так например, в столбце is_apartmentt скорее всего пропуск возник из-за незнания типа своей кваритиры. А вот в столбце balcony пропуск вероятнее всего возник из-за отсутствия балкона в квартире, что вполне реально. Точно так же и в столбцах ponds_around3000 и parks_around3000, поблизости нет парков и водоемов.   Однако, удивителен тот факт, что по многим населенным пунктам сведения о расстояниях до их центра либо до аэропорта в принципе отсутствуют. Возможно, это вызвано какой-либо ошибкой сервиса.В days_exposition возможно информации нет, например, по причине того, что неизвестно когда было закрыто объявление о продаже, то есть, фактически, сделка была совершена, но не была закрыта на онлайн-ресурсе. Во всех остальных случаях причина пропусков незвестна. Может быть пользователь не внес данные, а может это какая-то техническая ошибка.\n",
    "\n"
   ]
  },
  {
   "cell_type": "markdown",
   "metadata": {},
   "source": [
    "### Изменение типов данных"
   ]
  },
  {
   "cell_type": "markdown",
   "metadata": {},
   "source": [
    "Для удобства работы произведем замены типов данных в следующих столбцах:\n",
    "- first_day_exposition - datetime\n",
    "- balcony - int64\n",
    "- floors_total - int64\n",
    "- parks_around3000 - int64\n",
    "- ponds_around3000 - int64\n",
    "- days_exposition - int64\n",
    "\n",
    "В первом случае замена необходима, поскольку для анализа нас будет интересовать только дата размещения объявления. В остальных случаях значения в столбцах принимают целые значения, и нам нет смысла их оставлять вещественными."
   ]
  },
  {
   "cell_type": "code",
   "execution_count": 203,
   "metadata": {},
   "outputs": [
    {
     "name": "stdout",
     "output_type": "stream",
     "text": [
      "<class 'pandas.core.frame.DataFrame'>\n",
      "RangeIndex: 23699 entries, 0 to 23698\n",
      "Data columns (total 22 columns):\n",
      " #   Column                Non-Null Count  Dtype         \n",
      "---  ------                --------------  -----         \n",
      " 0   total_images          23699 non-null  int64         \n",
      " 1   last_price            23699 non-null  float64       \n",
      " 2   total_area            23699 non-null  float64       \n",
      " 3   first_day_exposition  23699 non-null  datetime64[ns]\n",
      " 4   rooms                 23699 non-null  int64         \n",
      " 5   ceiling_height        23699 non-null  float64       \n",
      " 6   floors_total          23699 non-null  int64         \n",
      " 7   living_area           23699 non-null  float64       \n",
      " 8   floor                 23699 non-null  int64         \n",
      " 9   is_apartment          23699 non-null  bool          \n",
      " 10  studio                23699 non-null  bool          \n",
      " 11  open_plan             23699 non-null  bool          \n",
      " 12  kitchen_area          23699 non-null  float64       \n",
      " 13  balcony               23699 non-null  int64         \n",
      " 14  locality_name         23699 non-null  object        \n",
      " 15  airports_nearest      23699 non-null  float64       \n",
      " 16  cityCenters_nearest   23699 non-null  float64       \n",
      " 17  parks_around3000      23699 non-null  int64         \n",
      " 18  parks_nearest         23699 non-null  float64       \n",
      " 19  ponds_around3000      23699 non-null  int64         \n",
      " 20  ponds_nearest         23699 non-null  float64       \n",
      " 21  days_exposition       23699 non-null  int64         \n",
      "dtypes: bool(3), datetime64[ns](1), float64(9), int64(8), object(1)\n",
      "memory usage: 3.5+ MB\n"
     ]
    }
   ],
   "source": [
    "data['first_day_exposition'] = pd.to_datetime(data['first_day_exposition'], format='%Y.%m.%dT%H:%M:%S')\n",
    "data['balcony'] = data['balcony'].astype('int')\n",
    "data['parks_around3000'] = data['parks_around3000'].astype('int')\n",
    "data['ponds_around3000'] = data['ponds_around3000'].astype('int')\n",
    "data['days_exposition'] = data['days_exposition'].astype('int')\n",
    "data['floors_total'] = data['floors_total'].astype('int')\n",
    "\n",
    "data.info()"
   ]
  },
  {
   "cell_type": "markdown",
   "metadata": {},
   "source": [
    "Как видим типы данных в нужных столбцах успешно изменились."
   ]
  },
  {
   "cell_type": "markdown",
   "metadata": {},
   "source": [
    "### Обработка дубликатов"
   ]
  },
  {
   "cell_type": "markdown",
   "metadata": {},
   "source": [
    "В столбце locality_name встречаются дубликаты. Нужно их устранить. Выведем уникальные значения в столбце"
   ]
  },
  {
   "cell_type": "code",
   "execution_count": 204,
   "metadata": {},
   "outputs": [
    {
     "data": {
      "text/plain": [
       "array(['Санкт-Петербург', 'посёлок Шушары', 'городской посёлок Янино-1',\n",
       "       'посёлок Парголово', 'посёлок Мурино', 'Ломоносов', 'Сертолово',\n",
       "       'Петергоф', 'Пушкин', 'деревня Кудрово', 'Коммунар', 'Колпино',\n",
       "       'поселок городского типа Красный Бор', 'Гатчина', 'поселок Мурино',\n",
       "       'деревня Фёдоровское', 'Выборг', 'Кронштадт', 'Кировск',\n",
       "       'деревня Новое Девяткино', 'посёлок Металлострой',\n",
       "       'посёлок городского типа Лебяжье',\n",
       "       'посёлок городского типа Сиверский', 'поселок Молодцово',\n",
       "       'поселок городского типа Кузьмоловский',\n",
       "       'садовое товарищество Новая Ропша', 'Павловск',\n",
       "       'деревня Пикколово', 'Всеволожск', 'Волхов', 'Кингисепп',\n",
       "       'Приозерск', 'Сестрорецк', 'деревня Куттузи', 'посёлок Аннино',\n",
       "       'поселок городского типа Ефимовский', 'посёлок Плодовое',\n",
       "       'деревня Заклинье', 'поселок Торковичи', 'поселок Первомайское',\n",
       "       'Красное Село', 'посёлок Понтонный', 'Сясьстрой', 'деревня Старая',\n",
       "       'деревня Лесколово', 'посёлок Новый Свет', 'Сланцы',\n",
       "       'село Путилово', 'Ивангород', 'Мурино', 'Шлиссельбург',\n",
       "       'Никольское', 'Зеленогорск', 'Сосновый Бор', 'поселок Новый Свет',\n",
       "       'деревня Оржицы', 'деревня Кальтино', 'Кудрово',\n",
       "       'поселок Романовка', 'посёлок Бугры', 'поселок Бугры',\n",
       "       'поселок городского типа Рощино', 'Кириши', 'Луга', 'Волосово',\n",
       "       'Отрадное', 'село Павлово', 'поселок Оредеж', 'село Копорье',\n",
       "       'посёлок городского типа Красный Бор', 'посёлок Молодёжное',\n",
       "       'Тихвин', 'посёлок Победа', 'деревня Нурма',\n",
       "       'поселок городского типа Синявино', 'Тосно',\n",
       "       'посёлок городского типа Кузьмоловский', 'посёлок Стрельна',\n",
       "       'Бокситогорск', 'посёлок Александровская', 'деревня Лопухинка',\n",
       "       'Пикалёво', 'поселок Терволово',\n",
       "       'поселок городского типа Советский', 'Подпорожье',\n",
       "       'посёлок Петровское', 'посёлок городского типа Токсово',\n",
       "       'поселок Сельцо', 'посёлок городского типа Вырица',\n",
       "       'деревня Кипень', 'деревня Келози', 'деревня Вартемяги',\n",
       "       'посёлок Тельмана', 'поселок Севастьяново',\n",
       "       'городской поселок Большая Ижора', 'нет информации',\n",
       "       'городской посёлок Павлово', 'деревня Агалатово',\n",
       "       'посёлок Новогорелово', 'городской посёлок Лесогорский',\n",
       "       'деревня Лаголово', 'поселок Цвелодубово',\n",
       "       'поселок городского типа Рахья', 'поселок городского типа Вырица',\n",
       "       'деревня Белогорка', 'поселок Заводской',\n",
       "       'городской посёлок Новоселье', 'деревня Большие Колпаны',\n",
       "       'деревня Горбунки', 'деревня Батово', 'деревня Заневка',\n",
       "       'деревня Иссад', 'Приморск', 'городской посёлок Фёдоровское',\n",
       "       'деревня Мистолово', 'Новая Ладога', 'поселок Зимитицы',\n",
       "       'поселок Барышево', 'деревня Разметелево',\n",
       "       'поселок городского типа имени Свердлова', 'деревня Пеники',\n",
       "       'поселок Рябово', 'деревня Пудомяги', 'поселок станции Корнево',\n",
       "       'деревня Низино', 'деревня Бегуницы', 'посёлок Поляны',\n",
       "       'городской посёлок Мга', 'поселок Елизаветино',\n",
       "       'посёлок городского типа Кузнечное', 'деревня Колтуши',\n",
       "       'поселок Запорожское', 'посёлок городского типа Рощино',\n",
       "       'деревня Гостилицы', 'деревня Малое Карлино',\n",
       "       'посёлок Мичуринское', 'посёлок городского типа имени Морозова',\n",
       "       'посёлок Песочный', 'посёлок Сосново', 'деревня Аро',\n",
       "       'поселок Ильичёво', 'посёлок городского типа Тайцы',\n",
       "       'деревня Малое Верево', 'деревня Извара', 'поселок станции Вещево',\n",
       "       'село Паша', 'деревня Калитино',\n",
       "       'посёлок городского типа Ульяновка', 'деревня Чудской Бор',\n",
       "       'поселок городского типа Дубровка', 'деревня Мины',\n",
       "       'поселок Войсковицы', 'посёлок городского типа имени Свердлова',\n",
       "       'деревня Коркино', 'посёлок Ропша',\n",
       "       'поселок городского типа Приладожский', 'посёлок Щеглово',\n",
       "       'посёлок Гаврилово', 'Лодейное Поле', 'деревня Рабитицы',\n",
       "       'поселок городского типа Никольский', 'деревня Кузьмолово',\n",
       "       'деревня Малые Колпаны', 'поселок Тельмана',\n",
       "       'посёлок Петро-Славянка', 'городской посёлок Назия',\n",
       "       'посёлок Репино', 'посёлок Ильичёво', 'поселок Углово',\n",
       "       'поселок Старая Малукса', 'садовое товарищество Рахья',\n",
       "       'поселок Аннино', 'поселок Победа', 'деревня Меньково',\n",
       "       'деревня Старые Бегуницы', 'посёлок Сапёрный', 'поселок Семрино',\n",
       "       'поселок Гаврилово', 'поселок Глажево', 'поселок Кобринское',\n",
       "       'деревня Гарболово', 'деревня Юкки',\n",
       "       'поселок станции Приветнинское', 'деревня Мануйлово',\n",
       "       'деревня Пчева', 'поселок Поляны', 'поселок Цвылёво',\n",
       "       'поселок Мельниково', 'посёлок Пудость', 'посёлок Усть-Луга',\n",
       "       'Светогорск', 'Любань', 'поселок Селезнёво',\n",
       "       'поселок городского типа Рябово', 'Каменногорск', 'деревня Кривко',\n",
       "       'поселок Глебычево', 'деревня Парицы', 'поселок Жилпосёлок',\n",
       "       'посёлок городского типа Мга', 'городской поселок Янино-1',\n",
       "       'посёлок Войскорово', 'село Никольское', 'посёлок Терволово',\n",
       "       'поселок Стеклянный', 'посёлок городского типа Важины',\n",
       "       'посёлок Мыза-Ивановка', 'село Русско-Высоцкое',\n",
       "       'поселок городского типа Лебяжье',\n",
       "       'поселок городского типа Форносово', 'село Старая Ладога',\n",
       "       'поселок Житково', 'городской посёлок Виллози', 'деревня Лампово',\n",
       "       'деревня Шпаньково', 'деревня Лаврики', 'посёлок Сумино',\n",
       "       'посёлок Возрождение', 'деревня Старосиверская',\n",
       "       'посёлок Кикерино', 'поселок Возрождение',\n",
       "       'деревня Старое Хинколово', 'посёлок Пригородный',\n",
       "       'посёлок Торфяное', 'городской посёлок Будогощь',\n",
       "       'поселок Суходолье', 'поселок Красная Долина', 'деревня Хапо-Ое',\n",
       "       'поселок городского типа Дружная Горка', 'поселок Лисий Нос',\n",
       "       'деревня Яльгелево', 'посёлок Стеклянный', 'село Рождествено',\n",
       "       'деревня Старополье', 'посёлок Левашово', 'деревня Сяськелево',\n",
       "       'деревня Камышовка',\n",
       "       'садоводческое некоммерческое товарищество Лесная Поляна',\n",
       "       'деревня Хязельки', 'поселок Жилгородок',\n",
       "       'посёлок городского типа Павлово', 'деревня Ялгино',\n",
       "       'поселок Новый Учхоз', 'городской посёлок Рощино',\n",
       "       'поселок Гончарово', 'поселок Почап', 'посёлок Сапёрное',\n",
       "       'посёлок Платформа 69-й километр', 'поселок Каложицы',\n",
       "       'деревня Фалилеево', 'деревня Пельгора',\n",
       "       'поселок городского типа Лесогорский', 'деревня Торошковичи',\n",
       "       'посёлок Белоостров', 'посёлок Алексеевка', 'поселок Серебрянский',\n",
       "       'поселок Лукаши', 'поселок Петровское', 'деревня Щеглово',\n",
       "       'поселок Мичуринское', 'деревня Тарасово', 'поселок Кингисеппский',\n",
       "       'посёлок при железнодорожной станции Вещево', 'поселок Ушаки',\n",
       "       'деревня Котлы', 'деревня Сижно', 'деревня Торосово',\n",
       "       'посёлок Форт Красная Горка', 'поселок городского типа Токсово',\n",
       "       'деревня Новолисино', 'посёлок станции Громово', 'деревня Глинка',\n",
       "       'посёлок Мельниково', 'поселок городского типа Назия',\n",
       "       'деревня Старая Пустошь', 'поселок Коммунары', 'поселок Починок',\n",
       "       'посёлок городского типа Вознесенье', 'деревня Разбегаево',\n",
       "       'посёлок городского типа Рябово', 'поселок Гладкое',\n",
       "       'посёлок при железнодорожной станции Приветнинское',\n",
       "       'поселок Тёсово-4', 'посёлок Жилгородок', 'деревня Бор',\n",
       "       'посёлок Коробицыно', 'деревня Большая Вруда', 'деревня Курковицы',\n",
       "       'посёлок Лисий Нос', 'городской посёлок Советский',\n",
       "       'посёлок Кобралово', 'деревня Суоранда', 'поселок Кобралово',\n",
       "       'поселок городского типа Кондратьево',\n",
       "       'коттеджный поселок Счастье', 'поселок Любань', 'деревня Реброво',\n",
       "       'деревня Зимитицы', 'деревня Тойворово', 'поселок Семиозерье',\n",
       "       'поселок Лесное', 'поселок Совхозный', 'поселок Усть-Луга',\n",
       "       'посёлок Ленинское', 'посёлок Суйда',\n",
       "       'посёлок городского типа Форносово', 'деревня Нижние Осельки',\n",
       "       'посёлок станции Свирь', 'поселок Перово', 'Высоцк',\n",
       "       'поселок Гарболово', 'село Шум', 'поселок Котельский',\n",
       "       'поселок станции Лужайка', 'деревня Большая Пустомержа',\n",
       "       'поселок Красносельское', 'деревня Вахнова Кара', 'деревня Пижма',\n",
       "       'коттеджный поселок Кивеннапа Север', 'поселок Коробицыно',\n",
       "       'поселок Ромашки', 'посёлок Перово', 'деревня Каськово',\n",
       "       'деревня Куровицы', 'посёлок Плоское', 'поселок Сумино',\n",
       "       'поселок городского типа Большая Ижора', 'поселок Кирпичное',\n",
       "       'деревня Ям-Тесово', 'деревня Раздолье', 'деревня Терпилицы',\n",
       "       'посёлок Шугозеро', 'деревня Ваганово', 'поселок Пушное',\n",
       "       'садовое товарищество Садко', 'посёлок Усть-Ижора',\n",
       "       'деревня Выскатка', 'городской посёлок Свирьстрой',\n",
       "       'поселок Громово', 'деревня Кисельня', 'посёлок Старая Малукса',\n",
       "       'деревня Трубников Бор', 'поселок Калитино',\n",
       "       'посёлок Высокоключевой', 'садовое товарищество Приладожский',\n",
       "       'посёлок Пансионат Зелёный Бор', 'деревня Ненимяки',\n",
       "       'поселок Пансионат Зелёный Бор', 'деревня Снегирёвка',\n",
       "       'деревня Рапполово', 'деревня Пустынка', 'поселок Рабитицы',\n",
       "       'деревня Большой Сабск', 'деревня Русско', 'деревня Лупполово',\n",
       "       'деревня Большое Рейзино', 'деревня Малая Романовка',\n",
       "       'поселок Дружноселье', 'поселок Пчевжа', 'поселок Володарское',\n",
       "       'деревня Нижняя', 'коттеджный посёлок Лесное', 'деревня Тихковицы',\n",
       "       'деревня Борисова Грива', 'посёлок Дзержинского'], dtype=object)"
      ]
     },
     "execution_count": 204,
     "metadata": {},
     "output_type": "execute_result"
    }
   ],
   "source": [
    "data['locality_name'].unique()"
   ]
  },
  {
   "cell_type": "markdown",
   "metadata": {},
   "source": [
    "В этом столбце оставим только название населенного пункта, так будет проще работать с данными"
   ]
  },
  {
   "cell_type": "code",
   "execution_count": 205,
   "metadata": {},
   "outputs": [
    {
     "data": {
      "text/plain": [
       "array(['Санкт-Петербург', 'Шушары', 'Янино-1', 'Парголово', 'Мурино',\n",
       "       'Ломоносов', 'Сертолово', 'Петергоф', 'Пушкин', 'Кудрово',\n",
       "       'Коммунар', 'Колпино', 'Красный Бор', 'Гатчина', 'Фёдоровское',\n",
       "       'Выборг', 'Кронштадт', 'Кировск', 'Новое Девяткино',\n",
       "       'Металлострой', 'Лебяжье', 'Сиверский', 'Молодцово',\n",
       "       'Кузьмоловский', 'Новая Ропша', 'Павловск', 'Пикколово',\n",
       "       'Всеволожск', 'Волхов', 'Кингисепп', 'Приозерск', 'Сестрорецк',\n",
       "       'Куттузи', 'Аннино', 'Ефимовский', 'Плодовое', 'Заклинье',\n",
       "       'Торковичи', 'Первомайское', 'Красное Село', 'Понтонный',\n",
       "       'Сясьстрой', 'Старая', 'Лесколово', 'Новый Свет', 'Сланцы',\n",
       "       'Путилово', 'Ивангород', 'Шлиссельбург', 'Никольское',\n",
       "       'Зеленогорск', 'Сосновый Бор', 'Оржицы', 'Кальтино', 'Романовка',\n",
       "       'Бугры', 'Рощино', 'Кириши', 'Луга', 'Волосово', 'Отрадное',\n",
       "       'Павлово', 'Оредеж', 'Копорье', 'Молодёжное', 'Тихвин', 'Победа',\n",
       "       'Нурма', 'Синявино', 'Тосно', 'Стрельна', 'Бокситогорск',\n",
       "       'Александровская', 'Лопухинка', 'Пикалёво', 'Терволово',\n",
       "       'Советский', 'Подпорожье', 'Петровское', 'Токсово', 'Сельцо',\n",
       "       'Вырица', 'Кипень', 'Келози', 'Вартемяги', 'Тельмана',\n",
       "       'Севастьяново', 'Большая Ижора', 'нет информации', 'Агалатово',\n",
       "       'Новогорелово', 'Лесогорский', 'Лаголово', 'Цвелодубово', 'Рахья',\n",
       "       'Белогорка', 'Заводской', 'Новоселье', 'Большие Колпаны',\n",
       "       'Горбунки', 'Батово', 'Заневка', 'Иссад', 'Приморск', 'Мистолово',\n",
       "       'Новая Ладога', 'Зимитицы', 'Барышево', 'Разметелево', 'Свердлова',\n",
       "       'Пеники', 'Рябово', 'Пудомяги', 'Корнево', 'Низино', 'Бегуницы',\n",
       "       'Поляны', 'Мга', 'Елизаветино', 'Кузнечное', 'Колтуши',\n",
       "       'Запорожское', 'Гостилицы', 'Малое Карлино', 'Мичуринское',\n",
       "       'Морозова', 'Песочный', 'Сосново', 'Аро', 'Ильичёво', 'Тайцы',\n",
       "       'Малое Верево', 'Извара', 'Вещево', 'Паша', 'Калитино',\n",
       "       'Ульяновка', 'Чудской Бор', 'Дубровка', 'Мины', 'Войсковицы',\n",
       "       'Коркино', 'Ропша', 'Приладожский', 'Щеглово', 'Гаврилово',\n",
       "       'Лодейное Поле', 'Рабитицы', 'Никольский', 'Кузьмолово',\n",
       "       'Малые Колпаны', 'Петро-Славянка', 'Назия', 'Репино', 'Углово',\n",
       "       'Старая Малукса', 'Меньково', 'Старые Бегуницы', 'Сапёрный',\n",
       "       'Семрино', 'Глажево', 'Кобринское', 'Гарболово', 'Юкки',\n",
       "       'Приветнинское', 'Мануйлово', 'Пчева', 'Цвылёво', 'Мельниково',\n",
       "       'Пудость', 'Усть-Луга', 'Светогорск', 'Любань', 'Селезнёво',\n",
       "       'Каменногорск', 'Кривко', 'Глебычево', 'Парицы', 'Жилпосёлок',\n",
       "       'Войскорово', 'Стеклянный', 'Важины', 'Мыза-Ивановка',\n",
       "       'Русско-Высоцкое', 'Форносово', 'Старая Ладога', 'Житково',\n",
       "       'Виллози', 'Лампово', 'Шпаньково', 'Лаврики', 'Сумино',\n",
       "       'Возрождение', 'Старосиверская', 'Кикерино', 'Старое Хинколово',\n",
       "       'Пригородный', 'Торфяное', 'Будогощь', 'Суходолье',\n",
       "       'Красная Долина', 'Хапо-Ое', 'Дружная Горка', 'Лисий Нос',\n",
       "       'Яльгелево', 'Рождествено', 'Старополье', 'Левашово', 'Сяськелево',\n",
       "       'Камышовка', 'Лесная Поляна', 'Хязельки', 'Жилгородок', 'Ялгино',\n",
       "       'Новый Учхоз', 'Гончарово', 'Почап', 'Сапёрное',\n",
       "       'Платформа 69-й километр', 'Каложицы', 'Фалилеево', 'Пельгора',\n",
       "       'Торошковичи', 'Белоостров', 'Алексеевка', 'Серебрянский',\n",
       "       'Лукаши', 'Тарасово', 'Кингисеппский',\n",
       "       'при железнодорожной Вещево', 'Ушаки', 'Котлы', 'Сижно',\n",
       "       'Торосово', 'Форт Красная Горка', 'Новолисино', 'Громово',\n",
       "       'Глинка', 'Старая Пустошь', 'Коммунары', 'Починок', 'Вознесенье',\n",
       "       'Разбегаево', 'Гладкое', 'при железнодорожной Приветнинское',\n",
       "       'Тёсово-4', 'Бор', 'Коробицыно', 'Большая Вруда', 'Курковицы',\n",
       "       'Кобралово', 'Суоранда', 'Кондратьево', 'Счастье', 'Реброво',\n",
       "       'Тойворово', 'Семиозерье', 'Лесное', 'Совхозный', 'Ленинское',\n",
       "       'Суйда', 'Нижние Осельки', 'Свирь', 'Перово', 'Высоцк', 'Шум',\n",
       "       'Котельский', 'Лужайка', 'Большая Пустомержа', 'Красносельское',\n",
       "       'Вахнова Кара', 'Пижма', 'Кивеннапа Север', 'Ромашки', 'Каськово',\n",
       "       'Куровицы', 'Плоское', 'Кирпичное', 'Ям-Тесово', 'Раздолье',\n",
       "       'Терпилицы', 'Шугозеро', 'Ваганово', 'Пушное', 'Садко',\n",
       "       'Усть-Ижора', 'Выскатка', 'Свирьстрой', 'Кисельня',\n",
       "       'Трубников Бор', 'Высокоключевой', 'Пансионат Зелёный Бор',\n",
       "       'Ненимяки', 'Снегирёвка', 'Рапполово', 'Пустынка', 'Большой Сабск',\n",
       "       'Русско', 'Лупполово', 'Большое Рейзино', 'Малая Романовка',\n",
       "       'Дружноселье', 'Пчевжа', 'Володарское', 'Нижняя', 'Тихковицы',\n",
       "       'Борисова Грива', 'Дзержинского'], dtype=object)"
      ]
     },
     "execution_count": 205,
     "metadata": {},
     "output_type": "execute_result"
    }
   ],
   "source": [
    "#создаим список значений, которые мы хотим убрать из названий\n",
    "locations=['посёлок ', 'городской посёлок ', 'городского типа ','коттеджный ', 'имени ','городского типа имени ',\\\n",
    "           'городской ', 'деревня ', 'поселок городского типа ','поселок ', 'посёлок городского типа ', \\\n",
    "           'садовое товарищество ', 'поселок городского типа имени ', 'поселок станции ', 'село ', \\\n",
    "           'садоводческое некоммерческое товарищество ','коттеджный посёлок ', 'станции ']\n",
    "\n",
    "for location in locations:\n",
    "    data['locality_name']=data['locality_name'].str.replace( location, '')\n",
    "data['locality_name'].unique()"
   ]
  },
  {
   "cell_type": "markdown",
   "metadata": {},
   "source": [
    "Оставив только название населенного пункта, будет проще работать с данными"
   ]
  },
  {
   "cell_type": "markdown",
   "metadata": {},
   "source": [
    "### Обработка аномальных значений"
   ]
  },
  {
   "cell_type": "code",
   "execution_count": 206,
   "metadata": {},
   "outputs": [
    {
     "data": {
      "text/html": [
       "<div>\n",
       "<style scoped>\n",
       "    .dataframe tbody tr th:only-of-type {\n",
       "        vertical-align: middle;\n",
       "    }\n",
       "\n",
       "    .dataframe tbody tr th {\n",
       "        vertical-align: top;\n",
       "    }\n",
       "\n",
       "    .dataframe thead th {\n",
       "        text-align: right;\n",
       "    }\n",
       "</style>\n",
       "<table border=\"1\" class=\"dataframe\">\n",
       "  <thead>\n",
       "    <tr style=\"text-align: right;\">\n",
       "      <th></th>\n",
       "      <th>total_images</th>\n",
       "      <th>last_price</th>\n",
       "      <th>total_area</th>\n",
       "      <th>rooms</th>\n",
       "      <th>ceiling_height</th>\n",
       "      <th>floors_total</th>\n",
       "      <th>living_area</th>\n",
       "      <th>floor</th>\n",
       "      <th>kitchen_area</th>\n",
       "      <th>balcony</th>\n",
       "      <th>airports_nearest</th>\n",
       "      <th>cityCenters_nearest</th>\n",
       "      <th>parks_around3000</th>\n",
       "      <th>parks_nearest</th>\n",
       "      <th>ponds_around3000</th>\n",
       "      <th>ponds_nearest</th>\n",
       "      <th>days_exposition</th>\n",
       "    </tr>\n",
       "  </thead>\n",
       "  <tbody>\n",
       "    <tr>\n",
       "      <th>count</th>\n",
       "      <td>23699.000000</td>\n",
       "      <td>2.369900e+04</td>\n",
       "      <td>23699.000000</td>\n",
       "      <td>23699.000000</td>\n",
       "      <td>23699.000000</td>\n",
       "      <td>23699.000000</td>\n",
       "      <td>23699.000000</td>\n",
       "      <td>23699.000000</td>\n",
       "      <td>23699.000000</td>\n",
       "      <td>23699.000000</td>\n",
       "      <td>23699.000000</td>\n",
       "      <td>23699.000000</td>\n",
       "      <td>23699.000000</td>\n",
       "      <td>23699.000000</td>\n",
       "      <td>23699.000000</td>\n",
       "      <td>23699.000000</td>\n",
       "      <td>23699.000000</td>\n",
       "    </tr>\n",
       "    <tr>\n",
       "      <th>mean</th>\n",
       "      <td>9.858475</td>\n",
       "      <td>6.541549e+06</td>\n",
       "      <td>60.348651</td>\n",
       "      <td>2.070636</td>\n",
       "      <td>2.724358</td>\n",
       "      <td>10.635090</td>\n",
       "      <td>34.099892</td>\n",
       "      <td>5.892358</td>\n",
       "      <td>10.428526</td>\n",
       "      <td>0.591080</td>\n",
       "      <td>28310.148023</td>\n",
       "      <td>13936.792797</td>\n",
       "      <td>0.469049</td>\n",
       "      <td>342.027575</td>\n",
       "      <td>0.590911</td>\n",
       "      <td>384.384193</td>\n",
       "      <td>156.608844</td>\n",
       "    </tr>\n",
       "    <tr>\n",
       "      <th>std</th>\n",
       "      <td>5.682529</td>\n",
       "      <td>1.088701e+07</td>\n",
       "      <td>35.654083</td>\n",
       "      <td>1.078405</td>\n",
       "      <td>0.988298</td>\n",
       "      <td>6.616396</td>\n",
       "      <td>21.162096</td>\n",
       "      <td>4.885249</td>\n",
       "      <td>5.631126</td>\n",
       "      <td>0.959298</td>\n",
       "      <td>11090.330161</td>\n",
       "      <td>7553.779633</td>\n",
       "      <td>0.748534</td>\n",
       "      <td>203.631027</td>\n",
       "      <td>0.883999</td>\n",
       "      <td>215.053838</td>\n",
       "      <td>213.546873</td>\n",
       "    </tr>\n",
       "    <tr>\n",
       "      <th>min</th>\n",
       "      <td>0.000000</td>\n",
       "      <td>1.219000e+04</td>\n",
       "      <td>12.000000</td>\n",
       "      <td>0.000000</td>\n",
       "      <td>1.000000</td>\n",
       "      <td>0.000000</td>\n",
       "      <td>2.000000</td>\n",
       "      <td>1.000000</td>\n",
       "      <td>1.300000</td>\n",
       "      <td>0.000000</td>\n",
       "      <td>0.000000</td>\n",
       "      <td>181.000000</td>\n",
       "      <td>0.000000</td>\n",
       "      <td>0.000000</td>\n",
       "      <td>0.000000</td>\n",
       "      <td>0.000000</td>\n",
       "      <td>0.000000</td>\n",
       "    </tr>\n",
       "    <tr>\n",
       "      <th>25%</th>\n",
       "      <td>6.000000</td>\n",
       "      <td>3.400000e+06</td>\n",
       "      <td>40.000000</td>\n",
       "      <td>1.000000</td>\n",
       "      <td>2.600000</td>\n",
       "      <td>5.000000</td>\n",
       "      <td>19.000000</td>\n",
       "      <td>2.000000</td>\n",
       "      <td>7.400000</td>\n",
       "      <td>0.000000</td>\n",
       "      <td>21183.000000</td>\n",
       "      <td>10927.000000</td>\n",
       "      <td>0.000000</td>\n",
       "      <td>0.000000</td>\n",
       "      <td>0.000000</td>\n",
       "      <td>372.000000</td>\n",
       "      <td>22.000000</td>\n",
       "    </tr>\n",
       "    <tr>\n",
       "      <th>50%</th>\n",
       "      <td>9.000000</td>\n",
       "      <td>4.650000e+06</td>\n",
       "      <td>52.000000</td>\n",
       "      <td>2.000000</td>\n",
       "      <td>2.650000</td>\n",
       "      <td>9.000000</td>\n",
       "      <td>30.000000</td>\n",
       "      <td>4.000000</td>\n",
       "      <td>9.100000</td>\n",
       "      <td>0.000000</td>\n",
       "      <td>26726.000000</td>\n",
       "      <td>13098.500000</td>\n",
       "      <td>0.000000</td>\n",
       "      <td>460.000000</td>\n",
       "      <td>0.000000</td>\n",
       "      <td>503.000000</td>\n",
       "      <td>74.000000</td>\n",
       "    </tr>\n",
       "    <tr>\n",
       "      <th>75%</th>\n",
       "      <td>14.000000</td>\n",
       "      <td>6.800000e+06</td>\n",
       "      <td>69.900000</td>\n",
       "      <td>3.000000</td>\n",
       "      <td>2.700000</td>\n",
       "      <td>16.000000</td>\n",
       "      <td>41.100000</td>\n",
       "      <td>8.000000</td>\n",
       "      <td>11.440000</td>\n",
       "      <td>1.000000</td>\n",
       "      <td>34327.000000</td>\n",
       "      <td>15248.500000</td>\n",
       "      <td>1.000000</td>\n",
       "      <td>460.000000</td>\n",
       "      <td>1.000000</td>\n",
       "      <td>503.000000</td>\n",
       "      <td>199.000000</td>\n",
       "    </tr>\n",
       "    <tr>\n",
       "      <th>max</th>\n",
       "      <td>50.000000</td>\n",
       "      <td>7.630000e+08</td>\n",
       "      <td>900.000000</td>\n",
       "      <td>19.000000</td>\n",
       "      <td>100.000000</td>\n",
       "      <td>60.000000</td>\n",
       "      <td>409.700000</td>\n",
       "      <td>33.000000</td>\n",
       "      <td>112.000000</td>\n",
       "      <td>5.000000</td>\n",
       "      <td>84869.000000</td>\n",
       "      <td>65968.000000</td>\n",
       "      <td>3.000000</td>\n",
       "      <td>733.000000</td>\n",
       "      <td>3.000000</td>\n",
       "      <td>859.000000</td>\n",
       "      <td>1580.000000</td>\n",
       "    </tr>\n",
       "  </tbody>\n",
       "</table>\n",
       "</div>"
      ],
      "text/plain": [
       "       total_images    last_price    total_area         rooms  ceiling_height  \\\n",
       "count  23699.000000  2.369900e+04  23699.000000  23699.000000    23699.000000   \n",
       "mean       9.858475  6.541549e+06     60.348651      2.070636        2.724358   \n",
       "std        5.682529  1.088701e+07     35.654083      1.078405        0.988298   \n",
       "min        0.000000  1.219000e+04     12.000000      0.000000        1.000000   \n",
       "25%        6.000000  3.400000e+06     40.000000      1.000000        2.600000   \n",
       "50%        9.000000  4.650000e+06     52.000000      2.000000        2.650000   \n",
       "75%       14.000000  6.800000e+06     69.900000      3.000000        2.700000   \n",
       "max       50.000000  7.630000e+08    900.000000     19.000000      100.000000   \n",
       "\n",
       "       floors_total   living_area         floor  kitchen_area       balcony  \\\n",
       "count  23699.000000  23699.000000  23699.000000  23699.000000  23699.000000   \n",
       "mean      10.635090     34.099892      5.892358     10.428526      0.591080   \n",
       "std        6.616396     21.162096      4.885249      5.631126      0.959298   \n",
       "min        0.000000      2.000000      1.000000      1.300000      0.000000   \n",
       "25%        5.000000     19.000000      2.000000      7.400000      0.000000   \n",
       "50%        9.000000     30.000000      4.000000      9.100000      0.000000   \n",
       "75%       16.000000     41.100000      8.000000     11.440000      1.000000   \n",
       "max       60.000000    409.700000     33.000000    112.000000      5.000000   \n",
       "\n",
       "       airports_nearest  cityCenters_nearest  parks_around3000  parks_nearest  \\\n",
       "count      23699.000000         23699.000000      23699.000000   23699.000000   \n",
       "mean       28310.148023         13936.792797          0.469049     342.027575   \n",
       "std        11090.330161          7553.779633          0.748534     203.631027   \n",
       "min            0.000000           181.000000          0.000000       0.000000   \n",
       "25%        21183.000000         10927.000000          0.000000       0.000000   \n",
       "50%        26726.000000         13098.500000          0.000000     460.000000   \n",
       "75%        34327.000000         15248.500000          1.000000     460.000000   \n",
       "max        84869.000000         65968.000000          3.000000     733.000000   \n",
       "\n",
       "       ponds_around3000  ponds_nearest  days_exposition  \n",
       "count      23699.000000   23699.000000     23699.000000  \n",
       "mean           0.590911     384.384193       156.608844  \n",
       "std            0.883999     215.053838       213.546873  \n",
       "min            0.000000       0.000000         0.000000  \n",
       "25%            0.000000     372.000000        22.000000  \n",
       "50%            0.000000     503.000000        74.000000  \n",
       "75%            1.000000     503.000000       199.000000  \n",
       "max            3.000000     859.000000      1580.000000  "
      ]
     },
     "execution_count": 206,
     "metadata": {},
     "output_type": "execute_result"
    }
   ],
   "source": [
    "data.describe() #для начала посмотрим какие значения имеются"
   ]
  },
  {
   "cell_type": "markdown",
   "metadata": {},
   "source": [
    "Смущает  столбец ceiling_height, где высота потолка максимальное значение равна 100 и минимальное 1. Таких потолков не бывает,скорее всего неверно указали "
   ]
  },
  {
   "cell_type": "code",
   "execution_count": 207,
   "metadata": {
    "scrolled": true
   },
   "outputs": [
    {
     "data": {
      "image/png": "[encoded data removed]",
      "text/plain": [
       "<Figure size 432x288 with 1 Axes>"
      ]
     },
     "metadata": {
      "needs_background": "light"
     },
     "output_type": "display_data"
    }
   ],
   "source": [
    "data['ceiling_height'].hist(bins=50, range=(1, 15))\n",
    "plt.title('Высота потолка')\n",
    "plt.xlabel('Высота')\n",
    "plt.ylabel('Количество')\n",
    "plt.show()"
   ]
  },
  {
   "cell_type": "markdown",
   "metadata": {},
   "source": [
    "Основные размеры потолков лежат в диапазоне от 2,3 до 4 метров Изменим параметры гистораммы для лучшего отображения"
   ]
  },
  {
   "cell_type": "code",
   "execution_count": 208,
   "metadata": {},
   "outputs": [
    {
     "data": {
      "image/png": "[encoded data removed]",
      "text/plain": [
       "<Figure size 432x288 with 1 Axes>"
      ]
     },
     "metadata": {
      "needs_background": "light"
     },
     "output_type": "display_data"
    }
   ],
   "source": [
    "data['ceiling_height'].hist(bins=50, range=(15, 100))\n",
    "plt.title('Высота потолка')\n",
    "plt.xlabel('Высота')\n",
    "plt.ylabel('Количество')\n",
    "plt.show()"
   ]
  },
  {
   "cell_type": "markdown",
   "metadata": {},
   "source": [
    "На этой гистограмме имеется \"всплеск\" значений около 10 до примерно 35 метров. Здесь, вероятнее всего, была пропущена запятая, и таким образом высота потолка стала больше в 10 раз. Заменим эти значения на более реальные."
   ]
  },
  {
   "cell_type": "code",
   "execution_count": 209,
   "metadata": {},
   "outputs": [
    {
     "data": {
      "text/plain": [
       "count    23699.000000\n",
       "mean         2.697798\n",
       "std          0.237643\n",
       "min          1.000000\n",
       "25%          2.600000\n",
       "50%          2.650000\n",
       "75%          2.700000\n",
       "max         10.000000\n",
       "Name: ceiling_height, dtype: float64"
      ]
     },
     "execution_count": 209,
     "metadata": {},
     "output_type": "execute_result"
    }
   ],
   "source": [
    "for i in data['ceiling_height']:\n",
    "    if i>=10:\n",
    "        data['ceiling_height']=data['ceiling_height'].replace({i:i/10})\n",
    "\n",
    "data['ceiling_height'].describe() "
   ]
  },
  {
   "cell_type": "markdown",
   "metadata": {},
   "source": [
    "В данных много столбцов и не очень удобно по каждому столбцу строить графики, поэтому для описания данных был применен метод describe. Во всех стобцах, кроме ceiling_height, не выделялись какие-либо ошибочные значения. Поэтому было подробно рассмотрен столбец ceiling_height и по нему устранены аномалии. Аномалия в данном столбце возник из-за неверного указания единицы измерения высоты. Возможно это даже техническая ошибка, но скорее всего это сами пользователи так внесли данные.\n"
   ]
  },
  {
   "cell_type": "markdown",
   "metadata": {},
   "source": [
    "# 3. Посчитаем и добавим в таблицу новые столбцы"
   ]
  },
  {
   "cell_type": "markdown",
   "metadata": {},
   "source": [
    "Добавим и посчитаем следующие столбцы:\n",
    "- цена одного квадратного метра;\n",
    "- день недели публикации объявления (0 — понедельник, 1 — вторник и так далее);\n",
    "- месяц публикации объявления;\n",
    "- год публикации объявления;\n",
    "- тип этажа квартиры (значения — «‎первый», «последний», «другой»);\n",
    "- расстояние до центра города в километрах (переведите из м в км и округлите до целых значений)."
   ]
  },
  {
   "cell_type": "code",
   "execution_count": 210,
   "metadata": {},
   "outputs": [],
   "source": [
    "data['price_m'] = data['last_price']/data['total_area'] #цена одного квадратного метра\n"
   ]
  },
  {
   "cell_type": "code",
   "execution_count": 211,
   "metadata": {},
   "outputs": [],
   "source": [
    "#месяц и год публикации объявления\n",
    "data['weekday_exposition'] = data['first_day_exposition'].dt.weekday\n",
    "data['month_exposition'] = data['first_day_exposition'].dt.month\n",
    "data['year_exposition'] = data['first_day_exposition'].dt.year"
   ]
  },
  {
   "cell_type": "code",
   "execution_count": 212,
   "metadata": {},
   "outputs": [],
   "source": [
    "#создадим функцию, где будет указана тип этажа квартиры\n",
    "\n",
    "def floor_classification(row):\n",
    "    if row['floor'] == 1:\n",
    "        return 'первый'\n",
    "    if row['floor'] == row['floors_total']:\n",
    "        return 'последний'\n",
    "    return 'другой'     \n",
    "data['floor_category'] = data.apply(floor_classification, axis = 1)\n"
   ]
  },
  {
   "cell_type": "code",
   "execution_count": 213,
   "metadata": {},
   "outputs": [],
   "source": [
    "#расстояние до центра города в километрах\n",
    "data['cityCenters_km'] = round(data['cityCenters_nearest']/1000, 0)\n"
   ]
  },
  {
   "cell_type": "code",
   "execution_count": 214,
   "metadata": {},
   "outputs": [
    {
     "data": {
      "text/html": [
       "<div>\n",
       "<style scoped>\n",
       "    .dataframe tbody tr th:only-of-type {\n",
       "        vertical-align: middle;\n",
       "    }\n",
       "\n",
       "    .dataframe tbody tr th {\n",
       "        vertical-align: top;\n",
       "    }\n",
       "\n",
       "    .dataframe thead th {\n",
       "        text-align: right;\n",
       "    }\n",
       "</style>\n",
       "<table border=\"1\" class=\"dataframe\">\n",
       "  <thead>\n",
       "    <tr style=\"text-align: right;\">\n",
       "      <th></th>\n",
       "      <th>total_images</th>\n",
       "      <th>last_price</th>\n",
       "      <th>total_area</th>\n",
       "      <th>first_day_exposition</th>\n",
       "      <th>rooms</th>\n",
       "      <th>ceiling_height</th>\n",
       "      <th>floors_total</th>\n",
       "      <th>living_area</th>\n",
       "      <th>floor</th>\n",
       "      <th>is_apartment</th>\n",
       "      <th>...</th>\n",
       "      <th>parks_nearest</th>\n",
       "      <th>ponds_around3000</th>\n",
       "      <th>ponds_nearest</th>\n",
       "      <th>days_exposition</th>\n",
       "      <th>price_m</th>\n",
       "      <th>weekday_exposition</th>\n",
       "      <th>month_exposition</th>\n",
       "      <th>year_exposition</th>\n",
       "      <th>floor_category</th>\n",
       "      <th>cityCenters_km</th>\n",
       "    </tr>\n",
       "  </thead>\n",
       "  <tbody>\n",
       "    <tr>\n",
       "      <th>0</th>\n",
       "      <td>20</td>\n",
       "      <td>13000000.0</td>\n",
       "      <td>108.0</td>\n",
       "      <td>2019-03-07</td>\n",
       "      <td>3</td>\n",
       "      <td>2.70</td>\n",
       "      <td>16</td>\n",
       "      <td>51.0</td>\n",
       "      <td>8</td>\n",
       "      <td>True</td>\n",
       "      <td>...</td>\n",
       "      <td>460.0</td>\n",
       "      <td>2</td>\n",
       "      <td>503.0</td>\n",
       "      <td>0</td>\n",
       "      <td>120370.370370</td>\n",
       "      <td>3</td>\n",
       "      <td>3</td>\n",
       "      <td>2019</td>\n",
       "      <td>другой</td>\n",
       "      <td>16.0</td>\n",
       "    </tr>\n",
       "    <tr>\n",
       "      <th>1</th>\n",
       "      <td>7</td>\n",
       "      <td>3350000.0</td>\n",
       "      <td>40.4</td>\n",
       "      <td>2018-12-04</td>\n",
       "      <td>1</td>\n",
       "      <td>2.65</td>\n",
       "      <td>11</td>\n",
       "      <td>18.6</td>\n",
       "      <td>1</td>\n",
       "      <td>True</td>\n",
       "      <td>...</td>\n",
       "      <td>0.0</td>\n",
       "      <td>0</td>\n",
       "      <td>584.5</td>\n",
       "      <td>81</td>\n",
       "      <td>82920.792079</td>\n",
       "      <td>1</td>\n",
       "      <td>12</td>\n",
       "      <td>2018</td>\n",
       "      <td>первый</td>\n",
       "      <td>19.0</td>\n",
       "    </tr>\n",
       "    <tr>\n",
       "      <th>2</th>\n",
       "      <td>10</td>\n",
       "      <td>5196000.0</td>\n",
       "      <td>56.0</td>\n",
       "      <td>2015-08-20</td>\n",
       "      <td>2</td>\n",
       "      <td>2.65</td>\n",
       "      <td>5</td>\n",
       "      <td>34.3</td>\n",
       "      <td>4</td>\n",
       "      <td>True</td>\n",
       "      <td>...</td>\n",
       "      <td>460.0</td>\n",
       "      <td>2</td>\n",
       "      <td>503.0</td>\n",
       "      <td>558</td>\n",
       "      <td>92785.714286</td>\n",
       "      <td>3</td>\n",
       "      <td>8</td>\n",
       "      <td>2015</td>\n",
       "      <td>другой</td>\n",
       "      <td>14.0</td>\n",
       "    </tr>\n",
       "    <tr>\n",
       "      <th>3</th>\n",
       "      <td>0</td>\n",
       "      <td>64900000.0</td>\n",
       "      <td>159.0</td>\n",
       "      <td>2015-07-24</td>\n",
       "      <td>3</td>\n",
       "      <td>2.65</td>\n",
       "      <td>14</td>\n",
       "      <td>30.0</td>\n",
       "      <td>9</td>\n",
       "      <td>True</td>\n",
       "      <td>...</td>\n",
       "      <td>460.0</td>\n",
       "      <td>3</td>\n",
       "      <td>503.0</td>\n",
       "      <td>424</td>\n",
       "      <td>408176.100629</td>\n",
       "      <td>4</td>\n",
       "      <td>7</td>\n",
       "      <td>2015</td>\n",
       "      <td>другой</td>\n",
       "      <td>7.0</td>\n",
       "    </tr>\n",
       "    <tr>\n",
       "      <th>4</th>\n",
       "      <td>2</td>\n",
       "      <td>10000000.0</td>\n",
       "      <td>100.0</td>\n",
       "      <td>2018-06-19</td>\n",
       "      <td>2</td>\n",
       "      <td>3.03</td>\n",
       "      <td>14</td>\n",
       "      <td>32.0</td>\n",
       "      <td>13</td>\n",
       "      <td>True</td>\n",
       "      <td>...</td>\n",
       "      <td>460.0</td>\n",
       "      <td>1</td>\n",
       "      <td>503.0</td>\n",
       "      <td>121</td>\n",
       "      <td>100000.000000</td>\n",
       "      <td>1</td>\n",
       "      <td>6</td>\n",
       "      <td>2018</td>\n",
       "      <td>другой</td>\n",
       "      <td>8.0</td>\n",
       "    </tr>\n",
       "  </tbody>\n",
       "</table>\n",
       "<p>5 rows × 28 columns</p>\n",
       "</div>"
      ],
      "text/plain": [
       "   total_images  last_price  total_area first_day_exposition  rooms  \\\n",
       "0            20  13000000.0       108.0           2019-03-07      3   \n",
       "1             7   3350000.0        40.4           2018-12-04      1   \n",
       "2            10   5196000.0        56.0           2015-08-20      2   \n",
       "3             0  64900000.0       159.0           2015-07-24      3   \n",
       "4             2  10000000.0       100.0           2018-06-19      2   \n",
       "\n",
       "   ceiling_height  floors_total  living_area  floor  is_apartment  ...  \\\n",
       "0            2.70            16         51.0      8          True  ...   \n",
       "1            2.65            11         18.6      1          True  ...   \n",
       "2            2.65             5         34.3      4          True  ...   \n",
       "3            2.65            14         30.0      9          True  ...   \n",
       "4            3.03            14         32.0     13          True  ...   \n",
       "\n",
       "   parks_nearest  ponds_around3000  ponds_nearest  days_exposition  \\\n",
       "0          460.0                 2          503.0                0   \n",
       "1            0.0                 0          584.5               81   \n",
       "2          460.0                 2          503.0              558   \n",
       "3          460.0                 3          503.0              424   \n",
       "4          460.0                 1          503.0              121   \n",
       "\n",
       "         price_m  weekday_exposition  month_exposition  year_exposition  \\\n",
       "0  120370.370370                   3                 3             2019   \n",
       "1   82920.792079                   1                12             2018   \n",
       "2   92785.714286                   3                 8             2015   \n",
       "3  408176.100629                   4                 7             2015   \n",
       "4  100000.000000                   1                 6             2018   \n",
       "\n",
       "   floor_category  cityCenters_km  \n",
       "0          другой            16.0  \n",
       "1          первый            19.0  \n",
       "2          другой            14.0  \n",
       "3          другой             7.0  \n",
       "4          другой             8.0  \n",
       "\n",
       "[5 rows x 28 columns]"
      ]
     },
     "execution_count": 214,
     "metadata": {},
     "output_type": "execute_result"
    }
   ],
   "source": [
    "data.head()"
   ]
  },
  {
   "cell_type": "markdown",
   "metadata": {},
   "source": [
    "Все столбцы, которые хотели добавить, на месте. \n"
   ]
  },
  {
   "cell_type": "markdown",
   "metadata": {},
   "source": [
    "# 4. Проведем исследовательский анализ данных"
   ]
  },
  {
   "cell_type": "markdown",
   "metadata": {},
   "source": [
    " Изучим следующие параметры объектов:\n",
    "- общая площадь;\n",
    "- жилая площадь;\n",
    "- площадь кухни;\n",
    "- цена объекта;\n",
    "- количество комнат;\n",
    "- высота потолков;\n",
    "- этаж квартиры;\n",
    "- тип этажа квартиры («первый», «последний», «другой»);\n",
    "- общее количество этажей в доме;\n",
    "- расстояние до центра города в метрах;\n",
    "- расстояние до ближайшего аэропорта;\n",
    "- расстояние до ближайшего парка;\n",
    "- день и месяц публикации объявления.\n"
   ]
  },
  {
   "cell_type": "code",
   "execution_count": 215,
   "metadata": {},
   "outputs": [
    {
     "data": {
      "image/png": "[encoded data removed]",
      "text/plain": [
       "<Figure size 720x360 with 1 Axes>"
      ]
     },
     "metadata": {
      "needs_background": "light"
     },
     "output_type": "display_data"
    }
   ],
   "source": [
    "# гистограмма общая площадь\n",
    "data.hist('total_area', bins=100, range=(0,500), figsize=(10,5))\n",
    "plt.title('Общая площадь')\n",
    "plt.xlabel('Площадь')\n",
    "plt.ylabel('Количество')\n",
    "plt.show()"
   ]
  },
  {
   "cell_type": "markdown",
   "metadata": {},
   "source": [
    "По гистограмме видно, что основную долю рынка занимают квартиры с площадью около 50 и до 100 кв.м. "
   ]
  },
  {
   "cell_type": "code",
   "execution_count": 216,
   "metadata": {},
   "outputs": [
    {
     "data": {
      "image/png": "[encoded data removed]",
      "text/plain": [
       "<Figure size 720x360 with 1 Axes>"
      ]
     },
     "metadata": {
      "needs_background": "light"
     },
     "output_type": "display_data"
    }
   ],
   "source": [
    "# гистограмма жилая площадь\n",
    "data.hist('living_area', bins=100, range=(0,100), figsize=(10,5))\n",
    "plt.title('Жилая площадь')\n",
    "plt.xlabel('Площадь')\n",
    "plt.ylabel('Количество')\n",
    "plt.show()"
   ]
  },
  {
   "cell_type": "markdown",
   "metadata": {},
   "source": [
    "На гистограмме можно заметить 2 пика - около 18-19 кв. метров и около 30 кв. метров. Предположительно, это вызвано тем, что основную долю рынка составляют одно- и двухкомнатные квартиры. Также здесь на первый пик могли оказать влияние и студии, поскольку их жилая площадь в среднем как раз близка к 20 кв. метрам."
   ]
  },
  {
   "cell_type": "code",
   "execution_count": 217,
   "metadata": {},
   "outputs": [
    {
     "data": {
      "image/png": "[encoded data removed]",
      "text/plain": [
       "<Figure size 720x360 with 1 Axes>"
      ]
     },
     "metadata": {
      "needs_background": "light"
     },
     "output_type": "display_data"
    }
   ],
   "source": [
    "# гистограмма площадь кухни\n",
    "data.hist('kitchen_area', bins=50, range=(0,50), figsize=(10,5))\n",
    "plt.title('Площадь кухни')\n",
    "plt.xlabel('Площадь')\n",
    "plt.ylabel('Количество')\n",
    "plt.show()"
   ]
  },
  {
   "cell_type": "markdown",
   "metadata": {},
   "source": [
    "Площадь кухни в основном составляет 5-10 кв.м., что  соответствует среднестатистическим квартирам."
   ]
  },
  {
   "cell_type": "code",
   "execution_count": 218,
   "metadata": {},
   "outputs": [
    {
     "data": {
      "image/png": "[encoded data removed]",
      "text/plain": [
       "<Figure size 720x360 with 1 Axes>"
      ]
     },
     "metadata": {
      "needs_background": "light"
     },
     "output_type": "display_data"
    }
   ],
   "source": [
    "# гистограмма цена объекта\n",
    "data.hist('last_price', bins=100, range=(0,80000000), figsize=(10,5))\n",
    "plt.title('Цена объекта')\n",
    "plt.xlabel('Количество')\n",
    "plt.ylabel('Цена')\n",
    "plt.show()"
   ]
  },
  {
   "cell_type": "markdown",
   "metadata": {},
   "source": [
    "Цены на квартиры составляют в среднем 3,5-4 млн.руб."
   ]
  },
  {
   "cell_type": "code",
   "execution_count": 219,
   "metadata": {},
   "outputs": [
    {
     "data": {
      "image/png": "[encoded data removed]",
      "text/plain": [
       "<Figure size 720x360 with 1 Axes>"
      ]
     },
     "metadata": {
      "needs_background": "light"
     },
     "output_type": "display_data"
    }
   ],
   "source": [
    "# гистограмма количество комнат\n",
    "data.hist('rooms', bins=20, figsize=(10,5))\n",
    "plt.title('Количество комнат')\n",
    "plt.xlabel('Количество комнат')\n",
    "plt.ylabel('Количество')\n",
    "plt.show()"
   ]
  },
  {
   "cell_type": "markdown",
   "metadata": {},
   "source": [
    "Основную долю объявлений составляют одно- и двухкомнатные квартиры (около 8000 объявлений каждая). Трехкомнатных квартир уже меньше - около 6000 объявлений. Четырехкомнатных квартир тоже немало - чуть более 1000 объявлений. Остальные квартиры представлены уже крайне редко."
   ]
  },
  {
   "cell_type": "code",
   "execution_count": 220,
   "metadata": {},
   "outputs": [
    {
     "data": {
      "image/png": "[encoded data removed]",
      "text/plain": [
       "<Figure size 720x360 with 1 Axes>"
      ]
     },
     "metadata": {
      "needs_background": "light"
     },
     "output_type": "display_data"
    }
   ],
   "source": [
    "# гистограмма высота потолков\n",
    "data.hist('ceiling_height', bins=20, figsize=(10,5))\n",
    "plt.title('Высота потолков')\n",
    "plt.xlabel('Высота')\n",
    "plt.ylabel('Количество')\n",
    "plt.show()"
   ]
  },
  {
   "cell_type": "markdown",
   "metadata": {},
   "source": [
    "Здесь ничего необычного. Основная часть квартир с высотой потолков от 2,5 до 3 метров"
   ]
  },
  {
   "cell_type": "code",
   "execution_count": 221,
   "metadata": {},
   "outputs": [
    {
     "data": {
      "image/png": "[encoded data removed]",
      "text/plain": [
       "<Figure size 720x360 with 1 Axes>"
      ]
     },
     "metadata": {
      "needs_background": "light"
     },
     "output_type": "display_data"
    }
   ],
   "source": [
    "# гистограмма этаж квартиры\n",
    "data.hist('floor', bins=50, figsize=(10,5))\n",
    "plt.title('Этаж квартиры')\n",
    "plt.xlabel('Этаж')\n",
    "plt.ylabel('Количество')\n",
    "plt.show()"
   ]
  },
  {
   "cell_type": "markdown",
   "metadata": {},
   "source": [
    "Большая часть продаваемых квартир находится с 1 по 5 этаж"
   ]
  },
  {
   "cell_type": "code",
   "execution_count": 222,
   "metadata": {},
   "outputs": [
    {
     "data": {
      "text/plain": [
       "другой       17446\n",
       "последний     3336\n",
       "первый        2917\n",
       "Name: floor_category, dtype: int64"
      ]
     },
     "execution_count": 222,
     "metadata": {},
     "output_type": "execute_result"
    }
   ],
   "source": [
    "#оценка типа этажа квартиры\n",
    "data['floor_category'].value_counts()"
   ]
  },
  {
   "cell_type": "markdown",
   "metadata": {},
   "source": [
    "Здесь можно не строить гистограмму метод value_counts() посчитал уникальные значения в столбце. В основном продаются квартиры, расположенные не на крайних этажах. "
   ]
  },
  {
   "cell_type": "code",
   "execution_count": 223,
   "metadata": {},
   "outputs": [
    {
     "data": {
      "image/png": "[encoded data removed]",
      "text/plain": [
       "<Figure size 720x360 with 1 Axes>"
      ]
     },
     "metadata": {
      "needs_background": "light"
     },
     "output_type": "display_data"
    }
   ],
   "source": [
    "# общее количество этажей в доме\n",
    "data.hist('floors_total', bins=50, range=(0,40), figsize=(10,5))\n",
    "plt.title('Общее количество этажей в доме')\n",
    "plt.xlabel('Этаж')\n",
    "plt.ylabel('Количество')\n",
    "plt.show()"
   ]
  },
  {
   "cell_type": "markdown",
   "metadata": {},
   "source": [
    "Пятиэтажных домов гораздо больше всего в объявлениях, чем всех остальных. Далее следуют девятиэтажные дома. Остальные дома представлены менее широко."
   ]
  },
  {
   "cell_type": "code",
   "execution_count": 224,
   "metadata": {},
   "outputs": [
    {
     "data": {
      "image/png": "[encoded data removed]",
      "text/plain": [
       "<Figure size 720x360 with 1 Axes>"
      ]
     },
     "metadata": {
      "needs_background": "light"
     },
     "output_type": "display_data"
    }
   ],
   "source": [
    "# расстояние до центра города в метрах\n",
    "data.hist('cityCenters_nearest', bins=50, range=(0,40000), figsize=(10,5))\n",
    "plt.title('Расстояние до центра города в метрах')\n",
    "plt.xlabel('Расстояние')\n",
    "plt.ylabel('Количество')\n",
    "plt.show()"
   ]
  },
  {
   "cell_type": "markdown",
   "metadata": {},
   "source": [
    "Здесь мы имеем несколько пиков разной степени выраженности:\n",
    "\n",
    "На этой гистограмме видим, что в основном квартиры продаются с удаленностью около 10000 до 18000 метров до центра города. Есть выраженный пик, который возник в результате заполнения пропусков медианным значением."
   ]
  },
  {
   "cell_type": "code",
   "execution_count": 225,
   "metadata": {},
   "outputs": [
    {
     "data": {
      "image/png": "[encoded data removed]",
      "text/plain": [
       "<Figure size 720x360 with 1 Axes>"
      ]
     },
     "metadata": {
      "needs_background": "light"
     },
     "output_type": "display_data"
    }
   ],
   "source": [
    "# расстояние до ближайшего аэропорта\n",
    "data.hist('airports_nearest', bins=50, figsize=(10,5))\n",
    "plt.title('Расстояние до ближайшего аэропорта')\n",
    "plt.xlabel('Расстояние')\n",
    "plt.ylabel('Количество')\n",
    "plt.show()"
   ]
  },
  {
   "cell_type": "markdown",
   "metadata": {},
   "source": [
    "В объявлениях квартиры продаются с удаленностью от аэропорта около 10000 и до 50000 метров. Пропуски создали пик в медиане"
   ]
  },
  {
   "cell_type": "code",
   "execution_count": 226,
   "metadata": {},
   "outputs": [
    {
     "data": {
      "image/png": "[encoded data removed]",
      "text/plain": [
       "<Figure size 720x360 with 1 Axes>"
      ]
     },
     "metadata": {
      "needs_background": "light"
     },
     "output_type": "display_data"
    }
   ],
   "source": [
    "# расстояние до ближайшего парка\n",
    "data.hist('parks_nearest', bins=50, figsize=(10,5))\n",
    "plt.title('Расстояние до ближайшего парка')\n",
    "plt.xlabel('Расстояние')\n",
    "plt.ylabel('Количество')\n",
    "plt.show()"
   ]
  },
  {
   "cell_type": "markdown",
   "metadata": {},
   "source": [
    "Расстояние до ближайщего парка приходиться на значения 400-500 метров"
   ]
  },
  {
   "cell_type": "code",
   "execution_count": 227,
   "metadata": {},
   "outputs": [
    {
     "data": {
      "image/png": "[encoded data removed]",
      "text/plain": [
       "<Figure size 720x360 with 1 Axes>"
      ]
     },
     "metadata": {
      "needs_background": "light"
     },
     "output_type": "display_data"
    }
   ],
   "source": [
    "# день публикации объявления\n",
    "data.hist('weekday_exposition', bins=7, figsize=(10,5)) \n",
    "plt.title('День публикации')\n",
    "plt.xlabel('День')\n",
    "plt.ylabel('Количество')\n",
    "plt.show()\n"
   ]
  },
  {
   "cell_type": "code",
   "execution_count": 228,
   "metadata": {},
   "outputs": [
    {
     "data": {
      "image/png": "[encoded data removed]",
      "text/plain": [
       "<Figure size 720x360 with 1 Axes>"
      ]
     },
     "metadata": {
      "needs_background": "light"
     },
     "output_type": "display_data"
    }
   ],
   "source": [
    "#месяц публикации объявления\n",
    "data.hist('month_exposition', bins=12, figsize=(10,5)) \n",
    "plt.title('Месяц публикации')\n",
    "plt.xlabel('Месяц')\n",
    "plt.ylabel('Количество')\n",
    "plt.show()"
   ]
  },
  {
   "cell_type": "markdown",
   "metadata": {},
   "source": [
    "Объявления в будние дни публикуются чаще, чем в выходные. А  вот по месяцам распределение имеет свои особенности. В январе, мае и декабре они размещались реже, чем в другие месяцы. Наибольщее число размещений приходится на февраль. Летом объявления размещаются в среднем одинаково, а в сентябре начинается рост, который достигает пика в ноябре.\n"
   ]
  },
  {
   "cell_type": "markdown",
   "metadata": {},
   "source": [
    "Изучим как быстро продавались квартиры (столбец days_exposition). Этот параметр показывает, сколько дней было размещено каждое объявление. "
   ]
  },
  {
   "cell_type": "code",
   "execution_count": 229,
   "metadata": {},
   "outputs": [
    {
     "data": {
      "image/png": "[encoded data removed]",
      "text/plain": [
       "<Figure size 720x360 with 1 Axes>"
      ]
     },
     "metadata": {
      "needs_background": "light"
     },
     "output_type": "display_data"
    }
   ],
   "source": [
    "data.hist('days_exposition', bins=200, range=(0,100), figsize=(10,5))\n",
    "plt.title('Количество дней размещения объявления')\n",
    "plt.xlabel('Дни')\n",
    "plt.ylabel('Количество')\n",
    "plt.show()"
   ]
  },
  {
   "cell_type": "code",
   "execution_count": 230,
   "metadata": {},
   "outputs": [
    {
     "data": {
      "text/plain": [
       "count    23699.000000\n",
       "mean       156.608844\n",
       "std        213.546873\n",
       "min          0.000000\n",
       "25%         22.000000\n",
       "50%         74.000000\n",
       "75%        199.000000\n",
       "max       1580.000000\n",
       "Name: days_exposition, dtype: float64"
      ]
     },
     "execution_count": 230,
     "metadata": {},
     "output_type": "execute_result"
    }
   ],
   "source": [
    "data['days_exposition'].describe() #посмотрим на параметры этого столбца"
   ]
  },
  {
   "cell_type": "markdown",
   "metadata": {},
   "source": [
    "Мадиана в этом столбце равна 74 дням. Среднее значение продажи квартиры 156 дней. Максимально долго квартиры продавались 1580 дней. 199 дней (третий квартиль этого столбца) можно считать уже долгой продажей. а вот значение быстрая продажа можно взять параметр второго квартиля. В данном случае это 22 дня.\n",
    "Много значений около нуля. Скорее всего это выбросы. Построим диаграмму размаха для оценки данных.\n",
    "Есть пики в 45, 60 и 90 дней. Это особенность размещения объявления в Яндексе. До 4,5 млн — 45 дней действует публикация, от 4,5 до 10 млн — 60 дней, от 10 млн — 90 дней."
   ]
  },
  {
   "cell_type": "code",
   "execution_count": 231,
   "metadata": {},
   "outputs": [
    {
     "data": {
      "image/png": "[encoded data removed]",
      "text/plain": [
       "<Figure size 432x288 with 1 Axes>"
      ]
     },
     "metadata": {
      "needs_background": "light"
     },
     "output_type": "display_data"
    }
   ],
   "source": [
    "data.boxplot('days_exposition')\n",
    "plt.ylabel('Количество дней')\n",
    "plt.title('Boxplot количество дней размещения')\n",
    "plt.show()"
   ]
  },
  {
   "cell_type": "markdown",
   "metadata": {},
   "source": [
    "Как видно по диаграмме действительно в данном столбце присутствуют выбросы. Часть изних возник в следствии того, что пропуски заменили значениями \"0\"."
   ]
  },
  {
   "cell_type": "markdown",
   "metadata": {},
   "source": [
    "Изучим какие факторы больше всего влияют на общую (полную) стоимость объекта?\n",
    " Построим сводную таблицу, состоящей из общей площади; жилой площади; площади кухни; количества комнат; этажа, на котором расположена квартира (первый, последний, другой); даты размещения (день недели, месяц, год).\n"
   ]
  },
  {
   "cell_type": "code",
   "execution_count": 232,
   "metadata": {},
   "outputs": [
    {
     "data": {
      "image/png": "[encoded data removed]",
      "text/plain": [
       "<Figure size 720x720 with 64 Axes>"
      ]
     },
     "metadata": {
      "needs_background": "light"
     },
     "output_type": "display_data"
    }
   ],
   "source": [
    "data_f = data.loc[:,['last_price','total_area', 'living_area', 'kitchen_area', 'rooms', 'floor_category', 'weekday_exposition', 'month_exposition', 'year_exposition']]\n",
    "pd.plotting.scatter_matrix(data_f, figsize=(10, 10));"
   ]
  },
  {
   "cell_type": "code",
   "execution_count": 233,
   "metadata": {
    "scrolled": true
   },
   "outputs": [
    {
     "data": {
      "text/plain": [
       "'Корреляция между last_price и total_area составляет: 0.65'"
      ]
     },
     "metadata": {},
     "output_type": "display_data"
    },
    {
     "data": {
      "text/plain": [
       "'Корреляция между last_price и living_area составляет: 0.54'"
      ]
     },
     "metadata": {},
     "output_type": "display_data"
    },
    {
     "data": {
      "text/plain": [
       "'Корреляция между last_price и kitchen_area составляет: 0.44'"
      ]
     },
     "metadata": {},
     "output_type": "display_data"
    },
    {
     "data": {
      "text/plain": [
       "'Корреляция между last_price и rooms составляет: 0.36'"
      ]
     },
     "metadata": {},
     "output_type": "display_data"
    }
   ],
   "source": [
    "#считаем корреляцию\n",
    "data_corr=['total_area', 'living_area', 'kitchen_area', 'rooms']\n",
    "for d in data_corr:\n",
    "    corr=data['last_price'].corr(data[d])\n",
    "    display(f'Корреляция между last_price и {d} составляет: {corr:0.2}')"
   ]
  },
  {
   "cell_type": "markdown",
   "metadata": {},
   "source": [
    "Из графиков и коэффицентов корреляции видно, что больше всего влияет на стоимость объекта общая площадь квартиры. Корреляция составляет 0,65. С ростом площади и количества комнат, растет и стоимость. График зависимости 'last_price' от 'total_area' подтверждает зависимость стоимости недвижимости от ее общей площади. Остальные факторы не оказывают существенного влияния на стоимость.\n"
   ]
  },
  {
   "cell_type": "markdown",
   "metadata": {},
   "source": [
    "Посчитаем среднюю цену одного квадратного метра в 10 населённых пунктах с наибольшим числом объявлений. Выделим населённые пункты с самой высокой и низкой стоимостью квадратного метра."
   ]
  },
  {
   "cell_type": "code",
   "execution_count": 234,
   "metadata": {},
   "outputs": [
    {
     "data": {
      "text/html": [
       "<div>\n",
       "<style scoped>\n",
       "    .dataframe tbody tr th:only-of-type {\n",
       "        vertical-align: middle;\n",
       "    }\n",
       "\n",
       "    .dataframe tbody tr th {\n",
       "        vertical-align: top;\n",
       "    }\n",
       "\n",
       "    .dataframe thead th {\n",
       "        text-align: right;\n",
       "    }\n",
       "</style>\n",
       "<table border=\"1\" class=\"dataframe\">\n",
       "  <thead>\n",
       "    <tr style=\"text-align: right;\">\n",
       "      <th></th>\n",
       "      <th>count</th>\n",
       "      <th>mean</th>\n",
       "    </tr>\n",
       "    <tr>\n",
       "      <th>locality_name</th>\n",
       "      <th></th>\n",
       "      <th></th>\n",
       "    </tr>\n",
       "  </thead>\n",
       "  <tbody>\n",
       "    <tr>\n",
       "      <th>Санкт-Петербург</th>\n",
       "      <td>15721</td>\n",
       "      <td>114849.008794</td>\n",
       "    </tr>\n",
       "    <tr>\n",
       "      <th>Мурино</th>\n",
       "      <td>590</td>\n",
       "      <td>86087.512050</td>\n",
       "    </tr>\n",
       "    <tr>\n",
       "      <th>Кудрово</th>\n",
       "      <td>472</td>\n",
       "      <td>95324.930544</td>\n",
       "    </tr>\n",
       "    <tr>\n",
       "      <th>Шушары</th>\n",
       "      <td>440</td>\n",
       "      <td>78677.364217</td>\n",
       "    </tr>\n",
       "    <tr>\n",
       "      <th>Всеволожск</th>\n",
       "      <td>398</td>\n",
       "      <td>68654.473986</td>\n",
       "    </tr>\n",
       "    <tr>\n",
       "      <th>Пушкин</th>\n",
       "      <td>369</td>\n",
       "      <td>103125.819291</td>\n",
       "    </tr>\n",
       "    <tr>\n",
       "      <th>Колпино</th>\n",
       "      <td>338</td>\n",
       "      <td>75424.579098</td>\n",
       "    </tr>\n",
       "    <tr>\n",
       "      <th>Парголово</th>\n",
       "      <td>327</td>\n",
       "      <td>90175.913458</td>\n",
       "    </tr>\n",
       "    <tr>\n",
       "      <th>Гатчина</th>\n",
       "      <td>307</td>\n",
       "      <td>68746.146763</td>\n",
       "    </tr>\n",
       "    <tr>\n",
       "      <th>Выборг</th>\n",
       "      <td>237</td>\n",
       "      <td>58141.909153</td>\n",
       "    </tr>\n",
       "  </tbody>\n",
       "</table>\n",
       "</div>"
      ],
      "text/plain": [
       "                 count           mean\n",
       "locality_name                        \n",
       "Санкт-Петербург  15721  114849.008794\n",
       "Мурино             590   86087.512050\n",
       "Кудрово            472   95324.930544\n",
       "Шушары             440   78677.364217\n",
       "Всеволожск         398   68654.473986\n",
       "Пушкин             369  103125.819291\n",
       "Колпино            338   75424.579098\n",
       "Парголово          327   90175.913458\n",
       "Гатчина            307   68746.146763\n",
       "Выборг             237   58141.909153"
      ]
     },
     "execution_count": 234,
     "metadata": {},
     "output_type": "execute_result"
    }
   ],
   "source": [
    "locality_top = data.pivot_table(index='locality_name', values='price_m', aggfunc=[ 'count','mean'])\n",
    "locality_top.columns = ['count','mean']\n",
    "#создаем список из верхних топ-10 городов\n",
    "locality_top.sort_values(by='count', ascending=False).head(10)"
   ]
  },
  {
   "cell_type": "markdown",
   "metadata": {},
   "source": [
    "Самая высокая стоимость жилья в Санкт-Петербурге, а низкая в Выборге."
   ]
  },
  {
   "cell_type": "markdown",
   "metadata": {},
   "source": [
    "Выделим квартиры в Санкт-Петербурге с помощью столбца locality_name и вычислим среднюю цену каждого километра. "
   ]
  },
  {
   "cell_type": "code",
   "execution_count": 235,
   "metadata": {},
   "outputs": [
    {
     "data": {
      "text/html": [
       "<div>\n",
       "<style scoped>\n",
       "    .dataframe tbody tr th:only-of-type {\n",
       "        vertical-align: middle;\n",
       "    }\n",
       "\n",
       "    .dataframe tbody tr th {\n",
       "        vertical-align: top;\n",
       "    }\n",
       "\n",
       "    .dataframe thead th {\n",
       "        text-align: right;\n",
       "    }\n",
       "</style>\n",
       "<table border=\"1\" class=\"dataframe\">\n",
       "  <thead>\n",
       "    <tr style=\"text-align: right;\">\n",
       "      <th></th>\n",
       "      <th>last_price</th>\n",
       "      <th>last_price_mln</th>\n",
       "    </tr>\n",
       "    <tr>\n",
       "      <th>cityCenters_km</th>\n",
       "      <th></th>\n",
       "      <th></th>\n",
       "    </tr>\n",
       "  </thead>\n",
       "  <tbody>\n",
       "    <tr>\n",
       "      <th>0.0</th>\n",
       "      <td>3.144912e+07</td>\n",
       "      <td>31.449116</td>\n",
       "    </tr>\n",
       "    <tr>\n",
       "      <th>1.0</th>\n",
       "      <td>2.120672e+07</td>\n",
       "      <td>21.206721</td>\n",
       "    </tr>\n",
       "    <tr>\n",
       "      <th>2.0</th>\n",
       "      <td>1.778832e+07</td>\n",
       "      <td>17.788320</td>\n",
       "    </tr>\n",
       "    <tr>\n",
       "      <th>3.0</th>\n",
       "      <td>1.112658e+07</td>\n",
       "      <td>11.126581</td>\n",
       "    </tr>\n",
       "    <tr>\n",
       "      <th>4.0</th>\n",
       "      <td>1.330428e+07</td>\n",
       "      <td>13.304280</td>\n",
       "    </tr>\n",
       "    <tr>\n",
       "      <th>5.0</th>\n",
       "      <td>1.449912e+07</td>\n",
       "      <td>14.499121</td>\n",
       "    </tr>\n",
       "    <tr>\n",
       "      <th>6.0</th>\n",
       "      <td>1.533842e+07</td>\n",
       "      <td>15.338418</td>\n",
       "    </tr>\n",
       "    <tr>\n",
       "      <th>7.0</th>\n",
       "      <td>1.477515e+07</td>\n",
       "      <td>14.775153</td>\n",
       "    </tr>\n",
       "    <tr>\n",
       "      <th>8.0</th>\n",
       "      <td>9.957717e+06</td>\n",
       "      <td>9.957717</td>\n",
       "    </tr>\n",
       "    <tr>\n",
       "      <th>9.0</th>\n",
       "      <td>6.950659e+06</td>\n",
       "      <td>6.950659</td>\n",
       "    </tr>\n",
       "    <tr>\n",
       "      <th>10.0</th>\n",
       "      <td>6.504119e+06</td>\n",
       "      <td>6.504119</td>\n",
       "    </tr>\n",
       "    <tr>\n",
       "      <th>11.0</th>\n",
       "      <td>6.250815e+06</td>\n",
       "      <td>6.250815</td>\n",
       "    </tr>\n",
       "    <tr>\n",
       "      <th>12.0</th>\n",
       "      <td>5.828545e+06</td>\n",
       "      <td>5.828545</td>\n",
       "    </tr>\n",
       "    <tr>\n",
       "      <th>13.0</th>\n",
       "      <td>6.469319e+06</td>\n",
       "      <td>6.469319</td>\n",
       "    </tr>\n",
       "    <tr>\n",
       "      <th>14.0</th>\n",
       "      <td>5.629101e+06</td>\n",
       "      <td>5.629101</td>\n",
       "    </tr>\n",
       "  </tbody>\n",
       "</table>\n",
       "</div>"
      ],
      "text/plain": [
       "                  last_price  last_price_mln\n",
       "cityCenters_km                              \n",
       "0.0             3.144912e+07       31.449116\n",
       "1.0             2.120672e+07       21.206721\n",
       "2.0             1.778832e+07       17.788320\n",
       "3.0             1.112658e+07       11.126581\n",
       "4.0             1.330428e+07       13.304280\n",
       "5.0             1.449912e+07       14.499121\n",
       "6.0             1.533842e+07       15.338418\n",
       "7.0             1.477515e+07       14.775153\n",
       "8.0             9.957717e+06        9.957717\n",
       "9.0             6.950659e+06        6.950659\n",
       "10.0            6.504119e+06        6.504119\n",
       "11.0            6.250815e+06        6.250815\n",
       "12.0            5.828545e+06        5.828545\n",
       "13.0            6.469319e+06        6.469319\n",
       "14.0            5.629101e+06        5.629101"
      ]
     },
     "execution_count": 235,
     "metadata": {},
     "output_type": "execute_result"
    }
   ],
   "source": [
    "locality_spb1 = data.query('locality_name == \"Санкт-Петербург\"')\n",
    "locality_spb =locality_spb1.pivot_table(index='cityCenters_km', values='last_price', aggfunc='mean')\n",
    "locality_spb['last_price_mln']=locality_spb['last_price']/1000000\n",
    "locality_spb.head(15)"
   ]
  },
  {
   "cell_type": "code",
   "execution_count": 236,
   "metadata": {},
   "outputs": [
    {
     "data": {
      "image/png": "[encoded data removed]",
      "text/plain": [
       "<Figure size 432x288 with 1 Axes>"
      ]
     },
     "metadata": {
      "needs_background": "light"
     },
     "output_type": "display_data"
    }
   ],
   "source": [
    "locality_spb['last_price_mln'].plot(grid=True)\n",
    "plt.xlabel('Расстояние до центра')\n",
    "plt.ylabel('Цена')\n",
    "plt.title('Цена квартиры в зависимости от расстояния до центра')\n",
    "plt.show()"
   ]
  },
  {
   "cell_type": "markdown",
   "metadata": {},
   "source": [
    "Cамые дорогие квартиры находятся на расстоянии до 3 км от центра. Далее цена снижается и только на растоянии 6-7км и 26км есть небольшой пик. "
   ]
  },
  {
   "cell_type": "markdown",
   "metadata": {},
   "source": [
    "# 5. Общий вывод"
   ]
  },
  {
   "cell_type": "markdown",
   "metadata": {},
   "source": [
    "Была проделана большая работа, в ходе которой на начальном этапе была проведена подготовка данных: устранены пропущенные значения, изменены типы данных, удалены дубликаты, найдены и устранены аномалии. Затем для анализа данных были добавленны необходимые столбцы и построены различные графики.\n",
    "Исследование показало, что основную долю рынка составляют одно- и двухкомнатные квартиры площадью от 30 до 50 кв.м..Большую часть рынка составляют пяти- и девятиэтажные дома. Средняя стоимость жилья на рынке находится в промежутке от 3,5 до 4 млн. рублей и главным фактором, влияющим на стоимость объекта недвижимости, является общая площадь. Самое дорогое жилье располагается в Санкт-Петербурге, а самое дешевое в Выборге. Квартиры продаются в среднем за 3 месяца.  \n",
    "\n"
   ]
  },
  {
   "cell_type": "code",
   "execution_count": null,
   "metadata": {},
   "outputs": [],
   "source": []
  }
 ],
 "metadata": {
  "ExecuteTimeLog": [
   {
    "duration": 537,
    "start_time": "2023-05-24T08:23:55.458Z"
   },
   {
    "duration": 88,
    "start_time": "2023-05-24T08:24:25.185Z"
   },
   {
    "duration": 84,
    "start_time": "2023-05-24T08:25:05.795Z"
   },
   {
    "duration": 89,
    "start_time": "2023-05-24T08:37:00.306Z"
   },
   {
    "duration": 107,
    "start_time": "2023-05-24T08:38:56.467Z"
   },
   {
    "duration": 67,
    "start_time": "2023-05-24T08:39:12.674Z"
   },
   {
    "duration": 69,
    "start_time": "2023-05-24T08:43:26.966Z"
   },
   {
    "duration": 86,
    "start_time": "2023-05-24T08:43:51.596Z"
   },
   {
    "duration": 557,
    "start_time": "2023-05-24T08:44:18.480Z"
   },
   {
    "duration": 87,
    "start_time": "2023-05-24T08:44:25.462Z"
   },
   {
    "duration": 84,
    "start_time": "2023-05-24T08:44:44.526Z"
   },
   {
    "duration": 87,
    "start_time": "2023-05-24T08:44:52.883Z"
   },
   {
    "duration": 87,
    "start_time": "2023-05-24T08:45:35.348Z"
   },
   {
    "duration": 7,
    "start_time": "2023-05-24T08:46:26.886Z"
   },
   {
    "duration": 92,
    "start_time": "2023-05-24T08:46:35.294Z"
   },
   {
    "duration": 94,
    "start_time": "2023-05-24T08:46:59.766Z"
   },
   {
    "duration": 125,
    "start_time": "2023-05-24T08:47:09.478Z"
   },
   {
    "duration": 118,
    "start_time": "2023-05-24T08:50:51.766Z"
   },
   {
    "duration": 100,
    "start_time": "2023-05-24T08:51:09.962Z"
   },
   {
    "duration": 110,
    "start_time": "2023-05-24T08:51:25.154Z"
   },
   {
    "duration": 16,
    "start_time": "2023-05-24T08:52:49.378Z"
   },
   {
    "duration": 2403,
    "start_time": "2023-05-24T09:01:40.473Z"
   },
   {
    "duration": 4021,
    "start_time": "2023-05-24T09:02:23.854Z"
   },
   {
    "duration": 3056,
    "start_time": "2023-05-24T09:02:38.877Z"
   },
   {
    "duration": 2464,
    "start_time": "2023-05-24T09:02:54.369Z"
   },
   {
    "duration": 2061,
    "start_time": "2023-05-24T09:03:31.193Z"
   },
   {
    "duration": 10,
    "start_time": "2023-05-24T09:17:32.270Z"
   },
   {
    "duration": 11,
    "start_time": "2023-05-24T09:19:36.495Z"
   },
   {
    "duration": 115,
    "start_time": "2023-05-24T09:43:01.969Z"
   },
   {
    "duration": 119,
    "start_time": "2023-05-24T09:43:15.671Z"
   },
   {
    "duration": 131,
    "start_time": "2023-05-24T09:45:00.398Z"
   },
   {
    "duration": 116,
    "start_time": "2023-05-24T09:45:32.207Z"
   },
   {
    "duration": 151,
    "start_time": "2023-05-24T09:45:49.165Z"
   },
   {
    "duration": 111,
    "start_time": "2023-05-24T09:46:22.121Z"
   },
   {
    "duration": 58,
    "start_time": "2023-05-25T06:23:00.271Z"
   },
   {
    "duration": 2,
    "start_time": "2023-05-25T06:23:02.501Z"
   },
   {
    "duration": 7,
    "start_time": "2023-05-25T06:23:03.134Z"
   },
   {
    "duration": 7,
    "start_time": "2023-05-25T06:23:08.470Z"
   },
   {
    "duration": 655,
    "start_time": "2023-05-25T06:23:23.813Z"
   },
   {
    "duration": 109,
    "start_time": "2023-05-25T06:23:24.470Z"
   },
   {
    "duration": 20,
    "start_time": "2023-05-25T06:23:24.580Z"
   },
   {
    "duration": 2757,
    "start_time": "2023-05-25T06:23:24.602Z"
   },
   {
    "duration": 14,
    "start_time": "2023-05-25T06:23:27.361Z"
   },
   {
    "duration": 140,
    "start_time": "2023-05-25T06:42:48.859Z"
   },
   {
    "duration": 5,
    "start_time": "2023-05-25T07:20:03.802Z"
   },
   {
    "duration": 9,
    "start_time": "2023-05-25T07:20:48.753Z"
   },
   {
    "duration": 9,
    "start_time": "2023-05-25T07:23:50.593Z"
   },
   {
    "duration": 95,
    "start_time": "2023-05-25T07:27:50.755Z"
   },
   {
    "duration": 7,
    "start_time": "2023-05-25T07:33:28.603Z"
   },
   {
    "duration": 6,
    "start_time": "2023-05-25T07:33:43.853Z"
   },
   {
    "duration": 2,
    "start_time": "2023-05-25T08:24:41.430Z"
   },
   {
    "duration": 2,
    "start_time": "2023-05-25T08:28:34.977Z"
   },
   {
    "duration": 539,
    "start_time": "2023-05-26T02:12:05.140Z"
   },
   {
    "duration": 105,
    "start_time": "2023-05-26T02:12:05.681Z"
   },
   {
    "duration": 14,
    "start_time": "2023-05-26T02:12:05.787Z"
   },
   {
    "duration": 2320,
    "start_time": "2023-05-26T02:12:05.803Z"
   },
   {
    "duration": 9,
    "start_time": "2023-05-26T02:12:08.125Z"
   },
   {
    "duration": 13,
    "start_time": "2023-05-26T02:12:08.135Z"
   },
   {
    "duration": 10,
    "start_time": "2023-05-26T02:12:08.149Z"
   },
   {
    "duration": 74,
    "start_time": "2023-05-26T02:12:08.160Z"
   },
   {
    "duration": 0,
    "start_time": "2023-05-26T02:12:08.236Z"
   },
   {
    "duration": 0,
    "start_time": "2023-05-26T02:12:08.238Z"
   },
   {
    "duration": 0,
    "start_time": "2023-05-26T02:12:08.239Z"
   },
   {
    "duration": 0,
    "start_time": "2023-05-26T02:12:08.240Z"
   },
   {
    "duration": 9,
    "start_time": "2023-05-26T02:12:20.342Z"
   },
   {
    "duration": 6,
    "start_time": "2023-05-26T02:14:19.953Z"
   },
   {
    "duration": 25,
    "start_time": "2023-05-26T02:17:26.811Z"
   },
   {
    "duration": 13,
    "start_time": "2023-05-26T02:28:58.512Z"
   },
   {
    "duration": 28,
    "start_time": "2023-05-26T02:29:20.206Z"
   },
   {
    "duration": 15,
    "start_time": "2023-05-26T02:32:38.537Z"
   },
   {
    "duration": 82,
    "start_time": "2023-05-26T02:50:00.262Z"
   },
   {
    "duration": 74,
    "start_time": "2023-05-26T02:51:37.767Z"
   },
   {
    "duration": 147,
    "start_time": "2023-05-26T02:52:00.230Z"
   },
   {
    "duration": 148,
    "start_time": "2023-05-26T02:52:10.389Z"
   },
   {
    "duration": 154,
    "start_time": "2023-05-26T02:53:26.259Z"
   },
   {
    "duration": 489,
    "start_time": "2023-05-26T02:53:45.036Z"
   },
   {
    "duration": 112,
    "start_time": "2023-05-26T02:53:45.527Z"
   },
   {
    "duration": 14,
    "start_time": "2023-05-26T02:53:45.641Z"
   },
   {
    "duration": 2166,
    "start_time": "2023-05-26T02:53:45.657Z"
   },
   {
    "duration": 10,
    "start_time": "2023-05-26T02:53:47.824Z"
   },
   {
    "duration": 6,
    "start_time": "2023-05-26T02:53:47.836Z"
   },
   {
    "duration": 10,
    "start_time": "2023-05-26T02:53:47.844Z"
   },
   {
    "duration": 73,
    "start_time": "2023-05-26T02:53:47.856Z"
   },
   {
    "duration": 0,
    "start_time": "2023-05-26T02:53:47.930Z"
   },
   {
    "duration": 0,
    "start_time": "2023-05-26T02:53:47.932Z"
   },
   {
    "duration": 0,
    "start_time": "2023-05-26T02:53:47.933Z"
   },
   {
    "duration": 0,
    "start_time": "2023-05-26T02:53:47.934Z"
   },
   {
    "duration": 0,
    "start_time": "2023-05-26T02:53:47.935Z"
   },
   {
    "duration": 7,
    "start_time": "2023-05-26T02:54:24.747Z"
   },
   {
    "duration": 7,
    "start_time": "2023-05-26T02:54:34.264Z"
   },
   {
    "duration": 170,
    "start_time": "2023-05-26T02:54:54.409Z"
   },
   {
    "duration": 188,
    "start_time": "2023-05-26T02:56:08.776Z"
   },
   {
    "duration": 179,
    "start_time": "2023-05-26T02:56:33.275Z"
   },
   {
    "duration": 184,
    "start_time": "2023-05-26T02:56:56.968Z"
   },
   {
    "duration": 182,
    "start_time": "2023-05-26T02:57:34.104Z"
   },
   {
    "duration": 135,
    "start_time": "2023-05-26T02:58:36.699Z"
   },
   {
    "duration": 188,
    "start_time": "2023-05-26T02:58:47.960Z"
   },
   {
    "duration": 234,
    "start_time": "2023-05-26T03:03:11.491Z"
   },
   {
    "duration": 8,
    "start_time": "2023-05-26T03:08:59.747Z"
   },
   {
    "duration": 6,
    "start_time": "2023-05-26T03:09:34.375Z"
   },
   {
    "duration": 10,
    "start_time": "2023-05-26T03:10:26.726Z"
   },
   {
    "duration": 5,
    "start_time": "2023-05-26T03:30:56.931Z"
   },
   {
    "duration": 230,
    "start_time": "2023-05-26T03:33:30.321Z"
   },
   {
    "duration": 43,
    "start_time": "2023-05-26T07:14:30.310Z"
   },
   {
    "duration": 895,
    "start_time": "2023-05-26T07:14:41.779Z"
   },
   {
    "duration": 94,
    "start_time": "2023-05-26T07:14:42.675Z"
   },
   {
    "duration": 12,
    "start_time": "2023-05-26T07:14:42.770Z"
   },
   {
    "duration": 1789,
    "start_time": "2023-05-26T07:14:42.784Z"
   },
   {
    "duration": 8,
    "start_time": "2023-05-26T07:14:44.575Z"
   },
   {
    "duration": 8,
    "start_time": "2023-05-26T07:14:44.585Z"
   },
   {
    "duration": 10,
    "start_time": "2023-05-26T07:14:44.594Z"
   },
   {
    "duration": 8,
    "start_time": "2023-05-26T07:14:44.606Z"
   },
   {
    "duration": 1175,
    "start_time": "2023-05-26T07:14:44.615Z"
   },
   {
    "duration": 96,
    "start_time": "2023-05-26T07:14:45.792Z"
   },
   {
    "duration": 0,
    "start_time": "2023-05-26T07:14:45.890Z"
   },
   {
    "duration": 0,
    "start_time": "2023-05-26T07:14:45.891Z"
   },
   {
    "duration": 0,
    "start_time": "2023-05-26T07:14:45.892Z"
   },
   {
    "duration": 1199,
    "start_time": "2023-05-26T07:15:36.301Z"
   },
   {
    "duration": 1119,
    "start_time": "2023-05-26T07:15:53.831Z"
   },
   {
    "duration": 4,
    "start_time": "2023-05-26T07:15:59.353Z"
   },
   {
    "duration": 4,
    "start_time": "2023-05-26T07:16:47.713Z"
   },
   {
    "duration": 1156,
    "start_time": "2023-05-26T07:18:04.264Z"
   },
   {
    "duration": 4,
    "start_time": "2023-05-26T07:18:31.785Z"
   },
   {
    "duration": 4,
    "start_time": "2023-05-26T07:19:44.680Z"
   },
   {
    "duration": 1127,
    "start_time": "2023-05-26T07:19:51.319Z"
   },
   {
    "duration": 4,
    "start_time": "2023-05-26T07:19:58.389Z"
   },
   {
    "duration": 5,
    "start_time": "2023-05-26T07:23:01.648Z"
   },
   {
    "duration": 4,
    "start_time": "2023-05-26T07:23:04.548Z"
   },
   {
    "duration": 45,
    "start_time": "2023-05-26T16:24:36.809Z"
   },
   {
    "duration": 7,
    "start_time": "2023-05-26T16:24:50.960Z"
   },
   {
    "duration": 1394,
    "start_time": "2023-05-26T16:24:59.823Z"
   },
   {
    "duration": 96,
    "start_time": "2023-05-26T16:25:01.219Z"
   },
   {
    "duration": 14,
    "start_time": "2023-05-26T16:25:01.317Z"
   },
   {
    "duration": 1686,
    "start_time": "2023-05-26T16:25:01.333Z"
   },
   {
    "duration": 8,
    "start_time": "2023-05-26T16:25:03.021Z"
   },
   {
    "duration": 5,
    "start_time": "2023-05-26T16:25:03.030Z"
   },
   {
    "duration": 8,
    "start_time": "2023-05-26T16:25:03.036Z"
   },
   {
    "duration": 9,
    "start_time": "2023-05-26T16:25:03.045Z"
   },
   {
    "duration": 1247,
    "start_time": "2023-05-26T16:25:03.056Z"
   },
   {
    "duration": 5,
    "start_time": "2023-05-26T16:25:04.306Z"
   },
   {
    "duration": 9,
    "start_time": "2023-05-26T16:25:04.312Z"
   },
   {
    "duration": 11,
    "start_time": "2023-05-26T16:25:04.323Z"
   },
   {
    "duration": 237,
    "start_time": "2023-05-26T16:25:04.335Z"
   },
   {
    "duration": 961,
    "start_time": "2023-05-26T16:25:11.361Z"
   },
   {
    "duration": 6,
    "start_time": "2023-05-26T16:25:18.435Z"
   },
   {
    "duration": 994,
    "start_time": "2023-05-26T16:25:26.166Z"
   },
   {
    "duration": 4,
    "start_time": "2023-05-26T16:25:32.731Z"
   },
   {
    "duration": 1423,
    "start_time": "2023-05-26T16:27:03.682Z"
   },
   {
    "duration": 4,
    "start_time": "2023-05-26T16:27:27.287Z"
   },
   {
    "duration": 9,
    "start_time": "2023-05-26T17:23:34.635Z"
   },
   {
    "duration": 8,
    "start_time": "2023-05-26T17:24:11.868Z"
   },
   {
    "duration": 8,
    "start_time": "2023-05-26T17:24:20.718Z"
   },
   {
    "duration": 688,
    "start_time": "2023-05-26T17:26:51.956Z"
   },
   {
    "duration": 112,
    "start_time": "2023-05-26T17:26:52.645Z"
   },
   {
    "duration": 14,
    "start_time": "2023-05-26T17:26:52.758Z"
   },
   {
    "duration": 1693,
    "start_time": "2023-05-26T17:26:52.774Z"
   },
   {
    "duration": 8,
    "start_time": "2023-05-26T17:26:54.469Z"
   },
   {
    "duration": 5,
    "start_time": "2023-05-26T17:26:54.478Z"
   },
   {
    "duration": 8,
    "start_time": "2023-05-26T17:26:54.485Z"
   },
   {
    "duration": 20,
    "start_time": "2023-05-26T17:26:54.495Z"
   },
   {
    "duration": 1616,
    "start_time": "2023-05-26T17:26:54.517Z"
   },
   {
    "duration": 5,
    "start_time": "2023-05-26T17:26:56.136Z"
   },
   {
    "duration": 10,
    "start_time": "2023-05-26T17:26:56.142Z"
   },
   {
    "duration": 17,
    "start_time": "2023-05-26T17:26:56.154Z"
   },
   {
    "duration": 283,
    "start_time": "2023-05-26T17:26:56.172Z"
   },
   {
    "duration": 10,
    "start_time": "2023-05-26T17:30:48.319Z"
   },
   {
    "duration": 9,
    "start_time": "2023-05-26T17:30:54.442Z"
   },
   {
    "duration": 1633,
    "start_time": "2023-05-26T17:31:55.132Z"
   },
   {
    "duration": 7,
    "start_time": "2023-05-26T17:39:18.779Z"
   },
   {
    "duration": 1205,
    "start_time": "2023-05-26T17:42:02.506Z"
   },
   {
    "duration": 20,
    "start_time": "2023-05-26T17:42:40.718Z"
   },
   {
    "duration": 31,
    "start_time": "2023-05-26T17:43:51.910Z"
   },
   {
    "duration": 47,
    "start_time": "2023-05-27T08:34:54.402Z"
   },
   {
    "duration": 994,
    "start_time": "2023-05-27T08:35:03.342Z"
   },
   {
    "duration": 111,
    "start_time": "2023-05-27T08:35:04.338Z"
   },
   {
    "duration": 13,
    "start_time": "2023-05-27T08:35:04.450Z"
   },
   {
    "duration": 2192,
    "start_time": "2023-05-27T08:35:04.465Z"
   },
   {
    "duration": 9,
    "start_time": "2023-05-27T08:35:06.659Z"
   },
   {
    "duration": 6,
    "start_time": "2023-05-27T08:35:06.670Z"
   },
   {
    "duration": 37,
    "start_time": "2023-05-27T08:35:06.677Z"
   },
   {
    "duration": 9,
    "start_time": "2023-05-27T08:35:06.715Z"
   },
   {
    "duration": 2104,
    "start_time": "2023-05-27T08:35:06.726Z"
   },
   {
    "duration": 20,
    "start_time": "2023-05-27T08:35:08.834Z"
   },
   {
    "duration": 26,
    "start_time": "2023-05-27T08:35:08.856Z"
   },
   {
    "duration": 32,
    "start_time": "2023-05-27T08:35:08.884Z"
   },
   {
    "duration": 29,
    "start_time": "2023-05-27T08:35:08.917Z"
   },
   {
    "duration": 222,
    "start_time": "2023-05-27T08:35:08.948Z"
   },
   {
    "duration": 5,
    "start_time": "2023-05-27T08:35:40.431Z"
   },
   {
    "duration": 19,
    "start_time": "2023-05-27T08:37:14.578Z"
   },
   {
    "duration": 1626,
    "start_time": "2023-05-27T08:37:17.306Z"
   },
   {
    "duration": 2903,
    "start_time": "2023-05-27T08:37:24.711Z"
   },
   {
    "duration": 2730,
    "start_time": "2023-05-27T08:37:28.802Z"
   },
   {
    "duration": 3,
    "start_time": "2023-05-27T08:37:36.290Z"
   },
   {
    "duration": 1583,
    "start_time": "2023-05-27T08:37:53.522Z"
   },
   {
    "duration": 1626,
    "start_time": "2023-05-27T08:40:48.437Z"
   },
   {
    "duration": 1683,
    "start_time": "2023-05-27T08:41:04.241Z"
   },
   {
    "duration": 15,
    "start_time": "2023-05-27T08:41:52.900Z"
   },
   {
    "duration": 80,
    "start_time": "2023-05-27T08:48:27.437Z"
   },
   {
    "duration": 68,
    "start_time": "2023-05-27T09:01:53.789Z"
   },
   {
    "duration": 67,
    "start_time": "2023-05-27T09:02:08.394Z"
   },
   {
    "duration": 77,
    "start_time": "2023-05-27T09:02:27.835Z"
   },
   {
    "duration": 187,
    "start_time": "2023-05-27T09:03:20.250Z"
   },
   {
    "duration": 321,
    "start_time": "2023-05-27T09:03:35.158Z"
   },
   {
    "duration": 252,
    "start_time": "2023-05-27T09:03:50.857Z"
   },
   {
    "duration": 176,
    "start_time": "2023-05-27T09:04:02.231Z"
   },
   {
    "duration": 203,
    "start_time": "2023-05-27T09:04:25.157Z"
   },
   {
    "duration": 122,
    "start_time": "2023-05-27T09:04:52.028Z"
   },
   {
    "duration": 143,
    "start_time": "2023-05-27T09:04:59.929Z"
   },
   {
    "duration": 138,
    "start_time": "2023-05-27T09:07:44.709Z"
   },
   {
    "duration": 123,
    "start_time": "2023-05-27T09:08:41.377Z"
   },
   {
    "duration": 105,
    "start_time": "2023-05-27T09:08:51.234Z"
   },
   {
    "duration": 124,
    "start_time": "2023-05-27T09:09:01.429Z"
   },
   {
    "duration": 220,
    "start_time": "2023-05-27T09:09:08.508Z"
   },
   {
    "duration": 225,
    "start_time": "2023-05-27T09:09:28.389Z"
   },
   {
    "duration": 264,
    "start_time": "2023-05-27T09:09:34.854Z"
   },
   {
    "duration": 170,
    "start_time": "2023-05-27T09:09:41.689Z"
   },
   {
    "duration": 141,
    "start_time": "2023-05-27T09:09:55.011Z"
   },
   {
    "duration": 176,
    "start_time": "2023-05-27T09:20:28.781Z"
   },
   {
    "duration": 160,
    "start_time": "2023-05-27T09:20:41.252Z"
   },
   {
    "duration": 173,
    "start_time": "2023-05-27T09:21:02.985Z"
   },
   {
    "duration": 178,
    "start_time": "2023-05-27T09:21:15.859Z"
   },
   {
    "duration": 160,
    "start_time": "2023-05-27T09:21:34.594Z"
   },
   {
    "duration": 166,
    "start_time": "2023-05-27T09:21:40.299Z"
   },
   {
    "duration": 287,
    "start_time": "2023-05-27T09:21:48.731Z"
   },
   {
    "duration": 400,
    "start_time": "2023-05-27T09:22:01.235Z"
   },
   {
    "duration": 142,
    "start_time": "2023-05-27T09:22:08.595Z"
   },
   {
    "duration": 215,
    "start_time": "2023-05-27T09:22:29.985Z"
   },
   {
    "duration": 607,
    "start_time": "2023-05-27T09:23:26.114Z"
   },
   {
    "duration": 74,
    "start_time": "2023-05-27T09:23:56.303Z"
   },
   {
    "duration": 233,
    "start_time": "2023-05-27T09:36:11.220Z"
   },
   {
    "duration": 215,
    "start_time": "2023-05-27T09:36:37.302Z"
   },
   {
    "duration": 216,
    "start_time": "2023-05-27T09:36:45.214Z"
   },
   {
    "duration": 378,
    "start_time": "2023-05-27T09:36:55.951Z"
   },
   {
    "duration": 234,
    "start_time": "2023-05-27T09:37:04.428Z"
   },
   {
    "duration": 159,
    "start_time": "2023-05-27T09:37:13.708Z"
   },
   {
    "duration": 1029,
    "start_time": "2023-05-27T15:44:34.086Z"
   },
   {
    "duration": 118,
    "start_time": "2023-05-27T15:44:35.117Z"
   },
   {
    "duration": 30,
    "start_time": "2023-05-27T15:44:35.237Z"
   },
   {
    "duration": 2210,
    "start_time": "2023-05-27T15:44:35.269Z"
   },
   {
    "duration": 10,
    "start_time": "2023-05-27T15:44:37.487Z"
   },
   {
    "duration": 26,
    "start_time": "2023-05-27T15:44:37.498Z"
   },
   {
    "duration": 21,
    "start_time": "2023-05-27T15:44:37.526Z"
   },
   {
    "duration": 14,
    "start_time": "2023-05-27T15:44:37.549Z"
   },
   {
    "duration": 2072,
    "start_time": "2023-05-27T15:44:37.565Z"
   },
   {
    "duration": 2006,
    "start_time": "2023-05-27T15:44:39.640Z"
   },
   {
    "duration": 88,
    "start_time": "2023-05-27T15:44:41.648Z"
   },
   {
    "duration": 0,
    "start_time": "2023-05-27T15:44:41.738Z"
   },
   {
    "duration": 0,
    "start_time": "2023-05-27T15:44:41.739Z"
   },
   {
    "duration": 0,
    "start_time": "2023-05-27T15:44:41.741Z"
   },
   {
    "duration": 0,
    "start_time": "2023-05-27T15:44:41.742Z"
   },
   {
    "duration": 0,
    "start_time": "2023-05-27T15:44:41.743Z"
   },
   {
    "duration": 0,
    "start_time": "2023-05-27T15:44:41.745Z"
   },
   {
    "duration": 23,
    "start_time": "2023-05-27T15:45:12.976Z"
   },
   {
    "duration": 2136,
    "start_time": "2023-05-27T15:45:30.285Z"
   },
   {
    "duration": 19,
    "start_time": "2023-05-27T15:45:37.741Z"
   },
   {
    "duration": 2167,
    "start_time": "2023-05-27T15:46:43.910Z"
   },
   {
    "duration": 2066,
    "start_time": "2023-05-27T15:46:49.894Z"
   },
   {
    "duration": 2545,
    "start_time": "2023-05-27T15:46:57.541Z"
   },
   {
    "duration": 16,
    "start_time": "2023-05-27T15:47:23.797Z"
   },
   {
    "duration": 269,
    "start_time": "2023-05-27T15:48:24.152Z"
   },
   {
    "duration": 248,
    "start_time": "2023-05-27T15:48:32.180Z"
   },
   {
    "duration": 217,
    "start_time": "2023-05-27T15:48:40.057Z"
   },
   {
    "duration": 217,
    "start_time": "2023-05-27T15:50:12.573Z"
   },
   {
    "duration": 224,
    "start_time": "2023-05-27T15:50:22.042Z"
   },
   {
    "duration": 256,
    "start_time": "2023-05-27T15:50:31.577Z"
   },
   {
    "duration": 201,
    "start_time": "2023-05-27T15:50:39.118Z"
   },
   {
    "duration": 217,
    "start_time": "2023-05-27T15:50:52.218Z"
   },
   {
    "duration": 242,
    "start_time": "2023-05-27T15:51:03.187Z"
   },
   {
    "duration": 296,
    "start_time": "2023-05-27T15:51:42.656Z"
   },
   {
    "duration": 295,
    "start_time": "2023-05-27T15:51:52.382Z"
   },
   {
    "duration": 283,
    "start_time": "2023-05-27T15:52:02.398Z"
   },
   {
    "duration": 447,
    "start_time": "2023-05-27T15:52:30.999Z"
   },
   {
    "duration": 290,
    "start_time": "2023-05-27T15:52:58.621Z"
   },
   {
    "duration": 240,
    "start_time": "2023-05-27T15:53:05.500Z"
   },
   {
    "duration": 209,
    "start_time": "2023-05-27T15:53:24.487Z"
   },
   {
    "duration": 249,
    "start_time": "2023-05-27T15:54:20.102Z"
   },
   {
    "duration": 219,
    "start_time": "2023-05-27T15:54:54.660Z"
   },
   {
    "duration": 238,
    "start_time": "2023-05-27T15:55:02.076Z"
   },
   {
    "duration": 390,
    "start_time": "2023-05-27T15:55:07.646Z"
   },
   {
    "duration": 216,
    "start_time": "2023-05-27T15:55:16.652Z"
   },
   {
    "duration": 292,
    "start_time": "2023-05-27T15:55:25.509Z"
   },
   {
    "duration": 251,
    "start_time": "2023-05-27T15:55:39.435Z"
   },
   {
    "duration": 249,
    "start_time": "2023-05-27T15:55:46.021Z"
   },
   {
    "duration": 14,
    "start_time": "2023-05-27T16:19:36.380Z"
   },
   {
    "duration": 213,
    "start_time": "2023-05-27T16:19:45.182Z"
   },
   {
    "duration": 220,
    "start_time": "2023-05-27T16:28:16.909Z"
   },
   {
    "duration": 16,
    "start_time": "2023-05-27T16:28:32.921Z"
   },
   {
    "duration": 57,
    "start_time": "2023-05-27T16:28:59.726Z"
   },
   {
    "duration": 17,
    "start_time": "2023-05-27T16:29:09.474Z"
   },
   {
    "duration": 15,
    "start_time": "2023-05-27T16:30:37.403Z"
   },
   {
    "duration": 15,
    "start_time": "2023-05-27T16:30:43.584Z"
   },
   {
    "duration": 13,
    "start_time": "2023-05-27T16:31:00.000Z"
   },
   {
    "duration": 11,
    "start_time": "2023-05-27T16:31:09.815Z"
   },
   {
    "duration": 72,
    "start_time": "2023-05-27T16:31:22.866Z"
   },
   {
    "duration": 65,
    "start_time": "2023-05-27T16:31:32.651Z"
   },
   {
    "duration": 108,
    "start_time": "2023-05-27T17:01:44.198Z"
   },
   {
    "duration": 116,
    "start_time": "2023-05-27T17:01:49.330Z"
   },
   {
    "duration": 1466,
    "start_time": "2023-05-27T17:02:02.447Z"
   },
   {
    "duration": 1491,
    "start_time": "2023-05-27T17:02:07.727Z"
   },
   {
    "duration": 6,
    "start_time": "2023-05-27T17:03:04.285Z"
   },
   {
    "duration": 44,
    "start_time": "2023-05-27T17:03:05.851Z"
   },
   {
    "duration": 9,
    "start_time": "2023-05-27T17:03:12.536Z"
   },
   {
    "duration": 17,
    "start_time": "2023-05-27T17:03:15.090Z"
   },
   {
    "duration": 206,
    "start_time": "2023-05-27T17:03:25.821Z"
   },
   {
    "duration": 204,
    "start_time": "2023-05-27T17:03:43.490Z"
   },
   {
    "duration": 9,
    "start_time": "2023-05-27T17:04:35.600Z"
   },
   {
    "duration": 10,
    "start_time": "2023-05-27T17:05:44.203Z"
   },
   {
    "duration": 16,
    "start_time": "2023-05-27T17:06:02.980Z"
   },
   {
    "duration": 100,
    "start_time": "2023-05-27T17:06:21.194Z"
   },
   {
    "duration": 31,
    "start_time": "2023-05-27T17:06:31.554Z"
   },
   {
    "duration": 1426,
    "start_time": "2023-05-27T17:07:31.493Z"
   },
   {
    "duration": 1443,
    "start_time": "2023-05-27T17:07:40.653Z"
   },
   {
    "duration": 1420,
    "start_time": "2023-05-27T17:07:50.925Z"
   },
   {
    "duration": 868,
    "start_time": "2023-05-27T17:08:06.845Z"
   },
   {
    "duration": 131,
    "start_time": "2023-05-27T17:08:07.715Z"
   },
   {
    "duration": 30,
    "start_time": "2023-05-27T17:08:07.848Z"
   },
   {
    "duration": 2284,
    "start_time": "2023-05-27T17:08:07.883Z"
   },
   {
    "duration": 18,
    "start_time": "2023-05-27T17:08:10.169Z"
   },
   {
    "duration": 7,
    "start_time": "2023-05-27T17:08:10.191Z"
   },
   {
    "duration": 15,
    "start_time": "2023-05-27T17:08:10.199Z"
   },
   {
    "duration": 24,
    "start_time": "2023-05-27T17:08:10.216Z"
   },
   {
    "duration": 1986,
    "start_time": "2023-05-27T17:08:10.242Z"
   },
   {
    "duration": 2113,
    "start_time": "2023-05-27T17:08:12.230Z"
   },
   {
    "duration": 24,
    "start_time": "2023-05-27T17:08:14.345Z"
   },
   {
    "duration": 9,
    "start_time": "2023-05-27T17:08:14.374Z"
   },
   {
    "duration": 8,
    "start_time": "2023-05-27T17:08:14.385Z"
   },
   {
    "duration": 243,
    "start_time": "2023-05-27T17:08:14.394Z"
   },
   {
    "duration": 86,
    "start_time": "2023-05-27T17:08:14.639Z"
   },
   {
    "duration": 224,
    "start_time": "2023-05-27T17:08:14.727Z"
   },
   {
    "duration": 195,
    "start_time": "2023-05-27T17:08:14.953Z"
   },
   {
    "duration": 33,
    "start_time": "2023-05-27T17:08:15.156Z"
   },
   {
    "duration": 96,
    "start_time": "2023-05-27T17:08:15.191Z"
   },
   {
    "duration": 8,
    "start_time": "2023-05-27T17:09:10.232Z"
   },
   {
    "duration": 251,
    "start_time": "2023-05-27T17:09:32.349Z"
   },
   {
    "duration": 13,
    "start_time": "2023-05-27T17:11:53.699Z"
   },
   {
    "duration": 230,
    "start_time": "2023-05-27T17:11:57.108Z"
   },
   {
    "duration": 24,
    "start_time": "2023-05-27T17:14:57.048Z"
   },
   {
    "duration": 356,
    "start_time": "2023-05-27T17:14:59.221Z"
   },
   {
    "duration": 292,
    "start_time": "2023-05-27T17:17:52.014Z"
   },
   {
    "duration": 7,
    "start_time": "2023-05-27T17:21:00.140Z"
   },
   {
    "duration": 184,
    "start_time": "2023-05-27T17:21:15.226Z"
   },
   {
    "duration": 84,
    "start_time": "2023-05-27T17:21:35.912Z"
   },
   {
    "duration": 9,
    "start_time": "2023-05-27T17:22:17.115Z"
   },
   {
    "duration": 11,
    "start_time": "2023-05-27T17:22:40.740Z"
   },
   {
    "duration": 19,
    "start_time": "2023-05-27T17:26:32.620Z"
   },
   {
    "duration": 31,
    "start_time": "2023-05-27T17:26:56.846Z"
   },
   {
    "duration": 6,
    "start_time": "2023-05-27T17:36:23.834Z"
   },
   {
    "duration": 50,
    "start_time": "2023-05-27T17:38:49.032Z"
   },
   {
    "duration": 5,
    "start_time": "2023-05-27T17:45:03.288Z"
   },
   {
    "duration": 18,
    "start_time": "2023-05-27T17:46:20.815Z"
   },
   {
    "duration": 21,
    "start_time": "2023-05-27T18:08:46.628Z"
   },
   {
    "duration": 425,
    "start_time": "2023-05-27T18:11:12.218Z"
   },
   {
    "duration": 5,
    "start_time": "2023-05-27T18:15:18.278Z"
   },
   {
    "duration": 420,
    "start_time": "2023-05-27T18:16:23.933Z"
   },
   {
    "duration": 426,
    "start_time": "2023-05-27T18:17:59.854Z"
   },
   {
    "duration": 25,
    "start_time": "2023-05-27T18:18:18.694Z"
   },
   {
    "duration": 12,
    "start_time": "2023-05-27T18:19:14.499Z"
   },
   {
    "duration": 866,
    "start_time": "2023-05-27T18:19:46.828Z"
   },
   {
    "duration": 142,
    "start_time": "2023-05-27T18:19:47.697Z"
   },
   {
    "duration": 31,
    "start_time": "2023-05-27T18:19:47.841Z"
   },
   {
    "duration": 2720,
    "start_time": "2023-05-27T18:19:47.880Z"
   },
   {
    "duration": 11,
    "start_time": "2023-05-27T18:19:50.603Z"
   },
   {
    "duration": 27,
    "start_time": "2023-05-27T18:19:50.616Z"
   },
   {
    "duration": 24,
    "start_time": "2023-05-27T18:19:50.645Z"
   },
   {
    "duration": 17,
    "start_time": "2023-05-27T18:19:50.671Z"
   },
   {
    "duration": 2177,
    "start_time": "2023-05-27T18:19:50.690Z"
   },
   {
    "duration": 2347,
    "start_time": "2023-05-27T18:19:52.880Z"
   },
   {
    "duration": 11,
    "start_time": "2023-05-27T18:19:55.229Z"
   },
   {
    "duration": 31,
    "start_time": "2023-05-27T18:19:55.242Z"
   },
   {
    "duration": 51,
    "start_time": "2023-05-27T18:19:55.275Z"
   },
   {
    "duration": 98,
    "start_time": "2023-05-27T18:19:55.329Z"
   },
   {
    "duration": 0,
    "start_time": "2023-05-27T18:19:55.429Z"
   },
   {
    "duration": 0,
    "start_time": "2023-05-27T18:19:55.431Z"
   },
   {
    "duration": 0,
    "start_time": "2023-05-27T18:19:55.432Z"
   },
   {
    "duration": 0,
    "start_time": "2023-05-27T18:19:55.434Z"
   },
   {
    "duration": 0,
    "start_time": "2023-05-27T18:19:55.435Z"
   },
   {
    "duration": 0,
    "start_time": "2023-05-27T18:19:55.436Z"
   },
   {
    "duration": 0,
    "start_time": "2023-05-27T18:19:55.437Z"
   },
   {
    "duration": 0,
    "start_time": "2023-05-27T18:19:55.438Z"
   },
   {
    "duration": 0,
    "start_time": "2023-05-27T18:19:55.439Z"
   },
   {
    "duration": 486,
    "start_time": "2023-05-27T18:20:41.044Z"
   },
   {
    "duration": 7,
    "start_time": "2023-05-27T18:22:42.128Z"
   },
   {
    "duration": 25,
    "start_time": "2023-05-27T18:22:49.882Z"
   },
   {
    "duration": 12,
    "start_time": "2023-05-27T18:23:20.284Z"
   },
   {
    "duration": 2443,
    "start_time": "2023-05-27T18:23:36.284Z"
   },
   {
    "duration": 2037,
    "start_time": "2023-05-27T18:23:40.295Z"
   },
   {
    "duration": 99,
    "start_time": "2023-05-27T18:24:06.084Z"
   },
   {
    "duration": 142,
    "start_time": "2023-05-27T18:24:06.474Z"
   },
   {
    "duration": 42,
    "start_time": "2023-05-27T18:24:06.652Z"
   },
   {
    "duration": 2403,
    "start_time": "2023-05-27T18:24:07.086Z"
   },
   {
    "duration": 11,
    "start_time": "2023-05-27T18:24:09.491Z"
   },
   {
    "duration": 7,
    "start_time": "2023-05-27T18:24:09.504Z"
   },
   {
    "duration": 15,
    "start_time": "2023-05-27T18:24:09.514Z"
   },
   {
    "duration": 4,
    "start_time": "2023-05-27T18:24:09.531Z"
   },
   {
    "duration": 1991,
    "start_time": "2023-05-27T18:24:09.570Z"
   },
   {
    "duration": 2164,
    "start_time": "2023-05-27T18:24:11.565Z"
   },
   {
    "duration": 42,
    "start_time": "2023-05-27T18:24:13.731Z"
   },
   {
    "duration": 6,
    "start_time": "2023-05-27T18:24:13.785Z"
   },
   {
    "duration": 39,
    "start_time": "2023-05-27T18:24:13.793Z"
   },
   {
    "duration": 89,
    "start_time": "2023-05-27T18:24:13.834Z"
   },
   {
    "duration": 0,
    "start_time": "2023-05-27T18:24:13.925Z"
   },
   {
    "duration": 0,
    "start_time": "2023-05-27T18:24:13.926Z"
   },
   {
    "duration": 0,
    "start_time": "2023-05-27T18:24:13.928Z"
   },
   {
    "duration": 0,
    "start_time": "2023-05-27T18:24:13.929Z"
   },
   {
    "duration": 167,
    "start_time": "2023-05-27T18:24:14.283Z"
   },
   {
    "duration": 25,
    "start_time": "2023-05-27T18:24:14.747Z"
   },
   {
    "duration": 7,
    "start_time": "2023-05-27T18:24:15.595Z"
   },
   {
    "duration": 21,
    "start_time": "2023-05-27T18:24:15.853Z"
   },
   {
    "duration": 372,
    "start_time": "2023-05-27T18:24:16.087Z"
   },
   {
    "duration": 17,
    "start_time": "2023-05-27T18:25:04.587Z"
   },
   {
    "duration": 2199,
    "start_time": "2023-05-27T18:25:18.792Z"
   },
   {
    "duration": 2184,
    "start_time": "2023-05-27T18:25:24.752Z"
   },
   {
    "duration": 16,
    "start_time": "2023-05-27T18:25:30.327Z"
   },
   {
    "duration": 10,
    "start_time": "2023-05-27T18:25:45.492Z"
   },
   {
    "duration": 2188,
    "start_time": "2023-05-27T18:25:58.922Z"
   },
   {
    "duration": 2196,
    "start_time": "2023-05-27T18:26:18.342Z"
   },
   {
    "duration": 14,
    "start_time": "2023-05-27T18:26:40.148Z"
   },
   {
    "duration": 416,
    "start_time": "2023-05-27T18:28:33.252Z"
   },
   {
    "duration": 817,
    "start_time": "2023-05-27T18:33:16.297Z"
   },
   {
    "duration": 158,
    "start_time": "2023-05-27T18:33:17.116Z"
   },
   {
    "duration": 25,
    "start_time": "2023-05-27T18:33:17.280Z"
   },
   {
    "duration": 2585,
    "start_time": "2023-05-27T18:33:17.308Z"
   },
   {
    "duration": 11,
    "start_time": "2023-05-27T18:33:19.897Z"
   },
   {
    "duration": 9,
    "start_time": "2023-05-27T18:33:19.910Z"
   },
   {
    "duration": 17,
    "start_time": "2023-05-27T18:33:19.922Z"
   },
   {
    "duration": 20,
    "start_time": "2023-05-27T18:33:19.941Z"
   },
   {
    "duration": 2175,
    "start_time": "2023-05-27T18:33:19.965Z"
   },
   {
    "duration": 2240,
    "start_time": "2023-05-27T18:33:22.143Z"
   },
   {
    "duration": 12,
    "start_time": "2023-05-27T18:33:24.386Z"
   },
   {
    "duration": 8,
    "start_time": "2023-05-27T18:33:24.400Z"
   },
   {
    "duration": 73,
    "start_time": "2023-05-27T18:33:24.410Z"
   },
   {
    "duration": 83,
    "start_time": "2023-05-27T18:33:24.485Z"
   },
   {
    "duration": 0,
    "start_time": "2023-05-27T18:33:24.571Z"
   },
   {
    "duration": 0,
    "start_time": "2023-05-27T18:33:24.573Z"
   },
   {
    "duration": 0,
    "start_time": "2023-05-27T18:33:24.577Z"
   },
   {
    "duration": 0,
    "start_time": "2023-05-27T18:33:24.578Z"
   },
   {
    "duration": 0,
    "start_time": "2023-05-27T18:33:24.580Z"
   },
   {
    "duration": 0,
    "start_time": "2023-05-27T18:33:24.582Z"
   },
   {
    "duration": 1,
    "start_time": "2023-05-27T18:33:24.583Z"
   },
   {
    "duration": 0,
    "start_time": "2023-05-27T18:33:24.585Z"
   },
   {
    "duration": 0,
    "start_time": "2023-05-27T18:33:24.587Z"
   },
   {
    "duration": 6,
    "start_time": "2023-05-27T18:35:32.550Z"
   },
   {
    "duration": 34,
    "start_time": "2023-05-27T18:35:55.535Z"
   },
   {
    "duration": 71,
    "start_time": "2023-05-27T18:36:54.078Z"
   },
   {
    "duration": 6,
    "start_time": "2023-05-27T18:37:22.246Z"
   },
   {
    "duration": 4,
    "start_time": "2023-05-27T18:37:40.076Z"
   },
   {
    "duration": 13,
    "start_time": "2023-05-27T18:37:40.683Z"
   },
   {
    "duration": 330,
    "start_time": "2023-05-27T18:37:41.298Z"
   },
   {
    "duration": 9,
    "start_time": "2023-05-27T18:37:48.886Z"
   },
   {
    "duration": 757,
    "start_time": "2023-05-27T18:38:06.684Z"
   },
   {
    "duration": 135,
    "start_time": "2023-05-27T18:38:07.443Z"
   },
   {
    "duration": 16,
    "start_time": "2023-05-27T18:38:07.580Z"
   },
   {
    "duration": 2079,
    "start_time": "2023-05-27T18:38:07.598Z"
   },
   {
    "duration": 10,
    "start_time": "2023-05-27T18:38:09.679Z"
   },
   {
    "duration": 7,
    "start_time": "2023-05-27T18:38:09.691Z"
   },
   {
    "duration": 8,
    "start_time": "2023-05-27T18:38:09.700Z"
   },
   {
    "duration": 4,
    "start_time": "2023-05-27T18:38:09.710Z"
   },
   {
    "duration": 1811,
    "start_time": "2023-05-27T18:38:09.716Z"
   },
   {
    "duration": 1829,
    "start_time": "2023-05-27T18:38:11.529Z"
   },
   {
    "duration": 10,
    "start_time": "2023-05-27T18:38:13.360Z"
   },
   {
    "duration": 8,
    "start_time": "2023-05-27T18:38:13.372Z"
   },
   {
    "duration": 37,
    "start_time": "2023-05-27T18:38:13.382Z"
   },
   {
    "duration": 70,
    "start_time": "2023-05-27T18:38:13.421Z"
   },
   {
    "duration": 0,
    "start_time": "2023-05-27T18:38:13.493Z"
   },
   {
    "duration": 0,
    "start_time": "2023-05-27T18:38:13.494Z"
   },
   {
    "duration": 0,
    "start_time": "2023-05-27T18:38:13.495Z"
   },
   {
    "duration": 0,
    "start_time": "2023-05-27T18:38:13.497Z"
   },
   {
    "duration": 0,
    "start_time": "2023-05-27T18:38:13.498Z"
   },
   {
    "duration": 0,
    "start_time": "2023-05-27T18:38:13.500Z"
   },
   {
    "duration": 0,
    "start_time": "2023-05-27T18:38:13.501Z"
   },
   {
    "duration": 0,
    "start_time": "2023-05-27T18:38:13.503Z"
   },
   {
    "duration": 0,
    "start_time": "2023-05-27T18:38:13.504Z"
   },
   {
    "duration": 0,
    "start_time": "2023-05-27T18:38:13.506Z"
   },
   {
    "duration": 9,
    "start_time": "2023-05-27T18:38:21.260Z"
   },
   {
    "duration": 401,
    "start_time": "2023-05-27T18:38:27.517Z"
   },
   {
    "duration": 5,
    "start_time": "2023-05-27T18:39:00.203Z"
   },
   {
    "duration": 83,
    "start_time": "2023-05-27T18:39:08.134Z"
   },
   {
    "duration": 131,
    "start_time": "2023-05-27T18:39:09.178Z"
   },
   {
    "duration": 14,
    "start_time": "2023-05-27T18:39:10.735Z"
   },
   {
    "duration": 2027,
    "start_time": "2023-05-27T18:39:15.247Z"
   },
   {
    "duration": 10,
    "start_time": "2023-05-27T18:39:17.277Z"
   },
   {
    "duration": 7,
    "start_time": "2023-05-27T18:39:17.509Z"
   },
   {
    "duration": 9,
    "start_time": "2023-05-27T18:39:19.336Z"
   },
   {
    "duration": 5,
    "start_time": "2023-05-27T18:39:19.875Z"
   },
   {
    "duration": 1750,
    "start_time": "2023-05-27T18:39:21.777Z"
   },
   {
    "duration": 1864,
    "start_time": "2023-05-27T18:39:23.530Z"
   },
   {
    "duration": 12,
    "start_time": "2023-05-27T18:39:32.945Z"
   },
   {
    "duration": 8,
    "start_time": "2023-05-27T18:39:34.449Z"
   },
   {
    "duration": 31,
    "start_time": "2023-05-27T18:39:44.597Z"
   },
   {
    "duration": 100,
    "start_time": "2023-05-27T18:39:50.795Z"
   },
   {
    "duration": 9,
    "start_time": "2023-05-27T18:39:59.575Z"
   },
   {
    "duration": 210,
    "start_time": "2023-05-27T18:40:00.227Z"
   },
   {
    "duration": 70,
    "start_time": "2023-05-27T18:40:00.908Z"
   },
   {
    "duration": 205,
    "start_time": "2023-05-27T18:40:01.426Z"
   },
   {
    "duration": 165,
    "start_time": "2023-05-27T18:40:01.810Z"
   },
   {
    "duration": 17,
    "start_time": "2023-05-27T18:40:02.222Z"
   },
   {
    "duration": 5,
    "start_time": "2023-05-27T18:40:03.081Z"
   },
   {
    "duration": 13,
    "start_time": "2023-05-27T18:40:03.327Z"
   },
   {
    "duration": 331,
    "start_time": "2023-05-27T18:40:03.794Z"
   },
   {
    "duration": 4,
    "start_time": "2023-05-27T18:40:11.078Z"
   },
   {
    "duration": 14,
    "start_time": "2023-05-27T18:40:11.764Z"
   },
   {
    "duration": 298,
    "start_time": "2023-05-27T18:40:13.225Z"
   },
   {
    "duration": 7,
    "start_time": "2023-05-27T18:41:21.543Z"
   },
   {
    "duration": 36,
    "start_time": "2023-05-27T18:42:19.170Z"
   },
   {
    "duration": 29,
    "start_time": "2023-05-27T18:43:35.172Z"
   },
   {
    "duration": 30,
    "start_time": "2023-05-27T18:43:39.098Z"
   },
   {
    "duration": 301,
    "start_time": "2023-05-27T18:44:02.940Z"
   },
   {
    "duration": 4,
    "start_time": "2023-05-27T18:44:26.871Z"
   },
   {
    "duration": 27,
    "start_time": "2023-05-27T18:44:55.345Z"
   },
   {
    "duration": 4,
    "start_time": "2023-05-27T18:45:09.933Z"
   },
   {
    "duration": 26,
    "start_time": "2023-05-27T18:45:11.087Z"
   },
   {
    "duration": 5,
    "start_time": "2023-05-27T18:45:20.199Z"
   },
   {
    "duration": 29,
    "start_time": "2023-05-27T18:45:21.854Z"
   },
   {
    "duration": 79,
    "start_time": "2023-05-27T18:46:39.086Z"
   },
   {
    "duration": 117,
    "start_time": "2023-05-27T18:46:40.827Z"
   },
   {
    "duration": 16,
    "start_time": "2023-05-27T18:46:41.494Z"
   },
   {
    "duration": 2071,
    "start_time": "2023-05-27T18:46:42.920Z"
   },
   {
    "duration": 9,
    "start_time": "2023-05-27T18:46:47.749Z"
   },
   {
    "duration": 6,
    "start_time": "2023-05-27T18:46:57.924Z"
   },
   {
    "duration": 10,
    "start_time": "2023-05-27T18:47:02.230Z"
   },
   {
    "duration": 5,
    "start_time": "2023-05-27T18:47:12.041Z"
   },
   {
    "duration": 1668,
    "start_time": "2023-05-27T18:47:14.218Z"
   },
   {
    "duration": 1784,
    "start_time": "2023-05-27T18:47:15.888Z"
   },
   {
    "duration": 10,
    "start_time": "2023-05-27T18:47:17.673Z"
   },
   {
    "duration": 7,
    "start_time": "2023-05-27T18:47:21.582Z"
   },
   {
    "duration": 8,
    "start_time": "2023-05-27T18:47:46.266Z"
   },
   {
    "duration": 1789,
    "start_time": "2023-05-27T18:48:44.022Z"
   },
   {
    "duration": 10,
    "start_time": "2023-05-27T18:48:48.479Z"
   },
   {
    "duration": 7,
    "start_time": "2023-05-27T18:48:49.993Z"
   },
   {
    "duration": 11,
    "start_time": "2023-05-27T18:48:50.790Z"
   },
   {
    "duration": 3,
    "start_time": "2023-05-27T18:50:41.133Z"
   },
   {
    "duration": 1668,
    "start_time": "2023-05-27T18:50:53.220Z"
   },
   {
    "duration": 8,
    "start_time": "2023-05-27T18:50:59.915Z"
   },
   {
    "duration": 1825,
    "start_time": "2023-05-27T18:51:09.317Z"
   },
   {
    "duration": 1733,
    "start_time": "2023-05-27T18:51:34.824Z"
   },
   {
    "duration": 1846,
    "start_time": "2023-05-27T18:53:37.732Z"
   },
   {
    "duration": 1430,
    "start_time": "2023-05-27T18:55:54.844Z"
   },
   {
    "duration": 297,
    "start_time": "2023-05-27T18:57:10.412Z"
   },
   {
    "duration": 74,
    "start_time": "2023-05-27T18:57:18.725Z"
   },
   {
    "duration": 296,
    "start_time": "2023-05-27T18:57:25.590Z"
   },
   {
    "duration": 1783,
    "start_time": "2023-05-27T18:59:52.087Z"
   },
   {
    "duration": 7,
    "start_time": "2023-05-27T19:00:34.551Z"
   },
   {
    "duration": 1891,
    "start_time": "2023-05-27T19:00:52.223Z"
   },
   {
    "duration": 1723,
    "start_time": "2023-05-27T19:01:34.982Z"
   },
   {
    "duration": 1778,
    "start_time": "2023-05-27T19:01:37.617Z"
   },
   {
    "duration": 5,
    "start_time": "2023-05-27T19:02:35.687Z"
   },
   {
    "duration": 1995,
    "start_time": "2023-05-27T19:03:57.120Z"
   },
   {
    "duration": 2090,
    "start_time": "2023-05-27T19:03:59.118Z"
   },
   {
    "duration": 5,
    "start_time": "2023-05-27T19:05:59.640Z"
   },
   {
    "duration": 11,
    "start_time": "2023-05-27T19:07:48.386Z"
   },
   {
    "duration": 4,
    "start_time": "2023-05-27T19:07:49.523Z"
   },
   {
    "duration": 256,
    "start_time": "2023-05-27T19:08:06.417Z"
   },
   {
    "duration": 6,
    "start_time": "2023-05-27T19:08:09.095Z"
   },
   {
    "duration": 272,
    "start_time": "2023-05-27T19:08:18.275Z"
   },
   {
    "duration": 4,
    "start_time": "2023-05-27T19:08:20.500Z"
   },
   {
    "duration": 30,
    "start_time": "2023-05-27T19:08:30.936Z"
   },
   {
    "duration": 5,
    "start_time": "2023-05-27T19:14:23.308Z"
   },
   {
    "duration": 5,
    "start_time": "2023-05-27T19:14:49.435Z"
   },
   {
    "duration": 26,
    "start_time": "2023-05-27T19:18:06.935Z"
   },
   {
    "duration": 1140,
    "start_time": "2023-05-27T19:18:43.206Z"
   },
   {
    "duration": 5,
    "start_time": "2023-05-27T19:18:56.280Z"
   },
   {
    "duration": 14,
    "start_time": "2023-05-27T19:18:57.065Z"
   },
   {
    "duration": 11,
    "start_time": "2023-05-27T19:19:11.086Z"
   },
   {
    "duration": 80,
    "start_time": "2023-05-27T19:19:56.942Z"
   },
   {
    "duration": 130,
    "start_time": "2023-05-27T19:19:57.184Z"
   },
   {
    "duration": 16,
    "start_time": "2023-05-27T19:19:57.453Z"
   },
   {
    "duration": 2191,
    "start_time": "2023-05-27T19:19:57.854Z"
   },
   {
    "duration": 17,
    "start_time": "2023-05-27T19:20:00.047Z"
   },
   {
    "duration": 41,
    "start_time": "2023-05-27T19:20:00.067Z"
   },
   {
    "duration": 25,
    "start_time": "2023-05-27T19:20:00.110Z"
   },
   {
    "duration": 5,
    "start_time": "2023-05-27T19:20:00.310Z"
   },
   {
    "duration": 1838,
    "start_time": "2023-05-27T19:20:00.954Z"
   },
   {
    "duration": 1889,
    "start_time": "2023-05-27T19:20:02.794Z"
   },
   {
    "duration": 11,
    "start_time": "2023-05-27T19:20:04.685Z"
   },
   {
    "duration": 14,
    "start_time": "2023-05-27T19:20:04.699Z"
   },
   {
    "duration": 26,
    "start_time": "2023-05-27T19:20:04.714Z"
   },
   {
    "duration": 8,
    "start_time": "2023-05-27T19:20:04.757Z"
   },
   {
    "duration": 205,
    "start_time": "2023-05-27T19:20:04.908Z"
   },
   {
    "duration": 66,
    "start_time": "2023-05-27T19:20:05.686Z"
   },
   {
    "duration": 188,
    "start_time": "2023-05-27T19:20:06.196Z"
   },
   {
    "duration": 155,
    "start_time": "2023-05-27T19:20:06.776Z"
   },
   {
    "duration": 205,
    "start_time": "2023-05-27T19:20:16.004Z"
   },
   {
    "duration": 167,
    "start_time": "2023-05-27T19:20:16.440Z"
   },
   {
    "duration": 18,
    "start_time": "2023-05-27T19:20:16.862Z"
   },
   {
    "duration": 5,
    "start_time": "2023-05-27T19:20:17.847Z"
   },
   {
    "duration": 13,
    "start_time": "2023-05-27T19:20:18.089Z"
   },
   {
    "duration": 507,
    "start_time": "2023-05-27T19:20:18.318Z"
   },
   {
    "duration": 5,
    "start_time": "2023-05-27T19:20:18.827Z"
   },
   {
    "duration": 25,
    "start_time": "2023-05-27T19:20:19.402Z"
   },
   {
    "duration": 221,
    "start_time": "2023-05-27T19:20:27.746Z"
   },
   {
    "duration": 155,
    "start_time": "2023-05-27T19:20:43.852Z"
   },
   {
    "duration": 133,
    "start_time": "2023-05-27T19:20:51.791Z"
   },
   {
    "duration": 172,
    "start_time": "2023-05-27T19:21:39.829Z"
   },
   {
    "duration": 1562,
    "start_time": "2023-05-27T19:21:47.039Z"
   },
   {
    "duration": 132,
    "start_time": "2023-05-27T19:21:54.201Z"
   },
   {
    "duration": 135,
    "start_time": "2023-05-27T19:21:59.546Z"
   },
   {
    "duration": 144,
    "start_time": "2023-05-27T19:22:12.862Z"
   },
   {
    "duration": 149,
    "start_time": "2023-05-27T19:22:25.927Z"
   },
   {
    "duration": 1620,
    "start_time": "2023-05-27T19:22:36.598Z"
   },
   {
    "duration": 265,
    "start_time": "2023-05-27T19:22:43.791Z"
   },
   {
    "duration": 901,
    "start_time": "2023-05-27T19:26:10.827Z"
   },
   {
    "duration": 1329,
    "start_time": "2023-05-27T19:28:54.986Z"
   },
   {
    "duration": 1090,
    "start_time": "2023-05-27T19:29:05.617Z"
   },
   {
    "duration": 1783,
    "start_time": "2023-05-27T19:29:19.472Z"
   },
   {
    "duration": 1463,
    "start_time": "2023-05-27T19:31:21.014Z"
   },
   {
    "duration": 1906,
    "start_time": "2023-05-27T19:32:06.061Z"
   },
   {
    "duration": 957,
    "start_time": "2023-05-27T19:33:21.663Z"
   },
   {
    "duration": 335,
    "start_time": "2023-05-27T19:34:04.672Z"
   },
   {
    "duration": 5,
    "start_time": "2023-05-27T19:34:06.486Z"
   },
   {
    "duration": 25,
    "start_time": "2023-05-27T19:34:07.979Z"
   },
   {
    "duration": 970,
    "start_time": "2023-05-27T19:34:10.493Z"
   },
   {
    "duration": 1633,
    "start_time": "2023-05-27T19:34:37.849Z"
   },
   {
    "duration": 210,
    "start_time": "2023-05-27T19:42:01.905Z"
   },
   {
    "duration": 196,
    "start_time": "2023-05-27T19:42:23.405Z"
   },
   {
    "duration": 209,
    "start_time": "2023-05-27T19:45:59.314Z"
   },
   {
    "duration": 169,
    "start_time": "2023-05-27T19:46:07.590Z"
   },
   {
    "duration": 247,
    "start_time": "2023-05-27T19:46:22.411Z"
   },
   {
    "duration": 177,
    "start_time": "2023-05-27T19:46:31.439Z"
   },
   {
    "duration": 232,
    "start_time": "2023-05-27T19:46:37.750Z"
   },
   {
    "duration": 248,
    "start_time": "2023-05-27T19:49:44.503Z"
   },
   {
    "duration": 255,
    "start_time": "2023-05-27T19:50:03.630Z"
   },
   {
    "duration": 273,
    "start_time": "2023-05-27T19:50:16.848Z"
   },
   {
    "duration": 222,
    "start_time": "2023-05-27T19:50:36.716Z"
   },
   {
    "duration": 235,
    "start_time": "2023-05-27T19:50:40.281Z"
   },
   {
    "duration": 238,
    "start_time": "2023-05-27T19:50:50.107Z"
   },
   {
    "duration": 280,
    "start_time": "2023-05-27T19:50:59.043Z"
   },
   {
    "duration": 661,
    "start_time": "2023-05-27T19:51:03.606Z"
   },
   {
    "duration": 227,
    "start_time": "2023-05-27T19:53:27.494Z"
   },
   {
    "duration": 281,
    "start_time": "2023-05-27T19:55:38.676Z"
   },
   {
    "duration": 247,
    "start_time": "2023-05-27T19:55:46.313Z"
   },
   {
    "duration": 1329,
    "start_time": "2023-05-27T19:55:51.648Z"
   },
   {
    "duration": 1758,
    "start_time": "2023-05-27T19:56:13.081Z"
   },
   {
    "duration": 1284,
    "start_time": "2023-05-27T19:56:22.279Z"
   },
   {
    "duration": 283,
    "start_time": "2023-05-27T19:56:35.226Z"
   },
   {
    "duration": 83,
    "start_time": "2023-05-27T20:00:26.984Z"
   },
   {
    "duration": 159,
    "start_time": "2023-05-27T20:01:02.155Z"
   },
   {
    "duration": 235,
    "start_time": "2023-05-27T20:01:24.784Z"
   },
   {
    "duration": 192,
    "start_time": "2023-05-27T20:01:37.109Z"
   },
   {
    "duration": 242,
    "start_time": "2023-05-27T20:02:10.395Z"
   },
   {
    "duration": 201,
    "start_time": "2023-05-27T20:02:17.247Z"
   },
   {
    "duration": 88,
    "start_time": "2023-05-27T20:03:04.925Z"
   },
   {
    "duration": 715,
    "start_time": "2023-05-27T20:03:26.530Z"
   },
   {
    "duration": 182,
    "start_time": "2023-05-27T20:03:32.737Z"
   },
   {
    "duration": 176,
    "start_time": "2023-05-27T20:05:23.124Z"
   },
   {
    "duration": 168,
    "start_time": "2023-05-27T20:06:56.632Z"
   },
   {
    "duration": 188,
    "start_time": "2023-05-27T20:07:42.474Z"
   },
   {
    "duration": 13,
    "start_time": "2023-05-27T20:10:40.276Z"
   },
   {
    "duration": 7,
    "start_time": "2023-05-27T20:17:07.626Z"
   },
   {
    "duration": 179,
    "start_time": "2023-05-27T20:20:32.676Z"
   },
   {
    "duration": 215,
    "start_time": "2023-05-27T20:21:54.399Z"
   },
   {
    "duration": 180,
    "start_time": "2023-05-27T20:22:05.084Z"
   },
   {
    "duration": 185,
    "start_time": "2023-05-27T20:22:20.045Z"
   },
   {
    "duration": 200,
    "start_time": "2023-05-27T20:22:53.186Z"
   },
   {
    "duration": 94,
    "start_time": "2023-05-27T20:25:44.996Z"
   },
   {
    "duration": 110,
    "start_time": "2023-05-27T20:25:54.433Z"
   },
   {
    "duration": 225,
    "start_time": "2023-05-27T20:26:10.874Z"
   },
   {
    "duration": 183,
    "start_time": "2023-05-27T20:29:22.381Z"
   },
   {
    "duration": 49,
    "start_time": "2023-05-29T01:08:54.384Z"
   },
   {
    "duration": 9,
    "start_time": "2023-05-29T01:09:00.590Z"
   },
   {
    "duration": 7,
    "start_time": "2023-05-29T01:09:00.999Z"
   },
   {
    "duration": 1077,
    "start_time": "2023-05-29T01:09:05.580Z"
   },
   {
    "duration": 117,
    "start_time": "2023-05-29T01:09:06.660Z"
   },
   {
    "duration": 16,
    "start_time": "2023-05-29T01:09:06.778Z"
   },
   {
    "duration": 2158,
    "start_time": "2023-05-29T01:09:06.796Z"
   },
   {
    "duration": 12,
    "start_time": "2023-05-29T01:09:08.956Z"
   },
   {
    "duration": 8,
    "start_time": "2023-05-29T01:09:08.970Z"
   },
   {
    "duration": 10,
    "start_time": "2023-05-29T01:09:08.981Z"
   },
   {
    "duration": 6,
    "start_time": "2023-05-29T01:09:08.993Z"
   },
   {
    "duration": 1860,
    "start_time": "2023-05-29T01:09:09.001Z"
   },
   {
    "duration": 1661,
    "start_time": "2023-05-29T01:09:10.864Z"
   },
   {
    "duration": 19,
    "start_time": "2023-05-29T01:09:12.526Z"
   },
   {
    "duration": 6,
    "start_time": "2023-05-29T01:09:12.547Z"
   },
   {
    "duration": 28,
    "start_time": "2023-05-29T01:09:12.554Z"
   },
   {
    "duration": 8,
    "start_time": "2023-05-29T01:09:12.990Z"
   },
   {
    "duration": 233,
    "start_time": "2023-05-29T01:09:14.022Z"
   },
   {
    "duration": 65,
    "start_time": "2023-05-29T01:09:14.901Z"
   },
   {
    "duration": 188,
    "start_time": "2023-05-29T01:09:15.345Z"
   },
   {
    "duration": 147,
    "start_time": "2023-05-29T01:09:15.811Z"
   },
   {
    "duration": 17,
    "start_time": "2023-05-29T01:09:16.285Z"
   },
   {
    "duration": 6,
    "start_time": "2023-05-29T01:09:17.187Z"
   },
   {
    "duration": 12,
    "start_time": "2023-05-29T01:09:17.426Z"
   },
   {
    "duration": 396,
    "start_time": "2023-05-29T01:09:17.675Z"
   },
   {
    "duration": 6,
    "start_time": "2023-05-29T01:09:18.073Z"
   },
   {
    "duration": 31,
    "start_time": "2023-05-29T01:09:18.157Z"
   },
   {
    "duration": 281,
    "start_time": "2023-05-29T01:09:19.045Z"
   },
   {
    "duration": 279,
    "start_time": "2023-05-29T01:09:19.518Z"
   },
   {
    "duration": 188,
    "start_time": "2023-05-29T01:09:19.985Z"
   },
   {
    "duration": 293,
    "start_time": "2023-05-29T01:09:20.395Z"
   },
   {
    "duration": 181,
    "start_time": "2023-05-29T01:09:20.849Z"
   },
   {
    "duration": 159,
    "start_time": "2023-05-29T01:09:21.284Z"
   },
   {
    "duration": 222,
    "start_time": "2023-05-29T01:09:21.751Z"
   },
   {
    "duration": 8,
    "start_time": "2023-05-29T01:09:22.197Z"
   },
   {
    "duration": 311,
    "start_time": "2023-05-29T01:09:22.677Z"
   },
   {
    "duration": 196,
    "start_time": "2023-05-29T01:09:23.155Z"
   },
   {
    "duration": 181,
    "start_time": "2023-05-29T01:09:23.622Z"
   },
   {
    "duration": 202,
    "start_time": "2023-05-29T01:09:24.093Z"
   },
   {
    "duration": 235,
    "start_time": "2023-05-29T01:09:24.579Z"
   },
   {
    "duration": 79,
    "start_time": "2023-05-29T01:11:10.513Z"
   },
   {
    "duration": 54,
    "start_time": "2023-05-29T01:11:25.779Z"
   },
   {
    "duration": 1566,
    "start_time": "2023-05-29T01:12:26.702Z"
   },
   {
    "duration": 204,
    "start_time": "2023-05-29T01:57:17.672Z"
   },
   {
    "duration": 238,
    "start_time": "2023-05-29T01:57:27.390Z"
   },
   {
    "duration": 1430,
    "start_time": "2023-05-29T05:38:11.361Z"
   },
   {
    "duration": 101,
    "start_time": "2023-05-29T05:38:12.793Z"
   },
   {
    "duration": 13,
    "start_time": "2023-05-29T05:38:12.895Z"
   },
   {
    "duration": 1753,
    "start_time": "2023-05-29T05:38:12.911Z"
   },
   {
    "duration": 9,
    "start_time": "2023-05-29T05:38:14.666Z"
   },
   {
    "duration": 6,
    "start_time": "2023-05-29T05:38:14.676Z"
   },
   {
    "duration": 9,
    "start_time": "2023-05-29T05:38:15.068Z"
   },
   {
    "duration": 4,
    "start_time": "2023-05-29T05:38:15.477Z"
   },
   {
    "duration": 1592,
    "start_time": "2023-05-29T05:38:16.373Z"
   },
   {
    "duration": 1609,
    "start_time": "2023-05-29T05:38:17.967Z"
   },
   {
    "duration": 13,
    "start_time": "2023-05-29T05:38:19.578Z"
   },
   {
    "duration": 7,
    "start_time": "2023-05-29T05:38:19.593Z"
   },
   {
    "duration": 33,
    "start_time": "2023-05-29T05:38:19.601Z"
   },
   {
    "duration": 7,
    "start_time": "2023-05-29T05:38:19.636Z"
   },
   {
    "duration": 227,
    "start_time": "2023-05-29T05:38:19.644Z"
   },
   {
    "duration": 66,
    "start_time": "2023-05-29T05:38:19.874Z"
   },
   {
    "duration": 174,
    "start_time": "2023-05-29T05:38:20.273Z"
   },
   {
    "duration": 137,
    "start_time": "2023-05-29T05:38:20.588Z"
   },
   {
    "duration": 15,
    "start_time": "2023-05-29T05:38:21.057Z"
   },
   {
    "duration": 5,
    "start_time": "2023-05-29T05:38:21.868Z"
   },
   {
    "duration": 9,
    "start_time": "2023-05-29T05:38:22.063Z"
   },
   {
    "duration": 317,
    "start_time": "2023-05-29T05:38:22.263Z"
   },
   {
    "duration": 6,
    "start_time": "2023-05-29T05:38:22.582Z"
   },
   {
    "duration": 23,
    "start_time": "2023-05-29T05:38:22.669Z"
   },
   {
    "duration": 265,
    "start_time": "2023-05-29T05:38:23.470Z"
   },
   {
    "duration": 214,
    "start_time": "2023-05-29T05:38:23.898Z"
   },
   {
    "duration": 168,
    "start_time": "2023-05-29T05:38:24.329Z"
   },
   {
    "duration": 237,
    "start_time": "2023-05-29T05:38:24.779Z"
   },
   {
    "duration": 159,
    "start_time": "2023-05-29T05:38:25.273Z"
   },
   {
    "duration": 133,
    "start_time": "2023-05-29T05:38:25.727Z"
   },
   {
    "duration": 177,
    "start_time": "2023-05-29T05:38:26.173Z"
   },
   {
    "duration": 6,
    "start_time": "2023-05-29T05:38:26.623Z"
   },
   {
    "duration": 172,
    "start_time": "2023-05-29T05:38:27.096Z"
   },
   {
    "duration": 243,
    "start_time": "2023-05-29T05:38:27.567Z"
   },
   {
    "duration": 176,
    "start_time": "2023-05-29T05:38:27.969Z"
   },
   {
    "duration": 158,
    "start_time": "2023-05-29T05:38:28.387Z"
   },
   {
    "duration": 167,
    "start_time": "2023-05-29T05:38:28.865Z"
   },
   {
    "duration": 112,
    "start_time": "2023-05-29T05:51:39.605Z"
   },
   {
    "duration": 257,
    "start_time": "2023-05-29T05:52:14.718Z"
   },
   {
    "duration": 221,
    "start_time": "2023-05-29T05:53:29.009Z"
   },
   {
    "duration": 5,
    "start_time": "2023-05-29T06:00:00.303Z"
   },
   {
    "duration": 7,
    "start_time": "2023-05-29T06:00:06.224Z"
   },
   {
    "duration": 5,
    "start_time": "2023-05-29T06:00:10.312Z"
   },
   {
    "duration": 7,
    "start_time": "2023-05-29T06:00:21.403Z"
   },
   {
    "duration": 5,
    "start_time": "2023-05-29T06:00:31.939Z"
   },
   {
    "duration": 51,
    "start_time": "2023-05-29T06:02:33.717Z"
   },
   {
    "duration": 70,
    "start_time": "2023-05-29T06:02:53.719Z"
   },
   {
    "duration": 6,
    "start_time": "2023-05-29T06:04:55.112Z"
   },
   {
    "duration": 140,
    "start_time": "2023-05-29T06:05:23.914Z"
   },
   {
    "duration": 168,
    "start_time": "2023-05-29T06:05:44.319Z"
   },
   {
    "duration": 165,
    "start_time": "2023-05-29T06:05:49.509Z"
   },
   {
    "duration": 189,
    "start_time": "2023-05-29T06:08:34.504Z"
   },
   {
    "duration": 1029,
    "start_time": "2023-05-29T06:19:18.910Z"
   },
   {
    "duration": 4505,
    "start_time": "2023-05-29T06:30:31.228Z"
   },
   {
    "duration": 4608,
    "start_time": "2023-05-29T06:31:03.316Z"
   },
   {
    "duration": 14,
    "start_time": "2023-05-29T06:38:29.511Z"
   },
   {
    "duration": 15,
    "start_time": "2023-05-29T06:41:25.544Z"
   },
   {
    "duration": 15,
    "start_time": "2023-05-29T06:41:56.182Z"
   },
   {
    "duration": 16,
    "start_time": "2023-05-29T06:42:09.208Z"
   },
   {
    "duration": 8,
    "start_time": "2023-05-29T06:42:50.018Z"
   },
   {
    "duration": 8,
    "start_time": "2023-05-29T06:43:02.108Z"
   },
   {
    "duration": 11,
    "start_time": "2023-05-29T06:43:17.014Z"
   },
   {
    "duration": 7,
    "start_time": "2023-05-29T06:43:21.297Z"
   },
   {
    "duration": 7,
    "start_time": "2023-05-29T07:01:03.020Z"
   },
   {
    "duration": 5,
    "start_time": "2023-05-29T07:01:36.311Z"
   },
   {
    "duration": 6002,
    "start_time": "2023-05-29T07:32:34.268Z"
   },
   {
    "duration": 568,
    "start_time": "2023-05-29T09:01:08.209Z"
   },
   {
    "duration": 349,
    "start_time": "2023-05-29T09:03:51.356Z"
   },
   {
    "duration": 318,
    "start_time": "2023-05-29T09:04:38.401Z"
   },
   {
    "duration": 307,
    "start_time": "2023-05-29T09:05:24.386Z"
   },
   {
    "duration": 75,
    "start_time": "2023-05-29T09:06:42.824Z"
   },
   {
    "duration": 1037,
    "start_time": "2023-05-29T09:08:22.018Z"
   },
   {
    "duration": 7,
    "start_time": "2023-05-29T09:09:32.686Z"
   },
   {
    "duration": 10,
    "start_time": "2023-05-29T09:09:42.013Z"
   },
   {
    "duration": 12,
    "start_time": "2023-05-29T09:10:11.656Z"
   },
   {
    "duration": 13,
    "start_time": "2023-05-29T09:10:18.200Z"
   },
   {
    "duration": 68,
    "start_time": "2023-05-29T09:10:29.687Z"
   },
   {
    "duration": 7909,
    "start_time": "2023-05-29T09:14:02.865Z"
   },
   {
    "duration": 7191,
    "start_time": "2023-05-29T09:14:20.115Z"
   },
   {
    "duration": 7066,
    "start_time": "2023-05-29T09:14:47.201Z"
   },
   {
    "duration": 8,
    "start_time": "2023-05-29T09:15:30.286Z"
   },
   {
    "duration": 6671,
    "start_time": "2023-05-29T09:15:56.157Z"
   },
   {
    "duration": 54,
    "start_time": "2023-05-29T09:17:18.128Z"
   },
   {
    "duration": 1054,
    "start_time": "2023-05-29T09:18:04.052Z"
   },
   {
    "duration": 848,
    "start_time": "2023-05-29T09:18:12.432Z"
   },
   {
    "duration": 8138,
    "start_time": "2023-05-29T09:19:12.123Z"
   },
   {
    "duration": 980,
    "start_time": "2023-05-29T09:19:26.910Z"
   },
   {
    "duration": 83,
    "start_time": "2023-05-29T09:20:27.906Z"
   },
   {
    "duration": 6704,
    "start_time": "2023-05-29T09:20:50.390Z"
   },
   {
    "duration": 72,
    "start_time": "2023-05-29T09:21:55.109Z"
   },
   {
    "duration": 1071,
    "start_time": "2023-05-29T09:22:38.514Z"
   },
   {
    "duration": 8,
    "start_time": "2023-05-29T09:23:09.231Z"
   },
   {
    "duration": 73,
    "start_time": "2023-05-29T09:23:22.905Z"
   },
   {
    "duration": 25,
    "start_time": "2023-05-29T09:25:55.587Z"
   },
   {
    "duration": 21,
    "start_time": "2023-05-29T09:42:34.123Z"
   },
   {
    "duration": 20,
    "start_time": "2023-05-29T09:42:46.420Z"
   },
   {
    "duration": 17,
    "start_time": "2023-05-29T09:44:16.353Z"
   },
   {
    "duration": 20,
    "start_time": "2023-05-29T09:49:28.954Z"
   },
   {
    "duration": 36,
    "start_time": "2023-05-29T09:49:50.354Z"
   },
   {
    "duration": 9,
    "start_time": "2023-05-29T09:51:22.910Z"
   },
   {
    "duration": 50,
    "start_time": "2023-05-29T09:55:51.270Z"
   },
   {
    "duration": 63,
    "start_time": "2023-05-29T09:57:01.259Z"
   },
   {
    "duration": 61,
    "start_time": "2023-05-29T09:57:39.518Z"
   },
   {
    "duration": 61,
    "start_time": "2023-05-29T09:57:48.544Z"
   },
   {
    "duration": 46,
    "start_time": "2023-05-29T10:02:06.214Z"
   },
   {
    "duration": 49,
    "start_time": "2023-05-29T10:02:46.306Z"
   },
   {
    "duration": 785,
    "start_time": "2023-05-29T10:03:13.302Z"
   },
   {
    "duration": 107,
    "start_time": "2023-05-29T10:03:14.090Z"
   },
   {
    "duration": 19,
    "start_time": "2023-05-29T10:03:14.199Z"
   },
   {
    "duration": 1840,
    "start_time": "2023-05-29T10:03:14.220Z"
   },
   {
    "duration": 11,
    "start_time": "2023-05-29T10:03:16.063Z"
   },
   {
    "duration": 13,
    "start_time": "2023-05-29T10:03:16.076Z"
   },
   {
    "duration": 17,
    "start_time": "2023-05-29T10:03:16.091Z"
   },
   {
    "duration": 4,
    "start_time": "2023-05-29T10:03:16.111Z"
   },
   {
    "duration": 1919,
    "start_time": "2023-05-29T10:03:16.117Z"
   },
   {
    "duration": 1867,
    "start_time": "2023-05-29T10:03:18.038Z"
   },
   {
    "duration": 13,
    "start_time": "2023-05-29T10:03:19.907Z"
   },
   {
    "duration": 15,
    "start_time": "2023-05-29T10:03:19.921Z"
   },
   {
    "duration": 28,
    "start_time": "2023-05-29T10:03:19.937Z"
   },
   {
    "duration": 21,
    "start_time": "2023-05-29T10:03:19.967Z"
   },
   {
    "duration": 213,
    "start_time": "2023-05-29T10:03:19.989Z"
   },
   {
    "duration": 60,
    "start_time": "2023-05-29T10:03:20.203Z"
   },
   {
    "duration": 190,
    "start_time": "2023-05-29T10:03:20.264Z"
   },
   {
    "duration": 144,
    "start_time": "2023-05-29T10:03:20.455Z"
   },
   {
    "duration": 16,
    "start_time": "2023-05-29T10:03:20.600Z"
   },
   {
    "duration": 5,
    "start_time": "2023-05-29T10:03:20.617Z"
   },
   {
    "duration": 27,
    "start_time": "2023-05-29T10:03:20.623Z"
   },
   {
    "duration": 323,
    "start_time": "2023-05-29T10:03:20.651Z"
   },
   {
    "duration": 10,
    "start_time": "2023-05-29T10:03:20.975Z"
   },
   {
    "duration": 30,
    "start_time": "2023-05-29T10:03:20.986Z"
   },
   {
    "duration": 331,
    "start_time": "2023-05-29T10:03:21.018Z"
   },
   {
    "duration": 222,
    "start_time": "2023-05-29T10:03:21.351Z"
   },
   {
    "duration": 170,
    "start_time": "2023-05-29T10:03:21.575Z"
   },
   {
    "duration": 240,
    "start_time": "2023-05-29T10:03:21.746Z"
   },
   {
    "duration": 161,
    "start_time": "2023-05-29T10:03:21.988Z"
   },
   {
    "duration": 156,
    "start_time": "2023-05-29T10:03:22.151Z"
   },
   {
    "duration": 192,
    "start_time": "2023-05-29T10:03:22.309Z"
   },
   {
    "duration": 7,
    "start_time": "2023-05-29T10:03:22.503Z"
   },
   {
    "duration": 205,
    "start_time": "2023-05-29T10:03:22.511Z"
   },
   {
    "duration": 305,
    "start_time": "2023-05-29T10:03:22.718Z"
   },
   {
    "duration": 181,
    "start_time": "2023-05-29T10:03:23.024Z"
   },
   {
    "duration": 182,
    "start_time": "2023-05-29T10:03:23.207Z"
   },
   {
    "duration": 256,
    "start_time": "2023-05-29T10:03:23.391Z"
   },
   {
    "duration": 179,
    "start_time": "2023-05-29T10:03:23.648Z"
   },
   {
    "duration": 6481,
    "start_time": "2023-05-29T10:03:23.828Z"
   },
   {
    "duration": 16,
    "start_time": "2023-05-29T10:03:30.310Z"
   },
   {
    "duration": 0,
    "start_time": "2023-05-29T10:03:30.433Z"
   },
   {
    "duration": 54,
    "start_time": "2023-05-29T10:03:42.765Z"
   },
   {
    "duration": 51,
    "start_time": "2023-05-29T10:03:57.812Z"
   },
   {
    "duration": 48,
    "start_time": "2023-05-29T10:06:40.567Z"
   },
   {
    "duration": 18,
    "start_time": "2023-05-29T10:09:44.319Z"
   },
   {
    "duration": 285,
    "start_time": "2023-05-29T10:09:57.113Z"
   },
   {
    "duration": 20,
    "start_time": "2023-05-29T10:10:27.301Z"
   },
   {
    "duration": 24,
    "start_time": "2023-05-29T10:10:39.465Z"
   },
   {
    "duration": 23,
    "start_time": "2023-05-29T10:10:47.403Z"
   },
   {
    "duration": 21,
    "start_time": "2023-05-29T10:11:32.326Z"
   },
   {
    "duration": 284,
    "start_time": "2023-05-29T10:14:13.508Z"
   },
   {
    "duration": 332,
    "start_time": "2023-05-29T10:16:43.773Z"
   },
   {
    "duration": 16,
    "start_time": "2023-05-29T10:16:50.903Z"
   },
   {
    "duration": 14,
    "start_time": "2023-05-29T10:17:02.327Z"
   },
   {
    "duration": 18,
    "start_time": "2023-05-29T10:17:50.422Z"
   },
   {
    "duration": 18,
    "start_time": "2023-05-29T10:17:57.530Z"
   },
   {
    "duration": 17,
    "start_time": "2023-05-29T10:18:12.480Z"
   },
   {
    "duration": 33,
    "start_time": "2023-05-29T10:21:17.098Z"
   },
   {
    "duration": 22,
    "start_time": "2023-05-29T10:21:41.970Z"
   },
   {
    "duration": 23,
    "start_time": "2023-05-29T10:22:36.998Z"
   },
   {
    "duration": 14,
    "start_time": "2023-05-29T10:26:45.106Z"
   },
   {
    "duration": 57,
    "start_time": "2023-05-29T10:31:09.813Z"
   },
   {
    "duration": 59,
    "start_time": "2023-05-29T10:37:16.632Z"
   },
   {
    "duration": 66,
    "start_time": "2023-05-29T10:38:41.262Z"
   },
   {
    "duration": 70,
    "start_time": "2023-05-29T10:40:14.754Z"
   },
   {
    "duration": 67,
    "start_time": "2023-05-29T10:40:38.697Z"
   },
   {
    "duration": 20,
    "start_time": "2023-05-29T10:40:55.108Z"
   },
   {
    "duration": 20,
    "start_time": "2023-05-29T10:41:41.704Z"
   },
   {
    "duration": 15,
    "start_time": "2023-05-29T10:46:39.379Z"
   },
   {
    "duration": 20,
    "start_time": "2023-05-29T10:47:31.934Z"
   },
   {
    "duration": 19,
    "start_time": "2023-05-29T10:47:46.911Z"
   },
   {
    "duration": 186,
    "start_time": "2023-05-29T10:49:20.490Z"
   },
   {
    "duration": 108,
    "start_time": "2023-05-29T10:49:34.704Z"
   },
   {
    "duration": 110,
    "start_time": "2023-05-29T10:50:25.054Z"
   },
   {
    "duration": 1502,
    "start_time": "2023-05-30T04:00:58.876Z"
   },
   {
    "duration": 154,
    "start_time": "2023-05-30T04:01:00.381Z"
   },
   {
    "duration": 20,
    "start_time": "2023-05-30T04:01:00.538Z"
   },
   {
    "duration": 1890,
    "start_time": "2023-05-30T04:01:00.561Z"
   },
   {
    "duration": 9,
    "start_time": "2023-05-30T04:01:02.453Z"
   },
   {
    "duration": 54,
    "start_time": "2023-05-30T04:01:02.464Z"
   },
   {
    "duration": 25,
    "start_time": "2023-05-30T04:01:02.520Z"
   },
   {
    "duration": 12,
    "start_time": "2023-05-30T04:01:02.547Z"
   },
   {
    "duration": 1747,
    "start_time": "2023-05-30T04:01:02.560Z"
   },
   {
    "duration": 1920,
    "start_time": "2023-05-30T04:01:04.309Z"
   },
   {
    "duration": 13,
    "start_time": "2023-05-30T04:01:06.231Z"
   },
   {
    "duration": 22,
    "start_time": "2023-05-30T04:01:06.246Z"
   },
   {
    "duration": 49,
    "start_time": "2023-05-30T04:01:06.270Z"
   },
   {
    "duration": 7,
    "start_time": "2023-05-30T04:01:06.320Z"
   },
   {
    "duration": 224,
    "start_time": "2023-05-30T04:01:06.329Z"
   },
   {
    "duration": 86,
    "start_time": "2023-05-30T04:01:06.556Z"
   },
   {
    "duration": 184,
    "start_time": "2023-05-30T04:01:06.643Z"
   },
   {
    "duration": 149,
    "start_time": "2023-05-30T04:01:06.829Z"
   },
   {
    "duration": 19,
    "start_time": "2023-05-30T04:01:06.980Z"
   },
   {
    "duration": 5,
    "start_time": "2023-05-30T04:01:07.004Z"
   },
   {
    "duration": 27,
    "start_time": "2023-05-30T04:01:07.012Z"
   },
   {
    "duration": 316,
    "start_time": "2023-05-30T04:01:07.041Z"
   },
   {
    "duration": 4,
    "start_time": "2023-05-30T04:01:07.358Z"
   },
   {
    "duration": 34,
    "start_time": "2023-05-30T04:01:07.364Z"
   },
   {
    "duration": 318,
    "start_time": "2023-05-30T04:01:07.400Z"
   },
   {
    "duration": 376,
    "start_time": "2023-05-30T04:01:07.720Z"
   },
   {
    "duration": 216,
    "start_time": "2023-05-30T04:01:08.098Z"
   },
   {
    "duration": 255,
    "start_time": "2023-05-30T04:01:08.319Z"
   },
   {
    "duration": 169,
    "start_time": "2023-05-30T04:01:08.576Z"
   },
   {
    "duration": 159,
    "start_time": "2023-05-30T04:01:08.746Z"
   },
   {
    "duration": 233,
    "start_time": "2023-05-30T04:01:08.907Z"
   },
   {
    "duration": 7,
    "start_time": "2023-05-30T04:01:09.142Z"
   },
   {
    "duration": 197,
    "start_time": "2023-05-30T04:01:09.151Z"
   },
   {
    "duration": 268,
    "start_time": "2023-05-30T04:01:09.350Z"
   },
   {
    "duration": 190,
    "start_time": "2023-05-30T04:01:09.619Z"
   },
   {
    "duration": 193,
    "start_time": "2023-05-30T04:01:09.811Z"
   },
   {
    "duration": 299,
    "start_time": "2023-05-30T04:01:10.006Z"
   },
   {
    "duration": 211,
    "start_time": "2023-05-30T04:01:10.307Z"
   },
   {
    "duration": 6557,
    "start_time": "2023-05-30T04:01:10.520Z"
   },
   {
    "duration": 23,
    "start_time": "2023-05-30T04:01:17.078Z"
   },
   {
    "duration": 22,
    "start_time": "2023-05-30T04:01:17.102Z"
   },
   {
    "duration": 25,
    "start_time": "2023-05-30T04:01:17.125Z"
   },
   {
    "duration": 174,
    "start_time": "2023-05-30T04:01:17.152Z"
   },
   {
    "duration": 2553,
    "start_time": "2023-05-30T04:01:45.482Z"
   },
   {
    "duration": 52,
    "start_time": "2023-05-30T05:34:05.679Z"
   },
   {
    "duration": 48,
    "start_time": "2023-05-30T05:45:36.103Z"
   },
   {
    "duration": 148,
    "start_time": "2023-05-30T05:46:04.808Z"
   },
   {
    "duration": 163,
    "start_time": "2023-05-30T05:50:13.310Z"
   },
   {
    "duration": 160,
    "start_time": "2023-05-30T05:50:22.427Z"
   },
   {
    "duration": 176,
    "start_time": "2023-05-30T05:50:47.026Z"
   },
   {
    "duration": 88,
    "start_time": "2023-05-30T05:52:08.869Z"
   },
   {
    "duration": 107,
    "start_time": "2023-05-30T05:52:23.461Z"
   },
   {
    "duration": 8,
    "start_time": "2023-05-30T06:09:33.038Z"
   },
   {
    "duration": 11,
    "start_time": "2023-05-30T06:09:45.552Z"
   },
   {
    "duration": 114,
    "start_time": "2023-05-30T06:10:05.552Z"
   },
   {
    "duration": 10,
    "start_time": "2023-05-30T06:10:14.543Z"
   },
   {
    "duration": 9,
    "start_time": "2023-05-30T06:10:30.447Z"
   },
   {
    "duration": 86,
    "start_time": "2023-05-30T22:29:30.189Z"
   },
   {
    "duration": 1465,
    "start_time": "2023-05-30T22:29:38.837Z"
   },
   {
    "duration": 158,
    "start_time": "2023-05-30T22:29:40.304Z"
   },
   {
    "duration": 26,
    "start_time": "2023-05-30T22:29:40.464Z"
   },
   {
    "duration": 2469,
    "start_time": "2023-05-30T22:29:40.497Z"
   },
   {
    "duration": 38,
    "start_time": "2023-05-30T22:29:42.968Z"
   },
   {
    "duration": 113,
    "start_time": "2023-05-30T22:29:43.008Z"
   },
   {
    "duration": 81,
    "start_time": "2023-05-30T22:29:43.124Z"
   },
   {
    "duration": 80,
    "start_time": "2023-05-30T22:29:43.210Z"
   },
   {
    "duration": 2842,
    "start_time": "2023-05-30T22:29:43.298Z"
   },
   {
    "duration": 2830,
    "start_time": "2023-05-30T22:29:46.161Z"
   },
   {
    "duration": 15,
    "start_time": "2023-05-30T22:29:48.999Z"
   },
   {
    "duration": 12,
    "start_time": "2023-05-30T22:29:49.016Z"
   },
   {
    "duration": 64,
    "start_time": "2023-05-30T22:29:49.029Z"
   },
   {
    "duration": 24,
    "start_time": "2023-05-30T22:29:49.094Z"
   },
   {
    "duration": 309,
    "start_time": "2023-05-30T22:29:49.120Z"
   },
   {
    "duration": 89,
    "start_time": "2023-05-30T22:29:49.431Z"
   },
   {
    "duration": 266,
    "start_time": "2023-05-30T22:29:49.522Z"
   },
   {
    "duration": 209,
    "start_time": "2023-05-30T22:29:49.798Z"
   },
   {
    "duration": 20,
    "start_time": "2023-05-30T22:29:50.009Z"
   },
   {
    "duration": 30,
    "start_time": "2023-05-30T22:29:50.032Z"
   },
   {
    "duration": 65,
    "start_time": "2023-05-30T22:29:50.063Z"
   },
   {
    "duration": 500,
    "start_time": "2023-05-30T22:29:50.130Z"
   },
   {
    "duration": 5,
    "start_time": "2023-05-30T22:29:50.632Z"
   },
   {
    "duration": 78,
    "start_time": "2023-05-30T22:29:50.646Z"
   },
   {
    "duration": 476,
    "start_time": "2023-05-30T22:29:50.726Z"
   },
   {
    "duration": 328,
    "start_time": "2023-05-30T22:29:51.204Z"
   },
   {
    "duration": 259,
    "start_time": "2023-05-30T22:29:51.534Z"
   },
   {
    "duration": 349,
    "start_time": "2023-05-30T22:29:51.797Z"
   },
   {
    "duration": 242,
    "start_time": "2023-05-30T22:29:52.147Z"
   },
   {
    "duration": 242,
    "start_time": "2023-05-30T22:29:52.391Z"
   },
   {
    "duration": 281,
    "start_time": "2023-05-30T22:29:52.635Z"
   },
   {
    "duration": 12,
    "start_time": "2023-05-30T22:29:52.918Z"
   },
   {
    "duration": 449,
    "start_time": "2023-05-30T22:29:52.933Z"
   },
   {
    "duration": 384,
    "start_time": "2023-05-30T22:29:53.384Z"
   },
   {
    "duration": 268,
    "start_time": "2023-05-30T22:29:53.769Z"
   },
   {
    "duration": 289,
    "start_time": "2023-05-30T22:29:54.039Z"
   },
   {
    "duration": 406,
    "start_time": "2023-05-30T22:29:54.330Z"
   },
   {
    "duration": 499,
    "start_time": "2023-05-30T22:29:54.738Z"
   },
   {
    "duration": 177,
    "start_time": "2023-05-30T22:29:55.239Z"
   },
   {
    "duration": 9641,
    "start_time": "2023-05-30T22:29:55.418Z"
   },
   {
    "duration": 28,
    "start_time": "2023-05-30T22:30:05.061Z"
   },
   {
    "duration": 94,
    "start_time": "2023-05-30T22:30:05.091Z"
   },
   {
    "duration": 108,
    "start_time": "2023-05-30T22:30:05.189Z"
   },
   {
    "duration": 206,
    "start_time": "2023-05-30T22:30:05.305Z"
   },
   {
    "duration": 550,
    "start_time": "2023-05-30T22:30:47.215Z"
   },
   {
    "duration": 822,
    "start_time": "2023-05-30T22:36:29.613Z"
   },
   {
    "duration": 1338,
    "start_time": "2023-05-31T05:33:05.870Z"
   },
   {
    "duration": 126,
    "start_time": "2023-05-31T05:33:07.210Z"
   },
   {
    "duration": 39,
    "start_time": "2023-05-31T05:33:07.338Z"
   },
   {
    "duration": 2288,
    "start_time": "2023-05-31T05:33:07.379Z"
   },
   {
    "duration": 13,
    "start_time": "2023-05-31T05:33:09.669Z"
   },
   {
    "duration": 28,
    "start_time": "2023-05-31T05:33:09.684Z"
   },
   {
    "duration": 21,
    "start_time": "2023-05-31T05:33:09.714Z"
   },
   {
    "duration": 16,
    "start_time": "2023-05-31T05:33:09.737Z"
   },
   {
    "duration": 2309,
    "start_time": "2023-05-31T05:33:09.756Z"
   },
   {
    "duration": 2598,
    "start_time": "2023-05-31T05:33:12.075Z"
   },
   {
    "duration": 10,
    "start_time": "2023-05-31T05:33:14.675Z"
   },
   {
    "duration": 12,
    "start_time": "2023-05-31T05:33:14.687Z"
   },
   {
    "duration": 49,
    "start_time": "2023-05-31T05:33:14.701Z"
   },
   {
    "duration": 13,
    "start_time": "2023-05-31T05:33:14.756Z"
   },
   {
    "duration": 250,
    "start_time": "2023-05-31T05:33:14.771Z"
   },
   {
    "duration": 82,
    "start_time": "2023-05-31T05:33:15.023Z"
   },
   {
    "duration": 215,
    "start_time": "2023-05-31T05:33:15.107Z"
   },
   {
    "duration": 201,
    "start_time": "2023-05-31T05:33:15.323Z"
   },
   {
    "duration": 18,
    "start_time": "2023-05-31T05:33:15.525Z"
   },
   {
    "duration": 9,
    "start_time": "2023-05-31T05:33:15.553Z"
   },
   {
    "duration": 54,
    "start_time": "2023-05-31T05:33:15.564Z"
   },
   {
    "duration": 372,
    "start_time": "2023-05-31T05:33:15.620Z"
   },
   {
    "duration": 4,
    "start_time": "2023-05-31T05:33:15.993Z"
   },
   {
    "duration": 31,
    "start_time": "2023-05-31T05:33:15.999Z"
   },
   {
    "duration": 421,
    "start_time": "2023-05-31T05:33:16.032Z"
   },
   {
    "duration": 329,
    "start_time": "2023-05-31T05:33:16.455Z"
   },
   {
    "duration": 208,
    "start_time": "2023-05-31T05:33:16.786Z"
   },
   {
    "duration": 341,
    "start_time": "2023-05-31T05:33:16.998Z"
   },
   {
    "duration": 229,
    "start_time": "2023-05-31T05:33:17.341Z"
   },
   {
    "duration": 211,
    "start_time": "2023-05-31T05:33:17.572Z"
   },
   {
    "duration": 233,
    "start_time": "2023-05-31T05:33:17.786Z"
   },
   {
    "duration": 7,
    "start_time": "2023-05-31T05:33:18.021Z"
   },
   {
    "duration": 263,
    "start_time": "2023-05-31T05:33:18.030Z"
   },
   {
    "duration": 333,
    "start_time": "2023-05-31T05:33:18.296Z"
   },
   {
    "duration": 249,
    "start_time": "2023-05-31T05:33:18.631Z"
   },
   {
    "duration": 226,
    "start_time": "2023-05-31T05:33:18.882Z"
   },
   {
    "duration": 341,
    "start_time": "2023-05-31T05:33:19.110Z"
   },
   {
    "duration": 514,
    "start_time": "2023-05-31T05:33:19.453Z"
   },
   {
    "duration": 160,
    "start_time": "2023-05-31T05:33:19.970Z"
   },
   {
    "duration": 8500,
    "start_time": "2023-05-31T05:33:20.132Z"
   },
   {
    "duration": 27,
    "start_time": "2023-05-31T05:33:28.634Z"
   },
   {
    "duration": 43,
    "start_time": "2023-05-31T05:33:28.664Z"
   },
   {
    "duration": 25,
    "start_time": "2023-05-31T05:33:28.709Z"
   },
   {
    "duration": 162,
    "start_time": "2023-05-31T05:33:28.745Z"
   },
   {
    "duration": 53,
    "start_time": "2023-05-31T05:35:01.113Z"
   },
   {
    "duration": 819,
    "start_time": "2023-05-31T05:52:10.126Z"
   },
   {
    "duration": 135,
    "start_time": "2023-05-31T05:52:10.949Z"
   },
   {
    "duration": 21,
    "start_time": "2023-05-31T05:52:11.086Z"
   },
   {
    "duration": 2702,
    "start_time": "2023-05-31T05:52:11.110Z"
   },
   {
    "duration": 12,
    "start_time": "2023-05-31T05:52:13.813Z"
   },
   {
    "duration": 7,
    "start_time": "2023-05-31T05:52:13.826Z"
   },
   {
    "duration": 27,
    "start_time": "2023-05-31T05:52:13.835Z"
   },
   {
    "duration": 23,
    "start_time": "2023-05-31T05:52:13.869Z"
   },
   {
    "duration": 2511,
    "start_time": "2023-05-31T05:52:13.894Z"
   },
   {
    "duration": 2616,
    "start_time": "2023-05-31T05:52:16.409Z"
   },
   {
    "duration": 37,
    "start_time": "2023-05-31T05:52:19.026Z"
   },
   {
    "duration": 21,
    "start_time": "2023-05-31T05:52:19.069Z"
   },
   {
    "duration": 41,
    "start_time": "2023-05-31T05:52:19.093Z"
   },
   {
    "duration": 7,
    "start_time": "2023-05-31T05:52:19.136Z"
   },
   {
    "duration": 332,
    "start_time": "2023-05-31T05:52:19.145Z"
   },
   {
    "duration": 90,
    "start_time": "2023-05-31T05:52:19.483Z"
   },
   {
    "duration": 226,
    "start_time": "2023-05-31T05:52:19.576Z"
   },
   {
    "duration": 208,
    "start_time": "2023-05-31T05:52:19.804Z"
   },
   {
    "duration": 62,
    "start_time": "2023-05-31T05:52:20.014Z"
   },
   {
    "duration": 6,
    "start_time": "2023-05-31T05:52:20.083Z"
   },
   {
    "duration": 17,
    "start_time": "2023-05-31T05:52:20.091Z"
   },
   {
    "duration": 419,
    "start_time": "2023-05-31T05:52:20.110Z"
   },
   {
    "duration": 6,
    "start_time": "2023-05-31T05:52:20.531Z"
   },
   {
    "duration": 60,
    "start_time": "2023-05-31T05:52:20.538Z"
   },
   {
    "duration": 405,
    "start_time": "2023-05-31T05:52:20.600Z"
   },
   {
    "duration": 326,
    "start_time": "2023-05-31T05:52:21.006Z"
   },
   {
    "duration": 240,
    "start_time": "2023-05-31T05:52:21.333Z"
   },
   {
    "duration": 377,
    "start_time": "2023-05-31T05:52:21.585Z"
   },
   {
    "duration": 293,
    "start_time": "2023-05-31T05:52:21.967Z"
   },
   {
    "duration": 228,
    "start_time": "2023-05-31T05:52:22.262Z"
   },
   {
    "duration": 319,
    "start_time": "2023-05-31T05:52:22.492Z"
   },
   {
    "duration": 12,
    "start_time": "2023-05-31T05:52:22.814Z"
   },
   {
    "duration": 355,
    "start_time": "2023-05-31T05:52:22.828Z"
   },
   {
    "duration": 369,
    "start_time": "2023-05-31T05:52:23.186Z"
   },
   {
    "duration": 245,
    "start_time": "2023-05-31T05:52:23.557Z"
   },
   {
    "duration": 235,
    "start_time": "2023-05-31T05:52:23.805Z"
   },
   {
    "duration": 369,
    "start_time": "2023-05-31T05:52:24.042Z"
   },
   {
    "duration": 480,
    "start_time": "2023-05-31T05:52:24.412Z"
   },
   {
    "duration": 197,
    "start_time": "2023-05-31T05:52:24.894Z"
   },
   {
    "duration": 9026,
    "start_time": "2023-05-31T05:52:25.093Z"
   },
   {
    "duration": 31,
    "start_time": "2023-05-31T05:52:34.120Z"
   },
   {
    "duration": 46,
    "start_time": "2023-05-31T05:52:34.152Z"
   },
   {
    "duration": 29,
    "start_time": "2023-05-31T05:52:34.200Z"
   },
   {
    "duration": 183,
    "start_time": "2023-05-31T05:52:34.231Z"
   },
   {
    "duration": 560,
    "start_time": "2023-05-31T05:55:42.401Z"
   },
   {
    "duration": 910,
    "start_time": "2023-06-02T10:21:46.646Z"
   },
   {
    "duration": 869,
    "start_time": "2023-06-02T17:09:25.657Z"
   },
   {
    "duration": 4,
    "start_time": "2023-06-02T17:09:40.746Z"
   },
   {
    "duration": 1378,
    "start_time": "2023-06-02T17:10:05.215Z"
   },
   {
    "duration": 64,
    "start_time": "2023-06-02T17:10:30.901Z"
   },
   {
    "duration": 3,
    "start_time": "2023-06-02T17:10:33.956Z"
   },
   {
    "duration": 15,
    "start_time": "2023-06-02T17:10:34.658Z"
   },
   {
    "duration": 67,
    "start_time": "2023-06-02T17:12:54.345Z"
   },
   {
    "duration": 60,
    "start_time": "2023-06-02T17:28:01.249Z"
   },
   {
    "duration": 13,
    "start_time": "2023-06-02T17:28:23.004Z"
   },
   {
    "duration": 60,
    "start_time": "2023-06-02T17:47:09.773Z"
   },
   {
    "duration": 11,
    "start_time": "2023-06-02T17:47:11.025Z"
   },
   {
    "duration": 11,
    "start_time": "2023-06-02T17:47:12.428Z"
   },
   {
    "duration": 848,
    "start_time": "2023-06-03T05:00:27.819Z"
   },
   {
    "duration": 15,
    "start_time": "2023-06-03T05:00:28.669Z"
   },
   {
    "duration": 82,
    "start_time": "2023-06-03T05:00:29.636Z"
   },
   {
    "duration": 83,
    "start_time": "2023-06-03T05:05:49.668Z"
   },
   {
    "duration": 17,
    "start_time": "2023-06-03T05:05:50.365Z"
   },
   {
    "duration": 8,
    "start_time": "2023-06-03T05:05:51.433Z"
   },
   {
    "duration": 12,
    "start_time": "2023-06-03T05:09:11.540Z"
   },
   {
    "duration": 13,
    "start_time": "2023-06-03T05:09:47.832Z"
   },
   {
    "duration": 10,
    "start_time": "2023-06-03T05:10:51.212Z"
   },
   {
    "duration": 11,
    "start_time": "2023-06-03T05:10:56.976Z"
   },
   {
    "duration": 7,
    "start_time": "2023-06-03T05:15:27.362Z"
   },
   {
    "duration": 8,
    "start_time": "2023-06-03T05:23:20.363Z"
   },
   {
    "duration": 10,
    "start_time": "2023-06-03T05:23:25.353Z"
   },
   {
    "duration": 15,
    "start_time": "2023-06-03T05:23:26.003Z"
   },
   {
    "duration": 15,
    "start_time": "2023-06-03T05:23:26.685Z"
   },
   {
    "duration": 9,
    "start_time": "2023-06-03T05:23:35.781Z"
   },
   {
    "duration": 225,
    "start_time": "2023-06-03T05:25:01.393Z"
   },
   {
    "duration": 59,
    "start_time": "2023-06-03T05:25:09.510Z"
   },
   {
    "duration": 11,
    "start_time": "2023-06-03T05:25:10.350Z"
   },
   {
    "duration": 9,
    "start_time": "2023-06-03T05:25:11.259Z"
   },
   {
    "duration": 10,
    "start_time": "2023-06-03T05:25:12.317Z"
   },
   {
    "duration": 268,
    "start_time": "2023-06-03T05:25:15.301Z"
   },
   {
    "duration": 4,
    "start_time": "2023-06-03T05:26:07.648Z"
   },
   {
    "duration": 12,
    "start_time": "2023-06-03T05:27:19.030Z"
   },
   {
    "duration": 12,
    "start_time": "2023-06-03T05:27:22.244Z"
   },
   {
    "duration": 8,
    "start_time": "2023-06-03T05:31:15.919Z"
   },
   {
    "duration": 6,
    "start_time": "2023-06-03T05:32:34.124Z"
   },
   {
    "duration": 9,
    "start_time": "2023-06-03T05:32:55.929Z"
   },
   {
    "duration": 15,
    "start_time": "2023-06-03T05:33:00.909Z"
   },
   {
    "duration": 13,
    "start_time": "2023-06-03T05:33:09.505Z"
   },
   {
    "duration": 49,
    "start_time": "2023-06-03T05:33:10.221Z"
   },
   {
    "duration": 7,
    "start_time": "2023-06-03T05:33:28.548Z"
   },
   {
    "duration": 6,
    "start_time": "2023-06-03T05:33:54.076Z"
   },
   {
    "duration": 343,
    "start_time": "2023-06-03T05:35:11.147Z"
   },
   {
    "duration": 11,
    "start_time": "2023-06-03T05:35:18.904Z"
   },
   {
    "duration": 19,
    "start_time": "2023-06-03T05:36:44.411Z"
   },
   {
    "duration": 10,
    "start_time": "2023-06-03T05:47:54.316Z"
   },
   {
    "duration": 10,
    "start_time": "2023-06-03T05:48:10.658Z"
   },
   {
    "duration": 10,
    "start_time": "2023-06-03T05:48:24.860Z"
   },
   {
    "duration": 11,
    "start_time": "2023-06-03T05:48:59.689Z"
   },
   {
    "duration": 10,
    "start_time": "2023-06-03T05:49:20.509Z"
   },
   {
    "duration": 4,
    "start_time": "2023-06-03T05:49:30.711Z"
   },
   {
    "duration": 7,
    "start_time": "2023-06-03T05:49:46.065Z"
   },
   {
    "duration": 8,
    "start_time": "2023-06-03T05:50:10.366Z"
   },
   {
    "duration": 51,
    "start_time": "2023-06-03T05:50:23.206Z"
   },
   {
    "duration": 9,
    "start_time": "2023-06-03T05:50:37.994Z"
   },
   {
    "duration": 5,
    "start_time": "2023-06-03T05:51:12.737Z"
   },
   {
    "duration": 5,
    "start_time": "2023-06-03T05:51:38.230Z"
   },
   {
    "duration": 5,
    "start_time": "2023-06-03T05:51:47.574Z"
   },
   {
    "duration": 9,
    "start_time": "2023-06-03T05:52:11.469Z"
   },
   {
    "duration": 5,
    "start_time": "2023-06-03T05:52:16.743Z"
   },
   {
    "duration": 8,
    "start_time": "2023-06-03T05:56:06.203Z"
   },
   {
    "duration": 5,
    "start_time": "2023-06-03T05:57:13.340Z"
   },
   {
    "duration": 5,
    "start_time": "2023-06-03T05:57:14.157Z"
   },
   {
    "duration": 6,
    "start_time": "2023-06-03T05:57:15.113Z"
   },
   {
    "duration": 9,
    "start_time": "2023-06-03T05:58:06.729Z"
   },
   {
    "duration": 50,
    "start_time": "2023-06-03T05:58:26.729Z"
   },
   {
    "duration": 6,
    "start_time": "2023-06-03T05:58:36.701Z"
   },
   {
    "duration": 10,
    "start_time": "2023-06-03T05:58:45.447Z"
   },
   {
    "duration": 44,
    "start_time": "2023-06-03T05:59:32.913Z"
   },
   {
    "duration": 12,
    "start_time": "2023-06-03T05:59:40.368Z"
   },
   {
    "duration": 7,
    "start_time": "2023-06-03T06:00:04.100Z"
   },
   {
    "duration": 10,
    "start_time": "2023-06-03T06:01:00.172Z"
   },
   {
    "duration": 14,
    "start_time": "2023-06-03T06:03:32.316Z"
   },
   {
    "duration": 8,
    "start_time": "2023-06-03T06:03:35.164Z"
   },
   {
    "duration": 72,
    "start_time": "2023-06-03T06:07:44.504Z"
   },
   {
    "duration": 10,
    "start_time": "2023-06-03T06:07:45.161Z"
   },
   {
    "duration": 18,
    "start_time": "2023-06-03T06:07:45.880Z"
   },
   {
    "duration": 7,
    "start_time": "2023-06-03T06:07:46.556Z"
   },
   {
    "duration": 6,
    "start_time": "2023-06-03T06:07:47.232Z"
   },
   {
    "duration": 19,
    "start_time": "2023-06-03T06:09:21.182Z"
   },
   {
    "duration": 151,
    "start_time": "2023-06-03T06:27:55.766Z"
   },
   {
    "duration": 195,
    "start_time": "2023-06-03T06:28:48.863Z"
   },
   {
    "duration": 18,
    "start_time": "2023-06-03T07:32:20.709Z"
   },
   {
    "duration": 15,
    "start_time": "2023-06-03T07:32:57.310Z"
   },
   {
    "duration": 17,
    "start_time": "2023-06-03T07:34:09.858Z"
   },
   {
    "duration": 46,
    "start_time": "2023-06-03T07:34:51.283Z"
   },
   {
    "duration": 7,
    "start_time": "2023-06-03T07:35:00.459Z"
   },
   {
    "duration": 8,
    "start_time": "2023-06-03T07:36:02.116Z"
   },
   {
    "duration": 132,
    "start_time": "2023-06-03T07:48:03.200Z"
   },
   {
    "duration": 170,
    "start_time": "2023-06-03T07:51:14.951Z"
   },
   {
    "duration": 83,
    "start_time": "2023-06-03T12:18:40.589Z"
   },
   {
    "duration": 12,
    "start_time": "2023-06-03T12:18:41.420Z"
   },
   {
    "duration": 11,
    "start_time": "2023-06-03T12:18:42.437Z"
   },
   {
    "duration": 7,
    "start_time": "2023-06-03T12:18:43.169Z"
   },
   {
    "duration": 9,
    "start_time": "2023-06-03T12:18:44.175Z"
   },
   {
    "duration": 7,
    "start_time": "2023-06-03T12:18:55.926Z"
   },
   {
    "duration": 4,
    "start_time": "2023-06-03T12:18:58.904Z"
   },
   {
    "duration": 7,
    "start_time": "2023-06-03T12:19:01.961Z"
   },
   {
    "duration": 6,
    "start_time": "2023-06-03T12:19:06.340Z"
   },
   {
    "duration": 9,
    "start_time": "2023-06-03T12:30:58.204Z"
   },
   {
    "duration": 11,
    "start_time": "2023-06-03T12:31:08.167Z"
   },
   {
    "duration": 10,
    "start_time": "2023-06-03T12:31:08.882Z"
   },
   {
    "duration": 8,
    "start_time": "2023-06-03T12:31:09.811Z"
   },
   {
    "duration": 6,
    "start_time": "2023-06-03T12:31:10.645Z"
   },
   {
    "duration": 14,
    "start_time": "2023-06-03T12:31:12.432Z"
   },
   {
    "duration": 7,
    "start_time": "2023-06-03T12:31:13.928Z"
   },
   {
    "duration": 7,
    "start_time": "2023-06-03T12:31:36.950Z"
   },
   {
    "duration": 143,
    "start_time": "2023-06-03T12:31:48.680Z"
   },
   {
    "duration": 6,
    "start_time": "2023-06-03T12:32:03.389Z"
   },
   {
    "duration": 478,
    "start_time": "2023-06-03T12:34:49.912Z"
   },
   {
    "duration": 96,
    "start_time": "2023-06-03T14:41:52.831Z"
   },
   {
    "duration": 10,
    "start_time": "2023-06-03T14:41:53.755Z"
   },
   {
    "duration": 15,
    "start_time": "2023-06-03T14:41:55.561Z"
   },
   {
    "duration": 9,
    "start_time": "2023-06-03T14:41:59.160Z"
   },
   {
    "duration": 8,
    "start_time": "2023-06-03T14:42:01.235Z"
   },
   {
    "duration": 23,
    "start_time": "2023-06-03T14:42:02.003Z"
   },
   {
    "duration": 11,
    "start_time": "2023-06-03T14:42:03.177Z"
   },
   {
    "duration": 69,
    "start_time": "2023-06-03T15:27:28.629Z"
   },
   {
    "duration": 25,
    "start_time": "2023-06-03T15:27:29.284Z"
   },
   {
    "duration": 17,
    "start_time": "2023-06-03T15:27:29.973Z"
   },
   {
    "duration": 30,
    "start_time": "2023-06-03T15:27:30.577Z"
   },
   {
    "duration": 8,
    "start_time": "2023-06-03T15:27:31.203Z"
   },
   {
    "duration": 15,
    "start_time": "2023-06-03T15:27:32.257Z"
   },
   {
    "duration": 8,
    "start_time": "2023-06-03T15:27:33.225Z"
   },
   {
    "duration": 171,
    "start_time": "2023-06-03T15:27:34.777Z"
   },
   {
    "duration": 168,
    "start_time": "2023-06-03T15:29:01.473Z"
   },
   {
    "duration": 160,
    "start_time": "2023-06-03T15:29:14.507Z"
   },
   {
    "duration": 6,
    "start_time": "2023-06-03T15:30:36.946Z"
   },
   {
    "duration": 14,
    "start_time": "2023-06-03T15:30:39.117Z"
   },
   {
    "duration": 8,
    "start_time": "2023-06-03T15:30:39.412Z"
   },
   {
    "duration": 129,
    "start_time": "2023-06-03T15:30:39.642Z"
   },
   {
    "duration": 86,
    "start_time": "2023-06-03T15:55:18.432Z"
   },
   {
    "duration": 15,
    "start_time": "2023-06-03T15:55:19.138Z"
   },
   {
    "duration": 10,
    "start_time": "2023-06-03T15:55:20.143Z"
   },
   {
    "duration": 7,
    "start_time": "2023-06-03T15:55:21.030Z"
   },
   {
    "duration": 23,
    "start_time": "2023-06-03T15:55:21.910Z"
   },
   {
    "duration": 35,
    "start_time": "2023-06-03T15:55:23.471Z"
   },
   {
    "duration": 21,
    "start_time": "2023-06-03T15:55:25.283Z"
   },
   {
    "duration": 154,
    "start_time": "2023-06-03T15:55:28.309Z"
   },
   {
    "duration": 157,
    "start_time": "2023-06-03T15:58:22.544Z"
   },
   {
    "duration": 225,
    "start_time": "2023-06-03T15:58:55.337Z"
   },
   {
    "duration": 162,
    "start_time": "2023-06-03T15:58:57.598Z"
   },
   {
    "duration": 137,
    "start_time": "2023-06-03T16:09:59.737Z"
   },
   {
    "duration": 22,
    "start_time": "2023-06-03T16:10:03.320Z"
   },
   {
    "duration": 134,
    "start_time": "2023-06-03T16:10:14.532Z"
   },
   {
    "duration": 142,
    "start_time": "2023-06-03T16:15:12.879Z"
   },
   {
    "duration": 137,
    "start_time": "2023-06-03T16:15:24.671Z"
   },
   {
    "duration": 23,
    "start_time": "2023-06-03T16:25:40.762Z"
   },
   {
    "duration": 15,
    "start_time": "2023-06-03T16:25:56.340Z"
   },
   {
    "duration": 5,
    "start_time": "2023-06-03T16:26:42.541Z"
   },
   {
    "duration": 7,
    "start_time": "2023-06-03T16:33:18.799Z"
   },
   {
    "duration": 7,
    "start_time": "2023-06-03T16:33:40.029Z"
   },
   {
    "duration": 6,
    "start_time": "2023-06-03T16:33:52.822Z"
   },
   {
    "duration": 118,
    "start_time": "2023-06-03T17:08:35.117Z"
   },
   {
    "duration": 7,
    "start_time": "2023-06-03T17:12:01.001Z"
   },
   {
    "duration": 805,
    "start_time": "2024-06-03T06:33:09.891Z"
   },
   {
    "duration": 3,
    "start_time": "2024-06-03T06:35:01.352Z"
   },
   {
    "duration": 93,
    "start_time": "2024-06-03T06:35:02.251Z"
   },
   {
    "duration": 129,
    "start_time": "2024-06-03T06:35:13.855Z"
   },
   {
    "duration": 16,
    "start_time": "2024-06-03T06:35:41.623Z"
   },
   {
    "duration": 1909,
    "start_time": "2024-06-03T06:35:46.256Z"
   },
   {
    "duration": 14,
    "start_time": "2024-06-03T06:36:23.606Z"
   },
   {
    "duration": 7,
    "start_time": "2024-06-03T06:36:36.395Z"
   },
   {
    "duration": 10,
    "start_time": "2024-06-03T06:36:42.151Z"
   },
   {
    "duration": 6,
    "start_time": "2024-06-03T06:36:48.911Z"
   },
   {
    "duration": 1997,
    "start_time": "2024-06-03T06:36:55.100Z"
   },
   {
    "duration": 3,
    "start_time": "2024-06-03T06:37:19.123Z"
   },
   {
    "duration": 89,
    "start_time": "2024-06-03T06:37:20.946Z"
   },
   {
    "duration": 128,
    "start_time": "2024-06-03T06:37:21.294Z"
   },
   {
    "duration": 15,
    "start_time": "2024-06-03T06:37:21.851Z"
   },
   {
    "duration": 1974,
    "start_time": "2024-06-03T06:37:22.243Z"
   },
   {
    "duration": 10,
    "start_time": "2024-06-03T06:37:24.219Z"
   },
   {
    "duration": 7,
    "start_time": "2024-06-03T06:37:24.388Z"
   },
   {
    "duration": 10,
    "start_time": "2024-06-03T06:37:24.770Z"
   },
   {
    "duration": 5,
    "start_time": "2024-06-03T06:37:25.169Z"
   },
   {
    "duration": 2134,
    "start_time": "2024-06-03T06:37:25.843Z"
   },
   {
    "duration": 2147,
    "start_time": "2024-06-03T06:37:27.979Z"
   },
   {
    "duration": 3,
    "start_time": "2024-06-03T07:05:22.766Z"
   },
   {
    "duration": 85,
    "start_time": "2024-06-03T07:05:23.060Z"
   },
   {
    "duration": 117,
    "start_time": "2024-06-03T07:05:23.725Z"
   },
   {
    "duration": 16,
    "start_time": "2024-06-03T07:05:24.474Z"
   },
   {
    "duration": 1940,
    "start_time": "2024-06-03T07:05:24.914Z"
   },
   {
    "duration": 15,
    "start_time": "2024-06-03T07:05:26.855Z"
   },
   {
    "duration": 7,
    "start_time": "2024-06-03T07:05:27.340Z"
   },
   {
    "duration": 9,
    "start_time": "2024-06-03T07:05:27.770Z"
   },
   {
    "duration": 5,
    "start_time": "2024-06-03T07:05:28.204Z"
   },
   {
    "duration": 1980,
    "start_time": "2024-06-03T07:05:28.858Z"
   },
   {
    "duration": 2108,
    "start_time": "2024-06-03T07:05:30.840Z"
   },
   {
    "duration": 13,
    "start_time": "2024-06-03T07:05:35.062Z"
   },
   {
    "duration": 7,
    "start_time": "2024-06-03T07:05:36.702Z"
   },
   {
    "duration": 10,
    "start_time": "2024-06-03T07:06:00.962Z"
   },
   {
    "duration": 6,
    "start_time": "2024-06-03T07:06:03.935Z"
   },
   {
    "duration": 9,
    "start_time": "2024-06-03T07:06:11.294Z"
   },
   {
    "duration": 1863,
    "start_time": "2024-06-03T07:10:31.066Z"
   },
   {
    "duration": 11,
    "start_time": "2024-06-03T07:11:03.914Z"
   },
   {
    "duration": 8,
    "start_time": "2024-06-03T07:15:21.042Z"
   },
   {
    "duration": 4,
    "start_time": "2024-06-03T07:15:52.563Z"
   },
   {
    "duration": 84,
    "start_time": "2024-06-03T07:15:53.020Z"
   },
   {
    "duration": 97,
    "start_time": "2024-06-03T07:15:53.916Z"
   },
   {
    "duration": 14,
    "start_time": "2024-06-03T07:15:54.595Z"
   },
   {
    "duration": 1745,
    "start_time": "2024-06-03T07:15:55.782Z"
   },
   {
    "duration": 10,
    "start_time": "2024-06-03T07:16:01.355Z"
   },
   {
    "duration": 5,
    "start_time": "2024-06-03T07:16:32.618Z"
   },
   {
    "duration": 13,
    "start_time": "2024-06-03T07:16:33.143Z"
   },
   {
    "duration": 5,
    "start_time": "2024-06-03T07:16:34.562Z"
   },
   {
    "duration": 1934,
    "start_time": "2024-06-03T07:16:35.502Z"
   },
   {
    "duration": 1869,
    "start_time": "2024-06-03T07:18:23.381Z"
   },
   {
    "duration": 9,
    "start_time": "2024-06-03T07:18:28.154Z"
   },
   {
    "duration": 2038,
    "start_time": "2024-06-03T07:18:32.528Z"
   },
   {
    "duration": 14,
    "start_time": "2024-06-03T07:18:34.569Z"
   },
   {
    "duration": 1576,
    "start_time": "2024-06-03T07:19:02.490Z"
   },
   {
    "duration": 9,
    "start_time": "2024-06-03T07:19:08.289Z"
   },
   {
    "duration": 1919,
    "start_time": "2024-06-03T07:19:38.728Z"
   },
   {
    "duration": 9,
    "start_time": "2024-06-03T07:19:41.497Z"
   },
   {
    "duration": 12,
    "start_time": "2024-06-03T07:19:44.894Z"
   },
   {
    "duration": 126,
    "start_time": "2024-06-03T07:30:53.202Z"
   },
   {
    "duration": 8,
    "start_time": "2024-06-03T07:34:09.545Z"
   },
   {
    "duration": 16,
    "start_time": "2024-06-03T07:34:24.102Z"
   },
   {
    "duration": 5,
    "start_time": "2024-06-03T07:35:13.845Z"
   },
   {
    "duration": 1882,
    "start_time": "2024-06-03T07:35:43.609Z"
   },
   {
    "duration": 1885,
    "start_time": "2024-06-03T07:35:50.953Z"
   },
   {
    "duration": 10,
    "start_time": "2024-06-03T07:36:01.151Z"
   },
   {
    "duration": 4,
    "start_time": "2024-06-03T07:38:06.019Z"
   },
   {
    "duration": 1455,
    "start_time": "2024-06-03T07:40:09.224Z"
   },
   {
    "duration": 11,
    "start_time": "2024-06-03T07:40:13.297Z"
   },
   {
    "duration": 1514,
    "start_time": "2024-06-03T07:41:42.464Z"
   },
   {
    "duration": 12,
    "start_time": "2024-06-03T07:41:43.980Z"
   },
   {
    "duration": 1848,
    "start_time": "2024-06-03T07:42:55.622Z"
   },
   {
    "duration": 11,
    "start_time": "2024-06-03T07:42:59.641Z"
   },
   {
    "duration": 3,
    "start_time": "2024-06-03T07:43:16.336Z"
   },
   {
    "duration": 92,
    "start_time": "2024-06-03T07:43:16.565Z"
   },
   {
    "duration": 89,
    "start_time": "2024-06-03T07:43:17.487Z"
   },
   {
    "duration": 14,
    "start_time": "2024-06-03T07:43:17.578Z"
   },
   {
    "duration": 1929,
    "start_time": "2024-06-03T07:43:17.950Z"
   },
   {
    "duration": 14,
    "start_time": "2024-06-03T07:43:19.881Z"
   },
   {
    "duration": 5,
    "start_time": "2024-06-03T07:43:20.455Z"
   },
   {
    "duration": 12,
    "start_time": "2024-06-03T07:43:21.644Z"
   },
   {
    "duration": 4,
    "start_time": "2024-06-03T07:43:22.425Z"
   },
   {
    "duration": 1906,
    "start_time": "2024-06-03T07:43:23.117Z"
   },
   {
    "duration": 8,
    "start_time": "2024-06-03T07:43:25.025Z"
   },
   {
    "duration": 1865,
    "start_time": "2024-06-03T07:43:25.320Z"
   },
   {
    "duration": 1480,
    "start_time": "2024-06-03T07:43:47.993Z"
   },
   {
    "duration": 10,
    "start_time": "2024-06-03T07:43:51.996Z"
   },
   {
    "duration": 3,
    "start_time": "2024-06-03T07:44:01.652Z"
   },
   {
    "duration": 83,
    "start_time": "2024-06-03T07:44:01.848Z"
   },
   {
    "duration": 92,
    "start_time": "2024-06-03T07:44:02.236Z"
   },
   {
    "duration": 17,
    "start_time": "2024-06-03T07:44:02.843Z"
   },
   {
    "duration": 1842,
    "start_time": "2024-06-03T07:44:03.224Z"
   },
   {
    "duration": 9,
    "start_time": "2024-06-03T07:44:05.068Z"
   },
   {
    "duration": 6,
    "start_time": "2024-06-03T07:44:05.485Z"
   },
   {
    "duration": 9,
    "start_time": "2024-06-03T07:44:05.908Z"
   },
   {
    "duration": 5,
    "start_time": "2024-06-03T07:44:06.301Z"
   },
   {
    "duration": 1459,
    "start_time": "2024-06-03T07:44:06.952Z"
   },
   {
    "duration": 9,
    "start_time": "2024-06-03T07:44:08.413Z"
   },
   {
    "duration": 1951,
    "start_time": "2024-06-03T07:44:09.220Z"
   },
   {
    "duration": 8,
    "start_time": "2024-06-03T07:45:27.676Z"
   },
   {
    "duration": 10,
    "start_time": "2024-06-03T07:45:28.412Z"
   },
   {
    "duration": 3,
    "start_time": "2024-06-03T07:45:42.092Z"
   },
   {
    "duration": 86,
    "start_time": "2024-06-03T07:45:42.528Z"
   },
   {
    "duration": 87,
    "start_time": "2024-06-03T07:45:43.456Z"
   },
   {
    "duration": 19,
    "start_time": "2024-06-03T07:45:44.291Z"
   },
   {
    "duration": 1911,
    "start_time": "2024-06-03T07:45:44.913Z"
   },
   {
    "duration": 11,
    "start_time": "2024-06-03T07:45:46.826Z"
   },
   {
    "duration": 6,
    "start_time": "2024-06-03T07:45:48.692Z"
   },
   {
    "duration": 10,
    "start_time": "2024-06-03T07:45:51.044Z"
   },
   {
    "duration": 5,
    "start_time": "2024-06-03T07:45:52.480Z"
   },
   {
    "duration": 600,
    "start_time": "2024-06-03T07:47:01.292Z"
   },
   {
    "duration": 99,
    "start_time": "2024-06-03T07:47:01.894Z"
   },
   {
    "duration": 102,
    "start_time": "2024-06-03T07:47:01.995Z"
   },
   {
    "duration": 14,
    "start_time": "2024-06-03T07:47:02.099Z"
   },
   {
    "duration": 1883,
    "start_time": "2024-06-03T07:47:02.114Z"
   },
   {
    "duration": 9,
    "start_time": "2024-06-03T07:47:03.999Z"
   },
   {
    "duration": 12,
    "start_time": "2024-06-03T07:47:04.010Z"
   },
   {
    "duration": 8,
    "start_time": "2024-06-03T07:47:04.024Z"
   },
   {
    "duration": 4,
    "start_time": "2024-06-03T07:47:04.034Z"
   },
   {
    "duration": 1552,
    "start_time": "2024-06-03T07:47:04.040Z"
   },
   {
    "duration": 9,
    "start_time": "2024-06-03T07:47:05.593Z"
   },
   {
    "duration": 1982,
    "start_time": "2024-06-03T07:47:05.603Z"
   },
   {
    "duration": 10,
    "start_time": "2024-06-03T07:47:07.586Z"
   },
   {
    "duration": 6,
    "start_time": "2024-06-03T07:47:07.597Z"
   },
   {
    "duration": 29,
    "start_time": "2024-06-03T07:47:07.604Z"
   },
   {
    "duration": 31,
    "start_time": "2024-06-03T07:47:07.635Z"
   },
   {
    "duration": 230,
    "start_time": "2024-06-03T07:47:07.668Z"
   },
   {
    "duration": 68,
    "start_time": "2024-06-03T07:47:07.899Z"
   },
   {
    "duration": 180,
    "start_time": "2024-06-03T07:47:07.969Z"
   },
   {
    "duration": 153,
    "start_time": "2024-06-03T07:47:08.151Z"
   },
   {
    "duration": 18,
    "start_time": "2024-06-03T07:47:08.305Z"
   },
   {
    "duration": 5,
    "start_time": "2024-06-03T07:47:08.324Z"
   },
   {
    "duration": 11,
    "start_time": "2024-06-03T07:47:08.330Z"
   },
   {
    "duration": 331,
    "start_time": "2024-06-03T07:47:08.342Z"
   },
   {
    "duration": 4,
    "start_time": "2024-06-03T07:47:08.674Z"
   },
   {
    "duration": 24,
    "start_time": "2024-06-03T07:47:08.679Z"
   },
   {
    "duration": 389,
    "start_time": "2024-06-03T07:47:08.705Z"
   },
   {
    "duration": 247,
    "start_time": "2024-06-03T07:47:09.097Z"
   },
   {
    "duration": 176,
    "start_time": "2024-06-03T07:47:09.345Z"
   },
   {
    "duration": 262,
    "start_time": "2024-06-03T07:47:09.523Z"
   },
   {
    "duration": 192,
    "start_time": "2024-06-03T07:47:09.787Z"
   },
   {
    "duration": 150,
    "start_time": "2024-06-03T07:47:09.981Z"
   },
   {
    "duration": 196,
    "start_time": "2024-06-03T07:47:10.133Z"
   },
   {
    "duration": 8,
    "start_time": "2024-06-03T07:47:10.331Z"
   },
   {
    "duration": 216,
    "start_time": "2024-06-03T07:47:10.340Z"
   },
   {
    "duration": 270,
    "start_time": "2024-06-03T07:47:10.557Z"
   },
   {
    "duration": 184,
    "start_time": "2024-06-03T07:47:10.829Z"
   },
   {
    "duration": 193,
    "start_time": "2024-06-03T07:47:11.015Z"
   },
   {
    "duration": 263,
    "start_time": "2024-06-03T07:47:11.210Z"
   },
   {
    "duration": 378,
    "start_time": "2024-06-03T07:47:11.475Z"
   },
   {
    "duration": 145,
    "start_time": "2024-06-03T07:47:11.854Z"
   },
   {
    "duration": 6487,
    "start_time": "2024-06-03T07:47:12.001Z"
   },
   {
    "duration": 10,
    "start_time": "2024-06-03T07:47:18.490Z"
   },
   {
    "duration": 30,
    "start_time": "2024-06-03T07:47:18.502Z"
   },
   {
    "duration": 38,
    "start_time": "2024-06-03T07:47:18.534Z"
   },
   {
    "duration": 128,
    "start_time": "2024-06-03T07:47:18.573Z"
   },
   {
    "duration": 9,
    "start_time": "2024-06-03T07:47:35.052Z"
   },
   {
    "duration": 3,
    "start_time": "2024-06-03T07:47:43.028Z"
   },
   {
    "duration": 82,
    "start_time": "2024-06-03T07:47:43.476Z"
   },
   {
    "duration": 104,
    "start_time": "2024-06-03T07:47:44.364Z"
   },
   {
    "duration": 13,
    "start_time": "2024-06-03T07:47:45.812Z"
   },
   {
    "duration": 1888,
    "start_time": "2024-06-03T07:47:46.798Z"
   },
   {
    "duration": 10,
    "start_time": "2024-06-03T07:47:52.076Z"
   },
   {
    "duration": 6,
    "start_time": "2024-06-03T07:48:00.549Z"
   },
   {
    "duration": 9,
    "start_time": "2024-06-03T07:48:07.795Z"
   },
   {
    "duration": 5,
    "start_time": "2024-06-03T07:48:10.576Z"
   },
   {
    "duration": 1966,
    "start_time": "2024-06-03T07:50:18.047Z"
   },
   {
    "duration": 1602,
    "start_time": "2024-06-03T07:50:23.188Z"
   },
   {
    "duration": 9,
    "start_time": "2024-06-03T07:50:24.792Z"
   },
   {
    "duration": 2,
    "start_time": "2024-06-03T07:50:24.836Z"
   },
   {
    "duration": 89,
    "start_time": "2024-06-03T07:50:25.356Z"
   },
   {
    "duration": 93,
    "start_time": "2024-06-03T07:50:26.288Z"
   },
   {
    "duration": 14,
    "start_time": "2024-06-03T07:50:26.936Z"
   },
   {
    "duration": 1961,
    "start_time": "2024-06-03T07:50:27.348Z"
   },
   {
    "duration": 10,
    "start_time": "2024-06-03T07:50:29.311Z"
   },
   {
    "duration": 8,
    "start_time": "2024-06-03T07:50:29.649Z"
   },
   {
    "duration": 10,
    "start_time": "2024-06-03T07:50:30.072Z"
   },
   {
    "duration": 8,
    "start_time": "2024-06-03T07:50:32.616Z"
   },
   {
    "duration": 1544,
    "start_time": "2024-06-03T07:50:38.088Z"
   },
   {
    "duration": 1605,
    "start_time": "2024-06-03T08:02:03.800Z"
   },
   {
    "duration": 10,
    "start_time": "2024-06-03T08:02:06.600Z"
   },
   {
    "duration": 1966,
    "start_time": "2024-06-03T08:02:58.881Z"
   },
   {
    "duration": 1953,
    "start_time": "2024-06-03T08:03:10.687Z"
   },
   {
    "duration": 1570,
    "start_time": "2024-06-03T08:05:42.932Z"
   },
   {
    "duration": 12,
    "start_time": "2024-06-03T08:05:47.112Z"
   },
   {
    "duration": 1492,
    "start_time": "2024-06-03T08:06:25.912Z"
   },
   {
    "duration": 9,
    "start_time": "2024-06-03T08:06:28.685Z"
   },
   {
    "duration": 3,
    "start_time": "2024-06-03T08:06:38.427Z"
   },
   {
    "duration": 85,
    "start_time": "2024-06-03T08:06:38.991Z"
   },
   {
    "duration": 85,
    "start_time": "2024-06-03T08:06:39.640Z"
   },
   {
    "duration": 14,
    "start_time": "2024-06-03T08:06:40.235Z"
   },
   {
    "duration": 1699,
    "start_time": "2024-06-03T08:06:40.634Z"
   },
   {
    "duration": 10,
    "start_time": "2024-06-03T08:06:42.616Z"
   },
   {
    "duration": 6,
    "start_time": "2024-06-03T08:06:44.423Z"
   },
   {
    "duration": 9,
    "start_time": "2024-06-03T08:06:44.895Z"
   },
   {
    "duration": 6,
    "start_time": "2024-06-03T08:06:45.284Z"
   },
   {
    "duration": 1741,
    "start_time": "2024-06-03T08:06:45.920Z"
   },
   {
    "duration": 9,
    "start_time": "2024-06-03T08:06:47.803Z"
   },
   {
    "duration": 1474,
    "start_time": "2024-06-03T08:08:57.226Z"
   },
   {
    "duration": 11,
    "start_time": "2024-06-03T08:09:02.400Z"
   },
   {
    "duration": 10,
    "start_time": "2024-06-03T08:19:49.720Z"
   },
   {
    "duration": 1456,
    "start_time": "2024-06-03T08:22:55.435Z"
   },
   {
    "duration": 11,
    "start_time": "2024-06-03T08:22:58.915Z"
   },
   {
    "duration": 3,
    "start_time": "2024-06-03T08:23:14.682Z"
   },
   {
    "duration": 98,
    "start_time": "2024-06-03T08:23:15.260Z"
   },
   {
    "duration": 85,
    "start_time": "2024-06-03T08:23:16.234Z"
   },
   {
    "duration": 16,
    "start_time": "2024-06-03T08:23:17.383Z"
   },
   {
    "duration": 1784,
    "start_time": "2024-06-03T08:23:17.587Z"
   },
   {
    "duration": 11,
    "start_time": "2024-06-03T08:23:19.373Z"
   },
   {
    "duration": 7,
    "start_time": "2024-06-03T08:23:20.419Z"
   },
   {
    "duration": 9,
    "start_time": "2024-06-03T08:23:21.266Z"
   },
   {
    "duration": 6,
    "start_time": "2024-06-03T08:23:21.829Z"
   },
   {
    "duration": 1417,
    "start_time": "2024-06-03T08:23:23.172Z"
   },
   {
    "duration": 9,
    "start_time": "2024-06-03T08:23:24.787Z"
   },
   {
    "duration": 1456,
    "start_time": "2024-06-03T08:25:12.363Z"
   },
   {
    "duration": 2056,
    "start_time": "2024-06-03T08:27:01.937Z"
   },
   {
    "duration": 9,
    "start_time": "2024-06-03T08:27:04.255Z"
   },
   {
    "duration": 1872,
    "start_time": "2024-06-03T08:27:12.238Z"
   },
   {
    "duration": 9,
    "start_time": "2024-06-03T08:27:14.112Z"
   },
   {
    "duration": 1513,
    "start_time": "2024-06-03T08:27:14.122Z"
   }
  ],
  "kernelspec": {
   "display_name": "Python 3 (ipykernel)",
   "language": "python",
   "name": "python3"
  },
  "language_info": {
   "codemirror_mode": {
    "name": "ipython",
    "version": 3
   },
   "file_extension": ".py",
   "mimetype": "text/x-python",
   "name": "python",
   "nbconvert_exporter": "python",
   "pygments_lexer": "ipython3",
   "version": "3.11.4"
  },
  "toc": {
   "base_numbering": 1,
   "nav_menu": {},
   "number_sections": false,
   "sideBar": true,
   "skip_h1_title": true,
   "title_cell": "Table of Contents",
   "title_sidebar": "Contents",
   "toc_cell": false,
   "toc_position": {
    "height": "calc(100% - 180px)",
    "left": "10px",
    "top": "150px",
    "width": "297.6px"
   },
   "toc_section_display": true,
   "toc_window_display": false
  }
 },
 "nbformat": 4,
 "nbformat_minor": 2
}
