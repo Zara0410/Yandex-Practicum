{
 "cells": [
  {
   "cell_type": "markdown",
   "id": "8ce8d8d6",
   "metadata": {},
   "source": [
    "# Исследование сервиса аренды самокатов GoFast"
   ]
  },
  {
   "cell_type": "markdown",
   "id": "8c75e7b5",
   "metadata": {},
   "source": [
    "## Описание данных"
   ]
  },
  {
   "cell_type": "markdown",
   "id": "d4a97ea1",
   "metadata": {},
   "source": [
    "Имеются данные о некоторых пользователях из нескольких городов, а также об их поездках. Необходимо проанализировать данные и проверь некоторые гипотезы, которые могут помочь бизнесу вырасти.\n",
    "\n",
    "Чтобы совершать поездки по городу, пользователи сервиса GoFast пользуются мобильным приложением. \n",
    "Сервисом можно пользоваться:\n",
    "- без подписки\n",
    "абонентская плата отсутствует;\n",
    "стоимость одной минуты поездки —  8 рублей;\n",
    "стоимость старта (начала поездки) — 50 рублей;\n",
    "- с подпиской Ultra\n",
    "абонентская плата — 199 рублей в месяц;\n",
    "стоимость одной минуты поездки — 6 рублей;\n",
    "стоимость старта — бесплатно."
   ]
  },
  {
   "cell_type": "markdown",
   "id": "320c5adf",
   "metadata": {},
   "source": [
    "Для работы предаставлены три таблицы.\n",
    "1. Пользователи\n",
    "- user_id - уникальный идентификатор пользователя\n",
    "- name -\tимя пользователя\n",
    "- age -\tвозраст\n",
    "- city -\tгород\n",
    "- subscription_type -\tтип подписки (free, ultra)\n",
    "\n",
    "2. Поездки\n",
    "- user_id -\tуникальный идентификатор пользователя\n",
    "- distance -\tрасстояние, которое пользователь проехал в текущей сессии (в метрах)\n",
    "- duration -\tпродолжительность сессии (в минутах) — время с того момента, как пользователь нажал кнопку «Начать поездку» до момента, как он нажал кнопку «Завершить поездку»\n",
    "- date -\tдата совершения поездки\n",
    "\n",
    "3. Подписки \n",
    "- subscription_type -\tтип подписки\n",
    "- minute_price -\tстоимость одной минуты поездки по данной подписке\n",
    "- start_ride_price -\tстоимость начала поездки\n",
    "- subscription_fee -\tстоимость ежемесячного платежа"
   ]
  },
  {
   "cell_type": "code",
   "execution_count": 1,
   "id": "56efd132",
   "metadata": {},
   "outputs": [],
   "source": [
    "import pandas as pd\n",
    "import matplotlib.pyplot as plt\n",
    "import numpy as np"
   ]
  },
  {
   "cell_type": "markdown",
   "id": "c42cbe00",
   "metadata": {},
   "source": [
    "## Шаг 1. Загрузка данных"
   ]
  },
  {
   "cell_type": "code",
   "execution_count": 2,
   "id": "eff9f206",
   "metadata": {},
   "outputs": [
    {
     "data": {
      "text/html": [
       "<div>\n",
       "<style scoped>\n",
       "    .dataframe tbody tr th:only-of-type {\n",
       "        vertical-align: middle;\n",
       "    }\n",
       "\n",
       "    .dataframe tbody tr th {\n",
       "        vertical-align: top;\n",
       "    }\n",
       "\n",
       "    .dataframe thead th {\n",
       "        text-align: right;\n",
       "    }\n",
       "</style>\n",
       "<table border=\"1\" class=\"dataframe\">\n",
       "  <thead>\n",
       "    <tr style=\"text-align: right;\">\n",
       "      <th></th>\n",
       "      <th>user_id</th>\n",
       "      <th>name</th>\n",
       "      <th>age</th>\n",
       "      <th>city</th>\n",
       "      <th>subscription_type</th>\n",
       "    </tr>\n",
       "  </thead>\n",
       "  <tbody>\n",
       "    <tr>\n",
       "      <th>0</th>\n",
       "      <td>1</td>\n",
       "      <td>Кира</td>\n",
       "      <td>22</td>\n",
       "      <td>Тюмень</td>\n",
       "      <td>ultra</td>\n",
       "    </tr>\n",
       "    <tr>\n",
       "      <th>1</th>\n",
       "      <td>2</td>\n",
       "      <td>Станислав</td>\n",
       "      <td>31</td>\n",
       "      <td>Омск</td>\n",
       "      <td>ultra</td>\n",
       "    </tr>\n",
       "    <tr>\n",
       "      <th>2</th>\n",
       "      <td>3</td>\n",
       "      <td>Алексей</td>\n",
       "      <td>20</td>\n",
       "      <td>Москва</td>\n",
       "      <td>ultra</td>\n",
       "    </tr>\n",
       "    <tr>\n",
       "      <th>3</th>\n",
       "      <td>4</td>\n",
       "      <td>Константин</td>\n",
       "      <td>26</td>\n",
       "      <td>Ростов-на-Дону</td>\n",
       "      <td>ultra</td>\n",
       "    </tr>\n",
       "    <tr>\n",
       "      <th>4</th>\n",
       "      <td>5</td>\n",
       "      <td>Адель</td>\n",
       "      <td>28</td>\n",
       "      <td>Омск</td>\n",
       "      <td>ultra</td>\n",
       "    </tr>\n",
       "    <tr>\n",
       "      <th>5</th>\n",
       "      <td>6</td>\n",
       "      <td>Регина</td>\n",
       "      <td>25</td>\n",
       "      <td>Краснодар</td>\n",
       "      <td>ultra</td>\n",
       "    </tr>\n",
       "    <tr>\n",
       "      <th>6</th>\n",
       "      <td>7</td>\n",
       "      <td>Игорь</td>\n",
       "      <td>23</td>\n",
       "      <td>Омск</td>\n",
       "      <td>ultra</td>\n",
       "    </tr>\n",
       "    <tr>\n",
       "      <th>7</th>\n",
       "      <td>8</td>\n",
       "      <td>Юрий</td>\n",
       "      <td>23</td>\n",
       "      <td>Краснодар</td>\n",
       "      <td>ultra</td>\n",
       "    </tr>\n",
       "    <tr>\n",
       "      <th>8</th>\n",
       "      <td>9</td>\n",
       "      <td>Ян</td>\n",
       "      <td>21</td>\n",
       "      <td>Пятигорск</td>\n",
       "      <td>ultra</td>\n",
       "    </tr>\n",
       "    <tr>\n",
       "      <th>9</th>\n",
       "      <td>10</td>\n",
       "      <td>Валерий</td>\n",
       "      <td>18</td>\n",
       "      <td>Екатеринбург</td>\n",
       "      <td>ultra</td>\n",
       "    </tr>\n",
       "  </tbody>\n",
       "</table>\n",
       "</div>"
      ],
      "text/plain": [
       "   user_id        name  age            city subscription_type\n",
       "0        1        Кира   22          Тюмень             ultra\n",
       "1        2   Станислав   31            Омск             ultra\n",
       "2        3     Алексей   20          Москва             ultra\n",
       "3        4  Константин   26  Ростов-на-Дону             ultra\n",
       "4        5       Адель   28            Омск             ultra\n",
       "5        6      Регина   25       Краснодар             ultra\n",
       "6        7       Игорь   23            Омск             ultra\n",
       "7        8        Юрий   23       Краснодар             ultra\n",
       "8        9          Ян   21       Пятигорск             ultra\n",
       "9       10     Валерий   18    Екатеринбург             ultra"
      ]
     },
     "execution_count": 2,
     "metadata": {},
     "output_type": "execute_result"
    }
   ],
   "source": [
    "#откроем датафрейм и выведем на экран первые 10 строк\n",
    "data1 = pd.read_csv('/datasets/users_go.csv')\n",
    "data1.head(10)"
   ]
  },
  {
   "cell_type": "code",
   "execution_count": 3,
   "id": "980c547f",
   "metadata": {},
   "outputs": [
    {
     "data": {
      "text/html": [
       "<div>\n",
       "<style scoped>\n",
       "    .dataframe tbody tr th:only-of-type {\n",
       "        vertical-align: middle;\n",
       "    }\n",
       "\n",
       "    .dataframe tbody tr th {\n",
       "        vertical-align: top;\n",
       "    }\n",
       "\n",
       "    .dataframe thead th {\n",
       "        text-align: right;\n",
       "    }\n",
       "</style>\n",
       "<table border=\"1\" class=\"dataframe\">\n",
       "  <thead>\n",
       "    <tr style=\"text-align: right;\">\n",
       "      <th></th>\n",
       "      <th>user_id</th>\n",
       "      <th>distance</th>\n",
       "      <th>duration</th>\n",
       "      <th>date</th>\n",
       "    </tr>\n",
       "  </thead>\n",
       "  <tbody>\n",
       "    <tr>\n",
       "      <th>0</th>\n",
       "      <td>1</td>\n",
       "      <td>4409.919140</td>\n",
       "      <td>25.599769</td>\n",
       "      <td>2021-01-01</td>\n",
       "    </tr>\n",
       "    <tr>\n",
       "      <th>1</th>\n",
       "      <td>1</td>\n",
       "      <td>2617.592153</td>\n",
       "      <td>15.816871</td>\n",
       "      <td>2021-01-18</td>\n",
       "    </tr>\n",
       "    <tr>\n",
       "      <th>2</th>\n",
       "      <td>1</td>\n",
       "      <td>754.159807</td>\n",
       "      <td>6.232113</td>\n",
       "      <td>2021-04-20</td>\n",
       "    </tr>\n",
       "    <tr>\n",
       "      <th>3</th>\n",
       "      <td>1</td>\n",
       "      <td>2694.783254</td>\n",
       "      <td>18.511000</td>\n",
       "      <td>2021-08-11</td>\n",
       "    </tr>\n",
       "    <tr>\n",
       "      <th>4</th>\n",
       "      <td>1</td>\n",
       "      <td>4028.687306</td>\n",
       "      <td>26.265803</td>\n",
       "      <td>2021-08-28</td>\n",
       "    </tr>\n",
       "    <tr>\n",
       "      <th>5</th>\n",
       "      <td>1</td>\n",
       "      <td>2770.890808</td>\n",
       "      <td>16.650138</td>\n",
       "      <td>2021-10-09</td>\n",
       "    </tr>\n",
       "    <tr>\n",
       "      <th>6</th>\n",
       "      <td>1</td>\n",
       "      <td>3039.020292</td>\n",
       "      <td>14.927879</td>\n",
       "      <td>2021-10-19</td>\n",
       "    </tr>\n",
       "    <tr>\n",
       "      <th>7</th>\n",
       "      <td>1</td>\n",
       "      <td>2842.118050</td>\n",
       "      <td>23.117468</td>\n",
       "      <td>2021-11-06</td>\n",
       "    </tr>\n",
       "    <tr>\n",
       "      <th>8</th>\n",
       "      <td>1</td>\n",
       "      <td>3412.690668</td>\n",
       "      <td>15.238072</td>\n",
       "      <td>2021-11-14</td>\n",
       "    </tr>\n",
       "    <tr>\n",
       "      <th>9</th>\n",
       "      <td>1</td>\n",
       "      <td>748.690645</td>\n",
       "      <td>15.041884</td>\n",
       "      <td>2021-11-22</td>\n",
       "    </tr>\n",
       "  </tbody>\n",
       "</table>\n",
       "</div>"
      ],
      "text/plain": [
       "   user_id     distance   duration        date\n",
       "0        1  4409.919140  25.599769  2021-01-01\n",
       "1        1  2617.592153  15.816871  2021-01-18\n",
       "2        1   754.159807   6.232113  2021-04-20\n",
       "3        1  2694.783254  18.511000  2021-08-11\n",
       "4        1  4028.687306  26.265803  2021-08-28\n",
       "5        1  2770.890808  16.650138  2021-10-09\n",
       "6        1  3039.020292  14.927879  2021-10-19\n",
       "7        1  2842.118050  23.117468  2021-11-06\n",
       "8        1  3412.690668  15.238072  2021-11-14\n",
       "9        1   748.690645  15.041884  2021-11-22"
      ]
     },
     "execution_count": 3,
     "metadata": {},
     "output_type": "execute_result"
    }
   ],
   "source": [
    "data2 = pd.read_csv('/datasets/rides_go.csv')\n",
    "data2.head(10)"
   ]
  },
  {
   "cell_type": "code",
   "execution_count": 4,
   "id": "54694661",
   "metadata": {},
   "outputs": [
    {
     "data": {
      "text/html": [
       "<div>\n",
       "<style scoped>\n",
       "    .dataframe tbody tr th:only-of-type {\n",
       "        vertical-align: middle;\n",
       "    }\n",
       "\n",
       "    .dataframe tbody tr th {\n",
       "        vertical-align: top;\n",
       "    }\n",
       "\n",
       "    .dataframe thead th {\n",
       "        text-align: right;\n",
       "    }\n",
       "</style>\n",
       "<table border=\"1\" class=\"dataframe\">\n",
       "  <thead>\n",
       "    <tr style=\"text-align: right;\">\n",
       "      <th></th>\n",
       "      <th>subscription_type</th>\n",
       "      <th>minute_price</th>\n",
       "      <th>start_ride_price</th>\n",
       "      <th>subscription_fee</th>\n",
       "    </tr>\n",
       "  </thead>\n",
       "  <tbody>\n",
       "    <tr>\n",
       "      <th>0</th>\n",
       "      <td>free</td>\n",
       "      <td>8</td>\n",
       "      <td>50</td>\n",
       "      <td>0</td>\n",
       "    </tr>\n",
       "    <tr>\n",
       "      <th>1</th>\n",
       "      <td>ultra</td>\n",
       "      <td>6</td>\n",
       "      <td>0</td>\n",
       "      <td>199</td>\n",
       "    </tr>\n",
       "  </tbody>\n",
       "</table>\n",
       "</div>"
      ],
      "text/plain": [
       "  subscription_type  minute_price  start_ride_price  subscription_fee\n",
       "0              free             8                50                 0\n",
       "1             ultra             6                 0               199"
      ]
     },
     "execution_count": 4,
     "metadata": {},
     "output_type": "execute_result"
    }
   ],
   "source": [
    "data3 = pd.read_csv('/datasets/subscriptions_go.csv')\n",
    "data3.head(10)"
   ]
  },
  {
   "cell_type": "markdown",
   "id": "b1d4cfb8",
   "metadata": {},
   "source": [
    "На первый взгляд все хорошо. Выведем общую информацию о таблицах"
   ]
  },
  {
   "cell_type": "code",
   "execution_count": 5,
   "id": "9cafc9dd",
   "metadata": {},
   "outputs": [
    {
     "name": "stdout",
     "output_type": "stream",
     "text": [
      "<class 'pandas.core.frame.DataFrame'>\n",
      "RangeIndex: 1565 entries, 0 to 1564\n",
      "Data columns (total 5 columns):\n",
      " #   Column             Non-Null Count  Dtype \n",
      "---  ------             --------------  ----- \n",
      " 0   user_id            1565 non-null   int64 \n",
      " 1   name               1565 non-null   object\n",
      " 2   age                1565 non-null   int64 \n",
      " 3   city               1565 non-null   object\n",
      " 4   subscription_type  1565 non-null   object\n",
      "dtypes: int64(2), object(3)\n",
      "memory usage: 61.3+ KB\n"
     ]
    }
   ],
   "source": [
    "data1.info()"
   ]
  },
  {
   "cell_type": "markdown",
   "id": "1ee85669",
   "metadata": {},
   "source": [
    "В данной таблице нет пропусков и тип данных соответствует содержимому"
   ]
  },
  {
   "cell_type": "code",
   "execution_count": 6,
   "id": "335d9ded",
   "metadata": {},
   "outputs": [
    {
     "name": "stdout",
     "output_type": "stream",
     "text": [
      "<class 'pandas.core.frame.DataFrame'>\n",
      "RangeIndex: 18068 entries, 0 to 18067\n",
      "Data columns (total 4 columns):\n",
      " #   Column    Non-Null Count  Dtype  \n",
      "---  ------    --------------  -----  \n",
      " 0   user_id   18068 non-null  int64  \n",
      " 1   distance  18068 non-null  float64\n",
      " 2   duration  18068 non-null  float64\n",
      " 3   date      18068 non-null  object \n",
      "dtypes: float64(2), int64(1), object(1)\n",
      "memory usage: 564.8+ KB\n"
     ]
    }
   ],
   "source": [
    "data2.info()"
   ]
  },
  {
   "cell_type": "markdown",
   "id": "803454b8",
   "metadata": {},
   "source": [
    "В этой таблице тоже нет пропусков. Однако, столбец date нужно преобразовать в datetime. Сделаем это в следующем шаге"
   ]
  },
  {
   "cell_type": "code",
   "execution_count": 7,
   "id": "83d27260",
   "metadata": {},
   "outputs": [
    {
     "name": "stdout",
     "output_type": "stream",
     "text": [
      "<class 'pandas.core.frame.DataFrame'>\n",
      "RangeIndex: 2 entries, 0 to 1\n",
      "Data columns (total 4 columns):\n",
      " #   Column             Non-Null Count  Dtype \n",
      "---  ------             --------------  ----- \n",
      " 0   subscription_type  2 non-null      object\n",
      " 1   minute_price       2 non-null      int64 \n",
      " 2   start_ride_price   2 non-null      int64 \n",
      " 3   subscription_fee   2 non-null      int64 \n",
      "dtypes: int64(3), object(1)\n",
      "memory usage: 192.0+ bytes\n"
     ]
    }
   ],
   "source": [
    "data3.info()"
   ]
  },
  {
   "cell_type": "markdown",
   "id": "4d87fce2",
   "metadata": {},
   "source": [
    "Здесь все хорошо, ничего трогать не будем."
   ]
  },
  {
   "cell_type": "markdown",
   "id": "e95ebca7",
   "metadata": {},
   "source": [
    "## Шаг 2. Предобработка данных"
   ]
  },
  {
   "cell_type": "markdown",
   "id": "47c85657",
   "metadata": {},
   "source": [
    "В предыдушем шаге было обнаружено, что в одном столбце необходимо изменить тип данных. "
   ]
  },
  {
   "cell_type": "code",
   "execution_count": 8,
   "id": "3df23134",
   "metadata": {},
   "outputs": [
    {
     "data": {
      "text/plain": [
       "user_id              int64\n",
       "distance           float64\n",
       "duration           float64\n",
       "date        datetime64[ns]\n",
       "dtype: object"
      ]
     },
     "execution_count": 8,
     "metadata": {},
     "output_type": "execute_result"
    }
   ],
   "source": [
    "data2['date'] = pd.to_datetime(data2['date'], format='%Y.%m.%d')\n",
    "data2.dtypes #проверим работу кода"
   ]
  },
  {
   "cell_type": "markdown",
   "id": "b93fc609",
   "metadata": {},
   "source": [
    "Проверим таблицы на наличие дубликатов."
   ]
  },
  {
   "cell_type": "code",
   "execution_count": 9,
   "id": "3ec965af",
   "metadata": {},
   "outputs": [
    {
     "data": {
      "text/plain": [
       "31"
      ]
     },
     "execution_count": 9,
     "metadata": {},
     "output_type": "execute_result"
    }
   ],
   "source": [
    "data1.duplicated().sum()"
   ]
  },
  {
   "cell_type": "markdown",
   "id": "0503c75f",
   "metadata": {},
   "source": [
    "В данной таблице 31 дубликатов. Необходимо их удалить"
   ]
  },
  {
   "cell_type": "code",
   "execution_count": 10,
   "id": "8ae4b0c7",
   "metadata": {},
   "outputs": [
    {
     "data": {
      "text/plain": [
       "0"
      ]
     },
     "execution_count": 10,
     "metadata": {},
     "output_type": "execute_result"
    }
   ],
   "source": [
    "data1 = data1.drop_duplicates().reset_index(drop=True) \n",
    "data1.duplicated().sum() #проверим строки на наличие дубликатов"
   ]
  },
  {
   "cell_type": "markdown",
   "id": "2289743a",
   "metadata": {},
   "source": [
    "Дубликаты устранены."
   ]
  },
  {
   "cell_type": "code",
   "execution_count": 11,
   "id": "f5e3b52b",
   "metadata": {},
   "outputs": [
    {
     "data": {
      "text/plain": [
       "0"
      ]
     },
     "execution_count": 11,
     "metadata": {},
     "output_type": "execute_result"
    }
   ],
   "source": [
    "data2.duplicated().sum()"
   ]
  },
  {
   "cell_type": "code",
   "execution_count": 12,
   "id": "30dc1fb8",
   "metadata": {},
   "outputs": [
    {
     "data": {
      "text/plain": [
       "0"
      ]
     },
     "execution_count": 12,
     "metadata": {},
     "output_type": "execute_result"
    }
   ],
   "source": [
    "data3.duplicated().sum()"
   ]
  },
  {
   "cell_type": "markdown",
   "id": "fc41d675",
   "metadata": {},
   "source": [
    "В двух последующих таблицах дубликаты отсутствуют."
   ]
  },
  {
   "cell_type": "markdown",
   "id": "212593c7",
   "metadata": {},
   "source": [
    "## Шаг 3. Исследовательский анализ данных"
   ]
  },
  {
   "cell_type": "markdown",
   "id": "f7914260",
   "metadata": {},
   "source": [
    "Изучим общую информацию о пользователях и поездках. Для этого построим гисторгаммы."
   ]
  },
  {
   "cell_type": "code",
   "execution_count": 13,
   "id": "c2bbb7cb",
   "metadata": {},
   "outputs": [
    {
     "data": {
      "image/png": "[encoded data removed]",
      "text/plain": [
       "<Figure size 720x360 with 1 Axes>"
      ]
     },
     "metadata": {
      "needs_background": "light"
     },
     "output_type": "display_data"
    },
    {
     "data": {
      "text/plain": [
       "Пятигорск         219\n",
       "Екатеринбург      204\n",
       "Ростов-на-Дону    198\n",
       "Краснодар         193\n",
       "Сочи              189\n",
       "Омск              183\n",
       "Тюмень            180\n",
       "Москва            168\n",
       "Name: city, dtype: int64"
      ]
     },
     "execution_count": 13,
     "metadata": {},
     "output_type": "execute_result"
    }
   ],
   "source": [
    "# частота встречаемости городов\n",
    "data1['city'].value_counts().plot(kind='bar',figsize=(10, 5),)              \n",
    "plt.xlabel('Город')\n",
    "plt.ylabel('Количество значений')\n",
    "plt.title('Частота встречаемости городов')\n",
    "plt.show()\n",
    "data1['city'].value_counts()"
   ]
  },
  {
   "cell_type": "markdown",
   "id": "ca54d3e2",
   "metadata": {},
   "source": [
    "Как видно по выводимым данным сервис пользуется популярностью больше всего в Пятигорске и меньше всего в Москве."
   ]
  },
  {
   "cell_type": "code",
   "execution_count": 14,
   "id": "3503a242",
   "metadata": {},
   "outputs": [
    {
     "data": {
      "image/png": "[encoded data removed]",
      "text/plain": [
       "<Figure size 432x288 with 1 Axes>"
      ]
     },
     "metadata": {
      "needs_background": "light"
     },
     "output_type": "display_data"
    },
    {
     "data": {
      "text/plain": [
       "free     835\n",
       "ultra    699\n",
       "Name: subscription_type, dtype: int64"
      ]
     },
     "execution_count": 14,
     "metadata": {},
     "output_type": "execute_result"
    }
   ],
   "source": [
    "# соотношение пользователей с подпиской и без подписки\n",
    "data1['subscription_type'].hist(bins=3)\n",
    "plt.xlabel('Подписка')\n",
    "plt.ylabel('Количество значений')\n",
    "plt.title('Соотношение пользователей с подпиской и без подписки')\n",
    "plt.show()\n",
    "data1['subscription_type'].value_counts()"
   ]
  },
  {
   "cell_type": "code",
   "execution_count": 15,
   "id": "5c90c6cd",
   "metadata": {},
   "outputs": [
    {
     "data": {
      "text/plain": [
       "45.57"
      ]
     },
     "execution_count": 15,
     "metadata": {},
     "output_type": "execute_result"
    }
   ],
   "source": [
    "\n",
    "ratio1=len(data1.query('subscription_type == \"ultra\"')) / len(data1)*100 \n",
    "round(ratio1, 2)         "
   ]
  },
  {
   "cell_type": "code",
   "execution_count": 16,
   "id": "2f05c561",
   "metadata": {},
   "outputs": [
    {
     "data": {
      "text/plain": [
       "54.43"
      ]
     },
     "execution_count": 16,
     "metadata": {},
     "output_type": "execute_result"
    }
   ],
   "source": [
    "ratio2=len(data1.query('subscription_type == \"free\"')) / len(data1)*100 \n",
    "round(ratio2, 2)  \n"
   ]
  },
  {
   "cell_type": "markdown",
   "id": "99e163f5",
   "metadata": {},
   "source": [
    "45% пользователей подключили подписку, а 54% пользователей не предпочитают эту услугу"
   ]
  },
  {
   "cell_type": "code",
   "execution_count": 17,
   "id": "16487315",
   "metadata": {},
   "outputs": [
    {
     "data": {
      "image/png": "[encoded data removed]",
      "text/plain": [
       "<Figure size 720x360 with 1 Axes>"
      ]
     },
     "metadata": {
      "needs_background": "light"
     },
     "output_type": "display_data"
    },
    {
     "data": {
      "text/plain": [
       "count    1534.000000\n",
       "mean       24.903520\n",
       "std         4.572367\n",
       "min        12.000000\n",
       "25%        22.000000\n",
       "50%        25.000000\n",
       "75%        28.000000\n",
       "max        43.000000\n",
       "Name: age, dtype: float64"
      ]
     },
     "execution_count": 17,
     "metadata": {},
     "output_type": "execute_result"
    }
   ],
   "source": [
    "#возраст пользователей\n",
    "data1['age'].hist(bins=30,  figsize=(10,5))\n",
    "plt.xlabel('Возраст')\n",
    "plt.ylabel('Количество значений')\n",
    "plt.title('Возраст пользователей')\n",
    "plt.show()\n",
    "\n",
    "data1['age'].describe()"
   ]
  },
  {
   "cell_type": "markdown",
   "id": "d55502fd",
   "metadata": {},
   "source": [
    "Средний возраст пользователей 25 лет.Самому младшему 12 лет, а старшему 43 года"
   ]
  },
  {
   "cell_type": "code",
   "execution_count": 18,
   "id": "cb6f79f7",
   "metadata": {},
   "outputs": [
    {
     "data": {
      "image/png": "[encoded data removed]",
      "text/plain": [
       "<Figure size 720x360 with 1 Axes>"
      ]
     },
     "metadata": {
      "needs_background": "light"
     },
     "output_type": "display_data"
    },
    {
     "data": {
      "text/plain": [
       "count    18068.000000\n",
       "mean      3070.659976\n",
       "std       1116.831209\n",
       "min          0.855683\n",
       "25%       2543.226360\n",
       "50%       3133.609994\n",
       "75%       3776.222735\n",
       "max       7211.007745\n",
       "Name: distance, dtype: float64"
      ]
     },
     "execution_count": 18,
     "metadata": {},
     "output_type": "execute_result"
    }
   ],
   "source": [
    "# расстояние, которое пользователь преодолел за одну поездку\n",
    "data2['distance'].hist(bins=50,  figsize=(10,5))\n",
    "plt.xlabel('Расстояние')\n",
    "plt.ylabel('Количество значений')\n",
    "plt.title('Расстояние, которое пользователь преодолел за одну поездку')\n",
    "\n",
    "plt.show()\n",
    "data2['distance'].describe()"
   ]
  },
  {
   "cell_type": "markdown",
   "id": "da01acd5",
   "metadata": {},
   "source": [
    "В среднем пользователи проезжают 3км и максимум 7,2 км.  На графике два пика: небольшое количество людей проезжают до 1км, второй пик это наша медиана."
   ]
  },
  {
   "cell_type": "code",
   "execution_count": 19,
   "id": "df1f2afd",
   "metadata": {},
   "outputs": [
    {
     "data": {
      "image/png": "[encoded data removed]",
      "text/plain": [
       "<Figure size 720x360 with 1 Axes>"
      ]
     },
     "metadata": {
      "needs_background": "light"
     },
     "output_type": "display_data"
    },
    {
     "data": {
      "text/plain": [
       "count    18068.000000\n",
       "mean        17.805011\n",
       "std          6.091051\n",
       "min          0.500000\n",
       "25%         13.597563\n",
       "50%         17.678395\n",
       "75%         21.724800\n",
       "max         40.823963\n",
       "Name: duration, dtype: float64"
      ]
     },
     "execution_count": 19,
     "metadata": {},
     "output_type": "execute_result"
    }
   ],
   "source": [
    "# продолжительность поездок\n",
    "data2['duration'].hist(bins=50,  figsize=(10,5))\n",
    "plt.xlabel('Продолжительность поездок')\n",
    "plt.ylabel('Количество значений')\n",
    "plt.title('Продолжительность поездок')\n",
    "plt.show()\n",
    "data2['duration'].describe()"
   ]
  },
  {
   "cell_type": "markdown",
   "id": "dffbf13e",
   "metadata": {},
   "source": [
    "В среднем пользователи проезжают 17 минут и максимум 40 минут.  На графике в значении примерно 1-2 минуты есть небольшой пик. Скорее всего это время, за которое некоторые пользователи настраивали самокат \"под себя\"."
   ]
  },
  {
   "cell_type": "markdown",
   "id": "862cf839",
   "metadata": {},
   "source": [
    "В ходе работы по исследованию данных можно сделать следующие выводы:\n",
    "- Больше всего пользователей в Пятигорске, а меньше в Москве;\n",
    "- Почти половина пользователей подключили подписку;\n",
    "- Самокатами пользуются в основном молодежь;\n",
    "- Поездка на самокате длится в среднем 17 минут и около 3 км."
   ]
  },
  {
   "cell_type": "markdown",
   "id": "4ef51331",
   "metadata": {},
   "source": [
    "## Шаг 4. Объединение данных"
   ]
  },
  {
   "cell_type": "markdown",
   "id": "f468fe05",
   "metadata": {},
   "source": [
    "Объединим данные о пользователях, поездках и подписках в один датафрейм"
   ]
  },
  {
   "cell_type": "code",
   "execution_count": 20,
   "id": "6bf288b5",
   "metadata": {},
   "outputs": [
    {
     "data": {
      "text/html": [
       "<div>\n",
       "<style scoped>\n",
       "    .dataframe tbody tr th:only-of-type {\n",
       "        vertical-align: middle;\n",
       "    }\n",
       "\n",
       "    .dataframe tbody tr th {\n",
       "        vertical-align: top;\n",
       "    }\n",
       "\n",
       "    .dataframe thead th {\n",
       "        text-align: right;\n",
       "    }\n",
       "</style>\n",
       "<table border=\"1\" class=\"dataframe\">\n",
       "  <thead>\n",
       "    <tr style=\"text-align: right;\">\n",
       "      <th></th>\n",
       "      <th>user_id</th>\n",
       "      <th>name</th>\n",
       "      <th>age</th>\n",
       "      <th>city</th>\n",
       "      <th>subscription_type</th>\n",
       "      <th>distance</th>\n",
       "      <th>duration</th>\n",
       "      <th>date</th>\n",
       "      <th>minute_price</th>\n",
       "      <th>start_ride_price</th>\n",
       "      <th>subscription_fee</th>\n",
       "    </tr>\n",
       "  </thead>\n",
       "  <tbody>\n",
       "    <tr>\n",
       "      <th>0</th>\n",
       "      <td>1</td>\n",
       "      <td>Кира</td>\n",
       "      <td>22</td>\n",
       "      <td>Тюмень</td>\n",
       "      <td>ultra</td>\n",
       "      <td>4409.919140</td>\n",
       "      <td>25.599769</td>\n",
       "      <td>2021-01-01</td>\n",
       "      <td>6</td>\n",
       "      <td>0</td>\n",
       "      <td>199</td>\n",
       "    </tr>\n",
       "    <tr>\n",
       "      <th>1</th>\n",
       "      <td>1</td>\n",
       "      <td>Кира</td>\n",
       "      <td>22</td>\n",
       "      <td>Тюмень</td>\n",
       "      <td>ultra</td>\n",
       "      <td>2617.592153</td>\n",
       "      <td>15.816871</td>\n",
       "      <td>2021-01-18</td>\n",
       "      <td>6</td>\n",
       "      <td>0</td>\n",
       "      <td>199</td>\n",
       "    </tr>\n",
       "    <tr>\n",
       "      <th>2</th>\n",
       "      <td>1</td>\n",
       "      <td>Кира</td>\n",
       "      <td>22</td>\n",
       "      <td>Тюмень</td>\n",
       "      <td>ultra</td>\n",
       "      <td>754.159807</td>\n",
       "      <td>6.232113</td>\n",
       "      <td>2021-04-20</td>\n",
       "      <td>6</td>\n",
       "      <td>0</td>\n",
       "      <td>199</td>\n",
       "    </tr>\n",
       "    <tr>\n",
       "      <th>3</th>\n",
       "      <td>1</td>\n",
       "      <td>Кира</td>\n",
       "      <td>22</td>\n",
       "      <td>Тюмень</td>\n",
       "      <td>ultra</td>\n",
       "      <td>2694.783254</td>\n",
       "      <td>18.511000</td>\n",
       "      <td>2021-08-11</td>\n",
       "      <td>6</td>\n",
       "      <td>0</td>\n",
       "      <td>199</td>\n",
       "    </tr>\n",
       "    <tr>\n",
       "      <th>4</th>\n",
       "      <td>1</td>\n",
       "      <td>Кира</td>\n",
       "      <td>22</td>\n",
       "      <td>Тюмень</td>\n",
       "      <td>ultra</td>\n",
       "      <td>4028.687306</td>\n",
       "      <td>26.265803</td>\n",
       "      <td>2021-08-28</td>\n",
       "      <td>6</td>\n",
       "      <td>0</td>\n",
       "      <td>199</td>\n",
       "    </tr>\n",
       "    <tr>\n",
       "      <th>5</th>\n",
       "      <td>1</td>\n",
       "      <td>Кира</td>\n",
       "      <td>22</td>\n",
       "      <td>Тюмень</td>\n",
       "      <td>ultra</td>\n",
       "      <td>2770.890808</td>\n",
       "      <td>16.650138</td>\n",
       "      <td>2021-10-09</td>\n",
       "      <td>6</td>\n",
       "      <td>0</td>\n",
       "      <td>199</td>\n",
       "    </tr>\n",
       "    <tr>\n",
       "      <th>6</th>\n",
       "      <td>1</td>\n",
       "      <td>Кира</td>\n",
       "      <td>22</td>\n",
       "      <td>Тюмень</td>\n",
       "      <td>ultra</td>\n",
       "      <td>3039.020292</td>\n",
       "      <td>14.927879</td>\n",
       "      <td>2021-10-19</td>\n",
       "      <td>6</td>\n",
       "      <td>0</td>\n",
       "      <td>199</td>\n",
       "    </tr>\n",
       "    <tr>\n",
       "      <th>7</th>\n",
       "      <td>1</td>\n",
       "      <td>Кира</td>\n",
       "      <td>22</td>\n",
       "      <td>Тюмень</td>\n",
       "      <td>ultra</td>\n",
       "      <td>2842.118050</td>\n",
       "      <td>23.117468</td>\n",
       "      <td>2021-11-06</td>\n",
       "      <td>6</td>\n",
       "      <td>0</td>\n",
       "      <td>199</td>\n",
       "    </tr>\n",
       "    <tr>\n",
       "      <th>8</th>\n",
       "      <td>1</td>\n",
       "      <td>Кира</td>\n",
       "      <td>22</td>\n",
       "      <td>Тюмень</td>\n",
       "      <td>ultra</td>\n",
       "      <td>3412.690668</td>\n",
       "      <td>15.238072</td>\n",
       "      <td>2021-11-14</td>\n",
       "      <td>6</td>\n",
       "      <td>0</td>\n",
       "      <td>199</td>\n",
       "    </tr>\n",
       "    <tr>\n",
       "      <th>9</th>\n",
       "      <td>1</td>\n",
       "      <td>Кира</td>\n",
       "      <td>22</td>\n",
       "      <td>Тюмень</td>\n",
       "      <td>ultra</td>\n",
       "      <td>748.690645</td>\n",
       "      <td>15.041884</td>\n",
       "      <td>2021-11-22</td>\n",
       "      <td>6</td>\n",
       "      <td>0</td>\n",
       "      <td>199</td>\n",
       "    </tr>\n",
       "  </tbody>\n",
       "</table>\n",
       "</div>"
      ],
      "text/plain": [
       "   user_id  name  age    city subscription_type     distance   duration  \\\n",
       "0        1  Кира   22  Тюмень             ultra  4409.919140  25.599769   \n",
       "1        1  Кира   22  Тюмень             ultra  2617.592153  15.816871   \n",
       "2        1  Кира   22  Тюмень             ultra   754.159807   6.232113   \n",
       "3        1  Кира   22  Тюмень             ultra  2694.783254  18.511000   \n",
       "4        1  Кира   22  Тюмень             ultra  4028.687306  26.265803   \n",
       "5        1  Кира   22  Тюмень             ultra  2770.890808  16.650138   \n",
       "6        1  Кира   22  Тюмень             ultra  3039.020292  14.927879   \n",
       "7        1  Кира   22  Тюмень             ultra  2842.118050  23.117468   \n",
       "8        1  Кира   22  Тюмень             ultra  3412.690668  15.238072   \n",
       "9        1  Кира   22  Тюмень             ultra   748.690645  15.041884   \n",
       "\n",
       "        date  minute_price  start_ride_price  subscription_fee  \n",
       "0 2021-01-01             6                 0               199  \n",
       "1 2021-01-18             6                 0               199  \n",
       "2 2021-04-20             6                 0               199  \n",
       "3 2021-08-11             6                 0               199  \n",
       "4 2021-08-28             6                 0               199  \n",
       "5 2021-10-09             6                 0               199  \n",
       "6 2021-10-19             6                 0               199  \n",
       "7 2021-11-06             6                 0               199  \n",
       "8 2021-11-14             6                 0               199  \n",
       "9 2021-11-22             6                 0               199  "
      ]
     },
     "execution_count": 20,
     "metadata": {},
     "output_type": "execute_result"
    }
   ],
   "source": [
    "data4=data1.merge(data2, on='user_id') \n",
    "data=data4.merge(data3, on='subscription_type') \n",
    "data.head(10)"
   ]
  },
  {
   "cell_type": "code",
   "execution_count": 21,
   "id": "cae16602",
   "metadata": {},
   "outputs": [
    {
     "data": {
      "text/plain": [
       "(18068, 11)"
      ]
     },
     "execution_count": 21,
     "metadata": {},
     "output_type": "execute_result"
    }
   ],
   "source": [
    "data.shape #проверим количество строк"
   ]
  },
  {
   "cell_type": "markdown",
   "id": "18e9b79e",
   "metadata": {},
   "source": [
    "Самая длинная таблица была data2, в нем было 18068 строк. Метод shape вывел нам такое же количество строк и 11 столбцов. Все сходиться"
   ]
  },
  {
   "cell_type": "markdown",
   "id": "975e896b",
   "metadata": {},
   "source": [
    " Создадим ещё два датафрейма из нового датафрейма data:\n",
    "- c данными о пользователях без подписки;\n",
    "- с данными о пользователях с подпиской."
   ]
  },
  {
   "cell_type": "code",
   "execution_count": 22,
   "id": "53fece86",
   "metadata": {},
   "outputs": [],
   "source": [
    "#пользователи с подпиской\n",
    "data_ultra=data[data['subscription_type']=='ultra']\n"
   ]
  },
  {
   "cell_type": "code",
   "execution_count": 23,
   "id": "17a0d885",
   "metadata": {},
   "outputs": [],
   "source": [
    "#пользователи без подписки\n",
    "data_free=data[data['subscription_type']=='free']\n"
   ]
  },
  {
   "cell_type": "code",
   "execution_count": 24,
   "id": "da0150fd",
   "metadata": {},
   "outputs": [
    {
     "data": {
      "image/png": "[encoded data removed]",
      "text/plain": [
       "<Figure size 432x288 with 1 Axes>"
      ]
     },
     "metadata": {
      "needs_background": "light"
     },
     "output_type": "display_data"
    }
   ],
   "source": [
    "#сравним распределения продолжительности поездок пользователей с подпиской и без подписки\n",
    "x1=list(data_ultra['duration'])\n",
    "x2=list(data_free['duration'])\n",
    "plt.hist([x1, x2], bins=20, color=['blue', 'green'], label=['ultra','free'])\n",
    "plt.legend()\n",
    "plt.xlabel('Продолжительность поездки')\n",
    "plt.ylabel('Количество значений')\n",
    "plt.title('Распределения продолжительности поездок пользователей с подпиской и без подписки')\n",
    "plt.show()"
   ]
  },
  {
   "cell_type": "markdown",
   "id": "65bc3d51",
   "metadata": {},
   "source": [
    "График показывает, что пользователи без подписки пользуются самокатами побольше чем с подпиской."
   ]
  },
  {
   "cell_type": "markdown",
   "id": "402d620f",
   "metadata": {},
   "source": [
    "## Шаг 5. Подсчёт выручки"
   ]
  },
  {
   "cell_type": "markdown",
   "id": "cf8d9644",
   "metadata": {},
   "source": [
    "Создадим датафрейм с агрегированными данными о поездках на основе датафрейма data: найдем суммарное расстояние, количество поездок и суммарное время для каждого пользователя за каждый месяц."
   ]
  },
  {
   "cell_type": "code",
   "execution_count": 25,
   "id": "ef757874",
   "metadata": {},
   "outputs": [],
   "source": [
    "data['month'] = pd.DatetimeIndex(data['date']).month #создадим столбец с месяцами"
   ]
  },
  {
   "cell_type": "code",
   "execution_count": 26,
   "id": "038e30a6",
   "metadata": {},
   "outputs": [],
   "source": [
    "data['duration'] = np.ceil(data['duration']) #округлим значение до следующего целого числа"
   ]
  },
  {
   "cell_type": "code",
   "execution_count": 27,
   "id": "53049e0a",
   "metadata": {},
   "outputs": [
    {
     "data": {
      "text/html": [
       "<div>\n",
       "<style scoped>\n",
       "    .dataframe tbody tr th:only-of-type {\n",
       "        vertical-align: middle;\n",
       "    }\n",
       "\n",
       "    .dataframe tbody tr th {\n",
       "        vertical-align: top;\n",
       "    }\n",
       "\n",
       "    .dataframe thead th {\n",
       "        text-align: right;\n",
       "    }\n",
       "</style>\n",
       "<table border=\"1\" class=\"dataframe\">\n",
       "  <thead>\n",
       "    <tr style=\"text-align: right;\">\n",
       "      <th></th>\n",
       "      <th>user_id</th>\n",
       "      <th>month</th>\n",
       "      <th>total_distance</th>\n",
       "      <th>total_duration</th>\n",
       "      <th>subscription_type</th>\n",
       "      <th>count</th>\n",
       "    </tr>\n",
       "  </thead>\n",
       "  <tbody>\n",
       "    <tr>\n",
       "      <th>0</th>\n",
       "      <td>1</td>\n",
       "      <td>1</td>\n",
       "      <td>7027.511294</td>\n",
       "      <td>42.0</td>\n",
       "      <td>ultra</td>\n",
       "      <td>2</td>\n",
       "    </tr>\n",
       "    <tr>\n",
       "      <th>1</th>\n",
       "      <td>1</td>\n",
       "      <td>4</td>\n",
       "      <td>754.159807</td>\n",
       "      <td>7.0</td>\n",
       "      <td>ultra</td>\n",
       "      <td>1</td>\n",
       "    </tr>\n",
       "    <tr>\n",
       "      <th>2</th>\n",
       "      <td>1</td>\n",
       "      <td>8</td>\n",
       "      <td>6723.470560</td>\n",
       "      <td>46.0</td>\n",
       "      <td>ultra</td>\n",
       "      <td>2</td>\n",
       "    </tr>\n",
       "    <tr>\n",
       "      <th>3</th>\n",
       "      <td>1</td>\n",
       "      <td>10</td>\n",
       "      <td>5809.911100</td>\n",
       "      <td>32.0</td>\n",
       "      <td>ultra</td>\n",
       "      <td>2</td>\n",
       "    </tr>\n",
       "    <tr>\n",
       "      <th>4</th>\n",
       "      <td>1</td>\n",
       "      <td>11</td>\n",
       "      <td>7003.499363</td>\n",
       "      <td>56.0</td>\n",
       "      <td>ultra</td>\n",
       "      <td>3</td>\n",
       "    </tr>\n",
       "    <tr>\n",
       "      <th>5</th>\n",
       "      <td>1</td>\n",
       "      <td>12</td>\n",
       "      <td>6751.629942</td>\n",
       "      <td>28.0</td>\n",
       "      <td>ultra</td>\n",
       "      <td>2</td>\n",
       "    </tr>\n",
       "    <tr>\n",
       "      <th>6</th>\n",
       "      <td>2</td>\n",
       "      <td>3</td>\n",
       "      <td>10187.723006</td>\n",
       "      <td>63.0</td>\n",
       "      <td>ultra</td>\n",
       "      <td>3</td>\n",
       "    </tr>\n",
       "    <tr>\n",
       "      <th>7</th>\n",
       "      <td>2</td>\n",
       "      <td>4</td>\n",
       "      <td>6164.381824</td>\n",
       "      <td>40.0</td>\n",
       "      <td>ultra</td>\n",
       "      <td>2</td>\n",
       "    </tr>\n",
       "    <tr>\n",
       "      <th>8</th>\n",
       "      <td>2</td>\n",
       "      <td>6</td>\n",
       "      <td>3255.338202</td>\n",
       "      <td>14.0</td>\n",
       "      <td>ultra</td>\n",
       "      <td>1</td>\n",
       "    </tr>\n",
       "    <tr>\n",
       "      <th>9</th>\n",
       "      <td>2</td>\n",
       "      <td>7</td>\n",
       "      <td>6780.722964</td>\n",
       "      <td>48.0</td>\n",
       "      <td>ultra</td>\n",
       "      <td>2</td>\n",
       "    </tr>\n",
       "    <tr>\n",
       "      <th>10</th>\n",
       "      <td>2</td>\n",
       "      <td>8</td>\n",
       "      <td>923.007439</td>\n",
       "      <td>7.0</td>\n",
       "      <td>ultra</td>\n",
       "      <td>1</td>\n",
       "    </tr>\n",
       "    <tr>\n",
       "      <th>11</th>\n",
       "      <td>2</td>\n",
       "      <td>10</td>\n",
       "      <td>2824.636598</td>\n",
       "      <td>19.0</td>\n",
       "      <td>ultra</td>\n",
       "      <td>1</td>\n",
       "    </tr>\n",
       "    <tr>\n",
       "      <th>12</th>\n",
       "      <td>2</td>\n",
       "      <td>12</td>\n",
       "      <td>3828.248580</td>\n",
       "      <td>12.0</td>\n",
       "      <td>ultra</td>\n",
       "      <td>1</td>\n",
       "    </tr>\n",
       "    <tr>\n",
       "      <th>13</th>\n",
       "      <td>3</td>\n",
       "      <td>1</td>\n",
       "      <td>3061.777147</td>\n",
       "      <td>13.0</td>\n",
       "      <td>ultra</td>\n",
       "      <td>1</td>\n",
       "    </tr>\n",
       "    <tr>\n",
       "      <th>14</th>\n",
       "      <td>3</td>\n",
       "      <td>2</td>\n",
       "      <td>5421.152016</td>\n",
       "      <td>39.0</td>\n",
       "      <td>ultra</td>\n",
       "      <td>2</td>\n",
       "    </tr>\n",
       "    <tr>\n",
       "      <th>15</th>\n",
       "      <td>3</td>\n",
       "      <td>4</td>\n",
       "      <td>2956.651632</td>\n",
       "      <td>21.0</td>\n",
       "      <td>ultra</td>\n",
       "      <td>1</td>\n",
       "    </tr>\n",
       "    <tr>\n",
       "      <th>16</th>\n",
       "      <td>3</td>\n",
       "      <td>5</td>\n",
       "      <td>9064.026918</td>\n",
       "      <td>63.0</td>\n",
       "      <td>ultra</td>\n",
       "      <td>3</td>\n",
       "    </tr>\n",
       "    <tr>\n",
       "      <th>17</th>\n",
       "      <td>3</td>\n",
       "      <td>7</td>\n",
       "      <td>10919.595403</td>\n",
       "      <td>67.0</td>\n",
       "      <td>ultra</td>\n",
       "      <td>3</td>\n",
       "    </tr>\n",
       "    <tr>\n",
       "      <th>18</th>\n",
       "      <td>3</td>\n",
       "      <td>9</td>\n",
       "      <td>2891.012822</td>\n",
       "      <td>23.0</td>\n",
       "      <td>ultra</td>\n",
       "      <td>1</td>\n",
       "    </tr>\n",
       "    <tr>\n",
       "      <th>19</th>\n",
       "      <td>3</td>\n",
       "      <td>12</td>\n",
       "      <td>2593.381928</td>\n",
       "      <td>13.0</td>\n",
       "      <td>ultra</td>\n",
       "      <td>1</td>\n",
       "    </tr>\n",
       "  </tbody>\n",
       "</table>\n",
       "</div>"
      ],
      "text/plain": [
       "    user_id  month  total_distance  total_duration subscription_type  count\n",
       "0         1      1     7027.511294            42.0             ultra      2\n",
       "1         1      4      754.159807             7.0             ultra      1\n",
       "2         1      8     6723.470560            46.0             ultra      2\n",
       "3         1     10     5809.911100            32.0             ultra      2\n",
       "4         1     11     7003.499363            56.0             ultra      3\n",
       "5         1     12     6751.629942            28.0             ultra      2\n",
       "6         2      3    10187.723006            63.0             ultra      3\n",
       "7         2      4     6164.381824            40.0             ultra      2\n",
       "8         2      6     3255.338202            14.0             ultra      1\n",
       "9         2      7     6780.722964            48.0             ultra      2\n",
       "10        2      8      923.007439             7.0             ultra      1\n",
       "11        2     10     2824.636598            19.0             ultra      1\n",
       "12        2     12     3828.248580            12.0             ultra      1\n",
       "13        3      1     3061.777147            13.0             ultra      1\n",
       "14        3      2     5421.152016            39.0             ultra      2\n",
       "15        3      4     2956.651632            21.0             ultra      1\n",
       "16        3      5     9064.026918            63.0             ultra      3\n",
       "17        3      7    10919.595403            67.0             ultra      3\n",
       "18        3      9     2891.012822            23.0             ultra      1\n",
       "19        3     12     2593.381928            13.0             ultra      1"
      ]
     },
     "execution_count": 27,
     "metadata": {},
     "output_type": "execute_result"
    }
   ],
   "source": [
    "data_pivot=data.pivot_table(index=['user_id','month'], values=['distance','duration', 'subscription_type'], aggfunc={'distance':'sum','duration':'sum','user_id': 'count', 'subscription_type':'min'})\n",
    "data_pivot.columns = ['total_distance', 'total_duration', 'subscription_type', 'count']\n",
    "data_pivot=data_pivot.reset_index()\n",
    "data_pivot.head(20)"
   ]
  },
  {
   "cell_type": "markdown",
   "id": "8c48383b",
   "metadata": {},
   "source": [
    "В результате получилась таблица с данными о каждом пользователе за все месяца.\n",
    "В этот же датафрейм добавим столбец с помесячной выручкой, которую принёс каждый пользователь."
   ]
  },
  {
   "cell_type": "code",
   "execution_count": 28,
   "id": "0a5ea4e8",
   "metadata": {},
   "outputs": [
    {
     "data": {
      "text/html": [
       "<div>\n",
       "<style scoped>\n",
       "    .dataframe tbody tr th:only-of-type {\n",
       "        vertical-align: middle;\n",
       "    }\n",
       "\n",
       "    .dataframe tbody tr th {\n",
       "        vertical-align: top;\n",
       "    }\n",
       "\n",
       "    .dataframe thead th {\n",
       "        text-align: right;\n",
       "    }\n",
       "</style>\n",
       "<table border=\"1\" class=\"dataframe\">\n",
       "  <thead>\n",
       "    <tr style=\"text-align: right;\">\n",
       "      <th></th>\n",
       "      <th>user_id</th>\n",
       "      <th>month</th>\n",
       "      <th>total_distance</th>\n",
       "      <th>total_duration</th>\n",
       "      <th>subscription_type</th>\n",
       "      <th>count</th>\n",
       "      <th>income</th>\n",
       "    </tr>\n",
       "  </thead>\n",
       "  <tbody>\n",
       "    <tr>\n",
       "      <th>0</th>\n",
       "      <td>1</td>\n",
       "      <td>1</td>\n",
       "      <td>7027.511294</td>\n",
       "      <td>42.0</td>\n",
       "      <td>ultra</td>\n",
       "      <td>2</td>\n",
       "      <td>451.0</td>\n",
       "    </tr>\n",
       "    <tr>\n",
       "      <th>1</th>\n",
       "      <td>1</td>\n",
       "      <td>4</td>\n",
       "      <td>754.159807</td>\n",
       "      <td>7.0</td>\n",
       "      <td>ultra</td>\n",
       "      <td>1</td>\n",
       "      <td>241.0</td>\n",
       "    </tr>\n",
       "    <tr>\n",
       "      <th>2</th>\n",
       "      <td>1</td>\n",
       "      <td>8</td>\n",
       "      <td>6723.470560</td>\n",
       "      <td>46.0</td>\n",
       "      <td>ultra</td>\n",
       "      <td>2</td>\n",
       "      <td>475.0</td>\n",
       "    </tr>\n",
       "    <tr>\n",
       "      <th>3</th>\n",
       "      <td>1</td>\n",
       "      <td>10</td>\n",
       "      <td>5809.911100</td>\n",
       "      <td>32.0</td>\n",
       "      <td>ultra</td>\n",
       "      <td>2</td>\n",
       "      <td>391.0</td>\n",
       "    </tr>\n",
       "    <tr>\n",
       "      <th>4</th>\n",
       "      <td>1</td>\n",
       "      <td>11</td>\n",
       "      <td>7003.499363</td>\n",
       "      <td>56.0</td>\n",
       "      <td>ultra</td>\n",
       "      <td>3</td>\n",
       "      <td>535.0</td>\n",
       "    </tr>\n",
       "    <tr>\n",
       "      <th>5</th>\n",
       "      <td>1</td>\n",
       "      <td>12</td>\n",
       "      <td>6751.629942</td>\n",
       "      <td>28.0</td>\n",
       "      <td>ultra</td>\n",
       "      <td>2</td>\n",
       "      <td>367.0</td>\n",
       "    </tr>\n",
       "    <tr>\n",
       "      <th>6</th>\n",
       "      <td>2</td>\n",
       "      <td>3</td>\n",
       "      <td>10187.723006</td>\n",
       "      <td>63.0</td>\n",
       "      <td>ultra</td>\n",
       "      <td>3</td>\n",
       "      <td>577.0</td>\n",
       "    </tr>\n",
       "    <tr>\n",
       "      <th>7</th>\n",
       "      <td>2</td>\n",
       "      <td>4</td>\n",
       "      <td>6164.381824</td>\n",
       "      <td>40.0</td>\n",
       "      <td>ultra</td>\n",
       "      <td>2</td>\n",
       "      <td>439.0</td>\n",
       "    </tr>\n",
       "    <tr>\n",
       "      <th>8</th>\n",
       "      <td>2</td>\n",
       "      <td>6</td>\n",
       "      <td>3255.338202</td>\n",
       "      <td>14.0</td>\n",
       "      <td>ultra</td>\n",
       "      <td>1</td>\n",
       "      <td>283.0</td>\n",
       "    </tr>\n",
       "    <tr>\n",
       "      <th>9</th>\n",
       "      <td>2</td>\n",
       "      <td>7</td>\n",
       "      <td>6780.722964</td>\n",
       "      <td>48.0</td>\n",
       "      <td>ultra</td>\n",
       "      <td>2</td>\n",
       "      <td>487.0</td>\n",
       "    </tr>\n",
       "    <tr>\n",
       "      <th>10</th>\n",
       "      <td>2</td>\n",
       "      <td>8</td>\n",
       "      <td>923.007439</td>\n",
       "      <td>7.0</td>\n",
       "      <td>ultra</td>\n",
       "      <td>1</td>\n",
       "      <td>241.0</td>\n",
       "    </tr>\n",
       "    <tr>\n",
       "      <th>11</th>\n",
       "      <td>2</td>\n",
       "      <td>10</td>\n",
       "      <td>2824.636598</td>\n",
       "      <td>19.0</td>\n",
       "      <td>ultra</td>\n",
       "      <td>1</td>\n",
       "      <td>313.0</td>\n",
       "    </tr>\n",
       "    <tr>\n",
       "      <th>12</th>\n",
       "      <td>2</td>\n",
       "      <td>12</td>\n",
       "      <td>3828.248580</td>\n",
       "      <td>12.0</td>\n",
       "      <td>ultra</td>\n",
       "      <td>1</td>\n",
       "      <td>271.0</td>\n",
       "    </tr>\n",
       "    <tr>\n",
       "      <th>13</th>\n",
       "      <td>3</td>\n",
       "      <td>1</td>\n",
       "      <td>3061.777147</td>\n",
       "      <td>13.0</td>\n",
       "      <td>ultra</td>\n",
       "      <td>1</td>\n",
       "      <td>277.0</td>\n",
       "    </tr>\n",
       "    <tr>\n",
       "      <th>14</th>\n",
       "      <td>3</td>\n",
       "      <td>2</td>\n",
       "      <td>5421.152016</td>\n",
       "      <td>39.0</td>\n",
       "      <td>ultra</td>\n",
       "      <td>2</td>\n",
       "      <td>433.0</td>\n",
       "    </tr>\n",
       "  </tbody>\n",
       "</table>\n",
       "</div>"
      ],
      "text/plain": [
       "    user_id  month  total_distance  total_duration subscription_type  count  \\\n",
       "0         1      1     7027.511294            42.0             ultra      2   \n",
       "1         1      4      754.159807             7.0             ultra      1   \n",
       "2         1      8     6723.470560            46.0             ultra      2   \n",
       "3         1     10     5809.911100            32.0             ultra      2   \n",
       "4         1     11     7003.499363            56.0             ultra      3   \n",
       "5         1     12     6751.629942            28.0             ultra      2   \n",
       "6         2      3    10187.723006            63.0             ultra      3   \n",
       "7         2      4     6164.381824            40.0             ultra      2   \n",
       "8         2      6     3255.338202            14.0             ultra      1   \n",
       "9         2      7     6780.722964            48.0             ultra      2   \n",
       "10        2      8      923.007439             7.0             ultra      1   \n",
       "11        2     10     2824.636598            19.0             ultra      1   \n",
       "12        2     12     3828.248580            12.0             ultra      1   \n",
       "13        3      1     3061.777147            13.0             ultra      1   \n",
       "14        3      2     5421.152016            39.0             ultra      2   \n",
       "\n",
       "    income  \n",
       "0    451.0  \n",
       "1    241.0  \n",
       "2    475.0  \n",
       "3    391.0  \n",
       "4    535.0  \n",
       "5    367.0  \n",
       "6    577.0  \n",
       "7    439.0  \n",
       "8    283.0  \n",
       "9    487.0  \n",
       "10   241.0  \n",
       "11   313.0  \n",
       "12   271.0  \n",
       "13   277.0  \n",
       "14   433.0  "
      ]
     },
     "execution_count": 28,
     "metadata": {},
     "output_type": "execute_result"
    }
   ],
   "source": [
    "def income_def(row):\n",
    "    total_duration=row['total_duration']\n",
    "    total_distance=row['total_distance']\n",
    "    count=row['count']\n",
    "    subscription_type=row['subscription_type']\n",
    "    \n",
    "    if subscription_type=='ultra':\n",
    "        return 6*total_duration+199\n",
    "    if subscription_type=='free':\n",
    "        return total_duration*8+count*50\n",
    "data_pivot['income']=data_pivot.apply(income_def, axis=1)\n",
    "data_pivot.head(15)   "
   ]
  },
  {
   "cell_type": "markdown",
   "id": "5056190e",
   "metadata": {},
   "source": [
    "По данной таблице можем наблюдать кто и сколько в каждый месяц принес доход сервису."
   ]
  },
  {
   "cell_type": "markdown",
   "id": "41545ac0",
   "metadata": {},
   "source": [
    "## Шаг 6. Проверка гипотез"
   ]
  },
  {
   "cell_type": "markdown",
   "id": "392361ea",
   "metadata": {},
   "source": [
    "Продакт-менеджеры сервиса хотят увеличить количество пользователей с подпиской. Для этого они будут проводить различные акции, но сначала нужно выяснить несколько важных моментов. Для проверки всех  гипотез будем использовать t-критерий Стьюдента."
   ]
  },
  {
   "cell_type": "markdown",
   "id": "c941ce70",
   "metadata": {},
   "source": [
    "**6.1**  Важно понять, тратят ли пользователи с подпиской больше времени на поездки? Если да, то пользователи с подпиской могут быть «выгоднее» для компании. "
   ]
  },
  {
   "cell_type": "markdown",
   "id": "c80c3e71",
   "metadata": {},
   "source": [
    "Проверим гипотезу  о равенстве средних двух генеральных совокупностей.  Альтернативная гипотеза:  средняя продолжительность времени на поездку (продолжительность сессии) у пользователей с подпиской больше средней продолжительность времени на поездку у пользователей без подписки. Нулевая гипотеза - меньше. Возьмем специальный метод для проверки гипотезы о равенстве среднего двух генеральных совокупностей по взятым из них выборкам: scipy.stats.ttest_ind (array1, array2, equal_var)."
   ]
  },
  {
   "cell_type": "code",
   "execution_count": 29,
   "id": "7cbd5fc1",
   "metadata": {},
   "outputs": [
    {
     "name": "stdout",
     "output_type": "stream",
     "text": [
      "p-значение: 1.2804098316645618e-34\n",
      "Отвергаем нулевую гипотезу\n"
     ]
    }
   ],
   "source": [
    "from scipy import stats as st\n",
    "import numpy as np\n",
    "\n",
    "sample_1= data_ultra['duration']\n",
    "sample_2 = data_free['duration']\n",
    "\n",
    "alpha = 0.05 # уровень статистической значимости\n",
    "\n",
    "# если p-value окажется меньше него, отвергнем гипотезу\n",
    "\n",
    "results = st.ttest_ind(sample_1, sample_2, alternative='greater')\n",
    "\n",
    "print('p-значение:', results.pvalue)\n",
    "\n",
    "if results.pvalue < alpha:\n",
    "    print('Отвергаем нулевую гипотезу')\n",
    "else:\n",
    "    print('Не получилось отвергнуть нулевую гипотезу')"
   ]
  },
  {
   "cell_type": "markdown",
   "id": "efc6c0fb",
   "metadata": {},
   "source": [
    "Р-value < 0.05, мы  можем отвергнуть нулевую гипотезу.Принимаем альтернативную гипотезу о том, что средняя продолжительность времени на поездку (продолжительность сессии) у пользователей с подпиской больше средней продолжительность времени на поездку у пользователей без подписки."
   ]
  },
  {
   "cell_type": "markdown",
   "id": "4c0709f7",
   "metadata": {},
   "source": [
    "**6.2** Расстояние одной поездки в 3130 метров — оптимальное с точки зрения износа самоката. Можно ли сказать, что расстояние, которое проезжают пользователи с подпиской за одну поездку, не превышает 3130 метров? Проверим гипотезу и сделаем выводы."
   ]
  },
  {
   "cell_type": "markdown",
   "id": "c132a749",
   "metadata": {},
   "source": [
    "Будем использовать односторонний тест. В Python нет специального метода для проведения одностороннего теста. Есть метод scipy.stats.ttest_1samp(), проверяющий двустороннюю гипотезу.  Так как нам нужен односторонний тест, выполним двусторонний, а выданное p-value просто поделим  пополам. Так мы получим одностороннюю вероятность отклонения наблюдаемого значения от предполагаемого.\n",
    "Нулевая гипотеза: среднее расстояние, которое проезжают пользователи с подпиской за одну поездку равно оптимальному расстоянию с точки зрения износа самоката. \n",
    "Альтернативная гипотеза: среднее расстояние, которое меньше оптимального расстояния с точки зрения износа самоката."
   ]
  },
  {
   "cell_type": "code",
   "execution_count": 30,
   "id": "8e0931c4",
   "metadata": {},
   "outputs": [
    {
     "name": "stdout",
     "output_type": "stream",
     "text": [
      "p-значение: 0.08046311521502146\n",
      "Не отвергаем нулевую гипотезу\n"
     ]
    }
   ],
   "source": [
    "\n",
    "id_ultra = data_ultra['distance']\n",
    "\n",
    "prev_value = 3130\n",
    "\n",
    "alpha = .05 # уровень статистической значимости\n",
    "\n",
    "results = st.ttest_1samp(\n",
    "\n",
    "    id_ultra, \n",
    "\n",
    "    prev_value)\n",
    "\n",
    "# тест односторонний: p-value будет в два раза меньше\n",
    "\n",
    "print('p-значение:', results.pvalue / 2)\n",
    "\n",
    "# тест односторонний влево:\n",
    "\n",
    "# отвергаем гипотезу только тогда, когда выборочное среднее значимо меньше предполагаемого значения\n",
    "\n",
    "if (results.pvalue / 2 < alpha) and (id_ultra.mean() < prev_value):\n",
    "\n",
    "    print(\"Отвергаем нулевую гипотезу\")\n",
    "\n",
    "else:\n",
    "\n",
    "    print(\"Не отвергаем нулевую гипотезу\")"
   ]
  },
  {
   "cell_type": "markdown",
   "id": "5bef6ed7",
   "metadata": {},
   "source": [
    "Принимаем нулевую гипотезу. Среднее расстояние, которое проезжают пользователи с подпиской за одну поездку равно оптимальному расстоянию с точки зрения износа самоката. "
   ]
  },
  {
   "cell_type": "markdown",
   "id": "4530a358",
   "metadata": {},
   "source": [
    "**6.3** Проверим гипотезу о том, будет ли помесячная выручка от пользователей с подпиской по месяцам выше, чем выручка от пользователей без подписки."
   ]
  },
  {
   "cell_type": "markdown",
   "id": "e197c77a",
   "metadata": {},
   "source": [
    "Для проверки гипотез также будем использовать t-критерий Стьюдента. Проверим гипотезу  о равенстве средних двух генеральных совокупностей.  \n",
    "Нулевая гипотеза: средняя помесячная  выручка от пользователей с подпиской ниже средней помесячной выручки от пользователей без подписки. Альтернативная гипотеза: средняя помесячная  выручка от пользователей с подпиской выше средней помесячной выручки от пользователей без подписки. Также используем  scipy.stats.ttest_ind (array1, array2, equal_var)."
   ]
  },
  {
   "cell_type": "code",
   "execution_count": 31,
   "id": "046fdbbe",
   "metadata": {},
   "outputs": [
    {
     "name": "stdout",
     "output_type": "stream",
     "text": [
      "p-значение: 1.8850394384715216e-31\n",
      "Отвергаем нулевую гипотезу\n"
     ]
    }
   ],
   "source": [
    "data_ultra1=data_pivot[data_pivot['subscription_type']=='ultra']\n",
    "data_free1=data_pivot[data_pivot['subscription_type']=='free']\n",
    "\n",
    "sample_1= data_ultra1['income'] \n",
    "sample_2 = data_free1['income']\n",
    "\n",
    "alpha = 0.05 # уровень статистической значимости\n",
    "\n",
    "# если p-value окажется меньше него, отвергнем гипотезу\n",
    "\n",
    "results = st.ttest_ind(sample_1, sample_2, alternative='greater')\n",
    "\n",
    "print('p-значение:', results.pvalue)\n",
    "\n",
    "if results.pvalue < alpha:\n",
    "    print('Отвергаем нулевую гипотезу')\n",
    "else:\n",
    "    print('Не получилось отвергнуть нулевую гипотезу')\n"
   ]
  },
  {
   "cell_type": "markdown",
   "id": "c7b2cbc6",
   "metadata": {},
   "source": [
    "Р-value < 0.05, мы можем отвергнуть нулевую гипотезу. Принимаем альтернативную гипотезу о том, что средняя помесячная  выручка от пользователей с подпиской выше средней помесячной выручки от пользователей без подписки"
   ]
  },
  {
   "cell_type": "markdown",
   "id": "2682e3ba",
   "metadata": {},
   "source": [
    "**6.4** Представим, что техническая команда сервиса обновила сервера, с которыми взаимодействует мобильное приложение. Она надеется, что из-за этого количество обращений в техподдержку значимо снизилось. Некоторый файл содержит для каждого пользователя данные о количестве обращений до обновления и после него. Найдем тест, который понадобился бы для проверки этой гипотезы."
   ]
  },
  {
   "cell_type": "markdown",
   "id": "14938b32",
   "metadata": {},
   "source": [
    "Здесь нам надо проверить гипотезу о равенстве средних двух генеральных совокупностей для зависимых (парных) выборок в Python, применим метод scipy.stats.ttest_rel().\n",
    "Н0: Количество обращений в техподдержку до обновлений и после обновлений равно (не изменилось) . \n",
    "Н1: Количество обращений в техподдержку до обновлений и после обновлений не равно."
   ]
  },
  {
   "cell_type": "markdown",
   "id": "3764207b",
   "metadata": {},
   "source": [
    "## Вывод"
   ]
  },
  {
   "cell_type": "markdown",
   "id": "a3da1af8",
   "metadata": {},
   "source": [
    "Была проделана большая работа по исследованию сервиса проката самокатов.\n",
    "\n",
    "Мы сделали предобработку данных: в столбце date изменили тип; удалили дубликаты в таблице Пользователи; данные были полные, без пропусков. \n",
    "\n",
    "В ходе работы по исследованию данных можно сделать следующие выводы:\n",
    "Больше всего пользователей в Пятигорске, а меньше в Москве;\n",
    "Почти половина пользователей (45%) подключили подписку;\n",
    "Самокатами пользуются в основном молодежь;\n",
    "Поездка на самокате длится в среднем 17 минут и около 3 км.\n",
    "создали сводные таблицы, построили графики, по которым провели анализ данных. Ответили на гипотезы, которые от нас требовали уточнить.\n",
    "\n",
    "Для удобства мы объеденили таблицы Пользователи, Подписки и Поездку в один датафрейм. Затем создали сводную таблицу, где можно посмотреть кто сколько поехал и внес прибыли в каждом месяце. \n",
    "\n",
    "Проверили гипотезы, которые нам задали. \n",
    "Пользователи с подпиской тратят больше  времени на поездку и приносят больше выручки чем пользователи без подписки.\n",
    "Среднее расстояние, которое проезжают пользователи с подпиской за одну поездку равно оптимальному расстоянию с точки зрения износа самоката.\n",
    "\n"
   ]
  }
 ],
 "metadata": {
  "ExecuteTimeLog": [
   {
    "duration": 1064,
    "start_time": "2023-06-01T05:48:00.319Z"
   },
   {
    "duration": 3,
    "start_time": "2023-06-01T05:48:23.646Z"
   },
   {
    "duration": 32,
    "start_time": "2023-06-01T05:48:59.572Z"
   },
   {
    "duration": 36,
    "start_time": "2023-06-01T05:49:01.068Z"
   },
   {
    "duration": 40,
    "start_time": "2023-06-01T05:49:01.166Z"
   },
   {
    "duration": 20,
    "start_time": "2023-06-01T05:49:01.422Z"
   },
   {
    "duration": 34,
    "start_time": "2023-06-01T05:51:28.337Z"
   },
   {
    "duration": 32,
    "start_time": "2023-06-01T05:51:39.181Z"
   },
   {
    "duration": 12,
    "start_time": "2023-06-01T05:52:04.732Z"
   },
   {
    "duration": 23,
    "start_time": "2023-06-01T05:52:16.440Z"
   },
   {
    "duration": 10,
    "start_time": "2023-06-01T05:52:24.038Z"
   },
   {
    "duration": 9,
    "start_time": "2023-06-01T05:52:33.924Z"
   },
   {
    "duration": 15,
    "start_time": "2023-06-01T05:52:44.777Z"
   },
   {
    "duration": 7,
    "start_time": "2023-06-01T06:00:39.009Z"
   },
   {
    "duration": 6,
    "start_time": "2023-06-01T06:00:50.062Z"
   },
   {
    "duration": 8,
    "start_time": "2023-06-01T06:01:07.266Z"
   },
   {
    "duration": 12,
    "start_time": "2023-06-01T06:01:07.971Z"
   },
   {
    "duration": 11,
    "start_time": "2023-06-01T06:05:11.345Z"
   },
   {
    "duration": 13,
    "start_time": "2023-06-01T06:05:19.887Z"
   },
   {
    "duration": 13,
    "start_time": "2023-06-01T06:05:44.108Z"
   },
   {
    "duration": 7,
    "start_time": "2023-06-01T06:07:25.749Z"
   },
   {
    "duration": 17,
    "start_time": "2023-06-01T06:07:45.000Z"
   },
   {
    "duration": 10,
    "start_time": "2023-06-01T06:08:47.292Z"
   },
   {
    "duration": 13,
    "start_time": "2023-06-01T06:10:11.801Z"
   },
   {
    "duration": 14,
    "start_time": "2023-06-01T06:10:26.473Z"
   },
   {
    "duration": 109,
    "start_time": "2023-06-01T06:12:15.190Z"
   },
   {
    "duration": 2940,
    "start_time": "2023-06-01T06:15:43.385Z"
   },
   {
    "duration": 2127,
    "start_time": "2023-06-01T06:16:45.738Z"
   },
   {
    "duration": 9,
    "start_time": "2023-06-01T06:42:26.087Z"
   },
   {
    "duration": 18,
    "start_time": "2023-06-01T06:42:45.194Z"
   },
   {
    "duration": 31,
    "start_time": "2023-06-01T06:42:57.000Z"
   },
   {
    "duration": 18,
    "start_time": "2023-06-01T06:48:52.589Z"
   },
   {
    "duration": 62,
    "start_time": "2023-06-01T06:48:56.892Z"
   },
   {
    "duration": 15,
    "start_time": "2023-06-01T06:49:28.412Z"
   },
   {
    "duration": 3,
    "start_time": "2023-06-01T06:51:22.815Z"
   },
   {
    "duration": 34,
    "start_time": "2023-06-01T06:51:23.677Z"
   },
   {
    "duration": 33,
    "start_time": "2023-06-01T06:51:24.302Z"
   },
   {
    "duration": 30,
    "start_time": "2023-06-01T06:51:24.913Z"
   },
   {
    "duration": 10,
    "start_time": "2023-06-01T06:51:25.898Z"
   },
   {
    "duration": 13,
    "start_time": "2023-06-01T06:51:26.824Z"
   },
   {
    "duration": 10,
    "start_time": "2023-06-01T06:51:27.786Z"
   },
   {
    "duration": 10,
    "start_time": "2023-06-01T06:51:31.577Z"
   },
   {
    "duration": 6,
    "start_time": "2023-06-01T06:51:34.308Z"
   },
   {
    "duration": 9,
    "start_time": "2023-06-01T06:51:35.491Z"
   },
   {
    "duration": 8,
    "start_time": "2023-06-01T06:51:36.910Z"
   },
   {
    "duration": 6,
    "start_time": "2023-06-01T06:51:37.704Z"
   },
   {
    "duration": 624,
    "start_time": "2023-06-01T06:58:58.512Z"
   },
   {
    "duration": 1127,
    "start_time": "2023-06-01T09:54:10.358Z"
   },
   {
    "duration": 125,
    "start_time": "2023-06-01T09:54:11.487Z"
   },
   {
    "duration": 107,
    "start_time": "2023-06-01T09:54:11.642Z"
   },
   {
    "duration": 90,
    "start_time": "2023-06-01T09:54:11.752Z"
   },
   {
    "duration": 14,
    "start_time": "2023-06-01T09:54:11.844Z"
   },
   {
    "duration": 90,
    "start_time": "2023-06-01T09:54:11.860Z"
   },
   {
    "duration": 9,
    "start_time": "2023-06-01T09:54:11.952Z"
   },
   {
    "duration": 23,
    "start_time": "2023-06-01T09:54:11.963Z"
   },
   {
    "duration": 6,
    "start_time": "2023-06-01T09:54:12.042Z"
   },
   {
    "duration": 97,
    "start_time": "2023-06-01T09:54:12.050Z"
   },
   {
    "duration": 14,
    "start_time": "2023-06-01T09:54:12.149Z"
   },
   {
    "duration": 19,
    "start_time": "2023-06-01T09:54:12.164Z"
   },
   {
    "duration": 995,
    "start_time": "2023-06-01T09:54:12.184Z"
   },
   {
    "duration": 78,
    "start_time": "2023-06-01T09:55:50.886Z"
   },
   {
    "duration": 87,
    "start_time": "2023-06-01T09:56:08.307Z"
   },
   {
    "duration": 307,
    "start_time": "2023-06-01T09:56:15.489Z"
   },
   {
    "duration": 250,
    "start_time": "2023-06-01T09:56:30.085Z"
   },
   {
    "duration": 156,
    "start_time": "2023-06-01T09:56:39.614Z"
   },
   {
    "duration": 167,
    "start_time": "2023-06-01T09:56:48.789Z"
   },
   {
    "duration": 170,
    "start_time": "2023-06-01T09:57:48.069Z"
   },
   {
    "duration": 7,
    "start_time": "2023-06-01T10:00:52.993Z"
   },
   {
    "duration": 167,
    "start_time": "2023-06-01T10:01:04.761Z"
   },
   {
    "duration": 150,
    "start_time": "2023-06-01T10:05:32.605Z"
   },
   {
    "duration": 129,
    "start_time": "2023-06-01T10:06:12.623Z"
   },
   {
    "duration": 122,
    "start_time": "2023-06-01T10:08:13.702Z"
   },
   {
    "duration": 121,
    "start_time": "2023-06-01T10:15:29.251Z"
   },
   {
    "duration": 189,
    "start_time": "2023-06-01T10:22:08.989Z"
   },
   {
    "duration": 30,
    "start_time": "2023-06-01T10:23:16.489Z"
   },
   {
    "duration": 19,
    "start_time": "2023-06-01T10:24:03.422Z"
   },
   {
    "duration": 638,
    "start_time": "2023-06-01T10:52:06.752Z"
   },
   {
    "duration": 291,
    "start_time": "2023-06-01T10:52:16.681Z"
   },
   {
    "duration": 15,
    "start_time": "2023-06-01T10:52:29.088Z"
   },
   {
    "duration": 99,
    "start_time": "2023-06-01T10:57:01.539Z"
   },
   {
    "duration": 4,
    "start_time": "2023-06-01T10:57:50.147Z"
   },
   {
    "duration": 104,
    "start_time": "2023-06-01T10:58:05.795Z"
   },
   {
    "duration": 7,
    "start_time": "2023-06-01T10:58:15.283Z"
   },
   {
    "duration": 8,
    "start_time": "2023-06-01T10:58:25.651Z"
   },
   {
    "duration": 7,
    "start_time": "2023-06-01T11:13:54.621Z"
   },
   {
    "duration": 10,
    "start_time": "2023-06-01T11:14:48.804Z"
   },
   {
    "duration": 11,
    "start_time": "2023-06-01T11:14:57.879Z"
   },
   {
    "duration": 11,
    "start_time": "2023-06-01T11:15:46.257Z"
   },
   {
    "duration": 7,
    "start_time": "2023-06-01T11:15:58.982Z"
   },
   {
    "duration": 7,
    "start_time": "2023-06-01T11:16:00.342Z"
   },
   {
    "duration": 7,
    "start_time": "2023-06-01T11:16:10.437Z"
   },
   {
    "duration": 7,
    "start_time": "2023-06-01T11:16:21.285Z"
   },
   {
    "duration": 120,
    "start_time": "2023-06-01T11:17:49.958Z"
   },
   {
    "duration": 119,
    "start_time": "2023-06-01T11:18:18.199Z"
   },
   {
    "duration": 158,
    "start_time": "2023-06-01T11:19:56.531Z"
   },
   {
    "duration": 175,
    "start_time": "2023-06-01T11:21:41.557Z"
   },
   {
    "duration": 1417,
    "start_time": "2023-06-01T11:25:06.057Z"
   },
   {
    "duration": 202,
    "start_time": "2023-06-01T11:25:22.865Z"
   },
   {
    "duration": 183,
    "start_time": "2023-06-01T11:25:54.475Z"
   },
   {
    "duration": 1886,
    "start_time": "2023-06-01T11:26:02.875Z"
   },
   {
    "duration": 964,
    "start_time": "2023-06-01T11:26:12.521Z"
   },
   {
    "duration": 210,
    "start_time": "2023-06-01T11:26:30.523Z"
   },
   {
    "duration": 329,
    "start_time": "2023-06-01T11:32:00.380Z"
   },
   {
    "duration": 185,
    "start_time": "2023-06-01T11:32:07.620Z"
   },
   {
    "duration": 18,
    "start_time": "2023-06-01T11:47:33.621Z"
   },
   {
    "duration": 29,
    "start_time": "2023-06-01T11:48:40.465Z"
   },
   {
    "duration": 129,
    "start_time": "2023-06-01T11:49:11.881Z"
   },
   {
    "duration": 1396,
    "start_time": "2023-06-01T11:49:37.857Z"
   },
   {
    "duration": 56,
    "start_time": "2023-06-01T11:50:21.812Z"
   },
   {
    "duration": 659,
    "start_time": "2023-06-01T11:50:32.315Z"
   },
   {
    "duration": 102,
    "start_time": "2023-06-01T11:50:32.977Z"
   },
   {
    "duration": 72,
    "start_time": "2023-06-01T11:50:33.081Z"
   },
   {
    "duration": 57,
    "start_time": "2023-06-01T11:50:33.156Z"
   },
   {
    "duration": 11,
    "start_time": "2023-06-01T11:50:33.214Z"
   },
   {
    "duration": 42,
    "start_time": "2023-06-01T11:50:33.227Z"
   },
   {
    "duration": 11,
    "start_time": "2023-06-01T11:50:33.271Z"
   },
   {
    "duration": 17,
    "start_time": "2023-06-01T11:50:33.284Z"
   },
   {
    "duration": 8,
    "start_time": "2023-06-01T11:50:33.303Z"
   },
   {
    "duration": 9,
    "start_time": "2023-06-01T11:50:33.313Z"
   },
   {
    "duration": 14,
    "start_time": "2023-06-01T11:50:33.324Z"
   },
   {
    "duration": 5,
    "start_time": "2023-06-01T11:50:33.340Z"
   },
   {
    "duration": 174,
    "start_time": "2023-06-01T11:50:33.346Z"
   },
   {
    "duration": 142,
    "start_time": "2023-06-01T11:50:33.521Z"
   },
   {
    "duration": 8,
    "start_time": "2023-06-01T11:50:33.665Z"
   },
   {
    "duration": 20,
    "start_time": "2023-06-01T11:50:33.674Z"
   },
   {
    "duration": 175,
    "start_time": "2023-06-01T11:50:33.696Z"
   },
   {
    "duration": 195,
    "start_time": "2023-06-01T11:50:33.873Z"
   },
   {
    "duration": 320,
    "start_time": "2023-06-01T11:50:34.069Z"
   },
   {
    "duration": 24,
    "start_time": "2023-06-01T11:50:34.391Z"
   },
   {
    "duration": 131,
    "start_time": "2023-06-01T11:50:48.080Z"
   },
   {
    "duration": 52,
    "start_time": "2023-06-01T11:57:58.024Z"
   },
   {
    "duration": 768,
    "start_time": "2023-06-01T11:58:41.156Z"
   },
   {
    "duration": 665,
    "start_time": "2023-06-01T11:59:04.295Z"
   },
   {
    "duration": 106,
    "start_time": "2023-06-01T11:59:04.962Z"
   },
   {
    "duration": 84,
    "start_time": "2023-06-01T11:59:05.069Z"
   },
   {
    "duration": 58,
    "start_time": "2023-06-01T11:59:05.155Z"
   },
   {
    "duration": 12,
    "start_time": "2023-06-01T11:59:05.214Z"
   },
   {
    "duration": 14,
    "start_time": "2023-06-01T11:59:05.228Z"
   },
   {
    "duration": 13,
    "start_time": "2023-06-01T11:59:05.243Z"
   },
   {
    "duration": 15,
    "start_time": "2023-06-01T11:59:05.258Z"
   },
   {
    "duration": 6,
    "start_time": "2023-06-01T11:59:05.275Z"
   },
   {
    "duration": 8,
    "start_time": "2023-06-01T11:59:05.284Z"
   },
   {
    "duration": 9,
    "start_time": "2023-06-01T11:59:05.294Z"
   },
   {
    "duration": 5,
    "start_time": "2023-06-01T11:59:05.304Z"
   },
   {
    "duration": 184,
    "start_time": "2023-06-01T11:59:05.343Z"
   },
   {
    "duration": 136,
    "start_time": "2023-06-01T11:59:05.529Z"
   },
   {
    "duration": 10,
    "start_time": "2023-06-01T11:59:05.667Z"
   },
   {
    "duration": 10,
    "start_time": "2023-06-01T11:59:05.679Z"
   },
   {
    "duration": 190,
    "start_time": "2023-06-01T11:59:05.690Z"
   },
   {
    "duration": 219,
    "start_time": "2023-06-01T11:59:05.881Z"
   },
   {
    "duration": 283,
    "start_time": "2023-06-01T11:59:06.102Z"
   },
   {
    "duration": 25,
    "start_time": "2023-06-01T11:59:06.387Z"
   },
   {
    "duration": 112,
    "start_time": "2023-06-01T11:59:20.167Z"
   },
   {
    "duration": 1342,
    "start_time": "2023-06-01T12:01:08.394Z"
   },
   {
    "duration": 639,
    "start_time": "2023-06-01T12:02:02.675Z"
   },
   {
    "duration": 83,
    "start_time": "2023-06-01T12:02:03.316Z"
   },
   {
    "duration": 70,
    "start_time": "2023-06-01T12:02:03.401Z"
   },
   {
    "duration": 56,
    "start_time": "2023-06-01T12:02:03.473Z"
   },
   {
    "duration": 13,
    "start_time": "2023-06-01T12:02:03.530Z"
   },
   {
    "duration": 23,
    "start_time": "2023-06-01T12:02:03.544Z"
   },
   {
    "duration": 17,
    "start_time": "2023-06-01T12:02:03.569Z"
   },
   {
    "duration": 32,
    "start_time": "2023-06-01T12:02:03.588Z"
   },
   {
    "duration": 15,
    "start_time": "2023-06-01T12:02:03.622Z"
   },
   {
    "duration": 9,
    "start_time": "2023-06-01T12:02:03.640Z"
   },
   {
    "duration": 26,
    "start_time": "2023-06-01T12:02:03.651Z"
   },
   {
    "duration": 10,
    "start_time": "2023-06-01T12:02:03.679Z"
   },
   {
    "duration": 184,
    "start_time": "2023-06-01T12:02:03.691Z"
   },
   {
    "duration": 112,
    "start_time": "2023-06-01T12:02:03.877Z"
   },
   {
    "duration": 6,
    "start_time": "2023-06-01T12:02:03.991Z"
   },
   {
    "duration": 8,
    "start_time": "2023-06-01T12:02:03.998Z"
   },
   {
    "duration": 189,
    "start_time": "2023-06-01T12:02:04.008Z"
   },
   {
    "duration": 192,
    "start_time": "2023-06-01T12:02:04.199Z"
   },
   {
    "duration": 256,
    "start_time": "2023-06-01T12:02:04.393Z"
   },
   {
    "duration": 24,
    "start_time": "2023-06-01T12:02:04.651Z"
   },
   {
    "duration": 123,
    "start_time": "2023-06-01T12:02:24.013Z"
   },
   {
    "duration": 1423,
    "start_time": "2023-06-01T12:02:56.080Z"
   },
   {
    "duration": 646,
    "start_time": "2023-06-01T12:17:26.181Z"
   },
   {
    "duration": 82,
    "start_time": "2023-06-01T12:17:26.829Z"
   },
   {
    "duration": 79,
    "start_time": "2023-06-01T12:17:26.913Z"
   },
   {
    "duration": 72,
    "start_time": "2023-06-01T12:17:26.994Z"
   },
   {
    "duration": 13,
    "start_time": "2023-06-01T12:17:27.067Z"
   },
   {
    "duration": 20,
    "start_time": "2023-06-01T12:17:27.081Z"
   },
   {
    "duration": 10,
    "start_time": "2023-06-01T12:17:27.104Z"
   },
   {
    "duration": 17,
    "start_time": "2023-06-01T12:17:27.116Z"
   },
   {
    "duration": 11,
    "start_time": "2023-06-01T12:17:27.134Z"
   },
   {
    "duration": 15,
    "start_time": "2023-06-01T12:17:27.149Z"
   },
   {
    "duration": 21,
    "start_time": "2023-06-01T12:17:27.166Z"
   },
   {
    "duration": 5,
    "start_time": "2023-06-01T12:17:27.190Z"
   },
   {
    "duration": 189,
    "start_time": "2023-06-01T12:17:27.197Z"
   },
   {
    "duration": 125,
    "start_time": "2023-06-01T12:17:27.388Z"
   },
   {
    "duration": 7,
    "start_time": "2023-06-01T12:17:27.515Z"
   },
   {
    "duration": 30,
    "start_time": "2023-06-01T12:17:27.524Z"
   },
   {
    "duration": 179,
    "start_time": "2023-06-01T12:17:27.556Z"
   },
   {
    "duration": 215,
    "start_time": "2023-06-01T12:17:27.736Z"
   },
   {
    "duration": 265,
    "start_time": "2023-06-01T12:17:27.953Z"
   },
   {
    "duration": 40,
    "start_time": "2023-06-01T12:17:28.220Z"
   },
   {
    "duration": 109,
    "start_time": "2023-06-01T12:17:56.097Z"
   },
   {
    "duration": 1354,
    "start_time": "2023-06-01T12:18:03.661Z"
   },
   {
    "duration": 56,
    "start_time": "2023-06-01T12:19:41.261Z"
   },
   {
    "duration": 723,
    "start_time": "2023-06-01T12:19:48.537Z"
   },
   {
    "duration": 84,
    "start_time": "2023-06-01T12:19:49.262Z"
   },
   {
    "duration": 69,
    "start_time": "2023-06-01T12:19:49.348Z"
   },
   {
    "duration": 56,
    "start_time": "2023-06-01T12:19:49.419Z"
   },
   {
    "duration": 11,
    "start_time": "2023-06-01T12:19:49.477Z"
   },
   {
    "duration": 20,
    "start_time": "2023-06-01T12:19:49.490Z"
   },
   {
    "duration": 11,
    "start_time": "2023-06-01T12:19:49.511Z"
   },
   {
    "duration": 22,
    "start_time": "2023-06-01T12:19:49.524Z"
   },
   {
    "duration": 6,
    "start_time": "2023-06-01T12:19:49.548Z"
   },
   {
    "duration": 12,
    "start_time": "2023-06-01T12:19:49.557Z"
   },
   {
    "duration": 9,
    "start_time": "2023-06-01T12:19:49.570Z"
   },
   {
    "duration": 5,
    "start_time": "2023-06-01T12:19:49.580Z"
   },
   {
    "duration": 209,
    "start_time": "2023-06-01T12:19:49.586Z"
   },
   {
    "duration": 137,
    "start_time": "2023-06-01T12:19:49.797Z"
   },
   {
    "duration": 8,
    "start_time": "2023-06-01T12:19:49.942Z"
   },
   {
    "duration": 7,
    "start_time": "2023-06-01T12:19:49.952Z"
   },
   {
    "duration": 213,
    "start_time": "2023-06-01T12:19:49.961Z"
   },
   {
    "duration": 219,
    "start_time": "2023-06-01T12:19:50.176Z"
   },
   {
    "duration": 279,
    "start_time": "2023-06-01T12:19:50.397Z"
   },
   {
    "duration": 26,
    "start_time": "2023-06-01T12:19:50.678Z"
   },
   {
    "duration": 107,
    "start_time": "2023-06-01T12:20:33.690Z"
   },
   {
    "duration": 1365,
    "start_time": "2023-06-01T12:20:41.457Z"
   },
   {
    "duration": 664,
    "start_time": "2023-06-01T12:20:58.178Z"
   },
   {
    "duration": 37,
    "start_time": "2023-06-01T12:20:58.844Z"
   },
   {
    "duration": 31,
    "start_time": "2023-06-01T12:20:58.883Z"
   },
   {
    "duration": 20,
    "start_time": "2023-06-01T12:20:58.915Z"
   },
   {
    "duration": 12,
    "start_time": "2023-06-01T12:20:58.936Z"
   },
   {
    "duration": 17,
    "start_time": "2023-06-01T12:20:58.949Z"
   },
   {
    "duration": 10,
    "start_time": "2023-06-01T12:20:58.968Z"
   },
   {
    "duration": 9,
    "start_time": "2023-06-01T12:20:58.979Z"
   },
   {
    "duration": 6,
    "start_time": "2023-06-01T12:20:58.990Z"
   },
   {
    "duration": 8,
    "start_time": "2023-06-01T12:20:58.998Z"
   },
   {
    "duration": 36,
    "start_time": "2023-06-01T12:20:59.007Z"
   },
   {
    "duration": 5,
    "start_time": "2023-06-01T12:20:59.045Z"
   },
   {
    "duration": 196,
    "start_time": "2023-06-01T12:20:59.051Z"
   },
   {
    "duration": 135,
    "start_time": "2023-06-01T12:20:59.249Z"
   },
   {
    "duration": 8,
    "start_time": "2023-06-01T12:20:59.386Z"
   },
   {
    "duration": 9,
    "start_time": "2023-06-01T12:20:59.396Z"
   },
   {
    "duration": 187,
    "start_time": "2023-06-01T12:20:59.407Z"
   },
   {
    "duration": 214,
    "start_time": "2023-06-01T12:20:59.597Z"
   },
   {
    "duration": 284,
    "start_time": "2023-06-01T12:20:59.812Z"
   },
   {
    "duration": 27,
    "start_time": "2023-06-01T12:21:00.097Z"
   },
   {
    "duration": 86,
    "start_time": "2023-06-01T12:25:15.374Z"
   },
   {
    "duration": 603,
    "start_time": "2023-06-01T12:25:25.678Z"
   },
   {
    "duration": 37,
    "start_time": "2023-06-01T12:25:26.283Z"
   },
   {
    "duration": 32,
    "start_time": "2023-06-01T12:25:26.322Z"
   },
   {
    "duration": 19,
    "start_time": "2023-06-01T12:25:26.356Z"
   },
   {
    "duration": 11,
    "start_time": "2023-06-01T12:25:26.377Z"
   },
   {
    "duration": 15,
    "start_time": "2023-06-01T12:25:26.390Z"
   },
   {
    "duration": 12,
    "start_time": "2023-06-01T12:25:26.407Z"
   },
   {
    "duration": 30,
    "start_time": "2023-06-01T12:25:26.420Z"
   },
   {
    "duration": 6,
    "start_time": "2023-06-01T12:25:26.452Z"
   },
   {
    "duration": 8,
    "start_time": "2023-06-01T12:25:26.460Z"
   },
   {
    "duration": 9,
    "start_time": "2023-06-01T12:25:26.470Z"
   },
   {
    "duration": 5,
    "start_time": "2023-06-01T12:25:26.481Z"
   },
   {
    "duration": 207,
    "start_time": "2023-06-01T12:25:26.488Z"
   },
   {
    "duration": 120,
    "start_time": "2023-06-01T12:25:26.697Z"
   },
   {
    "duration": 8,
    "start_time": "2023-06-01T12:25:26.819Z"
   },
   {
    "duration": 7,
    "start_time": "2023-06-01T12:25:26.842Z"
   },
   {
    "duration": 175,
    "start_time": "2023-06-01T12:25:26.851Z"
   },
   {
    "duration": 203,
    "start_time": "2023-06-01T12:25:27.028Z"
   },
   {
    "duration": 259,
    "start_time": "2023-06-01T12:25:27.233Z"
   },
   {
    "duration": 18,
    "start_time": "2023-06-01T12:25:27.494Z"
   },
   {
    "duration": 29,
    "start_time": "2023-06-01T12:25:27.513Z"
   },
   {
    "duration": 11,
    "start_time": "2023-06-01T12:26:35.022Z"
   },
   {
    "duration": 10,
    "start_time": "2023-06-01T12:27:14.753Z"
   },
   {
    "duration": 10,
    "start_time": "2023-06-01T12:27:32.208Z"
   },
   {
    "duration": 34,
    "start_time": "2023-06-01T12:33:21.875Z"
   },
   {
    "duration": 15,
    "start_time": "2023-06-01T12:33:35.788Z"
   },
   {
    "duration": 17,
    "start_time": "2023-06-01T12:33:36.877Z"
   },
   {
    "duration": 1005,
    "start_time": "2023-06-01T12:33:37.473Z"
   },
   {
    "duration": 411,
    "start_time": "2023-06-01T12:34:18.186Z"
   },
   {
    "duration": 327,
    "start_time": "2023-06-01T12:41:55.353Z"
   },
   {
    "duration": 269,
    "start_time": "2023-06-01T12:42:13.664Z"
   },
   {
    "duration": 119416,
    "start_time": "2023-06-01T12:59:43.041Z"
   },
   {
    "duration": 270,
    "start_time": "2023-06-01T13:03:17.606Z"
   },
   {
    "duration": 5,
    "start_time": "2023-06-01T13:21:33.712Z"
   },
   {
    "duration": 6,
    "start_time": "2023-06-01T13:21:35.689Z"
   },
   {
    "duration": 135,
    "start_time": "2023-06-01T13:25:08.975Z"
   },
   {
    "duration": 162,
    "start_time": "2023-06-01T13:25:26.162Z"
   },
   {
    "duration": 140,
    "start_time": "2023-06-01T13:28:05.424Z"
   },
   {
    "duration": 273,
    "start_time": "2023-06-01T13:29:29.134Z"
   },
   {
    "duration": 226,
    "start_time": "2023-06-01T13:30:19.554Z"
   },
   {
    "duration": 240,
    "start_time": "2023-06-01T13:30:56.277Z"
   },
   {
    "duration": 230,
    "start_time": "2023-06-01T13:31:20.651Z"
   },
   {
    "duration": 3,
    "start_time": "2023-06-01T15:08:01.965Z"
   },
   {
    "duration": 5,
    "start_time": "2023-06-01T15:08:57.778Z"
   },
   {
    "duration": 16,
    "start_time": "2023-06-01T15:13:25.379Z"
   },
   {
    "duration": 5,
    "start_time": "2023-06-01T15:13:57.486Z"
   },
   {
    "duration": 75,
    "start_time": "2023-06-01T15:17:42.992Z"
   },
   {
    "duration": 748,
    "start_time": "2023-06-01T15:18:00.407Z"
   },
   {
    "duration": 41,
    "start_time": "2023-06-01T15:18:01.157Z"
   },
   {
    "duration": 48,
    "start_time": "2023-06-01T15:18:01.200Z"
   },
   {
    "duration": 23,
    "start_time": "2023-06-01T15:18:01.251Z"
   },
   {
    "duration": 29,
    "start_time": "2023-06-01T15:18:01.276Z"
   },
   {
    "duration": 98,
    "start_time": "2023-06-01T15:18:01.307Z"
   },
   {
    "duration": 102,
    "start_time": "2023-06-01T15:18:01.407Z"
   },
   {
    "duration": 97,
    "start_time": "2023-06-01T15:18:01.511Z"
   },
   {
    "duration": 110,
    "start_time": "2023-06-01T15:18:01.611Z"
   },
   {
    "duration": 86,
    "start_time": "2023-06-01T15:18:01.725Z"
   },
   {
    "duration": 101,
    "start_time": "2023-06-01T15:18:01.814Z"
   },
   {
    "duration": 74,
    "start_time": "2023-06-01T15:18:01.917Z"
   },
   {
    "duration": 243,
    "start_time": "2023-06-01T15:18:01.992Z"
   },
   {
    "duration": 152,
    "start_time": "2023-06-01T15:18:02.237Z"
   },
   {
    "duration": 11,
    "start_time": "2023-06-01T15:18:02.392Z"
   },
   {
    "duration": 25,
    "start_time": "2023-06-01T15:18:02.406Z"
   },
   {
    "duration": 333,
    "start_time": "2023-06-01T15:18:02.442Z"
   },
   {
    "duration": 235,
    "start_time": "2023-06-01T15:18:02.777Z"
   },
   {
    "duration": 334,
    "start_time": "2023-06-01T15:18:03.014Z"
   },
   {
    "duration": 28,
    "start_time": "2023-06-01T15:18:03.350Z"
   },
   {
    "duration": 18,
    "start_time": "2023-06-01T15:18:03.380Z"
   },
   {
    "duration": 46,
    "start_time": "2023-06-01T15:18:03.400Z"
   },
   {
    "duration": 297,
    "start_time": "2023-06-01T15:18:03.448Z"
   },
   {
    "duration": 6,
    "start_time": "2023-06-01T15:18:03.746Z"
   },
   {
    "duration": 61,
    "start_time": "2023-06-01T15:18:03.753Z"
   },
   {
    "duration": 0,
    "start_time": "2023-06-01T15:18:03.817Z"
   },
   {
    "duration": 48,
    "start_time": "2023-06-01T15:18:49.666Z"
   },
   {
    "duration": 29,
    "start_time": "2023-06-01T15:21:10.926Z"
   },
   {
    "duration": 28,
    "start_time": "2023-06-01T15:22:02.604Z"
   },
   {
    "duration": 97,
    "start_time": "2023-06-01T15:23:22.582Z"
   },
   {
    "duration": 30,
    "start_time": "2023-06-01T15:23:34.663Z"
   },
   {
    "duration": 29,
    "start_time": "2023-06-01T15:23:51.987Z"
   },
   {
    "duration": 52,
    "start_time": "2023-06-01T15:27:09.698Z"
   },
   {
    "duration": 75,
    "start_time": "2023-06-01T15:27:14.991Z"
   },
   {
    "duration": 27,
    "start_time": "2023-06-01T15:27:21.485Z"
   },
   {
    "duration": 214,
    "start_time": "2023-06-01T15:28:56.331Z"
   },
   {
    "duration": 224,
    "start_time": "2023-06-01T15:29:42.454Z"
   },
   {
    "duration": 230,
    "start_time": "2023-06-01T15:30:11.456Z"
   },
   {
    "duration": 16,
    "start_time": "2023-06-01T15:31:20.760Z"
   },
   {
    "duration": 5,
    "start_time": "2023-06-01T15:32:05.821Z"
   },
   {
    "duration": 4,
    "start_time": "2023-06-01T15:43:50.125Z"
   },
   {
    "duration": 207,
    "start_time": "2023-06-01T15:43:53.286Z"
   },
   {
    "duration": 4,
    "start_time": "2023-06-01T15:44:13.466Z"
   },
   {
    "duration": 4,
    "start_time": "2023-06-01T15:44:14.054Z"
   },
   {
    "duration": 233,
    "start_time": "2023-06-01T15:44:14.989Z"
   },
   {
    "duration": 875,
    "start_time": "2023-06-01T15:51:00.995Z"
   },
   {
    "duration": 42,
    "start_time": "2023-06-01T15:52:16.457Z"
   },
   {
    "duration": 37,
    "start_time": "2023-06-01T15:54:58.110Z"
   },
   {
    "duration": 54,
    "start_time": "2023-06-01T15:55:04.187Z"
   },
   {
    "duration": 45,
    "start_time": "2023-06-01T15:55:53.401Z"
   },
   {
    "duration": 56,
    "start_time": "2023-06-01T15:56:09.779Z"
   },
   {
    "duration": 191,
    "start_time": "2023-06-01T15:56:19.292Z"
   },
   {
    "duration": 24,
    "start_time": "2023-06-01T15:56:45.709Z"
   },
   {
    "duration": 29,
    "start_time": "2023-06-01T15:57:27.662Z"
   },
   {
    "duration": 50,
    "start_time": "2023-06-01T15:57:31.621Z"
   },
   {
    "duration": 15,
    "start_time": "2023-06-01T15:58:40.315Z"
   },
   {
    "duration": 42,
    "start_time": "2023-06-01T15:59:54.889Z"
   },
   {
    "duration": 431,
    "start_time": "2023-06-01T16:30:43.662Z"
   },
   {
    "duration": 223,
    "start_time": "2023-06-01T16:39:57.371Z"
   },
   {
    "duration": 2789,
    "start_time": "2023-06-01T16:41:52.969Z"
   },
   {
    "duration": 39,
    "start_time": "2023-06-01T16:41:57.169Z"
   },
   {
    "duration": 349,
    "start_time": "2023-06-01T16:51:25.617Z"
   },
   {
    "duration": 7,
    "start_time": "2023-06-01T16:53:39.173Z"
   },
   {
    "duration": 483,
    "start_time": "2023-06-01T16:54:01.186Z"
   },
   {
    "duration": 1112,
    "start_time": "2023-06-01T16:58:20.457Z"
   },
   {
    "duration": 531,
    "start_time": "2023-06-01T16:58:39.461Z"
   },
   {
    "duration": 8,
    "start_time": "2023-06-01T17:04:54.682Z"
   },
   {
    "duration": 7,
    "start_time": "2023-06-01T17:05:12.769Z"
   },
   {
    "duration": 6,
    "start_time": "2023-06-01T17:11:46.684Z"
   },
   {
    "duration": 7,
    "start_time": "2023-06-01T17:28:55.801Z"
   },
   {
    "duration": 6,
    "start_time": "2023-06-01T17:29:42.710Z"
   },
   {
    "duration": 927,
    "start_time": "2023-06-01T17:32:55.488Z"
   },
   {
    "duration": 10,
    "start_time": "2023-06-01T17:33:18.001Z"
   },
   {
    "duration": 7,
    "start_time": "2023-06-01T17:33:47.721Z"
   },
   {
    "duration": 7,
    "start_time": "2023-06-01T17:34:21.465Z"
   },
   {
    "duration": 7,
    "start_time": "2023-06-01T17:42:04.959Z"
   },
   {
    "duration": 6,
    "start_time": "2023-06-01T17:42:27.661Z"
   },
   {
    "duration": 5,
    "start_time": "2023-06-01T17:42:45.279Z"
   },
   {
    "duration": 16,
    "start_time": "2023-06-01T17:44:48.860Z"
   },
   {
    "duration": 7,
    "start_time": "2023-06-01T17:44:50.374Z"
   },
   {
    "duration": 638,
    "start_time": "2023-06-01T17:44:56.894Z"
   },
   {
    "duration": 38,
    "start_time": "2023-06-01T17:44:57.534Z"
   },
   {
    "duration": 36,
    "start_time": "2023-06-01T17:44:57.573Z"
   },
   {
    "duration": 19,
    "start_time": "2023-06-01T17:44:57.611Z"
   },
   {
    "duration": 12,
    "start_time": "2023-06-01T17:44:57.632Z"
   },
   {
    "duration": 15,
    "start_time": "2023-06-01T17:44:57.645Z"
   },
   {
    "duration": 9,
    "start_time": "2023-06-01T17:44:57.662Z"
   },
   {
    "duration": 12,
    "start_time": "2023-06-01T17:44:57.673Z"
   },
   {
    "duration": 6,
    "start_time": "2023-06-01T17:44:57.686Z"
   },
   {
    "duration": 9,
    "start_time": "2023-06-01T17:44:57.694Z"
   },
   {
    "duration": 43,
    "start_time": "2023-06-01T17:44:57.705Z"
   },
   {
    "duration": 20,
    "start_time": "2023-06-01T17:44:57.749Z"
   },
   {
    "duration": 189,
    "start_time": "2023-06-01T17:44:57.770Z"
   },
   {
    "duration": 132,
    "start_time": "2023-06-01T17:44:57.961Z"
   },
   {
    "duration": 9,
    "start_time": "2023-06-01T17:44:58.095Z"
   },
   {
    "duration": 31,
    "start_time": "2023-06-01T17:44:58.106Z"
   },
   {
    "duration": 224,
    "start_time": "2023-06-01T17:44:58.140Z"
   },
   {
    "duration": 252,
    "start_time": "2023-06-01T17:44:58.366Z"
   },
   {
    "duration": 333,
    "start_time": "2023-06-01T17:44:58.620Z"
   },
   {
    "duration": 35,
    "start_time": "2023-06-01T17:44:58.955Z"
   },
   {
    "duration": 10,
    "start_time": "2023-06-01T17:44:58.992Z"
   },
   {
    "duration": 34,
    "start_time": "2023-06-01T17:44:59.004Z"
   },
   {
    "duration": 297,
    "start_time": "2023-06-01T17:44:59.042Z"
   },
   {
    "duration": 8,
    "start_time": "2023-06-01T17:44:59.341Z"
   },
   {
    "duration": 13,
    "start_time": "2023-06-01T17:44:59.351Z"
   },
   {
    "duration": 300,
    "start_time": "2023-06-01T17:44:59.366Z"
   },
   {
    "duration": 46,
    "start_time": "2023-06-01T17:44:59.668Z"
   },
   {
    "duration": 468,
    "start_time": "2023-06-01T17:44:59.718Z"
   },
   {
    "duration": 9,
    "start_time": "2023-06-01T17:45:00.189Z"
   },
   {
    "duration": 33,
    "start_time": "2023-06-01T17:45:00.200Z"
   },
   {
    "duration": 3,
    "start_time": "2023-06-01T17:52:44.284Z"
   },
   {
    "duration": 91,
    "start_time": "2023-06-02T10:06:46.568Z"
   },
   {
    "duration": 691,
    "start_time": "2023-06-02T10:10:38.670Z"
   },
   {
    "duration": 41,
    "start_time": "2023-06-02T10:10:39.364Z"
   },
   {
    "duration": 39,
    "start_time": "2023-06-02T10:10:39.407Z"
   },
   {
    "duration": 23,
    "start_time": "2023-06-02T10:10:39.448Z"
   },
   {
    "duration": 14,
    "start_time": "2023-06-02T10:10:39.473Z"
   },
   {
    "duration": 13,
    "start_time": "2023-06-02T10:10:39.489Z"
   },
   {
    "duration": 25,
    "start_time": "2023-06-02T10:10:39.504Z"
   },
   {
    "duration": 18,
    "start_time": "2023-06-02T10:10:39.531Z"
   },
   {
    "duration": 9,
    "start_time": "2023-06-02T10:10:39.551Z"
   },
   {
    "duration": 9,
    "start_time": "2023-06-02T10:10:39.563Z"
   },
   {
    "duration": 15,
    "start_time": "2023-06-02T10:10:39.574Z"
   },
   {
    "duration": 26,
    "start_time": "2023-06-02T10:10:39.592Z"
   },
   {
    "duration": 266,
    "start_time": "2023-06-02T10:10:39.631Z"
   },
   {
    "duration": 177,
    "start_time": "2023-06-02T10:10:39.901Z"
   },
   {
    "duration": 17,
    "start_time": "2023-06-02T10:10:40.080Z"
   },
   {
    "duration": 85,
    "start_time": "2023-06-02T10:10:40.101Z"
   },
   {
    "duration": 249,
    "start_time": "2023-06-02T10:10:40.188Z"
   },
   {
    "duration": 318,
    "start_time": "2023-06-02T10:10:40.439Z"
   },
   {
    "duration": 379,
    "start_time": "2023-06-02T10:10:40.759Z"
   },
   {
    "duration": 32,
    "start_time": "2023-06-02T10:10:41.141Z"
   },
   {
    "duration": 11,
    "start_time": "2023-06-02T10:10:41.175Z"
   },
   {
    "duration": 11,
    "start_time": "2023-06-02T10:10:41.188Z"
   },
   {
    "duration": 367,
    "start_time": "2023-06-02T10:10:41.201Z"
   },
   {
    "duration": 6,
    "start_time": "2023-06-02T10:10:41.570Z"
   },
   {
    "duration": 7,
    "start_time": "2023-06-02T10:10:41.579Z"
   },
   {
    "duration": 291,
    "start_time": "2023-06-02T10:10:41.588Z"
   },
   {
    "duration": 66,
    "start_time": "2023-06-02T10:10:41.881Z"
   },
   {
    "duration": 46,
    "start_time": "2023-06-02T10:10:41.949Z"
   },
   {
    "duration": 551,
    "start_time": "2023-06-02T10:10:41.997Z"
   },
   {
    "duration": 7,
    "start_time": "2023-06-02T10:10:42.551Z"
   },
   {
    "duration": 14,
    "start_time": "2023-06-02T10:10:42.560Z"
   },
   {
    "duration": 20,
    "start_time": "2023-06-02T10:11:25.525Z"
   },
   {
    "duration": 12,
    "start_time": "2023-06-02T10:15:57.882Z"
   },
   {
    "duration": 12,
    "start_time": "2023-06-02T10:16:35.186Z"
   },
   {
    "duration": 13,
    "start_time": "2023-06-02T10:17:41.567Z"
   },
   {
    "duration": 12,
    "start_time": "2023-06-02T10:18:00.367Z"
   },
   {
    "duration": 7,
    "start_time": "2023-06-02T10:18:22.310Z"
   },
   {
    "duration": 4,
    "start_time": "2023-06-02T10:18:26.666Z"
   },
   {
    "duration": 6,
    "start_time": "2023-06-02T10:18:32.206Z"
   },
   {
    "duration": 172,
    "start_time": "2023-06-02T10:18:42.254Z"
   },
   {
    "duration": 5,
    "start_time": "2023-06-02T10:18:46.999Z"
   },
   {
    "duration": 5,
    "start_time": "2023-06-02T10:18:55.470Z"
   },
   {
    "duration": 8,
    "start_time": "2023-06-02T10:19:29.254Z"
   },
   {
    "duration": 9,
    "start_time": "2023-06-02T10:20:01.011Z"
   },
   {
    "duration": 1832,
    "start_time": "2023-06-02T10:20:09.662Z"
   },
   {
    "duration": 1756,
    "start_time": "2023-06-02T10:20:22.763Z"
   },
   {
    "duration": 11,
    "start_time": "2023-06-02T10:20:33.006Z"
   },
   {
    "duration": 18,
    "start_time": "2023-06-02T10:20:39.316Z"
   },
   {
    "duration": 2102,
    "start_time": "2023-06-02T10:23:06.459Z"
   },
   {
    "duration": 1950,
    "start_time": "2023-06-02T10:23:18.349Z"
   },
   {
    "duration": 703,
    "start_time": "2023-06-02T10:23:25.972Z"
   },
   {
    "duration": 39,
    "start_time": "2023-06-02T10:23:26.677Z"
   },
   {
    "duration": 42,
    "start_time": "2023-06-02T10:23:26.718Z"
   },
   {
    "duration": 25,
    "start_time": "2023-06-02T10:23:26.765Z"
   },
   {
    "duration": 14,
    "start_time": "2023-06-02T10:23:26.794Z"
   },
   {
    "duration": 20,
    "start_time": "2023-06-02T10:23:26.809Z"
   },
   {
    "duration": 19,
    "start_time": "2023-06-02T10:23:26.849Z"
   },
   {
    "duration": 15,
    "start_time": "2023-06-02T10:23:26.870Z"
   },
   {
    "duration": 19,
    "start_time": "2023-06-02T10:23:26.887Z"
   },
   {
    "duration": 9,
    "start_time": "2023-06-02T10:23:26.907Z"
   },
   {
    "duration": 10,
    "start_time": "2023-06-02T10:23:26.917Z"
   },
   {
    "duration": 6,
    "start_time": "2023-06-02T10:23:26.929Z"
   },
   {
    "duration": 220,
    "start_time": "2023-06-02T10:23:26.937Z"
   },
   {
    "duration": 171,
    "start_time": "2023-06-02T10:23:27.160Z"
   },
   {
    "duration": 11,
    "start_time": "2023-06-02T10:23:27.333Z"
   },
   {
    "duration": 24,
    "start_time": "2023-06-02T10:23:27.346Z"
   },
   {
    "duration": 237,
    "start_time": "2023-06-02T10:23:27.372Z"
   },
   {
    "duration": 261,
    "start_time": "2023-06-02T10:23:27.610Z"
   },
   {
    "duration": 308,
    "start_time": "2023-06-02T10:23:27.873Z"
   },
   {
    "duration": 43,
    "start_time": "2023-06-02T10:23:28.183Z"
   },
   {
    "duration": 9,
    "start_time": "2023-06-02T10:23:28.229Z"
   },
   {
    "duration": 8,
    "start_time": "2023-06-02T10:23:28.240Z"
   },
   {
    "duration": 324,
    "start_time": "2023-06-02T10:23:28.249Z"
   },
   {
    "duration": 5,
    "start_time": "2023-06-02T10:23:28.575Z"
   },
   {
    "duration": 15,
    "start_time": "2023-06-02T10:23:28.584Z"
   },
   {
    "duration": 277,
    "start_time": "2023-06-02T10:23:28.600Z"
   },
   {
    "duration": 77,
    "start_time": "2023-06-02T10:23:28.880Z"
   },
   {
    "duration": 447,
    "start_time": "2023-06-02T10:23:28.959Z"
   },
   {
    "duration": 7,
    "start_time": "2023-06-02T10:23:29.407Z"
   },
   {
    "duration": 11,
    "start_time": "2023-06-02T10:23:29.416Z"
   },
   {
    "duration": 30,
    "start_time": "2023-06-02T10:23:29.429Z"
   },
   {
    "duration": 628,
    "start_time": "2023-06-02T10:51:03.888Z"
   },
   {
    "duration": 86,
    "start_time": "2023-06-02T10:51:04.518Z"
   },
   {
    "duration": 72,
    "start_time": "2023-06-02T10:51:04.605Z"
   },
   {
    "duration": 61,
    "start_time": "2023-06-02T10:51:04.679Z"
   },
   {
    "duration": 10,
    "start_time": "2023-06-02T10:51:04.742Z"
   },
   {
    "duration": 26,
    "start_time": "2023-06-02T10:51:04.753Z"
   },
   {
    "duration": 9,
    "start_time": "2023-06-02T10:51:04.781Z"
   },
   {
    "duration": 31,
    "start_time": "2023-06-02T10:51:04.791Z"
   },
   {
    "duration": 10,
    "start_time": "2023-06-02T10:51:04.824Z"
   },
   {
    "duration": 11,
    "start_time": "2023-06-02T10:51:04.836Z"
   },
   {
    "duration": 28,
    "start_time": "2023-06-02T10:51:04.848Z"
   },
   {
    "duration": 4,
    "start_time": "2023-06-02T10:51:04.877Z"
   },
   {
    "duration": 174,
    "start_time": "2023-06-02T10:51:04.883Z"
   },
   {
    "duration": 113,
    "start_time": "2023-06-02T10:51:05.059Z"
   },
   {
    "duration": 14,
    "start_time": "2023-06-02T10:51:05.175Z"
   },
   {
    "duration": 13,
    "start_time": "2023-06-02T10:51:05.191Z"
   },
   {
    "duration": 169,
    "start_time": "2023-06-02T10:51:05.206Z"
   },
   {
    "duration": 172,
    "start_time": "2023-06-02T10:51:05.376Z"
   },
   {
    "duration": 224,
    "start_time": "2023-06-02T10:51:05.549Z"
   },
   {
    "duration": 30,
    "start_time": "2023-06-02T10:51:05.774Z"
   },
   {
    "duration": 6,
    "start_time": "2023-06-02T10:51:05.806Z"
   },
   {
    "duration": 7,
    "start_time": "2023-06-02T10:51:05.813Z"
   },
   {
    "duration": 274,
    "start_time": "2023-06-02T10:51:05.821Z"
   },
   {
    "duration": 6,
    "start_time": "2023-06-02T10:51:06.097Z"
   },
   {
    "duration": 37,
    "start_time": "2023-06-02T10:51:06.105Z"
   },
   {
    "duration": 220,
    "start_time": "2023-06-02T10:51:06.144Z"
   },
   {
    "duration": 56,
    "start_time": "2023-06-02T10:51:06.365Z"
   },
   {
    "duration": 469,
    "start_time": "2023-06-02T10:51:06.424Z"
   },
   {
    "duration": 5,
    "start_time": "2023-06-02T10:51:06.894Z"
   },
   {
    "duration": 12,
    "start_time": "2023-06-02T10:51:06.900Z"
   },
   {
    "duration": 148,
    "start_time": "2023-06-02T11:09:01.796Z"
   },
   {
    "duration": 230,
    "start_time": "2023-06-02T11:15:44.293Z"
   },
   {
    "duration": 225,
    "start_time": "2023-06-02T11:19:53.346Z"
   },
   {
    "duration": 226,
    "start_time": "2023-06-02T11:20:39.146Z"
   },
   {
    "duration": 131,
    "start_time": "2023-06-02T11:20:42.899Z"
   },
   {
    "duration": 138,
    "start_time": "2023-06-02T11:24:35.737Z"
   },
   {
    "duration": 132,
    "start_time": "2023-06-02T11:27:01.251Z"
   },
   {
    "duration": 194,
    "start_time": "2023-06-02T11:32:25.437Z"
   },
   {
    "duration": 166,
    "start_time": "2023-06-02T11:32:53.233Z"
   },
   {
    "duration": 172,
    "start_time": "2023-06-02T11:36:55.844Z"
   },
   {
    "duration": 170,
    "start_time": "2023-06-02T11:37:26.343Z"
   },
   {
    "duration": 171,
    "start_time": "2023-06-02T11:37:49.831Z"
   },
   {
    "duration": 171,
    "start_time": "2023-06-02T11:37:54.531Z"
   },
   {
    "duration": 254,
    "start_time": "2023-06-02T11:38:06.117Z"
   },
   {
    "duration": 158,
    "start_time": "2023-06-02T11:56:39.010Z"
   },
   {
    "duration": 44,
    "start_time": "2023-06-02T11:57:26.477Z"
   },
   {
    "duration": 104,
    "start_time": "2023-06-02T12:00:41.599Z"
   },
   {
    "duration": 154,
    "start_time": "2023-06-02T12:01:02.050Z"
   },
   {
    "duration": 225,
    "start_time": "2023-06-02T12:01:35.891Z"
   },
   {
    "duration": 179,
    "start_time": "2023-06-02T12:03:57.412Z"
   },
   {
    "duration": 213,
    "start_time": "2023-06-02T12:04:17.096Z"
   },
   {
    "duration": 41,
    "start_time": "2023-06-02T12:05:27.892Z"
   },
   {
    "duration": 17,
    "start_time": "2023-06-02T12:09:25.866Z"
   },
   {
    "duration": 16,
    "start_time": "2023-06-02T12:16:01.763Z"
   },
   {
    "duration": 17,
    "start_time": "2023-06-02T12:17:00.413Z"
   },
   {
    "duration": 834,
    "start_time": "2023-06-02T12:17:28.455Z"
   },
   {
    "duration": 840,
    "start_time": "2023-06-02T12:19:18.787Z"
   },
   {
    "duration": 926,
    "start_time": "2023-06-02T12:19:41.371Z"
   },
   {
    "duration": 903,
    "start_time": "2023-06-02T12:20:12.427Z"
   },
   {
    "duration": 1005,
    "start_time": "2023-06-02T12:21:25.815Z"
   },
   {
    "duration": 932,
    "start_time": "2023-06-02T12:21:52.825Z"
   },
   {
    "duration": 1106,
    "start_time": "2023-06-02T12:22:37.118Z"
   },
   {
    "duration": 167,
    "start_time": "2023-06-02T12:24:06.287Z"
   },
   {
    "duration": 10,
    "start_time": "2023-06-02T12:37:46.816Z"
   },
   {
    "duration": 5,
    "start_time": "2023-06-02T12:38:23.891Z"
   },
   {
    "duration": 4,
    "start_time": "2023-06-02T12:39:25.056Z"
   },
   {
    "duration": 1050,
    "start_time": "2023-06-02T12:47:15.583Z"
   },
   {
    "duration": 195,
    "start_time": "2023-06-02T12:56:16.305Z"
   },
   {
    "duration": 115,
    "start_time": "2023-06-02T12:57:11.249Z"
   },
   {
    "duration": 8,
    "start_time": "2023-06-02T13:06:58.517Z"
   },
   {
    "duration": 6,
    "start_time": "2023-06-02T13:07:06.991Z"
   },
   {
    "duration": 5,
    "start_time": "2023-06-02T13:07:13.582Z"
   },
   {
    "duration": 4,
    "start_time": "2023-06-02T13:09:05.189Z"
   },
   {
    "duration": 5,
    "start_time": "2023-06-02T13:09:10.274Z"
   },
   {
    "duration": 5,
    "start_time": "2023-06-02T13:09:14.258Z"
   },
   {
    "duration": 5,
    "start_time": "2023-06-02T13:34:07.404Z"
   },
   {
    "duration": 6,
    "start_time": "2023-06-02T13:34:17.449Z"
   },
   {
    "duration": 5,
    "start_time": "2023-06-02T13:51:24.170Z"
   },
   {
    "duration": 5,
    "start_time": "2023-06-02T14:10:27.728Z"
   },
   {
    "duration": 5,
    "start_time": "2023-06-02T14:11:07.194Z"
   },
   {
    "duration": 5,
    "start_time": "2023-06-02T14:11:27.552Z"
   },
   {
    "duration": 6,
    "start_time": "2023-06-02T14:11:42.988Z"
   },
   {
    "duration": 5,
    "start_time": "2023-06-02T14:17:19.106Z"
   },
   {
    "duration": 550,
    "start_time": "2023-06-02T14:19:00.013Z"
   },
   {
    "duration": 36,
    "start_time": "2023-06-02T14:19:00.565Z"
   },
   {
    "duration": 31,
    "start_time": "2023-06-02T14:19:00.602Z"
   },
   {
    "duration": 18,
    "start_time": "2023-06-02T14:19:00.634Z"
   },
   {
    "duration": 26,
    "start_time": "2023-06-02T14:19:00.653Z"
   },
   {
    "duration": 35,
    "start_time": "2023-06-02T14:19:00.680Z"
   },
   {
    "duration": 27,
    "start_time": "2023-06-02T14:19:00.716Z"
   },
   {
    "duration": 23,
    "start_time": "2023-06-02T14:19:00.744Z"
   },
   {
    "duration": 22,
    "start_time": "2023-06-02T14:19:00.769Z"
   },
   {
    "duration": 27,
    "start_time": "2023-06-02T14:19:00.793Z"
   },
   {
    "duration": 35,
    "start_time": "2023-06-02T14:19:00.821Z"
   },
   {
    "duration": 25,
    "start_time": "2023-06-02T14:19:00.857Z"
   },
   {
    "duration": 191,
    "start_time": "2023-06-02T14:19:00.883Z"
   },
   {
    "duration": 113,
    "start_time": "2023-06-02T14:19:01.076Z"
   },
   {
    "duration": 6,
    "start_time": "2023-06-02T14:19:01.190Z"
   },
   {
    "duration": 43,
    "start_time": "2023-06-02T14:19:01.198Z"
   },
   {
    "duration": 184,
    "start_time": "2023-06-02T14:19:01.242Z"
   },
   {
    "duration": 188,
    "start_time": "2023-06-02T14:19:01.427Z"
   },
   {
    "duration": 236,
    "start_time": "2023-06-02T14:19:01.617Z"
   },
   {
    "duration": 32,
    "start_time": "2023-06-02T14:19:01.854Z"
   },
   {
    "duration": 4,
    "start_time": "2023-06-02T14:19:01.888Z"
   },
   {
    "duration": 34,
    "start_time": "2023-06-02T14:19:01.893Z"
   },
   {
    "duration": 18,
    "start_time": "2023-06-02T14:19:01.928Z"
   },
   {
    "duration": 227,
    "start_time": "2023-06-02T14:19:01.947Z"
   },
   {
    "duration": 10,
    "start_time": "2023-06-02T14:19:02.175Z"
   },
   {
    "duration": 9,
    "start_time": "2023-06-02T14:19:02.186Z"
   },
   {
    "duration": 804,
    "start_time": "2023-06-02T14:19:02.197Z"
   },
   {
    "duration": 154,
    "start_time": "2023-06-02T14:19:03.004Z"
   },
   {
    "duration": 1548,
    "start_time": "2023-06-02T14:19:03.159Z"
   },
   {
    "duration": 0,
    "start_time": "2023-06-02T14:19:04.708Z"
   },
   {
    "duration": 0,
    "start_time": "2023-06-02T14:19:04.709Z"
   },
   {
    "duration": 852,
    "start_time": "2023-06-02T14:20:20.924Z"
   },
   {
    "duration": 5,
    "start_time": "2023-06-02T14:20:42.638Z"
   },
   {
    "duration": 585,
    "start_time": "2023-06-02T14:20:57.277Z"
   },
   {
    "duration": 37,
    "start_time": "2023-06-02T14:20:57.863Z"
   },
   {
    "duration": 31,
    "start_time": "2023-06-02T14:20:57.901Z"
   },
   {
    "duration": 18,
    "start_time": "2023-06-02T14:20:57.933Z"
   },
   {
    "duration": 9,
    "start_time": "2023-06-02T14:20:57.952Z"
   },
   {
    "duration": 20,
    "start_time": "2023-06-02T14:20:57.963Z"
   },
   {
    "duration": 9,
    "start_time": "2023-06-02T14:20:57.984Z"
   },
   {
    "duration": 9,
    "start_time": "2023-06-02T14:20:57.995Z"
   },
   {
    "duration": 7,
    "start_time": "2023-06-02T14:20:58.005Z"
   },
   {
    "duration": 8,
    "start_time": "2023-06-02T14:20:58.014Z"
   },
   {
    "duration": 7,
    "start_time": "2023-06-02T14:20:58.024Z"
   },
   {
    "duration": 4,
    "start_time": "2023-06-02T14:20:58.032Z"
   },
   {
    "duration": 175,
    "start_time": "2023-06-02T14:20:58.037Z"
   },
   {
    "duration": 111,
    "start_time": "2023-06-02T14:20:58.214Z"
   },
   {
    "duration": 6,
    "start_time": "2023-06-02T14:20:58.326Z"
   },
   {
    "duration": 10,
    "start_time": "2023-06-02T14:20:58.334Z"
   },
   {
    "duration": 160,
    "start_time": "2023-06-02T14:20:58.345Z"
   },
   {
    "duration": 184,
    "start_time": "2023-06-02T14:20:58.506Z"
   },
   {
    "duration": 215,
    "start_time": "2023-06-02T14:20:58.692Z"
   },
   {
    "duration": 22,
    "start_time": "2023-06-02T14:20:58.908Z"
   },
   {
    "duration": 3,
    "start_time": "2023-06-02T14:20:58.932Z"
   },
   {
    "duration": 7,
    "start_time": "2023-06-02T14:20:58.936Z"
   },
   {
    "duration": 5,
    "start_time": "2023-06-02T14:20:58.945Z"
   },
   {
    "duration": 215,
    "start_time": "2023-06-02T14:20:58.951Z"
   },
   {
    "duration": 4,
    "start_time": "2023-06-02T14:20:59.167Z"
   },
   {
    "duration": 13,
    "start_time": "2023-06-02T14:20:59.172Z"
   },
   {
    "duration": 777,
    "start_time": "2023-06-02T14:20:59.186Z"
   },
   {
    "duration": 165,
    "start_time": "2023-06-02T14:20:59.966Z"
   },
   {
    "duration": 372,
    "start_time": "2023-06-02T14:21:00.132Z"
   },
   {
    "duration": 888,
    "start_time": "2023-06-02T14:21:00.505Z"
   },
   {
    "duration": 0,
    "start_time": "2023-06-02T14:21:01.395Z"
   },
   {
    "duration": 6,
    "start_time": "2023-06-02T14:21:31.352Z"
   },
   {
    "duration": 5,
    "start_time": "2023-06-02T14:21:59.531Z"
   },
   {
    "duration": 5,
    "start_time": "2023-06-02T14:22:04.171Z"
   },
   {
    "duration": 539,
    "start_time": "2023-06-02T14:22:33.537Z"
   },
   {
    "duration": 38,
    "start_time": "2023-06-02T14:22:34.078Z"
   },
   {
    "duration": 30,
    "start_time": "2023-06-02T14:22:34.117Z"
   },
   {
    "duration": 18,
    "start_time": "2023-06-02T14:22:34.150Z"
   },
   {
    "duration": 9,
    "start_time": "2023-06-02T14:22:34.170Z"
   },
   {
    "duration": 18,
    "start_time": "2023-06-02T14:22:34.181Z"
   },
   {
    "duration": 11,
    "start_time": "2023-06-02T14:22:34.200Z"
   },
   {
    "duration": 16,
    "start_time": "2023-06-02T14:22:34.214Z"
   },
   {
    "duration": 12,
    "start_time": "2023-06-02T14:22:34.231Z"
   },
   {
    "duration": 8,
    "start_time": "2023-06-02T14:22:34.245Z"
   },
   {
    "duration": 8,
    "start_time": "2023-06-02T14:22:34.255Z"
   },
   {
    "duration": 30,
    "start_time": "2023-06-02T14:22:34.264Z"
   },
   {
    "duration": 166,
    "start_time": "2023-06-02T14:22:34.296Z"
   },
   {
    "duration": 102,
    "start_time": "2023-06-02T14:22:34.464Z"
   },
   {
    "duration": 6,
    "start_time": "2023-06-02T14:22:34.567Z"
   },
   {
    "duration": 6,
    "start_time": "2023-06-02T14:22:34.584Z"
   },
   {
    "duration": 160,
    "start_time": "2023-06-02T14:22:34.591Z"
   },
   {
    "duration": 191,
    "start_time": "2023-06-02T14:22:34.752Z"
   },
   {
    "duration": 213,
    "start_time": "2023-06-02T14:22:34.945Z"
   },
   {
    "duration": 26,
    "start_time": "2023-06-02T14:22:35.159Z"
   },
   {
    "duration": 4,
    "start_time": "2023-06-02T14:22:35.186Z"
   },
   {
    "duration": 10,
    "start_time": "2023-06-02T14:22:35.191Z"
   },
   {
    "duration": 15,
    "start_time": "2023-06-02T14:22:35.202Z"
   },
   {
    "duration": 205,
    "start_time": "2023-06-02T14:22:35.219Z"
   },
   {
    "duration": 5,
    "start_time": "2023-06-02T14:22:35.426Z"
   },
   {
    "duration": 19,
    "start_time": "2023-06-02T14:22:35.433Z"
   },
   {
    "duration": 900,
    "start_time": "2023-06-02T14:22:35.454Z"
   },
   {
    "duration": 175,
    "start_time": "2023-06-02T14:22:36.356Z"
   },
   {
    "duration": 395,
    "start_time": "2023-06-02T14:22:36.532Z"
   },
   {
    "duration": 5,
    "start_time": "2023-06-02T14:22:36.929Z"
   },
   {
    "duration": 1000,
    "start_time": "2023-06-02T14:22:36.935Z"
   },
   {
    "duration": 13,
    "start_time": "2023-06-02T14:30:00.758Z"
   },
   {
    "duration": 1172,
    "start_time": "2023-06-02T14:30:35.942Z"
   },
   {
    "duration": 13,
    "start_time": "2023-06-02T14:31:20.360Z"
   },
   {
    "duration": 8,
    "start_time": "2023-06-02T14:31:34.947Z"
   },
   {
    "duration": 576,
    "start_time": "2023-06-02T14:31:42.120Z"
   },
   {
    "duration": 38,
    "start_time": "2023-06-02T14:31:42.697Z"
   },
   {
    "duration": 31,
    "start_time": "2023-06-02T14:31:42.736Z"
   },
   {
    "duration": 18,
    "start_time": "2023-06-02T14:31:42.769Z"
   },
   {
    "duration": 11,
    "start_time": "2023-06-02T14:31:42.788Z"
   },
   {
    "duration": 12,
    "start_time": "2023-06-02T14:31:42.800Z"
   },
   {
    "duration": 16,
    "start_time": "2023-06-02T14:31:42.813Z"
   },
   {
    "duration": 9,
    "start_time": "2023-06-02T14:31:42.830Z"
   },
   {
    "duration": 12,
    "start_time": "2023-06-02T14:31:42.840Z"
   },
   {
    "duration": 6,
    "start_time": "2023-06-02T14:31:42.854Z"
   },
   {
    "duration": 23,
    "start_time": "2023-06-02T14:31:42.862Z"
   },
   {
    "duration": 4,
    "start_time": "2023-06-02T14:31:42.886Z"
   },
   {
    "duration": 164,
    "start_time": "2023-06-02T14:31:42.892Z"
   },
   {
    "duration": 104,
    "start_time": "2023-06-02T14:31:43.058Z"
   },
   {
    "duration": 6,
    "start_time": "2023-06-02T14:31:43.163Z"
   },
   {
    "duration": 16,
    "start_time": "2023-06-02T14:31:43.170Z"
   },
   {
    "duration": 151,
    "start_time": "2023-06-02T14:31:43.187Z"
   },
   {
    "duration": 180,
    "start_time": "2023-06-02T14:31:43.339Z"
   },
   {
    "duration": 215,
    "start_time": "2023-06-02T14:31:43.521Z"
   },
   {
    "duration": 19,
    "start_time": "2023-06-02T14:31:43.738Z"
   },
   {
    "duration": 3,
    "start_time": "2023-06-02T14:31:43.759Z"
   },
   {
    "duration": 22,
    "start_time": "2023-06-02T14:31:43.763Z"
   },
   {
    "duration": 4,
    "start_time": "2023-06-02T14:31:43.787Z"
   },
   {
    "duration": 195,
    "start_time": "2023-06-02T14:31:43.792Z"
   },
   {
    "duration": 3,
    "start_time": "2023-06-02T14:31:43.989Z"
   },
   {
    "duration": 14,
    "start_time": "2023-06-02T14:31:43.994Z"
   },
   {
    "duration": 806,
    "start_time": "2023-06-02T14:31:44.009Z"
   },
   {
    "duration": 153,
    "start_time": "2023-06-02T14:31:44.818Z"
   },
   {
    "duration": 392,
    "start_time": "2023-06-02T14:31:44.973Z"
   },
   {
    "duration": 4,
    "start_time": "2023-06-02T14:31:45.367Z"
   },
   {
    "duration": 12,
    "start_time": "2023-06-02T14:31:45.373Z"
   },
   {
    "duration": 909,
    "start_time": "2023-06-02T14:32:24.116Z"
   },
   {
    "duration": 580,
    "start_time": "2023-06-02T14:32:43.437Z"
   },
   {
    "duration": 39,
    "start_time": "2023-06-02T14:32:44.018Z"
   },
   {
    "duration": 34,
    "start_time": "2023-06-02T14:32:44.059Z"
   },
   {
    "duration": 19,
    "start_time": "2023-06-02T14:32:44.095Z"
   },
   {
    "duration": 11,
    "start_time": "2023-06-02T14:32:44.115Z"
   },
   {
    "duration": 19,
    "start_time": "2023-06-02T14:32:44.127Z"
   },
   {
    "duration": 11,
    "start_time": "2023-06-02T14:32:44.148Z"
   },
   {
    "duration": 13,
    "start_time": "2023-06-02T14:32:44.161Z"
   },
   {
    "duration": 12,
    "start_time": "2023-06-02T14:32:44.176Z"
   },
   {
    "duration": 15,
    "start_time": "2023-06-02T14:32:44.191Z"
   },
   {
    "duration": 15,
    "start_time": "2023-06-02T14:32:44.208Z"
   },
   {
    "duration": 6,
    "start_time": "2023-06-02T14:32:44.225Z"
   },
   {
    "duration": 179,
    "start_time": "2023-06-02T14:32:44.233Z"
   },
   {
    "duration": 113,
    "start_time": "2023-06-02T14:32:44.414Z"
   },
   {
    "duration": 5,
    "start_time": "2023-06-02T14:32:44.528Z"
   },
   {
    "duration": 11,
    "start_time": "2023-06-02T14:32:44.535Z"
   },
   {
    "duration": 167,
    "start_time": "2023-06-02T14:32:44.547Z"
   },
   {
    "duration": 218,
    "start_time": "2023-06-02T14:32:44.715Z"
   },
   {
    "duration": 238,
    "start_time": "2023-06-02T14:32:44.934Z"
   },
   {
    "duration": 32,
    "start_time": "2023-06-02T14:32:45.173Z"
   },
   {
    "duration": 22,
    "start_time": "2023-06-02T14:32:45.207Z"
   },
   {
    "duration": 27,
    "start_time": "2023-06-02T14:32:45.230Z"
   },
   {
    "duration": 11,
    "start_time": "2023-06-02T14:32:45.258Z"
   },
   {
    "duration": 223,
    "start_time": "2023-06-02T14:32:45.270Z"
   },
   {
    "duration": 4,
    "start_time": "2023-06-02T14:32:45.494Z"
   },
   {
    "duration": 9,
    "start_time": "2023-06-02T14:32:45.500Z"
   },
   {
    "duration": 931,
    "start_time": "2023-06-02T14:32:45.510Z"
   },
   {
    "duration": 182,
    "start_time": "2023-06-02T14:32:46.444Z"
   },
   {
    "duration": 389,
    "start_time": "2023-06-02T14:32:46.627Z"
   },
   {
    "duration": 6,
    "start_time": "2023-06-02T14:32:47.018Z"
   },
   {
    "duration": 63,
    "start_time": "2023-06-02T14:32:47.026Z"
   },
   {
    "duration": 604,
    "start_time": "2023-06-02T14:33:13.009Z"
   },
   {
    "duration": 38,
    "start_time": "2023-06-02T14:33:13.615Z"
   },
   {
    "duration": 32,
    "start_time": "2023-06-02T14:33:13.654Z"
   },
   {
    "duration": 27,
    "start_time": "2023-06-02T14:33:13.688Z"
   },
   {
    "duration": 11,
    "start_time": "2023-06-02T14:33:13.716Z"
   },
   {
    "duration": 16,
    "start_time": "2023-06-02T14:33:13.728Z"
   },
   {
    "duration": 11,
    "start_time": "2023-06-02T14:33:13.746Z"
   },
   {
    "duration": 19,
    "start_time": "2023-06-02T14:33:13.758Z"
   },
   {
    "duration": 11,
    "start_time": "2023-06-02T14:33:13.779Z"
   },
   {
    "duration": 11,
    "start_time": "2023-06-02T14:33:13.793Z"
   },
   {
    "duration": 27,
    "start_time": "2023-06-02T14:33:13.806Z"
   },
   {
    "duration": 5,
    "start_time": "2023-06-02T14:33:13.835Z"
   },
   {
    "duration": 177,
    "start_time": "2023-06-02T14:33:13.841Z"
   },
   {
    "duration": 120,
    "start_time": "2023-06-02T14:33:14.020Z"
   },
   {
    "duration": 7,
    "start_time": "2023-06-02T14:33:14.141Z"
   },
   {
    "duration": 32,
    "start_time": "2023-06-02T14:33:14.149Z"
   },
   {
    "duration": 203,
    "start_time": "2023-06-02T14:33:14.183Z"
   },
   {
    "duration": 203,
    "start_time": "2023-06-02T14:33:14.388Z"
   },
   {
    "duration": 243,
    "start_time": "2023-06-02T14:33:14.593Z"
   },
   {
    "duration": 22,
    "start_time": "2023-06-02T14:33:14.837Z"
   },
   {
    "duration": 4,
    "start_time": "2023-06-02T14:33:14.860Z"
   },
   {
    "duration": 24,
    "start_time": "2023-06-02T14:33:14.865Z"
   },
   {
    "duration": 7,
    "start_time": "2023-06-02T14:33:14.892Z"
   },
   {
    "duration": 224,
    "start_time": "2023-06-02T14:33:14.900Z"
   },
   {
    "duration": 5,
    "start_time": "2023-06-02T14:33:15.126Z"
   },
   {
    "duration": 11,
    "start_time": "2023-06-02T14:33:15.132Z"
   },
   {
    "duration": 831,
    "start_time": "2023-06-02T14:33:15.145Z"
   },
   {
    "duration": 165,
    "start_time": "2023-06-02T14:33:15.980Z"
   },
   {
    "duration": 465,
    "start_time": "2023-06-02T14:33:16.147Z"
   },
   {
    "duration": 6,
    "start_time": "2023-06-02T14:33:16.614Z"
   },
   {
    "duration": 11,
    "start_time": "2023-06-02T14:33:16.622Z"
   },
   {
    "duration": 5,
    "start_time": "2023-06-02T14:33:25.395Z"
   },
   {
    "duration": 5,
    "start_time": "2023-06-02T14:33:31.981Z"
   },
   {
    "duration": 9,
    "start_time": "2023-06-02T14:33:41.498Z"
   },
   {
    "duration": 3,
    "start_time": "2023-06-02T14:34:07.662Z"
   },
   {
    "duration": 3,
    "start_time": "2023-06-02T14:34:08.332Z"
   },
   {
    "duration": 756,
    "start_time": "2023-06-03T07:47:19.621Z"
   },
   {
    "duration": 89,
    "start_time": "2023-06-03T07:47:20.380Z"
   },
   {
    "duration": 76,
    "start_time": "2023-06-03T07:47:20.470Z"
   },
   {
    "duration": 59,
    "start_time": "2023-06-03T07:47:20.548Z"
   },
   {
    "duration": 11,
    "start_time": "2023-06-03T07:47:20.608Z"
   },
   {
    "duration": 13,
    "start_time": "2023-06-03T07:47:20.620Z"
   },
   {
    "duration": 9,
    "start_time": "2023-06-03T07:47:20.634Z"
   },
   {
    "duration": 18,
    "start_time": "2023-06-03T07:47:20.645Z"
   },
   {
    "duration": 6,
    "start_time": "2023-06-03T07:47:20.664Z"
   },
   {
    "duration": 8,
    "start_time": "2023-06-03T07:47:20.673Z"
   },
   {
    "duration": 8,
    "start_time": "2023-06-03T07:47:20.683Z"
   },
   {
    "duration": 5,
    "start_time": "2023-06-03T07:47:20.693Z"
   },
   {
    "duration": 205,
    "start_time": "2023-06-03T07:47:20.700Z"
   },
   {
    "duration": 134,
    "start_time": "2023-06-03T07:47:20.907Z"
   },
   {
    "duration": 7,
    "start_time": "2023-06-03T07:47:21.043Z"
   },
   {
    "duration": 10,
    "start_time": "2023-06-03T07:47:21.051Z"
   },
   {
    "duration": 194,
    "start_time": "2023-06-03T07:47:21.062Z"
   },
   {
    "duration": 214,
    "start_time": "2023-06-03T07:47:21.258Z"
   },
   {
    "duration": 281,
    "start_time": "2023-06-03T07:47:21.477Z"
   },
   {
    "duration": 32,
    "start_time": "2023-06-03T07:47:21.760Z"
   },
   {
    "duration": 4,
    "start_time": "2023-06-03T07:47:21.794Z"
   },
   {
    "duration": 11,
    "start_time": "2023-06-03T07:47:21.799Z"
   },
   {
    "duration": 6,
    "start_time": "2023-06-03T07:47:21.811Z"
   },
   {
    "duration": 240,
    "start_time": "2023-06-03T07:47:21.819Z"
   },
   {
    "duration": 5,
    "start_time": "2023-06-03T07:47:22.060Z"
   },
   {
    "duration": 12,
    "start_time": "2023-06-03T07:47:22.076Z"
   },
   {
    "duration": 817,
    "start_time": "2023-06-03T07:47:22.090Z"
   },
   {
    "duration": 200,
    "start_time": "2023-06-03T07:47:22.910Z"
   },
   {
    "duration": 688,
    "start_time": "2023-06-03T07:47:23.111Z"
   },
   {
    "duration": 6,
    "start_time": "2023-06-03T07:47:23.800Z"
   },
   {
    "duration": 72,
    "start_time": "2023-06-03T07:47:23.807Z"
   },
   {
    "duration": 6,
    "start_time": "2023-06-03T07:54:20.040Z"
   },
   {
    "duration": 7,
    "start_time": "2023-06-03T07:54:33.492Z"
   },
   {
    "duration": 7,
    "start_time": "2023-06-03T07:57:01.265Z"
   },
   {
    "duration": 769,
    "start_time": "2023-06-03T10:33:39.507Z"
   },
   {
    "duration": 139,
    "start_time": "2023-06-03T10:33:40.278Z"
   },
   {
    "duration": 119,
    "start_time": "2023-06-03T10:33:40.418Z"
   },
   {
    "duration": 83,
    "start_time": "2023-06-03T10:33:40.539Z"
   },
   {
    "duration": 18,
    "start_time": "2023-06-03T10:33:40.633Z"
   },
   {
    "duration": 42,
    "start_time": "2023-06-03T10:33:40.652Z"
   },
   {
    "duration": 56,
    "start_time": "2023-06-03T10:33:40.695Z"
   },
   {
    "duration": 28,
    "start_time": "2023-06-03T10:33:40.753Z"
   },
   {
    "duration": 59,
    "start_time": "2023-06-03T10:33:40.782Z"
   },
   {
    "duration": 8,
    "start_time": "2023-06-03T10:33:40.844Z"
   },
   {
    "duration": 17,
    "start_time": "2023-06-03T10:33:40.853Z"
   },
   {
    "duration": 12,
    "start_time": "2023-06-03T10:33:40.871Z"
   },
   {
    "duration": 151,
    "start_time": "2023-06-03T10:33:40.884Z"
   },
   {
    "duration": 0,
    "start_time": "2023-06-03T10:33:41.037Z"
   },
   {
    "duration": 0,
    "start_time": "2023-06-03T10:33:41.038Z"
   },
   {
    "duration": 0,
    "start_time": "2023-06-03T10:33:41.039Z"
   },
   {
    "duration": 0,
    "start_time": "2023-06-03T10:33:41.040Z"
   },
   {
    "duration": 0,
    "start_time": "2023-06-03T10:33:41.040Z"
   },
   {
    "duration": 0,
    "start_time": "2023-06-03T10:33:41.041Z"
   },
   {
    "duration": 0,
    "start_time": "2023-06-03T10:33:41.042Z"
   },
   {
    "duration": 0,
    "start_time": "2023-06-03T10:33:41.043Z"
   },
   {
    "duration": 0,
    "start_time": "2023-06-03T10:33:41.044Z"
   },
   {
    "duration": 0,
    "start_time": "2023-06-03T10:33:41.045Z"
   },
   {
    "duration": 0,
    "start_time": "2023-06-03T10:33:41.045Z"
   },
   {
    "duration": 0,
    "start_time": "2023-06-03T10:33:41.046Z"
   },
   {
    "duration": 0,
    "start_time": "2023-06-03T10:33:41.047Z"
   },
   {
    "duration": 0,
    "start_time": "2023-06-03T10:33:41.048Z"
   },
   {
    "duration": 0,
    "start_time": "2023-06-03T10:33:41.049Z"
   },
   {
    "duration": 0,
    "start_time": "2023-06-03T10:33:41.050Z"
   },
   {
    "duration": 0,
    "start_time": "2023-06-03T10:33:41.051Z"
   },
   {
    "duration": 0,
    "start_time": "2023-06-03T10:33:41.052Z"
   },
   {
    "duration": 253,
    "start_time": "2023-06-03T10:33:55.060Z"
   },
   {
    "duration": 165,
    "start_time": "2023-06-03T10:34:03.146Z"
   },
   {
    "duration": 81,
    "start_time": "2023-06-03T10:51:19.723Z"
   },
   {
    "duration": 639,
    "start_time": "2023-06-03T10:51:29.070Z"
   },
   {
    "duration": 40,
    "start_time": "2023-06-03T10:51:29.710Z"
   },
   {
    "duration": 31,
    "start_time": "2023-06-03T10:51:29.752Z"
   },
   {
    "duration": 40,
    "start_time": "2023-06-03T10:51:29.787Z"
   },
   {
    "duration": 32,
    "start_time": "2023-06-03T10:51:29.828Z"
   },
   {
    "duration": 40,
    "start_time": "2023-06-03T10:51:29.862Z"
   },
   {
    "duration": 43,
    "start_time": "2023-06-03T10:51:29.911Z"
   },
   {
    "duration": 99,
    "start_time": "2023-06-03T10:51:29.956Z"
   },
   {
    "duration": 89,
    "start_time": "2023-06-03T10:51:30.057Z"
   },
   {
    "duration": 67,
    "start_time": "2023-06-03T10:51:30.150Z"
   },
   {
    "duration": 50,
    "start_time": "2023-06-03T10:51:30.220Z"
   },
   {
    "duration": 69,
    "start_time": "2023-06-03T10:51:30.271Z"
   },
   {
    "duration": 422,
    "start_time": "2023-06-03T10:51:30.341Z"
   },
   {
    "duration": 133,
    "start_time": "2023-06-03T10:51:30.764Z"
   },
   {
    "duration": 22,
    "start_time": "2023-06-03T10:51:30.900Z"
   },
   {
    "duration": 45,
    "start_time": "2023-06-03T10:51:30.923Z"
   },
   {
    "duration": 232,
    "start_time": "2023-06-03T10:51:30.969Z"
   },
   {
    "duration": 204,
    "start_time": "2023-06-03T10:51:31.214Z"
   },
   {
    "duration": 247,
    "start_time": "2023-06-03T10:51:31.419Z"
   },
   {
    "duration": 56,
    "start_time": "2023-06-03T10:51:31.667Z"
   },
   {
    "duration": 7,
    "start_time": "2023-06-03T10:51:31.724Z"
   },
   {
    "duration": 42,
    "start_time": "2023-06-03T10:51:31.733Z"
   },
   {
    "duration": 61,
    "start_time": "2023-06-03T10:51:31.777Z"
   },
   {
    "duration": 262,
    "start_time": "2023-06-03T10:51:31.840Z"
   },
   {
    "duration": 16,
    "start_time": "2023-06-03T10:51:32.103Z"
   },
   {
    "duration": 19,
    "start_time": "2023-06-03T10:51:32.120Z"
   },
   {
    "duration": 873,
    "start_time": "2023-06-03T10:51:32.140Z"
   },
   {
    "duration": 202,
    "start_time": "2023-06-03T10:51:33.016Z"
   },
   {
    "duration": 435,
    "start_time": "2023-06-03T10:51:33.220Z"
   },
   {
    "duration": 5,
    "start_time": "2023-06-03T10:51:33.656Z"
   },
   {
    "duration": 16,
    "start_time": "2023-06-03T10:51:33.662Z"
   },
   {
    "duration": 4,
    "start_time": "2023-06-03T10:52:34.133Z"
   },
   {
    "duration": 38,
    "start_time": "2023-06-03T10:52:40.656Z"
   },
   {
    "duration": 10,
    "start_time": "2023-06-03T10:52:44.310Z"
   },
   {
    "duration": 8,
    "start_time": "2023-06-03T10:52:46.911Z"
   },
   {
    "duration": 223,
    "start_time": "2023-06-03T10:57:35.311Z"
   },
   {
    "duration": 160,
    "start_time": "2023-06-03T10:57:52.716Z"
   },
   {
    "duration": 285,
    "start_time": "2023-06-03T10:58:05.132Z"
   },
   {
    "duration": 172,
    "start_time": "2023-06-03T10:58:27.784Z"
   },
   {
    "duration": 107,
    "start_time": "2023-06-03T11:01:22.904Z"
   },
   {
    "duration": 26,
    "start_time": "2023-06-03T11:01:46.180Z"
   },
   {
    "duration": 16,
    "start_time": "2023-06-03T11:02:26.104Z"
   },
   {
    "duration": 119,
    "start_time": "2023-06-03T11:05:03.429Z"
   },
   {
    "duration": 15,
    "start_time": "2023-06-03T11:06:51.004Z"
   },
   {
    "duration": 18,
    "start_time": "2023-06-03T11:07:17.464Z"
   },
   {
    "duration": 16,
    "start_time": "2023-06-03T11:15:33.017Z"
   },
   {
    "duration": 1234,
    "start_time": "2023-06-03T11:17:48.596Z"
   },
   {
    "duration": 15,
    "start_time": "2023-06-03T11:18:04.313Z"
   },
   {
    "duration": 22,
    "start_time": "2023-06-03T11:19:16.107Z"
   },
   {
    "duration": 14,
    "start_time": "2023-06-03T11:19:27.144Z"
   },
   {
    "duration": 14,
    "start_time": "2023-06-03T11:19:30.929Z"
   },
   {
    "duration": 13,
    "start_time": "2023-06-03T11:19:57.648Z"
   },
   {
    "duration": 14,
    "start_time": "2023-06-03T11:22:41.657Z"
   },
   {
    "duration": 185,
    "start_time": "2023-06-03T11:22:55.993Z"
   },
   {
    "duration": 26,
    "start_time": "2023-06-03T11:24:32.177Z"
   },
   {
    "duration": 3,
    "start_time": "2023-06-03T11:24:37.765Z"
   },
   {
    "duration": 3,
    "start_time": "2023-06-03T11:25:05.452Z"
   },
   {
    "duration": 3,
    "start_time": "2023-06-03T11:25:10.153Z"
   },
   {
    "duration": 3,
    "start_time": "2023-06-03T11:25:28.474Z"
   },
   {
    "duration": 4,
    "start_time": "2023-06-03T11:25:46.405Z"
   },
   {
    "duration": 3,
    "start_time": "2023-06-03T11:26:26.515Z"
   },
   {
    "duration": 9,
    "start_time": "2023-06-03T11:44:29.340Z"
   },
   {
    "duration": 9,
    "start_time": "2023-06-03T11:48:32.307Z"
   },
   {
    "duration": 6,
    "start_time": "2023-06-03T11:48:59.983Z"
   },
   {
    "duration": 598,
    "start_time": "2023-06-03T11:49:58.867Z"
   },
   {
    "duration": 37,
    "start_time": "2023-06-03T11:49:59.466Z"
   },
   {
    "duration": 30,
    "start_time": "2023-06-03T11:49:59.504Z"
   },
   {
    "duration": 18,
    "start_time": "2023-06-03T11:49:59.536Z"
   },
   {
    "duration": 9,
    "start_time": "2023-06-03T11:49:59.555Z"
   },
   {
    "duration": 28,
    "start_time": "2023-06-03T11:49:59.566Z"
   },
   {
    "duration": 13,
    "start_time": "2023-06-03T11:49:59.595Z"
   },
   {
    "duration": 12,
    "start_time": "2023-06-03T11:49:59.609Z"
   },
   {
    "duration": 13,
    "start_time": "2023-06-03T11:49:59.623Z"
   },
   {
    "duration": 6,
    "start_time": "2023-06-03T11:49:59.639Z"
   },
   {
    "duration": 7,
    "start_time": "2023-06-03T11:49:59.646Z"
   },
   {
    "duration": 6,
    "start_time": "2023-06-03T11:49:59.655Z"
   },
   {
    "duration": 159,
    "start_time": "2023-06-03T11:49:59.662Z"
   },
   {
    "duration": 108,
    "start_time": "2023-06-03T11:49:59.822Z"
   },
   {
    "duration": 7,
    "start_time": "2023-06-03T11:49:59.931Z"
   },
   {
    "duration": 5,
    "start_time": "2023-06-03T11:49:59.940Z"
   },
   {
    "duration": 174,
    "start_time": "2023-06-03T11:49:59.946Z"
   },
   {
    "duration": 183,
    "start_time": "2023-06-03T11:50:00.121Z"
   },
   {
    "duration": 225,
    "start_time": "2023-06-03T11:50:00.306Z"
   },
   {
    "duration": 21,
    "start_time": "2023-06-03T11:50:00.532Z"
   },
   {
    "duration": 30,
    "start_time": "2023-06-03T11:50:00.555Z"
   },
   {
    "duration": 82,
    "start_time": "2023-06-03T11:50:00.586Z"
   },
   {
    "duration": 50,
    "start_time": "2023-06-03T11:50:00.669Z"
   },
   {
    "duration": 260,
    "start_time": "2023-06-03T11:50:00.721Z"
   },
   {
    "duration": 4,
    "start_time": "2023-06-03T11:50:00.982Z"
   },
   {
    "duration": 28,
    "start_time": "2023-06-03T11:50:00.987Z"
   },
   {
    "duration": 959,
    "start_time": "2023-06-03T11:50:01.016Z"
   },
   {
    "duration": 165,
    "start_time": "2023-06-03T11:50:01.984Z"
   },
   {
    "duration": 425,
    "start_time": "2023-06-03T11:50:02.151Z"
   },
   {
    "duration": 10,
    "start_time": "2023-06-03T11:50:02.577Z"
   },
   {
    "duration": 36,
    "start_time": "2023-06-03T11:50:02.588Z"
   },
   {
    "duration": 613,
    "start_time": "2023-06-03T17:31:53.971Z"
   },
   {
    "duration": 37,
    "start_time": "2023-06-03T17:31:54.586Z"
   },
   {
    "duration": 32,
    "start_time": "2023-06-03T17:31:54.625Z"
   },
   {
    "duration": 19,
    "start_time": "2023-06-03T17:31:54.659Z"
   },
   {
    "duration": 11,
    "start_time": "2023-06-03T17:31:54.680Z"
   },
   {
    "duration": 12,
    "start_time": "2023-06-03T17:31:54.693Z"
   },
   {
    "duration": 10,
    "start_time": "2023-06-03T17:31:54.707Z"
   },
   {
    "duration": 24,
    "start_time": "2023-06-03T17:31:54.719Z"
   },
   {
    "duration": 7,
    "start_time": "2023-06-03T17:31:54.745Z"
   },
   {
    "duration": 9,
    "start_time": "2023-06-03T17:31:54.753Z"
   },
   {
    "duration": 14,
    "start_time": "2023-06-03T17:31:54.764Z"
   },
   {
    "duration": 9,
    "start_time": "2023-06-03T17:31:54.780Z"
   },
   {
    "duration": 197,
    "start_time": "2023-06-03T17:31:54.790Z"
   },
   {
    "duration": 158,
    "start_time": "2023-06-03T17:31:54.990Z"
   },
   {
    "duration": 8,
    "start_time": "2023-06-03T17:31:55.150Z"
   },
   {
    "duration": 17,
    "start_time": "2023-06-03T17:31:55.160Z"
   },
   {
    "duration": 236,
    "start_time": "2023-06-03T17:31:55.180Z"
   },
   {
    "duration": 231,
    "start_time": "2023-06-03T17:31:55.418Z"
   },
   {
    "duration": 278,
    "start_time": "2023-06-03T17:31:55.651Z"
   },
   {
    "duration": 30,
    "start_time": "2023-06-03T17:31:55.930Z"
   },
   {
    "duration": 3,
    "start_time": "2023-06-03T17:31:55.962Z"
   },
   {
    "duration": 10,
    "start_time": "2023-06-03T17:31:55.967Z"
   },
   {
    "duration": 4,
    "start_time": "2023-06-03T17:31:55.979Z"
   },
   {
    "duration": 241,
    "start_time": "2023-06-03T17:31:55.985Z"
   },
   {
    "duration": 5,
    "start_time": "2023-06-03T17:31:56.228Z"
   },
   {
    "duration": 3,
    "start_time": "2023-06-03T17:31:56.241Z"
   },
   {
    "duration": 758,
    "start_time": "2023-06-03T17:31:56.246Z"
   },
   {
    "duration": 171,
    "start_time": "2023-06-03T17:31:57.006Z"
   },
   {
    "duration": 468,
    "start_time": "2023-06-03T17:31:57.178Z"
   },
   {
    "duration": 5,
    "start_time": "2023-06-03T17:31:57.647Z"
   },
   {
    "duration": 11,
    "start_time": "2023-06-03T17:31:57.654Z"
   },
   {
    "duration": 84,
    "start_time": "2023-06-03T17:34:28.620Z"
   },
   {
    "duration": 611,
    "start_time": "2024-06-06T06:38:17.487Z"
   },
   {
    "duration": 106,
    "start_time": "2024-06-06T06:38:18.099Z"
   },
   {
    "duration": 136,
    "start_time": "2024-06-06T06:38:18.207Z"
   },
   {
    "duration": 70,
    "start_time": "2024-06-06T06:38:18.345Z"
   },
   {
    "duration": 13,
    "start_time": "2024-06-06T06:38:18.416Z"
   },
   {
    "duration": 11,
    "start_time": "2024-06-06T06:38:18.430Z"
   },
   {
    "duration": 31,
    "start_time": "2024-06-06T06:38:18.442Z"
   },
   {
    "duration": 13,
    "start_time": "2024-06-06T06:38:18.475Z"
   },
   {
    "duration": 5,
    "start_time": "2024-06-06T06:38:18.490Z"
   },
   {
    "duration": 28,
    "start_time": "2024-06-06T06:38:18.498Z"
   },
   {
    "duration": 9,
    "start_time": "2024-06-06T06:38:18.527Z"
   },
   {
    "duration": 13,
    "start_time": "2024-06-06T06:38:18.538Z"
   },
   {
    "duration": 174,
    "start_time": "2024-06-06T06:38:18.553Z"
   },
   {
    "duration": 120,
    "start_time": "2024-06-06T06:38:18.728Z"
   },
   {
    "duration": 7,
    "start_time": "2024-06-06T06:38:18.849Z"
   },
   {
    "duration": 5,
    "start_time": "2024-06-06T06:38:18.857Z"
   },
   {
    "duration": 178,
    "start_time": "2024-06-06T06:38:18.864Z"
   },
   {
    "duration": 194,
    "start_time": "2024-06-06T06:38:19.043Z"
   },
   {
    "duration": 253,
    "start_time": "2024-06-06T06:38:19.239Z"
   },
   {
    "duration": 46,
    "start_time": "2024-06-06T06:38:19.494Z"
   },
   {
    "duration": 4,
    "start_time": "2024-06-06T06:38:19.541Z"
   },
   {
    "duration": 16,
    "start_time": "2024-06-06T06:38:19.546Z"
   },
   {
    "duration": 7,
    "start_time": "2024-06-06T06:38:19.563Z"
   },
   {
    "duration": 257,
    "start_time": "2024-06-06T06:38:19.572Z"
   },
   {
    "duration": 5,
    "start_time": "2024-06-06T06:38:19.830Z"
   },
   {
    "duration": 20,
    "start_time": "2024-06-06T06:38:19.837Z"
   },
   {
    "duration": 901,
    "start_time": "2024-06-06T06:38:19.858Z"
   },
   {
    "duration": 248,
    "start_time": "2024-06-06T06:38:20.762Z"
   },
   {
    "duration": 415,
    "start_time": "2024-06-06T06:38:21.012Z"
   },
   {
    "duration": 6,
    "start_time": "2024-06-06T06:38:21.429Z"
   },
   {
    "duration": 27,
    "start_time": "2024-06-06T06:38:21.437Z"
   }
  ],
  "kernelspec": {
   "display_name": "Python 3 (ipykernel)",
   "language": "python",
   "name": "python3"
  },
  "language_info": {
   "codemirror_mode": {
    "name": "ipython",
    "version": 3
   },
   "file_extension": ".py",
   "mimetype": "text/x-python",
   "name": "python",
   "nbconvert_exporter": "python",
   "pygments_lexer": "ipython3",
   "version": "3.11.4"
  },
  "toc": {
   "base_numbering": 1,
   "nav_menu": {},
   "number_sections": true,
   "sideBar": true,
   "skip_h1_title": true,
   "title_cell": "Table of Contents",
   "title_sidebar": "Contents",
   "toc_cell": false,
   "toc_position": {
    "height": "calc(100% - 180px)",
    "left": "10px",
    "top": "150px",
    "width": "250.587px"
   },
   "toc_section_display": true,
   "toc_window_display": true
  }
 },
 "nbformat": 4,
 "nbformat_minor": 5
}
