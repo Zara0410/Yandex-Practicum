{
 "cells": [
  {
   "cell_type": "markdown",
   "metadata": {},
   "source": [
    "# Анализ оттока клиентов в «Метанпромбанке»"
   ]
  },
  {
   "cell_type": "markdown",
   "metadata": {},
   "source": [
    "##  Описание проекта \n",
    "Главной задачей проекта является анализ оттока клиентов в «Метанпромбанке». Анализ покажет, какие клиенты уходят из банка, а так же поможет составить сегменты клиентов, которые склонны уходить из банка.\n",
    "В отделе маркетинга нет автоматизированных систем рассылок, письма каждому клиенту пишутся вручную, поэтому важно для отдела маркетинга представить компактные однородные сегменты и дать примеры мероприятий, которые можно провести, чтобы вернуть клиентов в банк или удержать сомневающихся от оттока.\n",
    "\n",
    "**Описание данных** \n",
    "\n",
    "Датасет содержит данные о клиентах банка «Метанпром». Банк располагается в\n",
    "Ярославле и областных городах: Ростов Великий и Рыбинск.\n",
    "\n",
    "Колонки:\n",
    "- USERID — идентификатор пользователя,\n",
    "- score — баллы кредитного скоринга,\n",
    "- city — город,\n",
    "- gender — пол,\n",
    "- age — возраст,\n",
    "- equity — количество баллов собственности\n",
    "- balance — баланс на счёте,\n",
    "- products — количество продуктов, которыми пользуется клиент,\n",
    "- credit_card — есть ли кредитная карта,\n",
    "- last_activity — активный клиент,\n",
    "- EST_SALARY — оценочный доход клиента,\n",
    "- сhurn — признак оттока."
   ]
  },
  {
   "cell_type": "markdown",
   "metadata": {},
   "source": [
    "##  Загрузим данные и изучим общую информацию "
   ]
  },
  {
   "cell_type": "code",
   "execution_count": 1,
   "metadata": {},
   "outputs": [],
   "source": [
    "#импорт библиотек\n",
    "import pandas as pd\n",
    "import numpy as np\n",
    "import matplotlib.pyplot as plt\n",
    "import seaborn as sns\n",
    "import re\n",
    "from scipy import stats as st\n",
    "from pandas.plotting import register_matplotlib_converters\n",
    "import warnings\n",
    "import plotly.express as px\n",
    "import os\n",
    "from plotly import graph_objects as go\n",
    "register_matplotlib_converters()\n",
    "import math as mth"
   ]
  },
  {
   "cell_type": "code",
   "execution_count": 2,
   "metadata": {},
   "outputs": [
    {
     "data": {
      "text/html": [
       "<div>\n",
       "<style scoped>\n",
       "    .dataframe tbody tr th:only-of-type {\n",
       "        vertical-align: middle;\n",
       "    }\n",
       "\n",
       "    .dataframe tbody tr th {\n",
       "        vertical-align: top;\n",
       "    }\n",
       "\n",
       "    .dataframe thead th {\n",
       "        text-align: right;\n",
       "    }\n",
       "</style>\n",
       "<table border=\"1\" class=\"dataframe\">\n",
       "  <thead>\n",
       "    <tr style=\"text-align: right;\">\n",
       "      <th></th>\n",
       "      <th>USERID</th>\n",
       "      <th>score</th>\n",
       "      <th>city</th>\n",
       "      <th>gender</th>\n",
       "      <th>age</th>\n",
       "      <th>equity</th>\n",
       "      <th>balance</th>\n",
       "      <th>products</th>\n",
       "      <th>credit_card</th>\n",
       "      <th>last_activity</th>\n",
       "      <th>EST_SALARY</th>\n",
       "      <th>churn</th>\n",
       "    </tr>\n",
       "  </thead>\n",
       "  <tbody>\n",
       "    <tr>\n",
       "      <th>0</th>\n",
       "      <td>183012</td>\n",
       "      <td>850.0</td>\n",
       "      <td>Рыбинск</td>\n",
       "      <td>Ж</td>\n",
       "      <td>25.0</td>\n",
       "      <td>1</td>\n",
       "      <td>59214.82</td>\n",
       "      <td>2</td>\n",
       "      <td>0</td>\n",
       "      <td>1</td>\n",
       "      <td>75719.14</td>\n",
       "      <td>1</td>\n",
       "    </tr>\n",
       "    <tr>\n",
       "      <th>1</th>\n",
       "      <td>146556</td>\n",
       "      <td>861.0</td>\n",
       "      <td>Рыбинск</td>\n",
       "      <td>Ж</td>\n",
       "      <td>37.0</td>\n",
       "      <td>5</td>\n",
       "      <td>850594.33</td>\n",
       "      <td>3</td>\n",
       "      <td>1</td>\n",
       "      <td>0</td>\n",
       "      <td>86621.77</td>\n",
       "      <td>0</td>\n",
       "    </tr>\n",
       "    <tr>\n",
       "      <th>2</th>\n",
       "      <td>120722</td>\n",
       "      <td>892.0</td>\n",
       "      <td>Рыбинск</td>\n",
       "      <td>Ж</td>\n",
       "      <td>30.0</td>\n",
       "      <td>0</td>\n",
       "      <td>NaN</td>\n",
       "      <td>1</td>\n",
       "      <td>1</td>\n",
       "      <td>1</td>\n",
       "      <td>107683.34</td>\n",
       "      <td>0</td>\n",
       "    </tr>\n",
       "    <tr>\n",
       "      <th>3</th>\n",
       "      <td>225363</td>\n",
       "      <td>866.0</td>\n",
       "      <td>Ярославль</td>\n",
       "      <td>Ж</td>\n",
       "      <td>51.0</td>\n",
       "      <td>5</td>\n",
       "      <td>1524746.26</td>\n",
       "      <td>2</td>\n",
       "      <td>0</td>\n",
       "      <td>1</td>\n",
       "      <td>174423.53</td>\n",
       "      <td>1</td>\n",
       "    </tr>\n",
       "    <tr>\n",
       "      <th>4</th>\n",
       "      <td>157978</td>\n",
       "      <td>730.0</td>\n",
       "      <td>Ярославль</td>\n",
       "      <td>М</td>\n",
       "      <td>34.0</td>\n",
       "      <td>5</td>\n",
       "      <td>174.00</td>\n",
       "      <td>1</td>\n",
       "      <td>1</td>\n",
       "      <td>0</td>\n",
       "      <td>67353.16</td>\n",
       "      <td>1</td>\n",
       "    </tr>\n",
       "    <tr>\n",
       "      <th>5</th>\n",
       "      <td>202305</td>\n",
       "      <td>856.0</td>\n",
       "      <td>Рыбинск</td>\n",
       "      <td>М</td>\n",
       "      <td>56.0</td>\n",
       "      <td>4</td>\n",
       "      <td>863687.24</td>\n",
       "      <td>3</td>\n",
       "      <td>1</td>\n",
       "      <td>0</td>\n",
       "      <td>156619.80</td>\n",
       "      <td>0</td>\n",
       "    </tr>\n",
       "    <tr>\n",
       "      <th>6</th>\n",
       "      <td>177259</td>\n",
       "      <td>807.0</td>\n",
       "      <td>Ярославль</td>\n",
       "      <td>Ж</td>\n",
       "      <td>39.0</td>\n",
       "      <td>3</td>\n",
       "      <td>405042.44</td>\n",
       "      <td>3</td>\n",
       "      <td>0</td>\n",
       "      <td>1</td>\n",
       "      <td>103838.32</td>\n",
       "      <td>0</td>\n",
       "    </tr>\n",
       "    <tr>\n",
       "      <th>7</th>\n",
       "      <td>218868</td>\n",
       "      <td>825.0</td>\n",
       "      <td>Ярославль</td>\n",
       "      <td>Ж</td>\n",
       "      <td>38.0</td>\n",
       "      <td>4</td>\n",
       "      <td>458145.40</td>\n",
       "      <td>2</td>\n",
       "      <td>1</td>\n",
       "      <td>1</td>\n",
       "      <td>68085.48</td>\n",
       "      <td>0</td>\n",
       "    </tr>\n",
       "    <tr>\n",
       "      <th>8</th>\n",
       "      <td>211686</td>\n",
       "      <td>923.0</td>\n",
       "      <td>Ярославль</td>\n",
       "      <td>М</td>\n",
       "      <td>54.0</td>\n",
       "      <td>5</td>\n",
       "      <td>1206337.87</td>\n",
       "      <td>2</td>\n",
       "      <td>1</td>\n",
       "      <td>0</td>\n",
       "      <td>155371.79</td>\n",
       "      <td>0</td>\n",
       "    </tr>\n",
       "    <tr>\n",
       "      <th>9</th>\n",
       "      <td>133130</td>\n",
       "      <td>906.0</td>\n",
       "      <td>Ярославль</td>\n",
       "      <td>Ж</td>\n",
       "      <td>67.0</td>\n",
       "      <td>0</td>\n",
       "      <td>NaN</td>\n",
       "      <td>1</td>\n",
       "      <td>0</td>\n",
       "      <td>1</td>\n",
       "      <td>238055.53</td>\n",
       "      <td>0</td>\n",
       "    </tr>\n",
       "    <tr>\n",
       "      <th>10</th>\n",
       "      <td>148929</td>\n",
       "      <td>927.0</td>\n",
       "      <td>Ростов</td>\n",
       "      <td>М</td>\n",
       "      <td>52.0</td>\n",
       "      <td>0</td>\n",
       "      <td>NaN</td>\n",
       "      <td>1</td>\n",
       "      <td>1</td>\n",
       "      <td>1</td>\n",
       "      <td>196820.07</td>\n",
       "      <td>0</td>\n",
       "    </tr>\n",
       "    <tr>\n",
       "      <th>11</th>\n",
       "      <td>172184</td>\n",
       "      <td>921.0</td>\n",
       "      <td>Ростов</td>\n",
       "      <td>М</td>\n",
       "      <td>41.0</td>\n",
       "      <td>0</td>\n",
       "      <td>NaN</td>\n",
       "      <td>1</td>\n",
       "      <td>1</td>\n",
       "      <td>1</td>\n",
       "      <td>217469.48</td>\n",
       "      <td>0</td>\n",
       "    </tr>\n",
       "    <tr>\n",
       "      <th>12</th>\n",
       "      <td>132970</td>\n",
       "      <td>845.0</td>\n",
       "      <td>Ярославль</td>\n",
       "      <td>Ж</td>\n",
       "      <td>31.0</td>\n",
       "      <td>3</td>\n",
       "      <td>591928.52</td>\n",
       "      <td>2</td>\n",
       "      <td>1</td>\n",
       "      <td>1</td>\n",
       "      <td>112697.16</td>\n",
       "      <td>1</td>\n",
       "    </tr>\n",
       "    <tr>\n",
       "      <th>13</th>\n",
       "      <td>166357</td>\n",
       "      <td>837.0</td>\n",
       "      <td>Рыбинск</td>\n",
       "      <td>Ж</td>\n",
       "      <td>28.0</td>\n",
       "      <td>4</td>\n",
       "      <td>302249.22</td>\n",
       "      <td>2</td>\n",
       "      <td>0</td>\n",
       "      <td>1</td>\n",
       "      <td>30950.94</td>\n",
       "      <td>0</td>\n",
       "    </tr>\n",
       "    <tr>\n",
       "      <th>14</th>\n",
       "      <td>172138</td>\n",
       "      <td>815.0</td>\n",
       "      <td>Ярославль</td>\n",
       "      <td>М</td>\n",
       "      <td>35.0</td>\n",
       "      <td>5</td>\n",
       "      <td>547499.87</td>\n",
       "      <td>2</td>\n",
       "      <td>1</td>\n",
       "      <td>1</td>\n",
       "      <td>105883.26</td>\n",
       "      <td>0</td>\n",
       "    </tr>\n",
       "  </tbody>\n",
       "</table>\n",
       "</div>"
      ],
      "text/plain": [
       "    USERID  score       city gender   age  equity     balance  products  \\\n",
       "0   183012  850.0    Рыбинск      Ж  25.0       1    59214.82         2   \n",
       "1   146556  861.0    Рыбинск      Ж  37.0       5   850594.33         3   \n",
       "2   120722  892.0    Рыбинск      Ж  30.0       0         NaN         1   \n",
       "3   225363  866.0  Ярославль      Ж  51.0       5  1524746.26         2   \n",
       "4   157978  730.0  Ярославль      М  34.0       5      174.00         1   \n",
       "5   202305  856.0    Рыбинск      М  56.0       4   863687.24         3   \n",
       "6   177259  807.0  Ярославль      Ж  39.0       3   405042.44         3   \n",
       "7   218868  825.0  Ярославль      Ж  38.0       4   458145.40         2   \n",
       "8   211686  923.0  Ярославль      М  54.0       5  1206337.87         2   \n",
       "9   133130  906.0  Ярославль      Ж  67.0       0         NaN         1   \n",
       "10  148929  927.0     Ростов      М  52.0       0         NaN         1   \n",
       "11  172184  921.0     Ростов      М  41.0       0         NaN         1   \n",
       "12  132970  845.0  Ярославль      Ж  31.0       3   591928.52         2   \n",
       "13  166357  837.0    Рыбинск      Ж  28.0       4   302249.22         2   \n",
       "14  172138  815.0  Ярославль      М  35.0       5   547499.87         2   \n",
       "\n",
       "    credit_card  last_activity  EST_SALARY  churn  \n",
       "0             0              1    75719.14      1  \n",
       "1             1              0    86621.77      0  \n",
       "2             1              1   107683.34      0  \n",
       "3             0              1   174423.53      1  \n",
       "4             1              0    67353.16      1  \n",
       "5             1              0   156619.80      0  \n",
       "6             0              1   103838.32      0  \n",
       "7             1              1    68085.48      0  \n",
       "8             1              0   155371.79      0  \n",
       "9             0              1   238055.53      0  \n",
       "10            1              1   196820.07      0  \n",
       "11            1              1   217469.48      0  \n",
       "12            1              1   112697.16      1  \n",
       "13            0              1    30950.94      0  \n",
       "14            1              1   105883.26      0  "
      ]
     },
     "execution_count": 2,
     "metadata": {},
     "output_type": "execute_result"
    }
   ],
   "source": [
    "#загрузка данных\n",
    "df = pd.read_csv('https://code.s3.yandex.net/datasets/bank_scrooge.csv')\n",
    "\n",
    "df.head(15)"
   ]
  },
  {
   "cell_type": "code",
   "execution_count": 3,
   "metadata": {},
   "outputs": [],
   "source": [
    "#поставим пробел в названии столбца идентификатор пользователя\n",
    "data=df.rename(columns = {'USERID':'user_id'})"
   ]
  },
  {
   "cell_type": "code",
   "execution_count": 4,
   "metadata": {},
   "outputs": [],
   "source": [
    "#приведем название колонок к нижнему регистру\n",
    "data.columns = map(str.lower, data.columns)"
   ]
  },
  {
   "cell_type": "code",
   "execution_count": 5,
   "metadata": {},
   "outputs": [
    {
     "data": {
      "text/plain": [
       "Index(['user_id', 'score', 'city', 'gender', 'age', 'equity', 'balance',\n",
       "       'products', 'credit_card', 'last_activity', 'est_salary', 'churn'],\n",
       "      dtype='object')"
      ]
     },
     "execution_count": 5,
     "metadata": {},
     "output_type": "execute_result"
    }
   ],
   "source": [
    "#проверим названия столбцов\n",
    "data.columns"
   ]
  },
  {
   "cell_type": "code",
   "execution_count": 6,
   "metadata": {},
   "outputs": [
    {
     "name": "stdout",
     "output_type": "stream",
     "text": [
      "<class 'pandas.core.frame.DataFrame'>\n",
      "RangeIndex: 10000 entries, 0 to 9999\n",
      "Data columns (total 12 columns):\n",
      " #   Column         Non-Null Count  Dtype  \n",
      "---  ------         --------------  -----  \n",
      " 0   user_id        10000 non-null  int64  \n",
      " 1   score          10000 non-null  float64\n",
      " 2   city           10000 non-null  object \n",
      " 3   gender         10000 non-null  object \n",
      " 4   age            9974 non-null   float64\n",
      " 5   equity         10000 non-null  int64  \n",
      " 6   balance        7705 non-null   float64\n",
      " 7   products       10000 non-null  int64  \n",
      " 8   credit_card    10000 non-null  int64  \n",
      " 9   last_activity  10000 non-null  int64  \n",
      " 10  est_salary     10000 non-null  float64\n",
      " 11  churn          10000 non-null  int64  \n",
      "dtypes: float64(4), int64(6), object(2)\n",
      "memory usage: 937.6+ KB\n"
     ]
    }
   ],
   "source": [
    "#выведем общую информацию\n",
    "data.info()"
   ]
  },
  {
   "cell_type": "markdown",
   "metadata": {},
   "source": [
    "В датасете имеются пропуски и в некоторых колонках необходимо изменить тип данных. Сделаем это в следующем шаге."
   ]
  },
  {
   "cell_type": "markdown",
   "metadata": {},
   "source": [
    "##  Предобработка данных "
   ]
  },
  {
   "cell_type": "markdown",
   "metadata": {},
   "source": [
    "Для начала нужно изменить тип данных в столбце score и age : баллы кредитного скоринга и возраст лучше преобразовать в целое число."
   ]
  },
  {
   "cell_type": "code",
   "execution_count": 7,
   "metadata": {},
   "outputs": [],
   "source": [
    "data['age'] = data['age'].astype('Int64')\n",
    "data['score'] = data['score'].astype('Int64') "
   ]
  },
  {
   "cell_type": "code",
   "execution_count": 8,
   "metadata": {},
   "outputs": [
    {
     "data": {
      "text/plain": [
       "user_id            int64\n",
       "score              Int64\n",
       "city              object\n",
       "gender            object\n",
       "age                Int64\n",
       "equity             int64\n",
       "balance          float64\n",
       "products           int64\n",
       "credit_card        int64\n",
       "last_activity      int64\n",
       "est_salary       float64\n",
       "churn              int64\n",
       "dtype: object"
      ]
     },
     "execution_count": 8,
     "metadata": {},
     "output_type": "execute_result"
    }
   ],
   "source": [
    "#проверим тип данных\n",
    "data.dtypes"
   ]
  },
  {
   "cell_type": "markdown",
   "metadata": {},
   "source": [
    "Отлично. Типы соответствуют данным. Посмотрим теперь на полные дубликаты"
   ]
  },
  {
   "cell_type": "code",
   "execution_count": 9,
   "metadata": {},
   "outputs": [
    {
     "data": {
      "text/plain": [
       "0"
      ]
     },
     "execution_count": 9,
     "metadata": {},
     "output_type": "execute_result"
    }
   ],
   "source": [
    "data.duplicated().sum()"
   ]
  },
  {
   "cell_type": "markdown",
   "metadata": {},
   "source": [
    "Полных дубликатов в датасете не имеется. Посмотрим на неявые дубликаты по идентификатору пользователя"
   ]
  },
  {
   "cell_type": "code",
   "execution_count": 10,
   "metadata": {},
   "outputs": [
    {
     "data": {
      "text/plain": [
       "73"
      ]
     },
     "execution_count": 10,
     "metadata": {},
     "output_type": "execute_result"
    }
   ],
   "source": [
    "data['user_id'].duplicated().sum()"
   ]
  },
  {
   "cell_type": "markdown",
   "metadata": {},
   "source": [
    "Для нашего датасета 73 дубликатов не так много, можно их удалить, но прежде поищем дубликаты по столбцам возвраст и пол"
   ]
  },
  {
   "cell_type": "code",
   "execution_count": 11,
   "metadata": {},
   "outputs": [
    {
     "data": {
      "text/plain": [
       "2"
      ]
     },
     "execution_count": 11,
     "metadata": {},
     "output_type": "execute_result"
    }
   ],
   "source": [
    "data.duplicated(['user_id','gender', 'age']).sum()"
   ]
  },
  {
   "cell_type": "markdown",
   "metadata": {},
   "source": [
    "Всего два дубликата. Посмотрим на них"
   ]
  },
  {
   "cell_type": "code",
   "execution_count": 12,
   "metadata": {},
   "outputs": [
    {
     "data": {
      "text/html": [
       "<div>\n",
       "<style scoped>\n",
       "    .dataframe tbody tr th:only-of-type {\n",
       "        vertical-align: middle;\n",
       "    }\n",
       "\n",
       "    .dataframe tbody tr th {\n",
       "        vertical-align: top;\n",
       "    }\n",
       "\n",
       "    .dataframe thead th {\n",
       "        text-align: right;\n",
       "    }\n",
       "</style>\n",
       "<table border=\"1\" class=\"dataframe\">\n",
       "  <thead>\n",
       "    <tr style=\"text-align: right;\">\n",
       "      <th></th>\n",
       "      <th>user_id</th>\n",
       "      <th>score</th>\n",
       "      <th>city</th>\n",
       "      <th>gender</th>\n",
       "      <th>age</th>\n",
       "      <th>equity</th>\n",
       "      <th>balance</th>\n",
       "      <th>products</th>\n",
       "      <th>credit_card</th>\n",
       "      <th>last_activity</th>\n",
       "      <th>est_salary</th>\n",
       "      <th>churn</th>\n",
       "    </tr>\n",
       "  </thead>\n",
       "  <tbody>\n",
       "    <tr>\n",
       "      <th>3274</th>\n",
       "      <td>155765</td>\n",
       "      <td>863</td>\n",
       "      <td>Ярославль</td>\n",
       "      <td>М</td>\n",
       "      <td>30</td>\n",
       "      <td>5</td>\n",
       "      <td>1036114.50</td>\n",
       "      <td>5</td>\n",
       "      <td>1</td>\n",
       "      <td>1</td>\n",
       "      <td>150744.50</td>\n",
       "      <td>1</td>\n",
       "    </tr>\n",
       "    <tr>\n",
       "      <th>5197</th>\n",
       "      <td>155765</td>\n",
       "      <td>923</td>\n",
       "      <td>Рыбинск</td>\n",
       "      <td>М</td>\n",
       "      <td>30</td>\n",
       "      <td>0</td>\n",
       "      <td>NaN</td>\n",
       "      <td>1</td>\n",
       "      <td>1</td>\n",
       "      <td>1</td>\n",
       "      <td>120296.60</td>\n",
       "      <td>0</td>\n",
       "    </tr>\n",
       "    <tr>\n",
       "      <th>8205</th>\n",
       "      <td>227795</td>\n",
       "      <td>840</td>\n",
       "      <td>Рыбинск</td>\n",
       "      <td>М</td>\n",
       "      <td>34</td>\n",
       "      <td>2</td>\n",
       "      <td>350768.03</td>\n",
       "      <td>1</td>\n",
       "      <td>1</td>\n",
       "      <td>0</td>\n",
       "      <td>102036.14</td>\n",
       "      <td>1</td>\n",
       "    </tr>\n",
       "    <tr>\n",
       "      <th>8497</th>\n",
       "      <td>227795</td>\n",
       "      <td>839</td>\n",
       "      <td>Ярославль</td>\n",
       "      <td>М</td>\n",
       "      <td>34</td>\n",
       "      <td>2</td>\n",
       "      <td>326593.14</td>\n",
       "      <td>2</td>\n",
       "      <td>1</td>\n",
       "      <td>0</td>\n",
       "      <td>103314.92</td>\n",
       "      <td>0</td>\n",
       "    </tr>\n",
       "  </tbody>\n",
       "</table>\n",
       "</div>"
      ],
      "text/plain": [
       "      user_id  score       city gender  age  equity     balance  products  \\\n",
       "3274   155765    863  Ярославль      М   30       5  1036114.50         5   \n",
       "5197   155765    923    Рыбинск      М   30       0         NaN         1   \n",
       "8205   227795    840    Рыбинск      М   34       2   350768.03         1   \n",
       "8497   227795    839  Ярославль      М   34       2   326593.14         2   \n",
       "\n",
       "      credit_card  last_activity  est_salary  churn  \n",
       "3274            1              1   150744.50      1  \n",
       "5197            1              1   120296.60      0  \n",
       "8205            1              0   102036.14      1  \n",
       "8497            1              0   103314.92      0  "
      ]
     },
     "execution_count": 12,
     "metadata": {},
     "output_type": "execute_result"
    }
   ],
   "source": [
    "data[data.duplicated(['user_id','gender', 'age'], False)]"
   ]
  },
  {
   "cell_type": "markdown",
   "metadata": {},
   "source": [
    "Данные в этих дубликах отличаются. Можно предположить это один и тот же клиент, обратившийся в банк в разных городах. Возможно при выгрузке данных из разных городов произошел сбой."
   ]
  },
  {
   "cell_type": "code",
   "execution_count": 13,
   "metadata": {},
   "outputs": [
    {
     "data": {
      "text/plain": [
       "0"
      ]
     },
     "execution_count": 13,
     "metadata": {},
     "output_type": "execute_result"
    }
   ],
   "source": [
    "# проверим есть ли дубликаты пользователй из одного города\n",
    "data.duplicated(['user_id','city']).sum()"
   ]
  },
  {
   "cell_type": "markdown",
   "metadata": {},
   "source": [
    "Как видим нет дубликов пользователей из одного города, это подтверждает наше предположение. В данном случае целесообразно оставить все как есть, так как дубликаты в колонке user_id не помещают анализу.\n",
    "\n",
    "Закодируем столбцы city и gender для дальнейшего проведения анализа. Чтобы при этом не потерять оригинальный столбец, сделаем  копии."
   ]
  },
  {
   "cell_type": "code",
   "execution_count": 14,
   "metadata": {},
   "outputs": [],
   "source": [
    "data['city_2']=data['city']\n",
    "data['gender_2']=data['gender']"
   ]
  },
  {
   "cell_type": "code",
   "execution_count": 15,
   "metadata": {},
   "outputs": [
    {
     "data": {
      "text/html": [
       "<div>\n",
       "<style scoped>\n",
       "    .dataframe tbody tr th:only-of-type {\n",
       "        vertical-align: middle;\n",
       "    }\n",
       "\n",
       "    .dataframe tbody tr th {\n",
       "        vertical-align: top;\n",
       "    }\n",
       "\n",
       "    .dataframe thead th {\n",
       "        text-align: right;\n",
       "    }\n",
       "</style>\n",
       "<table border=\"1\" class=\"dataframe\">\n",
       "  <thead>\n",
       "    <tr style=\"text-align: right;\">\n",
       "      <th></th>\n",
       "      <th>user_id</th>\n",
       "      <th>score</th>\n",
       "      <th>city</th>\n",
       "      <th>gender</th>\n",
       "      <th>age</th>\n",
       "      <th>equity</th>\n",
       "      <th>balance</th>\n",
       "      <th>products</th>\n",
       "      <th>credit_card</th>\n",
       "      <th>last_activity</th>\n",
       "      <th>est_salary</th>\n",
       "      <th>churn</th>\n",
       "      <th>Ростов</th>\n",
       "      <th>Рыбинск</th>\n",
       "      <th>Ярославль</th>\n",
       "      <th>female</th>\n",
       "      <th>male</th>\n",
       "    </tr>\n",
       "  </thead>\n",
       "  <tbody>\n",
       "    <tr>\n",
       "      <th>0</th>\n",
       "      <td>183012</td>\n",
       "      <td>850</td>\n",
       "      <td>Рыбинск</td>\n",
       "      <td>Ж</td>\n",
       "      <td>25</td>\n",
       "      <td>1</td>\n",
       "      <td>59214.82</td>\n",
       "      <td>2</td>\n",
       "      <td>0</td>\n",
       "      <td>1</td>\n",
       "      <td>75719.14</td>\n",
       "      <td>1</td>\n",
       "      <td>0</td>\n",
       "      <td>1</td>\n",
       "      <td>0</td>\n",
       "      <td>1</td>\n",
       "      <td>0</td>\n",
       "    </tr>\n",
       "    <tr>\n",
       "      <th>1</th>\n",
       "      <td>146556</td>\n",
       "      <td>861</td>\n",
       "      <td>Рыбинск</td>\n",
       "      <td>Ж</td>\n",
       "      <td>37</td>\n",
       "      <td>5</td>\n",
       "      <td>850594.33</td>\n",
       "      <td>3</td>\n",
       "      <td>1</td>\n",
       "      <td>0</td>\n",
       "      <td>86621.77</td>\n",
       "      <td>0</td>\n",
       "      <td>0</td>\n",
       "      <td>1</td>\n",
       "      <td>0</td>\n",
       "      <td>1</td>\n",
       "      <td>0</td>\n",
       "    </tr>\n",
       "    <tr>\n",
       "      <th>2</th>\n",
       "      <td>120722</td>\n",
       "      <td>892</td>\n",
       "      <td>Рыбинск</td>\n",
       "      <td>Ж</td>\n",
       "      <td>30</td>\n",
       "      <td>0</td>\n",
       "      <td>NaN</td>\n",
       "      <td>1</td>\n",
       "      <td>1</td>\n",
       "      <td>1</td>\n",
       "      <td>107683.34</td>\n",
       "      <td>0</td>\n",
       "      <td>0</td>\n",
       "      <td>1</td>\n",
       "      <td>0</td>\n",
       "      <td>1</td>\n",
       "      <td>0</td>\n",
       "    </tr>\n",
       "    <tr>\n",
       "      <th>3</th>\n",
       "      <td>225363</td>\n",
       "      <td>866</td>\n",
       "      <td>Ярославль</td>\n",
       "      <td>Ж</td>\n",
       "      <td>51</td>\n",
       "      <td>5</td>\n",
       "      <td>1524746.26</td>\n",
       "      <td>2</td>\n",
       "      <td>0</td>\n",
       "      <td>1</td>\n",
       "      <td>174423.53</td>\n",
       "      <td>1</td>\n",
       "      <td>0</td>\n",
       "      <td>0</td>\n",
       "      <td>1</td>\n",
       "      <td>1</td>\n",
       "      <td>0</td>\n",
       "    </tr>\n",
       "    <tr>\n",
       "      <th>4</th>\n",
       "      <td>157978</td>\n",
       "      <td>730</td>\n",
       "      <td>Ярославль</td>\n",
       "      <td>М</td>\n",
       "      <td>34</td>\n",
       "      <td>5</td>\n",
       "      <td>174.00</td>\n",
       "      <td>1</td>\n",
       "      <td>1</td>\n",
       "      <td>0</td>\n",
       "      <td>67353.16</td>\n",
       "      <td>1</td>\n",
       "      <td>0</td>\n",
       "      <td>0</td>\n",
       "      <td>1</td>\n",
       "      <td>0</td>\n",
       "      <td>1</td>\n",
       "    </tr>\n",
       "  </tbody>\n",
       "</table>\n",
       "</div>"
      ],
      "text/plain": [
       "   user_id  score       city gender  age  equity     balance  products  \\\n",
       "0   183012    850    Рыбинск      Ж   25       1    59214.82         2   \n",
       "1   146556    861    Рыбинск      Ж   37       5   850594.33         3   \n",
       "2   120722    892    Рыбинск      Ж   30       0         NaN         1   \n",
       "3   225363    866  Ярославль      Ж   51       5  1524746.26         2   \n",
       "4   157978    730  Ярославль      М   34       5      174.00         1   \n",
       "\n",
       "   credit_card  last_activity  est_salary  churn  Ростов  Рыбинск  Ярославль  \\\n",
       "0            0              1    75719.14      1       0        1          0   \n",
       "1            1              0    86621.77      0       0        1          0   \n",
       "2            1              1   107683.34      0       0        1          0   \n",
       "3            0              1   174423.53      1       0        0          1   \n",
       "4            1              0    67353.16      1       0        0          1   \n",
       "\n",
       "   female  male  \n",
       "0       1     0  \n",
       "1       1     0  \n",
       "2       1     0  \n",
       "3       1     0  \n",
       "4       0     1  "
      ]
     },
     "metadata": {},
     "output_type": "display_data"
    }
   ],
   "source": [
    "# закодируем данные в столбцах city_2 и gender_2:\n",
    "\n",
    "data = pd.get_dummies(data, columns = ['city_2', 'gender_2'])\n",
    "data = data.rename (\n",
    "    columns = ({\n",
    "        'city_2_Ростов':'Ростов', 'city_2_Рыбинск':'Рыбинск','city_2_Ярославль':'Ярославль', \n",
    "        'gender_2_Ж':'female', 'gender_2_М':'male'}))\n",
    "display(data.head())"
   ]
  },
  {
   "cell_type": "markdown",
   "metadata": {},
   "source": [
    " Теперь посмотрим что за пропуски в колонках age и balance. "
   ]
  },
  {
   "cell_type": "code",
   "execution_count": 16,
   "metadata": {},
   "outputs": [
    {
     "name": "stdout",
     "output_type": "stream",
     "text": [
      "user_id - 0.0%\n",
      "score - 0.0%\n",
      "city - 0.0%\n",
      "gender - 0.0%\n",
      "age - 0.26%\n",
      "equity - 0.0%\n",
      "balance - 22.95%\n",
      "products - 0.0%\n",
      "credit_card - 0.0%\n",
      "last_activity - 0.0%\n",
      "est_salary - 0.0%\n",
      "churn - 0.0%\n",
      "Ростов - 0.0%\n",
      "Рыбинск - 0.0%\n",
      "Ярославль - 0.0%\n",
      "female - 0.0%\n",
      "male - 0.0%\n"
     ]
    }
   ],
   "source": [
    "for col in data.columns:\n",
    "    pct_missing = np.mean(data[col].isnull())\n",
    "    print('{} - {}%'.format(col, round(pct_missing*100, 2)))"
   ]
  },
  {
   "cell_type": "markdown",
   "metadata": {},
   "source": [
    "Пропуски в столбце age меньше 1%, можно их удалить. На результат исследование удаление не окажет сильного влияния."
   ]
  },
  {
   "cell_type": "code",
   "execution_count": 17,
   "metadata": {},
   "outputs": [],
   "source": [
    "data = data.dropna(subset = ['age'])"
   ]
  },
  {
   "cell_type": "markdown",
   "metadata": {},
   "source": [
    "Изучим столбец 'balance'. Для начала посмотрим на эти пропуски."
   ]
  },
  {
   "cell_type": "code",
   "execution_count": 18,
   "metadata": {},
   "outputs": [
    {
     "data": {
      "text/html": [
       "<div>\n",
       "<style scoped>\n",
       "    .dataframe tbody tr th:only-of-type {\n",
       "        vertical-align: middle;\n",
       "    }\n",
       "\n",
       "    .dataframe tbody tr th {\n",
       "        vertical-align: top;\n",
       "    }\n",
       "\n",
       "    .dataframe thead th {\n",
       "        text-align: right;\n",
       "    }\n",
       "</style>\n",
       "<table border=\"1\" class=\"dataframe\">\n",
       "  <thead>\n",
       "    <tr style=\"text-align: right;\">\n",
       "      <th></th>\n",
       "      <th>user_id</th>\n",
       "      <th>score</th>\n",
       "      <th>city</th>\n",
       "      <th>gender</th>\n",
       "      <th>age</th>\n",
       "      <th>equity</th>\n",
       "      <th>balance</th>\n",
       "      <th>products</th>\n",
       "      <th>credit_card</th>\n",
       "      <th>last_activity</th>\n",
       "      <th>est_salary</th>\n",
       "      <th>churn</th>\n",
       "      <th>Ростов</th>\n",
       "      <th>Рыбинск</th>\n",
       "      <th>Ярославль</th>\n",
       "      <th>female</th>\n",
       "      <th>male</th>\n",
       "    </tr>\n",
       "  </thead>\n",
       "  <tbody>\n",
       "    <tr>\n",
       "      <th>2</th>\n",
       "      <td>120722</td>\n",
       "      <td>892</td>\n",
       "      <td>Рыбинск</td>\n",
       "      <td>Ж</td>\n",
       "      <td>30</td>\n",
       "      <td>0</td>\n",
       "      <td>NaN</td>\n",
       "      <td>1</td>\n",
       "      <td>1</td>\n",
       "      <td>1</td>\n",
       "      <td>107683.34</td>\n",
       "      <td>0</td>\n",
       "      <td>0</td>\n",
       "      <td>1</td>\n",
       "      <td>0</td>\n",
       "      <td>1</td>\n",
       "      <td>0</td>\n",
       "    </tr>\n",
       "    <tr>\n",
       "      <th>9</th>\n",
       "      <td>133130</td>\n",
       "      <td>906</td>\n",
       "      <td>Ярославль</td>\n",
       "      <td>Ж</td>\n",
       "      <td>67</td>\n",
       "      <td>0</td>\n",
       "      <td>NaN</td>\n",
       "      <td>1</td>\n",
       "      <td>0</td>\n",
       "      <td>1</td>\n",
       "      <td>238055.53</td>\n",
       "      <td>0</td>\n",
       "      <td>0</td>\n",
       "      <td>0</td>\n",
       "      <td>1</td>\n",
       "      <td>1</td>\n",
       "      <td>0</td>\n",
       "    </tr>\n",
       "    <tr>\n",
       "      <th>10</th>\n",
       "      <td>148929</td>\n",
       "      <td>927</td>\n",
       "      <td>Ростов</td>\n",
       "      <td>М</td>\n",
       "      <td>52</td>\n",
       "      <td>0</td>\n",
       "      <td>NaN</td>\n",
       "      <td>1</td>\n",
       "      <td>1</td>\n",
       "      <td>1</td>\n",
       "      <td>196820.07</td>\n",
       "      <td>0</td>\n",
       "      <td>1</td>\n",
       "      <td>0</td>\n",
       "      <td>0</td>\n",
       "      <td>0</td>\n",
       "      <td>1</td>\n",
       "    </tr>\n",
       "    <tr>\n",
       "      <th>11</th>\n",
       "      <td>172184</td>\n",
       "      <td>921</td>\n",
       "      <td>Ростов</td>\n",
       "      <td>М</td>\n",
       "      <td>41</td>\n",
       "      <td>0</td>\n",
       "      <td>NaN</td>\n",
       "      <td>1</td>\n",
       "      <td>1</td>\n",
       "      <td>1</td>\n",
       "      <td>217469.48</td>\n",
       "      <td>0</td>\n",
       "      <td>1</td>\n",
       "      <td>0</td>\n",
       "      <td>0</td>\n",
       "      <td>0</td>\n",
       "      <td>1</td>\n",
       "    </tr>\n",
       "    <tr>\n",
       "      <th>19</th>\n",
       "      <td>127034</td>\n",
       "      <td>922</td>\n",
       "      <td>Рыбинск</td>\n",
       "      <td>Ж</td>\n",
       "      <td>53</td>\n",
       "      <td>0</td>\n",
       "      <td>NaN</td>\n",
       "      <td>1</td>\n",
       "      <td>0</td>\n",
       "      <td>0</td>\n",
       "      <td>147094.82</td>\n",
       "      <td>0</td>\n",
       "      <td>0</td>\n",
       "      <td>1</td>\n",
       "      <td>0</td>\n",
       "      <td>1</td>\n",
       "      <td>0</td>\n",
       "    </tr>\n",
       "    <tr>\n",
       "      <th>21</th>\n",
       "      <td>177415</td>\n",
       "      <td>896</td>\n",
       "      <td>Рыбинск</td>\n",
       "      <td>Ж</td>\n",
       "      <td>47</td>\n",
       "      <td>0</td>\n",
       "      <td>NaN</td>\n",
       "      <td>1</td>\n",
       "      <td>0</td>\n",
       "      <td>0</td>\n",
       "      <td>225060.35</td>\n",
       "      <td>0</td>\n",
       "      <td>0</td>\n",
       "      <td>1</td>\n",
       "      <td>0</td>\n",
       "      <td>1</td>\n",
       "      <td>0</td>\n",
       "    </tr>\n",
       "    <tr>\n",
       "      <th>30</th>\n",
       "      <td>155730</td>\n",
       "      <td>946</td>\n",
       "      <td>Ярославль</td>\n",
       "      <td>Ж</td>\n",
       "      <td>47</td>\n",
       "      <td>0</td>\n",
       "      <td>NaN</td>\n",
       "      <td>2</td>\n",
       "      <td>1</td>\n",
       "      <td>1</td>\n",
       "      <td>660015.85</td>\n",
       "      <td>0</td>\n",
       "      <td>0</td>\n",
       "      <td>0</td>\n",
       "      <td>1</td>\n",
       "      <td>1</td>\n",
       "      <td>0</td>\n",
       "    </tr>\n",
       "    <tr>\n",
       "      <th>34</th>\n",
       "      <td>205226</td>\n",
       "      <td>944</td>\n",
       "      <td>Ярославль</td>\n",
       "      <td>М</td>\n",
       "      <td>35</td>\n",
       "      <td>0</td>\n",
       "      <td>NaN</td>\n",
       "      <td>2</td>\n",
       "      <td>1</td>\n",
       "      <td>1</td>\n",
       "      <td>239843.39</td>\n",
       "      <td>0</td>\n",
       "      <td>0</td>\n",
       "      <td>0</td>\n",
       "      <td>1</td>\n",
       "      <td>0</td>\n",
       "      <td>1</td>\n",
       "    </tr>\n",
       "    <tr>\n",
       "      <th>39</th>\n",
       "      <td>173175</td>\n",
       "      <td>924</td>\n",
       "      <td>Рыбинск</td>\n",
       "      <td>Ж</td>\n",
       "      <td>51</td>\n",
       "      <td>0</td>\n",
       "      <td>NaN</td>\n",
       "      <td>1</td>\n",
       "      <td>1</td>\n",
       "      <td>1</td>\n",
       "      <td>248844.47</td>\n",
       "      <td>0</td>\n",
       "      <td>0</td>\n",
       "      <td>1</td>\n",
       "      <td>0</td>\n",
       "      <td>1</td>\n",
       "      <td>0</td>\n",
       "    </tr>\n",
       "    <tr>\n",
       "      <th>43</th>\n",
       "      <td>228585</td>\n",
       "      <td>956</td>\n",
       "      <td>Ростов</td>\n",
       "      <td>М</td>\n",
       "      <td>41</td>\n",
       "      <td>0</td>\n",
       "      <td>NaN</td>\n",
       "      <td>1</td>\n",
       "      <td>1</td>\n",
       "      <td>0</td>\n",
       "      <td>115117.10</td>\n",
       "      <td>0</td>\n",
       "      <td>1</td>\n",
       "      <td>0</td>\n",
       "      <td>0</td>\n",
       "      <td>0</td>\n",
       "      <td>1</td>\n",
       "    </tr>\n",
       "    <tr>\n",
       "      <th>46</th>\n",
       "      <td>118927</td>\n",
       "      <td>921</td>\n",
       "      <td>Ярославль</td>\n",
       "      <td>Ж</td>\n",
       "      <td>72</td>\n",
       "      <td>1</td>\n",
       "      <td>NaN</td>\n",
       "      <td>1</td>\n",
       "      <td>1</td>\n",
       "      <td>0</td>\n",
       "      <td>253494.70</td>\n",
       "      <td>0</td>\n",
       "      <td>0</td>\n",
       "      <td>0</td>\n",
       "      <td>1</td>\n",
       "      <td>1</td>\n",
       "      <td>0</td>\n",
       "    </tr>\n",
       "    <tr>\n",
       "      <th>52</th>\n",
       "      <td>214266</td>\n",
       "      <td>888</td>\n",
       "      <td>Ярославль</td>\n",
       "      <td>Ж</td>\n",
       "      <td>37</td>\n",
       "      <td>0</td>\n",
       "      <td>NaN</td>\n",
       "      <td>2</td>\n",
       "      <td>0</td>\n",
       "      <td>0</td>\n",
       "      <td>149164.44</td>\n",
       "      <td>0</td>\n",
       "      <td>0</td>\n",
       "      <td>0</td>\n",
       "      <td>1</td>\n",
       "      <td>1</td>\n",
       "      <td>0</td>\n",
       "    </tr>\n",
       "    <tr>\n",
       "      <th>57</th>\n",
       "      <td>167752</td>\n",
       "      <td>914</td>\n",
       "      <td>Ростов</td>\n",
       "      <td>Ж</td>\n",
       "      <td>58</td>\n",
       "      <td>0</td>\n",
       "      <td>NaN</td>\n",
       "      <td>2</td>\n",
       "      <td>1</td>\n",
       "      <td>0</td>\n",
       "      <td>116651.71</td>\n",
       "      <td>0</td>\n",
       "      <td>1</td>\n",
       "      <td>0</td>\n",
       "      <td>0</td>\n",
       "      <td>1</td>\n",
       "      <td>0</td>\n",
       "    </tr>\n",
       "    <tr>\n",
       "      <th>59</th>\n",
       "      <td>227642</td>\n",
       "      <td>930</td>\n",
       "      <td>Ярославль</td>\n",
       "      <td>Ж</td>\n",
       "      <td>36</td>\n",
       "      <td>0</td>\n",
       "      <td>NaN</td>\n",
       "      <td>2</td>\n",
       "      <td>1</td>\n",
       "      <td>0</td>\n",
       "      <td>359081.73</td>\n",
       "      <td>0</td>\n",
       "      <td>0</td>\n",
       "      <td>0</td>\n",
       "      <td>1</td>\n",
       "      <td>1</td>\n",
       "      <td>0</td>\n",
       "    </tr>\n",
       "    <tr>\n",
       "      <th>60</th>\n",
       "      <td>191602</td>\n",
       "      <td>944</td>\n",
       "      <td>Ярославль</td>\n",
       "      <td>Ж</td>\n",
       "      <td>71</td>\n",
       "      <td>0</td>\n",
       "      <td>NaN</td>\n",
       "      <td>2</td>\n",
       "      <td>0</td>\n",
       "      <td>1</td>\n",
       "      <td>107801.19</td>\n",
       "      <td>0</td>\n",
       "      <td>0</td>\n",
       "      <td>0</td>\n",
       "      <td>1</td>\n",
       "      <td>1</td>\n",
       "      <td>0</td>\n",
       "    </tr>\n",
       "  </tbody>\n",
       "</table>\n",
       "</div>"
      ],
      "text/plain": [
       "    user_id  score       city gender  age  equity  balance  products  \\\n",
       "2    120722    892    Рыбинск      Ж   30       0      NaN         1   \n",
       "9    133130    906  Ярославль      Ж   67       0      NaN         1   \n",
       "10   148929    927     Ростов      М   52       0      NaN         1   \n",
       "11   172184    921     Ростов      М   41       0      NaN         1   \n",
       "19   127034    922    Рыбинск      Ж   53       0      NaN         1   \n",
       "21   177415    896    Рыбинск      Ж   47       0      NaN         1   \n",
       "30   155730    946  Ярославль      Ж   47       0      NaN         2   \n",
       "34   205226    944  Ярославль      М   35       0      NaN         2   \n",
       "39   173175    924    Рыбинск      Ж   51       0      NaN         1   \n",
       "43   228585    956     Ростов      М   41       0      NaN         1   \n",
       "46   118927    921  Ярославль      Ж   72       1      NaN         1   \n",
       "52   214266    888  Ярославль      Ж   37       0      NaN         2   \n",
       "57   167752    914     Ростов      Ж   58       0      NaN         2   \n",
       "59   227642    930  Ярославль      Ж   36       0      NaN         2   \n",
       "60   191602    944  Ярославль      Ж   71       0      NaN         2   \n",
       "\n",
       "    credit_card  last_activity  est_salary  churn  Ростов  Рыбинск  Ярославль  \\\n",
       "2             1              1   107683.34      0       0        1          0   \n",
       "9             0              1   238055.53      0       0        0          1   \n",
       "10            1              1   196820.07      0       1        0          0   \n",
       "11            1              1   217469.48      0       1        0          0   \n",
       "19            0              0   147094.82      0       0        1          0   \n",
       "21            0              0   225060.35      0       0        1          0   \n",
       "30            1              1   660015.85      0       0        0          1   \n",
       "34            1              1   239843.39      0       0        0          1   \n",
       "39            1              1   248844.47      0       0        1          0   \n",
       "43            1              0   115117.10      0       1        0          0   \n",
       "46            1              0   253494.70      0       0        0          1   \n",
       "52            0              0   149164.44      0       0        0          1   \n",
       "57            1              0   116651.71      0       1        0          0   \n",
       "59            1              0   359081.73      0       0        0          1   \n",
       "60            0              1   107801.19      0       0        0          1   \n",
       "\n",
       "    female  male  \n",
       "2        1     0  \n",
       "9        1     0  \n",
       "10       0     1  \n",
       "11       0     1  \n",
       "19       1     0  \n",
       "21       1     0  \n",
       "30       1     0  \n",
       "34       0     1  \n",
       "39       1     0  \n",
       "43       0     1  \n",
       "46       1     0  \n",
       "52       1     0  \n",
       "57       1     0  \n",
       "59       1     0  \n",
       "60       1     0  "
      ]
     },
     "execution_count": 18,
     "metadata": {},
     "output_type": "execute_result"
    }
   ],
   "source": [
    "data[data['balance'].isna()].head(15)"
   ]
  },
  {
   "cell_type": "markdown",
   "metadata": {},
   "source": [
    "Проверим не связан ли пропуск с оттоком."
   ]
  },
  {
   "cell_type": "code",
   "execution_count": 19,
   "metadata": {},
   "outputs": [
    {
     "data": {
      "text/plain": [
       "0    2266\n",
       "1      13\n",
       "Name: churn, dtype: int64"
      ]
     },
     "execution_count": 19,
     "metadata": {},
     "output_type": "execute_result"
    }
   ],
   "source": [
    "data[data['balance'].isna()]['churn'].value_counts()"
   ]
  },
  {
   "cell_type": "markdown",
   "metadata": {},
   "source": [
    "Как видим только в 13 значениях пропуск связан с оттоком. Посмотрим на корреляцию пропусков с остальными столбцами."
   ]
  },
  {
   "cell_type": "code",
   "execution_count": 20,
   "metadata": {},
   "outputs": [
    {
     "data": {
      "text/plain": [
       "equity          -0.709036\n",
       "products        -0.486232\n",
       "est_salary       0.306957\n",
       "churn           -0.248984\n",
       "credit_card      0.157637\n",
       "score            0.138762\n",
       "male             0.062844\n",
       "female          -0.062844\n",
       "Ростов          -0.060583\n",
       "Ярославль        0.056104\n",
       "age             -0.028659\n",
       "last_activity    0.028400\n",
       "Рыбинск         -0.014566\n",
       "user_id          0.002417\n",
       "balance               NaN\n",
       "Name: missing, dtype: float64"
      ]
     },
     "execution_count": 20,
     "metadata": {},
     "output_type": "execute_result"
    }
   ],
   "source": [
    "data.assign(missing = data.balance.isna()).corr()['missing'].drop('missing').sort_values(ascending=False,key=abs)"
   ]
  },
  {
   "cell_type": "markdown",
   "metadata": {},
   "source": [
    "Видим множественные корреляции, значит нет возможности выделить какую-либо одну зависимость пропусков от остальных данных, поэтому мы не сможем выделить какой-либо один сегмент с линейной зависимостью и заполнить по ней пропуски. \n",
    "Можно только выделить сильную обратную  корреляцию с отточностью churn, количеством продуктов products и залоговой собственностью equity - это могут быть новые пользователи и поэтому у них ещё нет продуктов, счёта, и оценки собственности.\n",
    "Сильная корреляция с наличием кредитной карты - это могут быть клиенты у которых из продуктов только кредитка и поэтому нет дебетового счёта.\n",
    "\n",
    "Аномальные значения"
   ]
  },
  {
   "cell_type": "markdown",
   "metadata": {},
   "source": [
    "В столбце products есть нулевое значение. Такого быть не должно. Посмотрим что это за клиенты"
   ]
  },
  {
   "cell_type": "code",
   "execution_count": 21,
   "metadata": {},
   "outputs": [
    {
     "data": {
      "text/html": [
       "<div>\n",
       "<style scoped>\n",
       "    .dataframe tbody tr th:only-of-type {\n",
       "        vertical-align: middle;\n",
       "    }\n",
       "\n",
       "    .dataframe tbody tr th {\n",
       "        vertical-align: top;\n",
       "    }\n",
       "\n",
       "    .dataframe thead th {\n",
       "        text-align: right;\n",
       "    }\n",
       "</style>\n",
       "<table border=\"1\" class=\"dataframe\">\n",
       "  <thead>\n",
       "    <tr style=\"text-align: right;\">\n",
       "      <th></th>\n",
       "      <th>user_id</th>\n",
       "      <th>score</th>\n",
       "      <th>city</th>\n",
       "      <th>gender</th>\n",
       "      <th>age</th>\n",
       "      <th>equity</th>\n",
       "      <th>balance</th>\n",
       "      <th>products</th>\n",
       "      <th>credit_card</th>\n",
       "      <th>last_activity</th>\n",
       "      <th>est_salary</th>\n",
       "      <th>churn</th>\n",
       "      <th>Ростов</th>\n",
       "      <th>Рыбинск</th>\n",
       "      <th>Ярославль</th>\n",
       "      <th>female</th>\n",
       "      <th>male</th>\n",
       "    </tr>\n",
       "  </thead>\n",
       "  <tbody>\n",
       "    <tr>\n",
       "      <th>8957</th>\n",
       "      <td>147837</td>\n",
       "      <td>962</td>\n",
       "      <td>Рыбинск</td>\n",
       "      <td>Ж</td>\n",
       "      <td>79</td>\n",
       "      <td>3</td>\n",
       "      <td>NaN</td>\n",
       "      <td>0</td>\n",
       "      <td>0</td>\n",
       "      <td>0</td>\n",
       "      <td>25063.96</td>\n",
       "      <td>1</td>\n",
       "      <td>0</td>\n",
       "      <td>1</td>\n",
       "      <td>0</td>\n",
       "      <td>1</td>\n",
       "      <td>0</td>\n",
       "    </tr>\n",
       "  </tbody>\n",
       "</table>\n",
       "</div>"
      ],
      "text/plain": [
       "      user_id  score     city gender  age  equity  balance  products  \\\n",
       "8957   147837    962  Рыбинск      Ж   79       3      NaN         0   \n",
       "\n",
       "      credit_card  last_activity  est_salary  churn  Ростов  Рыбинск  \\\n",
       "8957            0              0    25063.96      1       0        1   \n",
       "\n",
       "      Ярославль  female  male  \n",
       "8957          0       1     0  "
      ]
     },
     "execution_count": 21,
     "metadata": {},
     "output_type": "execute_result"
    }
   ],
   "source": [
    "data[data['products']==0]"
   ]
  },
  {
   "cell_type": "markdown",
   "metadata": {},
   "source": [
    "Эта единственная клиентка с Рыбинска, которая уже ушла от банка. Удалим эту анамолию. "
   ]
  },
  {
   "cell_type": "code",
   "execution_count": 22,
   "metadata": {},
   "outputs": [],
   "source": [
    "data=data[data['products']!=0]"
   ]
  },
  {
   "cell_type": "markdown",
   "metadata": {},
   "source": [
    "В ходе предобработки данных в столбцах score и age изменили тип данных на соответвующую значениям в столбцах. Полных дубликатов в данных не обнаружилось, но были задвоенные идентификаторы пользователей. Которые решено было оставить без изменений. Так же закодировали столбцы city и gender для дальнейшего проведения анализа. Удалили пропуски в стоблце age, так как их было меньше 1%, а вот пропуски в столбце balance пришлось оставить без изменений. Большое количество, а именно 22.95%, было бы неправильно удалять. Взаимосвязи с каким-либо конкретным признаком не нашлось и поэтому мы не можем заменить эти пропуски, т.к. это приведёт к заметным искажениям.\n"
   ]
  },
  {
   "cell_type": "markdown",
   "metadata": {},
   "source": [
    "\n",
    "В данном случае у нас тип пропуска MNAR  — пропуски зависят от данных, без дополнительного обоснования их нельзя отбрасывать или заполнять одним значением, т.к. это приведёт к заметным искажениям.  "
   ]
  },
  {
   "cell_type": "markdown",
   "metadata": {},
   "source": [
    "##  Исследовательский анализ данных"
   ]
  },
  {
   "cell_type": "markdown",
   "metadata": {},
   "source": [
    "Составим портрет типичного клиента по статусу оттока."
   ]
  },
  {
   "cell_type": "code",
   "execution_count": 23,
   "metadata": {},
   "outputs": [
    {
     "data": {
      "text/html": [
       "<div>\n",
       "<style scoped>\n",
       "    .dataframe tbody tr th:only-of-type {\n",
       "        vertical-align: middle;\n",
       "    }\n",
       "\n",
       "    .dataframe tbody tr th {\n",
       "        vertical-align: top;\n",
       "    }\n",
       "\n",
       "    .dataframe thead tr th {\n",
       "        text-align: left;\n",
       "    }\n",
       "\n",
       "    .dataframe thead tr:last-of-type th {\n",
       "        text-align: right;\n",
       "    }\n",
       "</style>\n",
       "<table border=\"1\" class=\"dataframe\">\n",
       "  <thead>\n",
       "    <tr>\n",
       "      <th></th>\n",
       "      <th colspan=\"2\" halign=\"left\">score</th>\n",
       "      <th colspan=\"2\" halign=\"left\">age</th>\n",
       "      <th colspan=\"2\" halign=\"left\">est_salary</th>\n",
       "      <th colspan=\"2\" halign=\"left\">balance</th>\n",
       "      <th>products</th>\n",
       "      <th>equity</th>\n",
       "      <th>city</th>\n",
       "      <th>gender</th>\n",
       "      <th>credit_card</th>\n",
       "      <th>last_activity</th>\n",
       "      <th>churn</th>\n",
       "    </tr>\n",
       "    <tr>\n",
       "      <th></th>\n",
       "      <th>mean</th>\n",
       "      <th>median</th>\n",
       "      <th>mean</th>\n",
       "      <th>median</th>\n",
       "      <th>mean</th>\n",
       "      <th>median</th>\n",
       "      <th>mean</th>\n",
       "      <th>median</th>\n",
       "      <th>median</th>\n",
       "      <th>median</th>\n",
       "      <th>mode</th>\n",
       "      <th>mode</th>\n",
       "      <th>mean</th>\n",
       "      <th>mean</th>\n",
       "      <th>count</th>\n",
       "    </tr>\n",
       "    <tr>\n",
       "      <th>churn</th>\n",
       "      <th></th>\n",
       "      <th></th>\n",
       "      <th></th>\n",
       "      <th></th>\n",
       "      <th></th>\n",
       "      <th></th>\n",
       "      <th></th>\n",
       "      <th></th>\n",
       "      <th></th>\n",
       "      <th></th>\n",
       "      <th></th>\n",
       "      <th></th>\n",
       "      <th></th>\n",
       "      <th></th>\n",
       "      <th></th>\n",
       "    </tr>\n",
       "  </thead>\n",
       "  <tbody>\n",
       "    <tr>\n",
       "      <th>0</th>\n",
       "      <td>845.396199</td>\n",
       "      <td>848.0</td>\n",
       "      <td>43.020846</td>\n",
       "      <td>40.0</td>\n",
       "      <td>147674.637881</td>\n",
       "      <td>118227.60</td>\n",
       "      <td>7.330316e+05</td>\n",
       "      <td>475410.09</td>\n",
       "      <td>2</td>\n",
       "      <td>3</td>\n",
       "      <td>Ярославль</td>\n",
       "      <td>Ж</td>\n",
       "      <td>0.708890</td>\n",
       "      <td>0.482894</td>\n",
       "      <td>8155</td>\n",
       "    </tr>\n",
       "    <tr>\n",
       "      <th>1</th>\n",
       "      <td>863.361936</td>\n",
       "      <td>866.0</td>\n",
       "      <td>41.429593</td>\n",
       "      <td>39.0</td>\n",
       "      <td>148357.483157</td>\n",
       "      <td>125408.88</td>\n",
       "      <td>1.134458e+06</td>\n",
       "      <td>783908.90</td>\n",
       "      <td>2</td>\n",
       "      <td>4</td>\n",
       "      <td>Ярославль</td>\n",
       "      <td>М</td>\n",
       "      <td>0.551705</td>\n",
       "      <td>0.702420</td>\n",
       "      <td>1818</td>\n",
       "    </tr>\n",
       "  </tbody>\n",
       "</table>\n",
       "</div>"
      ],
      "text/plain": [
       "            score               age            est_salary             \\\n",
       "             mean median       mean median           mean     median   \n",
       "churn                                                                  \n",
       "0      845.396199  848.0  43.020846   40.0  147674.637881  118227.60   \n",
       "1      863.361936  866.0  41.429593   39.0  148357.483157  125408.88   \n",
       "\n",
       "            balance            products equity       city gender credit_card  \\\n",
       "               mean     median   median median       mode   mode        mean   \n",
       "churn                                                                          \n",
       "0      7.330316e+05  475410.09        2      3  Ярославль      Ж    0.708890   \n",
       "1      1.134458e+06  783908.90        2      4  Ярославль      М    0.551705   \n",
       "\n",
       "      last_activity churn  \n",
       "               mean count  \n",
       "churn                      \n",
       "0          0.482894  8155  \n",
       "1          0.702420  1818  "
      ]
     },
     "execution_count": 23,
     "metadata": {},
     "output_type": "execute_result"
    }
   ],
   "source": [
    "data_churn = data.groupby('churn').agg({'score': ['mean', 'median'], 'age': ['mean', 'median'], 'est_salary': ['mean', 'median'],\n",
    "'balance': ['mean', 'median'], 'products': 'median', 'equity': 'median',\n",
    "'city': pd.Series.mode, 'gender' : pd.Series.mode,\n",
    "'credit_card' : 'mean', 'last_activity' : 'mean', \n",
    "'churn' : 'count'})\n",
    "data_churn"
   ]
  },
  {
   "cell_type": "markdown",
   "metadata": {},
   "source": [
    "Какие выводы можно сделать:\n",
    "- количество баллов собственности у ушедших клиентов больше;\n",
    "- продуктов равны;\n",
    "- кредитных карт у ушедших меньше;\n",
    "- активность у ушедших клиентов ниже;\n",
    "- по городам отток выше у Ярославля;\n",
    "- женщины меньше уходят мужчин;\n",
    "- баллы кредитного скоринга можно сказать одинаковое;\n",
    "- средний возраст тоже несильно отличается;\n",
    "- баланс на счете выше у отточных клиентов;\n",
    "- доход незначительно выше у ушедших клиентов."
   ]
  },
  {
   "cell_type": "code",
   "execution_count": 24,
   "metadata": {},
   "outputs": [
    {
     "data": {
      "text/html": [
       "<div>\n",
       "<style scoped>\n",
       "    .dataframe tbody tr th:only-of-type {\n",
       "        vertical-align: middle;\n",
       "    }\n",
       "\n",
       "    .dataframe tbody tr th {\n",
       "        vertical-align: top;\n",
       "    }\n",
       "\n",
       "    .dataframe thead th {\n",
       "        text-align: right;\n",
       "    }\n",
       "</style>\n",
       "<table border=\"1\" class=\"dataframe\">\n",
       "  <thead>\n",
       "    <tr style=\"text-align: right;\">\n",
       "      <th></th>\n",
       "      <th></th>\n",
       "      <th>Не отточные</th>\n",
       "      <th>Отточные</th>\n",
       "      <th>Относительная разница %</th>\n",
       "    </tr>\n",
       "  </thead>\n",
       "  <tbody>\n",
       "    <tr>\n",
       "      <th>churn</th>\n",
       "      <th>count</th>\n",
       "      <td>8155</td>\n",
       "      <td>1818</td>\n",
       "      <td>-77.706928</td>\n",
       "    </tr>\n",
       "    <tr>\n",
       "      <th>credit_card</th>\n",
       "      <th>mean</th>\n",
       "      <td>0.70889</td>\n",
       "      <td>0.551705</td>\n",
       "      <td>-22.173401</td>\n",
       "    </tr>\n",
       "    <tr>\n",
       "      <th rowspan=\"2\" valign=\"top\">age</th>\n",
       "      <th>mean</th>\n",
       "      <td>43.020846</td>\n",
       "      <td>41.429593</td>\n",
       "      <td>-3.698796</td>\n",
       "    </tr>\n",
       "    <tr>\n",
       "      <th>median</th>\n",
       "      <td>40.0</td>\n",
       "      <td>39.0</td>\n",
       "      <td>-2.5</td>\n",
       "    </tr>\n",
       "    <tr>\n",
       "      <th>products</th>\n",
       "      <th>median</th>\n",
       "      <td>2</td>\n",
       "      <td>2</td>\n",
       "      <td>0.0</td>\n",
       "    </tr>\n",
       "    <tr>\n",
       "      <th>est_salary</th>\n",
       "      <th>mean</th>\n",
       "      <td>147674.637881</td>\n",
       "      <td>148357.483157</td>\n",
       "      <td>0.462398</td>\n",
       "    </tr>\n",
       "    <tr>\n",
       "      <th rowspan=\"2\" valign=\"top\">score</th>\n",
       "      <th>median</th>\n",
       "      <td>848.0</td>\n",
       "      <td>866.0</td>\n",
       "      <td>2.122642</td>\n",
       "    </tr>\n",
       "    <tr>\n",
       "      <th>mean</th>\n",
       "      <td>845.396199</td>\n",
       "      <td>863.361936</td>\n",
       "      <td>2.125126</td>\n",
       "    </tr>\n",
       "    <tr>\n",
       "      <th>est_salary</th>\n",
       "      <th>median</th>\n",
       "      <td>118227.6</td>\n",
       "      <td>125408.88</td>\n",
       "      <td>6.074115</td>\n",
       "    </tr>\n",
       "    <tr>\n",
       "      <th>equity</th>\n",
       "      <th>median</th>\n",
       "      <td>3</td>\n",
       "      <td>4</td>\n",
       "      <td>33.333333</td>\n",
       "    </tr>\n",
       "    <tr>\n",
       "      <th>last_activity</th>\n",
       "      <th>mean</th>\n",
       "      <td>0.482894</td>\n",
       "      <td>0.70242</td>\n",
       "      <td>45.460566</td>\n",
       "    </tr>\n",
       "    <tr>\n",
       "      <th rowspan=\"2\" valign=\"top\">balance</th>\n",
       "      <th>mean</th>\n",
       "      <td>733031.630149</td>\n",
       "      <td>1134458.209291</td>\n",
       "      <td>54.762518</td>\n",
       "    </tr>\n",
       "    <tr>\n",
       "      <th>median</th>\n",
       "      <td>475410.09</td>\n",
       "      <td>783908.9</td>\n",
       "      <td>64.891094</td>\n",
       "    </tr>\n",
       "  </tbody>\n",
       "</table>\n",
       "</div>"
      ],
      "text/plain": [
       "                        Не отточные        Отточные Относительная разница %\n",
       "churn         count            8155            1818              -77.706928\n",
       "credit_card   mean          0.70889        0.551705              -22.173401\n",
       "age           mean        43.020846       41.429593               -3.698796\n",
       "              median           40.0            39.0                    -2.5\n",
       "products      median              2               2                     0.0\n",
       "est_salary    mean    147674.637881   148357.483157                0.462398\n",
       "score         median          848.0           866.0                2.122642\n",
       "              mean       845.396199      863.361936                2.125126\n",
       "est_salary    median       118227.6       125408.88                6.074115\n",
       "equity        median              3               4               33.333333\n",
       "last_activity mean         0.482894         0.70242               45.460566\n",
       "balance       mean    733031.630149  1134458.209291               54.762518\n",
       "              median      475410.09        783908.9               64.891094"
      ]
     },
     "execution_count": 24,
     "metadata": {},
     "output_type": "execute_result"
    }
   ],
   "source": [
    "# сравним центральные тенденции характеристик отточных и неотточных клиентов\n",
    "data_churn=data_churn.drop(['city', 'gender'], axis=1)\n",
    "pd.concat({'Не отточные': data_churn.iloc[0],\n",
    "    'Отточные': data_churn.iloc[1],\n",
    "    'Относительная разница %':(data_churn.iloc[1]/data_churn.iloc[0]-1)*100},\n",
    "    axis=1).sort_values('Относительная разница %')"
   ]
  },
  {
   "cell_type": "markdown",
   "metadata": {},
   "source": [
    "Наиболее сильная отточность проявляется в balance, credit_card и last_activity. \n",
    "\n",
    "Посмотрим отточность по городам"
   ]
  },
  {
   "cell_type": "code",
   "execution_count": 25,
   "metadata": {},
   "outputs": [
    {
     "data": {
      "text/plain": [
       "city\n",
       "Ростов       14.198336\n",
       "Рыбинск      26.892610\n",
       "Ярославль    58.909054\n",
       "Name: user_id, dtype: float64"
      ]
     },
     "execution_count": 25,
     "metadata": {},
     "output_type": "execute_result"
    }
   ],
   "source": [
    "data.groupby('city')['user_id'].count()/data['user_id'].count()*100"
   ]
  },
  {
   "cell_type": "markdown",
   "metadata": {},
   "source": [
    "Больше всего клиентов в Ярославле. В Ростове меньше всего клиентов, а Рыбинск занял среднюю позицию в данном рейтинге."
   ]
  },
  {
   "cell_type": "code",
   "execution_count": 26,
   "metadata": {},
   "outputs": [
    {
     "data": {
      "image/png": "[encoded data removed]",
      "text/plain": [
       "<Figure size 720x216 with 3 Axes>"
      ]
     },
     "metadata": {},
     "output_type": "display_data"
    }
   ],
   "source": [
    "figure, axis = plt.subplots(1,3, figsize=(10, 3))\n",
    "figure.suptitle(\"Уровень отточных клиентов в разных городах\");\n",
    "\n",
    "data.groupby('churn').agg({'Ростов': 'sum'}).plot(ax=axis[0],kind='pie',y='Ростов',autopct='%0.1f%%',legend=False,labeldistance=None);\n",
    "data.groupby('churn').agg({'Рыбинск': 'sum'}).plot(ax=axis[1],kind='pie',y='Рыбинск',autopct='%0.1f%%',legend=False,labeldistance=None);\n",
    "data.groupby('churn').agg({'Ярославль': 'sum'}).plot(ax=axis[2],kind='pie',y='Ярославль',autopct='%0.1f%%',legend=False,labeldistance=None);\n",
    "axis[2].legend(['Неотточных','Отточных'], bbox_to_anchor=(1, 1.02), loc='upper left')\n",
    "plt.show()"
   ]
  },
  {
   "cell_type": "markdown",
   "metadata": {},
   "source": [
    "Доля ушедших клиентов не сильно отличается по городам. В Ярославле больше всего ушедших, затем в Ростове и меньше всего в Рыбинске.  В целом отток во всех городах примерно одинаковый\n",
    "\n",
    "Изучим распределение по гендеру."
   ]
  },
  {
   "cell_type": "code",
   "execution_count": 27,
   "metadata": {},
   "outputs": [
    {
     "data": {
      "text/plain": [
       "gender\n",
       "Ж    35.0\n",
       "М    65.0\n",
       "Name: user_id, dtype: float64"
      ]
     },
     "execution_count": 27,
     "metadata": {},
     "output_type": "execute_result"
    }
   ],
   "source": [
    "gender=(data.query('churn==1').groupby('gender')['user_id'].count()/data['churn'].sum()*100).round()\n",
    "gender"
   ]
  },
  {
   "cell_type": "code",
   "execution_count": 28,
   "metadata": {},
   "outputs": [
    {
     "data": {
      "image/png": "[encoded data removed]",
      "text/plain": [
       "<Figure size 576x432 with 1 Axes>"
      ]
     },
     "metadata": {
      "needs_background": "light"
     },
     "output_type": "display_data"
    }
   ],
   "source": [
    "gender.plot(\n",
    "    kind='bar', title = 'Процент ушедших клиентов в разбивке по полу',\n",
    "    xlabel = 'Пол клиента', ylabel = 'Процент ушедших клиентов', figsize = (8,6),\n",
    "    color=['darkblue', 'forestgreen']);"
   ]
  },
  {
   "cell_type": "markdown",
   "metadata": {},
   "source": [
    "Женщины показывают почти в два раза меньший процент оттока клиентов, чем мужчины.\n",
    "\n",
    "Посмотрим на отток по возрасту."
   ]
  },
  {
   "cell_type": "code",
   "execution_count": 29,
   "metadata": {},
   "outputs": [],
   "source": [
    "# создадим функцию age_cat для распределения клиентов по возрастным группам\n",
    "\n",
    "def age_cat(age):\n",
    "    if 18 <= age <= 24:\n",
    "        return '18-24'\n",
    "    if 25 <= age <= 35:\n",
    "        return '25-35'\n",
    "    if 36 <= age <= 50:\n",
    "        return '36-50'\n",
    "    if 51 <= age <= 60:\n",
    "        return '51-60'\n",
    "    if 61 <= age:\n",
    "        return '60+'\n",
    "    \n",
    "data['age_cat'] = data['age'].apply (age_cat)"
   ]
  },
  {
   "cell_type": "code",
   "execution_count": 30,
   "metadata": {},
   "outputs": [
    {
     "data": {
      "text/html": [
       "<div>\n",
       "<style scoped>\n",
       "    .dataframe tbody tr th:only-of-type {\n",
       "        vertical-align: middle;\n",
       "    }\n",
       "\n",
       "    .dataframe tbody tr th {\n",
       "        vertical-align: top;\n",
       "    }\n",
       "\n",
       "    .dataframe thead th {\n",
       "        text-align: right;\n",
       "    }\n",
       "</style>\n",
       "<table border=\"1\" class=\"dataframe\">\n",
       "  <thead>\n",
       "    <tr style=\"text-align: right;\">\n",
       "      <th></th>\n",
       "      <th>count</th>\n",
       "    </tr>\n",
       "    <tr>\n",
       "      <th>age_cat</th>\n",
       "      <th></th>\n",
       "    </tr>\n",
       "  </thead>\n",
       "  <tbody>\n",
       "    <tr>\n",
       "      <th>36-50</th>\n",
       "      <td>4072</td>\n",
       "    </tr>\n",
       "    <tr>\n",
       "      <th>25-35</th>\n",
       "      <td>3055</td>\n",
       "    </tr>\n",
       "    <tr>\n",
       "      <th>51-60</th>\n",
       "      <td>1578</td>\n",
       "    </tr>\n",
       "    <tr>\n",
       "      <th>60+</th>\n",
       "      <td>1032</td>\n",
       "    </tr>\n",
       "    <tr>\n",
       "      <th>18-24</th>\n",
       "      <td>236</td>\n",
       "    </tr>\n",
       "  </tbody>\n",
       "</table>\n",
       "</div>"
      ],
      "text/plain": [
       "         count\n",
       "age_cat       \n",
       "36-50     4072\n",
       "25-35     3055\n",
       "51-60     1578\n",
       "60+       1032\n",
       "18-24      236"
      ]
     },
     "execution_count": 30,
     "metadata": {},
     "output_type": "execute_result"
    }
   ],
   "source": [
    "churn_age = data.pivot_table (index = 'age_cat', values = 'churn', aggfunc =['count'])\n",
    "churn_age.columns = churn_age.columns.droplevel(level=1)\n",
    "churn_age.sort_values(by='count', ascending=False) "
   ]
  },
  {
   "cell_type": "markdown",
   "metadata": {},
   "source": [
    "Наиболее отточные группы 36-50 лет, менее 18-24."
   ]
  },
  {
   "cell_type": "code",
   "execution_count": 31,
   "metadata": {},
   "outputs": [
    {
     "data": {
      "image/png": "[encoded data removed]",
      "text/plain": [
       "<Figure size 720x360 with 1 Axes>"
      ]
     },
     "metadata": {
      "needs_background": "light"
     },
     "output_type": "display_data"
    }
   ],
   "source": [
    "plt.figure(figsize=(10,5))\n",
    "sns.histplot(data[data['churn'] == 0]['age'], discrete=True, stat='density', common_norm=False, color='green');\n",
    "sns.histplot(data[data['churn'] == 1]['age'], discrete=True, stat='density', common_norm=False, color='coral');\n",
    "plt.legend(['Не отточные', 'Отточные'])\n",
    "plt.title('Отток клиентов по возрасту')\n",
    "plt.xlabel('Возраст')\n",
    "plt.ylabel('Количество клиентов')\n",
    "plt.show()"
   ]
  },
  {
   "cell_type": "markdown",
   "metadata": {},
   "source": [
    "По графику видим, что пик оттока приходится на возраст примерно с 25 до 45 лет. Далее идет небольшой спад и затем в возрасте от 53 снова наблюдается рост оттока.\n",
    "\n",
    "Теперь посмотрим на баланс ушедших клиентов."
   ]
  },
  {
   "cell_type": "code",
   "execution_count": 32,
   "metadata": {},
   "outputs": [
    {
     "data": {
      "image/png": "[encoded data removed]",
      "text/plain": [
       "<Figure size 720x360 with 1 Axes>"
      ]
     },
     "metadata": {
      "needs_background": "light"
     },
     "output_type": "display_data"
    }
   ],
   "source": [
    "plt.figure(figsize=(10,5))\n",
    "sns.kdeplot(data[data['churn'] == 0]['balance'], clip=(0.0, 2000000.0), common_norm=False, color='green')\n",
    "sns.kdeplot(data[data['churn'] == 1]['balance'], clip=(0.0, 2000000.0), common_norm=False, color='red')\n",
    "plt.legend(['Не отточные', 'Отточные'])\n",
    "plt.title('Отток ушедших клиентов по балансу')\n",
    "plt.xlabel('Баланс')\n",
    "plt.ylabel('Количество клиентов')\n",
    "plt.show()"
   ]
  },
  {
   "cell_type": "markdown",
   "metadata": {},
   "source": [
    "Каких-либо пиковых значений на нашем графике нет. В начале идем небольшой рост, далее по мере возрастания дохода снижается отток.\n",
    "\n",
    "Отток клиентов по доходу."
   ]
  },
  {
   "cell_type": "code",
   "execution_count": 33,
   "metadata": {},
   "outputs": [
    {
     "data": {
      "image/png": "[encoded data removed]",
      "text/plain": [
       "<Figure size 720x360 with 1 Axes>"
      ]
     },
     "metadata": {
      "needs_background": "light"
     },
     "output_type": "display_data"
    }
   ],
   "source": [
    "plt.figure(figsize=(10,5))\n",
    "sns.kdeplot(data[data['churn'] == 0]['est_salary'], clip=(0.0, 2000000.0), common_norm=False, color='green')\n",
    "sns.kdeplot(data[data['churn'] == 1]['est_salary'], clip=(0.0, 2000000.0), common_norm=False, color='red')\n",
    "plt.legend(['Не отточные', 'Отточные'])\n",
    "plt.title('Отток клиентов по доходу')\n",
    "plt.xlabel('Доход')\n",
    "plt.ylabel('Количество клиентов')\n",
    "plt.show()"
   ]
  },
  {
   "cell_type": "markdown",
   "metadata": {},
   "source": [
    "По данному графику видим, что по доходу отточные и не отточные клиенты находятся на одном уровне.\n",
    "\n",
    "Визуалируем теперь остальные признаки по оттоку."
   ]
  },
  {
   "cell_type": "code",
   "execution_count": 34,
   "metadata": {},
   "outputs": [
    {
     "data": {
      "image/png": "[encoded data removed]",
      "text/plain": [
       "<Figure size 576x432 with 1 Axes>"
      ]
     },
     "metadata": {
      "needs_background": "light"
     },
     "output_type": "display_data"
    },
    {
     "data": {
      "image/png": "[encoded data removed]",
      "text/plain": [
       "<Figure size 576x432 with 1 Axes>"
      ]
     },
     "metadata": {
      "needs_background": "light"
     },
     "output_type": "display_data"
    },
    {
     "data": {
      "image/png": "[encoded data removed]",
      "text/plain": [
       "<Figure size 576x432 with 1 Axes>"
      ]
     },
     "metadata": {
      "needs_background": "light"
     },
     "output_type": "display_data"
    },
    {
     "data": {
      "image/png": "[encoded data removed]",
      "text/plain": [
       "<Figure size 576x432 with 1 Axes>"
      ]
     },
     "metadata": {
      "needs_background": "light"
     },
     "output_type": "display_data"
    }
   ],
   "source": [
    "churn_mean=data['churn'].mean()\n",
    "\n",
    "for column in ['credit_card', 'equity', 'last_activity', 'products']:\n",
    "    levels=data.groupby(column).agg({'churn': 'mean'}).reset_index()\n",
    "    plt.figure(figsize=(8, 6))\n",
    "    sns.barplot(data=levels, x=column, y='churn')\n",
    "    plt.title(f\"Распределение признака {column} по оттоку\")\n",
    "    plt.xlabel(column)\n",
    "    plt.ylabel('Количество клиентов')\n",
    "    plt.axhline(y=churn_mean, color='red', linestyle='--') \n",
    "    plt.show()"
   ]
  },
  {
   "cell_type": "markdown",
   "metadata": {},
   "source": [
    "Отток клиентов по баллу скоринга."
   ]
  },
  {
   "cell_type": "code",
   "execution_count": 35,
   "metadata": {
    "scrolled": true
   },
   "outputs": [
    {
     "data": {
      "image/png": "[encoded data removed]",
      "text/plain": [
       "<Figure size 720x360 with 1 Axes>"
      ]
     },
     "metadata": {
      "needs_background": "light"
     },
     "output_type": "display_data"
    }
   ],
   "source": [
    "plt.figure(figsize=(10,5))\n",
    "sns.histplot(data[data['churn'] == 0]['score'], discrete=True, stat='density', common_norm=False, color='green');\n",
    "sns.histplot(data[data['churn'] == 1]['score'], discrete=True, stat='density', common_norm=False, color='coral');\n",
    "plt.legend(['Не отточные', 'Отточные'])\n",
    "plt.title('Отток клиентов по баллу скоринга')\n",
    "plt.xlabel('Балл')\n",
    "plt.ylabel('Количество клиентов')\n",
    "plt.show()"
   ]
  },
  {
   "cell_type": "code",
   "execution_count": 36,
   "metadata": {},
   "outputs": [
    {
     "data": {
      "image/png": "[encoded data removed]",
      "text/plain": [
       "<Figure size 720x216 with 2 Axes>"
      ]
     },
     "metadata": {},
     "output_type": "display_data"
    }
   ],
   "source": [
    "figure, axis = plt.subplots(1,2, figsize=(10, 3))\n",
    "figure.suptitle(\"Уровень отточных клиентов в разрезе использования кредитки\");\n",
    "\n",
    "churn_level=data.groupby(['credit_card']).agg({'churn':'mean'})['churn']\n",
    "axis[1].pie(x=[1 - churn_level.loc[0],churn_level.loc[0]],autopct='%.0f%%')\n",
    "axis[0].pie(x=[1 - churn_level.loc[1],churn_level.loc[1]],autopct='%.0f%%')\n",
    "axis[1].legend(['Остались','Ушли'], bbox_to_anchor=(1, 1.02), loc='upper left')\n",
    "axis[0].set(ylabel='С кредиткой')\n",
    "axis[1].set(ylabel='Без кредитки')\n",
    "plt.show()"
   ]
  },
  {
   "cell_type": "code",
   "execution_count": 37,
   "metadata": {},
   "outputs": [
    {
     "data": {
      "image/png": "[encoded data removed]",
      "text/plain": [
       "<Figure size 720x216 with 2 Axes>"
      ]
     },
     "metadata": {},
     "output_type": "display_data"
    }
   ],
   "source": [
    "figure, axis = plt.subplots(1,2, figsize=(10, 3))\n",
    "figure.suptitle(\"Уровень отточных клиентов по в разрезе активности\");\n",
    "\n",
    "churn_level=data.groupby(['last_activity']).agg({'churn':'mean'})['churn']\n",
    "axis[1].pie(x=[1 - churn_level.loc[0],churn_level.loc[0]],autopct='%.0f%%')\n",
    "axis[0].pie(x=[1 - churn_level.loc[1],churn_level.loc[1]],autopct='%.0f%%')\n",
    "axis[1].legend(['Остались','Ушли'], bbox_to_anchor=(1, 1.02), loc='upper left')\n",
    "axis[0].set(ylabel='Активные')\n",
    "axis[1].set(ylabel='Не активные')\n",
    "plt.show()"
   ]
  },
  {
   "cell_type": "markdown",
   "metadata": {},
   "source": [
    "Выделим, на основе получившихся графиков, признаки оказывающие наибольшее влияние на отток клиентов:\n",
    "\n",
    "- баллы кредитного рейтинга от 820 до 910\n",
    "- баланс от 950K\n",
    "- оценочный доход клиента от 100K до 230K\n",
    "- возраст от 25 до 35 либо от 50 до 60\n",
    "- баллов собственности больше или равно 3\n",
    "- продуктов больше или равно 2\n",
    "- пол больше мужчин\n",
    "- кредитной карты нет\n",
    "- активен \n",
    "\n",
    "Построим матрицу корреляций признаков клиентов."
   ]
  },
  {
   "cell_type": "code",
   "execution_count": 38,
   "metadata": {},
   "outputs": [
    {
     "data": {
      "image/png": "[encoded data removed]",
      "text/plain": [
       "<Figure size 864x864 with 2 Axes>"
      ]
     },
     "metadata": {
      "needs_background": "light"
     },
     "output_type": "display_data"
    }
   ],
   "source": [
    "cm = data.drop('user_id', axis=1).corr()\n",
    "fig, test = plt.subplots()\n",
    "test.set_title('Корреляция признаков клиентов банка')\n",
    "fig.set_figheight(12)\n",
    "fig.set_figwidth(12)\n",
    "sns.heatmap(cm, annot = True, square=True)\n",
    "plt.show()"
   ]
  },
  {
   "cell_type": "markdown",
   "metadata": {},
   "source": [
    "Судя по матрице, признаки практически не коррелируют между собой. Слабая положительная корреляция наблюдается между оттоком и возрастом. Слабая отрицательная связь видна у оттока и показателя активности клиента. Интересная, но слабая корреляция оттока по полу - для мужчин отрицательная, для женщин положительная. Слабая положительная корреляция между оттоком и городом Ростов и слабая отрицательная между оттоком и городом Ярославль."
   ]
  },
  {
   "cell_type": "markdown",
   "metadata": {},
   "source": [
    "##  Проверка статистических гипотез"
   ]
  },
  {
   "cell_type": "markdown",
   "metadata": {},
   "source": [
    "Проверим гипотезу различия дохода между теми клиентами, которые ушли и теми, которые остались.\n",
    "\n",
    "H_0: доходы оставшихся и отточных клиентов равны;\n",
    "\n",
    "H_1: доходы оставшихся и отточных клиентов не равны.\n",
    "\n",
    "Для проверки гипотезы проведем t-test и u-test\n",
    "alpha = 0.05 # критический уровень статистической значимости"
   ]
  },
  {
   "cell_type": "code",
   "execution_count": 39,
   "metadata": {},
   "outputs": [
    {
     "data": {
      "text/plain": [
       "<AxesSubplot:xlabel='est_salary', ylabel='Count'>"
      ]
     },
     "execution_count": 39,
     "metadata": {},
     "output_type": "execute_result"
    },
    {
     "data": {
      "image/png": "[encoded data removed]",
      "text/plain": [
       "<Figure size 432x288 with 1 Axes>"
      ]
     },
     "metadata": {
      "needs_background": "light"
     },
     "output_type": "display_data"
    }
   ],
   "source": [
    "a = data[data['churn'] == 1]['est_salary']\n",
    "b = data[data['churn'] == 0]['est_salary']\n",
    "sns.histplot(data[data['churn'] == 0]['est_salary'])\n",
    "sns.histplot(data[data['churn'] == 1]['est_salary'])"
   ]
  },
  {
   "cell_type": "code",
   "execution_count": 40,
   "metadata": {},
   "outputs": [
    {
     "name": "stdout",
     "output_type": "stream",
     "text": [
      "p-значение:  0.0\n",
      "Распределение не нормально\n"
     ]
    }
   ],
   "source": [
    "# проведём тест на соотвествие данных о доходах отточных клиентов нормальному распределеню\n",
    "\n",
    "alpha = 0.05  # критический уровень статистической значимости\n",
    "\n",
    "shapiro_test_stat, p_value = st.shapiro(a)\n",
    "\n",
    "print('p-значение: ', p_value)\n",
    "if p_value < alpha:\n",
    "    print('Распределение не нормально')\n",
    "else:\n",
    "    print('Нормальное распределение')  "
   ]
  },
  {
   "cell_type": "code",
   "execution_count": 41,
   "metadata": {},
   "outputs": [
    {
     "name": "stdout",
     "output_type": "stream",
     "text": [
      "p-значение:  0.0\n",
      "Распределение не нормально\n"
     ]
    },
    {
     "name": "stderr",
     "output_type": "stream",
     "text": [
      "/opt/conda/lib/python3.9/site-packages/scipy/stats/_morestats.py:1800: UserWarning: p-value may not be accurate for N > 5000.\n",
      "  warnings.warn(\"p-value may not be accurate for N > 5000.\")\n"
     ]
    }
   ],
   "source": [
    "# проведём тест на соотвествие данных о доходах неотточных клиентов нормальному распределеню\n",
    "\n",
    "alpha = 0.05  # критический уровень статистической значимости\n",
    "\n",
    "shapiro_test_stat, p_value = st.shapiro(b)\n",
    "\n",
    "print('p-значение: ', p_value)\n",
    "if p_value < alpha:\n",
    "    print('Распределение не нормально')\n",
    "else:\n",
    "    print('Нормальное распределение') "
   ]
  },
  {
   "cell_type": "code",
   "execution_count": 42,
   "metadata": {},
   "outputs": [
    {
     "name": "stdout",
     "output_type": "stream",
     "text": [
      "20358839437.943962\n",
      "15112272166.883385\n"
     ]
    }
   ],
   "source": [
    "# оценим дисперсии\n",
    "\n",
    "print(data[data['churn'] == 0]['est_salary'].var())\n",
    "print(data[data['churn'] == 1]['est_salary'].var())"
   ]
  },
  {
   "cell_type": "markdown",
   "metadata": {},
   "source": [
    "Как видим выборки не подходят для проведения t-testa, так как генеральные совокупности не зависят друг от друга;\n",
    "распределение значений не является нормальным; дисперсии не равны.\n",
    "\n",
    "При отсутствии нормального распределения сравниваемых выборок вместо t-критерия Стьюдента используются аналогичные методы непараметрической статистики, среди которых наиболее известными является U-критерий Манна — Уитни.\n"
   ]
  },
  {
   "cell_type": "code",
   "execution_count": 43,
   "metadata": {},
   "outputs": [
    {
     "name": "stdout",
     "output_type": "stream",
     "text": [
      "p-значение:  0.00016830729188229058\n",
      "Отвергаем нулевую гипотезу\n"
     ]
    }
   ],
   "source": [
    "# проведем u-test\n",
    "\n",
    "alpha = 0.05  \n",
    "\n",
    "results = st.mannwhitneyu(a, b)\n",
    "\n",
    "print('p-значение: ', results.pvalue)\n",
    "\n",
    "if results.pvalue < alpha:\n",
    "    print('Отвергаем нулевую гипотезу')\n",
    "else:\n",
    "    print(\n",
    "        'Не получилось отвергнуть нулевую гипотезу'\n",
    "    ) "
   ]
  },
  {
   "cell_type": "markdown",
   "metadata": {},
   "source": [
    "Таким образом, отвергаем нулевую гипотезу, доходы оставшихся и отточных клиентов не равны.\n",
    "\n",
    "Гипотеза различия количества используемых банковских продуктов между теми клиентами, которые ушли и теми, которые остались.\n",
    "\n",
    "H₀: среднее количество используемых банковских продуктов оставшихся и отточных клиентов равны\n",
    "\n",
    "H₁: среднее количество используемых банковских продуктов оставшихся и отточных клиентов не равны\n",
    "\n",
    "Для проверки гипотезы о равенстве среднего двух генеральных совокупностей по взятым из них выборкам используем t-тест: scipy.stats.ttest_ind(array1, array2, egual_var). Уровень статитсической значимости возьмем 0.05"
   ]
  },
  {
   "cell_type": "code",
   "execution_count": 44,
   "metadata": {},
   "outputs": [
    {
     "name": "stdout",
     "output_type": "stream",
     "text": [
      "1.2671065900765871e-138\n",
      "Отвергаем нулевую гипотезу\n"
     ]
    }
   ],
   "source": [
    "hyp = st.ttest_ind (\n",
    "    data[data['churn']==0]['products'],\n",
    "    data[data['churn']==1]['products'], equal_var = False)\n",
    "\n",
    "alpha = 0.05\n",
    "\n",
    "print (hyp.pvalue)\n",
    "\n",
    "if hyp.pvalue < alpha:\n",
    "    print ('Отвергаем нулевую гипотезу')\n",
    "else:\n",
    "    print ('Не получилось отвергнуть нулевую гипотезу')"
   ]
  },
  {
   "cell_type": "markdown",
   "metadata": {},
   "source": [
    "Результаты t-теста указывают на то, что нулевая гипотеза о равенстве количества используемых банковских продуктов для разных групп клиентов должна быть отвергнута."
   ]
  },
  {
   "cell_type": "markdown",
   "metadata": {},
   "source": [
    "## Сегменты клиентов"
   ]
  },
  {
   "cell_type": "markdown",
   "metadata": {},
   "source": [
    "Для предотвращения оттока выделим сегменты наиболее склонные к оттоку.\n",
    "\n",
    "Сегмент №1\n",
    "- Возраст 52 и более лет\n",
    "- Баланс менее 800000\n",
    "- Кредитный рейтинг более 825\n",
    "- Активный"
   ]
  },
  {
   "cell_type": "code",
   "execution_count": 45,
   "metadata": {},
   "outputs": [
    {
     "name": "stdout",
     "output_type": "stream",
     "text": [
      "Число пользователей в 1 сегменте - 951\n",
      "Число отточных пользователей в 1 сегменте - 395\n",
      "Доля отточных пользователей в 1 сегменте - 71.04\n"
     ]
    }
   ],
   "source": [
    "print ('Число пользователей в 1 сегменте -', data.query (\n",
    "    'age < 52 and balance < 800000 and score > 825 and last_activity == 1')['user_id'].count())\n",
    "\n",
    "print ('Число отточных пользователей в 1 сегменте -', data.query (\n",
    "    'age < 52 and balance < 800000 and score > 825 and last_activity == 1 and churn == 1')['user_id'].count())\n",
    "\n",
    "print ('Доля отточных пользователей в 1 сегменте -', (data.query (\n",
    "    'age < 52 and balance < 800000 and score > 825  and last_activity == 1 and churn == 1')['user_id'].count() / data.query (\n",
    "    'age < 52 and balance < 800000 and score > 825 and last_activity == 1 and churn == 0')['user_id'].count()*100).round(2))"
   ]
  },
  {
   "cell_type": "markdown",
   "metadata": {},
   "source": [
    "Этому сегменту можно предложить целевой кредит для пенсионеров.\n",
    "\n",
    "Сегмент №2\n",
    "- Возраст от 27 до 43 лет\n",
    "- Баланс более 950,000\n",
    "- Баллы собственности более 3"
   ]
  },
  {
   "cell_type": "code",
   "execution_count": 46,
   "metadata": {},
   "outputs": [
    {
     "name": "stdout",
     "output_type": "stream",
     "text": [
      "Число пользователей во 2 сегменте - 934\n",
      "Число отточных пользователей во 2 сегменте - 404\n",
      "Доля отточных пользователей во 2 сегменте - 76.23\n"
     ]
    }
   ],
   "source": [
    "print ('Число пользователей во 2 сегменте -', data.query (\n",
    "    '27 <= age <= 43 and equity >= 3 and balance > 950000')['user_id'].count())\n",
    "\n",
    "print ('Число отточных пользователей во 2 сегменте -', data.query (\n",
    "    '27 <= age <= 43 and equity >= 3 and balance > 950000 and churn == 1')['user_id'].count())\n",
    "\n",
    "print ('Доля отточных пользователей во 2 сегменте -', (data.query (\n",
    "    '27 <= age <= 43 and equity >= 3 and balance > 950000 and churn == 1')['user_id'].count() / data.query (\n",
    "    '27 <= age <= 43 and equity >= 3 and balance > 950000 and churn == 0')['user_id'].count()*100).round(2))"
   ]
  },
  {
   "cell_type": "markdown",
   "metadata": {},
   "source": [
    "Для Сегмента 2 было бы интересно уникальные условия по накопительным счетам, а так же различные залоговые кредиты или страхования имущества.\n",
    "\n",
    "Сегмент №3\n",
    "- Город Ярославль\n",
    "- Нет кредитной карты\n",
    "- Активный"
   ]
  },
  {
   "cell_type": "code",
   "execution_count": 47,
   "metadata": {},
   "outputs": [
    {
     "name": "stdout",
     "output_type": "stream",
     "text": [
      "Число пользователей в 3 сегменте - 843\n",
      "Число отточных пользователей в 3 сегменте - 343\n",
      "Доля отточных пользователей в 3 сегменте - 68.6\n"
     ]
    }
   ],
   "source": [
    "print ('Число пользователей в 3 сегменте -', data.query (\n",
    "    'credit_card == 0 and last_activity == 1 and city == \"Ярославль\"')['user_id'].count())\n",
    "\n",
    "print ('Число отточных пользователей в 3 сегменте -', data.query (\n",
    "    'credit_card == 0 and last_activity == 1 and city == \"Ярославль\" and churn == 1')['user_id'].count())\n",
    "\n",
    "print ('Доля отточных пользователей в 3 сегменте -', (data.query (\n",
    "    'credit_card == 0 and last_activity == 1 and city == \"Ярославль\" and churn == 1')['user_id'].count() / data.query (\n",
    "    'credit_card == 0 and last_activity == 1 and city == \"Ярославль\" and churn == 0')['user_id'].count()*100).round(2) )"
   ]
  },
  {
   "cell_type": "markdown",
   "metadata": {},
   "source": [
    "Сегмента 3 возможно заинтересует кредитная карта, либо дебетовая карта выгодным с кэшбэком."
   ]
  },
  {
   "cell_type": "markdown",
   "metadata": {},
   "source": [
    "Приоритизация сегментов.\n",
    "\n",
    "По каждому сегменту было посчитанно доля отточных клиентов. Отделу маркетинга рекомендуется обратить внимания в первую очередь на те сегменты, где более высокий отток. В нашем случае чередность получиться такой:\n",
    "- Сегмента 2 - доля отточных пользователей 76.23\n",
    "- Сегмента 1 - доля отточных пользователей 71.04\n",
    "- Сегмента 3 - доля отточных пользователей 68.6"
   ]
  },
  {
   "cell_type": "markdown",
   "metadata": {},
   "source": [
    "## Вывод"
   ]
  },
  {
   "cell_type": "markdown",
   "metadata": {},
   "source": [
    "Таким образом, была проведена большая работа по анализу оттока клиентов в «Метанпромбанке».\n",
    "\n",
    "В ходе предобработки данных в столбцах score и age изменили тип данных на соответвующую значениям в столбцах. Полных дубликатов в данных не обнаружилось, но были задвоенные идентификаторы пользователей. Которые решено было оставить без изменений. Так же закодировали столбцы city и gender для дальнейшего проведения анализа. Удалили пропуски в стоблце age, так как их было меньше 1%, а вот пропуски в столбце balance пришлось оставить без изменений. Большое количество, а именно 22.95%, было бы неправильно удалять. Взаимосвязи с каким-либо конкретным признаком не нашлось и поэтому мы не можем заменить эти пропуски, т.к. это приведёт к заметным искажениям.\n",
    "\n",
    "Провели исследовский анализ данных, где были сделаны следующие выводы:\n",
    "- количество баллов собственности у ушедших клиентов больше;\n",
    "- продуктов равны;\n",
    "- кредитных карт у ушедших меньше;\n",
    "- активность у ушедших клиентов ниже;\n",
    "- по городам отток выше у Ярославля;\n",
    "- женщины меньше уходят мужчин;\n",
    "- баллы кредитного скоринга можно сказать одинаковое;\n",
    "- средний возраст тоже несильно отличается;\n",
    "- баланс на счете выше у отточных клиентов;\n",
    "- доход незначительно выше у ушедших клиентов.\n",
    "\n",
    "Доля ушедших клиентов не сильно отличается по городам. В Ярославле больше всего ушедших, затем в Ростове и меньше всего в Рыбинске.  В целом отток во всех городах примерно одинаковый. Женщины показывают почти в два раза меньший процент оттока клиентов, чем мужчины. Пик оттока приходится на возраст примерно с 25 до 45 лет. Далее идет небольшой спад и затем в возрасте от 53 снова наблюдается рост оттока. По матрице корреляции признаки практически не коррелируют между собой. Слабая положительная корреляция наблюдается между оттоком и возрастом. Слабая отрицательная связь видна у оттока и показателя активности клиента. Интересная, но слабая корреляция оттока по полу - для мужчин отрицательная, для женщин положительная. Слабая положительная корреляция между оттоком и городом Ростов и слабая отрицательная между оттоком и городом Ярославль.\n",
    "\n",
    "Проверили гипотезы о различия дохода между теми клиентами, которые ушли и теми, которые остались и гипотезу различия количества используемых банковских продуктов между теми клиентами, которые ушли и теми, которые остались. Проверка показала, что доходы оставшихся и отточных клиентов не равны. А так же среднее количество используемых банковских продуктов оставшихся и отточных клиентов не равны. \n",
    "\n",
    "Для предотвращения оттока выделили три сегмента наиболее склонные к оттоку.\n",
    "\n",
    "Сегмент №1: возраст 52 и более лет, баланс менее 800000, кредитный рейтинг более 825, активный.\n",
    "Этому сегменту можно предложить целевой кредит для пенсионеров.\n",
    "\n",
    "Сегмент №2: возраст от 27 до 43 лет, баланс более 950000, баллы собственности более 3.\n",
    "Для Сегмента 2 было бы интересно уникальные условия по накопительным счетам, а так же различные залоговые кредиты или страхования имущества.\n",
    "\n",
    "Сегмент №3: город Ярославль, нет кредитной карты, активный.\n",
    "Сегмента 3 возможно заинтересует кредитная карта, либо дебетовая карта выгодным с кэшбэком."
   ]
  },
  {
   "cell_type": "markdown",
   "metadata": {},
   "source": [
    "##  Презентация"
   ]
  },
  {
   "cell_type": "markdown",
   "metadata": {},
   "source": [
    "https://disk.yandex.ru/i/gpy8xIoq2wqLuA"
   ]
  },
  {
   "cell_type": "markdown",
   "metadata": {},
   "source": [
    "## Дашборд\n",
    "\n",
    "https://public.tableau.com/app/profile/zara.zara/viz/Bankiproject_16996502213870/Dashboard1?publish=yes"
   ]
  }
 ],
 "metadata": {
  "ExecuteTimeLog": [
   {
    "duration": 1396,
    "start_time": "2023-11-01T03:31:51.759Z"
   },
   {
    "duration": 151,
    "start_time": "2023-11-01T03:32:04.861Z"
   },
   {
    "duration": 4,
    "start_time": "2023-11-01T03:32:15.211Z"
   },
   {
    "duration": 3,
    "start_time": "2023-11-01T03:32:27.323Z"
   },
   {
    "duration": 4,
    "start_time": "2023-11-01T03:32:39.308Z"
   },
   {
    "duration": 12,
    "start_time": "2023-11-01T03:33:02.117Z"
   },
   {
    "duration": 5,
    "start_time": "2023-11-01T03:34:19.713Z"
   },
   {
    "duration": 6,
    "start_time": "2023-11-01T03:34:28.952Z"
   },
   {
    "duration": 9,
    "start_time": "2023-11-01T03:34:50.995Z"
   },
   {
    "duration": 7,
    "start_time": "2023-11-01T03:35:14.844Z"
   },
   {
    "duration": 16,
    "start_time": "2023-11-01T03:35:35.868Z"
   },
   {
    "duration": 14,
    "start_time": "2023-11-01T03:44:03.793Z"
   },
   {
    "duration": 19,
    "start_time": "2023-11-01T04:29:57.487Z"
   },
   {
    "duration": 3176,
    "start_time": "2023-11-01T04:30:08.725Z"
   },
   {
    "duration": 82,
    "start_time": "2023-11-01T04:35:26.706Z"
   },
   {
    "duration": 103,
    "start_time": "2023-11-01T04:35:50.008Z"
   },
   {
    "duration": 10,
    "start_time": "2023-11-01T04:37:49.986Z"
   },
   {
    "duration": 10,
    "start_time": "2023-11-01T04:41:18.923Z"
   },
   {
    "duration": 14,
    "start_time": "2023-11-01T04:46:06.793Z"
   },
   {
    "duration": 35,
    "start_time": "2023-11-01T04:46:34.161Z"
   },
   {
    "duration": 306,
    "start_time": "2023-11-01T05:30:04.716Z"
   },
   {
    "duration": 116,
    "start_time": "2023-11-01T05:30:23.892Z"
   },
   {
    "duration": 268,
    "start_time": "2023-11-01T05:35:50.641Z"
   },
   {
    "duration": 16,
    "start_time": "2023-11-01T05:37:59.710Z"
   },
   {
    "duration": 16,
    "start_time": "2023-11-01T05:38:07.114Z"
   },
   {
    "duration": 17,
    "start_time": "2023-11-01T05:38:13.707Z"
   },
   {
    "duration": 20,
    "start_time": "2023-11-01T05:38:29.658Z"
   },
   {
    "duration": 83,
    "start_time": "2023-11-01T05:42:45.097Z"
   },
   {
    "duration": 22,
    "start_time": "2023-11-01T05:42:52.191Z"
   },
   {
    "duration": 18,
    "start_time": "2023-11-01T05:43:03.876Z"
   },
   {
    "duration": 18,
    "start_time": "2023-11-01T05:43:44.654Z"
   },
   {
    "duration": 17,
    "start_time": "2023-11-01T05:43:49.207Z"
   },
   {
    "duration": 16,
    "start_time": "2023-11-01T05:45:16.342Z"
   },
   {
    "duration": 5,
    "start_time": "2023-11-01T05:45:43.771Z"
   },
   {
    "duration": 14,
    "start_time": "2023-11-01T05:45:53.671Z"
   },
   {
    "duration": 36,
    "start_time": "2023-11-01T05:47:57.414Z"
   },
   {
    "duration": 3,
    "start_time": "2023-11-01T05:58:26.532Z"
   },
   {
    "duration": 11,
    "start_time": "2023-11-01T05:58:35.261Z"
   },
   {
    "duration": 14,
    "start_time": "2023-11-01T05:58:46.196Z"
   },
   {
    "duration": 16,
    "start_time": "2023-11-01T06:01:08.824Z"
   },
   {
    "duration": 105,
    "start_time": "2023-11-01T06:01:23.887Z"
   },
   {
    "duration": 14,
    "start_time": "2023-11-01T06:01:35.952Z"
   },
   {
    "duration": 18,
    "start_time": "2023-11-01T06:18:21.080Z"
   },
   {
    "duration": 13,
    "start_time": "2023-11-01T06:19:18.229Z"
   },
   {
    "duration": 14,
    "start_time": "2023-11-01T06:19:24.318Z"
   },
   {
    "duration": 14,
    "start_time": "2023-11-01T06:19:56.532Z"
   },
   {
    "duration": 16,
    "start_time": "2023-11-01T06:20:13.603Z"
   },
   {
    "duration": 15,
    "start_time": "2023-11-01T06:20:33.560Z"
   },
   {
    "duration": 17,
    "start_time": "2023-11-01T06:25:18.335Z"
   },
   {
    "duration": 15,
    "start_time": "2023-11-01T06:25:22.504Z"
   },
   {
    "duration": 120,
    "start_time": "2023-11-01T06:25:55.219Z"
   },
   {
    "duration": 15,
    "start_time": "2023-11-01T06:26:30.940Z"
   },
   {
    "duration": 22,
    "start_time": "2023-11-01T06:26:58.045Z"
   },
   {
    "duration": 16,
    "start_time": "2023-11-01T06:29:16.699Z"
   },
   {
    "duration": 14,
    "start_time": "2023-11-01T06:29:36.941Z"
   },
   {
    "duration": 18,
    "start_time": "2023-11-01T06:31:55.829Z"
   },
   {
    "duration": 10,
    "start_time": "2023-11-01T06:32:30.743Z"
   },
   {
    "duration": 16,
    "start_time": "2023-11-01T06:33:37.801Z"
   },
   {
    "duration": 1290,
    "start_time": "2023-11-01T06:37:11.187Z"
   },
   {
    "duration": 31,
    "start_time": "2023-11-01T06:38:05.613Z"
   },
   {
    "duration": 18,
    "start_time": "2023-11-01T06:40:02.339Z"
   },
   {
    "duration": 316,
    "start_time": "2023-11-01T06:40:21.594Z"
   },
   {
    "duration": 1467,
    "start_time": "2023-11-07T07:47:59.889Z"
   },
   {
    "duration": 82,
    "start_time": "2023-11-07T07:48:01.358Z"
   },
   {
    "duration": 4,
    "start_time": "2023-11-07T07:48:01.442Z"
   },
   {
    "duration": 274,
    "start_time": "2023-11-07T07:48:01.448Z"
   },
   {
    "duration": 55,
    "start_time": "2023-11-07T07:48:01.724Z"
   },
   {
    "duration": 43,
    "start_time": "2023-11-07T07:48:01.781Z"
   },
   {
    "duration": 101,
    "start_time": "2023-11-07T07:48:01.826Z"
   },
   {
    "duration": 133,
    "start_time": "2023-11-07T07:48:01.928Z"
   },
   {
    "duration": 12,
    "start_time": "2023-11-07T07:48:02.235Z"
   },
   {
    "duration": 7,
    "start_time": "2023-11-07T07:48:02.648Z"
   },
   {
    "duration": 18,
    "start_time": "2023-11-07T07:48:03.060Z"
   },
   {
    "duration": 150,
    "start_time": "2023-11-07T07:48:03.280Z"
   },
   {
    "duration": 11,
    "start_time": "2023-11-07T08:04:08.788Z"
   },
   {
    "duration": 25,
    "start_time": "2023-11-07T08:04:20.634Z"
   },
   {
    "duration": 12,
    "start_time": "2023-11-07T08:05:28.030Z"
   },
   {
    "duration": 100,
    "start_time": "2023-11-07T08:06:49.286Z"
   },
   {
    "duration": 360,
    "start_time": "2023-11-07T08:06:59.583Z"
   },
   {
    "duration": 529,
    "start_time": "2023-11-07T08:07:20.621Z"
   },
   {
    "duration": 520,
    "start_time": "2023-11-07T08:07:25.174Z"
   },
   {
    "duration": 20,
    "start_time": "2023-11-07T08:09:08.647Z"
   },
   {
    "duration": 14,
    "start_time": "2023-11-07T08:09:22.243Z"
   },
   {
    "duration": 18,
    "start_time": "2023-11-07T08:09:28.011Z"
   },
   {
    "duration": 14,
    "start_time": "2023-11-07T08:09:45.680Z"
   },
   {
    "duration": 17,
    "start_time": "2023-11-07T08:10:02.578Z"
   },
   {
    "duration": 19,
    "start_time": "2023-11-07T08:10:13.040Z"
   },
   {
    "duration": 8,
    "start_time": "2023-11-07T08:10:47.960Z"
   },
   {
    "duration": 18,
    "start_time": "2023-11-07T08:11:05.174Z"
   },
   {
    "duration": 8,
    "start_time": "2023-11-07T08:12:45.640Z"
   },
   {
    "duration": 11,
    "start_time": "2023-11-07T08:13:01.551Z"
   },
   {
    "duration": 22,
    "start_time": "2023-11-07T08:13:13.300Z"
   },
   {
    "duration": 21,
    "start_time": "2023-11-07T08:21:18.890Z"
   },
   {
    "duration": 11,
    "start_time": "2023-11-07T08:28:50.622Z"
   },
   {
    "duration": 423,
    "start_time": "2023-11-07T08:29:49.879Z"
   },
   {
    "duration": 717,
    "start_time": "2023-11-07T08:43:07.088Z"
   },
   {
    "duration": 300,
    "start_time": "2023-11-07T08:43:49.014Z"
   },
   {
    "duration": 534,
    "start_time": "2023-11-07T08:43:52.847Z"
   },
   {
    "duration": 13,
    "start_time": "2023-11-07T08:44:57.745Z"
   },
   {
    "duration": 11,
    "start_time": "2023-11-07T08:45:07.908Z"
   },
   {
    "duration": 19,
    "start_time": "2023-11-07T08:45:12.370Z"
   },
   {
    "duration": 9,
    "start_time": "2023-11-07T08:45:27.207Z"
   },
   {
    "duration": 5,
    "start_time": "2023-11-07T08:45:38.582Z"
   },
   {
    "duration": 13,
    "start_time": "2023-11-07T08:45:46.548Z"
   },
   {
    "duration": 293,
    "start_time": "2023-11-07T08:47:48.747Z"
   },
   {
    "duration": 322,
    "start_time": "2023-11-07T08:48:11.604Z"
   },
   {
    "duration": 46,
    "start_time": "2023-11-07T18:08:01.765Z"
   },
   {
    "duration": 1390,
    "start_time": "2023-11-07T18:08:09.350Z"
   },
   {
    "duration": 77,
    "start_time": "2023-11-07T18:08:10.742Z"
   },
   {
    "duration": 3,
    "start_time": "2023-11-07T18:08:10.820Z"
   },
   {
    "duration": 50,
    "start_time": "2023-11-07T18:08:10.825Z"
   },
   {
    "duration": 30,
    "start_time": "2023-11-07T18:08:10.877Z"
   },
   {
    "duration": 30,
    "start_time": "2023-11-07T18:08:10.909Z"
   },
   {
    "duration": 5,
    "start_time": "2023-11-07T18:08:11.164Z"
   },
   {
    "duration": 5,
    "start_time": "2023-11-07T18:08:11.368Z"
   },
   {
    "duration": 10,
    "start_time": "2023-11-07T18:08:11.794Z"
   },
   {
    "duration": 9,
    "start_time": "2023-11-07T18:08:12.216Z"
   },
   {
    "duration": 7,
    "start_time": "2023-11-07T18:08:12.633Z"
   },
   {
    "duration": 11,
    "start_time": "2023-11-07T18:08:13.062Z"
   },
   {
    "duration": 384,
    "start_time": "2023-11-07T18:08:13.288Z"
   },
   {
    "duration": 5,
    "start_time": "2023-11-07T18:12:19.757Z"
   },
   {
    "duration": 9,
    "start_time": "2023-11-07T18:15:39.279Z"
   },
   {
    "duration": 9,
    "start_time": "2023-11-07T18:17:51.561Z"
   },
   {
    "duration": 14,
    "start_time": "2023-11-07T18:18:17.502Z"
   },
   {
    "duration": 13,
    "start_time": "2023-11-07T18:18:25.647Z"
   },
   {
    "duration": 15,
    "start_time": "2023-11-07T18:18:32.082Z"
   },
   {
    "duration": 112,
    "start_time": "2023-11-07T18:19:45.597Z"
   },
   {
    "duration": 16,
    "start_time": "2023-11-07T18:19:46.031Z"
   },
   {
    "duration": 16,
    "start_time": "2023-11-07T18:19:56.304Z"
   },
   {
    "duration": 10,
    "start_time": "2023-11-07T18:20:48.064Z"
   },
   {
    "duration": 12,
    "start_time": "2023-11-07T18:22:07.193Z"
   },
   {
    "duration": 12,
    "start_time": "2023-11-07T18:32:20.894Z"
   },
   {
    "duration": 11,
    "start_time": "2023-11-07T18:32:28.728Z"
   },
   {
    "duration": 10,
    "start_time": "2023-11-07T18:32:42.509Z"
   },
   {
    "duration": 10,
    "start_time": "2023-11-07T18:32:47.098Z"
   },
   {
    "duration": 6,
    "start_time": "2023-11-07T18:33:10.394Z"
   },
   {
    "duration": 9,
    "start_time": "2023-11-07T18:33:31.543Z"
   },
   {
    "duration": 7,
    "start_time": "2023-11-07T18:33:53.766Z"
   },
   {
    "duration": 7,
    "start_time": "2023-11-07T18:39:47.618Z"
   },
   {
    "duration": 9,
    "start_time": "2023-11-07T18:39:53.998Z"
   },
   {
    "duration": 14,
    "start_time": "2023-11-07T18:42:50.896Z"
   },
   {
    "duration": 10,
    "start_time": "2023-11-07T18:43:11.020Z"
   },
   {
    "duration": 9,
    "start_time": "2023-11-07T18:46:03.442Z"
   },
   {
    "duration": 8,
    "start_time": "2023-11-07T18:46:36.559Z"
   },
   {
    "duration": 10,
    "start_time": "2023-11-07T19:06:55.271Z"
   },
   {
    "duration": 4,
    "start_time": "2023-11-07T19:07:09.675Z"
   },
   {
    "duration": 110,
    "start_time": "2023-11-07T19:07:09.870Z"
   },
   {
    "duration": 4,
    "start_time": "2023-11-07T19:07:10.065Z"
   },
   {
    "duration": 4,
    "start_time": "2023-11-07T19:07:10.269Z"
   },
   {
    "duration": 5,
    "start_time": "2023-11-07T19:07:10.486Z"
   },
   {
    "duration": 18,
    "start_time": "2023-11-07T19:07:10.690Z"
   },
   {
    "duration": 4,
    "start_time": "2023-11-07T19:07:11.543Z"
   },
   {
    "duration": 5,
    "start_time": "2023-11-07T19:07:11.761Z"
   },
   {
    "duration": 12,
    "start_time": "2023-11-07T19:07:12.194Z"
   },
   {
    "duration": 6,
    "start_time": "2023-11-07T19:07:12.709Z"
   },
   {
    "duration": 7,
    "start_time": "2023-11-07T19:07:17.304Z"
   },
   {
    "duration": 20,
    "start_time": "2023-11-07T19:07:17.542Z"
   },
   {
    "duration": 7,
    "start_time": "2023-11-07T19:08:54.152Z"
   },
   {
    "duration": 7,
    "start_time": "2023-11-07T19:09:20.521Z"
   },
   {
    "duration": 6,
    "start_time": "2023-11-07T19:12:29.262Z"
   },
   {
    "duration": 18,
    "start_time": "2023-11-07T19:14:40.380Z"
   },
   {
    "duration": 20,
    "start_time": "2023-11-07T19:17:43.699Z"
   },
   {
    "duration": 7,
    "start_time": "2023-11-07T19:23:11.898Z"
   },
   {
    "duration": 3,
    "start_time": "2023-11-07T19:29:26.534Z"
   },
   {
    "duration": 23,
    "start_time": "2023-11-07T19:30:04.652Z"
   },
   {
    "duration": 12,
    "start_time": "2023-11-07T19:32:24.929Z"
   },
   {
    "duration": 469,
    "start_time": "2023-11-07T19:32:27.651Z"
   },
   {
    "duration": 292,
    "start_time": "2023-11-07T19:38:04.450Z"
   },
   {
    "duration": 5,
    "start_time": "2023-11-07T19:38:43.537Z"
   },
   {
    "duration": 87,
    "start_time": "2023-11-07T19:38:43.720Z"
   },
   {
    "duration": 4,
    "start_time": "2023-11-07T19:38:43.941Z"
   },
   {
    "duration": 3,
    "start_time": "2023-11-07T19:38:44.115Z"
   },
   {
    "duration": 5,
    "start_time": "2023-11-07T19:38:44.311Z"
   },
   {
    "duration": 18,
    "start_time": "2023-11-07T19:38:44.514Z"
   },
   {
    "duration": 7,
    "start_time": "2023-11-07T19:38:45.325Z"
   },
   {
    "duration": 7,
    "start_time": "2023-11-07T19:38:45.541Z"
   },
   {
    "duration": 14,
    "start_time": "2023-11-07T19:38:45.999Z"
   },
   {
    "duration": 6,
    "start_time": "2023-11-07T19:38:46.434Z"
   },
   {
    "duration": 9,
    "start_time": "2023-11-07T19:38:46.847Z"
   },
   {
    "duration": 19,
    "start_time": "2023-11-07T19:38:47.266Z"
   },
   {
    "duration": 10,
    "start_time": "2023-11-07T19:38:47.754Z"
   },
   {
    "duration": 5,
    "start_time": "2023-11-07T19:38:48.287Z"
   },
   {
    "duration": 35,
    "start_time": "2023-11-07T19:38:48.512Z"
   },
   {
    "duration": 12,
    "start_time": "2023-11-07T19:38:49.608Z"
   },
   {
    "duration": 7,
    "start_time": "2023-11-07T19:38:50.349Z"
   },
   {
    "duration": 25,
    "start_time": "2023-11-07T19:38:50.951Z"
   },
   {
    "duration": 7,
    "start_time": "2023-11-07T19:38:51.646Z"
   },
   {
    "duration": 11,
    "start_time": "2023-11-07T19:38:54.286Z"
   },
   {
    "duration": 288,
    "start_time": "2023-11-07T19:38:54.872Z"
   },
   {
    "duration": 4,
    "start_time": "2023-11-07T19:39:25.882Z"
   },
   {
    "duration": 85,
    "start_time": "2023-11-07T19:39:26.094Z"
   },
   {
    "duration": 5,
    "start_time": "2023-11-07T19:39:26.306Z"
   },
   {
    "duration": 3,
    "start_time": "2023-11-07T19:39:26.507Z"
   },
   {
    "duration": 4,
    "start_time": "2023-11-07T19:39:26.717Z"
   },
   {
    "duration": 12,
    "start_time": "2023-11-07T19:39:26.939Z"
   },
   {
    "duration": 5,
    "start_time": "2023-11-07T19:39:27.790Z"
   },
   {
    "duration": 5,
    "start_time": "2023-11-07T19:39:27.997Z"
   },
   {
    "duration": 12,
    "start_time": "2023-11-07T19:39:28.436Z"
   },
   {
    "duration": 5,
    "start_time": "2023-11-07T19:39:28.890Z"
   },
   {
    "duration": 7,
    "start_time": "2023-11-07T19:39:29.318Z"
   },
   {
    "duration": 15,
    "start_time": "2023-11-07T19:39:29.792Z"
   },
   {
    "duration": 7,
    "start_time": "2023-11-07T19:39:30.248Z"
   },
   {
    "duration": 5,
    "start_time": "2023-11-07T19:39:30.722Z"
   },
   {
    "duration": 23,
    "start_time": "2023-11-07T19:39:30.955Z"
   },
   {
    "duration": 14,
    "start_time": "2023-11-07T19:39:31.437Z"
   },
   {
    "duration": 10,
    "start_time": "2023-11-07T19:39:31.922Z"
   },
   {
    "duration": 24,
    "start_time": "2023-11-07T19:39:32.418Z"
   },
   {
    "duration": 7,
    "start_time": "2023-11-07T19:39:33.273Z"
   },
   {
    "duration": 16,
    "start_time": "2023-11-07T19:39:36.495Z"
   },
   {
    "duration": 15,
    "start_time": "2023-11-07T19:43:44.865Z"
   },
   {
    "duration": 1397,
    "start_time": "2023-11-08T09:43:35.802Z"
   },
   {
    "duration": 83,
    "start_time": "2023-11-08T09:43:37.201Z"
   },
   {
    "duration": 5,
    "start_time": "2023-11-08T09:43:37.285Z"
   },
   {
    "duration": 29,
    "start_time": "2023-11-08T09:43:37.292Z"
   },
   {
    "duration": 40,
    "start_time": "2023-11-08T09:43:37.323Z"
   },
   {
    "duration": 37,
    "start_time": "2023-11-08T09:43:37.365Z"
   },
   {
    "duration": 5,
    "start_time": "2023-11-08T09:43:37.493Z"
   },
   {
    "duration": 5,
    "start_time": "2023-11-08T09:43:37.667Z"
   },
   {
    "duration": 10,
    "start_time": "2023-11-08T09:43:38.059Z"
   },
   {
    "duration": 5,
    "start_time": "2023-11-08T09:43:38.449Z"
   },
   {
    "duration": 7,
    "start_time": "2023-11-08T09:43:38.831Z"
   },
   {
    "duration": 14,
    "start_time": "2023-11-08T09:43:39.213Z"
   },
   {
    "duration": 6,
    "start_time": "2023-11-08T09:43:39.597Z"
   },
   {
    "duration": 4,
    "start_time": "2023-11-08T09:43:39.993Z"
   },
   {
    "duration": 20,
    "start_time": "2023-11-08T09:43:40.182Z"
   },
   {
    "duration": 12,
    "start_time": "2023-11-08T09:43:40.586Z"
   },
   {
    "duration": 7,
    "start_time": "2023-11-08T09:43:40.977Z"
   },
   {
    "duration": 15,
    "start_time": "2023-11-08T09:43:41.384Z"
   },
   {
    "duration": 6,
    "start_time": "2023-11-08T09:43:41.778Z"
   },
   {
    "duration": 15,
    "start_time": "2023-11-08T09:43:42.168Z"
   },
   {
    "duration": 26,
    "start_time": "2023-11-08T09:54:30.799Z"
   },
   {
    "duration": 23,
    "start_time": "2023-11-08T09:55:09.707Z"
   },
   {
    "duration": 39,
    "start_time": "2023-11-08T09:57:35.136Z"
   },
   {
    "duration": 25,
    "start_time": "2023-11-08T09:57:45.824Z"
   },
   {
    "duration": 1311,
    "start_time": "2023-11-08T17:51:11.523Z"
   },
   {
    "duration": 110,
    "start_time": "2023-11-08T17:51:12.836Z"
   },
   {
    "duration": 3,
    "start_time": "2023-11-08T17:51:12.948Z"
   },
   {
    "duration": 17,
    "start_time": "2023-11-08T17:51:12.952Z"
   },
   {
    "duration": 18,
    "start_time": "2023-11-08T17:51:12.970Z"
   },
   {
    "duration": 17,
    "start_time": "2023-11-08T17:51:12.990Z"
   },
   {
    "duration": 4,
    "start_time": "2023-11-08T17:51:13.321Z"
   },
   {
    "duration": 4,
    "start_time": "2023-11-08T17:51:13.532Z"
   },
   {
    "duration": 10,
    "start_time": "2023-11-08T17:51:13.951Z"
   },
   {
    "duration": 4,
    "start_time": "2023-11-08T17:51:14.372Z"
   },
   {
    "duration": 6,
    "start_time": "2023-11-08T17:51:14.791Z"
   },
   {
    "duration": 12,
    "start_time": "2023-11-08T17:51:15.210Z"
   },
   {
    "duration": 7,
    "start_time": "2023-11-08T17:51:15.631Z"
   },
   {
    "duration": 4,
    "start_time": "2023-11-08T17:51:16.043Z"
   },
   {
    "duration": 20,
    "start_time": "2023-11-08T17:51:16.262Z"
   },
   {
    "duration": 10,
    "start_time": "2023-11-08T17:51:16.666Z"
   },
   {
    "duration": 7,
    "start_time": "2023-11-08T17:51:17.093Z"
   },
   {
    "duration": 15,
    "start_time": "2023-11-08T17:51:17.529Z"
   },
   {
    "duration": 6,
    "start_time": "2023-11-08T17:51:17.971Z"
   },
   {
    "duration": 15,
    "start_time": "2023-11-08T17:51:18.391Z"
   },
   {
    "duration": 24,
    "start_time": "2023-11-08T17:51:19.532Z"
   },
   {
    "duration": 10,
    "start_time": "2023-11-08T17:53:45.225Z"
   },
   {
    "duration": 94,
    "start_time": "2023-11-08T17:55:51.864Z"
   },
   {
    "duration": 10,
    "start_time": "2023-11-08T17:56:06.400Z"
   },
   {
    "duration": 10,
    "start_time": "2023-11-08T18:23:34.936Z"
   },
   {
    "duration": 197,
    "start_time": "2023-11-08T18:37:17.664Z"
   },
   {
    "duration": 27,
    "start_time": "2023-11-08T18:39:05.845Z"
   },
   {
    "duration": 10,
    "start_time": "2023-11-08T18:39:10.112Z"
   },
   {
    "duration": 187,
    "start_time": "2023-11-08T18:39:15.212Z"
   },
   {
    "duration": 7,
    "start_time": "2023-11-08T18:48:34.972Z"
   },
   {
    "duration": 4962,
    "start_time": "2023-11-08T18:59:35.184Z"
   },
   {
    "duration": 252,
    "start_time": "2023-11-08T19:00:33.702Z"
   },
   {
    "duration": 15,
    "start_time": "2023-11-08T19:02:34.370Z"
   },
   {
    "duration": 163,
    "start_time": "2023-11-08T19:02:52.749Z"
   },
   {
    "duration": 181,
    "start_time": "2023-11-08T19:03:23.051Z"
   },
   {
    "duration": 4945,
    "start_time": "2023-11-08T19:04:34.212Z"
   },
   {
    "duration": 5141,
    "start_time": "2023-11-08T19:06:06.521Z"
   },
   {
    "duration": 5073,
    "start_time": "2023-11-08T19:10:00.385Z"
   },
   {
    "duration": 7,
    "start_time": "2023-11-08T19:17:31.016Z"
   },
   {
    "duration": 5011,
    "start_time": "2023-11-08T19:21:44.324Z"
   },
   {
    "duration": 296,
    "start_time": "2023-11-08T19:26:29.650Z"
   },
   {
    "duration": 308,
    "start_time": "2023-11-08T19:26:41.004Z"
   },
   {
    "duration": 299,
    "start_time": "2023-11-08T19:27:15.272Z"
   },
   {
    "duration": 302,
    "start_time": "2023-11-08T19:27:44.597Z"
   },
   {
    "duration": 323,
    "start_time": "2023-11-08T19:28:11.537Z"
   },
   {
    "duration": 388,
    "start_time": "2023-11-08T19:30:27.775Z"
   },
   {
    "duration": 311,
    "start_time": "2023-11-08T19:30:36.364Z"
   },
   {
    "duration": 308,
    "start_time": "2023-11-08T19:31:02.681Z"
   },
   {
    "duration": 311,
    "start_time": "2023-11-08T19:31:38.046Z"
   },
   {
    "duration": 319,
    "start_time": "2023-11-08T19:31:52.925Z"
   },
   {
    "duration": 6,
    "start_time": "2023-11-08T19:33:57.414Z"
   },
   {
    "duration": 7,
    "start_time": "2023-11-08T19:34:00.250Z"
   },
   {
    "duration": 19,
    "start_time": "2023-11-08T19:35:29.508Z"
   },
   {
    "duration": 22,
    "start_time": "2023-11-08T19:36:14.051Z"
   },
   {
    "duration": 11,
    "start_time": "2023-11-08T19:37:34.178Z"
   },
   {
    "duration": 17,
    "start_time": "2023-11-08T19:37:39.295Z"
   },
   {
    "duration": 11,
    "start_time": "2023-11-08T19:37:57.855Z"
   },
   {
    "duration": 406,
    "start_time": "2023-11-08T19:38:01.606Z"
   },
   {
    "duration": 21,
    "start_time": "2023-11-08T19:39:20.422Z"
   },
   {
    "duration": 11,
    "start_time": "2023-11-08T19:39:36.249Z"
   },
   {
    "duration": 1541,
    "start_time": "2023-11-09T07:20:22.578Z"
   },
   {
    "duration": 76,
    "start_time": "2023-11-09T07:20:24.121Z"
   },
   {
    "duration": 3,
    "start_time": "2023-11-09T07:20:24.199Z"
   },
   {
    "duration": 18,
    "start_time": "2023-11-09T07:20:24.205Z"
   },
   {
    "duration": 12,
    "start_time": "2023-11-09T07:20:24.225Z"
   },
   {
    "duration": 14,
    "start_time": "2023-11-09T07:20:24.239Z"
   },
   {
    "duration": 5,
    "start_time": "2023-11-09T07:20:24.256Z"
   },
   {
    "duration": 5,
    "start_time": "2023-11-09T07:20:24.443Z"
   },
   {
    "duration": 15,
    "start_time": "2023-11-09T07:20:24.854Z"
   },
   {
    "duration": 4,
    "start_time": "2023-11-09T07:20:25.217Z"
   },
   {
    "duration": 6,
    "start_time": "2023-11-09T07:20:25.599Z"
   },
   {
    "duration": 20,
    "start_time": "2023-11-09T07:20:25.974Z"
   },
   {
    "duration": 7,
    "start_time": "2023-11-09T07:20:26.356Z"
   },
   {
    "duration": 5,
    "start_time": "2023-11-09T07:20:26.746Z"
   },
   {
    "duration": 22,
    "start_time": "2023-11-09T07:20:26.949Z"
   },
   {
    "duration": 13,
    "start_time": "2023-11-09T07:20:27.346Z"
   },
   {
    "duration": 7,
    "start_time": "2023-11-09T07:20:27.736Z"
   },
   {
    "duration": 15,
    "start_time": "2023-11-09T07:20:28.127Z"
   },
   {
    "duration": 6,
    "start_time": "2023-11-09T07:20:28.531Z"
   },
   {
    "duration": 15,
    "start_time": "2023-11-09T07:20:28.921Z"
   },
   {
    "duration": 25,
    "start_time": "2023-11-09T07:20:29.919Z"
   },
   {
    "duration": 5594,
    "start_time": "2023-11-09T07:20:30.116Z"
   },
   {
    "duration": 12,
    "start_time": "2023-11-09T07:20:35.711Z"
   },
   {
    "duration": 39,
    "start_time": "2023-11-09T07:20:35.726Z"
   },
   {
    "duration": 328,
    "start_time": "2023-11-09T07:20:35.769Z"
   },
   {
    "duration": 14,
    "start_time": "2023-11-09T07:20:36.099Z"
   },
   {
    "duration": 10,
    "start_time": "2023-11-09T07:20:36.115Z"
   },
   {
    "duration": 25,
    "start_time": "2023-11-09T07:20:36.128Z"
   },
   {
    "duration": 513,
    "start_time": "2023-11-09T07:20:36.155Z"
   },
   {
    "duration": 5640,
    "start_time": "2023-11-09T07:22:00.210Z"
   },
   {
    "duration": 5847,
    "start_time": "2023-11-09T07:22:06.486Z"
   },
   {
    "duration": 5696,
    "start_time": "2023-11-09T07:22:14.443Z"
   },
   {
    "duration": 5835,
    "start_time": "2023-11-09T07:22:58.491Z"
   },
   {
    "duration": 104,
    "start_time": "2023-11-09T07:45:41.437Z"
   },
   {
    "duration": 9,
    "start_time": "2023-11-09T07:45:52.357Z"
   },
   {
    "duration": 6,
    "start_time": "2023-11-09T07:47:00.422Z"
   },
   {
    "duration": 6,
    "start_time": "2023-11-09T07:47:04.538Z"
   },
   {
    "duration": 10,
    "start_time": "2023-11-09T07:48:38.395Z"
   },
   {
    "duration": 9,
    "start_time": "2023-11-09T07:49:26.537Z"
   },
   {
    "duration": 139,
    "start_time": "2023-11-09T07:49:27.340Z"
   },
   {
    "duration": 118,
    "start_time": "2023-11-09T07:49:51.664Z"
   },
   {
    "duration": 107,
    "start_time": "2023-11-09T07:55:13.604Z"
   },
   {
    "duration": 13,
    "start_time": "2023-11-09T07:55:24.547Z"
   },
   {
    "duration": 14,
    "start_time": "2023-11-09T07:55:55.291Z"
   },
   {
    "duration": 200,
    "start_time": "2023-11-09T08:06:29.403Z"
   },
   {
    "duration": 372,
    "start_time": "2023-11-09T08:07:16.317Z"
   },
   {
    "duration": 99,
    "start_time": "2023-11-09T08:18:14.516Z"
   },
   {
    "duration": 126,
    "start_time": "2023-11-09T08:18:23.350Z"
   },
   {
    "duration": 142,
    "start_time": "2023-11-09T08:18:57.183Z"
   },
   {
    "duration": 234,
    "start_time": "2023-11-09T08:20:21.388Z"
   },
   {
    "duration": 987,
    "start_time": "2023-11-09T08:23:52.529Z"
   },
   {
    "duration": 956,
    "start_time": "2023-11-09T08:24:18.983Z"
   },
   {
    "duration": 1020,
    "start_time": "2023-11-09T08:26:46.959Z"
   },
   {
    "duration": 1413,
    "start_time": "2023-11-09T08:27:50.733Z"
   },
   {
    "duration": 1324,
    "start_time": "2023-11-09T08:28:59.807Z"
   },
   {
    "duration": 1331,
    "start_time": "2023-11-09T08:29:27.798Z"
   },
   {
    "duration": 433,
    "start_time": "2023-11-09T08:30:07.264Z"
   },
   {
    "duration": 1323,
    "start_time": "2023-11-09T08:30:13.934Z"
   },
   {
    "duration": 1367,
    "start_time": "2023-11-09T08:30:38.713Z"
   },
   {
    "duration": 2402,
    "start_time": "2023-11-09T08:32:56.722Z"
   },
   {
    "duration": 1473,
    "start_time": "2023-11-09T18:05:52.379Z"
   },
   {
    "duration": 105,
    "start_time": "2023-11-09T18:05:53.853Z"
   },
   {
    "duration": 4,
    "start_time": "2023-11-09T18:05:53.960Z"
   },
   {
    "duration": 18,
    "start_time": "2023-11-09T18:05:53.966Z"
   },
   {
    "duration": 17,
    "start_time": "2023-11-09T18:05:53.986Z"
   },
   {
    "duration": 32,
    "start_time": "2023-11-09T18:05:54.005Z"
   },
   {
    "duration": 16,
    "start_time": "2023-11-09T18:05:54.039Z"
   },
   {
    "duration": 6,
    "start_time": "2023-11-09T18:05:54.193Z"
   },
   {
    "duration": 14,
    "start_time": "2023-11-09T18:05:54.569Z"
   },
   {
    "duration": 5,
    "start_time": "2023-11-09T18:05:54.944Z"
   },
   {
    "duration": 7,
    "start_time": "2023-11-09T18:05:55.365Z"
   },
   {
    "duration": 16,
    "start_time": "2023-11-09T18:05:55.762Z"
   },
   {
    "duration": 7,
    "start_time": "2023-11-09T18:05:56.161Z"
   },
   {
    "duration": 5,
    "start_time": "2023-11-09T18:05:56.534Z"
   },
   {
    "duration": 30,
    "start_time": "2023-11-09T18:05:56.729Z"
   },
   {
    "duration": 16,
    "start_time": "2023-11-09T18:05:57.135Z"
   },
   {
    "duration": 8,
    "start_time": "2023-11-09T18:05:57.546Z"
   },
   {
    "duration": 17,
    "start_time": "2023-11-09T18:05:57.961Z"
   },
   {
    "duration": 10,
    "start_time": "2023-11-09T18:05:58.365Z"
   },
   {
    "duration": 23,
    "start_time": "2023-11-09T18:05:58.776Z"
   },
   {
    "duration": 33,
    "start_time": "2023-11-09T18:05:59.812Z"
   },
   {
    "duration": 14,
    "start_time": "2023-11-09T18:06:00.223Z"
   },
   {
    "duration": 8,
    "start_time": "2023-11-09T18:06:00.636Z"
   },
   {
    "duration": 241,
    "start_time": "2023-11-09T18:06:01.049Z"
   },
   {
    "duration": 12,
    "start_time": "2023-11-09T18:06:01.485Z"
   },
   {
    "duration": 124,
    "start_time": "2023-11-09T18:06:01.687Z"
   },
   {
    "duration": 7,
    "start_time": "2023-11-09T18:06:02.106Z"
   },
   {
    "duration": 15,
    "start_time": "2023-11-09T18:06:02.311Z"
   },
   {
    "duration": 401,
    "start_time": "2023-11-09T18:06:02.736Z"
   },
   {
    "duration": 217,
    "start_time": "2023-11-09T18:06:03.161Z"
   },
   {
    "duration": 2311,
    "start_time": "2023-11-09T18:06:03.584Z"
   },
   {
    "duration": 308,
    "start_time": "2023-11-09T18:13:05.734Z"
   },
   {
    "duration": 168,
    "start_time": "2023-11-09T18:13:43.370Z"
   },
   {
    "duration": 170,
    "start_time": "2023-11-09T18:15:30.929Z"
   },
   {
    "duration": 1610,
    "start_time": "2023-11-09T18:15:46.461Z"
   },
   {
    "duration": 251,
    "start_time": "2023-11-09T18:16:23.577Z"
   },
   {
    "duration": 175,
    "start_time": "2023-11-09T18:16:37.216Z"
   },
   {
    "duration": 1712,
    "start_time": "2023-11-09T18:23:08.333Z"
   },
   {
    "duration": 115,
    "start_time": "2023-11-09T18:31:00.204Z"
   },
   {
    "duration": 15,
    "start_time": "2023-11-09T18:31:14.267Z"
   },
   {
    "duration": 535,
    "start_time": "2023-11-09T18:31:28.035Z"
   },
   {
    "duration": 452,
    "start_time": "2023-11-09T18:32:03.203Z"
   },
   {
    "duration": 9,
    "start_time": "2023-11-09T18:32:27.363Z"
   },
   {
    "duration": 5,
    "start_time": "2023-11-09T18:33:08.941Z"
   },
   {
    "duration": 77,
    "start_time": "2023-11-09T18:33:12.497Z"
   },
   {
    "duration": 4,
    "start_time": "2023-11-09T18:33:12.674Z"
   },
   {
    "duration": 4,
    "start_time": "2023-11-09T18:33:12.842Z"
   },
   {
    "duration": 5,
    "start_time": "2023-11-09T18:33:13.037Z"
   },
   {
    "duration": 24,
    "start_time": "2023-11-09T18:33:13.216Z"
   },
   {
    "duration": 4,
    "start_time": "2023-11-09T18:33:13.943Z"
   },
   {
    "duration": 5,
    "start_time": "2023-11-09T18:33:14.145Z"
   },
   {
    "duration": 11,
    "start_time": "2023-11-09T18:33:14.498Z"
   },
   {
    "duration": 5,
    "start_time": "2023-11-09T18:33:14.881Z"
   },
   {
    "duration": 8,
    "start_time": "2023-11-09T18:33:15.279Z"
   },
   {
    "duration": 16,
    "start_time": "2023-11-09T18:33:15.684Z"
   },
   {
    "duration": 7,
    "start_time": "2023-11-09T18:33:16.090Z"
   },
   {
    "duration": 4,
    "start_time": "2023-11-09T18:33:16.485Z"
   },
   {
    "duration": 22,
    "start_time": "2023-11-09T18:33:16.696Z"
   },
   {
    "duration": 14,
    "start_time": "2023-11-09T18:33:17.100Z"
   },
   {
    "duration": 9,
    "start_time": "2023-11-09T18:33:17.512Z"
   },
   {
    "duration": 23,
    "start_time": "2023-11-09T18:33:17.927Z"
   },
   {
    "duration": 9,
    "start_time": "2023-11-09T18:33:18.331Z"
   },
   {
    "duration": 17,
    "start_time": "2023-11-09T18:33:18.742Z"
   },
   {
    "duration": 137,
    "start_time": "2023-11-09T18:33:19.778Z"
   },
   {
    "duration": 13,
    "start_time": "2023-11-09T18:33:20.191Z"
   },
   {
    "duration": 9,
    "start_time": "2023-11-09T18:33:20.602Z"
   },
   {
    "duration": 227,
    "start_time": "2023-11-09T18:33:21.037Z"
   },
   {
    "duration": 12,
    "start_time": "2023-11-09T18:33:21.454Z"
   },
   {
    "duration": 126,
    "start_time": "2023-11-09T18:33:21.668Z"
   },
   {
    "duration": 8,
    "start_time": "2023-11-09T18:33:22.096Z"
   },
   {
    "duration": 19,
    "start_time": "2023-11-09T18:33:22.312Z"
   },
   {
    "duration": 436,
    "start_time": "2023-11-09T18:33:22.726Z"
   },
   {
    "duration": 219,
    "start_time": "2023-11-09T18:33:23.164Z"
   },
   {
    "duration": 1572,
    "start_time": "2023-11-09T18:33:23.582Z"
   },
   {
    "duration": 183,
    "start_time": "2023-11-09T18:33:25.156Z"
   },
   {
    "duration": 196,
    "start_time": "2023-11-09T18:33:25.340Z"
   },
   {
    "duration": 1667,
    "start_time": "2023-11-09T18:33:25.538Z"
   },
   {
    "duration": 496,
    "start_time": "2023-11-09T18:33:27.207Z"
   },
   {
    "duration": 12,
    "start_time": "2023-11-09T18:33:27.704Z"
   },
   {
    "duration": 13,
    "start_time": "2023-11-09T18:34:14.552Z"
   },
   {
    "duration": 14,
    "start_time": "2023-11-09T18:34:31.510Z"
   },
   {
    "duration": 9,
    "start_time": "2023-11-09T18:34:51.091Z"
   },
   {
    "duration": 13,
    "start_time": "2023-11-09T18:37:53.780Z"
   },
   {
    "duration": 19,
    "start_time": "2023-11-09T18:46:09.724Z"
   },
   {
    "duration": 10,
    "start_time": "2023-11-09T18:47:26.440Z"
   },
   {
    "duration": 31,
    "start_time": "2023-11-09T19:24:57.632Z"
   },
   {
    "duration": 25,
    "start_time": "2023-11-09T19:25:31.185Z"
   },
   {
    "duration": 19,
    "start_time": "2023-11-09T19:26:22.654Z"
   },
   {
    "duration": 17,
    "start_time": "2023-11-09T19:26:27.676Z"
   },
   {
    "duration": 24,
    "start_time": "2023-11-09T19:27:21.804Z"
   },
   {
    "duration": 22,
    "start_time": "2023-11-09T19:27:45.198Z"
   },
   {
    "duration": 25,
    "start_time": "2023-11-09T19:28:02.029Z"
   },
   {
    "duration": 24,
    "start_time": "2023-11-09T19:30:41.224Z"
   },
   {
    "duration": 22,
    "start_time": "2023-11-09T19:35:07.786Z"
   },
   {
    "duration": 17,
    "start_time": "2023-11-09T19:35:46.006Z"
   },
   {
    "duration": 21,
    "start_time": "2023-11-09T19:36:48.833Z"
   },
   {
    "duration": 25,
    "start_time": "2023-11-09T19:37:19.435Z"
   },
   {
    "duration": 23,
    "start_time": "2023-11-09T19:37:46.193Z"
   },
   {
    "duration": 24,
    "start_time": "2023-11-09T19:39:00.571Z"
   },
   {
    "duration": 26,
    "start_time": "2023-11-09T19:39:06.953Z"
   },
   {
    "duration": 25,
    "start_time": "2023-11-09T19:39:41.420Z"
   },
   {
    "duration": 18,
    "start_time": "2023-11-09T19:40:29.538Z"
   },
   {
    "duration": 23,
    "start_time": "2023-11-09T19:40:36.805Z"
   },
   {
    "duration": 26,
    "start_time": "2023-11-09T19:40:42.618Z"
   },
   {
    "duration": 25,
    "start_time": "2023-11-09T19:40:52.721Z"
   },
   {
    "duration": 18,
    "start_time": "2023-11-09T19:41:03.963Z"
   },
   {
    "duration": 17,
    "start_time": "2023-11-09T19:41:39.310Z"
   },
   {
    "duration": 20,
    "start_time": "2023-11-09T19:42:01.749Z"
   },
   {
    "duration": 19,
    "start_time": "2023-11-09T19:42:29.349Z"
   },
   {
    "duration": 20,
    "start_time": "2023-11-09T19:43:09.049Z"
   },
   {
    "duration": 21,
    "start_time": "2023-11-09T19:43:25.755Z"
   },
   {
    "duration": 14,
    "start_time": "2023-11-09T19:47:03.261Z"
   },
   {
    "duration": 16,
    "start_time": "2023-11-09T19:47:35.377Z"
   },
   {
    "duration": 22,
    "start_time": "2023-11-09T19:51:07.313Z"
   },
   {
    "duration": 20,
    "start_time": "2023-11-09T19:51:27.902Z"
   },
   {
    "duration": 24,
    "start_time": "2023-11-09T19:52:05.798Z"
   },
   {
    "duration": 18,
    "start_time": "2023-11-09T19:53:29.115Z"
   },
   {
    "duration": 17,
    "start_time": "2023-11-09T19:53:53.882Z"
   },
   {
    "duration": 21,
    "start_time": "2023-11-09T19:54:23.905Z"
   },
   {
    "duration": 30,
    "start_time": "2023-11-09T19:57:00.296Z"
   },
   {
    "duration": 29,
    "start_time": "2023-11-09T20:01:32.126Z"
   },
   {
    "duration": 24,
    "start_time": "2023-11-09T20:04:53.663Z"
   },
   {
    "duration": 33,
    "start_time": "2023-11-09T20:05:02.544Z"
   },
   {
    "duration": 36,
    "start_time": "2023-11-09T20:05:29.131Z"
   },
   {
    "duration": 21,
    "start_time": "2023-11-09T20:06:14.933Z"
   },
   {
    "duration": 24,
    "start_time": "2023-11-09T20:07:07.353Z"
   },
   {
    "duration": 21,
    "start_time": "2023-11-09T20:07:36.780Z"
   },
   {
    "duration": 30,
    "start_time": "2023-11-09T20:08:24.640Z"
   },
   {
    "duration": 28,
    "start_time": "2023-11-09T20:08:31.248Z"
   },
   {
    "duration": 38,
    "start_time": "2023-11-09T20:08:34.667Z"
   },
   {
    "duration": 76,
    "start_time": "2023-11-09T20:08:49.952Z"
   },
   {
    "duration": 31,
    "start_time": "2023-11-09T20:09:04.105Z"
   },
   {
    "duration": 66,
    "start_time": "2023-11-09T20:09:22.405Z"
   },
   {
    "duration": 26,
    "start_time": "2023-11-09T20:09:36.850Z"
   },
   {
    "duration": 29,
    "start_time": "2023-11-09T20:09:52.186Z"
   },
   {
    "duration": 22,
    "start_time": "2023-11-09T20:09:57.745Z"
   },
   {
    "duration": 4,
    "start_time": "2023-11-09T20:13:04.048Z"
   },
   {
    "duration": 89,
    "start_time": "2023-11-09T20:13:04.253Z"
   },
   {
    "duration": 5,
    "start_time": "2023-11-09T20:13:04.429Z"
   },
   {
    "duration": 4,
    "start_time": "2023-11-09T20:13:04.635Z"
   },
   {
    "duration": 4,
    "start_time": "2023-11-09T20:13:04.829Z"
   },
   {
    "duration": 13,
    "start_time": "2023-11-09T20:13:05.030Z"
   },
   {
    "duration": 5,
    "start_time": "2023-11-09T20:13:05.848Z"
   },
   {
    "duration": 5,
    "start_time": "2023-11-09T20:13:06.051Z"
   },
   {
    "duration": 11,
    "start_time": "2023-11-09T20:13:06.470Z"
   },
   {
    "duration": 6,
    "start_time": "2023-11-09T20:13:06.861Z"
   },
   {
    "duration": 7,
    "start_time": "2023-11-09T20:13:07.272Z"
   },
   {
    "duration": 17,
    "start_time": "2023-11-09T20:13:07.693Z"
   },
   {
    "duration": 8,
    "start_time": "2023-11-09T20:13:08.125Z"
   },
   {
    "duration": 5,
    "start_time": "2023-11-09T20:13:08.529Z"
   },
   {
    "duration": 22,
    "start_time": "2023-11-09T20:13:08.735Z"
   },
   {
    "duration": 14,
    "start_time": "2023-11-09T20:13:09.154Z"
   },
   {
    "duration": 7,
    "start_time": "2023-11-09T20:13:09.568Z"
   },
   {
    "duration": 18,
    "start_time": "2023-11-09T20:13:09.981Z"
   },
   {
    "duration": 7,
    "start_time": "2023-11-09T20:13:10.394Z"
   },
   {
    "duration": 16,
    "start_time": "2023-11-09T20:13:10.836Z"
   },
   {
    "duration": 38,
    "start_time": "2023-11-09T20:13:11.899Z"
   },
   {
    "duration": 14,
    "start_time": "2023-11-09T20:13:12.324Z"
   },
   {
    "duration": 8,
    "start_time": "2023-11-09T20:13:12.754Z"
   },
   {
    "duration": 267,
    "start_time": "2023-11-09T20:13:13.197Z"
   },
   {
    "duration": 12,
    "start_time": "2023-11-09T20:13:13.628Z"
   },
   {
    "duration": 140,
    "start_time": "2023-11-09T20:13:13.828Z"
   },
   {
    "duration": 9,
    "start_time": "2023-11-09T20:13:14.247Z"
   },
   {
    "duration": 16,
    "start_time": "2023-11-09T20:13:14.473Z"
   },
   {
    "duration": 454,
    "start_time": "2023-11-09T20:13:14.925Z"
   },
   {
    "duration": 383,
    "start_time": "2023-11-09T20:13:15.382Z"
   },
   {
    "duration": 1508,
    "start_time": "2023-11-09T20:13:15.820Z"
   },
   {
    "duration": 180,
    "start_time": "2023-11-09T20:13:17.331Z"
   },
   {
    "duration": 189,
    "start_time": "2023-11-09T20:13:17.513Z"
   },
   {
    "duration": 1803,
    "start_time": "2023-11-09T20:13:17.704Z"
   },
   {
    "duration": 675,
    "start_time": "2023-11-09T20:13:19.510Z"
   },
   {
    "duration": 5,
    "start_time": "2023-11-09T20:13:20.188Z"
   },
   {
    "duration": 10,
    "start_time": "2023-11-09T20:13:20.194Z"
   },
   {
    "duration": 23,
    "start_time": "2023-11-09T20:13:20.205Z"
   },
   {
    "duration": 14,
    "start_time": "2023-11-09T20:13:20.230Z"
   },
   {
    "duration": 11,
    "start_time": "2023-11-09T20:13:20.246Z"
   },
   {
    "duration": 30,
    "start_time": "2023-11-09T20:13:20.260Z"
   },
   {
    "duration": 23,
    "start_time": "2023-11-09T20:13:20.425Z"
   },
   {
    "duration": 21,
    "start_time": "2023-11-09T20:13:20.870Z"
   },
   {
    "duration": 28,
    "start_time": "2023-11-09T20:25:55.982Z"
   },
   {
    "duration": 31,
    "start_time": "2023-11-09T20:26:15.862Z"
   },
   {
    "duration": 5,
    "start_time": "2023-11-09T20:50:00.983Z"
   },
   {
    "duration": 95,
    "start_time": "2023-11-09T20:50:01.182Z"
   },
   {
    "duration": 4,
    "start_time": "2023-11-09T20:50:01.362Z"
   },
   {
    "duration": 4,
    "start_time": "2023-11-09T20:50:01.555Z"
   },
   {
    "duration": 5,
    "start_time": "2023-11-09T20:50:01.742Z"
   },
   {
    "duration": 13,
    "start_time": "2023-11-09T20:50:01.931Z"
   },
   {
    "duration": 6,
    "start_time": "2023-11-09T20:50:02.724Z"
   },
   {
    "duration": 10,
    "start_time": "2023-11-09T20:50:02.921Z"
   },
   {
    "duration": 20,
    "start_time": "2023-11-09T20:50:03.310Z"
   },
   {
    "duration": 6,
    "start_time": "2023-11-09T20:50:03.702Z"
   },
   {
    "duration": 8,
    "start_time": "2023-11-09T20:50:04.099Z"
   },
   {
    "duration": 20,
    "start_time": "2023-11-09T20:50:04.481Z"
   },
   {
    "duration": 7,
    "start_time": "2023-11-09T20:50:04.887Z"
   },
   {
    "duration": 5,
    "start_time": "2023-11-09T20:50:05.276Z"
   },
   {
    "duration": 25,
    "start_time": "2023-11-09T20:50:05.487Z"
   },
   {
    "duration": 14,
    "start_time": "2023-11-09T20:50:05.883Z"
   },
   {
    "duration": 7,
    "start_time": "2023-11-09T20:50:06.273Z"
   },
   {
    "duration": 20,
    "start_time": "2023-11-09T20:50:06.678Z"
   },
   {
    "duration": 8,
    "start_time": "2023-11-09T20:50:07.090Z"
   },
   {
    "duration": 29,
    "start_time": "2023-11-09T20:50:07.511Z"
   },
   {
    "duration": 41,
    "start_time": "2023-11-09T20:50:08.532Z"
   },
   {
    "duration": 12,
    "start_time": "2023-11-09T20:50:08.939Z"
   },
   {
    "duration": 8,
    "start_time": "2023-11-09T20:50:09.363Z"
   },
   {
    "duration": 261,
    "start_time": "2023-11-09T20:50:09.779Z"
   },
   {
    "duration": 15,
    "start_time": "2023-11-09T20:50:10.205Z"
   },
   {
    "duration": 145,
    "start_time": "2023-11-09T20:50:10.429Z"
   },
   {
    "duration": 12,
    "start_time": "2023-11-09T20:50:10.845Z"
   },
   {
    "duration": 22,
    "start_time": "2023-11-09T20:50:11.075Z"
   },
   {
    "duration": 438,
    "start_time": "2023-11-09T20:50:11.504Z"
   },
   {
    "duration": 241,
    "start_time": "2023-11-09T20:50:11.944Z"
   },
   {
    "duration": 1606,
    "start_time": "2023-11-09T20:50:12.382Z"
   },
   {
    "duration": 189,
    "start_time": "2023-11-09T20:50:13.990Z"
   },
   {
    "duration": 196,
    "start_time": "2023-11-09T20:50:14.181Z"
   },
   {
    "duration": 1799,
    "start_time": "2023-11-09T20:50:14.380Z"
   },
   {
    "duration": 477,
    "start_time": "2023-11-09T20:50:16.181Z"
   },
   {
    "duration": 5,
    "start_time": "2023-11-09T20:50:16.661Z"
   },
   {
    "duration": 19,
    "start_time": "2023-11-09T20:50:16.668Z"
   },
   {
    "duration": 12,
    "start_time": "2023-11-09T20:50:16.689Z"
   },
   {
    "duration": 16,
    "start_time": "2023-11-09T20:50:16.716Z"
   },
   {
    "duration": 9,
    "start_time": "2023-11-09T20:50:16.734Z"
   },
   {
    "duration": 21,
    "start_time": "2023-11-09T20:50:16.745Z"
   },
   {
    "duration": 22,
    "start_time": "2023-11-09T20:50:16.927Z"
   },
   {
    "duration": 31,
    "start_time": "2023-11-09T20:50:17.352Z"
   },
   {
    "duration": 120,
    "start_time": "2023-11-09T20:50:18.410Z"
   },
   {
    "duration": 1563,
    "start_time": "2023-11-10T11:22:14.389Z"
   },
   {
    "duration": 266,
    "start_time": "2023-11-10T11:22:15.954Z"
   },
   {
    "duration": 5,
    "start_time": "2023-11-10T11:22:16.221Z"
   },
   {
    "duration": 9,
    "start_time": "2023-11-10T11:22:16.228Z"
   },
   {
    "duration": 12,
    "start_time": "2023-11-10T11:22:16.239Z"
   },
   {
    "duration": 28,
    "start_time": "2023-11-10T11:22:16.253Z"
   },
   {
    "duration": 6,
    "start_time": "2023-11-10T11:22:16.284Z"
   },
   {
    "duration": 15,
    "start_time": "2023-11-10T11:22:16.292Z"
   },
   {
    "duration": 21,
    "start_time": "2023-11-10T11:22:16.309Z"
   },
   {
    "duration": 12,
    "start_time": "2023-11-10T11:22:16.334Z"
   },
   {
    "duration": 9,
    "start_time": "2023-11-10T11:22:16.348Z"
   },
   {
    "duration": 36,
    "start_time": "2023-11-10T11:22:16.359Z"
   },
   {
    "duration": 9,
    "start_time": "2023-11-10T11:22:16.397Z"
   },
   {
    "duration": 4,
    "start_time": "2023-11-10T11:22:16.408Z"
   },
   {
    "duration": 24,
    "start_time": "2023-11-10T11:22:16.413Z"
   },
   {
    "duration": 13,
    "start_time": "2023-11-10T11:22:16.438Z"
   },
   {
    "duration": 11,
    "start_time": "2023-11-10T11:22:16.453Z"
   },
   {
    "duration": 44,
    "start_time": "2023-11-10T11:22:16.466Z"
   },
   {
    "duration": 11,
    "start_time": "2023-11-10T11:22:16.511Z"
   },
   {
    "duration": 17,
    "start_time": "2023-11-10T11:22:16.524Z"
   },
   {
    "duration": 30,
    "start_time": "2023-11-10T11:22:16.543Z"
   },
   {
    "duration": 36,
    "start_time": "2023-11-10T11:22:16.575Z"
   },
   {
    "duration": 48,
    "start_time": "2023-11-10T11:22:16.613Z"
   },
   {
    "duration": 242,
    "start_time": "2023-11-10T11:22:16.663Z"
   },
   {
    "duration": 10,
    "start_time": "2023-11-10T11:22:16.907Z"
   },
   {
    "duration": 151,
    "start_time": "2023-11-10T11:22:16.918Z"
   },
   {
    "duration": 8,
    "start_time": "2023-11-10T11:22:17.071Z"
   },
   {
    "duration": 31,
    "start_time": "2023-11-10T11:22:17.082Z"
   },
   {
    "duration": 413,
    "start_time": "2023-11-10T11:22:17.115Z"
   },
   {
    "duration": 237,
    "start_time": "2023-11-10T11:22:17.530Z"
   },
   {
    "duration": 1529,
    "start_time": "2023-11-10T11:22:17.769Z"
   },
   {
    "duration": 166,
    "start_time": "2023-11-10T11:22:19.301Z"
   },
   {
    "duration": 169,
    "start_time": "2023-11-10T11:22:19.469Z"
   },
   {
    "duration": 1515,
    "start_time": "2023-11-10T11:22:19.639Z"
   },
   {
    "duration": 424,
    "start_time": "2023-11-10T11:22:21.156Z"
   },
   {
    "duration": 5,
    "start_time": "2023-11-10T11:22:21.582Z"
   },
   {
    "duration": 29,
    "start_time": "2023-11-10T11:22:21.588Z"
   },
   {
    "duration": 33,
    "start_time": "2023-11-10T11:22:21.619Z"
   },
   {
    "duration": 22,
    "start_time": "2023-11-10T11:22:21.653Z"
   },
   {
    "duration": 31,
    "start_time": "2023-11-10T11:22:21.677Z"
   },
   {
    "duration": 137,
    "start_time": "2023-11-10T11:22:21.709Z"
   },
   {
    "duration": 21,
    "start_time": "2023-11-10T11:22:21.848Z"
   },
   {
    "duration": 41,
    "start_time": "2023-11-10T11:22:21.871Z"
   },
   {
    "duration": 8,
    "start_time": "2023-11-10T11:32:06.528Z"
   },
   {
    "duration": 1498,
    "start_time": "2023-11-10T18:01:45.294Z"
   },
   {
    "duration": 70,
    "start_time": "2023-11-10T18:01:46.794Z"
   },
   {
    "duration": 3,
    "start_time": "2023-11-10T18:01:46.865Z"
   },
   {
    "duration": 14,
    "start_time": "2023-11-10T18:01:46.869Z"
   },
   {
    "duration": 10,
    "start_time": "2023-11-10T18:01:46.885Z"
   },
   {
    "duration": 26,
    "start_time": "2023-11-10T18:01:46.896Z"
   },
   {
    "duration": 9,
    "start_time": "2023-11-10T18:01:46.923Z"
   },
   {
    "duration": 22,
    "start_time": "2023-11-10T18:01:46.933Z"
   },
   {
    "duration": 13,
    "start_time": "2023-11-10T18:01:46.956Z"
   },
   {
    "duration": 8,
    "start_time": "2023-11-10T18:01:46.970Z"
   },
   {
    "duration": 10,
    "start_time": "2023-11-10T18:01:46.979Z"
   },
   {
    "duration": 20,
    "start_time": "2023-11-10T18:01:46.990Z"
   },
   {
    "duration": 5,
    "start_time": "2023-11-10T18:01:47.011Z"
   },
   {
    "duration": 8,
    "start_time": "2023-11-10T18:01:47.019Z"
   },
   {
    "duration": 22,
    "start_time": "2023-11-10T18:01:47.028Z"
   },
   {
    "duration": 10,
    "start_time": "2023-11-10T18:01:47.052Z"
   },
   {
    "duration": 8,
    "start_time": "2023-11-10T18:01:47.063Z"
   },
   {
    "duration": 15,
    "start_time": "2023-11-10T18:01:47.072Z"
   },
   {
    "duration": 6,
    "start_time": "2023-11-10T18:01:47.088Z"
   },
   {
    "duration": 19,
    "start_time": "2023-11-10T18:01:47.095Z"
   },
   {
    "duration": 42,
    "start_time": "2023-11-10T18:01:47.115Z"
   },
   {
    "duration": 10,
    "start_time": "2023-11-10T18:01:47.159Z"
   },
   {
    "duration": 10,
    "start_time": "2023-11-10T18:01:47.170Z"
   },
   {
    "duration": 221,
    "start_time": "2023-11-10T18:01:47.181Z"
   },
   {
    "duration": 9,
    "start_time": "2023-11-10T18:01:47.404Z"
   },
   {
    "duration": 127,
    "start_time": "2023-11-10T18:01:47.414Z"
   },
   {
    "duration": 8,
    "start_time": "2023-11-10T18:01:47.542Z"
   },
   {
    "duration": 15,
    "start_time": "2023-11-10T18:01:47.551Z"
   },
   {
    "duration": 346,
    "start_time": "2023-11-10T18:01:47.567Z"
   },
   {
    "duration": 180,
    "start_time": "2023-11-10T18:01:47.914Z"
   },
   {
    "duration": 1344,
    "start_time": "2023-11-10T18:01:48.095Z"
   },
   {
    "duration": 134,
    "start_time": "2023-11-10T18:01:49.441Z"
   },
   {
    "duration": 141,
    "start_time": "2023-11-10T18:01:49.577Z"
   },
   {
    "duration": 1218,
    "start_time": "2023-11-10T18:01:49.719Z"
   },
   {
    "duration": 350,
    "start_time": "2023-11-10T18:01:50.939Z"
   },
   {
    "duration": 3,
    "start_time": "2023-11-10T18:01:51.291Z"
   },
   {
    "duration": 33,
    "start_time": "2023-11-10T18:01:51.296Z"
   },
   {
    "duration": 43,
    "start_time": "2023-11-10T18:01:51.331Z"
   },
   {
    "duration": 25,
    "start_time": "2023-11-10T18:01:51.376Z"
   },
   {
    "duration": 37,
    "start_time": "2023-11-10T18:01:51.402Z"
   },
   {
    "duration": 28,
    "start_time": "2023-11-10T18:01:51.442Z"
   },
   {
    "duration": 45,
    "start_time": "2023-11-10T18:01:51.471Z"
   },
   {
    "duration": 97,
    "start_time": "2023-11-10T18:01:51.518Z"
   },
   {
    "duration": 4,
    "start_time": "2023-11-10T18:08:46.629Z"
   },
   {
    "duration": 111,
    "start_time": "2023-11-10T18:09:18.217Z"
   },
   {
    "duration": 19,
    "start_time": "2023-11-10T18:09:37.432Z"
   },
   {
    "duration": 23,
    "start_time": "2023-11-10T18:09:48.105Z"
   },
   {
    "duration": 16,
    "start_time": "2023-11-10T18:30:34.874Z"
   },
   {
    "duration": 4,
    "start_time": "2023-11-10T18:35:27.990Z"
   },
   {
    "duration": 5,
    "start_time": "2023-11-10T18:35:42.338Z"
   },
   {
    "duration": 4,
    "start_time": "2023-11-10T18:35:59.010Z"
   },
   {
    "duration": 6,
    "start_time": "2023-11-10T18:36:00.967Z"
   },
   {
    "duration": 4,
    "start_time": "2023-11-10T18:36:16.184Z"
   },
   {
    "duration": 69,
    "start_time": "2023-11-10T19:05:37.490Z"
   },
   {
    "duration": 3,
    "start_time": "2023-11-10T19:05:51.770Z"
   },
   {
    "duration": 4,
    "start_time": "2023-11-10T19:05:51.775Z"
   },
   {
    "duration": 5,
    "start_time": "2023-11-10T19:05:51.780Z"
   },
   {
    "duration": 17,
    "start_time": "2023-11-10T19:06:44.313Z"
   },
   {
    "duration": 15,
    "start_time": "2023-11-10T19:07:16.101Z"
   },
   {
    "duration": 5,
    "start_time": "2023-11-10T19:07:35.630Z"
   },
   {
    "duration": 5,
    "start_time": "2023-11-10T19:07:44.801Z"
   },
   {
    "duration": 4,
    "start_time": "2023-11-10T19:08:00.414Z"
   },
   {
    "duration": 61,
    "start_time": "2023-11-10T19:08:00.806Z"
   },
   {
    "duration": 3,
    "start_time": "2023-11-10T19:08:00.996Z"
   },
   {
    "duration": 2,
    "start_time": "2023-11-10T19:08:01.212Z"
   },
   {
    "duration": 3,
    "start_time": "2023-11-10T19:08:01.406Z"
   },
   {
    "duration": 13,
    "start_time": "2023-11-10T19:08:01.607Z"
   },
   {
    "duration": 5,
    "start_time": "2023-11-10T19:08:02.791Z"
   },
   {
    "duration": 4,
    "start_time": "2023-11-10T19:08:03.007Z"
   },
   {
    "duration": 9,
    "start_time": "2023-11-10T19:08:03.421Z"
   },
   {
    "duration": 5,
    "start_time": "2023-11-10T19:08:03.856Z"
   },
   {
    "duration": 7,
    "start_time": "2023-11-10T19:08:04.276Z"
   },
   {
    "duration": 13,
    "start_time": "2023-11-10T19:08:04.684Z"
   },
   {
    "duration": 6,
    "start_time": "2023-11-10T19:08:05.109Z"
   },
   {
    "duration": 3,
    "start_time": "2023-11-10T19:08:05.739Z"
   },
   {
    "duration": 20,
    "start_time": "2023-11-10T19:08:05.958Z"
   },
   {
    "duration": 12,
    "start_time": "2023-11-10T19:08:06.594Z"
   },
   {
    "duration": 6,
    "start_time": "2023-11-10T19:08:07.240Z"
   },
   {
    "duration": 16,
    "start_time": "2023-11-10T19:08:07.900Z"
   },
   {
    "duration": 6,
    "start_time": "2023-11-10T19:08:08.347Z"
   },
   {
    "duration": 16,
    "start_time": "2023-11-10T19:08:08.784Z"
   },
   {
    "duration": 6,
    "start_time": "2023-11-10T19:08:10.674Z"
   },
   {
    "duration": 16,
    "start_time": "2023-11-10T19:08:10.894Z"
   },
   {
    "duration": 22,
    "start_time": "2023-11-10T19:08:11.114Z"
   },
   {
    "duration": 19,
    "start_time": "2023-11-10T19:08:34.533Z"
   },
   {
    "duration": 20,
    "start_time": "2023-11-10T19:09:16.359Z"
   },
   {
    "duration": 5,
    "start_time": "2023-11-10T19:09:46.579Z"
   },
   {
    "duration": 4,
    "start_time": "2023-11-10T19:09:59.039Z"
   },
   {
    "duration": 118,
    "start_time": "2023-11-10T19:23:44.332Z"
   },
   {
    "duration": 1424,
    "start_time": "2023-11-10T19:48:04.951Z"
   },
   {
    "duration": 199,
    "start_time": "2023-11-10T19:48:06.377Z"
   },
   {
    "duration": 3,
    "start_time": "2023-11-10T19:48:06.577Z"
   },
   {
    "duration": 4,
    "start_time": "2023-11-10T19:48:06.582Z"
   },
   {
    "duration": 8,
    "start_time": "2023-11-10T19:48:06.587Z"
   },
   {
    "duration": 15,
    "start_time": "2023-11-10T19:48:06.596Z"
   },
   {
    "duration": 5,
    "start_time": "2023-11-10T19:48:07.057Z"
   },
   {
    "duration": 5,
    "start_time": "2023-11-10T19:48:07.252Z"
   },
   {
    "duration": 10,
    "start_time": "2023-11-10T19:48:07.650Z"
   },
   {
    "duration": 4,
    "start_time": "2023-11-10T19:48:08.055Z"
   },
   {
    "duration": 6,
    "start_time": "2023-11-10T19:48:08.444Z"
   },
   {
    "duration": 14,
    "start_time": "2023-11-10T19:48:08.845Z"
   },
   {
    "duration": 7,
    "start_time": "2023-11-10T19:48:09.271Z"
   },
   {
    "duration": 4,
    "start_time": "2023-11-10T19:48:09.876Z"
   },
   {
    "duration": 20,
    "start_time": "2023-11-10T19:48:10.096Z"
   },
   {
    "duration": 13,
    "start_time": "2023-11-10T19:48:10.701Z"
   },
   {
    "duration": 7,
    "start_time": "2023-11-10T19:48:11.341Z"
   },
   {
    "duration": 18,
    "start_time": "2023-11-10T19:48:11.962Z"
   },
   {
    "duration": 7,
    "start_time": "2023-11-10T19:48:12.396Z"
   },
   {
    "duration": 23,
    "start_time": "2023-11-10T19:48:12.810Z"
   },
   {
    "duration": 5,
    "start_time": "2023-11-10T19:48:14.511Z"
   },
   {
    "duration": 113,
    "start_time": "2023-11-10T19:48:14.729Z"
   },
   {
    "duration": 71,
    "start_time": "2023-11-10T19:48:14.943Z"
   },
   {
    "duration": 10,
    "start_time": "2023-11-10T19:48:15.382Z"
   },
   {
    "duration": 7,
    "start_time": "2023-11-10T19:48:16.027Z"
   },
   {
    "duration": 237,
    "start_time": "2023-11-10T19:48:16.454Z"
   },
   {
    "duration": 11,
    "start_time": "2023-11-10T19:48:17.092Z"
   },
   {
    "duration": 117,
    "start_time": "2023-11-10T19:48:17.305Z"
   },
   {
    "duration": 7,
    "start_time": "2023-11-10T19:48:17.722Z"
   },
   {
    "duration": 15,
    "start_time": "2023-11-10T19:48:18.127Z"
   },
   {
    "duration": 386,
    "start_time": "2023-11-10T19:48:18.542Z"
   },
   {
    "duration": 196,
    "start_time": "2023-11-10T19:48:19.364Z"
   },
   {
    "duration": 1582,
    "start_time": "2023-11-10T19:48:19.789Z"
   },
   {
    "duration": 162,
    "start_time": "2023-11-10T19:48:21.373Z"
   },
   {
    "duration": 207,
    "start_time": "2023-11-10T19:48:21.536Z"
   },
   {
    "duration": 1667,
    "start_time": "2023-11-10T19:48:21.745Z"
   },
   {
    "duration": 475,
    "start_time": "2023-11-10T19:48:23.415Z"
   },
   {
    "duration": 6,
    "start_time": "2023-11-10T19:48:23.891Z"
   },
   {
    "duration": 10,
    "start_time": "2023-11-10T19:48:23.899Z"
   },
   {
    "duration": 8,
    "start_time": "2023-11-10T19:48:23.923Z"
   },
   {
    "duration": 18,
    "start_time": "2023-11-10T19:48:23.932Z"
   },
   {
    "duration": 10,
    "start_time": "2023-11-10T19:48:24.166Z"
   },
   {
    "duration": 30,
    "start_time": "2023-11-10T19:48:25.260Z"
   },
   {
    "duration": 95,
    "start_time": "2023-11-10T19:48:25.701Z"
   },
   {
    "duration": 21,
    "start_time": "2023-11-10T19:48:26.136Z"
   },
   {
    "duration": 387,
    "start_time": "2023-11-10T19:49:29.094Z"
   },
   {
    "duration": 373,
    "start_time": "2023-11-10T19:50:02.604Z"
   },
   {
    "duration": 392,
    "start_time": "2023-11-10T19:50:12.580Z"
   },
   {
    "duration": 44,
    "start_time": "2023-11-10T20:20:14.858Z"
   },
   {
    "duration": 55,
    "start_time": "2023-11-10T20:20:23.033Z"
   },
   {
    "duration": 14,
    "start_time": "2023-11-10T20:21:58.104Z"
   },
   {
    "duration": 1414,
    "start_time": "2023-11-10T20:40:14.309Z"
   },
   {
    "duration": 116,
    "start_time": "2023-11-10T20:40:15.725Z"
   },
   {
    "duration": 3,
    "start_time": "2023-11-10T20:40:15.843Z"
   },
   {
    "duration": 4,
    "start_time": "2023-11-10T20:40:15.847Z"
   },
   {
    "duration": 5,
    "start_time": "2023-11-10T20:40:15.852Z"
   },
   {
    "duration": 14,
    "start_time": "2023-11-10T20:40:15.859Z"
   },
   {
    "duration": 5,
    "start_time": "2023-11-10T20:40:15.874Z"
   },
   {
    "duration": 19,
    "start_time": "2023-11-10T20:40:15.881Z"
   },
   {
    "duration": 14,
    "start_time": "2023-11-10T20:40:15.902Z"
   },
   {
    "duration": 5,
    "start_time": "2023-11-10T20:40:15.919Z"
   },
   {
    "duration": 6,
    "start_time": "2023-11-10T20:40:15.926Z"
   },
   {
    "duration": 17,
    "start_time": "2023-11-10T20:40:15.934Z"
   },
   {
    "duration": 6,
    "start_time": "2023-11-10T20:40:15.953Z"
   },
   {
    "duration": 42,
    "start_time": "2023-11-10T20:40:15.960Z"
   },
   {
    "duration": 21,
    "start_time": "2023-11-10T20:40:16.004Z"
   },
   {
    "duration": 13,
    "start_time": "2023-11-10T20:40:16.027Z"
   },
   {
    "duration": 7,
    "start_time": "2023-11-10T20:40:16.042Z"
   },
   {
    "duration": 53,
    "start_time": "2023-11-10T20:40:16.050Z"
   },
   {
    "duration": 7,
    "start_time": "2023-11-10T20:40:16.105Z"
   },
   {
    "duration": 14,
    "start_time": "2023-11-10T20:40:16.114Z"
   },
   {
    "duration": 76,
    "start_time": "2023-11-10T20:40:16.130Z"
   },
   {
    "duration": 40,
    "start_time": "2023-11-10T20:40:16.208Z"
   },
   {
    "duration": 76,
    "start_time": "2023-11-10T20:40:16.250Z"
   },
   {
    "duration": 10,
    "start_time": "2023-11-10T20:40:16.328Z"
   },
   {
    "duration": 10,
    "start_time": "2023-11-10T20:40:16.340Z"
   },
   {
    "duration": 229,
    "start_time": "2023-11-10T20:40:16.351Z"
   },
   {
    "duration": 18,
    "start_time": "2023-11-10T20:40:16.582Z"
   },
   {
    "duration": 122,
    "start_time": "2023-11-10T20:40:16.603Z"
   },
   {
    "duration": 7,
    "start_time": "2023-11-10T20:40:16.726Z"
   },
   {
    "duration": 14,
    "start_time": "2023-11-10T20:40:16.734Z"
   },
   {
    "duration": 362,
    "start_time": "2023-11-10T20:40:16.750Z"
   },
   {
    "duration": 191,
    "start_time": "2023-11-10T20:40:17.113Z"
   },
   {
    "duration": 1354,
    "start_time": "2023-11-10T20:40:17.305Z"
   },
   {
    "duration": 158,
    "start_time": "2023-11-10T20:40:18.661Z"
   },
   {
    "duration": 144,
    "start_time": "2023-11-10T20:40:18.821Z"
   },
   {
    "duration": 1546,
    "start_time": "2023-11-10T20:40:18.966Z"
   },
   {
    "duration": 412,
    "start_time": "2023-11-10T20:40:20.513Z"
   },
   {
    "duration": 4,
    "start_time": "2023-11-10T20:40:20.926Z"
   },
   {
    "duration": 8,
    "start_time": "2023-11-10T20:40:20.931Z"
   },
   {
    "duration": 9,
    "start_time": "2023-11-10T20:40:20.940Z"
   },
   {
    "duration": 11,
    "start_time": "2023-11-10T20:40:20.950Z"
   },
   {
    "duration": 38,
    "start_time": "2023-11-10T20:40:20.962Z"
   },
   {
    "duration": 108,
    "start_time": "2023-11-10T20:40:21.001Z"
   },
   {
    "duration": 23,
    "start_time": "2023-11-10T20:40:21.111Z"
   },
   {
    "duration": 28,
    "start_time": "2023-11-10T20:40:21.136Z"
   },
   {
    "duration": 76,
    "start_time": "2023-11-10T20:40:47.732Z"
   },
   {
    "duration": 73,
    "start_time": "2023-11-10T20:43:12.859Z"
   },
   {
    "duration": 38,
    "start_time": "2023-11-10T20:43:24.984Z"
   },
   {
    "duration": 38,
    "start_time": "2023-11-10T20:43:57.510Z"
   },
   {
    "duration": 37,
    "start_time": "2023-11-10T20:44:10.330Z"
   },
   {
    "duration": 102,
    "start_time": "2023-11-10T20:45:38.403Z"
   },
   {
    "duration": 1443,
    "start_time": "2023-11-10T20:52:47.039Z"
   },
   {
    "duration": 93,
    "start_time": "2023-11-10T20:52:48.484Z"
   },
   {
    "duration": 4,
    "start_time": "2023-11-10T20:52:48.578Z"
   },
   {
    "duration": 5,
    "start_time": "2023-11-10T20:52:48.584Z"
   },
   {
    "duration": 10,
    "start_time": "2023-11-10T20:52:48.591Z"
   },
   {
    "duration": 14,
    "start_time": "2023-11-10T20:52:48.602Z"
   },
   {
    "duration": 4,
    "start_time": "2023-11-10T20:52:48.618Z"
   },
   {
    "duration": 6,
    "start_time": "2023-11-10T20:52:48.624Z"
   },
   {
    "duration": 12,
    "start_time": "2023-11-10T20:52:48.632Z"
   },
   {
    "duration": 4,
    "start_time": "2023-11-10T20:52:48.646Z"
   },
   {
    "duration": 7,
    "start_time": "2023-11-10T20:52:48.682Z"
   },
   {
    "duration": 17,
    "start_time": "2023-11-10T20:52:48.690Z"
   },
   {
    "duration": 6,
    "start_time": "2023-11-10T20:52:48.708Z"
   },
   {
    "duration": 10,
    "start_time": "2023-11-10T20:52:48.715Z"
   },
   {
    "duration": 22,
    "start_time": "2023-11-10T20:52:48.727Z"
   },
   {
    "duration": 42,
    "start_time": "2023-11-10T20:52:48.750Z"
   },
   {
    "duration": 10,
    "start_time": "2023-11-10T20:52:48.793Z"
   },
   {
    "duration": 19,
    "start_time": "2023-11-10T20:52:48.804Z"
   },
   {
    "duration": 8,
    "start_time": "2023-11-10T20:52:48.825Z"
   },
   {
    "duration": 16,
    "start_time": "2023-11-10T20:52:48.835Z"
   },
   {
    "duration": 41,
    "start_time": "2023-11-10T20:52:48.883Z"
   },
   {
    "duration": 83,
    "start_time": "2023-11-10T20:52:48.926Z"
   },
   {
    "duration": 87,
    "start_time": "2023-11-10T20:52:49.010Z"
   },
   {
    "duration": 0,
    "start_time": "2023-11-10T20:52:49.100Z"
   },
   {
    "duration": 0,
    "start_time": "2023-11-10T20:52:49.101Z"
   },
   {
    "duration": 0,
    "start_time": "2023-11-10T20:52:49.102Z"
   },
   {
    "duration": 0,
    "start_time": "2023-11-10T20:52:49.103Z"
   },
   {
    "duration": 0,
    "start_time": "2023-11-10T20:52:49.104Z"
   },
   {
    "duration": 0,
    "start_time": "2023-11-10T20:52:49.106Z"
   },
   {
    "duration": 0,
    "start_time": "2023-11-10T20:52:49.107Z"
   },
   {
    "duration": 0,
    "start_time": "2023-11-10T20:52:49.108Z"
   },
   {
    "duration": 0,
    "start_time": "2023-11-10T20:52:49.109Z"
   },
   {
    "duration": 0,
    "start_time": "2023-11-10T20:52:49.111Z"
   },
   {
    "duration": 0,
    "start_time": "2023-11-10T20:52:49.113Z"
   },
   {
    "duration": 0,
    "start_time": "2023-11-10T20:52:49.114Z"
   },
   {
    "duration": 0,
    "start_time": "2023-11-10T20:52:49.115Z"
   },
   {
    "duration": 0,
    "start_time": "2023-11-10T20:52:49.116Z"
   },
   {
    "duration": 0,
    "start_time": "2023-11-10T20:52:49.118Z"
   },
   {
    "duration": 0,
    "start_time": "2023-11-10T20:52:49.119Z"
   },
   {
    "duration": 0,
    "start_time": "2023-11-10T20:52:49.120Z"
   },
   {
    "duration": 0,
    "start_time": "2023-11-10T20:52:49.122Z"
   },
   {
    "duration": 0,
    "start_time": "2023-11-10T20:52:49.123Z"
   },
   {
    "duration": 0,
    "start_time": "2023-11-10T20:52:49.124Z"
   },
   {
    "duration": 0,
    "start_time": "2023-11-10T20:52:49.125Z"
   },
   {
    "duration": 4,
    "start_time": "2023-11-10T20:53:06.267Z"
   },
   {
    "duration": 76,
    "start_time": "2023-11-10T20:53:06.642Z"
   },
   {
    "duration": 4,
    "start_time": "2023-11-10T20:53:06.831Z"
   },
   {
    "duration": 3,
    "start_time": "2023-11-10T20:53:07.025Z"
   },
   {
    "duration": 4,
    "start_time": "2023-11-10T20:53:07.213Z"
   },
   {
    "duration": 12,
    "start_time": "2023-11-10T20:53:07.391Z"
   },
   {
    "duration": 6,
    "start_time": "2023-11-10T20:53:08.359Z"
   },
   {
    "duration": 5,
    "start_time": "2023-11-10T20:53:08.555Z"
   },
   {
    "duration": 11,
    "start_time": "2023-11-10T20:53:08.959Z"
   },
   {
    "duration": 4,
    "start_time": "2023-11-10T20:53:09.362Z"
   },
   {
    "duration": 6,
    "start_time": "2023-11-10T20:53:09.755Z"
   },
   {
    "duration": 15,
    "start_time": "2023-11-10T20:53:10.161Z"
   },
   {
    "duration": 6,
    "start_time": "2023-11-10T20:53:10.558Z"
   },
   {
    "duration": 4,
    "start_time": "2023-11-10T20:53:11.172Z"
   },
   {
    "duration": 21,
    "start_time": "2023-11-10T20:53:11.376Z"
   },
   {
    "duration": 13,
    "start_time": "2023-11-10T20:53:11.975Z"
   },
   {
    "duration": 7,
    "start_time": "2023-11-10T20:53:12.590Z"
   },
   {
    "duration": 18,
    "start_time": "2023-11-10T20:53:13.212Z"
   },
   {
    "duration": 7,
    "start_time": "2023-11-10T20:53:13.617Z"
   },
   {
    "duration": 18,
    "start_time": "2023-11-10T20:53:14.021Z"
   },
   {
    "duration": 39,
    "start_time": "2023-11-10T20:53:17.164Z"
   },
   {
    "duration": 67,
    "start_time": "2023-11-10T20:53:17.366Z"
   },
   {
    "duration": 1304,
    "start_time": "2023-11-10T21:05:27.941Z"
   },
   {
    "duration": 73,
    "start_time": "2023-11-10T21:05:29.247Z"
   },
   {
    "duration": 4,
    "start_time": "2023-11-10T21:05:29.322Z"
   },
   {
    "duration": 33,
    "start_time": "2023-11-10T21:05:29.327Z"
   },
   {
    "duration": 9,
    "start_time": "2023-11-10T21:05:29.361Z"
   },
   {
    "duration": 12,
    "start_time": "2023-11-10T21:05:29.371Z"
   },
   {
    "duration": 4,
    "start_time": "2023-11-10T21:05:29.384Z"
   },
   {
    "duration": 18,
    "start_time": "2023-11-10T21:05:29.390Z"
   },
   {
    "duration": 10,
    "start_time": "2023-11-10T21:05:29.410Z"
   },
   {
    "duration": 3,
    "start_time": "2023-11-10T21:05:29.423Z"
   },
   {
    "duration": 7,
    "start_time": "2023-11-10T21:05:29.428Z"
   },
   {
    "duration": 26,
    "start_time": "2023-11-10T21:05:29.436Z"
   },
   {
    "duration": 5,
    "start_time": "2023-11-10T21:05:29.463Z"
   },
   {
    "duration": 4,
    "start_time": "2023-11-10T21:05:29.469Z"
   },
   {
    "duration": 21,
    "start_time": "2023-11-10T21:05:29.474Z"
   },
   {
    "duration": 11,
    "start_time": "2023-11-10T21:05:29.497Z"
   },
   {
    "duration": 6,
    "start_time": "2023-11-10T21:05:29.510Z"
   },
   {
    "duration": 46,
    "start_time": "2023-11-10T21:05:29.517Z"
   },
   {
    "duration": 17,
    "start_time": "2023-11-10T21:05:29.564Z"
   },
   {
    "duration": 14,
    "start_time": "2023-11-10T21:05:29.582Z"
   },
   {
    "duration": 34,
    "start_time": "2023-11-10T21:05:29.597Z"
   },
   {
    "duration": 68,
    "start_time": "2023-11-10T21:05:29.632Z"
   },
   {
    "duration": 94,
    "start_time": "2023-11-10T21:05:29.702Z"
   },
   {
    "duration": 0,
    "start_time": "2023-11-10T21:05:29.798Z"
   },
   {
    "duration": 0,
    "start_time": "2023-11-10T21:05:29.799Z"
   },
   {
    "duration": 0,
    "start_time": "2023-11-10T21:05:29.800Z"
   },
   {
    "duration": 0,
    "start_time": "2023-11-10T21:05:29.801Z"
   },
   {
    "duration": 0,
    "start_time": "2023-11-10T21:05:29.802Z"
   },
   {
    "duration": 0,
    "start_time": "2023-11-10T21:05:29.803Z"
   },
   {
    "duration": 0,
    "start_time": "2023-11-10T21:05:29.804Z"
   },
   {
    "duration": 0,
    "start_time": "2023-11-10T21:05:29.805Z"
   },
   {
    "duration": 0,
    "start_time": "2023-11-10T21:05:29.806Z"
   },
   {
    "duration": 0,
    "start_time": "2023-11-10T21:05:29.807Z"
   },
   {
    "duration": 0,
    "start_time": "2023-11-10T21:05:29.808Z"
   },
   {
    "duration": 0,
    "start_time": "2023-11-10T21:05:29.809Z"
   },
   {
    "duration": 0,
    "start_time": "2023-11-10T21:05:29.811Z"
   },
   {
    "duration": 0,
    "start_time": "2023-11-10T21:05:29.813Z"
   },
   {
    "duration": 0,
    "start_time": "2023-11-10T21:05:29.814Z"
   },
   {
    "duration": 0,
    "start_time": "2023-11-10T21:05:29.815Z"
   },
   {
    "duration": 0,
    "start_time": "2023-11-10T21:05:29.816Z"
   },
   {
    "duration": 0,
    "start_time": "2023-11-10T21:05:29.817Z"
   },
   {
    "duration": 1,
    "start_time": "2023-11-10T21:05:29.818Z"
   },
   {
    "duration": 0,
    "start_time": "2023-11-10T21:05:29.820Z"
   },
   {
    "duration": 0,
    "start_time": "2023-11-10T21:05:29.821Z"
   },
   {
    "duration": 107,
    "start_time": "2023-11-10T21:08:36.078Z"
   },
   {
    "duration": 95,
    "start_time": "2023-11-10T21:08:50.674Z"
   },
   {
    "duration": 176,
    "start_time": "2023-11-10T21:10:08.547Z"
   },
   {
    "duration": 11,
    "start_time": "2023-11-10T21:10:59.696Z"
   },
   {
    "duration": 33,
    "start_time": "2023-11-10T21:11:28.611Z"
   },
   {
    "duration": 55,
    "start_time": "2023-11-10T21:11:28.816Z"
   },
   {
    "duration": 10,
    "start_time": "2023-11-10T21:11:29.239Z"
   },
   {
    "duration": 11,
    "start_time": "2023-11-10T21:11:53.359Z"
   },
   {
    "duration": 40,
    "start_time": "2023-11-10T21:11:59.548Z"
   },
   {
    "duration": 105,
    "start_time": "2023-11-10T21:12:00.740Z"
   },
   {
    "duration": 99,
    "start_time": "2023-11-10T21:14:08.265Z"
   },
   {
    "duration": 9,
    "start_time": "2023-11-10T21:14:17.234Z"
   },
   {
    "duration": 20,
    "start_time": "2023-11-10T21:14:28.261Z"
   },
   {
    "duration": 16,
    "start_time": "2023-11-10T21:16:18.161Z"
   },
   {
    "duration": 14,
    "start_time": "2023-11-10T21:16:48.677Z"
   },
   {
    "duration": 12,
    "start_time": "2023-11-10T21:16:54.566Z"
   },
   {
    "duration": 36,
    "start_time": "2023-11-10T21:17:02.994Z"
   },
   {
    "duration": 15,
    "start_time": "2023-11-10T21:17:04.530Z"
   },
   {
    "duration": 12,
    "start_time": "2023-11-10T21:17:23.427Z"
   },
   {
    "duration": 35,
    "start_time": "2023-11-10T21:17:27.549Z"
   },
   {
    "duration": 12,
    "start_time": "2023-11-10T21:17:28.787Z"
   },
   {
    "duration": 32,
    "start_time": "2023-11-10T21:18:34.341Z"
   },
   {
    "duration": 8,
    "start_time": "2023-11-10T21:18:35.499Z"
   },
   {
    "duration": 14,
    "start_time": "2023-11-10T21:18:49.273Z"
   },
   {
    "duration": 19,
    "start_time": "2023-11-10T21:21:15.845Z"
   },
   {
    "duration": 37,
    "start_time": "2023-11-10T21:21:21.650Z"
   },
   {
    "duration": 13,
    "start_time": "2023-11-10T21:21:22.638Z"
   },
   {
    "duration": 1367,
    "start_time": "2023-11-10T21:30:16.999Z"
   },
   {
    "duration": 80,
    "start_time": "2023-11-10T21:30:18.368Z"
   },
   {
    "duration": 14,
    "start_time": "2023-11-10T21:30:18.449Z"
   },
   {
    "duration": 5,
    "start_time": "2023-11-10T21:30:18.465Z"
   },
   {
    "duration": 4,
    "start_time": "2023-11-10T21:30:18.472Z"
   },
   {
    "duration": 12,
    "start_time": "2023-11-10T21:30:18.478Z"
   },
   {
    "duration": 13,
    "start_time": "2023-11-10T21:30:19.148Z"
   },
   {
    "duration": 6,
    "start_time": "2023-11-10T21:30:19.369Z"
   },
   {
    "duration": 7,
    "start_time": "2023-11-10T21:30:33.454Z"
   },
   {
    "duration": 74,
    "start_time": "2023-11-10T21:30:33.829Z"
   },
   {
    "duration": 3,
    "start_time": "2023-11-10T21:30:34.042Z"
   },
   {
    "duration": 2,
    "start_time": "2023-11-10T21:30:34.810Z"
   },
   {
    "duration": 3,
    "start_time": "2023-11-10T21:30:35.044Z"
   },
   {
    "duration": 10,
    "start_time": "2023-11-10T21:30:35.261Z"
   },
   {
    "duration": 4,
    "start_time": "2023-11-10T21:30:36.243Z"
   },
   {
    "duration": 4,
    "start_time": "2023-11-10T21:30:36.424Z"
   },
   {
    "duration": 8,
    "start_time": "2023-11-10T21:30:36.821Z"
   },
   {
    "duration": 4,
    "start_time": "2023-11-10T21:30:37.225Z"
   },
   {
    "duration": 6,
    "start_time": "2023-11-10T21:30:37.637Z"
   },
   {
    "duration": 12,
    "start_time": "2023-11-10T21:30:38.036Z"
   },
   {
    "duration": 13,
    "start_time": "2023-11-10T21:30:38.449Z"
   },
   {
    "duration": 4,
    "start_time": "2023-11-10T21:30:39.070Z"
   },
   {
    "duration": 18,
    "start_time": "2023-11-10T21:30:39.282Z"
   },
   {
    "duration": 11,
    "start_time": "2023-11-10T21:30:40.420Z"
   },
   {
    "duration": 7,
    "start_time": "2023-11-10T21:30:41.186Z"
   },
   {
    "duration": 15,
    "start_time": "2023-11-10T21:30:41.831Z"
   },
   {
    "duration": 6,
    "start_time": "2023-11-10T21:30:43.278Z"
   },
   {
    "duration": 15,
    "start_time": "2023-11-10T21:30:43.683Z"
   },
   {
    "duration": 39,
    "start_time": "2023-11-10T21:30:46.541Z"
   },
   {
    "duration": 13,
    "start_time": "2023-11-10T21:30:51.483Z"
   },
   {
    "duration": 6,
    "start_time": "2023-11-10T21:30:52.232Z"
   },
   {
    "duration": 199,
    "start_time": "2023-11-10T21:30:52.608Z"
   },
   {
    "duration": 8,
    "start_time": "2023-11-10T21:30:53.230Z"
   },
   {
    "duration": 111,
    "start_time": "2023-11-10T21:30:53.433Z"
   },
   {
    "duration": 6,
    "start_time": "2023-11-10T21:30:53.830Z"
   },
   {
    "duration": 12,
    "start_time": "2023-11-10T21:30:54.429Z"
   },
   {
    "duration": 372,
    "start_time": "2023-11-10T21:30:54.835Z"
   },
   {
    "duration": 181,
    "start_time": "2023-11-10T21:30:55.833Z"
   },
   {
    "duration": 1431,
    "start_time": "2023-11-10T21:30:56.236Z"
   },
   {
    "duration": 166,
    "start_time": "2023-11-10T21:30:57.669Z"
   },
   {
    "duration": 155,
    "start_time": "2023-11-10T21:30:57.837Z"
   },
   {
    "duration": 1408,
    "start_time": "2023-11-10T21:30:57.994Z"
   },
   {
    "duration": 403,
    "start_time": "2023-11-10T21:30:59.403Z"
   },
   {
    "duration": 5,
    "start_time": "2023-11-10T21:30:59.807Z"
   },
   {
    "duration": 6,
    "start_time": "2023-11-10T21:30:59.814Z"
   },
   {
    "duration": 32,
    "start_time": "2023-11-10T21:30:59.822Z"
   },
   {
    "duration": 16,
    "start_time": "2023-11-10T21:30:59.956Z"
   },
   {
    "duration": 8,
    "start_time": "2023-11-10T21:31:00.366Z"
   },
   {
    "duration": 29,
    "start_time": "2023-11-10T21:31:01.436Z"
   },
   {
    "duration": 85,
    "start_time": "2023-11-10T21:31:02.465Z"
   },
   {
    "duration": 19,
    "start_time": "2023-11-10T21:31:02.866Z"
   },
   {
    "duration": 1365,
    "start_time": "2023-11-11T07:06:19.173Z"
   },
   {
    "duration": 77,
    "start_time": "2023-11-11T07:06:20.539Z"
   },
   {
    "duration": 3,
    "start_time": "2023-11-11T07:06:20.618Z"
   },
   {
    "duration": 4,
    "start_time": "2023-11-11T07:06:20.622Z"
   },
   {
    "duration": 31,
    "start_time": "2023-11-11T07:06:20.627Z"
   },
   {
    "duration": 12,
    "start_time": "2023-11-11T07:06:20.660Z"
   },
   {
    "duration": 5,
    "start_time": "2023-11-11T07:06:21.262Z"
   },
   {
    "duration": 5,
    "start_time": "2023-11-11T07:06:21.444Z"
   },
   {
    "duration": 10,
    "start_time": "2023-11-11T07:06:21.839Z"
   },
   {
    "duration": 4,
    "start_time": "2023-11-11T07:06:22.214Z"
   },
   {
    "duration": 7,
    "start_time": "2023-11-11T07:06:22.597Z"
   },
   {
    "duration": 15,
    "start_time": "2023-11-11T07:06:22.979Z"
   },
   {
    "duration": 6,
    "start_time": "2023-11-11T07:06:23.386Z"
   },
   {
    "duration": 5,
    "start_time": "2023-11-11T07:06:23.969Z"
   },
   {
    "duration": 21,
    "start_time": "2023-11-11T07:06:24.166Z"
   },
   {
    "duration": 13,
    "start_time": "2023-11-11T07:06:24.758Z"
   },
   {
    "duration": 8,
    "start_time": "2023-11-11T07:06:25.358Z"
   },
   {
    "duration": 17,
    "start_time": "2023-11-11T07:06:25.951Z"
   },
   {
    "duration": 6,
    "start_time": "2023-11-11T07:06:26.369Z"
   },
   {
    "duration": 15,
    "start_time": "2023-11-11T07:06:26.753Z"
   },
   {
    "duration": 39,
    "start_time": "2023-11-11T07:06:28.351Z"
   },
   {
    "duration": 16,
    "start_time": "2023-11-11T07:06:28.762Z"
   },
   {
    "duration": 7,
    "start_time": "2023-11-11T07:06:29.579Z"
   },
   {
    "duration": 224,
    "start_time": "2023-11-11T07:06:29.991Z"
   },
   {
    "duration": 10,
    "start_time": "2023-11-11T07:06:30.599Z"
   },
   {
    "duration": 121,
    "start_time": "2023-11-11T07:06:30.802Z"
   },
   {
    "duration": 10,
    "start_time": "2023-11-11T07:06:31.206Z"
   },
   {
    "duration": 14,
    "start_time": "2023-11-11T07:06:31.822Z"
   },
   {
    "duration": 381,
    "start_time": "2023-11-11T07:06:32.242Z"
   },
   {
    "duration": 204,
    "start_time": "2023-11-11T07:06:33.277Z"
   },
   {
    "duration": 1485,
    "start_time": "2023-11-11T07:06:33.682Z"
   },
   {
    "duration": 5,
    "start_time": "2023-11-11T07:06:35.169Z"
   },
   {
    "duration": 161,
    "start_time": "2023-11-11T07:06:35.175Z"
   },
   {
    "duration": 145,
    "start_time": "2023-11-11T07:06:35.341Z"
   },
   {
    "duration": 1399,
    "start_time": "2023-11-11T07:06:35.487Z"
   },
   {
    "duration": 400,
    "start_time": "2023-11-11T07:06:36.888Z"
   },
   {
    "duration": 4,
    "start_time": "2023-11-11T07:06:37.290Z"
   },
   {
    "duration": 12,
    "start_time": "2023-11-11T07:06:37.296Z"
   },
   {
    "duration": 7,
    "start_time": "2023-11-11T07:06:37.310Z"
   },
   {
    "duration": 12,
    "start_time": "2023-11-11T07:06:37.600Z"
   },
   {
    "duration": 9,
    "start_time": "2023-11-11T07:06:38.017Z"
   },
   {
    "duration": 99,
    "start_time": "2023-11-11T07:06:39.630Z"
   },
   {
    "duration": 27,
    "start_time": "2023-11-11T07:06:40.042Z"
   },
   {
    "duration": 21,
    "start_time": "2023-11-11T07:06:40.478Z"
   },
   {
    "duration": 1168,
    "start_time": "2023-11-11T07:07:49.563Z"
   },
   {
    "duration": 78,
    "start_time": "2023-11-11T07:07:50.733Z"
   },
   {
    "duration": 3,
    "start_time": "2023-11-11T07:07:50.812Z"
   },
   {
    "duration": 4,
    "start_time": "2023-11-11T07:07:50.817Z"
   },
   {
    "duration": 5,
    "start_time": "2023-11-11T07:07:50.822Z"
   },
   {
    "duration": 12,
    "start_time": "2023-11-11T07:07:50.829Z"
   },
   {
    "duration": 4,
    "start_time": "2023-11-11T07:07:50.842Z"
   },
   {
    "duration": 5,
    "start_time": "2023-11-11T07:07:50.848Z"
   },
   {
    "duration": 12,
    "start_time": "2023-11-11T07:07:50.854Z"
   },
   {
    "duration": 4,
    "start_time": "2023-11-11T07:07:50.868Z"
   },
   {
    "duration": 9,
    "start_time": "2023-11-11T07:07:50.873Z"
   },
   {
    "duration": 14,
    "start_time": "2023-11-11T07:07:50.883Z"
   },
   {
    "duration": 7,
    "start_time": "2023-11-11T07:07:50.898Z"
   },
   {
    "duration": 35,
    "start_time": "2023-11-11T07:07:50.907Z"
   },
   {
    "duration": 22,
    "start_time": "2023-11-11T07:07:50.945Z"
   },
   {
    "duration": 18,
    "start_time": "2023-11-11T07:07:50.968Z"
   },
   {
    "duration": 8,
    "start_time": "2023-11-11T07:07:50.988Z"
   },
   {
    "duration": 51,
    "start_time": "2023-11-11T07:07:50.998Z"
   },
   {
    "duration": 7,
    "start_time": "2023-11-11T07:07:51.051Z"
   },
   {
    "duration": 16,
    "start_time": "2023-11-11T07:07:51.060Z"
   },
   {
    "duration": 39,
    "start_time": "2023-11-11T07:07:51.078Z"
   },
   {
    "duration": 15,
    "start_time": "2023-11-11T07:07:51.143Z"
   },
   {
    "duration": 8,
    "start_time": "2023-11-11T07:07:51.159Z"
   },
   {
    "duration": 254,
    "start_time": "2023-11-11T07:07:51.169Z"
   },
   {
    "duration": 19,
    "start_time": "2023-11-11T07:07:51.424Z"
   },
   {
    "duration": 118,
    "start_time": "2023-11-11T07:07:51.444Z"
   },
   {
    "duration": 7,
    "start_time": "2023-11-11T07:07:51.564Z"
   },
   {
    "duration": 16,
    "start_time": "2023-11-11T07:07:51.574Z"
   },
   {
    "duration": 383,
    "start_time": "2023-11-11T07:07:51.591Z"
   },
   {
    "duration": 185,
    "start_time": "2023-11-11T07:07:51.975Z"
   },
   {
    "duration": 1302,
    "start_time": "2023-11-11T07:07:52.162Z"
   },
   {
    "duration": 5,
    "start_time": "2023-11-11T07:07:53.466Z"
   },
   {
    "duration": 161,
    "start_time": "2023-11-11T07:07:53.472Z"
   },
   {
    "duration": 156,
    "start_time": "2023-11-11T07:07:53.635Z"
   },
   {
    "duration": 1417,
    "start_time": "2023-11-11T07:07:53.793Z"
   },
   {
    "duration": 425,
    "start_time": "2023-11-11T07:07:55.212Z"
   },
   {
    "duration": 5,
    "start_time": "2023-11-11T07:07:55.639Z"
   },
   {
    "duration": 17,
    "start_time": "2023-11-11T07:07:55.646Z"
   },
   {
    "duration": 30,
    "start_time": "2023-11-11T07:07:55.665Z"
   },
   {
    "duration": 30,
    "start_time": "2023-11-11T07:07:55.696Z"
   },
   {
    "duration": 14,
    "start_time": "2023-11-11T07:07:55.728Z"
   },
   {
    "duration": 116,
    "start_time": "2023-11-11T07:07:55.744Z"
   },
   {
    "duration": 34,
    "start_time": "2023-11-11T07:07:55.861Z"
   },
   {
    "duration": 18,
    "start_time": "2023-11-11T07:07:55.897Z"
   },
   {
    "duration": 203,
    "start_time": "2023-11-11T07:18:45.699Z"
   },
   {
    "duration": 0,
    "start_time": "2023-11-11T07:23:11.032Z"
   },
   {
    "duration": 4,
    "start_time": "2023-11-11T07:23:18.056Z"
   },
   {
    "duration": 107,
    "start_time": "2023-11-11T07:23:18.408Z"
   },
   {
    "duration": 4,
    "start_time": "2023-11-11T07:23:18.590Z"
   },
   {
    "duration": 2,
    "start_time": "2023-11-11T07:23:18.777Z"
   },
   {
    "duration": 4,
    "start_time": "2023-11-11T07:23:18.957Z"
   },
   {
    "duration": 12,
    "start_time": "2023-11-11T07:23:19.151Z"
   },
   {
    "duration": 5,
    "start_time": "2023-11-11T07:23:20.110Z"
   },
   {
    "duration": 5,
    "start_time": "2023-11-11T07:23:20.313Z"
   },
   {
    "duration": 10,
    "start_time": "2023-11-11T07:23:20.695Z"
   },
   {
    "duration": 5,
    "start_time": "2023-11-11T07:23:21.101Z"
   },
   {
    "duration": 6,
    "start_time": "2023-11-11T07:23:21.497Z"
   },
   {
    "duration": 15,
    "start_time": "2023-11-11T07:23:21.895Z"
   },
   {
    "duration": 6,
    "start_time": "2023-11-11T07:23:22.279Z"
   },
   {
    "duration": 4,
    "start_time": "2023-11-11T07:23:22.870Z"
   },
   {
    "duration": 20,
    "start_time": "2023-11-11T07:23:23.074Z"
   },
   {
    "duration": 12,
    "start_time": "2023-11-11T07:23:23.673Z"
   },
   {
    "duration": 7,
    "start_time": "2023-11-11T07:23:24.257Z"
   },
   {
    "duration": 17,
    "start_time": "2023-11-11T07:23:24.859Z"
   },
   {
    "duration": 7,
    "start_time": "2023-11-11T07:23:25.256Z"
   },
   {
    "duration": 16,
    "start_time": "2023-11-11T07:23:25.652Z"
   },
   {
    "duration": 40,
    "start_time": "2023-11-11T07:23:27.227Z"
   },
   {
    "duration": 17,
    "start_time": "2023-11-11T07:23:27.634Z"
   },
   {
    "duration": 7,
    "start_time": "2023-11-11T07:23:28.442Z"
   },
   {
    "duration": 214,
    "start_time": "2023-11-11T07:23:28.824Z"
   },
   {
    "duration": 10,
    "start_time": "2023-11-11T07:23:29.431Z"
   },
   {
    "duration": 119,
    "start_time": "2023-11-11T07:23:29.635Z"
   },
   {
    "duration": 7,
    "start_time": "2023-11-11T07:23:30.049Z"
   },
   {
    "duration": 13,
    "start_time": "2023-11-11T07:23:30.671Z"
   },
   {
    "duration": 432,
    "start_time": "2023-11-11T07:23:31.076Z"
   },
   {
    "duration": 191,
    "start_time": "2023-11-11T07:23:32.119Z"
   },
   {
    "duration": 1689,
    "start_time": "2023-11-11T07:23:32.537Z"
   },
   {
    "duration": 0,
    "start_time": "2023-11-11T07:23:34.228Z"
   },
   {
    "duration": 0,
    "start_time": "2023-11-11T07:23:34.229Z"
   },
   {
    "duration": 0,
    "start_time": "2023-11-11T07:23:34.230Z"
   },
   {
    "duration": 0,
    "start_time": "2023-11-11T07:23:34.231Z"
   },
   {
    "duration": 1401,
    "start_time": "2023-11-11T07:23:34.620Z"
   },
   {
    "duration": 1236,
    "start_time": "2023-11-11T07:27:59.678Z"
   },
   {
    "duration": 94,
    "start_time": "2023-11-11T07:28:00.916Z"
   },
   {
    "duration": 4,
    "start_time": "2023-11-11T07:28:01.012Z"
   },
   {
    "duration": 41,
    "start_time": "2023-11-11T07:28:01.017Z"
   },
   {
    "duration": 28,
    "start_time": "2023-11-11T07:28:01.059Z"
   },
   {
    "duration": 40,
    "start_time": "2023-11-11T07:28:01.088Z"
   },
   {
    "duration": 5,
    "start_time": "2023-11-11T07:28:01.807Z"
   },
   {
    "duration": 5,
    "start_time": "2023-11-11T07:28:02.003Z"
   },
   {
    "duration": 11,
    "start_time": "2023-11-11T07:28:02.378Z"
   },
   {
    "duration": 6,
    "start_time": "2023-11-11T07:28:02.759Z"
   },
   {
    "duration": 6,
    "start_time": "2023-11-11T07:28:03.150Z"
   },
   {
    "duration": 14,
    "start_time": "2023-11-11T07:28:03.522Z"
   },
   {
    "duration": 5,
    "start_time": "2023-11-11T07:28:03.922Z"
   },
   {
    "duration": 4,
    "start_time": "2023-11-11T07:28:04.507Z"
   },
   {
    "duration": 22,
    "start_time": "2023-11-11T07:28:04.703Z"
   },
   {
    "duration": 13,
    "start_time": "2023-11-11T07:28:05.288Z"
   },
   {
    "duration": 7,
    "start_time": "2023-11-11T07:28:05.872Z"
   },
   {
    "duration": 16,
    "start_time": "2023-11-11T07:28:06.480Z"
   },
   {
    "duration": 6,
    "start_time": "2023-11-11T07:28:06.893Z"
   },
   {
    "duration": 14,
    "start_time": "2023-11-11T07:28:07.299Z"
   },
   {
    "duration": 40,
    "start_time": "2023-11-11T07:28:08.933Z"
   },
   {
    "duration": 15,
    "start_time": "2023-11-11T07:28:09.346Z"
   },
   {
    "duration": 7,
    "start_time": "2023-11-11T07:28:10.155Z"
   },
   {
    "duration": 217,
    "start_time": "2023-11-11T07:28:10.560Z"
   },
   {
    "duration": 11,
    "start_time": "2023-11-11T07:28:11.167Z"
   },
   {
    "duration": 113,
    "start_time": "2023-11-11T07:28:11.371Z"
   },
   {
    "duration": 7,
    "start_time": "2023-11-11T07:28:11.790Z"
   },
   {
    "duration": 14,
    "start_time": "2023-11-11T07:28:12.419Z"
   },
   {
    "duration": 395,
    "start_time": "2023-11-11T07:28:12.824Z"
   },
   {
    "duration": 204,
    "start_time": "2023-11-11T07:28:13.829Z"
   },
   {
    "duration": 106,
    "start_time": "2023-11-11T07:28:14.249Z"
   },
   {
    "duration": 1403,
    "start_time": "2023-11-11T07:28:14.453Z"
   },
   {
    "duration": 5,
    "start_time": "2023-11-11T07:28:15.858Z"
   },
   {
    "duration": 157,
    "start_time": "2023-11-11T07:28:15.864Z"
   },
   {
    "duration": 151,
    "start_time": "2023-11-11T07:28:16.024Z"
   },
   {
    "duration": 1393,
    "start_time": "2023-11-11T07:28:16.177Z"
   },
   {
    "duration": 1266,
    "start_time": "2023-11-11T07:33:30.644Z"
   },
   {
    "duration": 1235,
    "start_time": "2023-11-11T07:43:04.896Z"
   },
   {
    "duration": 83,
    "start_time": "2023-11-11T07:43:06.132Z"
   },
   {
    "duration": 4,
    "start_time": "2023-11-11T07:43:06.216Z"
   },
   {
    "duration": 6,
    "start_time": "2023-11-11T07:43:06.221Z"
   },
   {
    "duration": 6,
    "start_time": "2023-11-11T07:43:06.228Z"
   },
   {
    "duration": 11,
    "start_time": "2023-11-11T07:43:06.236Z"
   },
   {
    "duration": 5,
    "start_time": "2023-11-11T07:43:07.401Z"
   },
   {
    "duration": 4,
    "start_time": "2023-11-11T07:43:07.582Z"
   },
   {
    "duration": 12,
    "start_time": "2023-11-11T07:43:07.972Z"
   },
   {
    "duration": 5,
    "start_time": "2023-11-11T07:43:08.347Z"
   },
   {
    "duration": 6,
    "start_time": "2023-11-11T07:43:08.720Z"
   },
   {
    "duration": 14,
    "start_time": "2023-11-11T07:43:09.090Z"
   },
   {
    "duration": 6,
    "start_time": "2023-11-11T07:43:09.458Z"
   },
   {
    "duration": 4,
    "start_time": "2023-11-11T07:43:10.019Z"
   },
   {
    "duration": 20,
    "start_time": "2023-11-11T07:43:10.215Z"
   },
   {
    "duration": 12,
    "start_time": "2023-11-11T07:43:10.783Z"
   },
   {
    "duration": 8,
    "start_time": "2023-11-11T07:43:11.347Z"
   },
   {
    "duration": 17,
    "start_time": "2023-11-11T07:43:11.917Z"
   },
   {
    "duration": 6,
    "start_time": "2023-11-11T07:43:12.291Z"
   },
   {
    "duration": 15,
    "start_time": "2023-11-11T07:43:12.667Z"
   },
   {
    "duration": 39,
    "start_time": "2023-11-11T07:43:14.205Z"
   },
   {
    "duration": 15,
    "start_time": "2023-11-11T07:43:14.602Z"
   },
   {
    "duration": 7,
    "start_time": "2023-11-11T07:43:15.403Z"
   },
   {
    "duration": 211,
    "start_time": "2023-11-11T07:43:16.423Z"
   },
   {
    "duration": 9,
    "start_time": "2023-11-11T07:43:17.796Z"
   },
   {
    "duration": 114,
    "start_time": "2023-11-11T07:43:18.008Z"
   },
   {
    "duration": 10,
    "start_time": "2023-11-11T07:43:19.079Z"
   },
   {
    "duration": 13,
    "start_time": "2023-11-11T07:43:20.415Z"
   },
   {
    "duration": 372,
    "start_time": "2023-11-11T07:43:23.174Z"
   },
   {
    "duration": 49,
    "start_time": "2023-11-11T07:43:51.226Z"
   },
   {
    "duration": 1272,
    "start_time": "2023-11-11T07:44:04.883Z"
   },
   {
    "duration": 85,
    "start_time": "2023-11-11T07:44:06.156Z"
   },
   {
    "duration": 4,
    "start_time": "2023-11-11T07:44:06.243Z"
   },
   {
    "duration": 10,
    "start_time": "2023-11-11T07:44:06.252Z"
   },
   {
    "duration": 5,
    "start_time": "2023-11-11T07:44:06.264Z"
   },
   {
    "duration": 12,
    "start_time": "2023-11-11T07:44:06.270Z"
   },
   {
    "duration": 5,
    "start_time": "2023-11-11T07:44:06.283Z"
   },
   {
    "duration": 11,
    "start_time": "2023-11-11T07:44:06.289Z"
   },
   {
    "duration": 20,
    "start_time": "2023-11-11T07:44:06.302Z"
   },
   {
    "duration": 4,
    "start_time": "2023-11-11T07:44:06.324Z"
   },
   {
    "duration": 9,
    "start_time": "2023-11-11T07:44:06.342Z"
   },
   {
    "duration": 17,
    "start_time": "2023-11-11T07:44:06.353Z"
   },
   {
    "duration": 5,
    "start_time": "2023-11-11T07:44:06.371Z"
   },
   {
    "duration": 3,
    "start_time": "2023-11-11T07:44:06.378Z"
   },
   {
    "duration": 25,
    "start_time": "2023-11-11T07:44:06.383Z"
   },
   {
    "duration": 50,
    "start_time": "2023-11-11T07:44:06.409Z"
   },
   {
    "duration": 9,
    "start_time": "2023-11-11T07:44:06.461Z"
   },
   {
    "duration": 19,
    "start_time": "2023-11-11T07:44:06.471Z"
   },
   {
    "duration": 7,
    "start_time": "2023-11-11T07:44:06.491Z"
   },
   {
    "duration": 61,
    "start_time": "2023-11-11T07:44:06.500Z"
   },
   {
    "duration": 40,
    "start_time": "2023-11-11T07:44:06.563Z"
   },
   {
    "duration": 15,
    "start_time": "2023-11-11T07:44:06.604Z"
   },
   {
    "duration": 25,
    "start_time": "2023-11-11T07:44:06.620Z"
   },
   {
    "duration": 253,
    "start_time": "2023-11-11T07:44:06.647Z"
   },
   {
    "duration": 10,
    "start_time": "2023-11-11T07:44:06.903Z"
   },
   {
    "duration": 159,
    "start_time": "2023-11-11T07:44:06.915Z"
   },
   {
    "duration": 8,
    "start_time": "2023-11-11T07:44:07.076Z"
   },
   {
    "duration": 14,
    "start_time": "2023-11-11T07:44:07.088Z"
   },
   {
    "duration": 1174,
    "start_time": "2023-11-11T07:45:09.260Z"
   },
   {
    "duration": 90,
    "start_time": "2023-11-11T07:45:10.436Z"
   },
   {
    "duration": 3,
    "start_time": "2023-11-11T07:45:10.528Z"
   },
   {
    "duration": 4,
    "start_time": "2023-11-11T07:45:10.533Z"
   },
   {
    "duration": 10,
    "start_time": "2023-11-11T07:45:10.538Z"
   },
   {
    "duration": 30,
    "start_time": "2023-11-11T07:45:10.549Z"
   },
   {
    "duration": 5,
    "start_time": "2023-11-11T07:45:10.581Z"
   },
   {
    "duration": 6,
    "start_time": "2023-11-11T07:45:10.587Z"
   },
   {
    "duration": 29,
    "start_time": "2023-11-11T07:45:10.594Z"
   },
   {
    "duration": 4,
    "start_time": "2023-11-11T07:45:10.625Z"
   },
   {
    "duration": 8,
    "start_time": "2023-11-11T07:45:10.631Z"
   },
   {
    "duration": 15,
    "start_time": "2023-11-11T07:45:10.640Z"
   },
   {
    "duration": 5,
    "start_time": "2023-11-11T07:45:10.657Z"
   },
   {
    "duration": 4,
    "start_time": "2023-11-11T07:45:10.664Z"
   },
   {
    "duration": 30,
    "start_time": "2023-11-11T07:45:10.669Z"
   },
   {
    "duration": 19,
    "start_time": "2023-11-11T07:45:10.701Z"
   },
   {
    "duration": 24,
    "start_time": "2023-11-11T07:45:10.721Z"
   },
   {
    "duration": 26,
    "start_time": "2023-11-11T07:45:10.747Z"
   },
   {
    "duration": 6,
    "start_time": "2023-11-11T07:45:10.774Z"
   },
   {
    "duration": 20,
    "start_time": "2023-11-11T07:45:10.782Z"
   },
   {
    "duration": 43,
    "start_time": "2023-11-11T07:45:10.804Z"
   },
   {
    "duration": 13,
    "start_time": "2023-11-11T07:45:10.849Z"
   },
   {
    "duration": 17,
    "start_time": "2023-11-11T07:45:10.863Z"
   },
   {
    "duration": 240,
    "start_time": "2023-11-11T07:45:10.882Z"
   },
   {
    "duration": 20,
    "start_time": "2023-11-11T07:45:11.124Z"
   },
   {
    "duration": 137,
    "start_time": "2023-11-11T07:45:11.146Z"
   },
   {
    "duration": 7,
    "start_time": "2023-11-11T07:45:11.285Z"
   },
   {
    "duration": 25,
    "start_time": "2023-11-11T07:45:11.295Z"
   },
   {
    "duration": 1181,
    "start_time": "2023-11-11T07:45:37.651Z"
   },
   {
    "duration": 80,
    "start_time": "2023-11-11T07:45:38.833Z"
   },
   {
    "duration": 4,
    "start_time": "2023-11-11T07:45:38.915Z"
   },
   {
    "duration": 3,
    "start_time": "2023-11-11T07:45:38.921Z"
   },
   {
    "duration": 5,
    "start_time": "2023-11-11T07:45:38.926Z"
   },
   {
    "duration": 12,
    "start_time": "2023-11-11T07:45:38.933Z"
   },
   {
    "duration": 5,
    "start_time": "2023-11-11T07:45:39.863Z"
   },
   {
    "duration": 5,
    "start_time": "2023-11-11T07:45:40.065Z"
   },
   {
    "duration": 10,
    "start_time": "2023-11-11T07:45:40.503Z"
   },
   {
    "duration": 5,
    "start_time": "2023-11-11T07:45:40.914Z"
   },
   {
    "duration": 8,
    "start_time": "2023-11-11T07:45:41.334Z"
   },
   {
    "duration": 16,
    "start_time": "2023-11-11T07:45:41.739Z"
   },
   {
    "duration": 6,
    "start_time": "2023-11-11T07:45:42.158Z"
   },
   {
    "duration": 4,
    "start_time": "2023-11-11T07:45:42.743Z"
   },
   {
    "duration": 21,
    "start_time": "2023-11-11T07:45:42.939Z"
   },
   {
    "duration": 13,
    "start_time": "2023-11-11T07:45:43.531Z"
   },
   {
    "duration": 9,
    "start_time": "2023-11-11T07:45:44.123Z"
   },
   {
    "duration": 17,
    "start_time": "2023-11-11T07:45:44.702Z"
   },
   {
    "duration": 6,
    "start_time": "2023-11-11T07:45:45.114Z"
   },
   {
    "duration": 16,
    "start_time": "2023-11-11T07:45:45.517Z"
   },
   {
    "duration": 38,
    "start_time": "2023-11-11T07:45:47.237Z"
   },
   {
    "duration": 15,
    "start_time": "2023-11-11T07:45:47.687Z"
   },
   {
    "duration": 8,
    "start_time": "2023-11-11T07:45:48.617Z"
   },
   {
    "duration": 224,
    "start_time": "2023-11-11T07:45:49.051Z"
   },
   {
    "duration": 9,
    "start_time": "2023-11-11T07:45:49.838Z"
   },
   {
    "duration": 116,
    "start_time": "2023-11-11T07:45:50.063Z"
   },
   {
    "duration": 7,
    "start_time": "2023-11-11T07:45:50.725Z"
   },
   {
    "duration": 12,
    "start_time": "2023-11-11T07:45:51.369Z"
   },
   {
    "duration": 47,
    "start_time": "2023-11-11T07:45:57.122Z"
   },
   {
    "duration": 8,
    "start_time": "2023-11-11T07:46:13.861Z"
   },
   {
    "duration": 1291,
    "start_time": "2023-11-11T07:46:27.429Z"
   },
   {
    "duration": 68,
    "start_time": "2023-11-11T07:46:30.241Z"
   },
   {
    "duration": 3,
    "start_time": "2023-11-11T07:46:30.434Z"
   },
   {
    "duration": 3,
    "start_time": "2023-11-11T07:46:30.631Z"
   },
   {
    "duration": 5,
    "start_time": "2023-11-11T07:46:30.812Z"
   },
   {
    "duration": 17,
    "start_time": "2023-11-11T07:46:31.000Z"
   },
   {
    "duration": 5,
    "start_time": "2023-11-11T07:46:31.913Z"
   },
   {
    "duration": 5,
    "start_time": "2023-11-11T07:46:32.101Z"
   },
   {
    "duration": 11,
    "start_time": "2023-11-11T07:46:32.484Z"
   },
   {
    "duration": 5,
    "start_time": "2023-11-11T07:46:32.866Z"
   },
   {
    "duration": 6,
    "start_time": "2023-11-11T07:46:33.249Z"
   },
   {
    "duration": 13,
    "start_time": "2023-11-11T07:46:33.655Z"
   },
   {
    "duration": 6,
    "start_time": "2023-11-11T07:46:34.044Z"
   },
   {
    "duration": 4,
    "start_time": "2023-11-11T07:46:34.658Z"
   },
   {
    "duration": 22,
    "start_time": "2023-11-11T07:46:34.874Z"
   },
   {
    "duration": 14,
    "start_time": "2023-11-11T07:46:35.537Z"
   },
   {
    "duration": 7,
    "start_time": "2023-11-11T07:46:36.204Z"
   },
   {
    "duration": 17,
    "start_time": "2023-11-11T07:46:36.886Z"
   },
   {
    "duration": 9,
    "start_time": "2023-11-11T07:46:37.347Z"
   },
   {
    "duration": 17,
    "start_time": "2023-11-11T07:46:37.834Z"
   },
   {
    "duration": 37,
    "start_time": "2023-11-11T07:46:40.277Z"
   },
   {
    "duration": 14,
    "start_time": "2023-11-11T07:46:41.889Z"
   },
   {
    "duration": 8,
    "start_time": "2023-11-11T07:46:42.826Z"
   },
   {
    "duration": 240,
    "start_time": "2023-11-11T07:46:43.313Z"
   },
   {
    "duration": 11,
    "start_time": "2023-11-11T07:46:44.866Z"
   },
   {
    "duration": 119,
    "start_time": "2023-11-11T07:46:45.069Z"
   },
   {
    "duration": 7,
    "start_time": "2023-11-11T07:46:45.931Z"
   },
   {
    "duration": 12,
    "start_time": "2023-11-11T07:46:46.659Z"
   },
   {
    "duration": 51,
    "start_time": "2023-11-11T07:46:54.067Z"
   },
   {
    "duration": 8,
    "start_time": "2023-11-11T07:47:03.190Z"
   },
   {
    "duration": 1209,
    "start_time": "2023-11-11T07:47:09.543Z"
   },
   {
    "duration": 72,
    "start_time": "2023-11-11T07:47:22.727Z"
   },
   {
    "duration": 85,
    "start_time": "2023-11-11T07:47:29.360Z"
   },
   {
    "duration": 1430,
    "start_time": "2023-11-11T07:54:18.714Z"
   },
   {
    "duration": 87,
    "start_time": "2023-11-11T07:54:20.146Z"
   },
   {
    "duration": 4,
    "start_time": "2023-11-11T07:54:20.235Z"
   },
   {
    "duration": 7,
    "start_time": "2023-11-11T07:54:20.241Z"
   },
   {
    "duration": 6,
    "start_time": "2023-11-11T07:54:20.250Z"
   },
   {
    "duration": 18,
    "start_time": "2023-11-11T07:54:20.257Z"
   },
   {
    "duration": 6,
    "start_time": "2023-11-11T07:54:20.721Z"
   },
   {
    "duration": 5,
    "start_time": "2023-11-11T07:54:20.910Z"
   },
   {
    "duration": 11,
    "start_time": "2023-11-11T07:54:21.285Z"
   },
   {
    "duration": 5,
    "start_time": "2023-11-11T07:54:21.675Z"
   },
   {
    "duration": 7,
    "start_time": "2023-11-11T07:54:22.065Z"
   },
   {
    "duration": 16,
    "start_time": "2023-11-11T07:54:22.449Z"
   },
   {
    "duration": 9,
    "start_time": "2023-11-11T07:54:22.823Z"
   },
   {
    "duration": 5,
    "start_time": "2023-11-11T07:54:23.416Z"
   },
   {
    "duration": 19,
    "start_time": "2023-11-11T07:54:23.626Z"
   },
   {
    "duration": 12,
    "start_time": "2023-11-11T07:54:24.203Z"
   },
   {
    "duration": 7,
    "start_time": "2023-11-11T07:54:24.789Z"
   },
   {
    "duration": 16,
    "start_time": "2023-11-11T07:54:25.382Z"
   },
   {
    "duration": 8,
    "start_time": "2023-11-11T07:54:25.751Z"
   },
   {
    "duration": 15,
    "start_time": "2023-11-11T07:54:26.183Z"
   },
   {
    "duration": 40,
    "start_time": "2023-11-11T07:54:27.817Z"
   },
   {
    "duration": 14,
    "start_time": "2023-11-11T07:54:28.239Z"
   },
   {
    "duration": 7,
    "start_time": "2023-11-11T07:54:29.055Z"
   },
   {
    "duration": 216,
    "start_time": "2023-11-11T07:54:29.464Z"
   },
   {
    "duration": 10,
    "start_time": "2023-11-11T07:54:30.098Z"
   },
   {
    "duration": 119,
    "start_time": "2023-11-11T07:54:30.302Z"
   },
   {
    "duration": 7,
    "start_time": "2023-11-11T07:54:30.744Z"
   },
   {
    "duration": 13,
    "start_time": "2023-11-11T07:54:31.376Z"
   },
   {
    "duration": 1188,
    "start_time": "2023-11-11T07:57:51.034Z"
   },
   {
    "duration": 84,
    "start_time": "2023-11-11T07:57:52.224Z"
   },
   {
    "duration": 3,
    "start_time": "2023-11-11T07:57:52.309Z"
   },
   {
    "duration": 13,
    "start_time": "2023-11-11T07:57:52.314Z"
   },
   {
    "duration": 8,
    "start_time": "2023-11-11T07:57:52.328Z"
   },
   {
    "duration": 30,
    "start_time": "2023-11-11T07:57:52.337Z"
   },
   {
    "duration": 5,
    "start_time": "2023-11-11T07:57:53.997Z"
   },
   {
    "duration": 4,
    "start_time": "2023-11-11T07:57:54.163Z"
   },
   {
    "duration": 10,
    "start_time": "2023-11-11T07:57:54.552Z"
   },
   {
    "duration": 5,
    "start_time": "2023-11-11T07:57:54.927Z"
   },
   {
    "duration": 6,
    "start_time": "2023-11-11T07:57:55.318Z"
   },
   {
    "duration": 14,
    "start_time": "2023-11-11T07:57:55.692Z"
   },
   {
    "duration": 6,
    "start_time": "2023-11-11T07:57:56.087Z"
   },
   {
    "duration": 3,
    "start_time": "2023-11-11T07:57:56.682Z"
   },
   {
    "duration": 20,
    "start_time": "2023-11-11T07:57:56.862Z"
   },
   {
    "duration": 12,
    "start_time": "2023-11-11T07:57:57.448Z"
   },
   {
    "duration": 7,
    "start_time": "2023-11-11T07:57:58.022Z"
   },
   {
    "duration": 18,
    "start_time": "2023-11-11T07:57:58.624Z"
   },
   {
    "duration": 7,
    "start_time": "2023-11-11T07:57:59.036Z"
   },
   {
    "duration": 15,
    "start_time": "2023-11-11T07:57:59.433Z"
   },
   {
    "duration": 39,
    "start_time": "2023-11-11T07:58:01.032Z"
   },
   {
    "duration": 16,
    "start_time": "2023-11-11T07:58:01.437Z"
   },
   {
    "duration": 8,
    "start_time": "2023-11-11T07:58:02.235Z"
   },
   {
    "duration": 227,
    "start_time": "2023-11-11T07:58:02.629Z"
   },
   {
    "duration": 11,
    "start_time": "2023-11-11T07:58:03.258Z"
   },
   {
    "duration": 112,
    "start_time": "2023-11-11T07:58:03.459Z"
   },
   {
    "duration": 8,
    "start_time": "2023-11-11T07:58:03.863Z"
   },
   {
    "duration": 12,
    "start_time": "2023-11-11T07:58:04.481Z"
   },
   {
    "duration": 47,
    "start_time": "2023-11-11T07:58:25.685Z"
   },
   {
    "duration": 1212,
    "start_time": "2023-11-11T07:58:31.857Z"
   },
   {
    "duration": 71,
    "start_time": "2023-11-11T07:58:37.889Z"
   },
   {
    "duration": 3,
    "start_time": "2023-11-11T07:58:38.071Z"
   },
   {
    "duration": 2,
    "start_time": "2023-11-11T07:58:38.255Z"
   },
   {
    "duration": 5,
    "start_time": "2023-11-11T07:58:38.435Z"
   },
   {
    "duration": 13,
    "start_time": "2023-11-11T07:58:38.613Z"
   },
   {
    "duration": 5,
    "start_time": "2023-11-11T07:58:39.552Z"
   },
   {
    "duration": 5,
    "start_time": "2023-11-11T07:58:39.733Z"
   },
   {
    "duration": 10,
    "start_time": "2023-11-11T07:58:40.138Z"
   },
   {
    "duration": 5,
    "start_time": "2023-11-11T07:58:40.527Z"
   },
   {
    "duration": 6,
    "start_time": "2023-11-11T07:58:40.916Z"
   },
   {
    "duration": 14,
    "start_time": "2023-11-11T07:58:41.292Z"
   },
   {
    "duration": 7,
    "start_time": "2023-11-11T07:58:41.682Z"
   },
   {
    "duration": 4,
    "start_time": "2023-11-11T07:58:42.260Z"
   },
   {
    "duration": 20,
    "start_time": "2023-11-11T07:58:42.448Z"
   },
   {
    "duration": 13,
    "start_time": "2023-11-11T07:58:43.032Z"
   },
   {
    "duration": 7,
    "start_time": "2023-11-11T07:58:43.616Z"
   },
   {
    "duration": 17,
    "start_time": "2023-11-11T07:58:44.240Z"
   },
   {
    "duration": 7,
    "start_time": "2023-11-11T07:58:44.651Z"
   },
   {
    "duration": 14,
    "start_time": "2023-11-11T07:58:45.056Z"
   },
   {
    "duration": 39,
    "start_time": "2023-11-11T07:58:46.713Z"
   },
   {
    "duration": 14,
    "start_time": "2023-11-11T07:58:47.120Z"
   },
   {
    "duration": 7,
    "start_time": "2023-11-11T07:58:47.968Z"
   },
   {
    "duration": 227,
    "start_time": "2023-11-11T07:58:48.424Z"
   },
   {
    "duration": 10,
    "start_time": "2023-11-11T07:58:49.061Z"
   },
   {
    "duration": 118,
    "start_time": "2023-11-11T07:58:49.258Z"
   },
   {
    "duration": 8,
    "start_time": "2023-11-11T07:58:49.702Z"
   },
   {
    "duration": 13,
    "start_time": "2023-11-11T07:58:50.336Z"
   },
   {
    "duration": 382,
    "start_time": "2023-11-11T07:58:50.826Z"
   },
   {
    "duration": 1228,
    "start_time": "2023-11-11T08:13:52.496Z"
   },
   {
    "duration": 87,
    "start_time": "2023-11-11T08:13:53.726Z"
   },
   {
    "duration": 3,
    "start_time": "2023-11-11T08:13:53.815Z"
   },
   {
    "duration": 11,
    "start_time": "2023-11-11T08:13:53.820Z"
   },
   {
    "duration": 7,
    "start_time": "2023-11-11T08:13:53.832Z"
   },
   {
    "duration": 15,
    "start_time": "2023-11-11T08:13:53.841Z"
   },
   {
    "duration": 4,
    "start_time": "2023-11-11T08:13:54.535Z"
   },
   {
    "duration": 6,
    "start_time": "2023-11-11T08:13:54.730Z"
   },
   {
    "duration": 11,
    "start_time": "2023-11-11T08:13:55.119Z"
   },
   {
    "duration": 5,
    "start_time": "2023-11-11T08:13:55.524Z"
   },
   {
    "duration": 6,
    "start_time": "2023-11-11T08:13:55.923Z"
   },
   {
    "duration": 15,
    "start_time": "2023-11-11T08:13:56.313Z"
   },
   {
    "duration": 7,
    "start_time": "2023-11-11T08:13:56.729Z"
   },
   {
    "duration": 4,
    "start_time": "2023-11-11T08:13:57.311Z"
   },
   {
    "duration": 21,
    "start_time": "2023-11-11T08:13:57.502Z"
   },
   {
    "duration": 13,
    "start_time": "2023-11-11T08:13:58.079Z"
   },
   {
    "duration": 7,
    "start_time": "2023-11-11T08:13:58.678Z"
   },
   {
    "duration": 16,
    "start_time": "2023-11-11T08:13:59.264Z"
   },
   {
    "duration": 7,
    "start_time": "2023-11-11T08:13:59.646Z"
   },
   {
    "duration": 15,
    "start_time": "2023-11-11T08:14:00.037Z"
   },
   {
    "duration": 40,
    "start_time": "2023-11-11T08:14:01.618Z"
   },
   {
    "duration": 16,
    "start_time": "2023-11-11T08:14:02.023Z"
   },
   {
    "duration": 7,
    "start_time": "2023-11-11T08:14:02.834Z"
   },
   {
    "duration": 229,
    "start_time": "2023-11-11T08:14:03.247Z"
   },
   {
    "duration": 10,
    "start_time": "2023-11-11T08:14:03.861Z"
   },
   {
    "duration": 118,
    "start_time": "2023-11-11T08:14:04.048Z"
   },
   {
    "duration": 6,
    "start_time": "2023-11-11T08:14:04.462Z"
   },
   {
    "duration": 13,
    "start_time": "2023-11-11T08:14:05.076Z"
   },
   {
    "duration": 422,
    "start_time": "2023-11-11T08:14:05.488Z"
   },
   {
    "duration": 49,
    "start_time": "2023-11-11T08:14:13.530Z"
   },
   {
    "duration": 0,
    "start_time": "2023-11-11T08:14:13.580Z"
   },
   {
    "duration": 0,
    "start_time": "2023-11-11T08:14:13.581Z"
   },
   {
    "duration": 9,
    "start_time": "2023-11-11T08:15:54.789Z"
   },
   {
    "duration": 8,
    "start_time": "2023-11-11T08:15:54.974Z"
   },
   {
    "duration": 1299,
    "start_time": "2023-11-11T08:16:06.128Z"
   },
   {
    "duration": 86,
    "start_time": "2023-11-11T08:16:07.429Z"
   },
   {
    "duration": 4,
    "start_time": "2023-11-11T08:16:07.517Z"
   },
   {
    "duration": 14,
    "start_time": "2023-11-11T08:16:07.523Z"
   },
   {
    "duration": 6,
    "start_time": "2023-11-11T08:16:07.549Z"
   },
   {
    "duration": 13,
    "start_time": "2023-11-11T08:16:07.761Z"
   },
   {
    "duration": 5,
    "start_time": "2023-11-11T08:16:09.193Z"
   },
   {
    "duration": 5,
    "start_time": "2023-11-11T08:16:09.382Z"
   },
   {
    "duration": 11,
    "start_time": "2023-11-11T08:16:09.793Z"
   },
   {
    "duration": 5,
    "start_time": "2023-11-11T08:16:10.162Z"
   },
   {
    "duration": 6,
    "start_time": "2023-11-11T08:16:10.558Z"
   },
   {
    "duration": 14,
    "start_time": "2023-11-11T08:16:10.927Z"
   },
   {
    "duration": 6,
    "start_time": "2023-11-11T08:16:11.324Z"
   },
   {
    "duration": 4,
    "start_time": "2023-11-11T08:16:11.923Z"
   },
   {
    "duration": 23,
    "start_time": "2023-11-11T08:16:13.388Z"
   },
   {
    "duration": 12,
    "start_time": "2023-11-11T08:16:13.987Z"
   },
   {
    "duration": 6,
    "start_time": "2023-11-11T08:16:14.556Z"
   },
   {
    "duration": 17,
    "start_time": "2023-11-11T08:16:15.142Z"
   },
   {
    "duration": 7,
    "start_time": "2023-11-11T08:16:15.532Z"
   },
   {
    "duration": 16,
    "start_time": "2023-11-11T08:16:15.937Z"
   },
   {
    "duration": 38,
    "start_time": "2023-11-11T08:16:17.532Z"
   },
   {
    "duration": 23,
    "start_time": "2023-11-11T08:16:17.940Z"
   },
   {
    "duration": 7,
    "start_time": "2023-11-11T08:16:18.741Z"
   },
   {
    "duration": 291,
    "start_time": "2023-11-11T08:16:19.176Z"
   },
   {
    "duration": 12,
    "start_time": "2023-11-11T08:16:23.045Z"
   },
   {
    "duration": 121,
    "start_time": "2023-11-11T08:16:23.610Z"
   },
   {
    "duration": 10,
    "start_time": "2023-11-11T08:16:25.603Z"
   },
   {
    "duration": 14,
    "start_time": "2023-11-11T08:16:28.349Z"
   },
   {
    "duration": 386,
    "start_time": "2023-11-11T08:16:29.384Z"
   },
   {
    "duration": 46,
    "start_time": "2023-11-11T08:17:52.623Z"
   },
   {
    "duration": 1337,
    "start_time": "2023-11-11T12:26:52.307Z"
   },
   {
    "duration": 104,
    "start_time": "2023-11-11T12:26:53.645Z"
   },
   {
    "duration": 7,
    "start_time": "2023-11-11T12:26:53.751Z"
   },
   {
    "duration": 8,
    "start_time": "2023-11-11T12:26:53.762Z"
   },
   {
    "duration": 10,
    "start_time": "2023-11-11T12:26:53.771Z"
   },
   {
    "duration": 13,
    "start_time": "2023-11-11T12:26:53.782Z"
   },
   {
    "duration": 5,
    "start_time": "2023-11-11T12:26:54.399Z"
   },
   {
    "duration": 4,
    "start_time": "2023-11-11T12:26:54.596Z"
   },
   {
    "duration": 10,
    "start_time": "2023-11-11T12:26:54.992Z"
   },
   {
    "duration": 5,
    "start_time": "2023-11-11T12:26:55.382Z"
   },
   {
    "duration": 5,
    "start_time": "2023-11-11T12:26:55.772Z"
   },
   {
    "duration": 14,
    "start_time": "2023-11-11T12:26:56.164Z"
   },
   {
    "duration": 6,
    "start_time": "2023-11-11T12:26:56.567Z"
   },
   {
    "duration": 4,
    "start_time": "2023-11-11T12:26:57.174Z"
   },
   {
    "duration": 34,
    "start_time": "2023-11-11T12:26:57.393Z"
   },
   {
    "duration": 14,
    "start_time": "2023-11-11T12:26:57.976Z"
   },
   {
    "duration": 7,
    "start_time": "2023-11-11T12:26:58.584Z"
   },
   {
    "duration": 18,
    "start_time": "2023-11-11T12:26:59.199Z"
   },
   {
    "duration": 8,
    "start_time": "2023-11-11T12:26:59.613Z"
   },
   {
    "duration": 18,
    "start_time": "2023-11-11T12:27:00.010Z"
   },
   {
    "duration": 36,
    "start_time": "2023-11-11T12:27:01.682Z"
   },
   {
    "duration": 14,
    "start_time": "2023-11-11T12:27:02.110Z"
   },
   {
    "duration": 7,
    "start_time": "2023-11-11T12:27:02.944Z"
   },
   {
    "duration": 237,
    "start_time": "2023-11-11T12:27:03.336Z"
   },
   {
    "duration": 9,
    "start_time": "2023-11-11T12:27:03.939Z"
   },
   {
    "duration": 129,
    "start_time": "2023-11-11T12:27:04.143Z"
   },
   {
    "duration": 10,
    "start_time": "2023-11-11T12:27:04.549Z"
   },
   {
    "duration": 13,
    "start_time": "2023-11-11T12:27:05.163Z"
   },
   {
    "duration": 382,
    "start_time": "2023-11-11T12:27:05.567Z"
   },
   {
    "duration": 1444,
    "start_time": "2023-11-11T12:27:21.389Z"
   },
   {
    "duration": 82,
    "start_time": "2023-11-11T12:27:22.835Z"
   },
   {
    "duration": 3,
    "start_time": "2023-11-11T12:27:22.919Z"
   },
   {
    "duration": 8,
    "start_time": "2023-11-11T12:27:22.923Z"
   },
   {
    "duration": 6,
    "start_time": "2023-11-11T12:27:22.932Z"
   },
   {
    "duration": 27,
    "start_time": "2023-11-11T12:27:22.939Z"
   },
   {
    "duration": 6,
    "start_time": "2023-11-11T12:27:22.968Z"
   },
   {
    "duration": 11,
    "start_time": "2023-11-11T12:27:22.976Z"
   },
   {
    "duration": 17,
    "start_time": "2023-11-11T12:27:22.988Z"
   },
   {
    "duration": 4,
    "start_time": "2023-11-11T12:27:23.008Z"
   },
   {
    "duration": 13,
    "start_time": "2023-11-11T12:27:23.013Z"
   },
   {
    "duration": 13,
    "start_time": "2023-11-11T12:27:23.028Z"
   },
   {
    "duration": 20,
    "start_time": "2023-11-11T12:27:23.043Z"
   },
   {
    "duration": 4,
    "start_time": "2023-11-11T12:27:23.065Z"
   },
   {
    "duration": 27,
    "start_time": "2023-11-11T12:27:23.070Z"
   },
   {
    "duration": 11,
    "start_time": "2023-11-11T12:27:23.099Z"
   },
   {
    "duration": 6,
    "start_time": "2023-11-11T12:27:23.111Z"
   },
   {
    "duration": 33,
    "start_time": "2023-11-11T12:27:23.119Z"
   },
   {
    "duration": 12,
    "start_time": "2023-11-11T12:27:23.154Z"
   },
   {
    "duration": 15,
    "start_time": "2023-11-11T12:27:23.168Z"
   },
   {
    "duration": 42,
    "start_time": "2023-11-11T12:27:23.184Z"
   },
   {
    "duration": 13,
    "start_time": "2023-11-11T12:27:23.227Z"
   },
   {
    "duration": 15,
    "start_time": "2023-11-11T12:27:23.253Z"
   },
   {
    "duration": 236,
    "start_time": "2023-11-11T12:27:23.269Z"
   },
   {
    "duration": 10,
    "start_time": "2023-11-11T12:27:23.507Z"
   },
   {
    "duration": 151,
    "start_time": "2023-11-11T12:27:23.519Z"
   },
   {
    "duration": 7,
    "start_time": "2023-11-11T12:27:23.671Z"
   },
   {
    "duration": 25,
    "start_time": "2023-11-11T12:27:23.682Z"
   },
   {
    "duration": 388,
    "start_time": "2023-11-11T12:27:23.709Z"
   },
   {
    "duration": 54,
    "start_time": "2023-11-11T12:28:56.735Z"
   },
   {
    "duration": 1218,
    "start_time": "2023-11-11T12:29:06.882Z"
   },
   {
    "duration": 84,
    "start_time": "2023-11-11T12:29:08.102Z"
   },
   {
    "duration": 3,
    "start_time": "2023-11-11T12:29:08.188Z"
   },
   {
    "duration": 7,
    "start_time": "2023-11-11T12:29:08.192Z"
   },
   {
    "duration": 7,
    "start_time": "2023-11-11T12:29:08.200Z"
   },
   {
    "duration": 13,
    "start_time": "2023-11-11T12:29:08.209Z"
   },
   {
    "duration": 4,
    "start_time": "2023-11-11T12:29:09.020Z"
   },
   {
    "duration": 5,
    "start_time": "2023-11-11T12:29:09.241Z"
   },
   {
    "duration": 13,
    "start_time": "2023-11-11T12:29:09.645Z"
   },
   {
    "duration": 4,
    "start_time": "2023-11-11T12:29:10.034Z"
   },
   {
    "duration": 7,
    "start_time": "2023-11-11T12:29:10.423Z"
   },
   {
    "duration": 14,
    "start_time": "2023-11-11T12:29:10.821Z"
   },
   {
    "duration": 6,
    "start_time": "2023-11-11T12:29:11.235Z"
   },
   {
    "duration": 4,
    "start_time": "2023-11-11T12:29:11.843Z"
   },
   {
    "duration": 31,
    "start_time": "2023-11-11T12:29:12.048Z"
   },
   {
    "duration": 13,
    "start_time": "2023-11-11T12:29:12.637Z"
   },
   {
    "duration": 7,
    "start_time": "2023-11-11T12:29:13.237Z"
   },
   {
    "duration": 23,
    "start_time": "2023-11-11T12:29:13.844Z"
   },
   {
    "duration": 9,
    "start_time": "2023-11-11T12:29:14.248Z"
   },
   {
    "duration": 15,
    "start_time": "2023-11-11T12:29:14.670Z"
   },
   {
    "duration": 39,
    "start_time": "2023-11-11T12:29:16.309Z"
   },
   {
    "duration": 12,
    "start_time": "2023-11-11T12:29:16.719Z"
   },
   {
    "duration": 6,
    "start_time": "2023-11-11T12:29:17.541Z"
   },
   {
    "duration": 232,
    "start_time": "2023-11-11T12:29:17.940Z"
   },
   {
    "duration": 15,
    "start_time": "2023-11-11T12:29:18.554Z"
   },
   {
    "duration": 116,
    "start_time": "2023-11-11T12:29:18.774Z"
   },
   {
    "duration": 6,
    "start_time": "2023-11-11T12:29:19.192Z"
   },
   {
    "duration": 13,
    "start_time": "2023-11-11T12:29:19.821Z"
   },
   {
    "duration": 373,
    "start_time": "2023-11-11T12:29:20.248Z"
   },
   {
    "duration": 1245,
    "start_time": "2023-11-11T12:30:34.023Z"
   },
   {
    "duration": 5,
    "start_time": "2023-11-11T12:30:43.701Z"
   },
   {
    "duration": 103,
    "start_time": "2023-11-11T12:30:46.190Z"
   },
   {
    "duration": 6,
    "start_time": "2023-11-11T12:30:46.961Z"
   },
   {
    "duration": 3,
    "start_time": "2023-11-11T12:30:47.426Z"
   },
   {
    "duration": 3,
    "start_time": "2023-11-11T12:30:47.896Z"
   },
   {
    "duration": 12,
    "start_time": "2023-11-11T12:30:48.116Z"
   },
   {
    "duration": 5,
    "start_time": "2023-11-11T12:30:49.285Z"
   },
   {
    "duration": 5,
    "start_time": "2023-11-11T12:30:49.493Z"
   },
   {
    "duration": 11,
    "start_time": "2023-11-11T12:30:49.906Z"
   },
   {
    "duration": 4,
    "start_time": "2023-11-11T12:30:50.304Z"
   },
   {
    "duration": 6,
    "start_time": "2023-11-11T12:30:50.701Z"
   },
   {
    "duration": 21,
    "start_time": "2023-11-11T12:30:51.095Z"
   },
   {
    "duration": 6,
    "start_time": "2023-11-11T12:30:51.475Z"
   },
   {
    "duration": 4,
    "start_time": "2023-11-11T12:30:52.066Z"
   },
   {
    "duration": 23,
    "start_time": "2023-11-11T12:30:52.280Z"
   },
   {
    "duration": 13,
    "start_time": "2023-11-11T12:30:52.876Z"
   },
   {
    "duration": 8,
    "start_time": "2023-11-11T12:30:53.476Z"
   },
   {
    "duration": 16,
    "start_time": "2023-11-11T12:30:54.087Z"
   },
   {
    "duration": 6,
    "start_time": "2023-11-11T12:30:54.490Z"
   },
   {
    "duration": 15,
    "start_time": "2023-11-11T12:30:54.903Z"
   },
   {
    "duration": 44,
    "start_time": "2023-11-11T12:30:59.255Z"
   },
   {
    "duration": 13,
    "start_time": "2023-11-11T12:31:01.669Z"
   },
   {
    "duration": 12,
    "start_time": "2023-11-11T12:31:07.851Z"
   },
   {
    "duration": 235,
    "start_time": "2023-11-11T12:31:36.657Z"
   },
   {
    "duration": 9,
    "start_time": "2023-11-11T12:31:40.784Z"
   },
   {
    "duration": 124,
    "start_time": "2023-11-11T12:31:43.176Z"
   },
   {
    "duration": 7,
    "start_time": "2023-11-11T12:31:46.912Z"
   },
   {
    "duration": 13,
    "start_time": "2023-11-11T12:31:50.576Z"
   },
   {
    "duration": 420,
    "start_time": "2023-11-11T12:31:53.569Z"
   },
   {
    "duration": 55,
    "start_time": "2023-11-11T12:32:28.325Z"
   },
   {
    "duration": 0,
    "start_time": "2023-11-11T12:34:39.148Z"
   },
   {
    "duration": 0,
    "start_time": "2023-11-11T12:34:39.149Z"
   },
   {
    "duration": 0,
    "start_time": "2023-11-11T12:34:39.150Z"
   },
   {
    "duration": 0,
    "start_time": "2023-11-11T12:34:39.151Z"
   },
   {
    "duration": 0,
    "start_time": "2023-11-11T12:34:39.152Z"
   },
   {
    "duration": 0,
    "start_time": "2023-11-11T12:34:39.153Z"
   },
   {
    "duration": 0,
    "start_time": "2023-11-11T12:34:39.154Z"
   },
   {
    "duration": 0,
    "start_time": "2023-11-11T12:34:39.155Z"
   },
   {
    "duration": 0,
    "start_time": "2023-11-11T12:34:39.156Z"
   },
   {
    "duration": 0,
    "start_time": "2023-11-11T12:34:39.158Z"
   },
   {
    "duration": 0,
    "start_time": "2023-11-11T12:34:39.161Z"
   },
   {
    "duration": 0,
    "start_time": "2023-11-11T12:34:39.162Z"
   },
   {
    "duration": 0,
    "start_time": "2023-11-11T12:34:39.164Z"
   },
   {
    "duration": 0,
    "start_time": "2023-11-11T12:34:39.165Z"
   },
   {
    "duration": 1200,
    "start_time": "2023-11-11T12:34:39.327Z"
   },
   {
    "duration": 122,
    "start_time": "2023-11-11T12:34:40.529Z"
   },
   {
    "duration": 4,
    "start_time": "2023-11-11T12:34:40.654Z"
   },
   {
    "duration": 5,
    "start_time": "2023-11-11T12:34:40.660Z"
   },
   {
    "duration": 7,
    "start_time": "2023-11-11T12:34:40.666Z"
   },
   {
    "duration": 11,
    "start_time": "2023-11-11T12:34:40.674Z"
   },
   {
    "duration": 4,
    "start_time": "2023-11-11T12:34:40.686Z"
   },
   {
    "duration": 8,
    "start_time": "2023-11-11T12:34:40.691Z"
   },
   {
    "duration": 21,
    "start_time": "2023-11-11T12:34:40.701Z"
   },
   {
    "duration": 3,
    "start_time": "2023-11-11T12:34:40.724Z"
   },
   {
    "duration": 33,
    "start_time": "2023-11-11T12:34:40.729Z"
   },
   {
    "duration": 15,
    "start_time": "2023-11-11T12:34:40.764Z"
   },
   {
    "duration": 5,
    "start_time": "2023-11-11T12:34:40.780Z"
   },
   {
    "duration": 6,
    "start_time": "2023-11-11T12:34:40.786Z"
   },
   {
    "duration": 23,
    "start_time": "2023-11-11T12:34:40.793Z"
   },
   {
    "duration": 44,
    "start_time": "2023-11-11T12:34:40.817Z"
   },
   {
    "duration": 9,
    "start_time": "2023-11-11T12:34:40.864Z"
   },
   {
    "duration": 20,
    "start_time": "2023-11-11T12:34:40.874Z"
   },
   {
    "duration": 7,
    "start_time": "2023-11-11T12:34:40.895Z"
   },
   {
    "duration": 15,
    "start_time": "2023-11-11T12:34:40.903Z"
   },
   {
    "duration": 80,
    "start_time": "2023-11-11T12:34:40.919Z"
   },
   {
    "duration": 13,
    "start_time": "2023-11-11T12:34:41.000Z"
   },
   {
    "duration": 13,
    "start_time": "2023-11-11T12:34:41.015Z"
   },
   {
    "duration": 251,
    "start_time": "2023-11-11T12:34:41.030Z"
   },
   {
    "duration": 10,
    "start_time": "2023-11-11T12:34:41.283Z"
   },
   {
    "duration": 135,
    "start_time": "2023-11-11T12:34:41.295Z"
   },
   {
    "duration": 8,
    "start_time": "2023-11-11T12:34:41.432Z"
   },
   {
    "duration": 27,
    "start_time": "2023-11-11T12:34:41.442Z"
   },
   {
    "duration": 401,
    "start_time": "2023-11-11T12:34:41.470Z"
   },
   {
    "duration": 222,
    "start_time": "2023-11-11T12:34:41.872Z"
   },
   {
    "duration": 208,
    "start_time": "2023-11-11T12:34:42.096Z"
   },
   {
    "duration": 1301,
    "start_time": "2023-11-11T12:34:42.305Z"
   },
   {
    "duration": 1383,
    "start_time": "2023-11-11T12:34:43.607Z"
   },
   {
    "duration": 178,
    "start_time": "2023-11-11T12:34:44.991Z"
   },
   {
    "duration": 143,
    "start_time": "2023-11-11T12:34:45.170Z"
   },
   {
    "duration": 1395,
    "start_time": "2023-11-11T12:34:45.315Z"
   },
   {
    "duration": 406,
    "start_time": "2023-11-11T12:34:46.711Z"
   },
   {
    "duration": 4,
    "start_time": "2023-11-11T12:34:47.119Z"
   },
   {
    "duration": 14,
    "start_time": "2023-11-11T12:34:47.125Z"
   },
   {
    "duration": 7,
    "start_time": "2023-11-11T12:34:47.140Z"
   },
   {
    "duration": 23,
    "start_time": "2023-11-11T12:34:47.151Z"
   },
   {
    "duration": 11,
    "start_time": "2023-11-11T12:34:47.175Z"
   },
   {
    "duration": 27,
    "start_time": "2023-11-11T12:34:47.187Z"
   },
   {
    "duration": 22,
    "start_time": "2023-11-11T12:34:47.215Z"
   },
   {
    "duration": 26,
    "start_time": "2023-11-11T12:34:47.239Z"
   },
   {
    "duration": 1601,
    "start_time": "2023-11-11T12:49:32.082Z"
   },
   {
    "duration": 156,
    "start_time": "2023-11-11T12:58:53.065Z"
   },
   {
    "duration": 144,
    "start_time": "2023-11-11T12:59:05.842Z"
   },
   {
    "duration": 158,
    "start_time": "2023-11-11T12:59:58.257Z"
   },
   {
    "duration": 239,
    "start_time": "2023-11-11T13:00:56.059Z"
   },
   {
    "duration": 1030,
    "start_time": "2023-11-11T13:08:12.582Z"
   },
   {
    "duration": 885,
    "start_time": "2023-11-11T13:08:54.721Z"
   },
   {
    "duration": 916,
    "start_time": "2023-11-11T13:09:19.092Z"
   },
   {
    "duration": 860,
    "start_time": "2023-11-11T13:09:47.407Z"
   },
   {
    "duration": 987,
    "start_time": "2023-11-11T13:10:37.014Z"
   },
   {
    "duration": 867,
    "start_time": "2023-11-11T13:10:55.490Z"
   },
   {
    "duration": 848,
    "start_time": "2023-11-11T13:11:08.349Z"
   },
   {
    "duration": 894,
    "start_time": "2023-11-11T13:11:30.198Z"
   },
   {
    "duration": 824,
    "start_time": "2023-11-11T13:12:29.179Z"
   },
   {
    "duration": 20,
    "start_time": "2023-11-11T13:18:17.123Z"
   },
   {
    "duration": 1397,
    "start_time": "2023-11-11T13:41:24.403Z"
   },
   {
    "duration": 113,
    "start_time": "2023-11-11T13:41:25.802Z"
   },
   {
    "duration": 4,
    "start_time": "2023-11-11T13:41:25.917Z"
   },
   {
    "duration": 4,
    "start_time": "2023-11-11T13:41:25.923Z"
   },
   {
    "duration": 5,
    "start_time": "2023-11-11T13:41:25.928Z"
   },
   {
    "duration": 15,
    "start_time": "2023-11-11T13:41:25.935Z"
   },
   {
    "duration": 13,
    "start_time": "2023-11-11T13:41:26.452Z"
   },
   {
    "duration": 4,
    "start_time": "2023-11-11T13:41:26.632Z"
   },
   {
    "duration": 10,
    "start_time": "2023-11-11T13:41:27.007Z"
   },
   {
    "duration": 6,
    "start_time": "2023-11-11T13:41:27.375Z"
   },
   {
    "duration": 9,
    "start_time": "2023-11-11T13:41:27.758Z"
   },
   {
    "duration": 14,
    "start_time": "2023-11-11T13:41:28.129Z"
   },
   {
    "duration": 6,
    "start_time": "2023-11-11T13:41:28.509Z"
   },
   {
    "duration": 4,
    "start_time": "2023-11-11T13:41:29.069Z"
   },
   {
    "duration": 25,
    "start_time": "2023-11-11T13:41:29.261Z"
   },
   {
    "duration": 11,
    "start_time": "2023-11-11T13:41:29.821Z"
   },
   {
    "duration": 7,
    "start_time": "2023-11-11T13:41:30.391Z"
   },
   {
    "duration": 1247,
    "start_time": "2023-11-11T13:42:42.841Z"
   },
   {
    "duration": 1116,
    "start_time": "2023-11-11T13:43:19.158Z"
   },
   {
    "duration": 1267,
    "start_time": "2023-11-11T13:45:08.667Z"
   },
   {
    "duration": 83,
    "start_time": "2023-11-11T13:45:09.937Z"
   },
   {
    "duration": 4,
    "start_time": "2023-11-11T13:45:10.022Z"
   },
   {
    "duration": 4,
    "start_time": "2023-11-11T13:45:10.028Z"
   },
   {
    "duration": 5,
    "start_time": "2023-11-11T13:45:10.033Z"
   },
   {
    "duration": 30,
    "start_time": "2023-11-11T13:45:10.040Z"
   },
   {
    "duration": 5,
    "start_time": "2023-11-11T13:45:10.072Z"
   },
   {
    "duration": 5,
    "start_time": "2023-11-11T13:45:10.079Z"
   },
   {
    "duration": 11,
    "start_time": "2023-11-11T13:45:10.086Z"
   },
   {
    "duration": 4,
    "start_time": "2023-11-11T13:45:10.100Z"
   },
   {
    "duration": 7,
    "start_time": "2023-11-11T13:45:10.105Z"
   },
   {
    "duration": 40,
    "start_time": "2023-11-11T13:45:10.113Z"
   },
   {
    "duration": 9,
    "start_time": "2023-11-11T13:45:10.155Z"
   },
   {
    "duration": 4,
    "start_time": "2023-11-11T13:45:10.166Z"
   },
   {
    "duration": 23,
    "start_time": "2023-11-11T13:45:10.172Z"
   },
   {
    "duration": 12,
    "start_time": "2023-11-11T13:45:10.196Z"
   },
   {
    "duration": 7,
    "start_time": "2023-11-11T13:45:10.209Z"
   },
   {
    "duration": 57,
    "start_time": "2023-11-11T13:45:10.217Z"
   },
   {
    "duration": 6,
    "start_time": "2023-11-11T13:45:10.276Z"
   },
   {
    "duration": 14,
    "start_time": "2023-11-11T13:45:10.283Z"
   },
   {
    "duration": 57,
    "start_time": "2023-11-11T13:45:10.298Z"
   },
   {
    "duration": 17,
    "start_time": "2023-11-11T13:45:10.356Z"
   },
   {
    "duration": 7,
    "start_time": "2023-11-11T13:45:10.374Z"
   },
   {
    "duration": 252,
    "start_time": "2023-11-11T13:45:10.382Z"
   },
   {
    "duration": 22,
    "start_time": "2023-11-11T13:45:10.635Z"
   },
   {
    "duration": 119,
    "start_time": "2023-11-11T13:45:10.662Z"
   },
   {
    "duration": 8,
    "start_time": "2023-11-11T13:45:10.782Z"
   },
   {
    "duration": 12,
    "start_time": "2023-11-11T13:45:10.794Z"
   },
   {
    "duration": 422,
    "start_time": "2023-11-11T13:45:10.807Z"
   },
   {
    "duration": 214,
    "start_time": "2023-11-11T13:45:11.231Z"
   },
   {
    "duration": 1080,
    "start_time": "2023-11-11T13:45:11.447Z"
   },
   {
    "duration": 24,
    "start_time": "2023-11-11T13:45:12.528Z"
   },
   {
    "duration": 1317,
    "start_time": "2023-11-11T13:45:12.555Z"
   },
   {
    "duration": 175,
    "start_time": "2023-11-11T13:45:13.874Z"
   },
   {
    "duration": 177,
    "start_time": "2023-11-11T13:45:14.053Z"
   },
   {
    "duration": 1315,
    "start_time": "2023-11-11T13:56:34.645Z"
   },
   {
    "duration": 92,
    "start_time": "2023-11-11T13:56:37.526Z"
   },
   {
    "duration": 10,
    "start_time": "2023-11-11T13:56:38.060Z"
   },
   {
    "duration": 3,
    "start_time": "2023-11-11T13:56:38.284Z"
   },
   {
    "duration": 3,
    "start_time": "2023-11-11T13:56:38.500Z"
   },
   {
    "duration": 12,
    "start_time": "2023-11-11T13:56:38.703Z"
   },
   {
    "duration": 8,
    "start_time": "2023-11-11T13:56:39.692Z"
   },
   {
    "duration": 7,
    "start_time": "2023-11-11T13:56:39.888Z"
   },
   {
    "duration": 15,
    "start_time": "2023-11-11T13:56:40.274Z"
   },
   {
    "duration": 6,
    "start_time": "2023-11-11T13:56:40.676Z"
   },
   {
    "duration": 18,
    "start_time": "2023-11-11T13:56:41.050Z"
   },
   {
    "duration": 36,
    "start_time": "2023-11-11T13:56:41.450Z"
   },
   {
    "duration": 10,
    "start_time": "2023-11-11T13:56:41.829Z"
   },
   {
    "duration": 4,
    "start_time": "2023-11-11T13:56:42.424Z"
   },
   {
    "duration": 29,
    "start_time": "2023-11-11T13:56:42.641Z"
   },
   {
    "duration": 16,
    "start_time": "2023-11-11T13:56:43.239Z"
   },
   {
    "duration": 16,
    "start_time": "2023-11-11T13:56:43.847Z"
   },
   {
    "duration": 26,
    "start_time": "2023-11-11T13:56:44.461Z"
   },
   {
    "duration": 9,
    "start_time": "2023-11-11T13:56:44.870Z"
   },
   {
    "duration": 21,
    "start_time": "2023-11-11T13:56:45.241Z"
   },
   {
    "duration": 57,
    "start_time": "2023-11-11T13:56:46.825Z"
   },
   {
    "duration": 14,
    "start_time": "2023-11-11T13:56:47.215Z"
   },
   {
    "duration": 7,
    "start_time": "2023-11-11T13:56:48.011Z"
   },
   {
    "duration": 274,
    "start_time": "2023-11-11T13:56:48.415Z"
   },
   {
    "duration": 22,
    "start_time": "2023-11-11T13:56:49.046Z"
   },
   {
    "duration": 157,
    "start_time": "2023-11-11T13:56:49.226Z"
   },
   {
    "duration": 7,
    "start_time": "2023-11-11T13:56:50.139Z"
   },
   {
    "duration": 13,
    "start_time": "2023-11-11T13:56:50.801Z"
   },
   {
    "duration": 377,
    "start_time": "2023-11-11T13:56:51.241Z"
   },
   {
    "duration": 212,
    "start_time": "2023-11-11T13:56:56.409Z"
   },
   {
    "duration": 1107,
    "start_time": "2023-11-11T13:56:56.821Z"
   },
   {
    "duration": 12,
    "start_time": "2023-11-11T13:56:57.929Z"
   },
   {
    "duration": 1445,
    "start_time": "2023-11-11T13:56:57.943Z"
   },
   {
    "duration": 161,
    "start_time": "2023-11-11T13:56:59.391Z"
   },
   {
    "duration": 168,
    "start_time": "2023-11-11T13:56:59.556Z"
   },
   {
    "duration": 65,
    "start_time": "2023-11-11T14:00:52.325Z"
   },
   {
    "duration": 1241,
    "start_time": "2023-11-12T11:17:20.411Z"
   },
   {
    "duration": 171,
    "start_time": "2023-11-12T11:17:21.654Z"
   },
   {
    "duration": 3,
    "start_time": "2023-11-12T11:17:21.827Z"
   },
   {
    "duration": 18,
    "start_time": "2023-11-12T11:17:21.832Z"
   },
   {
    "duration": 11,
    "start_time": "2023-11-12T11:17:21.851Z"
   },
   {
    "duration": 15,
    "start_time": "2023-11-12T11:17:21.863Z"
   },
   {
    "duration": 4,
    "start_time": "2023-11-12T11:17:21.880Z"
   },
   {
    "duration": 5,
    "start_time": "2023-11-12T11:17:21.886Z"
   },
   {
    "duration": 17,
    "start_time": "2023-11-12T11:17:21.893Z"
   },
   {
    "duration": 5,
    "start_time": "2023-11-12T11:17:21.913Z"
   },
   {
    "duration": 14,
    "start_time": "2023-11-12T11:17:21.919Z"
   },
   {
    "duration": 19,
    "start_time": "2023-11-12T11:17:21.935Z"
   },
   {
    "duration": 7,
    "start_time": "2023-11-12T11:17:21.956Z"
   },
   {
    "duration": 6,
    "start_time": "2023-11-12T11:17:21.965Z"
   },
   {
    "duration": 29,
    "start_time": "2023-11-12T11:17:21.972Z"
   },
   {
    "duration": 29,
    "start_time": "2023-11-12T11:17:22.003Z"
   },
   {
    "duration": 7,
    "start_time": "2023-11-12T11:17:22.034Z"
   },
   {
    "duration": 18,
    "start_time": "2023-11-12T11:17:22.043Z"
   },
   {
    "duration": 6,
    "start_time": "2023-11-12T11:17:22.063Z"
   },
   {
    "duration": 17,
    "start_time": "2023-11-12T11:17:22.071Z"
   },
   {
    "duration": 75,
    "start_time": "2023-11-12T11:17:22.089Z"
   },
   {
    "duration": 13,
    "start_time": "2023-11-12T11:17:22.166Z"
   },
   {
    "duration": 7,
    "start_time": "2023-11-12T11:17:22.181Z"
   },
   {
    "duration": 244,
    "start_time": "2023-11-12T11:17:22.190Z"
   },
   {
    "duration": 9,
    "start_time": "2023-11-12T11:17:22.435Z"
   },
   {
    "duration": 131,
    "start_time": "2023-11-12T11:17:22.446Z"
   },
   {
    "duration": 8,
    "start_time": "2023-11-12T11:17:22.578Z"
   },
   {
    "duration": 18,
    "start_time": "2023-11-12T11:17:22.589Z"
   },
   {
    "duration": 368,
    "start_time": "2023-11-12T11:17:22.609Z"
   },
   {
    "duration": 211,
    "start_time": "2023-11-12T11:17:22.979Z"
   },
   {
    "duration": 1079,
    "start_time": "2023-11-12T11:17:23.192Z"
   },
   {
    "duration": 14,
    "start_time": "2023-11-12T11:17:24.272Z"
   },
   {
    "duration": 1228,
    "start_time": "2023-11-12T11:17:24.287Z"
   },
   {
    "duration": 185,
    "start_time": "2023-11-12T11:17:25.517Z"
   },
   {
    "duration": 169,
    "start_time": "2023-11-12T11:17:25.704Z"
   },
   {
    "duration": 99,
    "start_time": "2023-11-12T11:30:05.643Z"
   },
   {
    "duration": 1711,
    "start_time": "2023-11-12T11:30:13.550Z"
   },
   {
    "duration": 88,
    "start_time": "2023-11-12T11:30:15.263Z"
   },
   {
    "duration": 5,
    "start_time": "2023-11-12T11:30:15.353Z"
   },
   {
    "duration": 5,
    "start_time": "2023-11-12T11:30:15.361Z"
   },
   {
    "duration": 6,
    "start_time": "2023-11-12T11:30:15.367Z"
   },
   {
    "duration": 37,
    "start_time": "2023-11-12T11:30:15.375Z"
   },
   {
    "duration": 13,
    "start_time": "2023-11-12T11:30:15.416Z"
   },
   {
    "duration": 11,
    "start_time": "2023-11-12T11:30:15.435Z"
   },
   {
    "duration": 13,
    "start_time": "2023-11-12T11:30:15.448Z"
   },
   {
    "duration": 4,
    "start_time": "2023-11-12T11:30:15.464Z"
   },
   {
    "duration": 7,
    "start_time": "2023-11-12T11:30:15.470Z"
   },
   {
    "duration": 58,
    "start_time": "2023-11-12T11:30:15.478Z"
   },
   {
    "duration": 10,
    "start_time": "2023-11-12T11:30:15.538Z"
   },
   {
    "duration": 5,
    "start_time": "2023-11-12T11:30:15.549Z"
   },
   {
    "duration": 23,
    "start_time": "2023-11-12T11:30:15.556Z"
   },
   {
    "duration": 33,
    "start_time": "2023-11-12T11:30:15.580Z"
   },
   {
    "duration": 19,
    "start_time": "2023-11-12T11:30:15.615Z"
   },
   {
    "duration": 23,
    "start_time": "2023-11-12T11:30:15.636Z"
   },
   {
    "duration": 12,
    "start_time": "2023-11-12T11:30:15.661Z"
   },
   {
    "duration": 56,
    "start_time": "2023-11-12T11:30:15.674Z"
   },
   {
    "duration": 45,
    "start_time": "2023-11-12T11:30:15.732Z"
   },
   {
    "duration": 16,
    "start_time": "2023-11-12T11:30:15.778Z"
   },
   {
    "duration": 7,
    "start_time": "2023-11-12T11:30:15.796Z"
   },
   {
    "duration": 280,
    "start_time": "2023-11-12T11:30:15.814Z"
   },
   {
    "duration": 26,
    "start_time": "2023-11-12T11:30:16.096Z"
   },
   {
    "duration": 167,
    "start_time": "2023-11-12T11:30:16.124Z"
   },
   {
    "duration": 8,
    "start_time": "2023-11-12T11:30:16.293Z"
   },
   {
    "duration": 43,
    "start_time": "2023-11-12T11:30:16.304Z"
   },
   {
    "duration": 453,
    "start_time": "2023-11-12T11:30:16.349Z"
   },
   {
    "duration": 267,
    "start_time": "2023-11-12T11:30:16.804Z"
   },
   {
    "duration": 1270,
    "start_time": "2023-11-12T11:30:17.073Z"
   },
   {
    "duration": 15,
    "start_time": "2023-11-12T11:30:18.345Z"
   },
   {
    "duration": 1615,
    "start_time": "2023-11-12T11:30:18.362Z"
   },
   {
    "duration": 227,
    "start_time": "2023-11-12T11:30:19.979Z"
   },
   {
    "duration": 195,
    "start_time": "2023-11-12T11:30:20.208Z"
   },
   {
    "duration": 0,
    "start_time": "2023-11-12T11:31:26.374Z"
   },
   {
    "duration": 0,
    "start_time": "2023-11-12T11:31:30.749Z"
   },
   {
    "duration": 0,
    "start_time": "2023-11-12T11:31:30.751Z"
   },
   {
    "duration": 0,
    "start_time": "2023-11-12T11:31:30.752Z"
   },
   {
    "duration": 0,
    "start_time": "2023-11-12T11:31:30.753Z"
   },
   {
    "duration": 0,
    "start_time": "2023-11-12T11:31:30.754Z"
   },
   {
    "duration": 0,
    "start_time": "2023-11-12T11:31:30.755Z"
   },
   {
    "duration": 0,
    "start_time": "2023-11-12T11:31:30.757Z"
   },
   {
    "duration": 0,
    "start_time": "2023-11-12T11:31:30.759Z"
   },
   {
    "duration": 0,
    "start_time": "2023-11-12T11:31:30.764Z"
   },
   {
    "duration": 0,
    "start_time": "2023-11-12T11:31:30.765Z"
   },
   {
    "duration": 0,
    "start_time": "2023-11-12T11:31:30.767Z"
   },
   {
    "duration": 0,
    "start_time": "2023-11-12T11:31:30.768Z"
   },
   {
    "duration": 0,
    "start_time": "2023-11-12T11:31:30.770Z"
   },
   {
    "duration": 0,
    "start_time": "2023-11-12T11:31:30.771Z"
   },
   {
    "duration": 0,
    "start_time": "2023-11-12T11:31:30.813Z"
   },
   {
    "duration": 0,
    "start_time": "2023-11-12T11:31:30.815Z"
   },
   {
    "duration": 0,
    "start_time": "2023-11-12T11:31:30.816Z"
   },
   {
    "duration": 0,
    "start_time": "2023-11-12T11:31:30.818Z"
   },
   {
    "duration": 0,
    "start_time": "2023-11-12T11:31:30.820Z"
   },
   {
    "duration": 0,
    "start_time": "2023-11-12T11:31:30.821Z"
   },
   {
    "duration": 0,
    "start_time": "2023-11-12T11:31:30.824Z"
   },
   {
    "duration": 0,
    "start_time": "2023-11-12T11:31:30.825Z"
   },
   {
    "duration": 0,
    "start_time": "2023-11-12T11:31:30.827Z"
   },
   {
    "duration": 0,
    "start_time": "2023-11-12T11:31:30.829Z"
   },
   {
    "duration": 0,
    "start_time": "2023-11-12T11:31:30.830Z"
   },
   {
    "duration": 0,
    "start_time": "2023-11-12T11:31:30.839Z"
   },
   {
    "duration": 0,
    "start_time": "2023-11-12T11:31:30.841Z"
   },
   {
    "duration": 0,
    "start_time": "2023-11-12T11:31:30.842Z"
   },
   {
    "duration": 0,
    "start_time": "2023-11-12T11:31:30.844Z"
   },
   {
    "duration": 0,
    "start_time": "2023-11-12T11:31:30.845Z"
   },
   {
    "duration": 0,
    "start_time": "2023-11-12T11:31:30.846Z"
   },
   {
    "duration": 0,
    "start_time": "2023-11-12T11:31:30.847Z"
   },
   {
    "duration": 0,
    "start_time": "2023-11-12T11:31:30.848Z"
   },
   {
    "duration": 0,
    "start_time": "2023-11-12T11:31:30.849Z"
   },
   {
    "duration": 0,
    "start_time": "2023-11-12T11:31:30.850Z"
   },
   {
    "duration": 0,
    "start_time": "2023-11-12T11:31:30.853Z"
   },
   {
    "duration": 0,
    "start_time": "2023-11-12T11:31:30.854Z"
   },
   {
    "duration": 0,
    "start_time": "2023-11-12T11:31:30.855Z"
   },
   {
    "duration": 0,
    "start_time": "2023-11-12T11:31:30.856Z"
   },
   {
    "duration": 0,
    "start_time": "2023-11-12T11:31:30.860Z"
   },
   {
    "duration": 0,
    "start_time": "2023-11-12T11:31:30.861Z"
   },
   {
    "duration": 0,
    "start_time": "2023-11-12T11:31:30.863Z"
   },
   {
    "duration": 0,
    "start_time": "2023-11-12T11:31:30.865Z"
   },
   {
    "duration": 0,
    "start_time": "2023-11-12T11:31:30.866Z"
   },
   {
    "duration": 0,
    "start_time": "2023-11-12T11:31:30.867Z"
   },
   {
    "duration": 16,
    "start_time": "2023-11-12T11:31:47.752Z"
   },
   {
    "duration": 455,
    "start_time": "2023-11-12T11:31:48.577Z"
   },
   {
    "duration": 1416,
    "start_time": "2023-11-12T17:36:44.980Z"
   },
   {
    "duration": 121,
    "start_time": "2023-11-12T17:36:46.398Z"
   },
   {
    "duration": 4,
    "start_time": "2023-11-12T17:36:46.520Z"
   },
   {
    "duration": 26,
    "start_time": "2023-11-12T17:36:46.525Z"
   },
   {
    "duration": 31,
    "start_time": "2023-11-12T17:36:46.553Z"
   },
   {
    "duration": 28,
    "start_time": "2023-11-12T17:36:46.586Z"
   },
   {
    "duration": 5,
    "start_time": "2023-11-12T17:36:47.093Z"
   },
   {
    "duration": 5,
    "start_time": "2023-11-12T17:36:47.294Z"
   },
   {
    "duration": 11,
    "start_time": "2023-11-12T17:36:47.685Z"
   },
   {
    "duration": 5,
    "start_time": "2023-11-12T17:36:48.096Z"
   },
   {
    "duration": 7,
    "start_time": "2023-11-12T17:36:48.518Z"
   },
   {
    "duration": 17,
    "start_time": "2023-11-12T17:36:48.914Z"
   },
   {
    "duration": 7,
    "start_time": "2023-11-12T17:36:49.328Z"
   },
   {
    "duration": 4,
    "start_time": "2023-11-12T17:36:49.919Z"
   },
   {
    "duration": 21,
    "start_time": "2023-11-12T17:36:50.124Z"
   },
   {
    "duration": 14,
    "start_time": "2023-11-12T17:36:50.723Z"
   },
   {
    "duration": 7,
    "start_time": "2023-11-12T17:36:51.322Z"
   },
   {
    "duration": 17,
    "start_time": "2023-11-12T17:36:51.916Z"
   },
   {
    "duration": 7,
    "start_time": "2023-11-12T17:36:52.313Z"
   },
   {
    "duration": 15,
    "start_time": "2023-11-12T17:36:52.727Z"
   },
   {
    "duration": 40,
    "start_time": "2023-11-12T17:37:16.515Z"
   },
   {
    "duration": 15,
    "start_time": "2023-11-12T17:37:16.919Z"
   },
   {
    "duration": 7,
    "start_time": "2023-11-12T17:37:36.451Z"
   },
   {
    "duration": 244,
    "start_time": "2023-11-12T17:37:36.819Z"
   },
   {
    "duration": 12,
    "start_time": "2023-11-12T17:37:37.388Z"
   },
   {
    "duration": 118,
    "start_time": "2023-11-12T17:37:37.583Z"
   },
   {
    "duration": 8,
    "start_time": "2023-11-12T17:37:37.974Z"
   },
   {
    "duration": 14,
    "start_time": "2023-11-12T17:37:38.746Z"
   },
   {
    "duration": 376,
    "start_time": "2023-11-12T17:37:39.136Z"
   },
   {
    "duration": 195,
    "start_time": "2023-11-12T17:37:40.126Z"
   },
   {
    "duration": 1021,
    "start_time": "2023-11-12T17:37:40.531Z"
   },
   {
    "duration": 18,
    "start_time": "2023-11-12T17:37:41.554Z"
   },
   {
    "duration": 1241,
    "start_time": "2023-11-12T17:37:41.574Z"
   },
   {
    "duration": 151,
    "start_time": "2023-11-12T17:37:42.817Z"
   },
   {
    "duration": 149,
    "start_time": "2023-11-12T17:37:42.969Z"
   },
   {
    "duration": 46,
    "start_time": "2023-11-12T17:41:09.916Z"
   },
   {
    "duration": 1172,
    "start_time": "2023-11-12T17:41:16.411Z"
   },
   {
    "duration": 84,
    "start_time": "2023-11-12T17:41:17.585Z"
   },
   {
    "duration": 3,
    "start_time": "2023-11-12T17:41:17.670Z"
   },
   {
    "duration": 10,
    "start_time": "2023-11-12T17:41:17.675Z"
   },
   {
    "duration": 7,
    "start_time": "2023-11-12T17:41:17.687Z"
   },
   {
    "duration": 13,
    "start_time": "2023-11-12T17:41:17.696Z"
   },
   {
    "duration": 5,
    "start_time": "2023-11-12T17:41:17.711Z"
   },
   {
    "duration": 5,
    "start_time": "2023-11-12T17:41:17.717Z"
   },
   {
    "duration": 13,
    "start_time": "2023-11-12T17:41:17.723Z"
   },
   {
    "duration": 7,
    "start_time": "2023-11-12T17:41:17.738Z"
   },
   {
    "duration": 10,
    "start_time": "2023-11-12T17:41:17.747Z"
   },
   {
    "duration": 41,
    "start_time": "2023-11-12T17:41:17.759Z"
   },
   {
    "duration": 7,
    "start_time": "2023-11-12T17:41:17.802Z"
   },
   {
    "duration": 4,
    "start_time": "2023-11-12T17:41:17.811Z"
   },
   {
    "duration": 21,
    "start_time": "2023-11-12T17:41:17.816Z"
   },
   {
    "duration": 12,
    "start_time": "2023-11-12T17:41:17.838Z"
   },
   {
    "duration": 7,
    "start_time": "2023-11-12T17:41:17.851Z"
   },
   {
    "duration": 49,
    "start_time": "2023-11-12T17:41:17.859Z"
   },
   {
    "duration": 6,
    "start_time": "2023-11-12T17:41:17.909Z"
   },
   {
    "duration": 15,
    "start_time": "2023-11-12T17:41:17.917Z"
   },
   {
    "duration": 37,
    "start_time": "2023-11-12T17:41:17.934Z"
   },
   {
    "duration": 33,
    "start_time": "2023-11-12T17:41:17.973Z"
   },
   {
    "duration": 13,
    "start_time": "2023-11-12T17:41:18.007Z"
   },
   {
    "duration": 236,
    "start_time": "2023-11-12T17:41:18.021Z"
   },
   {
    "duration": 10,
    "start_time": "2023-11-12T17:41:18.259Z"
   },
   {
    "duration": 135,
    "start_time": "2023-11-12T17:41:18.271Z"
   },
   {
    "duration": 7,
    "start_time": "2023-11-12T17:41:18.408Z"
   },
   {
    "duration": 27,
    "start_time": "2023-11-12T17:41:18.418Z"
   },
   {
    "duration": 387,
    "start_time": "2023-11-12T17:41:18.446Z"
   },
   {
    "duration": 206,
    "start_time": "2023-11-12T17:41:18.834Z"
   },
   {
    "duration": 1014,
    "start_time": "2023-11-12T17:41:19.041Z"
   },
   {
    "duration": 13,
    "start_time": "2023-11-12T17:41:20.057Z"
   },
   {
    "duration": 8,
    "start_time": "2023-11-12T17:41:20.072Z"
   },
   {
    "duration": 22,
    "start_time": "2023-11-12T17:41:20.081Z"
   },
   {
    "duration": 1242,
    "start_time": "2023-11-12T17:41:20.104Z"
   },
   {
    "duration": 154,
    "start_time": "2023-11-12T17:41:21.348Z"
   },
   {
    "duration": 158,
    "start_time": "2023-11-12T17:41:21.504Z"
   },
   {
    "duration": 1242,
    "start_time": "2023-11-12T17:42:32.581Z"
   },
   {
    "duration": 81,
    "start_time": "2023-11-12T17:42:33.825Z"
   },
   {
    "duration": 3,
    "start_time": "2023-11-12T17:42:33.907Z"
   },
   {
    "duration": 7,
    "start_time": "2023-11-12T17:42:33.912Z"
   },
   {
    "duration": 8,
    "start_time": "2023-11-12T17:42:33.921Z"
   },
   {
    "duration": 25,
    "start_time": "2023-11-12T17:42:33.930Z"
   },
   {
    "duration": 5,
    "start_time": "2023-11-12T17:42:33.956Z"
   },
   {
    "duration": 10,
    "start_time": "2023-11-12T17:42:33.962Z"
   },
   {
    "duration": 14,
    "start_time": "2023-11-12T17:42:33.974Z"
   },
   {
    "duration": 4,
    "start_time": "2023-11-12T17:42:33.998Z"
   },
   {
    "duration": 8,
    "start_time": "2023-11-12T17:42:34.003Z"
   },
   {
    "duration": 17,
    "start_time": "2023-11-12T17:42:34.012Z"
   },
   {
    "duration": 6,
    "start_time": "2023-11-12T17:42:34.030Z"
   },
   {
    "duration": 6,
    "start_time": "2023-11-12T17:42:34.037Z"
   },
   {
    "duration": 56,
    "start_time": "2023-11-12T17:42:34.044Z"
   },
   {
    "duration": 13,
    "start_time": "2023-11-12T17:42:34.101Z"
   },
   {
    "duration": 8,
    "start_time": "2023-11-12T17:42:34.115Z"
   },
   {
    "duration": 17,
    "start_time": "2023-11-12T17:42:34.124Z"
   },
   {
    "duration": 5,
    "start_time": "2023-11-12T17:42:34.142Z"
   },
   {
    "duration": 50,
    "start_time": "2023-11-12T17:42:34.149Z"
   },
   {
    "duration": 38,
    "start_time": "2023-11-12T17:42:34.201Z"
   },
   {
    "duration": 13,
    "start_time": "2023-11-12T17:42:34.241Z"
   },
   {
    "duration": 6,
    "start_time": "2023-11-12T17:42:34.256Z"
   },
   {
    "duration": 261,
    "start_time": "2023-11-12T17:42:34.264Z"
   },
   {
    "duration": 10,
    "start_time": "2023-11-12T17:42:34.526Z"
   },
   {
    "duration": 134,
    "start_time": "2023-11-12T17:42:34.538Z"
   },
   {
    "duration": 8,
    "start_time": "2023-11-12T17:42:34.674Z"
   },
   {
    "duration": 25,
    "start_time": "2023-11-12T17:42:34.685Z"
   },
   {
    "duration": 382,
    "start_time": "2023-11-12T17:42:34.711Z"
   },
   {
    "duration": 207,
    "start_time": "2023-11-12T17:42:35.094Z"
   },
   {
    "duration": 1040,
    "start_time": "2023-11-12T17:42:35.303Z"
   },
   {
    "duration": 14,
    "start_time": "2023-11-12T17:42:36.344Z"
   },
   {
    "duration": 10,
    "start_time": "2023-11-12T17:42:36.359Z"
   },
   {
    "duration": 9,
    "start_time": "2023-11-12T17:42:36.370Z"
   },
   {
    "duration": 1275,
    "start_time": "2023-11-12T17:42:36.381Z"
   },
   {
    "duration": 161,
    "start_time": "2023-11-12T17:42:37.658Z"
   },
   {
    "duration": 151,
    "start_time": "2023-11-12T17:42:37.820Z"
   },
   {
    "duration": 1251,
    "start_time": "2023-11-12T17:49:22.623Z"
   },
   {
    "duration": 89,
    "start_time": "2023-11-12T17:49:23.876Z"
   },
   {
    "duration": 3,
    "start_time": "2023-11-12T17:49:23.966Z"
   },
   {
    "duration": 8,
    "start_time": "2023-11-12T17:49:23.971Z"
   },
   {
    "duration": 18,
    "start_time": "2023-11-12T17:49:23.981Z"
   },
   {
    "duration": 25,
    "start_time": "2023-11-12T17:49:24.000Z"
   },
   {
    "duration": 6,
    "start_time": "2023-11-12T17:49:25.172Z"
   },
   {
    "duration": 5,
    "start_time": "2023-11-12T17:49:25.907Z"
   },
   {
    "duration": 10,
    "start_time": "2023-11-12T17:49:26.331Z"
   },
   {
    "duration": 5,
    "start_time": "2023-11-12T17:49:26.731Z"
   },
   {
    "duration": 8,
    "start_time": "2023-11-12T17:49:27.103Z"
   },
   {
    "duration": 14,
    "start_time": "2023-11-12T17:49:27.467Z"
   },
   {
    "duration": 6,
    "start_time": "2023-11-12T17:49:27.833Z"
   },
   {
    "duration": 4,
    "start_time": "2023-11-12T17:49:28.397Z"
   },
   {
    "duration": 21,
    "start_time": "2023-11-12T17:49:28.594Z"
   },
   {
    "duration": 12,
    "start_time": "2023-11-12T17:49:29.131Z"
   },
   {
    "duration": 8,
    "start_time": "2023-11-12T17:49:29.709Z"
   },
   {
    "duration": 17,
    "start_time": "2023-11-12T17:49:30.303Z"
   },
   {
    "duration": 6,
    "start_time": "2023-11-12T17:49:30.685Z"
   },
   {
    "duration": 16,
    "start_time": "2023-11-12T17:49:31.086Z"
   },
   {
    "duration": 38,
    "start_time": "2023-11-12T17:49:32.829Z"
   },
   {
    "duration": 14,
    "start_time": "2023-11-12T17:49:33.214Z"
   },
   {
    "duration": 6,
    "start_time": "2023-11-12T17:49:34.188Z"
   },
   {
    "duration": 227,
    "start_time": "2023-11-12T17:49:34.599Z"
   },
   {
    "duration": 10,
    "start_time": "2023-11-12T17:49:35.187Z"
   },
   {
    "duration": 121,
    "start_time": "2023-11-12T17:49:35.387Z"
   },
   {
    "duration": 8,
    "start_time": "2023-11-12T17:49:35.815Z"
   },
   {
    "duration": 14,
    "start_time": "2023-11-12T17:49:36.610Z"
   },
   {
    "duration": 390,
    "start_time": "2023-11-12T17:49:37.023Z"
   },
   {
    "duration": 203,
    "start_time": "2023-11-12T17:49:38.044Z"
   },
   {
    "duration": 1018,
    "start_time": "2023-11-12T17:49:38.452Z"
   },
   {
    "duration": 13,
    "start_time": "2023-11-12T17:49:39.499Z"
   },
   {
    "duration": 22,
    "start_time": "2023-11-12T17:49:39.515Z"
   },
   {
    "duration": 10,
    "start_time": "2023-11-12T17:49:39.712Z"
   },
   {
    "duration": 1230,
    "start_time": "2023-11-12T17:49:40.134Z"
   },
   {
    "duration": 99,
    "start_time": "2023-11-12T17:50:51.648Z"
   },
   {
    "duration": 45,
    "start_time": "2023-11-12T17:53:17.830Z"
   },
   {
    "duration": 1182,
    "start_time": "2023-11-12T17:53:24.003Z"
   },
   {
    "duration": 85,
    "start_time": "2023-11-12T17:53:25.186Z"
   },
   {
    "duration": 4,
    "start_time": "2023-11-12T17:53:25.273Z"
   },
   {
    "duration": 7,
    "start_time": "2023-11-12T17:53:25.279Z"
   },
   {
    "duration": 5,
    "start_time": "2023-11-12T17:53:25.287Z"
   },
   {
    "duration": 26,
    "start_time": "2023-11-12T17:53:25.294Z"
   },
   {
    "duration": 5,
    "start_time": "2023-11-12T17:53:26.207Z"
   },
   {
    "duration": 5,
    "start_time": "2023-11-12T17:53:26.413Z"
   },
   {
    "duration": 11,
    "start_time": "2023-11-12T17:53:26.791Z"
   },
   {
    "duration": 5,
    "start_time": "2023-11-12T17:53:27.183Z"
   },
   {
    "duration": 6,
    "start_time": "2023-11-12T17:53:27.590Z"
   },
   {
    "duration": 15,
    "start_time": "2023-11-12T17:53:27.992Z"
   },
   {
    "duration": 9,
    "start_time": "2023-11-12T17:53:28.668Z"
   },
   {
    "duration": 4,
    "start_time": "2023-11-12T17:53:29.260Z"
   },
   {
    "duration": 20,
    "start_time": "2023-11-12T17:53:29.465Z"
   },
   {
    "duration": 13,
    "start_time": "2023-11-12T17:53:30.056Z"
   },
   {
    "duration": 7,
    "start_time": "2023-11-12T17:53:30.618Z"
   },
   {
    "duration": 17,
    "start_time": "2023-11-12T17:53:31.203Z"
   },
   {
    "duration": 7,
    "start_time": "2023-11-12T17:53:31.601Z"
   },
   {
    "duration": 16,
    "start_time": "2023-11-12T17:53:32.005Z"
   },
   {
    "duration": 38,
    "start_time": "2023-11-12T17:53:33.814Z"
   },
   {
    "duration": 15,
    "start_time": "2023-11-12T17:53:34.221Z"
   },
   {
    "duration": 6,
    "start_time": "2023-11-12T17:53:35.222Z"
   },
   {
    "duration": 219,
    "start_time": "2023-11-12T17:53:35.634Z"
   },
   {
    "duration": 10,
    "start_time": "2023-11-12T17:53:36.259Z"
   },
   {
    "duration": 110,
    "start_time": "2023-11-12T17:53:36.453Z"
   },
   {
    "duration": 7,
    "start_time": "2023-11-12T17:53:36.875Z"
   },
   {
    "duration": 14,
    "start_time": "2023-11-12T17:53:37.690Z"
   },
   {
    "duration": 363,
    "start_time": "2023-11-12T17:53:38.089Z"
   },
   {
    "duration": 206,
    "start_time": "2023-11-12T17:53:39.124Z"
   },
   {
    "duration": 996,
    "start_time": "2023-11-12T17:53:39.539Z"
   },
   {
    "duration": 13,
    "start_time": "2023-11-12T17:53:40.537Z"
   },
   {
    "duration": 4,
    "start_time": "2023-11-12T17:53:40.773Z"
   },
   {
    "duration": 1245,
    "start_time": "2023-11-12T17:53:41.193Z"
   },
   {
    "duration": 155,
    "start_time": "2023-11-12T17:53:42.440Z"
   },
   {
    "duration": 147,
    "start_time": "2023-11-12T17:53:42.596Z"
   },
   {
    "duration": 1247,
    "start_time": "2023-11-12T17:55:45.965Z"
   },
   {
    "duration": 87,
    "start_time": "2023-11-12T17:55:47.214Z"
   },
   {
    "duration": 5,
    "start_time": "2023-11-12T17:55:47.303Z"
   },
   {
    "duration": 9,
    "start_time": "2023-11-12T17:55:47.310Z"
   },
   {
    "duration": 7,
    "start_time": "2023-11-12T17:55:47.321Z"
   },
   {
    "duration": 15,
    "start_time": "2023-11-12T17:55:47.330Z"
   },
   {
    "duration": 7,
    "start_time": "2023-11-12T17:55:47.346Z"
   },
   {
    "duration": 11,
    "start_time": "2023-11-12T17:55:47.355Z"
   },
   {
    "duration": 40,
    "start_time": "2023-11-12T17:55:47.367Z"
   },
   {
    "duration": 5,
    "start_time": "2023-11-12T17:55:47.410Z"
   },
   {
    "duration": 8,
    "start_time": "2023-11-12T17:55:47.416Z"
   },
   {
    "duration": 15,
    "start_time": "2023-11-12T17:55:47.426Z"
   },
   {
    "duration": 7,
    "start_time": "2023-11-12T17:55:47.443Z"
   },
   {
    "duration": 4,
    "start_time": "2023-11-12T17:55:47.452Z"
   },
   {
    "duration": 54,
    "start_time": "2023-11-12T17:55:47.458Z"
   },
   {
    "duration": 14,
    "start_time": "2023-11-12T17:55:47.514Z"
   },
   {
    "duration": 10,
    "start_time": "2023-11-12T17:55:47.529Z"
   },
   {
    "duration": 18,
    "start_time": "2023-11-12T17:55:47.541Z"
   },
   {
    "duration": 39,
    "start_time": "2023-11-12T17:55:47.561Z"
   },
   {
    "duration": 17,
    "start_time": "2023-11-12T17:55:47.601Z"
   },
   {
    "duration": 40,
    "start_time": "2023-11-12T17:55:47.619Z"
   },
   {
    "duration": 39,
    "start_time": "2023-11-12T17:55:47.661Z"
   },
   {
    "duration": 19,
    "start_time": "2023-11-12T17:55:47.702Z"
   },
   {
    "duration": 276,
    "start_time": "2023-11-12T17:55:47.723Z"
   },
   {
    "duration": 10,
    "start_time": "2023-11-12T17:55:48.001Z"
   },
   {
    "duration": 146,
    "start_time": "2023-11-12T17:55:48.013Z"
   },
   {
    "duration": 9,
    "start_time": "2023-11-12T17:55:48.162Z"
   },
   {
    "duration": 33,
    "start_time": "2023-11-12T17:55:48.176Z"
   },
   {
    "duration": 424,
    "start_time": "2023-11-12T17:55:48.212Z"
   },
   {
    "duration": 223,
    "start_time": "2023-11-12T17:55:48.638Z"
   },
   {
    "duration": 1136,
    "start_time": "2023-11-12T17:55:48.863Z"
   },
   {
    "duration": 15,
    "start_time": "2023-11-12T17:55:50.001Z"
   },
   {
    "duration": 14,
    "start_time": "2023-11-12T17:55:50.018Z"
   },
   {
    "duration": 1377,
    "start_time": "2023-11-12T17:55:50.033Z"
   },
   {
    "duration": 163,
    "start_time": "2023-11-12T17:55:51.413Z"
   },
   {
    "duration": 182,
    "start_time": "2023-11-12T17:55:51.577Z"
   },
   {
    "duration": 46,
    "start_time": "2023-11-12T17:59:33.272Z"
   },
   {
    "duration": 1254,
    "start_time": "2023-11-12T17:59:39.140Z"
   },
   {
    "duration": 91,
    "start_time": "2023-11-12T17:59:40.396Z"
   },
   {
    "duration": 4,
    "start_time": "2023-11-12T17:59:40.488Z"
   },
   {
    "duration": 5,
    "start_time": "2023-11-12T17:59:40.493Z"
   },
   {
    "duration": 9,
    "start_time": "2023-11-12T17:59:40.500Z"
   },
   {
    "duration": 17,
    "start_time": "2023-11-12T17:59:40.510Z"
   },
   {
    "duration": 5,
    "start_time": "2023-11-12T17:59:40.528Z"
   },
   {
    "duration": 13,
    "start_time": "2023-11-12T17:59:40.534Z"
   },
   {
    "duration": 10,
    "start_time": "2023-11-12T17:59:40.548Z"
   },
   {
    "duration": 4,
    "start_time": "2023-11-12T17:59:40.559Z"
   },
   {
    "duration": 5,
    "start_time": "2023-11-12T17:59:40.565Z"
   },
   {
    "duration": 33,
    "start_time": "2023-11-12T17:59:40.572Z"
   },
   {
    "duration": 7,
    "start_time": "2023-11-12T17:59:40.606Z"
   },
   {
    "duration": 5,
    "start_time": "2023-11-12T17:59:40.615Z"
   },
   {
    "duration": 25,
    "start_time": "2023-11-12T17:59:40.622Z"
   },
   {
    "duration": 12,
    "start_time": "2023-11-12T17:59:40.649Z"
   },
   {
    "duration": 41,
    "start_time": "2023-11-12T17:59:40.663Z"
   },
   {
    "duration": 20,
    "start_time": "2023-11-12T17:59:40.706Z"
   },
   {
    "duration": 6,
    "start_time": "2023-11-12T17:59:40.727Z"
   },
   {
    "duration": 15,
    "start_time": "2023-11-12T17:59:40.734Z"
   },
   {
    "duration": 70,
    "start_time": "2023-11-12T17:59:40.750Z"
   },
   {
    "duration": 15,
    "start_time": "2023-11-12T17:59:40.822Z"
   },
   {
    "duration": 22,
    "start_time": "2023-11-12T17:59:40.838Z"
   },
   {
    "duration": 238,
    "start_time": "2023-11-12T17:59:40.862Z"
   },
   {
    "duration": 11,
    "start_time": "2023-11-12T17:59:41.102Z"
   },
   {
    "duration": 133,
    "start_time": "2023-11-12T17:59:41.114Z"
   },
   {
    "duration": 7,
    "start_time": "2023-11-12T17:59:41.249Z"
   },
   {
    "duration": 21,
    "start_time": "2023-11-12T17:59:41.258Z"
   },
   {
    "duration": 413,
    "start_time": "2023-11-12T17:59:41.281Z"
   },
   {
    "duration": 218,
    "start_time": "2023-11-12T17:59:41.698Z"
   },
   {
    "duration": 1089,
    "start_time": "2023-11-12T17:59:41.918Z"
   },
   {
    "duration": 13,
    "start_time": "2023-11-12T17:59:43.008Z"
   },
   {
    "duration": 13,
    "start_time": "2023-11-12T17:59:43.023Z"
   },
   {
    "duration": 1337,
    "start_time": "2023-11-12T17:59:43.037Z"
   },
   {
    "duration": 151,
    "start_time": "2023-11-12T17:59:44.375Z"
   },
   {
    "duration": 178,
    "start_time": "2023-11-12T17:59:44.528Z"
   },
   {
    "duration": 1248,
    "start_time": "2023-11-12T18:00:01.543Z"
   },
   {
    "duration": 81,
    "start_time": "2023-11-12T18:00:02.793Z"
   },
   {
    "duration": 4,
    "start_time": "2023-11-12T18:00:02.875Z"
   },
   {
    "duration": 7,
    "start_time": "2023-11-12T18:00:02.881Z"
   },
   {
    "duration": 8,
    "start_time": "2023-11-12T18:00:02.890Z"
   },
   {
    "duration": 13,
    "start_time": "2023-11-12T18:00:02.899Z"
   },
   {
    "duration": 17,
    "start_time": "2023-11-12T18:00:02.913Z"
   },
   {
    "duration": 29,
    "start_time": "2023-11-12T18:00:02.932Z"
   },
   {
    "duration": 22,
    "start_time": "2023-11-12T18:00:02.963Z"
   },
   {
    "duration": 9,
    "start_time": "2023-11-12T18:00:02.988Z"
   },
   {
    "duration": 19,
    "start_time": "2023-11-12T18:00:02.999Z"
   },
   {
    "duration": 16,
    "start_time": "2023-11-12T18:00:03.020Z"
   },
   {
    "duration": 6,
    "start_time": "2023-11-12T18:00:03.037Z"
   },
   {
    "duration": 6,
    "start_time": "2023-11-12T18:00:03.046Z"
   },
   {
    "duration": 21,
    "start_time": "2023-11-12T18:00:03.054Z"
   },
   {
    "duration": 31,
    "start_time": "2023-11-12T18:00:03.076Z"
   },
   {
    "duration": 8,
    "start_time": "2023-11-12T18:00:03.108Z"
   },
   {
    "duration": 17,
    "start_time": "2023-11-12T18:00:03.117Z"
   },
   {
    "duration": 7,
    "start_time": "2023-11-12T18:00:03.136Z"
   },
   {
    "duration": 16,
    "start_time": "2023-11-12T18:00:03.144Z"
   },
   {
    "duration": 73,
    "start_time": "2023-11-12T18:00:03.162Z"
   },
   {
    "duration": 15,
    "start_time": "2023-11-12T18:00:03.236Z"
   },
   {
    "duration": 43,
    "start_time": "2023-11-12T18:00:03.252Z"
   },
   {
    "duration": 258,
    "start_time": "2023-11-12T18:00:03.297Z"
   },
   {
    "duration": 10,
    "start_time": "2023-11-12T18:00:03.557Z"
   },
   {
    "duration": 151,
    "start_time": "2023-11-12T18:00:03.569Z"
   },
   {
    "duration": 9,
    "start_time": "2023-11-12T18:00:03.723Z"
   },
   {
    "duration": 30,
    "start_time": "2023-11-12T18:00:03.734Z"
   },
   {
    "duration": 387,
    "start_time": "2023-11-12T18:00:03.766Z"
   },
   {
    "duration": 218,
    "start_time": "2023-11-12T18:00:04.155Z"
   },
   {
    "duration": 1086,
    "start_time": "2023-11-12T18:00:04.374Z"
   },
   {
    "duration": 15,
    "start_time": "2023-11-12T18:00:05.461Z"
   },
   {
    "duration": 21,
    "start_time": "2023-11-12T18:00:05.477Z"
   },
   {
    "duration": 1330,
    "start_time": "2023-11-12T18:00:05.500Z"
   },
   {
    "duration": 155,
    "start_time": "2023-11-12T18:00:06.832Z"
   },
   {
    "duration": 159,
    "start_time": "2023-11-12T18:00:06.989Z"
   },
   {
    "duration": 1307,
    "start_time": "2023-11-12T18:03:49.679Z"
   },
   {
    "duration": 81,
    "start_time": "2023-11-12T18:03:53.726Z"
   },
   {
    "duration": 4,
    "start_time": "2023-11-12T18:03:53.924Z"
   },
   {
    "duration": 3,
    "start_time": "2023-11-12T18:03:54.095Z"
   },
   {
    "duration": 3,
    "start_time": "2023-11-12T18:03:54.275Z"
   },
   {
    "duration": 13,
    "start_time": "2023-11-12T18:03:54.491Z"
   },
   {
    "duration": 5,
    "start_time": "2023-11-12T18:03:55.379Z"
   },
   {
    "duration": 5,
    "start_time": "2023-11-12T18:03:55.579Z"
   },
   {
    "duration": 11,
    "start_time": "2023-11-12T18:03:55.951Z"
   },
   {
    "duration": 4,
    "start_time": "2023-11-12T18:03:56.308Z"
   },
   {
    "duration": 6,
    "start_time": "2023-11-12T18:03:56.691Z"
   },
   {
    "duration": 15,
    "start_time": "2023-11-12T18:03:57.074Z"
   },
   {
    "duration": 7,
    "start_time": "2023-11-12T18:03:57.448Z"
   },
   {
    "duration": 4,
    "start_time": "2023-11-12T18:03:58.026Z"
   },
   {
    "duration": 21,
    "start_time": "2023-11-12T18:03:58.221Z"
   },
   {
    "duration": 12,
    "start_time": "2023-11-12T18:03:58.853Z"
   },
   {
    "duration": 7,
    "start_time": "2023-11-12T18:03:59.451Z"
   },
   {
    "duration": 28,
    "start_time": "2023-11-12T18:04:00.031Z"
   },
   {
    "duration": 7,
    "start_time": "2023-11-12T18:04:00.403Z"
   },
   {
    "duration": 16,
    "start_time": "2023-11-12T18:04:00.792Z"
   },
   {
    "duration": 41,
    "start_time": "2023-11-12T18:04:02.549Z"
   },
   {
    "duration": 15,
    "start_time": "2023-11-12T18:04:02.936Z"
   },
   {
    "duration": 7,
    "start_time": "2023-11-12T18:04:03.929Z"
   },
   {
    "duration": 221,
    "start_time": "2023-11-12T18:04:04.327Z"
   },
   {
    "duration": 10,
    "start_time": "2023-11-12T18:04:06.555Z"
   },
   {
    "duration": 117,
    "start_time": "2023-11-12T18:04:06.809Z"
   },
   {
    "duration": 8,
    "start_time": "2023-11-12T18:04:07.424Z"
   },
   {
    "duration": 13,
    "start_time": "2023-11-12T18:04:08.293Z"
   },
   {
    "duration": 403,
    "start_time": "2023-11-12T18:04:08.677Z"
   },
   {
    "duration": 208,
    "start_time": "2023-11-12T18:04:10.198Z"
   },
   {
    "duration": 1067,
    "start_time": "2023-11-12T18:04:10.686Z"
   },
   {
    "duration": 13,
    "start_time": "2023-11-12T18:04:11.755Z"
   },
   {
    "duration": 5,
    "start_time": "2023-11-12T18:04:11.877Z"
   },
   {
    "duration": 1336,
    "start_time": "2023-11-12T18:04:12.282Z"
   },
   {
    "duration": 161,
    "start_time": "2023-11-12T18:04:13.620Z"
   },
   {
    "duration": 143,
    "start_time": "2023-11-12T18:04:20.243Z"
   },
   {
    "duration": 1516,
    "start_time": "2023-11-12T18:04:25.857Z"
   },
   {
    "duration": 49,
    "start_time": "2023-11-12T18:17:50.123Z"
   },
   {
    "duration": 1266,
    "start_time": "2023-11-12T18:18:19.808Z"
   },
   {
    "duration": 82,
    "start_time": "2023-11-12T18:18:21.076Z"
   },
   {
    "duration": 4,
    "start_time": "2023-11-12T18:18:21.976Z"
   },
   {
    "duration": 3,
    "start_time": "2023-11-12T18:18:22.154Z"
   },
   {
    "duration": 4,
    "start_time": "2023-11-12T18:18:22.332Z"
   },
   {
    "duration": 12,
    "start_time": "2023-11-12T18:18:22.521Z"
   },
   {
    "duration": 5,
    "start_time": "2023-11-12T18:18:23.399Z"
   },
   {
    "duration": 4,
    "start_time": "2023-11-12T18:18:23.586Z"
   },
   {
    "duration": 11,
    "start_time": "2023-11-12T18:18:24.404Z"
   },
   {
    "duration": 4,
    "start_time": "2023-11-12T18:18:24.787Z"
   },
   {
    "duration": 6,
    "start_time": "2023-11-12T18:18:25.155Z"
   },
   {
    "duration": 14,
    "start_time": "2023-11-12T18:18:25.521Z"
   },
   {
    "duration": 6,
    "start_time": "2023-11-12T18:18:26.379Z"
   },
   {
    "duration": 5,
    "start_time": "2023-11-12T18:18:26.937Z"
   },
   {
    "duration": 21,
    "start_time": "2023-11-12T18:18:27.133Z"
   },
   {
    "duration": 13,
    "start_time": "2023-11-12T18:18:27.726Z"
   },
   {
    "duration": 7,
    "start_time": "2023-11-12T18:18:28.311Z"
   },
   {
    "duration": 17,
    "start_time": "2023-11-12T18:18:28.884Z"
   },
   {
    "duration": 7,
    "start_time": "2023-11-12T18:18:29.271Z"
   },
   {
    "duration": 15,
    "start_time": "2023-11-12T18:18:29.663Z"
   },
   {
    "duration": 39,
    "start_time": "2023-11-12T18:18:33.390Z"
   },
   {
    "duration": 75,
    "start_time": "2023-11-12T18:18:34.416Z"
   },
   {
    "duration": 93,
    "start_time": "2023-11-12T18:22:37.399Z"
   },
   {
    "duration": 16,
    "start_time": "2023-11-12T18:22:43.810Z"
   },
   {
    "duration": 10,
    "start_time": "2023-11-12T18:23:09.435Z"
   },
   {
    "duration": 14,
    "start_time": "2023-11-12T18:23:42.567Z"
   },
   {
    "duration": 40,
    "start_time": "2023-11-12T18:25:00.879Z"
   },
   {
    "duration": 38,
    "start_time": "2023-11-12T18:25:23.330Z"
   },
   {
    "duration": 40,
    "start_time": "2023-11-12T18:25:51.409Z"
   },
   {
    "duration": 14,
    "start_time": "2023-11-12T18:25:52.880Z"
   },
   {
    "duration": 38,
    "start_time": "2023-11-12T18:26:08.354Z"
   },
   {
    "duration": 13,
    "start_time": "2023-11-12T18:26:08.907Z"
   },
   {
    "duration": 3,
    "start_time": "2023-11-12T18:26:26.014Z"
   },
   {
    "duration": 70,
    "start_time": "2023-11-12T18:26:26.375Z"
   },
   {
    "duration": 3,
    "start_time": "2023-11-12T18:26:26.568Z"
   },
   {
    "duration": 3,
    "start_time": "2023-11-12T18:26:26.765Z"
   },
   {
    "duration": 4,
    "start_time": "2023-11-12T18:26:26.944Z"
   },
   {
    "duration": 10,
    "start_time": "2023-11-12T18:26:27.125Z"
   },
   {
    "duration": 5,
    "start_time": "2023-11-12T18:26:28.453Z"
   },
   {
    "duration": 5,
    "start_time": "2023-11-12T18:26:29.165Z"
   },
   {
    "duration": 9,
    "start_time": "2023-11-12T18:26:29.554Z"
   },
   {
    "duration": 4,
    "start_time": "2023-11-12T18:26:29.938Z"
   },
   {
    "duration": 6,
    "start_time": "2023-11-12T18:26:30.312Z"
   },
   {
    "duration": 14,
    "start_time": "2023-11-12T18:26:30.695Z"
   },
   {
    "duration": 6,
    "start_time": "2023-11-12T18:26:31.078Z"
   },
   {
    "duration": 4,
    "start_time": "2023-11-12T18:26:31.671Z"
   },
   {
    "duration": 21,
    "start_time": "2023-11-12T18:26:31.874Z"
   },
   {
    "duration": 12,
    "start_time": "2023-11-12T18:26:32.458Z"
   },
   {
    "duration": 8,
    "start_time": "2023-11-12T18:26:33.049Z"
   },
   {
    "duration": 16,
    "start_time": "2023-11-12T18:26:33.635Z"
   },
   {
    "duration": 6,
    "start_time": "2023-11-12T18:26:34.017Z"
   },
   {
    "duration": 15,
    "start_time": "2023-11-12T18:26:34.400Z"
   },
   {
    "duration": 40,
    "start_time": "2023-11-12T18:26:36.155Z"
   },
   {
    "duration": 13,
    "start_time": "2023-11-12T18:26:36.560Z"
   },
   {
    "duration": 7,
    "start_time": "2023-11-12T18:26:37.745Z"
   },
   {
    "duration": 213,
    "start_time": "2023-11-12T18:26:38.187Z"
   },
   {
    "duration": 14,
    "start_time": "2023-11-12T18:27:25.712Z"
   },
   {
    "duration": 14,
    "start_time": "2023-11-12T18:30:27.283Z"
   },
   {
    "duration": 13,
    "start_time": "2023-11-12T18:30:47.393Z"
   },
   {
    "duration": 7,
    "start_time": "2023-11-12T18:30:48.315Z"
   },
   {
    "duration": 211,
    "start_time": "2023-11-12T18:30:48.707Z"
   },
   {
    "duration": 11,
    "start_time": "2023-11-12T18:30:49.276Z"
   },
   {
    "duration": 133,
    "start_time": "2023-11-12T18:30:49.477Z"
   },
   {
    "duration": 8,
    "start_time": "2023-11-12T18:30:49.876Z"
   },
   {
    "duration": 13,
    "start_time": "2023-11-12T18:30:50.970Z"
   },
   {
    "duration": 385,
    "start_time": "2023-11-12T18:30:51.724Z"
   },
   {
    "duration": 199,
    "start_time": "2023-11-12T18:30:52.698Z"
   },
   {
    "duration": 1064,
    "start_time": "2023-11-12T18:30:53.095Z"
   },
   {
    "duration": 13,
    "start_time": "2023-11-12T18:30:54.161Z"
   },
   {
    "duration": 5,
    "start_time": "2023-11-12T18:30:54.245Z"
   },
   {
    "duration": 1226,
    "start_time": "2023-11-12T18:30:54.663Z"
   },
   {
    "duration": 13,
    "start_time": "2023-11-12T18:31:18.331Z"
   },
   {
    "duration": 12,
    "start_time": "2023-11-12T18:32:08.035Z"
   },
   {
    "duration": 13,
    "start_time": "2023-11-12T18:32:11.087Z"
   },
   {
    "duration": 4,
    "start_time": "2023-11-12T18:32:44.691Z"
   },
   {
    "duration": 76,
    "start_time": "2023-11-12T18:32:45.099Z"
   },
   {
    "duration": 4,
    "start_time": "2023-11-12T18:32:45.304Z"
   },
   {
    "duration": 3,
    "start_time": "2023-11-12T18:32:45.488Z"
   },
   {
    "duration": 4,
    "start_time": "2023-11-12T18:32:45.677Z"
   },
   {
    "duration": 10,
    "start_time": "2023-11-12T18:32:45.867Z"
   },
   {
    "duration": 5,
    "start_time": "2023-11-12T18:32:46.861Z"
   },
   {
    "duration": 4,
    "start_time": "2023-11-12T18:32:47.057Z"
   },
   {
    "duration": 10,
    "start_time": "2023-11-12T18:32:47.437Z"
   },
   {
    "duration": 4,
    "start_time": "2023-11-12T18:32:47.874Z"
   },
   {
    "duration": 6,
    "start_time": "2023-11-12T18:32:48.285Z"
   },
   {
    "duration": 13,
    "start_time": "2023-11-12T18:32:48.684Z"
   },
   {
    "duration": 6,
    "start_time": "2023-11-12T18:32:49.083Z"
   },
   {
    "duration": 5,
    "start_time": "2023-11-12T18:32:49.691Z"
   },
   {
    "duration": 23,
    "start_time": "2023-11-12T18:32:49.907Z"
   },
   {
    "duration": 13,
    "start_time": "2023-11-12T18:32:50.521Z"
   },
   {
    "duration": 6,
    "start_time": "2023-11-12T18:32:51.128Z"
   },
   {
    "duration": 16,
    "start_time": "2023-11-12T18:32:51.729Z"
   },
   {
    "duration": 7,
    "start_time": "2023-11-12T18:32:52.133Z"
   },
   {
    "duration": 14,
    "start_time": "2023-11-12T18:32:52.556Z"
   },
   {
    "duration": 38,
    "start_time": "2023-11-12T18:32:54.444Z"
   },
   {
    "duration": 13,
    "start_time": "2023-11-12T18:32:55.474Z"
   },
   {
    "duration": 50767,
    "start_time": "2023-11-12T18:38:48.748Z"
   },
   {
    "duration": 0,
    "start_time": "2023-11-12T18:39:39.519Z"
   },
   {
    "duration": 248,
    "start_time": "2023-11-12T18:39:57.196Z"
   },
   {
    "duration": 4,
    "start_time": "2023-11-12T18:40:28.163Z"
   },
   {
    "duration": 86,
    "start_time": "2023-11-12T18:40:28.994Z"
   },
   {
    "duration": 3,
    "start_time": "2023-11-12T18:40:29.185Z"
   },
   {
    "duration": 3,
    "start_time": "2023-11-12T18:40:29.379Z"
   },
   {
    "duration": 5,
    "start_time": "2023-11-12T18:40:29.589Z"
   },
   {
    "duration": 11,
    "start_time": "2023-11-12T18:40:29.741Z"
   },
   {
    "duration": 5,
    "start_time": "2023-11-12T18:40:30.675Z"
   },
   {
    "duration": 5,
    "start_time": "2023-11-12T18:40:30.863Z"
   },
   {
    "duration": 11,
    "start_time": "2023-11-12T18:40:31.237Z"
   },
   {
    "duration": 4,
    "start_time": "2023-11-12T18:40:31.612Z"
   },
   {
    "duration": 6,
    "start_time": "2023-11-12T18:40:32.003Z"
   },
   {
    "duration": 19,
    "start_time": "2023-11-12T18:40:32.395Z"
   },
   {
    "duration": 7,
    "start_time": "2023-11-12T18:40:32.767Z"
   },
   {
    "duration": 6,
    "start_time": "2023-11-12T18:40:33.332Z"
   },
   {
    "duration": 23,
    "start_time": "2023-11-12T18:40:33.502Z"
   },
   {
    "duration": 16,
    "start_time": "2023-11-12T18:40:34.072Z"
   },
   {
    "duration": 7,
    "start_time": "2023-11-12T18:40:34.673Z"
   },
   {
    "duration": 18,
    "start_time": "2023-11-12T18:40:35.271Z"
   },
   {
    "duration": 6,
    "start_time": "2023-11-12T18:40:35.672Z"
   },
   {
    "duration": 14,
    "start_time": "2023-11-12T18:40:36.054Z"
   },
   {
    "duration": 49,
    "start_time": "2023-11-12T18:40:37.891Z"
   },
   {
    "duration": 19,
    "start_time": "2023-11-12T18:40:38.304Z"
   },
   {
    "duration": 7,
    "start_time": "2023-11-12T18:40:39.556Z"
   },
   {
    "duration": 209,
    "start_time": "2023-11-12T18:40:39.969Z"
   },
   {
    "duration": 14,
    "start_time": "2023-11-12T18:40:40.635Z"
   },
   {
    "duration": 126,
    "start_time": "2023-11-12T18:40:42.697Z"
   },
   {
    "duration": 8,
    "start_time": "2023-11-12T18:40:42.825Z"
   },
   {
    "duration": 15,
    "start_time": "2023-11-12T18:40:43.207Z"
   },
   {
    "duration": 398,
    "start_time": "2023-11-12T18:40:43.620Z"
   },
   {
    "duration": 217,
    "start_time": "2023-11-12T18:40:45.022Z"
   },
   {
    "duration": 902,
    "start_time": "2023-11-12T18:40:48.453Z"
   },
   {
    "duration": 13,
    "start_time": "2023-11-12T18:40:49.357Z"
   },
   {
    "duration": 6,
    "start_time": "2023-11-12T18:40:49.582Z"
   },
   {
    "duration": 3612,
    "start_time": "2023-11-12T18:40:49.975Z"
   },
   {
    "duration": 149,
    "start_time": "2023-11-12T18:40:53.589Z"
   },
   {
    "duration": 155,
    "start_time": "2023-11-12T18:40:53.740Z"
   },
   {
    "duration": 218,
    "start_time": "2023-11-12T18:40:53.897Z"
   },
   {
    "duration": 47,
    "start_time": "2023-11-12T18:43:52.384Z"
   },
   {
    "duration": 1397,
    "start_time": "2023-11-12T18:44:05.088Z"
   },
   {
    "duration": 96,
    "start_time": "2023-11-12T18:44:06.487Z"
   },
   {
    "duration": 3,
    "start_time": "2023-11-12T18:44:06.584Z"
   },
   {
    "duration": 3,
    "start_time": "2023-11-12T18:44:06.589Z"
   },
   {
    "duration": 4,
    "start_time": "2023-11-12T18:44:06.594Z"
   },
   {
    "duration": 12,
    "start_time": "2023-11-12T18:44:06.599Z"
   },
   {
    "duration": 5,
    "start_time": "2023-11-12T18:44:06.612Z"
   },
   {
    "duration": 5,
    "start_time": "2023-11-12T18:44:06.618Z"
   },
   {
    "duration": 11,
    "start_time": "2023-11-12T18:44:06.624Z"
   },
   {
    "duration": 5,
    "start_time": "2023-11-12T18:44:06.637Z"
   },
   {
    "duration": 15,
    "start_time": "2023-11-12T18:44:06.644Z"
   },
   {
    "duration": 42,
    "start_time": "2023-11-12T18:44:06.660Z"
   },
   {
    "duration": 9,
    "start_time": "2023-11-12T18:44:06.704Z"
   },
   {
    "duration": 8,
    "start_time": "2023-11-12T18:44:06.715Z"
   },
   {
    "duration": 26,
    "start_time": "2023-11-12T18:44:06.725Z"
   },
   {
    "duration": 12,
    "start_time": "2023-11-12T18:44:06.753Z"
   },
   {
    "duration": 13,
    "start_time": "2023-11-12T18:44:06.767Z"
   },
   {
    "duration": 32,
    "start_time": "2023-11-12T18:44:06.782Z"
   },
   {
    "duration": 6,
    "start_time": "2023-11-12T18:44:06.816Z"
   },
   {
    "duration": 25,
    "start_time": "2023-11-12T18:44:06.823Z"
   },
   {
    "duration": 62,
    "start_time": "2023-11-12T18:44:06.850Z"
   },
   {
    "duration": 15,
    "start_time": "2023-11-12T18:44:06.914Z"
   },
   {
    "duration": 6,
    "start_time": "2023-11-12T18:44:06.931Z"
   },
   {
    "duration": 252,
    "start_time": "2023-11-12T18:44:06.939Z"
   },
   {
    "duration": 11,
    "start_time": "2023-11-12T18:44:07.193Z"
   },
   {
    "duration": 137,
    "start_time": "2023-11-12T18:44:07.206Z"
   },
   {
    "duration": 7,
    "start_time": "2023-11-12T18:44:07.345Z"
   },
   {
    "duration": 13,
    "start_time": "2023-11-12T18:44:07.355Z"
   },
   {
    "duration": 452,
    "start_time": "2023-11-12T18:44:07.370Z"
   },
   {
    "duration": 225,
    "start_time": "2023-11-12T18:44:07.823Z"
   },
   {
    "duration": 213,
    "start_time": "2023-11-12T18:44:08.050Z"
   },
   {
    "duration": 991,
    "start_time": "2023-11-12T18:44:08.265Z"
   },
   {
    "duration": 13,
    "start_time": "2023-11-12T18:44:09.258Z"
   },
   {
    "duration": 5,
    "start_time": "2023-11-12T18:44:09.273Z"
   },
   {
    "duration": 1326,
    "start_time": "2023-11-12T18:44:09.279Z"
   },
   {
    "duration": 151,
    "start_time": "2023-11-12T18:44:10.607Z"
   },
   {
    "duration": 168,
    "start_time": "2023-11-12T18:44:10.760Z"
   },
   {
    "duration": 1331,
    "start_time": "2023-11-12T18:46:18.604Z"
   },
   {
    "duration": 89,
    "start_time": "2023-11-12T18:46:19.937Z"
   },
   {
    "duration": 3,
    "start_time": "2023-11-12T18:46:20.027Z"
   },
   {
    "duration": 4,
    "start_time": "2023-11-12T18:46:20.032Z"
   },
   {
    "duration": 9,
    "start_time": "2023-11-12T18:46:20.037Z"
   },
   {
    "duration": 12,
    "start_time": "2023-11-12T18:46:20.047Z"
   },
   {
    "duration": 4,
    "start_time": "2023-11-12T18:46:20.060Z"
   },
   {
    "duration": 4,
    "start_time": "2023-11-12T18:46:20.066Z"
   },
   {
    "duration": 29,
    "start_time": "2023-11-12T18:46:20.071Z"
   },
   {
    "duration": 8,
    "start_time": "2023-11-12T18:46:20.103Z"
   },
   {
    "duration": 7,
    "start_time": "2023-11-12T18:46:20.113Z"
   },
   {
    "duration": 19,
    "start_time": "2023-11-12T18:46:20.122Z"
   },
   {
    "duration": 5,
    "start_time": "2023-11-12T18:46:20.143Z"
   },
   {
    "duration": 9,
    "start_time": "2023-11-12T18:46:20.150Z"
   },
   {
    "duration": 40,
    "start_time": "2023-11-12T18:46:20.160Z"
   },
   {
    "duration": 17,
    "start_time": "2023-11-12T18:46:20.202Z"
   },
   {
    "duration": 7,
    "start_time": "2023-11-12T18:46:20.220Z"
   },
   {
    "duration": 16,
    "start_time": "2023-11-12T18:46:20.228Z"
   },
   {
    "duration": 6,
    "start_time": "2023-11-12T18:46:20.245Z"
   },
   {
    "duration": 20,
    "start_time": "2023-11-12T18:46:20.252Z"
   },
   {
    "duration": 72,
    "start_time": "2023-11-12T18:46:20.273Z"
   },
   {
    "duration": 14,
    "start_time": "2023-11-12T18:46:20.347Z"
   },
   {
    "duration": 8,
    "start_time": "2023-11-12T18:46:20.362Z"
   },
   {
    "duration": 247,
    "start_time": "2023-11-12T18:46:20.371Z"
   },
   {
    "duration": 10,
    "start_time": "2023-11-12T18:46:20.620Z"
   },
   {
    "duration": 132,
    "start_time": "2023-11-12T18:46:20.632Z"
   },
   {
    "duration": 8,
    "start_time": "2023-11-12T18:46:20.766Z"
   },
   {
    "duration": 26,
    "start_time": "2023-11-12T18:46:20.777Z"
   },
   {
    "duration": 380,
    "start_time": "2023-11-12T18:46:20.804Z"
   },
   {
    "duration": 229,
    "start_time": "2023-11-12T18:46:21.186Z"
   },
   {
    "duration": 211,
    "start_time": "2023-11-12T18:46:21.417Z"
   },
   {
    "duration": 1017,
    "start_time": "2023-11-12T18:46:21.630Z"
   },
   {
    "duration": 14,
    "start_time": "2023-11-12T18:46:22.649Z"
   },
   {
    "duration": 5,
    "start_time": "2023-11-12T18:46:22.664Z"
   },
   {
    "duration": 1379,
    "start_time": "2023-11-12T18:46:22.670Z"
   },
   {
    "duration": 173,
    "start_time": "2023-11-12T18:46:24.051Z"
   },
   {
    "duration": 161,
    "start_time": "2023-11-12T18:46:24.226Z"
   },
   {
    "duration": 1493,
    "start_time": "2023-11-12T18:46:24.388Z"
   },
   {
    "duration": 472,
    "start_time": "2023-11-12T18:46:25.883Z"
   },
   {
    "duration": 6,
    "start_time": "2023-11-12T18:46:26.357Z"
   },
   {
    "duration": 6,
    "start_time": "2023-11-12T18:46:26.364Z"
   },
   {
    "duration": 28,
    "start_time": "2023-11-12T18:46:26.371Z"
   },
   {
    "duration": 21,
    "start_time": "2023-11-12T18:46:26.402Z"
   },
   {
    "duration": 7,
    "start_time": "2023-11-12T18:46:26.425Z"
   },
   {
    "duration": 19,
    "start_time": "2023-11-12T18:46:26.434Z"
   },
   {
    "duration": 17,
    "start_time": "2023-11-12T18:46:26.454Z"
   },
   {
    "duration": 51,
    "start_time": "2023-11-12T18:46:26.473Z"
   },
   {
    "duration": 4,
    "start_time": "2023-11-12T18:48:41.193Z"
   },
   {
    "duration": 95,
    "start_time": "2023-11-12T18:48:41.552Z"
   },
   {
    "duration": 4,
    "start_time": "2023-11-12T18:48:41.721Z"
   },
   {
    "duration": 2,
    "start_time": "2023-11-12T18:48:41.910Z"
   },
   {
    "duration": 4,
    "start_time": "2023-11-12T18:48:42.076Z"
   },
   {
    "duration": 10,
    "start_time": "2023-11-12T18:48:42.256Z"
   },
   {
    "duration": 5,
    "start_time": "2023-11-12T18:48:43.671Z"
   },
   {
    "duration": 5,
    "start_time": "2023-11-12T18:48:43.863Z"
   },
   {
    "duration": 9,
    "start_time": "2023-11-12T18:48:44.640Z"
   },
   {
    "duration": 4,
    "start_time": "2023-11-12T18:48:44.999Z"
   },
   {
    "duration": 7,
    "start_time": "2023-11-12T18:48:45.348Z"
   },
   {
    "duration": 15,
    "start_time": "2023-11-12T18:48:45.704Z"
   },
   {
    "duration": 6,
    "start_time": "2023-11-12T18:48:46.065Z"
   },
   {
    "duration": 4,
    "start_time": "2023-11-12T18:48:46.582Z"
   },
   {
    "duration": 19,
    "start_time": "2023-11-12T18:48:46.760Z"
   },
   {
    "duration": 14,
    "start_time": "2023-11-12T18:48:47.321Z"
   },
   {
    "duration": 7,
    "start_time": "2023-11-12T18:48:47.893Z"
   },
   {
    "duration": 18,
    "start_time": "2023-11-12T18:48:48.452Z"
   },
   {
    "duration": 7,
    "start_time": "2023-11-12T18:48:48.831Z"
   },
   {
    "duration": 16,
    "start_time": "2023-11-12T18:48:49.192Z"
   },
   {
    "duration": 40,
    "start_time": "2023-11-12T18:48:50.901Z"
   },
   {
    "duration": 14,
    "start_time": "2023-11-12T18:48:51.280Z"
   },
   {
    "duration": 7,
    "start_time": "2023-11-12T18:48:52.432Z"
   },
   {
    "duration": 231,
    "start_time": "2023-11-12T18:48:52.814Z"
   },
   {
    "duration": 10,
    "start_time": "2023-11-12T18:48:53.407Z"
   },
   {
    "duration": 242,
    "start_time": "2023-11-12T18:48:53.602Z"
   },
   {
    "duration": 8,
    "start_time": "2023-11-12T18:48:53.983Z"
   },
   {
    "duration": 13,
    "start_time": "2023-11-12T18:48:54.953Z"
   },
   {
    "duration": 388,
    "start_time": "2023-11-12T18:48:55.334Z"
   },
   {
    "duration": 202,
    "start_time": "2023-11-12T18:48:56.350Z"
   },
   {
    "duration": 213,
    "start_time": "2023-11-12T18:48:56.993Z"
   },
   {
    "duration": 990,
    "start_time": "2023-11-12T18:48:58.380Z"
   },
   {
    "duration": 29,
    "start_time": "2023-11-12T18:48:59.372Z"
   },
   {
    "duration": 5,
    "start_time": "2023-11-12T18:48:59.578Z"
   },
   {
    "duration": 1365,
    "start_time": "2023-11-12T18:48:59.951Z"
   },
   {
    "duration": 155,
    "start_time": "2023-11-12T18:49:01.319Z"
   },
   {
    "duration": 207,
    "start_time": "2023-11-12T18:49:01.475Z"
   },
   {
    "duration": 1686,
    "start_time": "2023-11-12T18:49:01.684Z"
   },
   {
    "duration": 1159,
    "start_time": "2023-11-12T22:33:34.949Z"
   },
   {
    "duration": 164,
    "start_time": "2023-11-12T22:33:36.110Z"
   },
   {
    "duration": 3,
    "start_time": "2023-11-12T22:33:36.276Z"
   },
   {
    "duration": 9,
    "start_time": "2023-11-12T22:33:36.280Z"
   },
   {
    "duration": 20,
    "start_time": "2023-11-12T22:33:36.290Z"
   },
   {
    "duration": 22,
    "start_time": "2023-11-12T22:33:36.312Z"
   },
   {
    "duration": 12,
    "start_time": "2023-11-12T22:33:36.336Z"
   },
   {
    "duration": 21,
    "start_time": "2023-11-12T22:33:36.350Z"
   },
   {
    "duration": 21,
    "start_time": "2023-11-12T22:33:36.373Z"
   },
   {
    "duration": 24,
    "start_time": "2023-11-12T22:33:36.396Z"
   },
   {
    "duration": 19,
    "start_time": "2023-11-12T22:33:36.421Z"
   },
   {
    "duration": 31,
    "start_time": "2023-11-12T22:33:36.441Z"
   },
   {
    "duration": 18,
    "start_time": "2023-11-12T22:33:36.474Z"
   },
   {
    "duration": 9,
    "start_time": "2023-11-12T22:33:36.494Z"
   },
   {
    "duration": 38,
    "start_time": "2023-11-12T22:33:36.505Z"
   },
   {
    "duration": 11,
    "start_time": "2023-11-12T22:33:36.545Z"
   },
   {
    "duration": 13,
    "start_time": "2023-11-12T22:33:36.557Z"
   },
   {
    "duration": 25,
    "start_time": "2023-11-12T22:33:36.571Z"
   },
   {
    "duration": 6,
    "start_time": "2023-11-12T22:33:36.598Z"
   },
   {
    "duration": 45,
    "start_time": "2023-11-12T22:33:36.605Z"
   },
   {
    "duration": 38,
    "start_time": "2023-11-12T22:33:36.651Z"
   },
   {
    "duration": 12,
    "start_time": "2023-11-12T22:33:36.691Z"
   },
   {
    "duration": 6,
    "start_time": "2023-11-12T22:33:36.705Z"
   },
   {
    "duration": 220,
    "start_time": "2023-11-12T22:33:36.712Z"
   },
   {
    "duration": 9,
    "start_time": "2023-11-12T22:33:36.934Z"
   },
   {
    "duration": 133,
    "start_time": "2023-11-12T22:33:36.944Z"
   },
   {
    "duration": 7,
    "start_time": "2023-11-12T22:33:37.079Z"
   },
   {
    "duration": 20,
    "start_time": "2023-11-12T22:33:37.088Z"
   },
   {
    "duration": 369,
    "start_time": "2023-11-12T22:33:37.110Z"
   },
   {
    "duration": 220,
    "start_time": "2023-11-12T22:33:37.481Z"
   },
   {
    "duration": 225,
    "start_time": "2023-11-12T22:33:37.703Z"
   },
   {
    "duration": 1026,
    "start_time": "2023-11-12T22:33:37.929Z"
   },
   {
    "duration": 12,
    "start_time": "2023-11-12T22:33:38.957Z"
   },
   {
    "duration": 7,
    "start_time": "2023-11-12T22:33:38.971Z"
   },
   {
    "duration": 1221,
    "start_time": "2023-11-12T22:33:38.980Z"
   },
   {
    "duration": 143,
    "start_time": "2023-11-12T22:33:40.202Z"
   },
   {
    "duration": 150,
    "start_time": "2023-11-12T22:33:40.347Z"
   },
   {
    "duration": 1339,
    "start_time": "2023-11-12T22:33:40.499Z"
   },
   {
    "duration": 408,
    "start_time": "2023-11-12T22:33:41.839Z"
   },
   {
    "duration": 4,
    "start_time": "2023-11-12T22:33:42.249Z"
   },
   {
    "duration": 9,
    "start_time": "2023-11-12T22:33:42.254Z"
   },
   {
    "duration": 6,
    "start_time": "2023-11-12T22:33:42.265Z"
   },
   {
    "duration": 30,
    "start_time": "2023-11-12T22:33:42.273Z"
   },
   {
    "duration": 8,
    "start_time": "2023-11-12T22:33:42.304Z"
   },
   {
    "duration": 22,
    "start_time": "2023-11-12T22:33:42.314Z"
   },
   {
    "duration": 18,
    "start_time": "2023-11-12T22:33:42.338Z"
   },
   {
    "duration": 47,
    "start_time": "2023-11-12T22:33:42.358Z"
   },
   {
    "duration": 45,
    "start_time": "2023-11-12T23:01:55.536Z"
   },
   {
    "duration": 1420,
    "start_time": "2023-11-12T23:02:08.182Z"
   },
   {
    "duration": 94,
    "start_time": "2023-11-12T23:02:09.604Z"
   },
   {
    "duration": 4,
    "start_time": "2023-11-12T23:02:09.700Z"
   },
   {
    "duration": 7,
    "start_time": "2023-11-12T23:02:09.706Z"
   },
   {
    "duration": 6,
    "start_time": "2023-11-12T23:02:09.714Z"
   },
   {
    "duration": 12,
    "start_time": "2023-11-12T23:02:09.721Z"
   },
   {
    "duration": 5,
    "start_time": "2023-11-12T23:02:10.416Z"
   },
   {
    "duration": 5,
    "start_time": "2023-11-12T23:02:10.625Z"
   },
   {
    "duration": 12,
    "start_time": "2023-11-12T23:02:11.047Z"
   },
   {
    "duration": 5,
    "start_time": "2023-11-12T23:02:11.465Z"
   },
   {
    "duration": 7,
    "start_time": "2023-11-12T23:02:11.870Z"
   },
   {
    "duration": 14,
    "start_time": "2023-11-12T23:02:12.268Z"
   },
   {
    "duration": 7,
    "start_time": "2023-11-12T23:02:12.664Z"
   },
   {
    "duration": 5,
    "start_time": "2023-11-12T23:02:13.278Z"
   },
   {
    "duration": 24,
    "start_time": "2023-11-12T23:02:13.481Z"
   },
   {
    "duration": 14,
    "start_time": "2023-11-12T23:02:14.081Z"
   },
   {
    "duration": 7,
    "start_time": "2023-11-12T23:02:14.726Z"
   },
   {
    "duration": 20,
    "start_time": "2023-11-12T23:02:15.388Z"
   },
   {
    "duration": 7,
    "start_time": "2023-11-12T23:02:15.808Z"
   },
   {
    "duration": 16,
    "start_time": "2023-11-12T23:02:16.221Z"
   },
   {
    "duration": 12,
    "start_time": "2023-11-12T23:02:16.852Z"
   },
   {
    "duration": 4,
    "start_time": "2023-11-12T23:02:17.249Z"
   },
   {
    "duration": 40,
    "start_time": "2023-11-12T23:02:18.927Z"
   },
   {
    "duration": 14,
    "start_time": "2023-11-12T23:02:19.364Z"
   },
   {
    "duration": 8,
    "start_time": "2023-11-12T23:02:20.906Z"
   },
   {
    "duration": 214,
    "start_time": "2023-11-12T23:02:21.327Z"
   },
   {
    "duration": 10,
    "start_time": "2023-11-12T23:02:21.993Z"
   },
   {
    "duration": 119,
    "start_time": "2023-11-12T23:02:22.199Z"
   },
   {
    "duration": 8,
    "start_time": "2023-11-12T23:02:22.605Z"
   },
   {
    "duration": 18,
    "start_time": "2023-11-12T23:02:23.691Z"
   },
   {
    "duration": 389,
    "start_time": "2023-11-12T23:02:24.148Z"
   },
   {
    "duration": 228,
    "start_time": "2023-11-12T23:02:25.259Z"
   },
   {
    "duration": 207,
    "start_time": "2023-11-12T23:02:25.746Z"
   },
   {
    "duration": 279,
    "start_time": "2023-11-12T23:02:34.305Z"
   },
   {
    "duration": 203,
    "start_time": "2023-11-12T23:02:34.687Z"
   },
   {
    "duration": 1036,
    "start_time": "2023-11-12T23:02:35.116Z"
   },
   {
    "duration": 1238,
    "start_time": "2023-11-12T23:02:36.800Z"
   },
   {
    "duration": 144,
    "start_time": "2023-11-12T23:02:38.040Z"
   },
   {
    "duration": 159,
    "start_time": "2023-11-12T23:02:38.185Z"
   },
   {
    "duration": 1424,
    "start_time": "2023-11-12T23:02:42.109Z"
   },
   {
    "duration": 40,
    "start_time": "2023-11-12T23:04:25.494Z"
   },
   {
    "duration": 49,
    "start_time": "2023-11-12T23:04:59.133Z"
   },
   {
    "duration": 15,
    "start_time": "2023-11-12T23:05:08.125Z"
   },
   {
    "duration": 40,
    "start_time": "2023-11-12T23:06:29.485Z"
   },
   {
    "duration": 39,
    "start_time": "2023-11-12T23:09:12.230Z"
   },
   {
    "duration": 3,
    "start_time": "2023-11-12T23:09:43.621Z"
   },
   {
    "duration": 76,
    "start_time": "2023-11-12T23:09:44.044Z"
   },
   {
    "duration": 3,
    "start_time": "2023-11-12T23:09:44.265Z"
   },
   {
    "duration": 2,
    "start_time": "2023-11-12T23:09:44.473Z"
   },
   {
    "duration": 3,
    "start_time": "2023-11-12T23:09:44.868Z"
   },
   {
    "duration": 11,
    "start_time": "2023-11-12T23:09:45.081Z"
   },
   {
    "duration": 5,
    "start_time": "2023-11-12T23:09:46.129Z"
   },
   {
    "duration": 4,
    "start_time": "2023-11-12T23:09:46.356Z"
   },
   {
    "duration": 10,
    "start_time": "2023-11-12T23:09:46.766Z"
   },
   {
    "duration": 4,
    "start_time": "2023-11-12T23:09:47.171Z"
   },
   {
    "duration": 6,
    "start_time": "2023-11-12T23:09:47.585Z"
   },
   {
    "duration": 16,
    "start_time": "2023-11-12T23:09:47.991Z"
   },
   {
    "duration": 6,
    "start_time": "2023-11-12T23:09:48.409Z"
   },
   {
    "duration": 4,
    "start_time": "2023-11-12T23:09:49.055Z"
   },
   {
    "duration": 21,
    "start_time": "2023-11-12T23:09:49.281Z"
   },
   {
    "duration": 12,
    "start_time": "2023-11-12T23:09:49.908Z"
   },
   {
    "duration": 6,
    "start_time": "2023-11-12T23:09:50.549Z"
   },
   {
    "duration": 17,
    "start_time": "2023-11-12T23:09:51.187Z"
   },
   {
    "duration": 7,
    "start_time": "2023-11-12T23:09:51.611Z"
   },
   {
    "duration": 15,
    "start_time": "2023-11-12T23:09:52.052Z"
   },
   {
    "duration": 13,
    "start_time": "2023-11-12T23:09:52.697Z"
   },
   {
    "duration": 5,
    "start_time": "2023-11-12T23:09:53.133Z"
   },
   {
    "duration": 41,
    "start_time": "2023-11-12T23:10:07.682Z"
   },
   {
    "duration": 14,
    "start_time": "2023-11-12T23:10:08.112Z"
   },
   {
    "duration": 40,
    "start_time": "2023-11-12T23:10:51.425Z"
   },
   {
    "duration": 8,
    "start_time": "2023-11-12T23:11:54.662Z"
   },
   {
    "duration": 5,
    "start_time": "2023-11-12T23:11:57.744Z"
   },
   {
    "duration": 1176,
    "start_time": "2023-11-12T23:12:04.643Z"
   },
   {
    "duration": 82,
    "start_time": "2023-11-12T23:12:05.821Z"
   },
   {
    "duration": 3,
    "start_time": "2023-11-12T23:12:05.904Z"
   },
   {
    "duration": 3,
    "start_time": "2023-11-12T23:12:05.909Z"
   },
   {
    "duration": 7,
    "start_time": "2023-11-12T23:12:05.913Z"
   },
   {
    "duration": 13,
    "start_time": "2023-11-12T23:12:05.921Z"
   },
   {
    "duration": 4,
    "start_time": "2023-11-12T23:12:05.936Z"
   },
   {
    "duration": 9,
    "start_time": "2023-11-12T23:12:05.941Z"
   },
   {
    "duration": 14,
    "start_time": "2023-11-12T23:12:05.952Z"
   },
   {
    "duration": 4,
    "start_time": "2023-11-12T23:12:05.968Z"
   },
   {
    "duration": 27,
    "start_time": "2023-11-12T23:12:05.973Z"
   },
   {
    "duration": 15,
    "start_time": "2023-11-12T23:12:06.001Z"
   },
   {
    "duration": 5,
    "start_time": "2023-11-12T23:12:06.017Z"
   },
   {
    "duration": 6,
    "start_time": "2023-11-12T23:12:06.024Z"
   },
   {
    "duration": 22,
    "start_time": "2023-11-12T23:12:06.031Z"
   },
   {
    "duration": 12,
    "start_time": "2023-11-12T23:12:06.054Z"
   },
   {
    "duration": 34,
    "start_time": "2023-11-12T23:12:06.068Z"
   },
   {
    "duration": 16,
    "start_time": "2023-11-12T23:12:06.104Z"
   },
   {
    "duration": 6,
    "start_time": "2023-11-12T23:12:06.121Z"
   },
   {
    "duration": 14,
    "start_time": "2023-11-12T23:12:06.128Z"
   },
   {
    "duration": 11,
    "start_time": "2023-11-12T23:12:06.144Z"
   },
   {
    "duration": 5,
    "start_time": "2023-11-12T23:12:06.156Z"
   },
   {
    "duration": 82,
    "start_time": "2023-11-12T23:12:06.162Z"
   },
   {
    "duration": 15,
    "start_time": "2023-11-12T23:12:06.245Z"
   },
   {
    "duration": 8,
    "start_time": "2023-11-12T23:12:06.261Z"
   },
   {
    "duration": 237,
    "start_time": "2023-11-12T23:12:06.270Z"
   },
   {
    "duration": 10,
    "start_time": "2023-11-12T23:12:06.509Z"
   },
   {
    "duration": 136,
    "start_time": "2023-11-12T23:12:06.522Z"
   },
   {
    "duration": 8,
    "start_time": "2023-11-12T23:12:06.659Z"
   },
   {
    "duration": 15,
    "start_time": "2023-11-12T23:12:06.668Z"
   },
   {
    "duration": 383,
    "start_time": "2023-11-12T23:12:06.685Z"
   },
   {
    "duration": 211,
    "start_time": "2023-11-12T23:12:07.069Z"
   },
   {
    "duration": 212,
    "start_time": "2023-11-12T23:12:07.282Z"
   },
   {
    "duration": 1040,
    "start_time": "2023-11-12T23:12:07.495Z"
   },
   {
    "duration": 1281,
    "start_time": "2023-11-12T23:12:08.537Z"
   },
   {
    "duration": 165,
    "start_time": "2023-11-12T23:12:09.820Z"
   },
   {
    "duration": 152,
    "start_time": "2023-11-12T23:12:09.986Z"
   },
   {
    "duration": 1382,
    "start_time": "2023-11-12T23:12:10.139Z"
   },
   {
    "duration": 402,
    "start_time": "2023-11-12T23:12:11.523Z"
   },
   {
    "duration": 4,
    "start_time": "2023-11-12T23:12:11.927Z"
   },
   {
    "duration": 15,
    "start_time": "2023-11-12T23:12:11.933Z"
   },
   {
    "duration": 18,
    "start_time": "2023-11-12T23:12:11.949Z"
   },
   {
    "duration": 12,
    "start_time": "2023-11-12T23:12:11.968Z"
   },
   {
    "duration": 19,
    "start_time": "2023-11-12T23:12:11.981Z"
   },
   {
    "duration": 21,
    "start_time": "2023-11-12T23:12:12.001Z"
   },
   {
    "duration": 17,
    "start_time": "2023-11-12T23:12:12.024Z"
   },
   {
    "duration": 18,
    "start_time": "2023-11-12T23:12:12.042Z"
   },
   {
    "duration": 108,
    "start_time": "2023-11-12T23:13:15.556Z"
   },
   {
    "duration": 4,
    "start_time": "2023-11-12T23:13:33.744Z"
   },
   {
    "duration": 75,
    "start_time": "2023-11-12T23:13:34.401Z"
   },
   {
    "duration": 4,
    "start_time": "2023-11-12T23:13:34.605Z"
   },
   {
    "duration": 3,
    "start_time": "2023-11-12T23:13:34.799Z"
   },
   {
    "duration": 4,
    "start_time": "2023-11-12T23:13:35.017Z"
   },
   {
    "duration": 12,
    "start_time": "2023-11-12T23:13:35.219Z"
   },
   {
    "duration": 5,
    "start_time": "2023-11-12T23:13:36.217Z"
   },
   {
    "duration": 5,
    "start_time": "2023-11-12T23:13:36.418Z"
   },
   {
    "duration": 10,
    "start_time": "2023-11-12T23:13:36.831Z"
   },
   {
    "duration": 4,
    "start_time": "2023-11-12T23:13:37.235Z"
   },
   {
    "duration": 6,
    "start_time": "2023-11-12T23:13:37.648Z"
   },
   {
    "duration": 14,
    "start_time": "2023-11-12T23:13:38.053Z"
   },
   {
    "duration": 7,
    "start_time": "2023-11-12T23:13:38.461Z"
   },
   {
    "duration": 4,
    "start_time": "2023-11-12T23:13:39.060Z"
   },
   {
    "duration": 19,
    "start_time": "2023-11-12T23:13:39.270Z"
   },
   {
    "duration": 13,
    "start_time": "2023-11-12T23:13:40.086Z"
   },
   {
    "duration": 7,
    "start_time": "2023-11-12T23:13:41.196Z"
   },
   {
    "duration": 16,
    "start_time": "2023-11-12T23:13:41.838Z"
   },
   {
    "duration": 7,
    "start_time": "2023-11-12T23:13:42.253Z"
   },
   {
    "duration": 17,
    "start_time": "2023-11-12T23:13:42.666Z"
   },
   {
    "duration": 12,
    "start_time": "2023-11-12T23:13:43.274Z"
   },
   {
    "duration": 6,
    "start_time": "2023-11-12T23:13:43.700Z"
   },
   {
    "duration": 43,
    "start_time": "2023-11-12T23:13:45.424Z"
   },
   {
    "duration": 15,
    "start_time": "2023-11-12T23:14:06.647Z"
   },
   {
    "duration": 42,
    "start_time": "2023-11-12T23:14:29.708Z"
   },
   {
    "duration": 17,
    "start_time": "2023-11-12T23:14:31.133Z"
   },
   {
    "duration": 41,
    "start_time": "2023-11-12T23:24:55.803Z"
   },
   {
    "duration": 15,
    "start_time": "2023-11-12T23:24:58.199Z"
   },
   {
    "duration": 40,
    "start_time": "2023-11-12T23:25:26.659Z"
   },
   {
    "duration": 14,
    "start_time": "2023-11-12T23:25:32.265Z"
   },
   {
    "duration": 38,
    "start_time": "2023-11-12T23:26:24.534Z"
   },
   {
    "duration": 15,
    "start_time": "2023-11-12T23:26:26.005Z"
   },
   {
    "duration": 19,
    "start_time": "2023-11-12T23:30:05.308Z"
   },
   {
    "duration": 1257,
    "start_time": "2023-11-12T23:30:16.976Z"
   },
   {
    "duration": 94,
    "start_time": "2023-11-12T23:30:18.235Z"
   },
   {
    "duration": 4,
    "start_time": "2023-11-12T23:30:18.331Z"
   },
   {
    "duration": 5,
    "start_time": "2023-11-12T23:30:18.336Z"
   },
   {
    "duration": 13,
    "start_time": "2023-11-12T23:30:18.342Z"
   },
   {
    "duration": 14,
    "start_time": "2023-11-12T23:30:18.356Z"
   },
   {
    "duration": 5,
    "start_time": "2023-11-12T23:30:18.371Z"
   },
   {
    "duration": 23,
    "start_time": "2023-11-12T23:30:18.377Z"
   },
   {
    "duration": 27,
    "start_time": "2023-11-12T23:30:18.402Z"
   },
   {
    "duration": 5,
    "start_time": "2023-11-12T23:30:18.433Z"
   },
   {
    "duration": 20,
    "start_time": "2023-11-12T23:30:18.440Z"
   },
   {
    "duration": 19,
    "start_time": "2023-11-12T23:30:18.462Z"
   },
   {
    "duration": 6,
    "start_time": "2023-11-12T23:30:18.482Z"
   },
   {
    "duration": 14,
    "start_time": "2023-11-12T23:30:18.499Z"
   },
   {
    "duration": 23,
    "start_time": "2023-11-12T23:30:18.514Z"
   },
   {
    "duration": 12,
    "start_time": "2023-11-12T23:30:18.539Z"
   },
   {
    "duration": 13,
    "start_time": "2023-11-12T23:30:18.552Z"
   },
   {
    "duration": 16,
    "start_time": "2023-11-12T23:30:18.566Z"
   },
   {
    "duration": 16,
    "start_time": "2023-11-12T23:30:18.583Z"
   },
   {
    "duration": 14,
    "start_time": "2023-11-12T23:30:18.600Z"
   },
   {
    "duration": 13,
    "start_time": "2023-11-12T23:30:18.616Z"
   },
   {
    "duration": 11,
    "start_time": "2023-11-12T23:30:18.631Z"
   },
   {
    "duration": 57,
    "start_time": "2023-11-12T23:30:18.643Z"
   },
   {
    "duration": 13,
    "start_time": "2023-11-12T23:30:18.701Z"
   },
   {
    "duration": 18,
    "start_time": "2023-11-12T23:30:18.715Z"
   },
   {
    "duration": 232,
    "start_time": "2023-11-12T23:30:18.735Z"
   },
   {
    "duration": 10,
    "start_time": "2023-11-12T23:30:18.969Z"
   },
   {
    "duration": 137,
    "start_time": "2023-11-12T23:30:18.982Z"
   },
   {
    "duration": 8,
    "start_time": "2023-11-12T23:30:19.121Z"
   },
   {
    "duration": 17,
    "start_time": "2023-11-12T23:30:19.130Z"
   },
   {
    "duration": 411,
    "start_time": "2023-11-12T23:30:19.151Z"
   },
   {
    "duration": 260,
    "start_time": "2023-11-12T23:30:19.563Z"
   },
   {
    "duration": 208,
    "start_time": "2023-11-12T23:30:19.824Z"
   },
   {
    "duration": 1004,
    "start_time": "2023-11-12T23:30:20.034Z"
   },
   {
    "duration": 1206,
    "start_time": "2023-11-12T23:30:21.039Z"
   },
   {
    "duration": 160,
    "start_time": "2023-11-12T23:30:22.247Z"
   },
   {
    "duration": 140,
    "start_time": "2023-11-12T23:30:22.409Z"
   },
   {
    "duration": 1458,
    "start_time": "2023-11-12T23:30:22.551Z"
   },
   {
    "duration": 391,
    "start_time": "2023-11-12T23:30:24.011Z"
   },
   {
    "duration": 4,
    "start_time": "2023-11-12T23:30:24.404Z"
   },
   {
    "duration": 21,
    "start_time": "2023-11-12T23:30:24.410Z"
   },
   {
    "duration": 48,
    "start_time": "2023-11-12T23:30:24.433Z"
   },
   {
    "duration": 27,
    "start_time": "2023-11-12T23:30:24.483Z"
   },
   {
    "duration": 30,
    "start_time": "2023-11-12T23:30:24.512Z"
   },
   {
    "duration": 29,
    "start_time": "2023-11-12T23:30:24.544Z"
   },
   {
    "duration": 33,
    "start_time": "2023-11-12T23:30:24.575Z"
   },
   {
    "duration": 25,
    "start_time": "2023-11-12T23:30:24.610Z"
   },
   {
    "duration": 3,
    "start_time": "2023-11-12T23:31:10.309Z"
   },
   {
    "duration": 82,
    "start_time": "2023-11-12T23:31:10.707Z"
   },
   {
    "duration": 3,
    "start_time": "2023-11-12T23:31:10.901Z"
   },
   {
    "duration": 3,
    "start_time": "2023-11-12T23:31:11.087Z"
   },
   {
    "duration": 4,
    "start_time": "2023-11-12T23:31:11.284Z"
   },
   {
    "duration": 12,
    "start_time": "2023-11-12T23:31:11.478Z"
   },
   {
    "duration": 5,
    "start_time": "2023-11-12T23:31:12.499Z"
   },
   {
    "duration": 5,
    "start_time": "2023-11-12T23:31:13.721Z"
   },
   {
    "duration": 9,
    "start_time": "2023-11-12T23:31:14.117Z"
   },
   {
    "duration": 5,
    "start_time": "2023-11-12T23:31:14.491Z"
   },
   {
    "duration": 7,
    "start_time": "2023-11-12T23:31:14.887Z"
   },
   {
    "duration": 15,
    "start_time": "2023-11-12T23:31:15.318Z"
   },
   {
    "duration": 6,
    "start_time": "2023-11-12T23:31:15.730Z"
   },
   {
    "duration": 4,
    "start_time": "2023-11-12T23:31:16.337Z"
   },
   {
    "duration": 20,
    "start_time": "2023-11-12T23:31:16.550Z"
   },
   {
    "duration": 14,
    "start_time": "2023-11-12T23:31:17.139Z"
   },
   {
    "duration": 7,
    "start_time": "2023-11-12T23:31:18.156Z"
   },
   {
    "duration": 24,
    "start_time": "2023-11-12T23:31:18.764Z"
   },
   {
    "duration": 9,
    "start_time": "2023-11-12T23:31:19.172Z"
   },
   {
    "duration": 22,
    "start_time": "2023-11-12T23:31:19.669Z"
   },
   {
    "duration": 13,
    "start_time": "2023-11-12T23:31:20.304Z"
   },
   {
    "duration": 4,
    "start_time": "2023-11-12T23:31:20.756Z"
   },
   {
    "duration": 40,
    "start_time": "2023-11-12T23:31:23.109Z"
   },
   {
    "duration": 16,
    "start_time": "2023-11-12T23:31:24.490Z"
   },
   {
    "duration": 12,
    "start_time": "2023-11-12T23:32:06.065Z"
   },
   {
    "duration": 12,
    "start_time": "2023-11-12T23:32:08.832Z"
   },
   {
    "duration": 15,
    "start_time": "2023-11-12T23:32:12.959Z"
   },
   {
    "duration": 4,
    "start_time": "2023-11-12T23:32:27.246Z"
   },
   {
    "duration": 71,
    "start_time": "2023-11-12T23:32:27.639Z"
   },
   {
    "duration": 4,
    "start_time": "2023-11-12T23:32:27.842Z"
   },
   {
    "duration": 3,
    "start_time": "2023-11-12T23:32:28.032Z"
   },
   {
    "duration": 4,
    "start_time": "2023-11-12T23:32:28.233Z"
   },
   {
    "duration": 11,
    "start_time": "2023-11-12T23:32:28.435Z"
   },
   {
    "duration": 5,
    "start_time": "2023-11-12T23:32:29.785Z"
   },
   {
    "duration": 6,
    "start_time": "2023-11-12T23:32:29.980Z"
   },
   {
    "duration": 10,
    "start_time": "2023-11-12T23:32:30.392Z"
   },
   {
    "duration": 5,
    "start_time": "2023-11-12T23:32:30.791Z"
   },
   {
    "duration": 6,
    "start_time": "2023-11-12T23:32:31.181Z"
   },
   {
    "duration": 13,
    "start_time": "2023-11-12T23:32:31.578Z"
   },
   {
    "duration": 8,
    "start_time": "2023-11-12T23:32:32.058Z"
   },
   {
    "duration": 4,
    "start_time": "2023-11-12T23:32:32.666Z"
   },
   {
    "duration": 19,
    "start_time": "2023-11-12T23:32:32.876Z"
   },
   {
    "duration": 15,
    "start_time": "2023-11-12T23:32:33.476Z"
   },
   {
    "duration": 6,
    "start_time": "2023-11-12T23:32:34.067Z"
   },
   {
    "duration": 16,
    "start_time": "2023-11-12T23:32:34.692Z"
   },
   {
    "duration": 6,
    "start_time": "2023-11-12T23:32:35.111Z"
   },
   {
    "duration": 14,
    "start_time": "2023-11-12T23:32:35.524Z"
   },
   {
    "duration": 13,
    "start_time": "2023-11-12T23:32:36.183Z"
   },
   {
    "duration": 4,
    "start_time": "2023-11-12T23:32:36.574Z"
   },
   {
    "duration": 38,
    "start_time": "2023-11-12T23:32:38.388Z"
   },
   {
    "duration": 127,
    "start_time": "2023-11-12T23:32:38.801Z"
   },
   {
    "duration": 20,
    "start_time": "2023-11-12T23:44:24.320Z"
   },
   {
    "duration": 16,
    "start_time": "2023-11-12T23:44:59.751Z"
   },
   {
    "duration": 3,
    "start_time": "2023-11-12T23:45:18.807Z"
   },
   {
    "duration": 120,
    "start_time": "2023-11-12T23:45:23.580Z"
   },
   {
    "duration": 4,
    "start_time": "2023-11-12T23:45:23.804Z"
   },
   {
    "duration": 4,
    "start_time": "2023-11-12T23:45:24.000Z"
   },
   {
    "duration": 5,
    "start_time": "2023-11-12T23:45:24.204Z"
   },
   {
    "duration": 13,
    "start_time": "2023-11-12T23:45:24.398Z"
   },
   {
    "duration": 6,
    "start_time": "2023-11-12T23:45:25.440Z"
   },
   {
    "duration": 5,
    "start_time": "2023-11-12T23:45:25.636Z"
   },
   {
    "duration": 10,
    "start_time": "2023-11-12T23:45:26.032Z"
   },
   {
    "duration": 5,
    "start_time": "2023-11-12T23:45:26.438Z"
   },
   {
    "duration": 6,
    "start_time": "2023-11-12T23:45:26.811Z"
   },
   {
    "duration": 16,
    "start_time": "2023-11-12T23:45:27.224Z"
   },
   {
    "duration": 10,
    "start_time": "2023-11-12T23:45:27.652Z"
   },
   {
    "duration": 4,
    "start_time": "2023-11-12T23:45:28.290Z"
   },
   {
    "duration": 21,
    "start_time": "2023-11-12T23:45:28.495Z"
   },
   {
    "duration": 12,
    "start_time": "2023-11-12T23:45:29.115Z"
   },
   {
    "duration": 7,
    "start_time": "2023-11-12T23:45:30.364Z"
   },
   {
    "duration": 43,
    "start_time": "2023-11-12T23:45:30.376Z"
   },
   {
    "duration": 7,
    "start_time": "2023-11-12T23:45:30.811Z"
   },
   {
    "duration": 16,
    "start_time": "2023-11-12T23:45:31.229Z"
   },
   {
    "duration": 13,
    "start_time": "2023-11-12T23:45:31.891Z"
   },
   {
    "duration": 5,
    "start_time": "2023-11-12T23:45:32.317Z"
   },
   {
    "duration": 47,
    "start_time": "2023-11-12T23:45:34.050Z"
   },
   {
    "duration": 19,
    "start_time": "2023-11-12T23:45:34.486Z"
   },
   {
    "duration": 14,
    "start_time": "2023-11-12T23:45:58.855Z"
   },
   {
    "duration": 14,
    "start_time": "2023-11-12T23:46:18.560Z"
   },
   {
    "duration": 1172,
    "start_time": "2023-11-12T23:46:24.221Z"
   },
   {
    "duration": 88,
    "start_time": "2023-11-12T23:46:25.395Z"
   },
   {
    "duration": 4,
    "start_time": "2023-11-12T23:46:25.484Z"
   },
   {
    "duration": 4,
    "start_time": "2023-11-12T23:46:25.489Z"
   },
   {
    "duration": 15,
    "start_time": "2023-11-12T23:46:25.494Z"
   },
   {
    "duration": 11,
    "start_time": "2023-11-12T23:46:25.511Z"
   },
   {
    "duration": 4,
    "start_time": "2023-11-12T23:46:25.523Z"
   },
   {
    "duration": 10,
    "start_time": "2023-11-12T23:46:25.529Z"
   },
   {
    "duration": 18,
    "start_time": "2023-11-12T23:46:25.540Z"
   },
   {
    "duration": 3,
    "start_time": "2023-11-12T23:46:25.560Z"
   },
   {
    "duration": 5,
    "start_time": "2023-11-12T23:46:25.565Z"
   },
   {
    "duration": 12,
    "start_time": "2023-11-12T23:46:25.572Z"
   },
   {
    "duration": 17,
    "start_time": "2023-11-12T23:46:25.585Z"
   },
   {
    "duration": 3,
    "start_time": "2023-11-12T23:46:25.603Z"
   },
   {
    "duration": 19,
    "start_time": "2023-11-12T23:46:25.608Z"
   },
   {
    "duration": 11,
    "start_time": "2023-11-12T23:46:25.628Z"
   },
   {
    "duration": 6,
    "start_time": "2023-11-12T23:46:25.640Z"
   },
   {
    "duration": 19,
    "start_time": "2023-11-12T23:46:25.647Z"
   },
   {
    "duration": 34,
    "start_time": "2023-11-12T23:46:25.667Z"
   },
   {
    "duration": 18,
    "start_time": "2023-11-12T23:46:25.702Z"
   },
   {
    "duration": 12,
    "start_time": "2023-11-12T23:46:25.722Z"
   },
   {
    "duration": 4,
    "start_time": "2023-11-12T23:46:25.735Z"
   },
   {
    "duration": 65,
    "start_time": "2023-11-12T23:46:25.740Z"
   },
   {
    "duration": 111,
    "start_time": "2023-11-12T23:46:25.806Z"
   },
   {
    "duration": 0,
    "start_time": "2023-11-12T23:46:25.919Z"
   },
   {
    "duration": 0,
    "start_time": "2023-11-12T23:46:25.920Z"
   },
   {
    "duration": 0,
    "start_time": "2023-11-12T23:46:25.921Z"
   },
   {
    "duration": 0,
    "start_time": "2023-11-12T23:46:25.923Z"
   },
   {
    "duration": 0,
    "start_time": "2023-11-12T23:46:25.924Z"
   },
   {
    "duration": 0,
    "start_time": "2023-11-12T23:46:25.925Z"
   },
   {
    "duration": 0,
    "start_time": "2023-11-12T23:46:25.926Z"
   },
   {
    "duration": 0,
    "start_time": "2023-11-12T23:46:25.927Z"
   },
   {
    "duration": 0,
    "start_time": "2023-11-12T23:46:25.928Z"
   },
   {
    "duration": 0,
    "start_time": "2023-11-12T23:46:25.929Z"
   },
   {
    "duration": 0,
    "start_time": "2023-11-12T23:46:25.930Z"
   },
   {
    "duration": 0,
    "start_time": "2023-11-12T23:46:25.931Z"
   },
   {
    "duration": 0,
    "start_time": "2023-11-12T23:46:25.932Z"
   },
   {
    "duration": 0,
    "start_time": "2023-11-12T23:46:25.932Z"
   },
   {
    "duration": 0,
    "start_time": "2023-11-12T23:46:25.933Z"
   },
   {
    "duration": 0,
    "start_time": "2023-11-12T23:46:25.934Z"
   },
   {
    "duration": 0,
    "start_time": "2023-11-12T23:46:25.935Z"
   },
   {
    "duration": 0,
    "start_time": "2023-11-12T23:46:25.936Z"
   },
   {
    "duration": 0,
    "start_time": "2023-11-12T23:46:25.937Z"
   },
   {
    "duration": 0,
    "start_time": "2023-11-12T23:46:25.938Z"
   },
   {
    "duration": 0,
    "start_time": "2023-11-12T23:46:25.938Z"
   },
   {
    "duration": 0,
    "start_time": "2023-11-12T23:46:25.939Z"
   },
   {
    "duration": 0,
    "start_time": "2023-11-12T23:46:25.940Z"
   },
   {
    "duration": 4,
    "start_time": "2023-11-12T23:46:35.694Z"
   },
   {
    "duration": 84,
    "start_time": "2023-11-12T23:46:36.191Z"
   },
   {
    "duration": 3,
    "start_time": "2023-11-12T23:46:36.392Z"
   },
   {
    "duration": 3,
    "start_time": "2023-11-12T23:46:36.587Z"
   },
   {
    "duration": 3,
    "start_time": "2023-11-12T23:46:36.776Z"
   },
   {
    "duration": 12,
    "start_time": "2023-11-12T23:46:36.976Z"
   },
   {
    "duration": 4,
    "start_time": "2023-11-12T23:46:39.414Z"
   },
   {
    "duration": 4,
    "start_time": "2023-11-12T23:46:39.650Z"
   },
   {
    "duration": 9,
    "start_time": "2023-11-12T23:46:40.082Z"
   },
   {
    "duration": 5,
    "start_time": "2023-11-12T23:46:40.479Z"
   },
   {
    "duration": 7,
    "start_time": "2023-11-12T23:46:40.876Z"
   },
   {
    "duration": 16,
    "start_time": "2023-11-12T23:46:41.281Z"
   },
   {
    "duration": 6,
    "start_time": "2023-11-12T23:46:41.696Z"
   },
   {
    "duration": 5,
    "start_time": "2023-11-12T23:46:42.316Z"
   },
   {
    "duration": 22,
    "start_time": "2023-11-12T23:46:42.519Z"
   },
   {
    "duration": 12,
    "start_time": "2023-11-12T23:46:43.150Z"
   },
   {
    "duration": 6,
    "start_time": "2023-11-12T23:46:43.778Z"
   },
   {
    "duration": 17,
    "start_time": "2023-11-12T23:46:44.493Z"
   },
   {
    "duration": 7,
    "start_time": "2023-11-12T23:46:44.936Z"
   },
   {
    "duration": 15,
    "start_time": "2023-11-12T23:46:45.376Z"
   },
   {
    "duration": 12,
    "start_time": "2023-11-12T23:46:46.052Z"
   },
   {
    "duration": 4,
    "start_time": "2023-11-12T23:46:46.508Z"
   },
   {
    "duration": 38,
    "start_time": "2023-11-12T23:46:49.178Z"
   },
   {
    "duration": 20,
    "start_time": "2023-11-12T23:46:49.682Z"
   },
   {
    "duration": 14,
    "start_time": "2023-11-12T23:47:08.824Z"
   },
   {
    "duration": 14,
    "start_time": "2023-11-12T23:47:19.480Z"
   },
   {
    "duration": 1187,
    "start_time": "2023-11-12T23:47:31.421Z"
   },
   {
    "duration": 102,
    "start_time": "2023-11-12T23:47:32.610Z"
   },
   {
    "duration": 3,
    "start_time": "2023-11-12T23:47:32.713Z"
   },
   {
    "duration": 20,
    "start_time": "2023-11-12T23:47:32.718Z"
   },
   {
    "duration": 16,
    "start_time": "2023-11-12T23:47:32.739Z"
   },
   {
    "duration": 12,
    "start_time": "2023-11-12T23:47:32.757Z"
   },
   {
    "duration": 6,
    "start_time": "2023-11-12T23:47:32.771Z"
   },
   {
    "duration": 5,
    "start_time": "2023-11-12T23:47:32.779Z"
   },
   {
    "duration": 19,
    "start_time": "2023-11-12T23:47:32.785Z"
   },
   {
    "duration": 5,
    "start_time": "2023-11-12T23:47:32.806Z"
   },
   {
    "duration": 18,
    "start_time": "2023-11-12T23:47:32.812Z"
   },
   {
    "duration": 13,
    "start_time": "2023-11-12T23:47:32.831Z"
   },
   {
    "duration": 5,
    "start_time": "2023-11-12T23:47:32.845Z"
   },
   {
    "duration": 4,
    "start_time": "2023-11-12T23:47:32.852Z"
   },
   {
    "duration": 38,
    "start_time": "2023-11-12T23:47:32.857Z"
   },
   {
    "duration": 13,
    "start_time": "2023-11-12T23:47:32.899Z"
   },
   {
    "duration": 6,
    "start_time": "2023-11-12T23:47:32.913Z"
   },
   {
    "duration": 15,
    "start_time": "2023-11-12T23:47:32.921Z"
   },
   {
    "duration": 6,
    "start_time": "2023-11-12T23:47:32.937Z"
   },
   {
    "duration": 16,
    "start_time": "2023-11-12T23:47:32.944Z"
   },
   {
    "duration": 47,
    "start_time": "2023-11-12T23:47:32.961Z"
   },
   {
    "duration": 5,
    "start_time": "2023-11-12T23:47:33.010Z"
   },
   {
    "duration": 43,
    "start_time": "2023-11-12T23:47:33.017Z"
   },
   {
    "duration": 127,
    "start_time": "2023-11-12T23:47:33.062Z"
   },
   {
    "duration": 0,
    "start_time": "2023-11-12T23:47:33.191Z"
   },
   {
    "duration": 0,
    "start_time": "2023-11-12T23:47:33.192Z"
   },
   {
    "duration": 0,
    "start_time": "2023-11-12T23:47:33.193Z"
   },
   {
    "duration": 0,
    "start_time": "2023-11-12T23:47:33.198Z"
   },
   {
    "duration": 0,
    "start_time": "2023-11-12T23:47:33.199Z"
   },
   {
    "duration": 0,
    "start_time": "2023-11-12T23:47:33.202Z"
   },
   {
    "duration": 0,
    "start_time": "2023-11-12T23:47:33.203Z"
   },
   {
    "duration": 0,
    "start_time": "2023-11-12T23:47:33.203Z"
   },
   {
    "duration": 0,
    "start_time": "2023-11-12T23:47:33.204Z"
   },
   {
    "duration": 0,
    "start_time": "2023-11-12T23:47:33.205Z"
   },
   {
    "duration": 0,
    "start_time": "2023-11-12T23:47:33.206Z"
   },
   {
    "duration": 0,
    "start_time": "2023-11-12T23:47:33.208Z"
   },
   {
    "duration": 0,
    "start_time": "2023-11-12T23:47:33.209Z"
   },
   {
    "duration": 0,
    "start_time": "2023-11-12T23:47:33.210Z"
   },
   {
    "duration": 0,
    "start_time": "2023-11-12T23:47:33.211Z"
   },
   {
    "duration": 0,
    "start_time": "2023-11-12T23:47:33.212Z"
   },
   {
    "duration": 0,
    "start_time": "2023-11-12T23:47:33.213Z"
   },
   {
    "duration": 1,
    "start_time": "2023-11-12T23:47:33.213Z"
   },
   {
    "duration": 0,
    "start_time": "2023-11-12T23:47:33.214Z"
   },
   {
    "duration": 0,
    "start_time": "2023-11-12T23:47:33.216Z"
   },
   {
    "duration": 0,
    "start_time": "2023-11-12T23:47:33.217Z"
   },
   {
    "duration": 0,
    "start_time": "2023-11-12T23:47:33.217Z"
   },
   {
    "duration": 0,
    "start_time": "2023-11-12T23:47:33.218Z"
   },
   {
    "duration": 3,
    "start_time": "2023-11-12T23:47:40.438Z"
   },
   {
    "duration": 66,
    "start_time": "2023-11-12T23:47:40.837Z"
   },
   {
    "duration": 3,
    "start_time": "2023-11-12T23:47:41.046Z"
   },
   {
    "duration": 2,
    "start_time": "2023-11-12T23:47:41.230Z"
   },
   {
    "duration": 3,
    "start_time": "2023-11-12T23:47:41.427Z"
   },
   {
    "duration": 10,
    "start_time": "2023-11-12T23:47:41.638Z"
   },
   {
    "duration": 4,
    "start_time": "2023-11-12T23:47:42.704Z"
   },
   {
    "duration": 5,
    "start_time": "2023-11-12T23:47:42.923Z"
   },
   {
    "duration": 9,
    "start_time": "2023-11-12T23:47:43.370Z"
   },
   {
    "duration": 4,
    "start_time": "2023-11-12T23:47:43.792Z"
   },
   {
    "duration": 6,
    "start_time": "2023-11-12T23:47:44.233Z"
   },
   {
    "duration": 13,
    "start_time": "2023-11-12T23:47:44.676Z"
   },
   {
    "duration": 6,
    "start_time": "2023-11-12T23:47:45.088Z"
   },
   {
    "duration": 4,
    "start_time": "2023-11-12T23:47:45.763Z"
   },
   {
    "duration": 20,
    "start_time": "2023-11-12T23:47:46.001Z"
   },
   {
    "duration": 13,
    "start_time": "2023-11-12T23:47:46.667Z"
   },
   {
    "duration": 6,
    "start_time": "2023-11-12T23:47:47.320Z"
   },
   {
    "duration": 17,
    "start_time": "2023-11-12T23:47:47.986Z"
   },
   {
    "duration": 6,
    "start_time": "2023-11-12T23:47:48.437Z"
   },
   {
    "duration": 16,
    "start_time": "2023-11-12T23:47:48.886Z"
   },
   {
    "duration": 12,
    "start_time": "2023-11-12T23:47:49.531Z"
   },
   {
    "duration": 5,
    "start_time": "2023-11-12T23:47:49.989Z"
   },
   {
    "duration": 38,
    "start_time": "2023-11-12T23:47:51.850Z"
   },
   {
    "duration": 24,
    "start_time": "2023-11-12T23:47:52.291Z"
   },
   {
    "duration": 15,
    "start_time": "2023-11-12T23:48:36.045Z"
   },
   {
    "duration": 4,
    "start_time": "2023-11-12T23:55:02.075Z"
   },
   {
    "duration": 76,
    "start_time": "2023-11-12T23:55:02.446Z"
   },
   {
    "duration": 3,
    "start_time": "2023-11-12T23:55:02.639Z"
   },
   {
    "duration": 3,
    "start_time": "2023-11-12T23:55:02.821Z"
   },
   {
    "duration": 4,
    "start_time": "2023-11-12T23:55:03.009Z"
   },
   {
    "duration": 11,
    "start_time": "2023-11-12T23:55:03.195Z"
   },
   {
    "duration": 5,
    "start_time": "2023-11-12T23:55:04.203Z"
   },
   {
    "duration": 5,
    "start_time": "2023-11-12T23:55:04.404Z"
   },
   {
    "duration": 11,
    "start_time": "2023-11-12T23:55:04.791Z"
   },
   {
    "duration": 5,
    "start_time": "2023-11-12T23:55:05.183Z"
   },
   {
    "duration": 7,
    "start_time": "2023-11-12T23:55:05.618Z"
   },
   {
    "duration": 16,
    "start_time": "2023-11-12T23:55:06.031Z"
   },
   {
    "duration": 7,
    "start_time": "2023-11-12T23:55:06.421Z"
   },
   {
    "duration": 4,
    "start_time": "2023-11-12T23:55:07.051Z"
   },
   {
    "duration": 20,
    "start_time": "2023-11-12T23:55:07.266Z"
   },
   {
    "duration": 13,
    "start_time": "2023-11-12T23:55:07.884Z"
   },
   {
    "duration": 8,
    "start_time": "2023-11-12T23:55:08.498Z"
   },
   {
    "duration": 25,
    "start_time": "2023-11-12T23:55:09.139Z"
   },
   {
    "duration": 8,
    "start_time": "2023-11-12T23:55:09.556Z"
   },
   {
    "duration": 21,
    "start_time": "2023-11-12T23:55:09.992Z"
   },
   {
    "duration": 13,
    "start_time": "2023-11-12T23:55:10.619Z"
   },
   {
    "duration": 4,
    "start_time": "2023-11-12T23:55:11.071Z"
   },
   {
    "duration": 38,
    "start_time": "2023-11-12T23:55:12.834Z"
   },
   {
    "duration": 15,
    "start_time": "2023-11-12T23:55:13.313Z"
   },
   {
    "duration": 7,
    "start_time": "2023-11-12T23:55:15.069Z"
   },
   {
    "duration": 223,
    "start_time": "2023-11-12T23:55:15.490Z"
   },
   {
    "duration": 13,
    "start_time": "2023-11-12T23:55:16.142Z"
   },
   {
    "duration": 116,
    "start_time": "2023-11-12T23:55:16.366Z"
   },
   {
    "duration": 7,
    "start_time": "2023-11-12T23:55:16.808Z"
   },
   {
    "duration": 16,
    "start_time": "2023-11-12T23:55:17.857Z"
   },
   {
    "duration": 381,
    "start_time": "2023-11-12T23:55:18.279Z"
   },
   {
    "duration": 209,
    "start_time": "2023-11-12T23:55:19.329Z"
   },
   {
    "duration": 212,
    "start_time": "2023-11-12T23:55:19.741Z"
   },
   {
    "duration": 986,
    "start_time": "2023-11-12T23:55:20.165Z"
   },
   {
    "duration": 1222,
    "start_time": "2023-11-12T23:55:21.469Z"
   },
   {
    "duration": 141,
    "start_time": "2023-11-12T23:55:22.699Z"
   },
   {
    "duration": 150,
    "start_time": "2023-11-12T23:55:22.842Z"
   },
   {
    "duration": 1431,
    "start_time": "2023-11-12T23:55:22.994Z"
   },
   {
    "duration": 412,
    "start_time": "2023-11-12T23:55:24.427Z"
   },
   {
    "duration": 4,
    "start_time": "2023-11-12T23:55:24.840Z"
   },
   {
    "duration": 5,
    "start_time": "2023-11-12T23:55:24.846Z"
   },
   {
    "duration": 7,
    "start_time": "2023-11-12T23:55:24.986Z"
   },
   {
    "duration": 12,
    "start_time": "2023-11-12T23:55:25.634Z"
   },
   {
    "duration": 8,
    "start_time": "2023-11-12T23:55:26.066Z"
   },
   {
    "duration": 21,
    "start_time": "2023-11-12T23:55:27.152Z"
   },
   {
    "duration": 20,
    "start_time": "2023-11-12T23:55:27.571Z"
   },
   {
    "duration": 20,
    "start_time": "2023-11-12T23:55:27.992Z"
   },
   {
    "duration": 1768,
    "start_time": "2023-11-13T11:26:44.163Z"
   },
   {
    "duration": 120,
    "start_time": "2023-11-13T11:26:45.934Z"
   },
   {
    "duration": 3,
    "start_time": "2023-11-13T11:26:46.056Z"
   },
   {
    "duration": 16,
    "start_time": "2023-11-13T11:26:46.060Z"
   },
   {
    "duration": 6,
    "start_time": "2023-11-13T11:26:46.077Z"
   },
   {
    "duration": 36,
    "start_time": "2023-11-13T11:26:46.085Z"
   },
   {
    "duration": 5,
    "start_time": "2023-11-13T11:26:46.123Z"
   },
   {
    "duration": 6,
    "start_time": "2023-11-13T11:26:46.129Z"
   },
   {
    "duration": 13,
    "start_time": "2023-11-13T11:26:46.136Z"
   },
   {
    "duration": 7,
    "start_time": "2023-11-13T11:26:46.151Z"
   },
   {
    "duration": 8,
    "start_time": "2023-11-13T11:26:46.159Z"
   },
   {
    "duration": 53,
    "start_time": "2023-11-13T11:26:46.168Z"
   },
   {
    "duration": 6,
    "start_time": "2023-11-13T11:26:46.223Z"
   },
   {
    "duration": 5,
    "start_time": "2023-11-13T11:26:46.231Z"
   },
   {
    "duration": 30,
    "start_time": "2023-11-13T11:26:46.237Z"
   },
   {
    "duration": 12,
    "start_time": "2023-11-13T11:26:46.269Z"
   },
   {
    "duration": 7,
    "start_time": "2023-11-13T11:26:46.283Z"
   },
   {
    "duration": 20,
    "start_time": "2023-11-13T11:26:46.310Z"
   },
   {
    "duration": 6,
    "start_time": "2023-11-13T11:26:46.332Z"
   },
   {
    "duration": 15,
    "start_time": "2023-11-13T11:26:46.340Z"
   },
   {
    "duration": 13,
    "start_time": "2023-11-13T11:26:46.356Z"
   },
   {
    "duration": 7,
    "start_time": "2023-11-13T11:26:46.370Z"
   },
   {
    "duration": 73,
    "start_time": "2023-11-13T11:26:46.378Z"
   },
   {
    "duration": 13,
    "start_time": "2023-11-13T11:26:46.453Z"
   },
   {
    "duration": 6,
    "start_time": "2023-11-13T11:26:46.468Z"
   },
   {
    "duration": 269,
    "start_time": "2023-11-13T11:26:46.475Z"
   },
   {
    "duration": 11,
    "start_time": "2023-11-13T11:26:46.745Z"
   },
   {
    "duration": 152,
    "start_time": "2023-11-13T11:26:46.759Z"
   },
   {
    "duration": 8,
    "start_time": "2023-11-13T11:26:46.913Z"
   },
   {
    "duration": 27,
    "start_time": "2023-11-13T11:26:46.924Z"
   },
   {
    "duration": 430,
    "start_time": "2023-11-13T11:26:46.953Z"
   },
   {
    "duration": 238,
    "start_time": "2023-11-13T11:26:47.385Z"
   },
   {
    "duration": 243,
    "start_time": "2023-11-13T11:26:47.625Z"
   },
   {
    "duration": 1104,
    "start_time": "2023-11-13T11:26:47.870Z"
   },
   {
    "duration": 1341,
    "start_time": "2023-11-13T11:26:48.976Z"
   },
   {
    "duration": 166,
    "start_time": "2023-11-13T11:26:50.318Z"
   },
   {
    "duration": 154,
    "start_time": "2023-11-13T11:26:50.485Z"
   },
   {
    "duration": 1532,
    "start_time": "2023-11-13T11:26:50.641Z"
   },
   {
    "duration": 445,
    "start_time": "2023-11-13T11:26:52.175Z"
   },
   {
    "duration": 5,
    "start_time": "2023-11-13T11:26:52.622Z"
   },
   {
    "duration": 10,
    "start_time": "2023-11-13T11:26:52.628Z"
   },
   {
    "duration": 8,
    "start_time": "2023-11-13T11:26:52.639Z"
   },
   {
    "duration": 16,
    "start_time": "2023-11-13T11:26:52.649Z"
   },
   {
    "duration": 11,
    "start_time": "2023-11-13T11:26:52.667Z"
   },
   {
    "duration": 31,
    "start_time": "2023-11-13T11:26:52.700Z"
   },
   {
    "duration": 19,
    "start_time": "2023-11-13T11:26:52.733Z"
   },
   {
    "duration": 17,
    "start_time": "2023-11-13T11:26:52.754Z"
   }
  ],
  "kernelspec": {
   "display_name": "Python 3 (ipykernel)",
   "language": "python",
   "name": "python3"
  },
  "language_info": {
   "codemirror_mode": {
    "name": "ipython",
    "version": 3
   },
   "file_extension": ".py",
   "mimetype": "text/x-python",
   "name": "python",
   "nbconvert_exporter": "python",
   "pygments_lexer": "ipython3",
   "version": "3.11.4"
  },
  "toc": {
   "base_numbering": 1,
   "nav_menu": {},
   "number_sections": true,
   "sideBar": true,
   "skip_h1_title": true,
   "title_cell": "Table of Contents",
   "title_sidebar": "Contents",
   "toc_cell": false,
   "toc_position": {
    "height": "calc(100% - 180px)",
    "left": "10px",
    "top": "150px",
    "width": "257.875px"
   },
   "toc_section_display": true,
   "toc_window_display": false
  }
 },
 "nbformat": 4,
 "nbformat_minor": 2
}
